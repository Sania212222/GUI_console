{
  "cells": [
    {
      "cell_type": "markdown",
      "metadata": {
        "id": "avYU_2e2aKQr"
      },
      "source": [
        "# Char-based text generation with LSTM"
      ]
    },
    {
      "cell_type": "code",
      "execution_count": 4,
      "metadata": {
        "id": "K-6Laiy_aKQt"
      },
      "outputs": [],
      "source": [
        "from collections import Counter\n",
        "\n",
        "import torch\n",
        "import torch.nn as nn\n",
        "import torch.nn.functional as F\n",
        "import numpy as np\n",
        "from tqdm import tqdm"
      ]
    },
    {
      "cell_type": "code",
      "execution_count": 5,
      "metadata": {
        "colab": {
          "base_uri": "https://localhost:8080/"
        },
        "id": "f13ZqjejaKQv",
        "outputId": "b1a2dae1-932a-4935-d0a3-7ba31763f604"
      },
      "outputs": [
        {
          "output_type": "stream",
          "name": "stdout",
          "text": [
            "[' ', 'e', 'a', 't', 'i', 'n', 'o', 'r', 's', 'h', 'l', 'd', 'c', 'u', 'm', 'p', 'f', 'g', 'y', 'b', 'w', ',', '.', 'v', 'k', '0', 'S', '1', 'A', 'T', 'C', 'I', '2', '-', 'P', 'x', 'M', 'B', '9', 'R', '\"', 'N', 'E', 'O', 'D', 'H', 'G', 'L', 'F', '5', '3', 'z', '8', 'V', '7', \"'\", '4', 'W', '6', 'q', 'j', ':', 'U', 'J', 'K', ';', '\\n', 'Z', 'Y', 'X', 'Q', '_', '?', '!', '<', '>']\n"
          ]
        }
      ],
      "source": [
        "TRAIN_TEXT_FILE_PATH = 'train_text.txt'\n",
        "\n",
        "with open(TRAIN_TEXT_FILE_PATH) as text_file:\n",
        "    text_sample = text_file.readlines()\n",
        "text_sample = ' '.join(text_sample)\n",
        "\n",
        "def text_to_seq(text_sample):\n",
        "    char_counts = Counter(text_sample)\n",
        "    char_counts = sorted(char_counts.items(), key = lambda x: x[1], reverse=True)\n",
        "\n",
        "    sorted_chars = [char for char, _ in char_counts]\n",
        "    print(sorted_chars)\n",
        "    char_to_idx = {char: index for index, char in enumerate(sorted_chars)}\n",
        "    idx_to_char = {v: k for k, v in char_to_idx.items()}\n",
        "    sequence = np.array([char_to_idx[char] for char in text_sample])\n",
        "\n",
        "    return sequence, char_to_idx, idx_to_char\n",
        "\n",
        "sequence, char_to_idx, idx_to_char = text_to_seq(text_sample)"
      ]
    },
    {
      "cell_type": "code",
      "execution_count": 6,
      "metadata": {
        "id": "Ml08BqK-aKQv"
      },
      "outputs": [],
      "source": [
        "SEQ_LEN = 256\n",
        "BATCH_SIZE = 16\n",
        "\n",
        "def get_batch(sequence):\n",
        "    trains = []\n",
        "    targets = []\n",
        "    for _ in range(BATCH_SIZE):\n",
        "        batch_start = np.random.randint(0, len(sequence) - SEQ_LEN)\n",
        "        chunk = sequence[batch_start: batch_start + SEQ_LEN]\n",
        "        train = torch.LongTensor(chunk[:-1]).view(-1, 1)\n",
        "        target = torch.LongTensor(chunk[1:]).view(-1, 1)\n",
        "        trains.append(train)\n",
        "        targets.append(target)\n",
        "    return torch.stack(trains, dim=0), torch.stack(targets, dim=0)"
      ]
    },
    {
      "cell_type": "code",
      "execution_count": 7,
      "metadata": {
        "id": "qgyp4KrXaKQw"
      },
      "outputs": [],
      "source": [
        "def evaluate(model, char_to_idx, idx_to_char, start_text=' ', prediction_len=200, temp=0.3):\n",
        "    hidden = model.init_hidden()\n",
        "    idx_input = [char_to_idx[char] for char in start_text]\n",
        "    train = torch.LongTensor(idx_input).view(-1, 1, 1).to(device)\n",
        "    predicted_text = start_text\n",
        "\n",
        "    _, hidden = model(train, hidden)\n",
        "\n",
        "    inp = train[-1].view(-1, 1, 1)\n",
        "\n",
        "    for i in tqdm(range(prediction_len)):\n",
        "        output, hidden = model(inp.to(device), hidden)\n",
        "        output_logits = output.cpu().data.view(-1)\n",
        "        p_next = F.softmax(output_logits / temp, dim=-1).detach().cpu().data.numpy()\n",
        "        top_index = np.random.choice(len(char_to_idx), p=p_next)\n",
        "        inp = torch.LongTensor([top_index]).view(-1, 1, 1).to(device)\n",
        "        predicted_char = idx_to_char[top_index]\n",
        "        predicted_text += predicted_char\n",
        "\n",
        "    return predicted_text"
      ]
    },
    {
      "cell_type": "code",
      "execution_count": 8,
      "metadata": {
        "id": "U3iLgS30aKQx"
      },
      "outputs": [],
      "source": [
        "class TextRNN(nn.Module):\n",
        "\n",
        "    def __init__(self, input_size, hidden_size, embedding_size, n_layers=1):\n",
        "        super(TextRNN, self).__init__()\n",
        "\n",
        "        self.input_size = input_size\n",
        "        self.hidden_size = hidden_size\n",
        "        self.embedding_size = embedding_size\n",
        "        self.n_layers = n_layers\n",
        "\n",
        "        self.encoder = nn.Embedding(self.input_size, self.embedding_size)\n",
        "        self.lstm = nn.LSTM(self.embedding_size, self.hidden_size, self.n_layers)\n",
        "        self.dropout = nn.Dropout(0.2)\n",
        "        self.fc = nn.Linear(self.hidden_size, self.input_size)\n",
        "\n",
        "    def forward(self, x, hidden):\n",
        "        x = self.encoder(x).squeeze(2)\n",
        "        out, (ht1, ct1) = self.lstm(x, hidden)\n",
        "        out = self.dropout(out)\n",
        "        x = self.fc(out)\n",
        "        return x, (ht1, ct1)\n",
        "\n",
        "    def init_hidden(self, batch_size=1):\n",
        "        return (torch.zeros(self.n_layers, batch_size, self.hidden_size, requires_grad=True).to(device),\n",
        "               torch.zeros(self.n_layers, batch_size, self.hidden_size, requires_grad=True).to(device))"
      ]
    },
    {
      "cell_type": "code",
      "execution_count": 9,
      "metadata": {
        "colab": {
          "base_uri": "https://localhost:8080/"
        },
        "id": "X3v78QejaKQx",
        "outputId": "df3a62cb-4f00-4ba9-9d0b-a1ca379ffe43"
      },
      "outputs": [
        {
          "output_type": "stream",
          "name": "stderr",
          "text": [
            "/usr/local/lib/python3.11/dist-packages/torch/optim/lr_scheduler.py:62: UserWarning: The verbose parameter is deprecated. Please use get_last_lr() to access the learning rate.\n",
            "  warnings.warn(\n",
            "  0%|          | 46/50000 [00:01<13:28, 61.79it/s]"
          ]
        },
        {
          "output_type": "stream",
          "name": "stdout",
          "text": [
            "Loss: 2.848782720565796\n"
          ]
        },
        {
          "output_type": "stream",
          "name": "stderr",
          "text": [
            "\n",
            "  0%|          | 0/200 [00:00<?, ?it/s]\u001b[A\n",
            "100%|██████████| 200/200 [00:00<00:00, 1141.08it/s]\n",
            "  0%|          | 73/50000 [00:01<11:56, 69.64it/s]"
          ]
        },
        {
          "output_type": "stream",
          "name": "stdout",
          "text": [
            " the and the of the and the the to the and the the the the the the coring the the of the corpor the the the the the of cortate in the the of of the the the the prered poral in the and corthe of in the \n"
          ]
        },
        {
          "output_type": "stream",
          "name": "stderr",
          "text": [
            "\r  0%|          | 89/50000 [00:01<09:30, 87.43it/s]"
          ]
        },
        {
          "output_type": "stream",
          "name": "stdout",
          "text": [
            "Loss: 2.247396697998047\n"
          ]
        },
        {
          "output_type": "stream",
          "name": "stderr",
          "text": [
            "\n",
            "  0%|          | 0/200 [00:00<?, ?it/s]\u001b[A\n",
            "100%|██████████| 200/200 [00:00<00:00, 1434.29it/s]\n",
            "  0%|          | 102/50000 [00:02<11:05, 74.98it/s]"
          ]
        },
        {
          "output_type": "stream",
          "name": "stdout",
          "text": [
            " mare into the monice and the the sumphing the mathe station of the the the is comples and in the the of the the mathe the the the of the beconen of the manach of the promes and and and the in the the \n"
          ]
        },
        {
          "output_type": "stream",
          "name": "stderr",
          "text": [
            "  0%|          | 148/50000 [00:02<07:17, 113.90it/s]"
          ]
        },
        {
          "output_type": "stream",
          "name": "stdout",
          "text": [
            "Loss: 2.06822523355484\n"
          ]
        },
        {
          "output_type": "stream",
          "name": "stderr",
          "text": [
            "\n",
            "  0%|          | 0/200 [00:00<?, ?it/s]\u001b[A\n",
            "100%|██████████| 200/200 [00:00<00:00, 1445.38it/s]\n"
          ]
        },
        {
          "output_type": "stream",
          "name": "stdout",
          "text": [
            " of the section the the and the and the generate of the section of the computer and contration the Gare and section of the and the section and of the for the the of the the companical the of the allect\n"
          ]
        },
        {
          "output_type": "stream",
          "name": "stderr",
          "text": [
            "  0%|          | 193/50000 [00:02<07:22, 112.66it/s]"
          ]
        },
        {
          "output_type": "stream",
          "name": "stdout",
          "text": [
            "Loss: 1.9426872086524964\n"
          ]
        },
        {
          "output_type": "stream",
          "name": "stderr",
          "text": [
            "\n",
            "  0%|          | 0/200 [00:00<?, ?it/s]\u001b[A\n",
            "100%|██████████| 200/200 [00:00<00:00, 1186.17it/s]"
          ]
        },
        {
          "output_type": "stream",
          "name": "stdout",
          "text": [
            " of the concentic and the that section of the first of the the signication of the of the concended in the the the production of the concers in the of the discond and the deconder that a mon the locente\n"
          ]
        },
        {
          "output_type": "stream",
          "name": "stderr",
          "text": [
            "\n",
            "  0%|          | 235/50000 [00:03<07:51, 105.65it/s]"
          ]
        },
        {
          "output_type": "stream",
          "name": "stdout",
          "text": [
            "Loss: 1.8860480165481568\n"
          ]
        },
        {
          "output_type": "stream",
          "name": "stderr",
          "text": [
            "\n",
            "  0%|          | 0/200 [00:00<?, ?it/s]\u001b[A\n",
            "100%|██████████| 200/200 [00:00<00:00, 1584.35it/s]\n",
            "  0%|          | 250/50000 [00:03<09:26, 87.80it/s] "
          ]
        },
        {
          "output_type": "stream",
          "name": "stdout",
          "text": [
            " as a species and the development the compania and and a section and the election of the fintion of the secent of the all the strese to the secent and and the perout and the state and the state to the \n"
          ]
        },
        {
          "output_type": "stream",
          "name": "stderr",
          "text": [
            "  1%|          | 284/50000 [00:03<06:59, 118.54it/s]"
          ]
        },
        {
          "output_type": "stream",
          "name": "stdout",
          "text": [
            "Loss: 1.8248928523063659\n"
          ]
        },
        {
          "output_type": "stream",
          "name": "stderr",
          "text": [
            "\n",
            "  0%|          | 0/200 [00:00<?, ?it/s]\u001b[A\n",
            "100%|██████████| 200/200 [00:00<00:00, 1684.90it/s]\n",
            "  1%|          | 300/50000 [00:04<08:20, 99.33it/s] "
          ]
        },
        {
          "output_type": "stream",
          "name": "stdout",
          "text": [
            " of the production of the secient the section of the to include and the seen to a section and the constriction of the contress and the set in the symbers of the production of the section of the meader \n"
          ]
        },
        {
          "output_type": "stream",
          "name": "stderr",
          "text": [
            "  1%|          | 334/50000 [00:04<06:34, 126.00it/s]"
          ]
        },
        {
          "output_type": "stream",
          "name": "stdout",
          "text": [
            "Loss: 1.799535849094391\n"
          ]
        },
        {
          "output_type": "stream",
          "name": "stderr",
          "text": [
            "\n",
            "  0%|          | 0/200 [00:00<?, ?it/s]\u001b[A\n",
            "100%|██████████| 200/200 [00:00<00:00, 1484.81it/s]\n",
            "  1%|          | 350/50000 [00:04<08:17, 99.78it/s] "
          ]
        },
        {
          "output_type": "stream",
          "name": "stdout",
          "text": [
            " many the southing the search and the live the sexite the process of the considering the services and the secience of the community of the the communition of the designed in the projection and the line\n"
          ]
        },
        {
          "output_type": "stream",
          "name": "stderr",
          "text": [
            "  1%|          | 384/50000 [00:04<06:32, 126.49it/s]"
          ]
        },
        {
          "output_type": "stream",
          "name": "stdout",
          "text": [
            "Loss: 1.7595253705978393\n"
          ]
        },
        {
          "output_type": "stream",
          "name": "stderr",
          "text": [
            "\n",
            "  0%|          | 0/200 [00:00<?, ?it/s]\u001b[A\n",
            "100%|██████████| 200/200 [00:00<00:00, 1718.79it/s]\n",
            "  1%|          | 400/50000 [00:04<07:56, 104.16it/s]"
          ]
        },
        {
          "output_type": "stream",
          "name": "stdout",
          "text": [
            " and reconding the same produced to the portical the product state and the services and the are a some for the United and the records are begin in the some of the reconding the United The United and th\n"
          ]
        },
        {
          "output_type": "stream",
          "name": "stderr",
          "text": [
            "  1%|          | 434/50000 [00:05<06:23, 129.41it/s]"
          ]
        },
        {
          "output_type": "stream",
          "name": "stdout",
          "text": [
            "Loss: 1.7356450438499451\n"
          ]
        },
        {
          "output_type": "stream",
          "name": "stderr",
          "text": [
            "\n",
            "  0%|          | 0/200 [00:00<?, ?it/s]\u001b[A\n",
            "100%|██████████| 200/200 [00:00<00:00, 1665.75it/s]\n",
            "  1%|          | 450/50000 [00:05<07:56, 104.05it/s]"
          ]
        },
        {
          "output_type": "stream",
          "name": "stdout",
          "text": [
            " of the second by a signed the research and the standing the study to a signification the are and the contress the search of the service the services of the persons the product the product the studies \n"
          ]
        },
        {
          "output_type": "stream",
          "name": "stderr",
          "text": [
            "  1%|          | 483/50000 [00:05<06:27, 127.74it/s]"
          ]
        },
        {
          "output_type": "stream",
          "name": "stdout",
          "text": [
            "Loss: 1.71756596326828\n"
          ]
        },
        {
          "output_type": "stream",
          "name": "stderr",
          "text": [
            "\n",
            "  0%|          | 0/200 [00:00<?, ?it/s]\u001b[A\n",
            "100%|██████████| 200/200 [00:00<00:00, 1699.05it/s]\n",
            "  1%|          | 500/50000 [00:05<07:50, 105.20it/s]"
          ]
        },
        {
          "output_type": "stream",
          "name": "stdout",
          "text": [
            " in the standards and to the processed that the first from the first and the first of the processed the are also the internation of state of the person of the set of the represents in the same of the c\n"
          ]
        },
        {
          "output_type": "stream",
          "name": "stderr",
          "text": [
            "  1%|          | 534/50000 [00:05<06:20, 130.13it/s]"
          ]
        },
        {
          "output_type": "stream",
          "name": "stdout",
          "text": [
            "Loss: 1.6851560378074646\n"
          ]
        },
        {
          "output_type": "stream",
          "name": "stderr",
          "text": [
            "\n",
            "  0%|          | 0/200 [00:00<?, ?it/s]\u001b[A\n",
            "100%|██████████| 200/200 [00:00<00:00, 1662.67it/s]\n",
            "  1%|          | 550/50000 [00:06<07:52, 104.69it/s]"
          ]
        },
        {
          "output_type": "stream",
          "name": "stdout",
          "text": [
            " is a manage and and the received with the research as processing section of the services in the second process of the provide of the decessions of the internation of the sension in the subsean find an\n"
          ]
        },
        {
          "output_type": "stream",
          "name": "stderr",
          "text": [
            "  1%|          | 584/50000 [00:06<06:25, 128.17it/s]"
          ]
        },
        {
          "output_type": "stream",
          "name": "stdout",
          "text": [
            "Loss: 1.6779483985900878\n"
          ]
        },
        {
          "output_type": "stream",
          "name": "stderr",
          "text": [
            "\n",
            "  0%|          | 0/200 [00:00<?, ?it/s]\u001b[A\n",
            "100%|██████████| 200/200 [00:00<00:00, 1681.43it/s]\n",
            "  1%|          | 600/50000 [00:06<07:54, 104.03it/s]"
          ]
        },
        {
          "output_type": "stream",
          "name": "stdout",
          "text": [
            " in the transmands and the first at the propose and the service of the more than a set the process and a social not out of the service of the research as the committee is the state of the consider the \n"
          ]
        },
        {
          "output_type": "stream",
          "name": "stderr",
          "text": [
            "  1%|▏         | 633/50000 [00:06<06:31, 126.25it/s]"
          ]
        },
        {
          "output_type": "stream",
          "name": "stdout",
          "text": [
            "Loss: 1.656571946144104\n"
          ]
        },
        {
          "output_type": "stream",
          "name": "stderr",
          "text": [
            "\n",
            "  0%|          | 0/200 [00:00<?, ?it/s]\u001b[A\n",
            "100%|██████████| 200/200 [00:00<00:00, 1636.76it/s]\n",
            "  1%|▏         | 650/50000 [00:07<07:57, 103.38it/s]"
          ]
        },
        {
          "output_type": "stream",
          "name": "stdout",
          "text": [
            " internations of the services. In 2012 the substandards of the standards and concept in the networking the state of the self-state to the several and and the methods of the traditional system in the st\n"
          ]
        },
        {
          "output_type": "stream",
          "name": "stderr",
          "text": [
            "  1%|▏         | 684/50000 [00:07<06:24, 128.11it/s]"
          ]
        },
        {
          "output_type": "stream",
          "name": "stdout",
          "text": [
            "Loss: 1.6424011778831482\n"
          ]
        },
        {
          "output_type": "stream",
          "name": "stderr",
          "text": [
            "\n",
            "  0%|          | 0/200 [00:00<?, ?it/s]\u001b[A\n",
            "100%|██████████| 200/200 [00:00<00:00, 1448.09it/s]\n",
            "  1%|▏         | 700/50000 [00:07<08:09, 100.65it/s]"
          ]
        },
        {
          "output_type": "stream",
          "name": "stdout",
          "text": [
            " in the consider the state of the provide and the also internation of the consenting contributed the common computer the control common internation of the show and the a signal and the some one the fir\n"
          ]
        },
        {
          "output_type": "stream",
          "name": "stderr",
          "text": [
            "  1%|▏         | 734/50000 [00:07<06:28, 126.88it/s]"
          ]
        },
        {
          "output_type": "stream",
          "name": "stdout",
          "text": [
            "Loss: 1.6264812278747558\n"
          ]
        },
        {
          "output_type": "stream",
          "name": "stderr",
          "text": [
            "\n",
            "  0%|          | 0/200 [00:00<?, ?it/s]\u001b[A\n",
            "100%|██████████| 200/200 [00:00<00:00, 1692.89it/s]\n",
            "  2%|▏         | 750/50000 [00:07<07:53, 104.00it/s]"
          ]
        },
        {
          "output_type": "stream",
          "name": "stdout",
          "text": [
            " and the provide to the state of the research control to the production and the contribution of any and standard of the control of the some as a process and such as a produced to lines of the participa\n"
          ]
        },
        {
          "output_type": "stream",
          "name": "stderr",
          "text": [
            "  2%|▏         | 784/50000 [00:08<06:21, 128.87it/s]"
          ]
        },
        {
          "output_type": "stream",
          "name": "stdout",
          "text": [
            "Loss: 1.6258993029594422\n"
          ]
        },
        {
          "output_type": "stream",
          "name": "stderr",
          "text": [
            "\n",
            "  0%|          | 0/200 [00:00<?, ?it/s]\u001b[A\n",
            "100%|██████████| 200/200 [00:00<00:00, 1739.58it/s]\n",
            "  2%|▏         | 800/50000 [00:08<07:49, 104.77it/s]"
          ]
        },
        {
          "output_type": "stream",
          "name": "stdout",
          "text": [
            " and concestic described the same and and all the common the state of the first are state and and mean the first and the model process of the state and in the communication of the process of the servic\n"
          ]
        },
        {
          "output_type": "stream",
          "name": "stderr",
          "text": [
            "  2%|▏         | 849/50000 [00:08<05:59, 136.73it/s]"
          ]
        },
        {
          "output_type": "stream",
          "name": "stdout",
          "text": [
            "Loss: 1.6114337158203125\n"
          ]
        },
        {
          "output_type": "stream",
          "name": "stderr",
          "text": [
            "\n",
            "  0%|          | 0/200 [00:00<?, ?it/s]\u001b[A\n",
            "100%|██████████| 200/200 [00:00<00:00, 1676.86it/s]\n"
          ]
        },
        {
          "output_type": "stream",
          "name": "stdout",
          "text": [
            " to the open the state of the subsection of the conduction of the the the communities and the second and international site of the services of the communities and similar the single service and the the\n"
          ]
        },
        {
          "output_type": "stream",
          "name": "stderr",
          "text": [
            "  2%|▏         | 898/50000 [00:09<06:14, 131.05it/s]"
          ]
        },
        {
          "output_type": "stream",
          "name": "stdout",
          "text": [
            "Loss: 1.6047632694244385\n"
          ]
        },
        {
          "output_type": "stream",
          "name": "stderr",
          "text": [
            "\n",
            "  0%|          | 0/200 [00:00<?, ?it/s]\u001b[A\n",
            "100%|██████████| 200/200 [00:00<00:00, 1615.88it/s]\n"
          ]
        },
        {
          "output_type": "stream",
          "name": "stdout",
          "text": [
            " the services of the the service to the process to the first in the content the company in the first and the to the company the designed by the compared in the produced and the the produced the service\n"
          ]
        },
        {
          "output_type": "stream",
          "name": "stderr",
          "text": [
            "  2%|▏         | 946/50000 [00:09<06:28, 126.32it/s]"
          ]
        },
        {
          "output_type": "stream",
          "name": "stdout",
          "text": [
            "Loss: 1.6086830496788025\n"
          ]
        },
        {
          "output_type": "stream",
          "name": "stderr",
          "text": [
            "\n",
            "  0%|          | 0/200 [00:00<?, ?it/s]\u001b[A\n",
            "100%|██████████| 200/200 [00:00<00:00, 1632.77it/s]\n",
            "  2%|▏         | 961/50000 [00:09<08:02, 101.58it/s]"
          ]
        },
        {
          "output_type": "stream",
          "name": "stdout",
          "text": [
            " in the such as the construction of the records in the are such as the control of the control the service to the proposed and a belong the concession and an age and state of the control and the present\n"
          ]
        },
        {
          "output_type": "stream",
          "name": "stderr",
          "text": [
            "  2%|▏         | 995/50000 [00:09<06:24, 127.61it/s]"
          ]
        },
        {
          "output_type": "stream",
          "name": "stdout",
          "text": [
            "Loss: 1.576870231628418\n"
          ]
        },
        {
          "output_type": "stream",
          "name": "stderr",
          "text": [
            "\n",
            "  0%|          | 0/200 [00:00<?, ?it/s]\u001b[A\n",
            "100%|██████████| 200/200 [00:00<00:00, 1575.75it/s]\n",
            "  2%|▏         | 1010/50000 [00:10<08:02, 101.49it/s]"
          ]
        },
        {
          "output_type": "stream",
          "name": "stdout",
          "text": [
            " in the senses and many with the continues and the process of the part of the computer of the male of the the can be a proposed the company and research person of the company of the company of the arit\n"
          ]
        },
        {
          "output_type": "stream",
          "name": "stderr",
          "text": [
            "  2%|▏         | 1044/50000 [00:10<06:23, 127.71it/s]"
          ]
        },
        {
          "output_type": "stream",
          "name": "stdout",
          "text": [
            "Loss: 1.5801659727096558\n"
          ]
        },
        {
          "output_type": "stream",
          "name": "stderr",
          "text": [
            "\n",
            "  0%|          | 0/200 [00:00<?, ?it/s]\u001b[A\n",
            "100%|██████████| 200/200 [00:00<00:00, 1556.72it/s]\n",
            "  2%|▏         | 1059/50000 [00:10<08:07, 100.39it/s]"
          ]
        },
        {
          "output_type": "stream",
          "name": "stdout",
          "text": [
            " of the projects in many in the representation of the city of source of the subsection of the about the probleman the search that the contrest of the war the company in the term of the a state of the s\n"
          ]
        },
        {
          "output_type": "stream",
          "name": "stderr",
          "text": [
            "  2%|▏         | 1093/50000 [00:10<06:23, 127.46it/s]"
          ]
        },
        {
          "output_type": "stream",
          "name": "stdout",
          "text": [
            "Loss: 1.5849592876434326\n"
          ]
        },
        {
          "output_type": "stream",
          "name": "stderr",
          "text": [
            "\n",
            "  0%|          | 0/200 [00:00<?, ?it/s]\u001b[A\n",
            "100%|██████████| 200/200 [00:00<00:00, 1712.32it/s]\n",
            "  2%|▏         | 1108/50000 [00:11<07:56, 102.50it/s]"
          ]
        },
        {
          "output_type": "stream",
          "name": "stdout",
          "text": [
            " the countries in the computing of the one of the the term of the computer state of the service of the the production of the provided the contribution. The continues and the companies of the state and \n"
          ]
        },
        {
          "output_type": "stream",
          "name": "stderr",
          "text": [
            "  2%|▏         | 1142/50000 [00:11<06:24, 126.92it/s]"
          ]
        },
        {
          "output_type": "stream",
          "name": "stdout",
          "text": [
            "Loss: 1.5695824480056764\n"
          ]
        },
        {
          "output_type": "stream",
          "name": "stderr",
          "text": [
            "\n",
            "  0%|          | 0/200 [00:00<?, ?it/s]\u001b[A\n",
            "100%|██████████| 200/200 [00:00<00:00, 1611.85it/s]\n",
            "  2%|▏         | 1157/50000 [00:11<08:05, 100.70it/s]"
          ]
        },
        {
          "output_type": "stream",
          "name": "stdout",
          "text": [
            " construction of the the consists and an are explored the designed the control in the service of the and social services and international proposed to the most and has been the positive and also the co\n"
          ]
        },
        {
          "output_type": "stream",
          "name": "stderr",
          "text": [
            "  2%|▏         | 1190/50000 [00:11<06:28, 125.72it/s]"
          ]
        },
        {
          "output_type": "stream",
          "name": "stdout",
          "text": [
            "Loss: 1.5576107692718506\n"
          ]
        },
        {
          "output_type": "stream",
          "name": "stderr",
          "text": [
            "\n",
            "  0%|          | 0/200 [00:00<?, ?it/s]\u001b[A\n",
            "100%|██████████| 200/200 [00:00<00:00, 1636.24it/s]\n",
            "  2%|▏         | 1205/50000 [00:11<08:03, 100.99it/s]"
          ]
        },
        {
          "output_type": "stream",
          "name": "stdout",
          "text": [
            " is a stations and the processing the most of the state of the completed the first consider the services and the some consists of the and consider the many processing the based and set of the the respo\n"
          ]
        },
        {
          "output_type": "stream",
          "name": "stderr",
          "text": [
            "  2%|▏         | 1239/50000 [00:12<06:23, 127.29it/s]"
          ]
        },
        {
          "output_type": "stream",
          "name": "stdout",
          "text": [
            "Loss: 1.5446664690971375\n"
          ]
        },
        {
          "output_type": "stream",
          "name": "stderr",
          "text": [
            "\n",
            "  0%|          | 0/200 [00:00<?, ?it/s]\u001b[A\n",
            "100%|██████████| 200/200 [00:00<00:00, 1682.77it/s]\n",
            "  3%|▎         | 1254/50000 [00:12<07:52, 103.21it/s]"
          ]
        },
        {
          "output_type": "stream",
          "name": "stdout",
          "text": [
            " in the the field of the proposed the international transfered a significant social network the total to the records with the some in the the records and monands of the set in the the social networking\n"
          ]
        },
        {
          "output_type": "stream",
          "name": "stderr",
          "text": [
            "  3%|▎         | 1287/50000 [00:12<06:26, 126.10it/s]"
          ]
        },
        {
          "output_type": "stream",
          "name": "stdout",
          "text": [
            "Loss: 1.5559899640083312\n"
          ]
        },
        {
          "output_type": "stream",
          "name": "stderr",
          "text": [
            "\n",
            "  0%|          | 0/200 [00:00<?, ?it/s]\u001b[A\n",
            "100%|██████████| 200/200 [00:00<00:00, 1628.49it/s]\n",
            "  3%|▎         | 1302/50000 [00:12<08:01, 101.16it/s]"
          ]
        },
        {
          "output_type": "stream",
          "name": "stdout",
          "text": [
            " and the sources of the networking such as the New York American controlly became the computer and interval for the developed and supported to a first control and complete many and interval simple deve\n"
          ]
        },
        {
          "output_type": "stream",
          "name": "stderr",
          "text": [
            "  3%|▎         | 1336/50000 [00:12<06:22, 127.23it/s]"
          ]
        },
        {
          "output_type": "stream",
          "name": "stdout",
          "text": [
            "Loss: 1.5686246585845947\n"
          ]
        },
        {
          "output_type": "stream",
          "name": "stderr",
          "text": [
            "\n",
            "  0%|          | 0/200 [00:00<?, ?it/s]\u001b[A\n",
            "100%|██████████| 200/200 [00:00<00:00, 1669.29it/s]\n",
            "  3%|▎         | 1351/50000 [00:13<07:53, 102.64it/s]"
          ]
        },
        {
          "output_type": "stream",
          "name": "stdout",
          "text": [
            " include and the many of the first of the production of the states and the experiences of the interaction of control of the process of the professional and international process in the seater and state\n"
          ]
        },
        {
          "output_type": "stream",
          "name": "stderr",
          "text": [
            "  3%|▎         | 1385/50000 [00:13<06:19, 128.11it/s]"
          ]
        },
        {
          "output_type": "stream",
          "name": "stdout",
          "text": [
            "Loss: 1.5517619895935058\n"
          ]
        },
        {
          "output_type": "stream",
          "name": "stderr",
          "text": [
            "\n",
            "  0%|          | 0/200 [00:00<?, ?it/s]\u001b[A\n",
            "100%|██████████| 200/200 [00:00<00:00, 1163.82it/s]\n",
            "  3%|▎         | 1400/50000 [00:13<08:49, 91.81it/s] "
          ]
        },
        {
          "output_type": "stream",
          "name": "stdout",
          "text": [
            " is a state and only the large international that the relation of the some called the state of the services signification of the one and the resident of the position of the station of the are construct\n"
          ]
        },
        {
          "output_type": "stream",
          "name": "stderr",
          "text": [
            "  3%|▎         | 1447/50000 [00:13<06:31, 124.10it/s]"
          ]
        },
        {
          "output_type": "stream",
          "name": "stdout",
          "text": [
            "Loss: 1.5335223865509033\n"
          ]
        },
        {
          "output_type": "stream",
          "name": "stderr",
          "text": [
            "\n",
            "  0%|          | 0/200 [00:00<?, ?it/s]\u001b[A\n",
            "100%|██████████| 200/200 [00:00<00:00, 1443.14it/s]\n"
          ]
        },
        {
          "output_type": "stream",
          "name": "stdout",
          "text": [
            " and the several product controlled to the response of the product of the article of the proposed in the standard to the related as the later the standard of the higher and the article of the processin\n"
          ]
        },
        {
          "output_type": "stream",
          "name": "stderr",
          "text": [
            "  3%|▎         | 1493/50000 [00:14<06:53, 117.39it/s]"
          ]
        },
        {
          "output_type": "stream",
          "name": "stdout",
          "text": [
            "Loss: 1.53842613697052\n"
          ]
        },
        {
          "output_type": "stream",
          "name": "stderr",
          "text": [
            "\n",
            "  0%|          | 0/200 [00:00<?, ?it/s]\u001b[A\n",
            "100%|██████████| 200/200 [00:00<00:00, 1239.11it/s]"
          ]
        },
        {
          "output_type": "stream",
          "name": "stdout",
          "text": [
            " is the country of the contribution of the state the service of the responsible or the problem in the proposed to the state of the state and the speeds to an international state to construction of the \n"
          ]
        },
        {
          "output_type": "stream",
          "name": "stderr",
          "text": [
            "\n",
            "  3%|▎         | 1538/50000 [00:14<07:18, 110.45it/s]"
          ]
        },
        {
          "output_type": "stream",
          "name": "stdout",
          "text": [
            "Loss: 1.5475476598739624\n"
          ]
        },
        {
          "output_type": "stream",
          "name": "stderr",
          "text": [
            "\n",
            "  0%|          | 0/200 [00:00<?, ?it/s]\u001b[A\n",
            "100%|██████████| 200/200 [00:00<00:00, 1187.21it/s]\n",
            "  3%|▎         | 1551/50000 [00:15<09:47, 82.51it/s] "
          ]
        },
        {
          "output_type": "stream",
          "name": "stdout",
          "text": [
            " in the completed by the services of the trains to the second and state of the completed to the seat and of the second explication of the set of the international studies and and see are and service an\n"
          ]
        },
        {
          "output_type": "stream",
          "name": "stderr",
          "text": [
            "  3%|▎         | 1595/50000 [00:15<07:04, 114.04it/s]"
          ]
        },
        {
          "output_type": "stream",
          "name": "stdout",
          "text": [
            "Loss: 1.5438414931297302\n"
          ]
        },
        {
          "output_type": "stream",
          "name": "stderr",
          "text": [
            "\n",
            "  0%|          | 0/200 [00:00<?, ?it/s]\u001b[A\n",
            "100%|██████████| 200/200 [00:00<00:00, 1603.36it/s]\n",
            "  3%|▎         | 1608/50000 [00:15<08:54, 90.52it/s] "
          ]
        },
        {
          "output_type": "stream",
          "name": "stdout",
          "text": [
            " in the consideration is the program was such as a self and with a state and the approaches to a created the train of the company and and services and a services in the services and the management of t\n"
          ]
        },
        {
          "output_type": "stream",
          "name": "stderr",
          "text": [
            "  3%|▎         | 1642/50000 [00:15<06:39, 121.18it/s]"
          ]
        },
        {
          "output_type": "stream",
          "name": "stdout",
          "text": [
            "Loss: 1.5283222150802613\n"
          ]
        },
        {
          "output_type": "stream",
          "name": "stderr",
          "text": [
            "\n",
            "  0%|          | 0/200 [00:00<?, ?it/s]\u001b[A\n",
            "100%|██████████| 200/200 [00:00<00:00, 1658.57it/s]\n",
            "  3%|▎         | 1656/50000 [00:16<08:11, 98.46it/s] "
          ]
        },
        {
          "output_type": "stream",
          "name": "stdout",
          "text": [
            " the processes and the compart the processes by the one of the United States and the Cairo was a contract of the processes and the processes and the terms of the transmitted in the contraction is a sta\n"
          ]
        },
        {
          "output_type": "stream",
          "name": "stderr",
          "text": [
            "  3%|▎         | 1690/50000 [00:16<06:22, 126.23it/s]"
          ]
        },
        {
          "output_type": "stream",
          "name": "stdout",
          "text": [
            "Loss: 1.5217960929870606\n"
          ]
        },
        {
          "output_type": "stream",
          "name": "stderr",
          "text": [
            "\n",
            "  0%|          | 0/200 [00:00<?, ?it/s]\u001b[A\n",
            "100%|██████████| 200/200 [00:00<00:00, 1490.30it/s]\n",
            "  3%|▎         | 1705/50000 [00:16<08:08, 98.89it/s] "
          ]
        },
        {
          "output_type": "stream",
          "name": "stdout",
          "text": [
            " In the services, and the company and communities and the survey of the second computer and the train the state servers of the state of the research the company Commission of the communities and most o\n"
          ]
        },
        {
          "output_type": "stream",
          "name": "stderr",
          "text": [
            "  3%|▎         | 1738/50000 [00:16<06:28, 124.09it/s]"
          ]
        },
        {
          "output_type": "stream",
          "name": "stdout",
          "text": [
            "Loss: 1.5329475617408752\n"
          ]
        },
        {
          "output_type": "stream",
          "name": "stderr",
          "text": [
            "\n",
            "  0%|          | 0/200 [00:00<?, ?it/s]\u001b[A\n",
            "100%|██████████| 200/200 [00:00<00:00, 1690.26it/s]\n",
            "  4%|▎         | 1753/50000 [00:16<07:57, 100.98it/s]"
          ]
        },
        {
          "output_type": "stream",
          "name": "stdout",
          "text": [
            " described the international network and security and the social network of the product of the state with the arras and the terms of the state of the see and an end to the organization of the services \n"
          ]
        },
        {
          "output_type": "stream",
          "name": "stderr",
          "text": [
            "  4%|▎         | 1787/50000 [00:17<06:18, 127.54it/s]"
          ]
        },
        {
          "output_type": "stream",
          "name": "stdout",
          "text": [
            "Loss: 1.5252399158477783\n"
          ]
        },
        {
          "output_type": "stream",
          "name": "stderr",
          "text": [
            "\n",
            "  0%|          | 0/200 [00:00<?, ?it/s]\u001b[A\n",
            "100%|██████████| 200/200 [00:00<00:00, 1670.88it/s]\n",
            "  4%|▎         | 1802/50000 [00:17<07:48, 102.94it/s]"
          ]
        },
        {
          "output_type": "stream",
          "name": "stdout",
          "text": [
            " in the trains of the provided as the continued that the computer state in the different the first set in the network computer state of the international and the first many such as the term of the prop\n"
          ]
        },
        {
          "output_type": "stream",
          "name": "stderr",
          "text": [
            "  4%|▎         | 1835/50000 [00:17<06:17, 127.48it/s]"
          ]
        },
        {
          "output_type": "stream",
          "name": "stdout",
          "text": [
            "Loss: 1.50993718624115\n"
          ]
        },
        {
          "output_type": "stream",
          "name": "stderr",
          "text": [
            "\n",
            "  0%|          | 0/200 [00:00<?, ?it/s]\u001b[A\n",
            "100%|██████████| 200/200 [00:00<00:00, 1525.97it/s]\n",
            "  4%|▎         | 1850/50000 [00:17<08:01, 99.98it/s] "
          ]
        },
        {
          "output_type": "stream",
          "name": "stdout",
          "text": [
            " reaction was the computer and proposed to a result of the set of the Centries of the Caribbean of The Country Commission of Computer of the Cape Verde of the state of the trains of the arrives of the \n"
          ]
        },
        {
          "output_type": "stream",
          "name": "stderr",
          "text": [
            "  4%|▍         | 1884/50000 [00:18<06:20, 126.58it/s]"
          ]
        },
        {
          "output_type": "stream",
          "name": "stdout",
          "text": [
            "Loss: 1.519821536540985\n"
          ]
        },
        {
          "output_type": "stream",
          "name": "stderr",
          "text": [
            "\n",
            "  0%|          | 0/200 [00:00<?, ?it/s]\u001b[A\n",
            "100%|██████████| 200/200 [00:00<00:00, 1782.58it/s]\n",
            "  4%|▍         | 1900/50000 [00:18<07:40, 104.49it/s]"
          ]
        },
        {
          "output_type": "stream",
          "name": "stdout",
          "text": [
            " the proportion of the the protect to such as an are the first services and many in the contains and many and the comment to also about the communities of So South The Cape Verde in the provide the pos\n"
          ]
        },
        {
          "output_type": "stream",
          "name": "stderr",
          "text": [
            "  4%|▍         | 1934/50000 [00:18<06:13, 128.85it/s]"
          ]
        },
        {
          "output_type": "stream",
          "name": "stdout",
          "text": [
            "Loss: 1.5140709638595582\n"
          ]
        },
        {
          "output_type": "stream",
          "name": "stderr",
          "text": [
            "\n",
            "  0%|          | 0/200 [00:00<?, ?it/s]\u001b[A\n",
            "100%|██████████| 200/200 [00:00<00:00, 1664.88it/s]\n",
            "  4%|▍         | 1950/50000 [00:18<07:39, 104.53it/s]"
          ]
        },
        {
          "output_type": "stream",
          "name": "stdout",
          "text": [
            " the application and control of the the trains and a decided a provide the processing the process of the computer state of the train and the control of the considered a systems with the computer of the\n"
          ]
        },
        {
          "output_type": "stream",
          "name": "stderr",
          "text": [
            "  4%|▍         | 1984/50000 [00:18<06:12, 128.89it/s]"
          ]
        },
        {
          "output_type": "stream",
          "name": "stdout",
          "text": [
            "Loss: 1.5134082841873169\n"
          ]
        },
        {
          "output_type": "stream",
          "name": "stderr",
          "text": [
            "\n",
            "  0%|          | 0/200 [00:00<?, ?it/s]\u001b[A\n",
            "100%|██████████| 200/200 [00:00<00:00, 1648.50it/s]\n",
            "  4%|▍         | 2000/50000 [00:19<07:39, 104.37it/s]"
          ]
        },
        {
          "output_type": "stream",
          "name": "stdout",
          "text": [
            " Railway Railway and the Committee is a committees of the second and and the south was the services and response of the state and the consider that the state and and the common to the processed at the \n"
          ]
        },
        {
          "output_type": "stream",
          "name": "stderr",
          "text": [
            "  4%|▍         | 2034/50000 [00:19<06:12, 128.81it/s]"
          ]
        },
        {
          "output_type": "stream",
          "name": "stdout",
          "text": [
            "Loss: 1.48864102602005\n"
          ]
        },
        {
          "output_type": "stream",
          "name": "stderr",
          "text": [
            "\n",
            "  0%|          | 0/200 [00:00<?, ?it/s]\u001b[A\n",
            "100%|██████████| 200/200 [00:00<00:00, 1465.01it/s]\n",
            "  4%|▍         | 2050/50000 [00:19<07:55, 100.90it/s]"
          ]
        },
        {
          "output_type": "stream",
          "name": "stdout",
          "text": [
            " and the south of the access to common the interest and an associative and the linked to a sension and the receiving a form in the some official broade as a person of the transformations of the south o\n"
          ]
        },
        {
          "output_type": "stream",
          "name": "stderr",
          "text": [
            "  4%|▍         | 2084/50000 [00:19<06:20, 125.99it/s]"
          ]
        },
        {
          "output_type": "stream",
          "name": "stdout",
          "text": [
            "Loss: 1.5049762177467345\n"
          ]
        },
        {
          "output_type": "stream",
          "name": "stderr",
          "text": [
            "\n",
            "  0%|          | 0/200 [00:00<?, ?it/s]\u001b[A\n",
            "100%|██████████| 200/200 [00:00<00:00, 1682.35it/s]\n",
            "  4%|▍         | 2100/50000 [00:19<07:44, 103.23it/s]"
          ]
        },
        {
          "output_type": "stream",
          "name": "stdout",
          "text": [
            " in the state of the construction of the contract to a production of the standard of the professional and services and the archipelagan in the language and the represented by the standard the some of t\n"
          ]
        },
        {
          "output_type": "stream",
          "name": "stderr",
          "text": [
            "  4%|▍         | 2134/50000 [00:20<06:12, 128.40it/s]"
          ]
        },
        {
          "output_type": "stream",
          "name": "stdout",
          "text": [
            "Loss: 1.4855360794067383\n"
          ]
        },
        {
          "output_type": "stream",
          "name": "stderr",
          "text": [
            "\n",
            "  0%|          | 0/200 [00:00<?, ?it/s]\u001b[A\n",
            "100%|██████████| 200/200 [00:00<00:00, 1532.99it/s]\n",
            "  4%|▍         | 2150/50000 [00:20<07:48, 102.06it/s]"
          ]
        },
        {
          "output_type": "stream",
          "name": "stdout",
          "text": [
            " and the services of the services of the first produced a services and the research of the design transport of the particular to the American and also are also also interest and the described the templ\n"
          ]
        },
        {
          "output_type": "stream",
          "name": "stderr",
          "text": [
            "  4%|▍         | 2183/50000 [00:20<06:18, 126.37it/s]"
          ]
        },
        {
          "output_type": "stream",
          "name": "stdout",
          "text": [
            "Loss: 1.5040467548370362\n"
          ]
        },
        {
          "output_type": "stream",
          "name": "stderr",
          "text": [
            "\n",
            "  0%|          | 0/200 [00:00<?, ?it/s]\u001b[A\n",
            "100%|██████████| 200/200 [00:00<00:00, 1539.89it/s]\n",
            "  4%|▍         | 2200/50000 [00:20<07:48, 102.04it/s]"
          ]
        },
        {
          "output_type": "stream",
          "name": "stdout",
          "text": [
            " and the the research and the control to the computer of the process the population of the second control set in the form in the company in the company of the management and computer with the company t\n"
          ]
        },
        {
          "output_type": "stream",
          "name": "stderr",
          "text": [
            "  4%|▍         | 2234/50000 [00:21<06:16, 126.78it/s]"
          ]
        },
        {
          "output_type": "stream",
          "name": "stdout",
          "text": [
            "Loss: 1.48182452917099\n"
          ]
        },
        {
          "output_type": "stream",
          "name": "stderr",
          "text": [
            "\n",
            "  0%|          | 0/200 [00:00<?, ?it/s]\u001b[A\n",
            "100%|██████████| 200/200 [00:00<00:00, 1585.17it/s]\n",
            "  4%|▍         | 2250/50000 [00:21<07:49, 101.81it/s]"
          ]
        },
        {
          "output_type": "stream",
          "name": "stdout",
          "text": [
            " in such as a see provide representation of the sources of the proposed to the restriction of the companies on the service and operate the standards of the prospection of the United States in 1879, and\n"
          ]
        },
        {
          "output_type": "stream",
          "name": "stderr",
          "text": [
            "  5%|▍         | 2284/50000 [00:21<06:16, 126.58it/s]"
          ]
        },
        {
          "output_type": "stream",
          "name": "stdout",
          "text": [
            "Loss: 1.5107838439941406\n"
          ]
        },
        {
          "output_type": "stream",
          "name": "stderr",
          "text": [
            "\n",
            "  0%|          | 0/200 [00:00<?, ?it/s]\u001b[A\n",
            "100%|██████████| 200/200 [00:00<00:00, 1684.66it/s]\n",
            "  5%|▍         | 2300/50000 [00:21<07:40, 103.50it/s]"
          ]
        },
        {
          "output_type": "stream",
          "name": "stdout",
          "text": [
            " and original controller to the first conventional media of the first the service to the trade of the sources of the first subset to the company media and the companies of the first from the the contro\n"
          ]
        },
        {
          "output_type": "stream",
          "name": "stderr",
          "text": [
            "  5%|▍         | 2333/50000 [00:21<06:14, 127.23it/s]"
          ]
        },
        {
          "output_type": "stream",
          "name": "stdout",
          "text": [
            "Loss: 1.491292884349823\n"
          ]
        },
        {
          "output_type": "stream",
          "name": "stderr",
          "text": [
            "\n",
            "  0%|          | 0/200 [00:00<?, ?it/s]\u001b[A\n",
            "100%|██████████| 200/200 [00:00<00:00, 1710.37it/s]\n",
            "  5%|▍         | 2350/50000 [00:22<07:34, 104.90it/s]"
          ]
        },
        {
          "output_type": "stream",
          "name": "stdout",
          "text": [
            " in a state of the provide the services and the produced for the results are the common approach was founded the second a central and in the United States of the services and concept of the process of \n"
          ]
        },
        {
          "output_type": "stream",
          "name": "stderr",
          "text": [
            "  5%|▍         | 2384/50000 [00:22<06:07, 129.45it/s]"
          ]
        },
        {
          "output_type": "stream",
          "name": "stdout",
          "text": [
            "Loss: 1.4980985999107361\n"
          ]
        },
        {
          "output_type": "stream",
          "name": "stderr",
          "text": [
            "\n",
            "  0%|          | 0/200 [00:00<?, ?it/s]\u001b[A\n",
            "100%|██████████| 200/200 [00:00<00:00, 1694.90it/s]\n",
            "  5%|▍         | 2400/50000 [00:22<07:35, 104.52it/s]"
          ]
        },
        {
          "output_type": "stream",
          "name": "stdout",
          "text": [
            " in the companies and companies and services of the protect in the computer for the services and the first supply the state and station of the terms of the trains and and allow and also be a production\n"
          ]
        },
        {
          "output_type": "stream",
          "name": "stderr",
          "text": [
            "  5%|▍         | 2434/50000 [00:22<06:07, 129.36it/s]"
          ]
        },
        {
          "output_type": "stream",
          "name": "stdout",
          "text": [
            "Loss: 1.4925306177139281\n"
          ]
        },
        {
          "output_type": "stream",
          "name": "stderr",
          "text": [
            "\n",
            "  0%|          | 0/200 [00:00<?, ?it/s]\u001b[A\n",
            "100%|██████████| 200/200 [00:00<00:00, 1703.80it/s]\n",
            "  5%|▍         | 2450/50000 [00:23<07:36, 104.07it/s]"
          ]
        },
        {
          "output_type": "stream",
          "name": "stdout",
          "text": [
            " name of the first services and the research in the first became the group of the first computer to the transport to the response from the process on the train to the transportation in the United State\n"
          ]
        },
        {
          "output_type": "stream",
          "name": "stderr",
          "text": [
            "  5%|▍         | 2484/50000 [00:23<06:08, 128.93it/s]"
          ]
        },
        {
          "output_type": "stream",
          "name": "stdout",
          "text": [
            "Loss: 1.4769372844696045\n"
          ]
        },
        {
          "output_type": "stream",
          "name": "stderr",
          "text": [
            "\n",
            "  0%|          | 0/200 [00:00<?, ?it/s]\u001b[A\n",
            "100%|██████████| 200/200 [00:00<00:00, 1435.71it/s]\n",
            "  5%|▌         | 2500/50000 [00:23<07:52, 100.63it/s]"
          ]
        },
        {
          "output_type": "stream",
          "name": "stdout",
          "text": [
            " A with the products and the set of the article of the control of the result of the provide the state of the international some company in the service of the area to the stated to a standard of the new\n"
          ]
        },
        {
          "output_type": "stream",
          "name": "stderr",
          "text": [
            "  5%|▌         | 2534/50000 [00:23<06:17, 125.58it/s]"
          ]
        },
        {
          "output_type": "stream",
          "name": "stdout",
          "text": [
            "Loss: 1.4900089597702026\n"
          ]
        },
        {
          "output_type": "stream",
          "name": "stderr",
          "text": [
            "\n",
            "  0%|          | 0/200 [00:00<?, ?it/s]\u001b[A\n",
            "100%|██████████| 200/200 [00:00<00:00, 1568.72it/s]\n",
            "  5%|▌         | 2550/50000 [00:23<07:47, 101.41it/s]"
          ]
        },
        {
          "output_type": "stream",
          "name": "stdout",
          "text": [
            " research of the professional design of the term for the company in the standard of the state of the first one of the distance and produce a relations and a division of the committees of the interest o\n"
          ]
        },
        {
          "output_type": "stream",
          "name": "stderr",
          "text": [
            "  5%|▌         | 2584/50000 [00:24<06:14, 126.75it/s]"
          ]
        },
        {
          "output_type": "stream",
          "name": "stdout",
          "text": [
            "Loss: 1.4819036984443665\n"
          ]
        },
        {
          "output_type": "stream",
          "name": "stderr",
          "text": [
            "\n",
            "  0%|          | 0/200 [00:00<?, ?it/s]\u001b[A\n",
            "100%|██████████| 200/200 [00:00<00:00, 1625.02it/s]\n",
            "  5%|▌         | 2600/50000 [00:24<07:45, 101.80it/s]"
          ]
        },
        {
          "output_type": "stream",
          "name": "stdout",
          "text": [
            " security of the American State in the United States the process of the second the city of the same the protocols and the provided that the provided the southern international and the southern the rela\n"
          ]
        },
        {
          "output_type": "stream",
          "name": "stderr",
          "text": [
            "  5%|▌         | 2633/50000 [00:24<06:17, 125.48it/s]"
          ]
        },
        {
          "output_type": "stream",
          "name": "stdout",
          "text": [
            "Loss: 1.5100291323661805\n"
          ]
        },
        {
          "output_type": "stream",
          "name": "stderr",
          "text": [
            "\n",
            "  0%|          | 0/200 [00:00<?, ?it/s]\u001b[A\n",
            "100%|██████████| 200/200 [00:00<00:00, 1598.88it/s]\n",
            "  5%|▌         | 2650/50000 [00:24<07:42, 102.47it/s]"
          ]
        },
        {
          "output_type": "stream",
          "name": "stdout",
          "text": [
            " and common can be areas and also being the standards and also state at the concerned by the state of an and the standards and the standards the programmed the seats of the many state in the University\n"
          ]
        },
        {
          "output_type": "stream",
          "name": "stderr",
          "text": [
            "  5%|▌         | 2684/50000 [00:25<06:13, 126.77it/s]"
          ]
        },
        {
          "output_type": "stream",
          "name": "stdout",
          "text": [
            "Loss: 1.482441282272339\n"
          ]
        },
        {
          "output_type": "stream",
          "name": "stderr",
          "text": [
            "\n",
            "  0%|          | 0/200 [00:00<?, ?it/s]\u001b[A\n",
            "100%|██████████| 200/200 [00:00<00:00, 1655.79it/s]\n",
            "  5%|▌         | 2700/50000 [00:25<07:36, 103.51it/s]"
          ]
        },
        {
          "output_type": "stream",
          "name": "stdout",
          "text": [
            " and a state to the state and the state and protect in the state of the community of the technical computer and security of the relationships and the first state of the top speed of the states and also\n"
          ]
        },
        {
          "output_type": "stream",
          "name": "stderr",
          "text": [
            "  5%|▌         | 2749/50000 [00:25<05:53, 133.80it/s]"
          ]
        },
        {
          "output_type": "stream",
          "name": "stdout",
          "text": [
            "Loss: 1.4630939078330993\n"
          ]
        },
        {
          "output_type": "stream",
          "name": "stderr",
          "text": [
            "\n",
            "  0%|          | 0/200 [00:00<?, ?it/s]\u001b[A\n",
            "100%|██████████| 200/200 [00:00<00:00, 1161.43it/s]\n"
          ]
        },
        {
          "output_type": "stream",
          "name": "stdout",
          "text": [
            " and the services in the considered to the series of the considered to a main the second from the product of the second of the computer for the state of the set to a line to the population of the Unite\n"
          ]
        },
        {
          "output_type": "stream",
          "name": "stderr",
          "text": [
            "  6%|▌         | 2795/50000 [00:26<06:48, 115.51it/s]"
          ]
        },
        {
          "output_type": "stream",
          "name": "stdout",
          "text": [
            "Loss: 1.5065545558929443\n"
          ]
        },
        {
          "output_type": "stream",
          "name": "stderr",
          "text": [
            "\n",
            "  0%|          | 0/200 [00:00<?, ?it/s]\u001b[A\n",
            "100%|██████████| 200/200 [00:00<00:00, 1313.31it/s]\n"
          ]
        },
        {
          "output_type": "stream",
          "name": "stdout",
          "text": [
            " and the the some former significant or the state and the seating and processing in the proposed the Communication and Asian Contribution and State of State Transport and Cape Verde has a second the st\n"
          ]
        },
        {
          "output_type": "stream",
          "name": "stderr",
          "text": [
            "  6%|▌         | 2840/50000 [00:26<07:04, 111.20it/s]"
          ]
        },
        {
          "output_type": "stream",
          "name": "stdout",
          "text": [
            "Loss: 1.4824403929710388\n"
          ]
        },
        {
          "output_type": "stream",
          "name": "stderr",
          "text": [
            "\n",
            "  0%|          | 0/200 [00:00<?, ?it/s]\u001b[A\n",
            "100%|██████████| 200/200 [00:00<00:00, 1330.88it/s]\n",
            "  6%|▌         | 2853/50000 [00:26<09:11, 85.47it/s] "
          ]
        },
        {
          "output_type": "stream",
          "name": "stdout",
          "text": [
            " and the based that the company to developed the company of the resident at the train the state of the United States of the presented in the companies and the companies are of the compared to be a proc\n"
          ]
        },
        {
          "output_type": "stream",
          "name": "stderr",
          "text": [
            "  6%|▌         | 2899/50000 [00:27<06:38, 118.22it/s]"
          ]
        },
        {
          "output_type": "stream",
          "name": "stdout",
          "text": [
            "Loss: 1.4837317228317262\n"
          ]
        },
        {
          "output_type": "stream",
          "name": "stderr",
          "text": [
            "\n",
            "  0%|          | 0/200 [00:00<?, ?it/s]\u001b[A\n",
            "100%|██████████| 200/200 [00:00<00:00, 1270.92it/s]\n"
          ]
        },
        {
          "output_type": "stream",
          "name": "stdout",
          "text": [
            " the proposed the company in the trains and interest the company and and and subsections of the trains and the performance of the completed the ancient country of the stations of the many of the state \n"
          ]
        },
        {
          "output_type": "stream",
          "name": "stderr",
          "text": [
            "  6%|▌         | 2940/50000 [00:27<07:35, 103.31it/s]"
          ]
        },
        {
          "output_type": "stream",
          "name": "stdout",
          "text": [
            "Loss: 1.476451303958893\n"
          ]
        },
        {
          "output_type": "stream",
          "name": "stderr",
          "text": [
            "\n",
            "  0%|          | 0/200 [00:00<?, ?it/s]\u001b[A\n",
            "100%|██████████| 200/200 [00:00<00:00, 1502.36it/s]\n",
            "  6%|▌         | 2952/50000 [00:27<09:27, 82.84it/s] "
          ]
        },
        {
          "output_type": "stream",
          "name": "stdout",
          "text": [
            " was the states the area of the interest and an international and the new of the specific and particular and some of the mathematical offering for the first of the first the second of the first control\n"
          ]
        },
        {
          "output_type": "stream",
          "name": "stderr",
          "text": [
            "  6%|▌         | 2986/50000 [00:27<06:46, 115.62it/s]"
          ]
        },
        {
          "output_type": "stream",
          "name": "stdout",
          "text": [
            "Loss: 1.4637183403968812\n"
          ]
        },
        {
          "output_type": "stream",
          "name": "stderr",
          "text": [
            "\n",
            "  0%|          | 0/200 [00:00<?, ?it/s]\u001b[A\n",
            "100%|██████████| 200/200 [00:00<00:00, 1641.53it/s]\n",
            "  6%|▌         | 3000/50000 [00:28<08:19, 94.07it/s] "
          ]
        },
        {
          "output_type": "stream",
          "name": "stdout",
          "text": [
            " in the state in the committee to the and and services to the provide the state of the compared to the product of the project of the company several systems are the resident of the social networking co\n"
          ]
        },
        {
          "output_type": "stream",
          "name": "stderr",
          "text": [
            "  6%|▌         | 3034/50000 [00:28<06:22, 122.74it/s]"
          ]
        },
        {
          "output_type": "stream",
          "name": "stdout",
          "text": [
            "Loss: 1.4731678175926208\n"
          ]
        },
        {
          "output_type": "stream",
          "name": "stderr",
          "text": [
            "\n",
            "  0%|          | 0/200 [00:00<?, ?it/s]\u001b[A\n",
            "100%|██████████| 200/200 [00:00<00:00, 1679.66it/s]\n",
            "  6%|▌         | 3050/50000 [00:28<07:48, 100.16it/s]"
          ]
        },
        {
          "output_type": "stream",
          "name": "stdout",
          "text": [
            " control that the contraction of more social networks in the property in the standards in the same and the social network of the considered the production to the first the the standard and the companie\n"
          ]
        },
        {
          "output_type": "stream",
          "name": "stderr",
          "text": [
            "  6%|▌         | 3084/50000 [00:28<06:11, 126.18it/s]"
          ]
        },
        {
          "output_type": "stream",
          "name": "stdout",
          "text": [
            "Loss: 1.4678244590759277\n"
          ]
        },
        {
          "output_type": "stream",
          "name": "stderr",
          "text": [
            "\n",
            "  0%|          | 0/200 [00:00<?, ?it/s]\u001b[A\n",
            "100%|██████████| 200/200 [00:00<00:00, 1566.05it/s]\n",
            "  6%|▌         | 3100/50000 [00:29<07:42, 101.47it/s]"
          ]
        },
        {
          "output_type": "stream",
          "name": "stdout",
          "text": [
            " and a standards to the control of the particularly the trains to the population of the provided the southern the population of the ancestry of the game is an intersection of the longer and automatical\n"
          ]
        },
        {
          "output_type": "stream",
          "name": "stderr",
          "text": [
            "  6%|▋         | 3134/50000 [00:29<06:09, 126.78it/s]"
          ]
        },
        {
          "output_type": "stream",
          "name": "stdout",
          "text": [
            "Loss: 1.4438878178596497\n"
          ]
        },
        {
          "output_type": "stream",
          "name": "stderr",
          "text": [
            "\n",
            "  0%|          | 0/200 [00:00<?, ?it/s]\u001b[A\n",
            "100%|██████████| 200/200 [00:00<00:00, 1502.93it/s]\n",
            "  6%|▋         | 3150/50000 [00:29<07:44, 100.88it/s]"
          ]
        },
        {
          "output_type": "stream",
          "name": "stdout",
          "text": [
            " and the production of the services and production of the first computer state of the construction of the companies of the first state in the company of the changed the people to constitutions of the a\n"
          ]
        },
        {
          "output_type": "stream",
          "name": "stderr",
          "text": [
            "  6%|▋         | 3184/50000 [00:29<06:11, 126.10it/s]"
          ]
        },
        {
          "output_type": "stream",
          "name": "stdout",
          "text": [
            "Loss: 1.439681158065796\n"
          ]
        },
        {
          "output_type": "stream",
          "name": "stderr",
          "text": [
            "\n",
            "  0%|          | 0/200 [00:00<?, ?it/s]\u001b[A\n",
            "100%|██████████| 200/200 [00:00<00:00, 1657.30it/s]\n",
            "  6%|▋         | 3200/50000 [00:29<07:34, 102.94it/s]"
          ]
        },
        {
          "output_type": "stream",
          "name": "stdout",
          "text": [
            " of the age of the state of the company of the company and the control of the United States and the state the state of the city and an interest the company and become the engineering of the states the \n"
          ]
        },
        {
          "output_type": "stream",
          "name": "stderr",
          "text": [
            "  6%|▋         | 3234/50000 [00:30<06:08, 127.06it/s]"
          ]
        },
        {
          "output_type": "stream",
          "name": "stdout",
          "text": [
            "Loss: 1.4416356873512268\n"
          ]
        },
        {
          "output_type": "stream",
          "name": "stderr",
          "text": [
            "\n",
            "  0%|          | 0/200 [00:00<?, ?it/s]\u001b[A\n",
            "100%|██████████| 200/200 [00:00<00:00, 1620.46it/s]\n",
            "  6%|▋         | 3250/50000 [00:30<07:35, 102.62it/s]"
          ]
        },
        {
          "output_type": "stream",
          "name": "stdout",
          "text": [
            " was a significant state of the second the contraction to a standard to the variation of the computer that the state of the company the proposed to a state of the March 2015. The first the contention o\n"
          ]
        },
        {
          "output_type": "stream",
          "name": "stderr",
          "text": [
            "  7%|▋         | 3283/50000 [00:30<06:10, 126.12it/s]"
          ]
        },
        {
          "output_type": "stream",
          "name": "stdout",
          "text": [
            "Loss: 1.4377753472328185\n"
          ]
        },
        {
          "output_type": "stream",
          "name": "stderr",
          "text": [
            "\n",
            "  0%|          | 0/200 [00:00<?, ?it/s]\u001b[A\n",
            "100%|██████████| 200/200 [00:00<00:00, 1691.52it/s]\n",
            "  7%|▋         | 3300/50000 [00:30<07:31, 103.51it/s]"
          ]
        },
        {
          "output_type": "stream",
          "name": "stdout",
          "text": [
            " is a state and research and the states and services of the first and relationships and processes of the search and the first station of the provide the Company Cape Verde is a company and social netwo\n"
          ]
        },
        {
          "output_type": "stream",
          "name": "stderr",
          "text": [
            "  7%|▋         | 3349/50000 [00:31<05:49, 133.40it/s]"
          ]
        },
        {
          "output_type": "stream",
          "name": "stdout",
          "text": [
            "Loss: 1.4318944716453552\n"
          ]
        },
        {
          "output_type": "stream",
          "name": "stderr",
          "text": [
            "\n",
            "  0%|          | 0/200 [00:00<?, ?it/s]\u001b[A\n",
            "100%|██████████| 200/200 [00:00<00:00, 1634.31it/s]\n"
          ]
        },
        {
          "output_type": "stream",
          "name": "stdout",
          "text": [
            " the sense of the company of the product of the sole and the country of the former process and the set of the first was the south and the second and the proposal of the company and the former services \n"
          ]
        },
        {
          "output_type": "stream",
          "name": "stderr",
          "text": [
            "  7%|▋         | 3397/50000 [00:31<06:03, 128.32it/s]"
          ]
        },
        {
          "output_type": "stream",
          "name": "stdout",
          "text": [
            "Loss: 1.4229505276679992\n"
          ]
        },
        {
          "output_type": "stream",
          "name": "stderr",
          "text": [
            "\n",
            "  0%|          | 0/200 [00:00<?, ?it/s]\u001b[A\n",
            "100%|██████████| 200/200 [00:00<00:00, 1580.03it/s]\n"
          ]
        },
        {
          "output_type": "stream",
          "name": "stdout",
          "text": [
            " A is a process and state of the first service of the constitutional control for the station of the proposed to the product of the service of the construction of the state of the second the result of t\n"
          ]
        },
        {
          "output_type": "stream",
          "name": "stderr",
          "text": [
            "  7%|▋         | 3446/50000 [00:31<06:07, 126.78it/s]"
          ]
        },
        {
          "output_type": "stream",
          "name": "stdout",
          "text": [
            "Loss: 1.4152676415443421\n"
          ]
        },
        {
          "output_type": "stream",
          "name": "stderr",
          "text": [
            "\n",
            "  0%|          | 0/200 [00:00<?, ?it/s]\u001b[A\n",
            "100%|██████████| 200/200 [00:00<00:00, 1508.69it/s]\n"
          ]
        },
        {
          "output_type": "stream",
          "name": "stdout",
          "text": [
            " and other construction of the Cape Verdean in the constitutional and the state of the present the control of a network of the constitutional former completed to the proposed a contraction of the progr\n"
          ]
        },
        {
          "output_type": "stream",
          "name": "stderr",
          "text": [
            "  7%|▋         | 3495/50000 [00:32<06:13, 124.64it/s]"
          ]
        },
        {
          "output_type": "stream",
          "name": "stdout",
          "text": [
            "Loss: 1.4351710486412048\n"
          ]
        },
        {
          "output_type": "stream",
          "name": "stderr",
          "text": [
            "\n",
            "  0%|          | 0/200 [00:00<?, ?it/s]\u001b[A\n",
            "100%|██████████| 200/200 [00:00<00:00, 1687.91it/s]\n",
            "  7%|▋         | 3510/50000 [00:32<07:38, 101.37it/s]"
          ]
        },
        {
          "output_type": "stream",
          "name": "stdout",
          "text": [
            " is services of the studies and the standards and a study of the common state to some state of the construction of the state of some methods of the construction of the social networking and the constru\n"
          ]
        },
        {
          "output_type": "stream",
          "name": "stderr",
          "text": [
            "  7%|▋         | 3544/50000 [00:32<06:05, 126.95it/s]"
          ]
        },
        {
          "output_type": "stream",
          "name": "stdout",
          "text": [
            "Loss: 1.423160934448242\n"
          ]
        },
        {
          "output_type": "stream",
          "name": "stderr",
          "text": [
            "\n",
            "  0%|          | 0/200 [00:00<?, ?it/s]\u001b[A\n",
            "100%|██████████| 200/200 [00:00<00:00, 1644.46it/s]\n",
            "  7%|▋         | 3559/50000 [00:33<07:34, 102.08it/s]"
          ]
        },
        {
          "output_type": "stream",
          "name": "stdout",
          "text": [
            " in 1966, and the name and the services and contract and medical speed of the states of the construction of the article of the proposed to the common than in the concept of the are and the provide the \n"
          ]
        },
        {
          "output_type": "stream",
          "name": "stderr",
          "text": [
            "  7%|▋         | 3592/50000 [00:33<06:08, 126.10it/s]"
          ]
        },
        {
          "output_type": "stream",
          "name": "stdout",
          "text": [
            "Loss: 1.420037784576416\n"
          ]
        },
        {
          "output_type": "stream",
          "name": "stderr",
          "text": [
            "\n",
            "  0%|          | 0/200 [00:00<?, ?it/s]\u001b[A\n",
            "100%|██████████| 200/200 [00:00<00:00, 1407.60it/s]\n",
            "  7%|▋         | 3607/50000 [00:33<07:56, 97.40it/s] "
          ]
        },
        {
          "output_type": "stream",
          "name": "stdout",
          "text": [
            " and the proposed a common describe the product of the result of product of the proportion of the international complete to the residence of the programming and the common part of the traditional state\n"
          ]
        },
        {
          "output_type": "stream",
          "name": "stderr",
          "text": [
            "  7%|▋         | 3641/50000 [00:33<06:13, 124.02it/s]"
          ]
        },
        {
          "output_type": "stream",
          "name": "stdout",
          "text": [
            "Loss: 1.441672270298004\n"
          ]
        },
        {
          "output_type": "stream",
          "name": "stderr",
          "text": [
            "\n",
            "  0%|          | 0/200 [00:00<?, ?it/s]\u001b[A\n",
            "100%|██████████| 200/200 [00:00<00:00, 1612.99it/s]\n",
            "  7%|▋         | 3656/50000 [00:33<07:43, 100.08it/s]"
          ]
        },
        {
          "output_type": "stream",
          "name": "stdout",
          "text": [
            " and the social networking and the former more of the article of the constitution of the order management of the company and the response the consider in the Cape Verdean and the seats of the companies\n"
          ]
        },
        {
          "output_type": "stream",
          "name": "stderr",
          "text": [
            "  7%|▋         | 3690/50000 [00:34<06:09, 125.24it/s]"
          ]
        },
        {
          "output_type": "stream",
          "name": "stdout",
          "text": [
            "Loss: 1.4313539481163025\n"
          ]
        },
        {
          "output_type": "stream",
          "name": "stderr",
          "text": [
            "\n",
            "  0%|          | 0/200 [00:00<?, ?it/s]\u001b[A\n",
            "100%|██████████| 200/200 [00:00<00:00, 1638.52it/s]\n",
            "  7%|▋         | 3705/50000 [00:34<07:36, 101.44it/s]"
          ]
        },
        {
          "output_type": "stream",
          "name": "stdout",
          "text": [
            " in the Death and Proposal stations in the programmer in March 2014, and the state of the protection of the rail state of the participation in the southern protection of the controller of the state of \n"
          ]
        },
        {
          "output_type": "stream",
          "name": "stderr",
          "text": [
            "  7%|▋         | 3737/50000 [00:34<06:11, 124.46it/s]"
          ]
        },
        {
          "output_type": "stream",
          "name": "stdout",
          "text": [
            "Loss: 1.4291653251647949\n"
          ]
        },
        {
          "output_type": "stream",
          "name": "stderr",
          "text": [
            "\n",
            "  0%|          | 0/200 [00:00<?, ?it/s]\u001b[A\n",
            "100%|██████████| 200/200 [00:00<00:00, 1529.21it/s]\n",
            "  8%|▊         | 3751/50000 [00:34<07:52, 97.86it/s] "
          ]
        },
        {
          "output_type": "stream",
          "name": "stdout",
          "text": [
            " and the United States of the article of the article and with the services of the second the management of the experience of the period are also be a common the main provides the strategic consists of \n"
          ]
        },
        {
          "output_type": "stream",
          "name": "stderr",
          "text": [
            "  8%|▊         | 3785/50000 [00:35<06:11, 124.57it/s]"
          ]
        },
        {
          "output_type": "stream",
          "name": "stdout",
          "text": [
            "Loss: 1.405901300907135\n"
          ]
        },
        {
          "output_type": "stream",
          "name": "stderr",
          "text": [
            "\n",
            "  0%|          | 0/200 [00:00<?, ?it/s]\u001b[A\n",
            "100%|██████████| 200/200 [00:00<00:00, 1570.94it/s]\n",
            "  8%|▊         | 3800/50000 [00:35<07:46, 99.00it/s] "
          ]
        },
        {
          "output_type": "stream",
          "name": "stdout",
          "text": [
            " and the state and services of the project of the proposed to a variety of the first results and services and states and the state that the committees in the United States and the second a computer ser\n"
          ]
        },
        {
          "output_type": "stream",
          "name": "stderr",
          "text": [
            "  8%|▊         | 3833/50000 [00:35<06:13, 123.59it/s]"
          ]
        },
        {
          "output_type": "stream",
          "name": "stdout",
          "text": [
            "Loss: 1.4031273651123046\n"
          ]
        },
        {
          "output_type": "stream",
          "name": "stderr",
          "text": [
            "\n",
            "  0%|          | 0/200 [00:00<?, ?it/s]\u001b[A\n",
            "100%|██████████| 200/200 [00:00<00:00, 1555.45it/s]\n",
            "  8%|▊         | 3850/50000 [00:35<07:38, 100.56it/s]"
          ]
        },
        {
          "output_type": "stream",
          "name": "stdout",
          "text": [
            " and the standards of the first common and a second system to the standard to the computer result of the community of the second the company and the set that the partial network of the results of the s\n"
          ]
        },
        {
          "output_type": "stream",
          "name": "stderr",
          "text": [
            "  8%|▊         | 3884/50000 [00:35<06:06, 125.84it/s]"
          ]
        },
        {
          "output_type": "stream",
          "name": "stdout",
          "text": [
            "Loss: 1.4056215643882752\n"
          ]
        },
        {
          "output_type": "stream",
          "name": "stderr",
          "text": [
            "\n",
            "  0%|          | 0/200 [00:00<?, ?it/s]\u001b[A\n",
            "100%|██████████| 200/200 [00:00<00:00, 1666.43it/s]\n",
            "  8%|▊         | 3900/50000 [00:36<07:27, 102.99it/s]"
          ]
        },
        {
          "output_type": "stream",
          "name": "stdout",
          "text": [
            " and in the products and the productions are a security state of the continued and in the control to one of the company of the services and proposed to control of the service of the protection of the c\n"
          ]
        },
        {
          "output_type": "stream",
          "name": "stderr",
          "text": [
            "  8%|▊         | 3934/50000 [00:36<06:01, 127.54it/s]"
          ]
        },
        {
          "output_type": "stream",
          "name": "stdout",
          "text": [
            "Loss: 1.3938452672958375\n"
          ]
        },
        {
          "output_type": "stream",
          "name": "stderr",
          "text": [
            "\n",
            "  0%|          | 0/200 [00:00<?, ?it/s]\u001b[A\n",
            "100%|██████████| 200/200 [00:00<00:00, 1541.43it/s]\n",
            "  8%|▊         | 3950/50000 [00:36<07:38, 100.43it/s]"
          ]
        },
        {
          "output_type": "stream",
          "name": "stdout",
          "text": [
            " and the problems and computer speed result of the companies of the largest and the magazed the second production of the state of the largest many areas that the computer students and subsequent than t\n"
          ]
        },
        {
          "output_type": "stream",
          "name": "stderr",
          "text": [
            "  8%|▊         | 3984/50000 [00:36<06:05, 126.03it/s]"
          ]
        },
        {
          "output_type": "stream",
          "name": "stdout",
          "text": [
            "Loss: 1.4003771233558655\n"
          ]
        },
        {
          "output_type": "stream",
          "name": "stderr",
          "text": [
            "\n",
            "  0%|          | 0/200 [00:00<?, ?it/s]\u001b[A\n",
            "100%|██████████| 200/200 [00:00<00:00, 1647.06it/s]\n",
            "  8%|▊         | 4000/50000 [00:36<07:28, 102.54it/s]"
          ]
        },
        {
          "output_type": "stream",
          "name": "stdout",
          "text": [
            " the protocols and the average and the techniques of a second of the protocols of the models in the services in the second in the southern international company the result to company of the first and p\n"
          ]
        },
        {
          "output_type": "stream",
          "name": "stderr",
          "text": [
            "  8%|▊         | 4034/50000 [00:37<06:02, 126.90it/s]"
          ]
        },
        {
          "output_type": "stream",
          "name": "stdout",
          "text": [
            "Loss: 1.403871111869812\n"
          ]
        },
        {
          "output_type": "stream",
          "name": "stderr",
          "text": [
            "\n",
            "  0%|          | 0/200 [00:00<?, ?it/s]\u001b[A\n",
            "100%|██████████| 200/200 [00:00<00:00, 1455.65it/s]\n",
            "  8%|▊         | 4050/50000 [00:37<07:39, 100.10it/s]"
          ]
        },
        {
          "output_type": "stream",
          "name": "stdout",
          "text": [
            " and the first standards and experimental areas were the state of the construction and the term the single to the state of the largest terms of the result of the state of the original and in the sites \n"
          ]
        },
        {
          "output_type": "stream",
          "name": "stderr",
          "text": [
            "  8%|▊         | 4084/50000 [00:37<06:08, 124.65it/s]"
          ]
        },
        {
          "output_type": "stream",
          "name": "stdout",
          "text": [
            "Loss: 1.3911851143836975\n"
          ]
        },
        {
          "output_type": "stream",
          "name": "stderr",
          "text": [
            "\n",
            "  0%|          | 0/200 [00:00<?, ?it/s]\u001b[A\n",
            "100%|██████████| 200/200 [00:00<00:00, 1257.04it/s]\n",
            "  8%|▊         | 4100/50000 [00:37<08:08, 93.89it/s] "
          ]
        },
        {
          "output_type": "stream",
          "name": "stdout",
          "text": [
            " and the control and the United States and the state of the analysis was a state of the production of the first the former second of the result of the distribution of the subsequently the result of the\n"
          ]
        },
        {
          "output_type": "stream",
          "name": "stderr",
          "text": [
            "  8%|▊         | 4146/50000 [00:38<06:13, 122.84it/s]"
          ]
        },
        {
          "output_type": "stream",
          "name": "stdout",
          "text": [
            "Loss: 1.3835615372657777\n"
          ]
        },
        {
          "output_type": "stream",
          "name": "stderr",
          "text": [
            "\n",
            "  0%|          | 0/200 [00:00<?, ?it/s]\u001b[A\n",
            "100%|██████████| 200/200 [00:00<00:00, 1243.13it/s]\n"
          ]
        },
        {
          "output_type": "stream",
          "name": "stdout",
          "text": [
            " and exponentiation and the most and allow the processes of the complex of the control the state of the companies and the tradition of the lines that the first technical many of the local services and \n"
          ]
        },
        {
          "output_type": "stream",
          "name": "stderr",
          "text": [
            "  8%|▊         | 4191/50000 [00:38<06:45, 112.93it/s]"
          ]
        },
        {
          "output_type": "stream",
          "name": "stdout",
          "text": [
            "Loss: 1.3812830924987793\n"
          ]
        },
        {
          "output_type": "stream",
          "name": "stderr",
          "text": [
            "\n",
            "  0%|          | 0/200 [00:00<?, ?it/s]\u001b[A\n",
            "100%|██████████| 200/200 [00:00<00:00, 1351.19it/s]\n",
            "  8%|▊         | 4205/50000 [00:38<08:45, 87.13it/s] "
          ]
        },
        {
          "output_type": "stream",
          "name": "stdout",
          "text": [
            " to the relationships are also a relationship of the service of distinction of the common in the United States were computer trains of the archipelago in the production of state of the Cape Verde is su\n"
          ]
        },
        {
          "output_type": "stream",
          "name": "stderr",
          "text": [
            "  8%|▊         | 4235/50000 [00:39<07:00, 108.83it/s]"
          ]
        },
        {
          "output_type": "stream",
          "name": "stdout",
          "text": [
            "Loss: 1.3989952492713928\n"
          ]
        },
        {
          "output_type": "stream",
          "name": "stderr",
          "text": [
            "\n",
            "  0%|          | 0/200 [00:00<?, ?it/s]\u001b[A\n",
            "100%|██████████| 200/200 [00:00<00:00, 1051.10it/s]\n",
            "  8%|▊         | 4250/50000 [00:39<09:31, 80.08it/s] "
          ]
        },
        {
          "output_type": "stream",
          "name": "stdout",
          "text": [
            " the trains of the process in the construction in South American Protestant Service in the 1990s, the first services of the relationships of the set of state in the artificial intercity services of the\n"
          ]
        },
        {
          "output_type": "stream",
          "name": "stderr",
          "text": [
            "  9%|▊         | 4293/50000 [00:39<06:51, 111.17it/s]"
          ]
        },
        {
          "output_type": "stream",
          "name": "stdout",
          "text": [
            "Loss: 1.3889048385620117\n"
          ]
        },
        {
          "output_type": "stream",
          "name": "stderr",
          "text": [
            "\n",
            "  0%|          | 0/200 [00:00<?, ?it/s]\u001b[A\n",
            "100%|██████████| 200/200 [00:00<00:00, 1599.24it/s]\n",
            "  9%|▊         | 4306/50000 [00:39<08:23, 90.84it/s] "
          ]
        },
        {
          "output_type": "stream",
          "name": "stdout",
          "text": [
            " and the organization and a protect in the country and the Cape Verde was a set of the infrastructure with the second in the state of the company is a work of the state of the most prospects of the top\n"
          ]
        },
        {
          "output_type": "stream",
          "name": "stderr",
          "text": [
            "  9%|▊         | 4340/50000 [00:40<06:16, 121.15it/s]"
          ]
        },
        {
          "output_type": "stream",
          "name": "stdout",
          "text": [
            "Loss: 1.4029792308807374\n"
          ]
        },
        {
          "output_type": "stream",
          "name": "stderr",
          "text": [
            "\n",
            "  0%|          | 0/200 [00:00<?, ?it/s]\u001b[A\n",
            "100%|██████████| 200/200 [00:00<00:00, 1482.52it/s]\n",
            "  9%|▊         | 4354/50000 [00:40<08:01, 94.85it/s] "
          ]
        },
        {
          "output_type": "stream",
          "name": "stdout",
          "text": [
            " and a state and the state of the second and international control of the process of international seats in the maintaining the results of the construction of the prospert control the traditional servi\n"
          ]
        },
        {
          "output_type": "stream",
          "name": "stderr",
          "text": [
            "  9%|▉         | 4388/50000 [00:40<06:10, 122.95it/s]"
          ]
        },
        {
          "output_type": "stream",
          "name": "stdout",
          "text": [
            "Loss: 1.398831114768982\n"
          ]
        },
        {
          "output_type": "stream",
          "name": "stderr",
          "text": [
            "\n",
            "  0%|          | 0/200 [00:00<?, ?it/s]\u001b[A\n",
            "100%|██████████| 200/200 [00:00<00:00, 1578.19it/s]\n",
            "  9%|▉         | 4402/50000 [00:40<07:45, 97.98it/s] "
          ]
        },
        {
          "output_type": "stream",
          "name": "stdout",
          "text": [
            " and 200 kmh 120 mph 120 mph 200 kmh 120 mph 120 mph 120 mph. In the United States of the Northern State Commission and South American American Forum and the Democratic state of the United States and t\n"
          ]
        },
        {
          "output_type": "stream",
          "name": "stderr",
          "text": [
            "  9%|▉         | 4436/50000 [00:41<06:05, 124.56it/s]"
          ]
        },
        {
          "output_type": "stream",
          "name": "stdout",
          "text": [
            "Loss: 1.3894401979446411\n"
          ]
        },
        {
          "output_type": "stream",
          "name": "stderr",
          "text": [
            "\n",
            "  0%|          | 0/200 [00:00<?, ?it/s]\u001b[A\n",
            "100%|██████████| 200/200 [00:00<00:00, 1520.13it/s]\n",
            "  9%|▉         | 4451/50000 [00:41<07:42, 98.44it/s] "
          ]
        },
        {
          "output_type": "stream",
          "name": "stdout",
          "text": [
            " and the largest problems of the area to the company are the committees and the product of the provided a similar to the production of the same of the top speeds of the provided the products to the mos\n"
          ]
        },
        {
          "output_type": "stream",
          "name": "stderr",
          "text": [
            "  9%|▉         | 4483/50000 [00:41<06:12, 122.05it/s]"
          ]
        },
        {
          "output_type": "stream",
          "name": "stdout",
          "text": [
            "Loss: 1.40636971950531\n"
          ]
        },
        {
          "output_type": "stream",
          "name": "stderr",
          "text": [
            "\n",
            "  0%|          | 0/200 [00:00<?, ?it/s]\u001b[A\n",
            "100%|██████████| 200/200 [00:00<00:00, 1615.99it/s]\n",
            "  9%|▉         | 4500/50000 [00:41<07:34, 100.08it/s]"
          ]
        },
        {
          "output_type": "stream",
          "name": "stdout",
          "text": [
            " and an international state of the majority of the media and state and and the southern companies of the period and the state and the continued in 1990, the signals and many leadership and designed to \n"
          ]
        },
        {
          "output_type": "stream",
          "name": "stderr",
          "text": [
            "  9%|▉         | 4534/50000 [00:41<06:02, 125.53it/s]"
          ]
        },
        {
          "output_type": "stream",
          "name": "stdout",
          "text": [
            "Loss: 1.380354461669922\n"
          ]
        },
        {
          "output_type": "stream",
          "name": "stderr",
          "text": [
            "\n",
            "  0%|          | 0/200 [00:00<?, ?it/s]\u001b[A\n",
            "100%|██████████| 200/200 [00:00<00:00, 1515.73it/s]\n",
            "  9%|▉         | 4550/50000 [00:42<07:32, 100.39it/s]"
          ]
        },
        {
          "output_type": "stream",
          "name": "stdout",
          "text": [
            " in the commonly and several experience in the provides the seat is a standards and the majority of the subster in the companies and the country of the company and the first teaching the result of the \n"
          ]
        },
        {
          "output_type": "stream",
          "name": "stderr",
          "text": [
            "  9%|▉         | 4599/50000 [00:42<05:43, 131.98it/s]"
          ]
        },
        {
          "output_type": "stream",
          "name": "stdout",
          "text": [
            "Loss: 1.3850843572616578\n"
          ]
        },
        {
          "output_type": "stream",
          "name": "stderr",
          "text": [
            "\n",
            "  0%|          | 0/200 [00:00<?, ?it/s]\u001b[A\n",
            "100%|██████████| 200/200 [00:00<00:00, 1634.24it/s]\n"
          ]
        },
        {
          "output_type": "stream",
          "name": "stdout",
          "text": [
            " to the Control and the state of the provided the state of the homicide and activity of the production of the services and the construction and collection of the process of the term and the products th\n"
          ]
        },
        {
          "output_type": "stream",
          "name": "stderr",
          "text": [
            "  9%|▉         | 4648/50000 [00:42<05:53, 128.27it/s]"
          ]
        },
        {
          "output_type": "stream",
          "name": "stdout",
          "text": [
            "Loss: 1.381886613368988\n"
          ]
        },
        {
          "output_type": "stream",
          "name": "stderr",
          "text": [
            "\n",
            "  0%|          | 0/200 [00:00<?, ?it/s]\u001b[A\n",
            "100%|██████████| 200/200 [00:00<00:00, 1683.04it/s]\n"
          ]
        },
        {
          "output_type": "stream",
          "name": "stdout",
          "text": [
            " and international numbers to explanation of the ancestry to the result of the relations of the state of the United States of the service of the companies and the explore state of the United States and\n"
          ]
        },
        {
          "output_type": "stream",
          "name": "stderr",
          "text": [
            "  9%|▉         | 4697/50000 [00:43<05:56, 127.21it/s]"
          ]
        },
        {
          "output_type": "stream",
          "name": "stdout",
          "text": [
            "Loss: 1.390796160697937\n"
          ]
        },
        {
          "output_type": "stream",
          "name": "stderr",
          "text": [
            "\n",
            "  0%|          | 0/200 [00:00<?, ?it/s]\u001b[A\n",
            "100%|██████████| 200/200 [00:00<00:00, 1352.94it/s]\n"
          ]
        },
        {
          "output_type": "stream",
          "name": "stdout",
          "text": [
            " and the area of the state and the production of the controlled to the state is a standard and the correct and and state for the control of in the same area of the control of the state of the second an\n"
          ]
        },
        {
          "output_type": "stream",
          "name": "stderr",
          "text": [
            "  9%|▉         | 4746/50000 [00:43<06:06, 123.38it/s]"
          ]
        },
        {
          "output_type": "stream",
          "name": "stdout",
          "text": [
            "Loss: 1.391750590801239\n"
          ]
        },
        {
          "output_type": "stream",
          "name": "stderr",
          "text": [
            "\n",
            "  0%|          | 0/200 [00:00<?, ?it/s]\u001b[A\n",
            "100%|██████████| 200/200 [00:00<00:00, 1591.21it/s]\n",
            " 10%|▉         | 4761/50000 [00:44<07:33, 99.77it/s] "
          ]
        },
        {
          "output_type": "stream",
          "name": "stdout",
          "text": [
            " and the services and the services and the state of the students are an international standard or the problems and the population of the process that the completed to an international contemporary stan\n"
          ]
        },
        {
          "output_type": "stream",
          "name": "stderr",
          "text": [
            " 10%|▉         | 4795/50000 [00:44<06:00, 125.42it/s]"
          ]
        },
        {
          "output_type": "stream",
          "name": "stdout",
          "text": [
            "Loss: 1.4016853070259094\n"
          ]
        },
        {
          "output_type": "stream",
          "name": "stderr",
          "text": [
            "\n",
            "  0%|          | 0/200 [00:00<?, ?it/s]\u001b[A\n",
            "100%|██████████| 200/200 [00:00<00:00, 1592.58it/s]\n"
          ]
        },
        {
          "output_type": "stream",
          "name": "stdout",
          "text": [
            " the company of the state of the process of the international computer state is the construction of the service of the state of the United States and other term in the process of the transportation of \n"
          ]
        },
        {
          "output_type": "stream",
          "name": "stderr",
          "text": [
            " 10%|▉         | 4843/50000 [00:44<06:07, 122.99it/s]"
          ]
        },
        {
          "output_type": "stream",
          "name": "stdout",
          "text": [
            "Loss: 1.3910227966308595\n"
          ]
        },
        {
          "output_type": "stream",
          "name": "stderr",
          "text": [
            "\n",
            "  0%|          | 0/200 [00:00<?, ?it/s]\u001b[A\n",
            "100%|██████████| 200/200 [00:00<00:00, 1583.38it/s]\n",
            " 10%|▉         | 4858/50000 [00:44<07:38, 98.53it/s] "
          ]
        },
        {
          "output_type": "stream",
          "name": "stdout",
          "text": [
            " and the control the provide the programs and the the proposed to the completely and the state and are the company and state and protect the provide the set of the trains in the result of the produced \n"
          ]
        },
        {
          "output_type": "stream",
          "name": "stderr",
          "text": [
            " 10%|▉         | 4892/50000 [00:45<06:02, 124.40it/s]"
          ]
        },
        {
          "output_type": "stream",
          "name": "stdout",
          "text": [
            "Loss: 1.3811772084236145\n"
          ]
        },
        {
          "output_type": "stream",
          "name": "stderr",
          "text": [
            "\n",
            "  0%|          | 0/200 [00:00<?, ?it/s]\u001b[A\n",
            "100%|██████████| 200/200 [00:00<00:00, 1619.29it/s]\n",
            " 10%|▉         | 4907/50000 [00:45<07:28, 100.52it/s]"
          ]
        },
        {
          "output_type": "stream",
          "name": "stdout",
          "text": [
            " in the state of the Grenada of the Cape Verde is the company in the 1980s, and the control of an international production of the southern South American Commons have a settlement of the provides the e\n"
          ]
        },
        {
          "output_type": "stream",
          "name": "stderr",
          "text": [
            " 10%|▉         | 4939/50000 [00:45<06:07, 122.52it/s]"
          ]
        },
        {
          "output_type": "stream",
          "name": "stdout",
          "text": [
            "Loss: 1.379989902973175\n"
          ]
        },
        {
          "output_type": "stream",
          "name": "stderr",
          "text": [
            "\n",
            "  0%|          | 0/200 [00:00<?, ?it/s]\u001b[A\n",
            "100%|██████████| 200/200 [00:00<00:00, 1543.65it/s]\n",
            " 10%|▉         | 4953/50000 [00:45<07:43, 97.28it/s] "
          ]
        },
        {
          "output_type": "stream",
          "name": "stdout",
          "text": [
            " and the late 1970s, and the states of the position of the first the most of the result of the control and considered the country of the seat and the proposal and processes of the state of the former s\n"
          ]
        },
        {
          "output_type": "stream",
          "name": "stderr",
          "text": [
            " 10%|▉         | 4987/50000 [00:45<06:03, 123.85it/s]"
          ]
        },
        {
          "output_type": "stream",
          "name": "stdout",
          "text": [
            "Loss: 1.3744997930526734\n"
          ]
        },
        {
          "output_type": "stream",
          "name": "stderr",
          "text": [
            "\n",
            "  0%|          | 0/200 [00:00<?, ?it/s]\u001b[A\n",
            "100%|██████████| 200/200 [00:00<00:00, 1607.62it/s]\n",
            " 10%|█         | 5001/50000 [00:46<07:33, 99.14it/s] "
          ]
        },
        {
          "output_type": "stream",
          "name": "stdout",
          "text": [
            " in the largest form of the common as the state of the experience of the controlled to the administration of the south and has been entry of the result of the state and the standards and the production\n"
          ]
        },
        {
          "output_type": "stream",
          "name": "stderr",
          "text": [
            " 10%|█         | 5035/50000 [00:46<06:00, 124.76it/s]"
          ]
        },
        {
          "output_type": "stream",
          "name": "stdout",
          "text": [
            "Loss: 1.3784244465827942\n"
          ]
        },
        {
          "output_type": "stream",
          "name": "stderr",
          "text": [
            "\n",
            "  0%|          | 0/200 [00:00<?, ?it/s]\u001b[A\n",
            "100%|██████████| 200/200 [00:00<00:00, 1642.38it/s]\n",
            " 10%|█         | 5050/50000 [00:46<07:31, 99.66it/s] "
          ]
        },
        {
          "output_type": "stream",
          "name": "stdout",
          "text": [
            " and the article is the sent on the standards and a company that is a specific operations of the common and and areas of the international number of the control system and the relationships were manage\n"
          ]
        },
        {
          "output_type": "stream",
          "name": "stderr",
          "text": [
            " 10%|█         | 5084/50000 [00:46<05:57, 125.49it/s]"
          ]
        },
        {
          "output_type": "stream",
          "name": "stdout",
          "text": [
            "Loss: 1.3743788385391236\n"
          ]
        },
        {
          "output_type": "stream",
          "name": "stderr",
          "text": [
            "\n",
            "  0%|          | 0/200 [00:00<?, ?it/s]\u001b[A\n",
            "100%|██████████| 200/200 [00:00<00:00, 1635.88it/s]\n",
            " 10%|█         | 5100/50000 [00:47<07:24, 101.00it/s]"
          ]
        },
        {
          "output_type": "stream",
          "name": "stdout",
          "text": [
            " and the archipelago of the distribution of the entire a find the state of the term a processing and the groups of the results of the first constitutional problems of the state of the result to the ter\n"
          ]
        },
        {
          "output_type": "stream",
          "name": "stderr",
          "text": [
            " 10%|█         | 5134/50000 [00:47<05:55, 126.34it/s]"
          ]
        },
        {
          "output_type": "stream",
          "name": "stdout",
          "text": [
            "Loss: 1.375272238254547\n"
          ]
        },
        {
          "output_type": "stream",
          "name": "stderr",
          "text": [
            "\n",
            "  0%|          | 0/200 [00:00<?, ?it/s]\u001b[A\n",
            "100%|██████████| 200/200 [00:00<00:00, 1403.36it/s]\n",
            " 10%|█         | 5150/50000 [00:47<07:35, 98.36it/s] "
          ]
        },
        {
          "output_type": "stream",
          "name": "stdout",
          "text": [
            " and the production of the United States and the company states that the highest the process, and a standard described the state in the construction of American American Society of the South American U\n"
          ]
        },
        {
          "output_type": "stream",
          "name": "stderr",
          "text": [
            " 10%|█         | 5184/50000 [00:47<06:01, 123.97it/s]"
          ]
        },
        {
          "output_type": "stream",
          "name": "stdout",
          "text": [
            "Loss: 1.3721745109558106\n"
          ]
        },
        {
          "output_type": "stream",
          "name": "stderr",
          "text": [
            "\n",
            "  0%|          | 0/200 [00:00<?, ?it/s]\u001b[A\n",
            "100%|██████████| 200/200 [00:00<00:00, 1628.14it/s]\n",
            " 10%|█         | 5200/50000 [00:47<07:23, 101.12it/s]"
          ]
        },
        {
          "output_type": "stream",
          "name": "stdout",
          "text": [
            " in the services to a company of the majority of the possible to the leadership and the trains are section of the individual to the services state and the transportation of the proposed to the designed\n"
          ]
        },
        {
          "output_type": "stream",
          "name": "stderr",
          "text": [
            " 10%|█         | 5234/50000 [00:48<05:56, 125.49it/s]"
          ]
        },
        {
          "output_type": "stream",
          "name": "stdout",
          "text": [
            "Loss: 1.3795960879325866\n"
          ]
        },
        {
          "output_type": "stream",
          "name": "stderr",
          "text": [
            "\n",
            "  0%|          | 0/200 [00:00<?, ?it/s]\u001b[A\n",
            "100%|██████████| 200/200 [00:00<00:00, 1499.92it/s]\n",
            " 10%|█         | 5250/50000 [00:48<07:27, 99.91it/s] "
          ]
        },
        {
          "output_type": "stream",
          "name": "stdout",
          "text": [
            " and the area of the second any developed by the proposed to the state and a secret of the produced a most of the state and a product of the first state of the United States and the company and was a p\n"
          ]
        },
        {
          "output_type": "stream",
          "name": "stderr",
          "text": [
            " 11%|█         | 5299/50000 [00:48<05:38, 132.08it/s]"
          ]
        },
        {
          "output_type": "stream",
          "name": "stdout",
          "text": [
            "Loss: 1.364013979434967\n"
          ]
        },
        {
          "output_type": "stream",
          "name": "stderr",
          "text": [
            "\n",
            "  0%|          | 0/200 [00:00<?, ?it/s]\u001b[A\n",
            "100%|██████████| 200/200 [00:00<00:00, 1540.40it/s]\n"
          ]
        },
        {
          "output_type": "stream",
          "name": "stdout",
          "text": [
            " to the state of the computer of the records and as a services and the contains the computer representative continued to the provided a number of population of the state and services of the connection \n"
          ]
        },
        {
          "output_type": "stream",
          "name": "stderr",
          "text": [
            " 11%|█         | 5348/50000 [00:49<05:52, 126.52it/s]"
          ]
        },
        {
          "output_type": "stream",
          "name": "stdout",
          "text": [
            "Loss: 1.3701590299606323\n"
          ]
        },
        {
          "output_type": "stream",
          "name": "stderr",
          "text": [
            "\n",
            "  0%|          | 0/200 [00:00<?, ?it/s]\u001b[A\n",
            "100%|██████████| 200/200 [00:00<00:00, 1605.15it/s]\n"
          ]
        },
        {
          "output_type": "stream",
          "name": "stdout",
          "text": [
            " and the state and the post in a proposed and the set of the southern the control of the profile line and a learning on the completed to be a second the area of the second and results of the first cont\n"
          ]
        },
        {
          "output_type": "stream",
          "name": "stderr",
          "text": [
            " 11%|█         | 5395/50000 [00:49<05:59, 124.09it/s]"
          ]
        },
        {
          "output_type": "stream",
          "name": "stdout",
          "text": [
            "Loss: 1.3921846342086792\n"
          ]
        },
        {
          "output_type": "stream",
          "name": "stderr",
          "text": [
            "\n",
            "  0%|          | 0/200 [00:00<?, ?it/s]\u001b[A\n",
            "100%|██████████| 200/200 [00:00<00:00, 1575.01it/s]\n",
            " 11%|█         | 5409/50000 [00:49<07:38, 97.23it/s] "
          ]
        },
        {
          "output_type": "stream",
          "name": "stdout",
          "text": [
            " the first state of the the common and service of the higher position and and research in the United States and the proposed that the official services and the state of the company and the control of t\n"
          ]
        },
        {
          "output_type": "stream",
          "name": "stderr",
          "text": [
            " 11%|█         | 5438/50000 [00:50<06:29, 114.30it/s]"
          ]
        },
        {
          "output_type": "stream",
          "name": "stdout",
          "text": [
            "Loss: 1.370615599155426\n"
          ]
        },
        {
          "output_type": "stream",
          "name": "stderr",
          "text": [
            "\n",
            "  0%|          | 0/200 [00:00<?, ?it/s]\u001b[A\n",
            "100%|██████████| 200/200 [00:00<00:00, 1298.45it/s]\n",
            " 11%|█         | 5451/50000 [00:50<08:36, 86.20it/s] "
          ]
        },
        {
          "output_type": "stream",
          "name": "stdout",
          "text": [
            " and other services and a services to an and a representation of the analysis to a security seats that the state and the are work in the second of the computer state of the companies are also a service\n"
          ]
        },
        {
          "output_type": "stream",
          "name": "stderr",
          "text": [
            " 11%|█         | 5498/50000 [00:50<06:09, 120.41it/s]"
          ]
        },
        {
          "output_type": "stream",
          "name": "stdout",
          "text": [
            "Loss: 1.3699113321304321\n"
          ]
        },
        {
          "output_type": "stream",
          "name": "stderr",
          "text": [
            "\n",
            "  0%|          | 0/200 [00:00<?, ?it/s]\u001b[A\n",
            "100%|██████████| 200/200 [00:00<00:00, 1258.84it/s]\n"
          ]
        },
        {
          "output_type": "stream",
          "name": "stdout",
          "text": [
            " the company of the southern the construction of the intersection of the major and significant computer services that the proposed to the archipelago and the proposed the profile of the country of the \n"
          ]
        },
        {
          "output_type": "stream",
          "name": "stderr",
          "text": [
            " 11%|█         | 5542/50000 [00:51<06:39, 111.28it/s]"
          ]
        },
        {
          "output_type": "stream",
          "name": "stdout",
          "text": [
            "Loss: 1.3674623203277587\n"
          ]
        },
        {
          "output_type": "stream",
          "name": "stderr",
          "text": [
            "\n",
            "  0%|          | 0/200 [00:00<?, ?it/s]\u001b[A\n",
            "100%|██████████| 200/200 [00:00<00:00, 1162.90it/s]"
          ]
        },
        {
          "output_type": "stream",
          "name": "stdout",
          "text": [
            " in the early 2010 century the source of the state of the company and political interest and an experience of the state and the state and an explored to services are compared to the first person to ref\n"
          ]
        },
        {
          "output_type": "stream",
          "name": "stderr",
          "text": [
            "\n",
            " 11%|█         | 5585/50000 [00:51<06:58, 106.19it/s]"
          ]
        },
        {
          "output_type": "stream",
          "name": "stdout",
          "text": [
            "Loss: 1.3668127369880676\n"
          ]
        },
        {
          "output_type": "stream",
          "name": "stderr",
          "text": [
            "\n",
            "  0%|          | 0/200 [00:00<?, ?it/s]\u001b[A\n",
            "100%|██████████| 200/200 [00:00<00:00, 1091.92it/s]\n",
            " 11%|█         | 5600/50000 [00:51<09:19, 79.38it/s] "
          ]
        },
        {
          "output_type": "stream",
          "name": "stdout",
          "text": [
            " and the construction of a services of the construction of the Party of the United States of the result to an important of the considered the state and the company and higher the second function of the\n"
          ]
        },
        {
          "output_type": "stream",
          "name": "stderr",
          "text": [
            " 11%|█▏        | 5648/50000 [00:52<06:11, 119.35it/s]"
          ]
        },
        {
          "output_type": "stream",
          "name": "stdout",
          "text": [
            "Loss: 1.3757367992401124\n"
          ]
        },
        {
          "output_type": "stream",
          "name": "stderr",
          "text": [
            "\n",
            "  0%|          | 0/200 [00:00<?, ?it/s]\u001b[A\n",
            "100%|██████████| 200/200 [00:00<00:00, 1619.18it/s]\n"
          ]
        },
        {
          "output_type": "stream",
          "name": "stdout",
          "text": [
            " and the company of the construction of the production in the state of the control the provide computer were the completed to the problem and an experience and the process of the proposed to the state \n"
          ]
        },
        {
          "output_type": "stream",
          "name": "stderr",
          "text": [
            " 11%|█▏        | 5695/50000 [00:52<06:01, 122.51it/s]"
          ]
        },
        {
          "output_type": "stream",
          "name": "stdout",
          "text": [
            "Loss: 1.3783306884765625\n"
          ]
        },
        {
          "output_type": "stream",
          "name": "stderr",
          "text": [
            "\n",
            "  0%|          | 0/200 [00:00<?, ?it/s]\u001b[A\n",
            "100%|██████████| 200/200 [00:00<00:00, 1513.89it/s]\n",
            " 11%|█▏        | 5709/50000 [00:52<07:39, 96.38it/s] "
          ]
        },
        {
          "output_type": "stream",
          "name": "stdout",
          "text": [
            " in an and the standard and the state of the state of the subsequently on the original standards of the state of the products that the construction of the land services and the process of the state of \n"
          ]
        },
        {
          "output_type": "stream",
          "name": "stderr",
          "text": [
            " 11%|█▏        | 5741/50000 [00:53<06:05, 120.98it/s]"
          ]
        },
        {
          "output_type": "stream",
          "name": "stdout",
          "text": [
            "Loss: 1.3772515201568603\n"
          ]
        },
        {
          "output_type": "stream",
          "name": "stderr",
          "text": [
            "\n",
            "  0%|          | 0/200 [00:00<?, ?it/s]\u001b[A\n",
            "100%|██████████| 200/200 [00:00<00:00, 1655.77it/s]\n",
            " 12%|█▏        | 5755/50000 [00:53<07:32, 97.75it/s] "
          ]
        },
        {
          "output_type": "stream",
          "name": "stdout",
          "text": [
            " and a product of the Southern Commons and the Commons and the country to the support of the term for a company and population and the production of the term on the trains and the control to see a larg\n"
          ]
        },
        {
          "output_type": "stream",
          "name": "stderr",
          "text": [
            " 12%|█▏        | 5787/50000 [00:53<06:01, 122.22it/s]"
          ]
        },
        {
          "output_type": "stream",
          "name": "stdout",
          "text": [
            "Loss: 1.3768603777885438\n"
          ]
        },
        {
          "output_type": "stream",
          "name": "stderr",
          "text": [
            "\n",
            "  0%|          | 0/200 [00:00<?, ?it/s]\u001b[A\n",
            "100%|██████████| 200/200 [00:00<00:00, 1658.60it/s]\n",
            " 12%|█▏        | 5801/50000 [00:53<07:31, 97.93it/s] "
          ]
        },
        {
          "output_type": "stream",
          "name": "stdout",
          "text": [
            " in the state of the standard of the top speeds of the second control of the first the companies and the company designed to the company and a distributed to the records and construction of the company\n"
          ]
        },
        {
          "output_type": "stream",
          "name": "stderr",
          "text": [
            " 12%|█▏        | 5834/50000 [00:53<06:02, 121.97it/s]"
          ]
        },
        {
          "output_type": "stream",
          "name": "stdout",
          "text": [
            "Loss: 1.3797272562980651\n"
          ]
        },
        {
          "output_type": "stream",
          "name": "stderr",
          "text": [
            "\n",
            "  0%|          | 0/200 [00:00<?, ?it/s]\u001b[A\n",
            "100%|██████████| 200/200 [00:00<00:00, 1634.69it/s]\n",
            " 12%|█▏        | 5850/50000 [00:54<07:23, 99.60it/s] "
          ]
        },
        {
          "output_type": "stream",
          "name": "stdout",
          "text": [
            " the companies in the United States and the standards and the development of the present the state of the speeds of the production and the companies and the specific population of the control of the Fr\n"
          ]
        },
        {
          "output_type": "stream",
          "name": "stderr",
          "text": [
            " 12%|█▏        | 5884/50000 [00:54<05:52, 125.00it/s]"
          ]
        },
        {
          "output_type": "stream",
          "name": "stdout",
          "text": [
            "Loss: 1.3812629246711732\n"
          ]
        },
        {
          "output_type": "stream",
          "name": "stderr",
          "text": [
            "\n",
            "  0%|          | 0/200 [00:00<?, ?it/s]\u001b[A\n",
            "100%|██████████| 200/200 [00:00<00:00, 1388.25it/s]\n",
            " 12%|█▏        | 5900/50000 [00:54<07:32, 97.53it/s] "
          ]
        },
        {
          "output_type": "stream",
          "name": "stdout",
          "text": [
            " and a person and a company of the world and the support the result of the construction of the process the intersection and designed to the state and services of the state of the the commentation of th\n"
          ]
        },
        {
          "output_type": "stream",
          "name": "stderr",
          "text": [
            " 12%|█▏        | 5934/50000 [00:54<05:58, 122.81it/s]"
          ]
        },
        {
          "output_type": "stream",
          "name": "stdout",
          "text": [
            "Loss: 1.363829493522644\n"
          ]
        },
        {
          "output_type": "stream",
          "name": "stderr",
          "text": [
            "\n",
            "  0%|          | 0/200 [00:00<?, ?it/s]\u001b[A\n",
            "100%|██████████| 200/200 [00:00<00:00, 1511.47it/s]\n",
            " 12%|█▏        | 5950/50000 [00:54<07:28, 98.12it/s] "
          ]
        },
        {
          "output_type": "stream",
          "name": "stdout",
          "text": [
            " and other state of the based on the present for the southern sets of the state of the distributed to the constitutional and the state and an international trains to the standards in the 1960s of the p\n"
          ]
        },
        {
          "output_type": "stream",
          "name": "stderr",
          "text": [
            " 12%|█▏        | 5984/50000 [00:55<05:57, 122.98it/s]"
          ]
        },
        {
          "output_type": "stream",
          "name": "stdout",
          "text": [
            "Loss: 1.3606210470199585\n"
          ]
        },
        {
          "output_type": "stream",
          "name": "stderr",
          "text": [
            "\n",
            "  0%|          | 0/200 [00:00<?, ?it/s]\u001b[A\n",
            "100%|██████████| 200/200 [00:00<00:00, 1478.37it/s]\n",
            " 12%|█▏        | 6000/50000 [00:55<07:28, 98.13it/s] "
          ]
        },
        {
          "output_type": "stream",
          "name": "stdout",
          "text": [
            " and the companies to the production of the services of the sources of the first companies and in the common and former or process of the service to the state and proposed to a major history of the sub\n"
          ]
        },
        {
          "output_type": "stream",
          "name": "stderr",
          "text": [
            " 12%|█▏        | 6049/50000 [00:55<05:34, 131.52it/s]"
          ]
        },
        {
          "output_type": "stream",
          "name": "stdout",
          "text": [
            "Loss: 1.363999719619751\n"
          ]
        },
        {
          "output_type": "stream",
          "name": "stderr",
          "text": [
            "\n",
            "  0%|          | 0/200 [00:00<?, ?it/s]\u001b[A\n",
            "100%|██████████| 200/200 [00:00<00:00, 1499.37it/s]\n"
          ]
        },
        {
          "output_type": "stream",
          "name": "stdout",
          "text": [
            " the state at the state of the seats of the state and the product of the companies from the largest state of the experience of a state of the construction of the common services of the relationship of \n"
          ]
        },
        {
          "output_type": "stream",
          "name": "stderr",
          "text": [
            " 12%|█▏        | 6097/50000 [00:56<05:55, 123.55it/s]"
          ]
        },
        {
          "output_type": "stream",
          "name": "stdout",
          "text": [
            "Loss: 1.3845220637321471\n"
          ]
        },
        {
          "output_type": "stream",
          "name": "stderr",
          "text": [
            "\n",
            "  0%|          | 0/200 [00:00<?, ?it/s]\u001b[A\n",
            "100%|██████████| 200/200 [00:00<00:00, 1632.51it/s]\n",
            " 12%|█▏        | 6111/50000 [00:56<07:23, 98.85it/s] "
          ]
        },
        {
          "output_type": "stream",
          "name": "stdout",
          "text": [
            " and religion in the state and the former state of the production in the United States and the construction as a set of the set of the new services in the major medical systems to the sources of the so\n"
          ]
        },
        {
          "output_type": "stream",
          "name": "stderr",
          "text": [
            " 12%|█▏        | 6144/50000 [00:56<05:55, 123.20it/s]"
          ]
        },
        {
          "output_type": "stream",
          "name": "stdout",
          "text": [
            "Loss: 1.3703094577789308\n"
          ]
        },
        {
          "output_type": "stream",
          "name": "stderr",
          "text": [
            "\n",
            "  0%|          | 0/200 [00:00<?, ?it/s]\u001b[A\n",
            "100%|██████████| 200/200 [00:00<00:00, 1587.40it/s]\n",
            " 12%|█▏        | 6158/50000 [00:56<07:30, 97.27it/s] "
          ]
        },
        {
          "output_type": "stream",
          "name": "stdout",
          "text": [
            " and the majority of the state in the service and the state of the southern American and the American Commission of the African American Americans and the analysis and discovered to the study of the st\n"
          ]
        },
        {
          "output_type": "stream",
          "name": "stderr",
          "text": [
            " 12%|█▏        | 6190/50000 [00:57<06:00, 121.68it/s]"
          ]
        },
        {
          "output_type": "stream",
          "name": "stdout",
          "text": [
            "Loss: 1.3681038641929626\n"
          ]
        },
        {
          "output_type": "stream",
          "name": "stderr",
          "text": [
            "\n",
            "  0%|          | 0/200 [00:00<?, ?it/s]\u001b[A\n",
            "100%|██████████| 200/200 [00:00<00:00, 1556.70it/s]\n",
            " 12%|█▏        | 6204/50000 [00:57<07:34, 96.44it/s] "
          ]
        },
        {
          "output_type": "stream",
          "name": "stdout",
          "text": [
            " to the first problems and the similar to the state and the proposed that the design to many recorded by the trains from the computer states and the company of the transportation to the active and serv\n"
          ]
        },
        {
          "output_type": "stream",
          "name": "stderr",
          "text": [
            " 12%|█▏        | 6237/50000 [00:57<06:01, 121.20it/s]"
          ]
        },
        {
          "output_type": "stream",
          "name": "stdout",
          "text": [
            "Loss: 1.361362762451172\n"
          ]
        },
        {
          "output_type": "stream",
          "name": "stderr",
          "text": [
            "\n",
            "  0%|          | 0/200 [00:00<?, ?it/s]\u001b[A\n",
            "100%|██████████| 200/200 [00:00<00:00, 1600.22it/s]\n",
            " 13%|█▎        | 6251/50000 [00:57<07:29, 97.32it/s] "
          ]
        },
        {
          "output_type": "stream",
          "name": "stdout",
          "text": [
            " and the southern process of the studies and the state of the result that the companies are a significant provide an activities are also been also control of the ability in the approaches and the subst\n"
          ]
        },
        {
          "output_type": "stream",
          "name": "stderr",
          "text": [
            " 13%|█▎        | 6284/50000 [00:57<05:56, 122.52it/s]"
          ]
        },
        {
          "output_type": "stream",
          "name": "stdout",
          "text": [
            "Loss: 1.3666719555854798\n"
          ]
        },
        {
          "output_type": "stream",
          "name": "stderr",
          "text": [
            "\n",
            "  0%|          | 0/200 [00:00<?, ?it/s]\u001b[A\n",
            "100%|██████████| 200/200 [00:00<00:00, 1617.60it/s]\n",
            " 13%|█▎        | 6300/50000 [00:58<07:18, 99.61it/s] "
          ]
        },
        {
          "output_type": "stream",
          "name": "stdout",
          "text": [
            " and the same and have social networking standards and the control control in the second was a simple in the company services are the same the constitutional state is the state of the railway and opera\n"
          ]
        },
        {
          "output_type": "stream",
          "name": "stderr",
          "text": [
            " 13%|█▎        | 6334/50000 [00:58<05:50, 124.69it/s]"
          ]
        },
        {
          "output_type": "stream",
          "name": "stdout",
          "text": [
            "Loss: 1.3669474744796752\n"
          ]
        },
        {
          "output_type": "stream",
          "name": "stderr",
          "text": [
            "\n",
            "  0%|          | 0/200 [00:00<?, ?it/s]\u001b[A\n",
            "100%|██████████| 200/200 [00:00<00:00, 1598.47it/s]\n",
            " 13%|█▎        | 6350/50000 [00:58<07:14, 100.47it/s]"
          ]
        },
        {
          "output_type": "stream",
          "name": "stdout",
          "text": [
            " the trains and the largest company and reality to a produced the highest company in the classified in the United States and the computer and official for the state and responsibility of the state of t\n"
          ]
        },
        {
          "output_type": "stream",
          "name": "stderr",
          "text": [
            " 13%|█▎        | 6399/50000 [00:58<05:28, 132.72it/s]"
          ]
        },
        {
          "output_type": "stream",
          "name": "stdout",
          "text": [
            "Loss: 1.3696955013275147\n"
          ]
        },
        {
          "output_type": "stream",
          "name": "stderr",
          "text": [
            "\n",
            "  0%|          | 0/200 [00:00<?, ?it/s]\u001b[A\n",
            "100%|██████████| 200/200 [00:00<00:00, 1523.57it/s]\n"
          ]
        },
        {
          "output_type": "stream",
          "name": "stdout",
          "text": [
            " and the seat of the company and the computer school and the first of the processes of the United States and the United States of the 1990s in the United States and formal state and the standard produc\n"
          ]
        },
        {
          "output_type": "stream",
          "name": "stderr",
          "text": [
            " 13%|█▎        | 6447/50000 [00:59<05:48, 124.96it/s]"
          ]
        },
        {
          "output_type": "stream",
          "name": "stdout",
          "text": [
            "Loss: 1.3537157917022704\n"
          ]
        },
        {
          "output_type": "stream",
          "name": "stderr",
          "text": [
            "\n",
            "  0%|          | 0/200 [00:00<?, ?it/s]\u001b[A\n",
            "100%|██████████| 200/200 [00:00<00:00, 1344.02it/s]\n"
          ]
        },
        {
          "output_type": "stream",
          "name": "stdout",
          "text": [
            " in 1970s in the services of the second all the similar to the provide a state of the area of the company of the present in a protection of the transport of the control to the United States of the Sant\n"
          ]
        },
        {
          "output_type": "stream",
          "name": "stderr",
          "text": [
            " 13%|█▎        | 6495/50000 [00:59<06:00, 120.55it/s]"
          ]
        },
        {
          "output_type": "stream",
          "name": "stdout",
          "text": [
            "Loss: 1.3551666378974914\n"
          ]
        },
        {
          "output_type": "stream",
          "name": "stderr",
          "text": [
            "\n",
            "  0%|          | 0/200 [00:00<?, ?it/s]\u001b[A\n",
            "100%|██████████| 200/200 [00:00<00:00, 1401.64it/s]\n"
          ]
        },
        {
          "output_type": "stream",
          "name": "stdout",
          "text": [
            " many advanced and many of the development of a person and the new and and services and the southern states that the development of the process and the computer discoveries and the state of the most of\n"
          ]
        },
        {
          "output_type": "stream",
          "name": "stderr",
          "text": [
            " 13%|█▎        | 6542/50000 [01:00<06:04, 119.13it/s]"
          ]
        },
        {
          "output_type": "stream",
          "name": "stdout",
          "text": [
            "Loss: 1.363654806613922\n"
          ]
        },
        {
          "output_type": "stream",
          "name": "stderr",
          "text": [
            "\n",
            "  0%|          | 0/200 [00:00<?, ?it/s]\u001b[A\n",
            "100%|██████████| 200/200 [00:00<00:00, 703.68it/s] \n",
            " 13%|█▎        | 6569/50000 [01:00<08:50, 81.85it/s]"
          ]
        },
        {
          "output_type": "stream",
          "name": "stdout",
          "text": [
            " and the state and the common and the state of the proposed by the product of the state and originally and the result of the company survey of the second production of the state of the United States ar\n"
          ]
        },
        {
          "output_type": "stream",
          "name": "stderr",
          "text": [
            "\r 13%|█▎        | 6586/50000 [01:00<07:23, 97.86it/s]"
          ]
        },
        {
          "output_type": "stream",
          "name": "stdout",
          "text": [
            "Loss: 1.377685992717743\n"
          ]
        },
        {
          "output_type": "stream",
          "name": "stderr",
          "text": [
            "\n",
            "  0%|          | 0/200 [00:00<?, ?it/s]\u001b[A\n",
            "100%|██████████| 200/200 [00:00<00:00, 1455.50it/s]\n",
            " 13%|█▎        | 6600/50000 [01:01<08:42, 83.14it/s]"
          ]
        },
        {
          "output_type": "stream",
          "name": "stdout",
          "text": [
            " the state in the second and and interested and population and the south and increase the architecture of the problems in the Technical Cape Verde and the result of the population and the state of the \n"
          ]
        },
        {
          "output_type": "stream",
          "name": "stderr",
          "text": [
            " 13%|█▎        | 6638/50000 [01:01<07:57, 90.82it/s]"
          ]
        },
        {
          "output_type": "stream",
          "name": "stdout",
          "text": [
            "Loss: 1.3824829030036927\n"
          ]
        },
        {
          "output_type": "stream",
          "name": "stderr",
          "text": [
            "\n",
            "  0%|          | 0/200 [00:00<?, ?it/s]\u001b[A\n",
            "100%|██████████| 200/200 [00:00<00:00, 1389.39it/s]\n",
            " 13%|█▎        | 6650/50000 [01:01<09:59, 72.31it/s]"
          ]
        },
        {
          "output_type": "stream",
          "name": "stdout",
          "text": [
            " and the state of the area of the company of the state, and a computer standard management of the expected a similar and successful or single state and a services and the country of the particular and \n"
          ]
        },
        {
          "output_type": "stream",
          "name": "stderr",
          "text": [
            " 13%|█▎        | 6684/50000 [01:01<06:46, 106.50it/s]"
          ]
        },
        {
          "output_type": "stream",
          "name": "stdout",
          "text": [
            "Loss: 1.3639788150787353\n"
          ]
        },
        {
          "output_type": "stream",
          "name": "stderr",
          "text": [
            "\n",
            "  0%|          | 0/200 [00:00<?, ?it/s]\u001b[A\n",
            "100%|██████████| 200/200 [00:00<00:00, 740.78it/s] \n",
            " 13%|█▎        | 6710/50000 [01:02<10:05, 71.48it/s]"
          ]
        },
        {
          "output_type": "stream",
          "name": "stdout",
          "text": [
            " and the Cape Verde is the study of the term control of a design of the traditional state of the process control of a discovered in 1985, the state of the control of the source to a series of the consi\n"
          ]
        },
        {
          "output_type": "stream",
          "name": "stderr",
          "text": [
            " 13%|█▎        | 6735/50000 [01:02<08:21, 86.26it/s]"
          ]
        },
        {
          "output_type": "stream",
          "name": "stdout",
          "text": [
            "Loss: 1.386196835041046\n"
          ]
        },
        {
          "output_type": "stream",
          "name": "stderr",
          "text": [
            "\n",
            "  0%|          | 0/200 [00:00<?, ?it/s]\u001b[A\n",
            "100%|██████████| 200/200 [00:00<00:00, 1354.47it/s]\n",
            " 14%|█▎        | 6750/50000 [01:02<09:44, 74.06it/s]"
          ]
        },
        {
          "output_type": "stream",
          "name": "stdout",
          "text": [
            " continued the standard of the original control to added to the state of the state and in the electrolid on the explore the position and the southern state of the content of the production of the conti\n"
          ]
        },
        {
          "output_type": "stream",
          "name": "stderr",
          "text": [
            " 14%|█▎        | 6796/50000 [01:03<06:26, 111.71it/s]"
          ]
        },
        {
          "output_type": "stream",
          "name": "stdout",
          "text": [
            "Loss: 1.364421329498291\n"
          ]
        },
        {
          "output_type": "stream",
          "name": "stderr",
          "text": [
            "\n",
            "  0%|          | 0/200 [00:00<?, ?it/s]\u001b[A\n",
            "100%|██████████| 200/200 [00:00<00:00, 1152.59it/s]"
          ]
        },
        {
          "output_type": "stream",
          "name": "stdout",
          "text": [
            " and other international constructed to the influence that the country of the state and the state and international computer service of the processes see the state and the proposed to its high-speed ra\n"
          ]
        },
        {
          "output_type": "stream",
          "name": "stderr",
          "text": [
            "\n",
            " 14%|█▎        | 6839/50000 [01:03<06:55, 103.91it/s]"
          ]
        },
        {
          "output_type": "stream",
          "name": "stdout",
          "text": [
            "Loss: 1.371964111328125\n"
          ]
        },
        {
          "output_type": "stream",
          "name": "stderr",
          "text": [
            "\n",
            "  0%|          | 0/200 [00:00<?, ?it/s]\u001b[A\n",
            "100%|██████████| 200/200 [00:00<00:00, 1060.72it/s]"
          ]
        },
        {
          "output_type": "stream",
          "name": "stdout",
          "text": [
            " in the state of the North Australia and Commons and the South American Americans and the Cape Verdean protect of the Northern State of the South American and The South Amtrak on the Commons and the se\n"
          ]
        },
        {
          "output_type": "stream",
          "name": "stderr",
          "text": [
            "\n",
            " 14%|█▍        | 6895/50000 [01:04<06:35, 108.93it/s]"
          ]
        },
        {
          "output_type": "stream",
          "name": "stdout",
          "text": [
            "Loss: 1.3695945143699646\n"
          ]
        },
        {
          "output_type": "stream",
          "name": "stderr",
          "text": [
            "\n",
            "  0%|          | 0/200 [00:00<?, ?it/s]\u001b[A\n",
            "100%|██████████| 200/200 [00:00<00:00, 1263.22it/s]"
          ]
        },
        {
          "output_type": "stream",
          "name": "stdout",
          "text": [
            " and the second services and proposed that a state of the participated to the Americans are a more company of the time to the services between 1990s, and the Cape Verde is a state of the control of the\n"
          ]
        },
        {
          "output_type": "stream",
          "name": "stderr",
          "text": [
            "\n",
            " 14%|█▍        | 6940/50000 [01:04<06:25, 111.68it/s]"
          ]
        },
        {
          "output_type": "stream",
          "name": "stdout",
          "text": [
            "Loss: 1.3603803086280823\n"
          ]
        },
        {
          "output_type": "stream",
          "name": "stderr",
          "text": [
            "\n",
            "  0%|          | 0/200 [00:00<?, ?it/s]\u001b[A\n",
            "100%|██████████| 200/200 [00:00<00:00, 1604.93it/s]\n",
            " 14%|█▍        | 6954/50000 [01:05<07:47, 92.01it/s] "
          ]
        },
        {
          "output_type": "stream",
          "name": "stdout",
          "text": [
            " and the significant programmer of the computer standards and the controlled to the second the service of the second the term and company and standard the experience of provided the southern areas of t\n"
          ]
        },
        {
          "output_type": "stream",
          "name": "stderr",
          "text": [
            " 14%|█▍        | 6987/50000 [01:05<06:03, 118.38it/s]"
          ]
        },
        {
          "output_type": "stream",
          "name": "stdout",
          "text": [
            "Loss: 1.3751393628120423\n"
          ]
        },
        {
          "output_type": "stream",
          "name": "stderr",
          "text": [
            "\n",
            "  0%|          | 0/200 [00:00<?, ?it/s]\u001b[A\n",
            "100%|██████████| 200/200 [00:00<00:00, 1354.15it/s]\n",
            " 14%|█▍        | 7001/50000 [01:05<07:53, 90.79it/s] "
          ]
        },
        {
          "output_type": "stream",
          "name": "stdout",
          "text": [
            " and allow the company of the content of the considered the product to the product of the term are often were former standards and experimental services and standards and the services and a production \n"
          ]
        },
        {
          "output_type": "stream",
          "name": "stderr",
          "text": [
            " 14%|█▍        | 7034/50000 [01:05<06:04, 117.81it/s]"
          ]
        },
        {
          "output_type": "stream",
          "name": "stdout",
          "text": [
            "Loss: 1.3723371887207032\n"
          ]
        },
        {
          "output_type": "stream",
          "name": "stderr",
          "text": [
            "\n",
            "  0%|          | 0/200 [00:00<?, ?it/s]\u001b[A\n",
            "100%|██████████| 200/200 [00:00<00:00, 1568.14it/s]\n",
            " 14%|█▍        | 7050/50000 [01:05<07:25, 96.35it/s] "
          ]
        },
        {
          "output_type": "stream",
          "name": "stdout",
          "text": [
            " and a production of the continued to real lines that the standard state and the community of the product of the set of the proposed in 1998 to 1990s of the United States and the United States that the\n"
          ]
        },
        {
          "output_type": "stream",
          "name": "stderr",
          "text": [
            " 14%|█▍        | 7099/50000 [01:06<05:29, 130.07it/s]"
          ]
        },
        {
          "output_type": "stream",
          "name": "stdout",
          "text": [
            "Loss: 1.3817466735839843\n"
          ]
        },
        {
          "output_type": "stream",
          "name": "stderr",
          "text": [
            "\n",
            "  0%|          | 0/200 [00:00<?, ?it/s]\u001b[A\n",
            "100%|██████████| 200/200 [00:00<00:00, 1617.66it/s]\n"
          ]
        },
        {
          "output_type": "stream",
          "name": "stdout",
          "text": [
            " and the self-identified to the computer standards with an international computing to the computer services are the substance in the company in the process of the United States and the most later and t\n"
          ]
        },
        {
          "output_type": "stream",
          "name": "stderr",
          "text": [
            " 14%|█▍        | 7146/50000 [01:06<05:44, 124.36it/s]"
          ]
        },
        {
          "output_type": "stream",
          "name": "stdout",
          "text": [
            "Loss: 1.3666729736328125\n"
          ]
        },
        {
          "output_type": "stream",
          "name": "stderr",
          "text": [
            "\n",
            "  0%|          | 0/200 [00:00<?, ?it/s]\u001b[A\n",
            "100%|██████████| 200/200 [00:00<00:00, 1577.06it/s]\n",
            " 14%|█▍        | 7160/50000 [01:06<07:16, 98.12it/s] "
          ]
        },
        {
          "output_type": "stream",
          "name": "stdout",
          "text": [
            " and the born was the country. The population of the states that the state and produce the services and the most standards and an international provides the employed as the control of the services and \n"
          ]
        },
        {
          "output_type": "stream",
          "name": "stderr",
          "text": [
            " 14%|█▍        | 7194/50000 [01:07<05:44, 124.10it/s]"
          ]
        },
        {
          "output_type": "stream",
          "name": "stdout",
          "text": [
            "Loss: 1.36432785987854\n"
          ]
        },
        {
          "output_type": "stream",
          "name": "stderr",
          "text": [
            "\n",
            "  0%|          | 0/200 [00:00<?, ?it/s]\u001b[A\n",
            "100%|██████████| 200/200 [00:00<00:00, 1566.18it/s]\n",
            " 14%|█▍        | 7208/50000 [01:07<07:14, 98.56it/s] "
          ]
        },
        {
          "output_type": "stream",
          "name": "stdout",
          "text": [
            " and the state and an indective company and international sites. The company services and research and state of the computing the process and an international programmer and international produced the \n"
          ]
        },
        {
          "output_type": "stream",
          "name": "stderr",
          "text": [
            " 14%|█▍        | 7240/50000 [01:07<05:54, 120.75it/s]"
          ]
        },
        {
          "output_type": "stream",
          "name": "stdout",
          "text": [
            "Loss: 1.3651464462280274\n"
          ]
        },
        {
          "output_type": "stream",
          "name": "stderr",
          "text": [
            "\n",
            "  0%|          | 0/200 [00:00<?, ?it/s]\u001b[A\n",
            "100%|██████████| 200/200 [00:00<00:00, 1527.70it/s]\n",
            " 15%|█▍        | 7254/50000 [01:07<07:27, 95.51it/s] "
          ]
        },
        {
          "output_type": "stream",
          "name": "stdout",
          "text": [
            " to second and one of the state of the concept of the state and the first the second all carried on the computing of the construction of the relationships of the southern the term and the second land w\n"
          ]
        },
        {
          "output_type": "stream",
          "name": "stderr",
          "text": [
            " 15%|█▍        | 7287/50000 [01:07<05:51, 121.53it/s]"
          ]
        },
        {
          "output_type": "stream",
          "name": "stdout",
          "text": [
            "Loss: 1.3655689930915833\n"
          ]
        },
        {
          "output_type": "stream",
          "name": "stderr",
          "text": [
            "\n",
            "  0%|          | 0/200 [00:00<?, ?it/s]\u001b[A\n",
            "100%|██████████| 200/200 [00:00<00:00, 1612.20it/s]\n",
            " 15%|█▍        | 7301/50000 [01:08<07:19, 97.15it/s] "
          ]
        },
        {
          "output_type": "stream",
          "name": "stdout",
          "text": [
            " and a services and many share to building the set the state of the particular considered the second also the largest project of the term and mathematical companies and only the general standards and t\n"
          ]
        },
        {
          "output_type": "stream",
          "name": "stderr",
          "text": [
            " 15%|█▍        | 7334/50000 [01:08<05:48, 122.54it/s]"
          ]
        },
        {
          "output_type": "stream",
          "name": "stdout",
          "text": [
            "Loss: 1.378065164089203\n"
          ]
        },
        {
          "output_type": "stream",
          "name": "stderr",
          "text": [
            "\n",
            "  0%|          | 0/200 [00:00<?, ?it/s]\u001b[A\n",
            "100%|██████████| 200/200 [00:00<00:00, 1575.01it/s]\n",
            " 15%|█▍        | 7350/50000 [01:08<07:14, 98.19it/s] "
          ]
        },
        {
          "output_type": "stream",
          "name": "stdout",
          "text": [
            " and the process in the United States and the end of the Cape Verde and the international result of the state of the company of the Chicago and Company Railway March 2016. The South American and the Co\n"
          ]
        },
        {
          "output_type": "stream",
          "name": "stderr",
          "text": [
            " 15%|█▍        | 7383/50000 [01:08<05:49, 121.89it/s]"
          ]
        },
        {
          "output_type": "stream",
          "name": "stdout",
          "text": [
            "Loss: 1.3733544111251832\n"
          ]
        },
        {
          "output_type": "stream",
          "name": "stderr",
          "text": [
            "\n",
            "  0%|          | 0/200 [00:00<?, ?it/s]\u001b[A\n",
            "100%|██████████| 200/200 [00:00<00:00, 1574.03it/s]\n",
            " 15%|█▍        | 7400/50000 [01:09<07:07, 99.70it/s] "
          ]
        },
        {
          "output_type": "stream",
          "name": "stdout",
          "text": [
            " to a seats of the second in the company and a more than other development of the stations of the national social networking and subsequent production of the process of the services of the standards an\n"
          ]
        },
        {
          "output_type": "stream",
          "name": "stderr",
          "text": [
            " 15%|█▍        | 7449/50000 [01:09<05:25, 130.85it/s]"
          ]
        },
        {
          "output_type": "stream",
          "name": "stdout",
          "text": [
            "Loss: 1.3729638862609863\n"
          ]
        },
        {
          "output_type": "stream",
          "name": "stderr",
          "text": [
            "\n",
            "  0%|          | 0/200 [00:00<?, ?it/s]\u001b[A\n",
            "100%|██████████| 200/200 [00:00<00:00, 1449.49it/s]\n"
          ]
        },
        {
          "output_type": "stream",
          "name": "stdout",
          "text": [
            " and the proposed to the seats of the state of the state and the company and all and other full service of the construction of the first control of the processes of the services and other proposed and \n"
          ]
        },
        {
          "output_type": "stream",
          "name": "stderr",
          "text": [
            " 15%|█▍        | 7497/50000 [01:09<05:44, 123.53it/s]"
          ]
        },
        {
          "output_type": "stream",
          "name": "stdout",
          "text": [
            "Loss: 1.373231213092804\n"
          ]
        },
        {
          "output_type": "stream",
          "name": "stderr",
          "text": [
            "\n",
            "  0%|          | 0/200 [00:00<?, ?it/s]\u001b[A\n",
            "100%|██████████| 200/200 [00:00<00:00, 1516.89it/s]\n"
          ]
        },
        {
          "output_type": "stream",
          "name": "stdout",
          "text": [
            " and a second and additional and the former international company and a companies and the provide the religion of the state in the article of the process and the programs of the company and the company\n"
          ]
        },
        {
          "output_type": "stream",
          "name": "stderr",
          "text": [
            " 15%|█▌        | 7545/50000 [01:10<05:47, 122.33it/s]"
          ]
        },
        {
          "output_type": "stream",
          "name": "stdout",
          "text": [
            "Loss: 1.3554549646377563\n"
          ]
        },
        {
          "output_type": "stream",
          "name": "stderr",
          "text": [
            "\n",
            "  0%|          | 0/200 [00:00<?, ?it/s]\u001b[A\n",
            "100%|██████████| 200/200 [00:00<00:00, 1442.41it/s]\n"
          ]
        },
        {
          "output_type": "stream",
          "name": "stdout",
          "text": [
            " in the southern the result of the state of the second and the state of the position and the top speed of the development of the first provide a second of the plane of the state of the transport and a \n"
          ]
        },
        {
          "output_type": "stream",
          "name": "stderr",
          "text": [
            " 15%|█▌        | 7592/50000 [01:10<05:51, 120.73it/s]"
          ]
        },
        {
          "output_type": "stream",
          "name": "stdout",
          "text": [
            "Loss: 1.3811602449417115\n"
          ]
        },
        {
          "output_type": "stream",
          "name": "stderr",
          "text": [
            "\n",
            "  0%|          | 0/200 [00:00<?, ?it/s]\u001b[A\n",
            "100%|██████████| 200/200 [00:00<00:00, 1550.83it/s]\n",
            " 15%|█▌        | 7606/50000 [01:10<07:19, 96.39it/s] "
          ]
        },
        {
          "output_type": "stream",
          "name": "stdout",
          "text": [
            " is a service is the process and a state of the state of the trains and the state and the common security to the second international state of the state of the states of the country of the states of th\n"
          ]
        },
        {
          "output_type": "stream",
          "name": "stderr",
          "text": [
            " 15%|█▌        | 7638/50000 [01:11<05:50, 120.96it/s]"
          ]
        },
        {
          "output_type": "stream",
          "name": "stdout",
          "text": [
            "Loss: 1.3687694597244262\n"
          ]
        },
        {
          "output_type": "stream",
          "name": "stderr",
          "text": [
            "\n",
            "  0%|          | 0/200 [00:00<?, ?it/s]\u001b[A\n",
            "100%|██████████| 200/200 [00:00<00:00, 1476.26it/s]\n",
            " 15%|█▌        | 7652/50000 [01:11<07:26, 94.90it/s] "
          ]
        },
        {
          "output_type": "stream",
          "name": "stdout",
          "text": [
            " and the production of the product of the set the only became a result of the products in the company of the state and the southern state and a construction of the state of the control of the states an\n"
          ]
        },
        {
          "output_type": "stream",
          "name": "stderr",
          "text": [
            " 15%|█▌        | 7684/50000 [01:11<05:54, 119.46it/s]"
          ]
        },
        {
          "output_type": "stream",
          "name": "stdout",
          "text": [
            "Loss: 1.3529599475860596\n"
          ]
        },
        {
          "output_type": "stream",
          "name": "stderr",
          "text": [
            "\n",
            "  0%|          | 0/200 [00:00<?, ?it/s]\u001b[A\n",
            "100%|██████████| 200/200 [00:00<00:00, 1603.39it/s]\n",
            " 15%|█▌        | 7700/50000 [01:11<07:15, 97.18it/s] "
          ]
        },
        {
          "output_type": "stream",
          "name": "stdout",
          "text": [
            " and the international state of the production of the last of the first control of state to the population of the state of the European and the Cape Verde is the original more community of the first st\n"
          ]
        },
        {
          "output_type": "stream",
          "name": "stderr",
          "text": [
            " 15%|█▌        | 7734/50000 [01:12<05:44, 122.80it/s]"
          ]
        },
        {
          "output_type": "stream",
          "name": "stdout",
          "text": [
            "Loss: 1.3669590997695922\n"
          ]
        },
        {
          "output_type": "stream",
          "name": "stderr",
          "text": [
            "\n",
            "  0%|          | 0/200 [00:00<?, ?it/s]\u001b[A\n",
            "100%|██████████| 200/200 [00:00<00:00, 1591.77it/s]\n",
            " 16%|█▌        | 7750/50000 [01:12<07:02, 99.94it/s] "
          ]
        },
        {
          "output_type": "stream",
          "name": "stdout",
          "text": [
            " and the completed the proposed on the same political of the company to the state of the provide an exponentiation of the proposed that the company of the language of the Cape Verde and the first probl\n"
          ]
        },
        {
          "output_type": "stream",
          "name": "stderr",
          "text": [
            " 16%|█▌        | 7799/50000 [01:12<05:19, 131.96it/s]"
          ]
        },
        {
          "output_type": "stream",
          "name": "stdout",
          "text": [
            "Loss: 1.3695377588272095\n"
          ]
        },
        {
          "output_type": "stream",
          "name": "stderr",
          "text": [
            "\n",
            "  0%|          | 0/200 [00:00<?, ?it/s]\u001b[A\n",
            "100%|██████████| 200/200 [00:00<00:00, 1616.16it/s]\n"
          ]
        },
        {
          "output_type": "stream",
          "name": "stdout",
          "text": [
            " and in control of the state and the standards and the company of the state of the area to the set of the company in the United States and the ability of the committee to the state of the archipelago i\n"
          ]
        },
        {
          "output_type": "stream",
          "name": "stderr",
          "text": [
            " 16%|█▌        | 7848/50000 [01:13<05:31, 127.23it/s]"
          ]
        },
        {
          "output_type": "stream",
          "name": "stdout",
          "text": [
            "Loss: 1.375243709087372\n"
          ]
        },
        {
          "output_type": "stream",
          "name": "stderr",
          "text": [
            "\n",
            "  0%|          | 0/200 [00:00<?, ?it/s]\u001b[A\n",
            "100%|██████████| 200/200 [00:00<00:00, 1595.83it/s]\n"
          ]
        },
        {
          "output_type": "stream",
          "name": "stdout",
          "text": [
            " and the control of the state of the United States of Cape Verde in the 1990s, the seat of the same models and the second and production of the area of the control of the state of the first way of the \n"
          ]
        },
        {
          "output_type": "stream",
          "name": "stderr",
          "text": [
            " 16%|█▌        | 7895/50000 [01:13<05:44, 122.20it/s]"
          ]
        },
        {
          "output_type": "stream",
          "name": "stdout",
          "text": [
            "Loss: 1.383875584602356\n"
          ]
        },
        {
          "output_type": "stream",
          "name": "stderr",
          "text": [
            "\n",
            "  0%|          | 0/200 [00:00<?, ?it/s]\u001b[A\n",
            "100%|██████████| 200/200 [00:00<00:00, 1582.18it/s]\n",
            " 16%|█▌        | 7909/50000 [01:13<07:12, 97.40it/s] "
          ]
        },
        {
          "output_type": "stream",
          "name": "stdout",
          "text": [
            " international social networks and the standards, and and and are made a standard of the continued to the term and many company support of the seat the computer state and the common designed to the con\n"
          ]
        },
        {
          "output_type": "stream",
          "name": "stderr",
          "text": [
            " 16%|█▌        | 7941/50000 [01:13<05:45, 121.69it/s]"
          ]
        },
        {
          "output_type": "stream",
          "name": "stdout",
          "text": [
            "Loss: 1.3656815528869628\n"
          ]
        },
        {
          "output_type": "stream",
          "name": "stderr",
          "text": [
            "\n",
            "  0%|          | 0/200 [00:00<?, ?it/s]\u001b[A\n",
            "100%|██████████| 200/200 [00:00<00:00, 1594.60it/s]\n",
            " 16%|█▌        | 7955/50000 [01:14<07:13, 97.02it/s] "
          ]
        },
        {
          "output_type": "stream",
          "name": "stdout",
          "text": [
            " of the transferred to the control of the community of the United States and the state and the article in the United States for the service of the company of the companies and the state of the state in\n"
          ]
        },
        {
          "output_type": "stream",
          "name": "stderr",
          "text": [
            " 16%|█▌        | 7987/50000 [01:14<05:45, 121.77it/s]"
          ]
        },
        {
          "output_type": "stream",
          "name": "stdout",
          "text": [
            "Loss: 1.363328115940094\n"
          ]
        },
        {
          "output_type": "stream",
          "name": "stderr",
          "text": [
            "\n",
            "  0%|          | 0/200 [00:00<?, ?it/s]\u001b[A\n",
            "100%|██████████| 200/200 [00:00<00:00, 1168.29it/s]\n",
            " 16%|█▌        | 8001/50000 [01:14<07:55, 88.38it/s] "
          ]
        },
        {
          "output_type": "stream",
          "name": "stdout",
          "text": [
            " in the company and the state was a control of a company of the process that the majority of the most represented to the state and the state of the process of the order to the set of set of the set to \n"
          ]
        },
        {
          "output_type": "stream",
          "name": "stderr",
          "text": [
            " 16%|█▌        | 8047/50000 [01:14<05:49, 120.17it/s]"
          ]
        },
        {
          "output_type": "stream",
          "name": "stdout",
          "text": [
            "Loss: 1.3723935770988465\n"
          ]
        },
        {
          "output_type": "stream",
          "name": "stderr",
          "text": [
            "\n",
            "  0%|          | 0/200 [00:00<?, ?it/s]\u001b[A\n",
            "100%|██████████| 200/200 [00:00<00:00, 1292.77it/s]\n"
          ]
        },
        {
          "output_type": "stream",
          "name": "stdout",
          "text": [
            " and some of the state and the company and the services of the United States and the services and international social networking state of the students and proposed to the proposed to the state and the\n"
          ]
        },
        {
          "output_type": "stream",
          "name": "stderr",
          "text": [
            " 16%|█▌        | 8091/50000 [01:15<06:14, 112.04it/s]"
          ]
        },
        {
          "output_type": "stream",
          "name": "stdout",
          "text": [
            "Loss: 1.3728171324729919\n"
          ]
        },
        {
          "output_type": "stream",
          "name": "stderr",
          "text": [
            "\n",
            "  0%|          | 0/200 [00:00<?, ?it/s]\u001b[A\n",
            "100%|██████████| 200/200 [00:00<00:00, 1034.74it/s]"
          ]
        },
        {
          "output_type": "stream",
          "name": "stdout",
          "text": [
            " in the United States of the 1970s and 110 mph 150 mph 100 mph 150 mph 150 mph 120 mph 100 mph 100 mph 150 mph 160 mph 120 mph and 100 million companies that the results in the original standard of the\n"
          ]
        },
        {
          "output_type": "stream",
          "name": "stderr",
          "text": [
            "\n",
            " 16%|█▋        | 8137/50000 [01:15<06:32, 106.71it/s]"
          ]
        },
        {
          "output_type": "stream",
          "name": "stdout",
          "text": [
            "Loss: 1.372169406414032\n"
          ]
        },
        {
          "output_type": "stream",
          "name": "stderr",
          "text": [
            "\n",
            "  0%|          | 0/200 [00:00<?, ?it/s]\u001b[A\n",
            "100%|██████████| 200/200 [00:00<00:00, 1079.68it/s]\n",
            " 16%|█▋        | 8150/50000 [01:16<08:48, 79.16it/s] "
          ]
        },
        {
          "output_type": "stream",
          "name": "stdout",
          "text": [
            " to 1990s and the computing in the state of the Cape Verde and the company and other produced a service and international construction of the international state in the common and the computer network \n"
          ]
        },
        {
          "output_type": "stream",
          "name": "stderr",
          "text": [
            " 16%|█▋        | 8194/50000 [01:16<06:15, 111.40it/s]"
          ]
        },
        {
          "output_type": "stream",
          "name": "stdout",
          "text": [
            "Loss: 1.373081567287445\n"
          ]
        },
        {
          "output_type": "stream",
          "name": "stderr",
          "text": [
            "\n",
            "  0%|          | 0/200 [00:00<?, ?it/s]\u001b[A\n",
            "100%|██████████| 200/200 [00:00<00:00, 1063.62it/s]"
          ]
        },
        {
          "output_type": "stream",
          "name": "stdout",
          "text": [
            " and the second problems of the organizations of the state and the state of the state and standard and experience of response a new second control of the state and a station and may be a second provide\n"
          ]
        },
        {
          "output_type": "stream",
          "name": "stderr",
          "text": [
            "\n",
            " 16%|█▋        | 8240/50000 [01:16<06:21, 109.37it/s]"
          ]
        },
        {
          "output_type": "stream",
          "name": "stdout",
          "text": [
            "Loss: 1.3660585188865662\n"
          ]
        },
        {
          "output_type": "stream",
          "name": "stderr",
          "text": [
            "\n",
            "  0%|          | 0/200 [00:00<?, ?it/s]\u001b[A\n",
            "100%|██████████| 200/200 [00:00<00:00, 1560.64it/s]\n",
            " 17%|█▋        | 8254/50000 [01:17<07:43, 90.10it/s] "
          ]
        },
        {
          "output_type": "stream",
          "name": "stdout",
          "text": [
            " and the production of the state of the professional of the provides the company and the considered the state and social networking and the southern product and protection of the company and the compar\n"
          ]
        },
        {
          "output_type": "stream",
          "name": "stderr",
          "text": [
            " 17%|█▋        | 8288/50000 [01:17<05:52, 118.35it/s]"
          ]
        },
        {
          "output_type": "stream",
          "name": "stdout",
          "text": [
            "Loss: 1.3633006024360657\n"
          ]
        },
        {
          "output_type": "stream",
          "name": "stderr",
          "text": [
            "\n",
            "  0%|          | 0/200 [00:00<?, ?it/s]\u001b[A\n",
            "100%|██████████| 200/200 [00:00<00:00, 1512.62it/s]\n",
            " 17%|█▋        | 8302/50000 [01:17<07:24, 93.74it/s] "
          ]
        },
        {
          "output_type": "stream",
          "name": "stdout",
          "text": [
            " and content of the produced the company was a protection and the state of the standard the state and the states are element of the program and the service of the control of the distinction of the stat\n"
          ]
        },
        {
          "output_type": "stream",
          "name": "stderr",
          "text": [
            " 17%|█▋        | 8335/50000 [01:17<05:46, 120.18it/s]"
          ]
        },
        {
          "output_type": "stream",
          "name": "stdout",
          "text": [
            "Loss: 1.3764574098587037\n"
          ]
        },
        {
          "output_type": "stream",
          "name": "stderr",
          "text": [
            "\n",
            "  0%|          | 0/200 [00:00<?, ?it/s]\u001b[A\n",
            "100%|██████████| 200/200 [00:00<00:00, 1650.32it/s]\n",
            " 17%|█▋        | 8350/50000 [01:18<07:03, 98.26it/s] "
          ]
        },
        {
          "output_type": "stream",
          "name": "stdout",
          "text": [
            " and state of the commonly significant formal hardware train second in the second has a single set of the construction of a services and many of the state of a similar sites of the process the state of\n"
          ]
        },
        {
          "output_type": "stream",
          "name": "stderr",
          "text": [
            " 17%|█▋        | 8399/50000 [01:18<05:16, 131.46it/s]"
          ]
        },
        {
          "output_type": "stream",
          "name": "stdout",
          "text": [
            "Loss: 1.3617337703704835\n"
          ]
        },
        {
          "output_type": "stream",
          "name": "stderr",
          "text": [
            "\n",
            "  0%|          | 0/200 [00:00<?, ?it/s]\u001b[A\n",
            "100%|██████████| 200/200 [00:00<00:00, 1434.69it/s]\n"
          ]
        },
        {
          "output_type": "stream",
          "name": "stdout",
          "text": [
            " and the company of the state of the state and the production of the United States were also a state of the problems and the most control and state and life to a secretary and the second produced the s\n"
          ]
        },
        {
          "output_type": "stream",
          "name": "stderr",
          "text": [
            " 17%|█▋        | 8446/50000 [01:18<05:41, 121.70it/s]"
          ]
        },
        {
          "output_type": "stream",
          "name": "stdout",
          "text": [
            "Loss: 1.3733026957511902\n"
          ]
        },
        {
          "output_type": "stream",
          "name": "stderr",
          "text": [
            "\n",
            "  0%|          | 0/200 [00:00<?, ?it/s]\u001b[A\n",
            "100%|██████████| 200/200 [00:00<00:00, 1479.47it/s]\n"
          ]
        },
        {
          "output_type": "stream",
          "name": "stdout",
          "text": [
            " and the most the produced the state of the construction of the community in the control of the state of the United States and the traditional state and a trains and many restriction and the most proce\n"
          ]
        },
        {
          "output_type": "stream",
          "name": "stderr",
          "text": [
            " 17%|█▋        | 8492/50000 [01:19<05:44, 120.40it/s]"
          ]
        },
        {
          "output_type": "stream",
          "name": "stdout",
          "text": [
            "Loss: 1.3621724152565002\n"
          ]
        },
        {
          "output_type": "stream",
          "name": "stderr",
          "text": [
            "\n",
            "  0%|          | 0/200 [00:00<?, ?it/s]\u001b[A\n",
            "100%|██████████| 200/200 [00:00<00:00, 1521.49it/s]\n",
            " 17%|█▋        | 8506/50000 [01:19<07:17, 94.93it/s] "
          ]
        },
        {
          "output_type": "stream",
          "name": "stdout",
          "text": [
            " in the previous community of the state and the service of the community of the southern companies of the only a service of communication of the provide the programming and the standard can be a develo\n"
          ]
        },
        {
          "output_type": "stream",
          "name": "stderr",
          "text": [
            " 17%|█▋        | 8538/50000 [01:19<05:47, 119.18it/s]"
          ]
        },
        {
          "output_type": "stream",
          "name": "stdout",
          "text": [
            "Loss: 1.3650637340545655\n"
          ]
        },
        {
          "output_type": "stream",
          "name": "stderr",
          "text": [
            "\n",
            "  0%|          | 0/200 [00:00<?, ?it/s]\u001b[A\n",
            "100%|██████████| 200/200 [00:00<00:00, 1586.40it/s]\n",
            " 17%|█▋        | 8552/50000 [01:19<07:13, 95.59it/s] "
          ]
        },
        {
          "output_type": "stream",
          "name": "stdout",
          "text": [
            " and the second and the state and environment of the state of the Security Americans and the state and the national population of the provided in the 1990s and the trains and the computer standards and\n"
          ]
        },
        {
          "output_type": "stream",
          "name": "stderr",
          "text": [
            " 17%|█▋        | 8585/50000 [01:20<05:41, 121.22it/s]"
          ]
        },
        {
          "output_type": "stream",
          "name": "stdout",
          "text": [
            "Loss: 1.367972593307495\n"
          ]
        },
        {
          "output_type": "stream",
          "name": "stderr",
          "text": [
            "\n",
            "  0%|          | 0/200 [00:00<?, ?it/s]\u001b[A\n",
            "100%|██████████| 200/200 [00:00<00:00, 1591.03it/s]\n",
            " 17%|█▋        | 8600/50000 [01:20<07:04, 97.56it/s] "
          ]
        },
        {
          "output_type": "stream",
          "name": "stdout",
          "text": [
            " and the city of the state of the same has a control of believed the development of the proposal and services are recognition in the products that the state of the most products and state are the exper\n"
          ]
        },
        {
          "output_type": "stream",
          "name": "stderr",
          "text": [
            " 17%|█▋        | 8648/50000 [01:20<05:17, 130.34it/s]"
          ]
        },
        {
          "output_type": "stream",
          "name": "stdout",
          "text": [
            "Loss: 1.3638172674179077\n"
          ]
        },
        {
          "output_type": "stream",
          "name": "stderr",
          "text": [
            "\n",
            "  0%|          | 0/200 [00:00<?, ?it/s]\u001b[A\n",
            "100%|██████████| 200/200 [00:00<00:00, 1389.65it/s]\n"
          ]
        },
        {
          "output_type": "stream",
          "name": "stdout",
          "text": [
            " the contemporary international standards in the United States and the first teachings and state of the produced to the state of the Cape Verde is a standards in the second services and the services of\n"
          ]
        },
        {
          "output_type": "stream",
          "name": "stderr",
          "text": [
            " 17%|█▋        | 8695/50000 [01:21<05:39, 121.71it/s]"
          ]
        },
        {
          "output_type": "stream",
          "name": "stdout",
          "text": [
            "Loss: 1.3608400321006775\n"
          ]
        },
        {
          "output_type": "stream",
          "name": "stderr",
          "text": [
            "\n",
            "  0%|          | 0/200 [00:00<?, ?it/s]\u001b[A\n",
            "100%|██████████| 200/200 [00:00<00:00, 1537.68it/s]\n",
            " 17%|█▋        | 8709/50000 [01:21<07:08, 96.39it/s] "
          ]
        },
        {
          "output_type": "stream",
          "name": "stdout",
          "text": [
            " and the distinction of the world of the article and made a formal and a final services of the complex development in the standard of the control to constitutional and international state and construct\n"
          ]
        },
        {
          "output_type": "stream",
          "name": "stderr",
          "text": [
            " 17%|█▋        | 8741/50000 [01:21<05:42, 120.35it/s]"
          ]
        },
        {
          "output_type": "stream",
          "name": "stdout",
          "text": [
            "Loss: 1.3613996362686158\n"
          ]
        },
        {
          "output_type": "stream",
          "name": "stderr",
          "text": [
            "\n",
            "  0%|          | 0/200 [00:00<?, ?it/s]\u001b[A\n",
            "100%|██████████| 200/200 [00:00<00:00, 1386.08it/s]\n",
            " 18%|█▊        | 8755/50000 [01:21<07:25, 92.51it/s] "
          ]
        },
        {
          "output_type": "stream",
          "name": "stdout",
          "text": [
            " and a standards and an international significant programmed the present that the design of the process and an activities of the set of a professional of the state and particular processes and the stat\n"
          ]
        },
        {
          "output_type": "stream",
          "name": "stderr",
          "text": [
            " 18%|█▊        | 8787/50000 [01:21<05:49, 118.03it/s]"
          ]
        },
        {
          "output_type": "stream",
          "name": "stdout",
          "text": [
            "Loss: 1.3725161123275758\n"
          ]
        },
        {
          "output_type": "stream",
          "name": "stderr",
          "text": [
            "\n",
            "  0%|          | 0/200 [00:00<?, ?it/s]\u001b[A\n",
            "100%|██████████| 200/200 [00:00<00:00, 1485.76it/s]\n",
            " 18%|█▊        | 8801/50000 [01:22<07:20, 93.59it/s] "
          ]
        },
        {
          "output_type": "stream",
          "name": "stdout",
          "text": [
            " and a services in the first the computer state of the second are control of the systems are interaction of the largest control to be allow the seats and the experiences of the first or function of the\n"
          ]
        },
        {
          "output_type": "stream",
          "name": "stderr",
          "text": [
            " 18%|█▊        | 8834/50000 [01:22<05:43, 120.00it/s]"
          ]
        },
        {
          "output_type": "stream",
          "name": "stdout",
          "text": [
            "Loss: 1.3935104250907897\n"
          ]
        },
        {
          "output_type": "stream",
          "name": "stderr",
          "text": [
            "\n",
            "  0%|          | 0/200 [00:00<?, ?it/s]\u001b[A\n",
            "100%|██████████| 200/200 [00:00<00:00, 1550.98it/s]\n",
            " 18%|█▊        | 8850/50000 [01:22<07:07, 96.34it/s] "
          ]
        },
        {
          "output_type": "stream",
          "name": "stdout",
          "text": [
            " and the Western American College and American and the United States and the trains and the most complex for the largest service in the United States and the companies in the transportation and the res\n"
          ]
        },
        {
          "output_type": "stream",
          "name": "stderr",
          "text": [
            " 18%|█▊        | 8899/50000 [01:22<05:16, 129.86it/s]"
          ]
        },
        {
          "output_type": "stream",
          "name": "stdout",
          "text": [
            "Loss: 1.3753669929504395\n"
          ]
        },
        {
          "output_type": "stream",
          "name": "stderr",
          "text": [
            "\n",
            "  0%|          | 0/200 [00:00<?, ?it/s]\u001b[A\n",
            "100%|██████████| 200/200 [00:00<00:00, 1527.73it/s]\n"
          ]
        },
        {
          "output_type": "stream",
          "name": "stdout",
          "text": [
            " much of the production of the state and the state and the source of the term and started by the second individual in the provide a process in the state of the construction and a common from the contro\n"
          ]
        },
        {
          "output_type": "stream",
          "name": "stderr",
          "text": [
            " 18%|█▊        | 8946/50000 [01:23<05:34, 122.59it/s]"
          ]
        },
        {
          "output_type": "stream",
          "name": "stdout",
          "text": [
            "Loss: 1.3700031757354736\n"
          ]
        },
        {
          "output_type": "stream",
          "name": "stderr",
          "text": [
            "\n",
            "  0%|          | 0/200 [00:00<?, ?it/s]\u001b[A\n",
            "100%|██████████| 200/200 [00:00<00:00, 1431.14it/s]\n"
          ]
        },
        {
          "output_type": "stream",
          "name": "stdout",
          "text": [
            " and only the entire the source of the first company and considered the significant computer services and services and the construction and the state of the Cape Verde of the Western Commons and Presid\n"
          ]
        },
        {
          "output_type": "stream",
          "name": "stderr",
          "text": [
            " 18%|█▊        | 8992/50000 [01:23<05:45, 118.61it/s]"
          ]
        },
        {
          "output_type": "stream",
          "name": "stdout",
          "text": [
            "Loss: 1.3865073537826538\n"
          ]
        },
        {
          "output_type": "stream",
          "name": "stderr",
          "text": [
            "\n",
            "  0%|          | 0/200 [00:00<?, ?it/s]\u001b[A\n",
            "100%|██████████| 200/200 [00:00<00:00, 1633.84it/s]\n",
            " 18%|█▊        | 9006/50000 [01:24<07:05, 96.28it/s] "
          ]
        },
        {
          "output_type": "stream",
          "name": "stdout",
          "text": [
            " to a production of the result of the particular to the first the state of the company leader of the Cape Verde of the common the committees and the ancestry and the production of the continued that th\n"
          ]
        },
        {
          "output_type": "stream",
          "name": "stderr",
          "text": [
            " 18%|█▊        | 9038/50000 [01:24<05:37, 121.22it/s]"
          ]
        },
        {
          "output_type": "stream",
          "name": "stdout",
          "text": [
            "Loss: 1.359165406227112\n"
          ]
        },
        {
          "output_type": "stream",
          "name": "stderr",
          "text": [
            "\n",
            "  0%|          | 0/200 [00:00<?, ?it/s]\u001b[A\n",
            "100%|██████████| 200/200 [00:00<00:00, 1426.22it/s]\n",
            " 18%|█▊        | 9052/50000 [01:24<07:15, 93.95it/s] "
          ]
        },
        {
          "output_type": "stream",
          "name": "stdout",
          "text": [
            " and the process in the United States that the construction of the international state of the fact of the term of the same the process of the state of the result of the 2000 and the term control of the\n"
          ]
        },
        {
          "output_type": "stream",
          "name": "stderr",
          "text": [
            " 18%|█▊        | 9084/50000 [01:24<05:42, 119.41it/s]"
          ]
        },
        {
          "output_type": "stream",
          "name": "stdout",
          "text": [
            "Loss: 1.361366560459137\n"
          ]
        },
        {
          "output_type": "stream",
          "name": "stderr",
          "text": [
            "\n",
            "  0%|          | 0/200 [00:00<?, ?it/s]\u001b[A\n",
            "100%|██████████| 200/200 [00:00<00:00, 1556.05it/s]\n",
            " 18%|█▊        | 9100/50000 [01:24<07:05, 96.18it/s] "
          ]
        },
        {
          "output_type": "stream",
          "name": "stdout",
          "text": [
            " and the state of the archipelago and the services and the population of the constitutional production of the country of the country and the rail for the standard of the state in the first to the compu\n"
          ]
        },
        {
          "output_type": "stream",
          "name": "stderr",
          "text": [
            " 18%|█▊        | 9149/50000 [01:25<05:12, 130.66it/s]"
          ]
        },
        {
          "output_type": "stream",
          "name": "stdout",
          "text": [
            "Loss: 1.3645978593826293\n"
          ]
        },
        {
          "output_type": "stream",
          "name": "stderr",
          "text": [
            "\n",
            "  0%|          | 0/200 [00:00<?, ?it/s]\u001b[A\n",
            "100%|██████████| 200/200 [00:00<00:00, 1589.51it/s]\n"
          ]
        },
        {
          "output_type": "stream",
          "name": "stdout",
          "text": [
            " and the second in the state and the state and the companies and the top speeds of the rail relationship and service of the provide the computer systems of the computer standards of the state and the c\n"
          ]
        },
        {
          "output_type": "stream",
          "name": "stderr",
          "text": [
            " 18%|█▊        | 9197/50000 [01:25<05:25, 125.27it/s]"
          ]
        },
        {
          "output_type": "stream",
          "name": "stdout",
          "text": [
            "Loss: 1.375918016433716\n"
          ]
        },
        {
          "output_type": "stream",
          "name": "stderr",
          "text": [
            "\n",
            "  0%|          | 0/200 [00:00<?, ?it/s]\u001b[A\n",
            "100%|██████████| 200/200 [00:00<00:00, 1406.10it/s]\n"
          ]
        },
        {
          "output_type": "stream",
          "name": "stdout",
          "text": [
            " and the distribution of the first the train to a series of the provide the seat and the complex and and services of the highest lines of the process of the state of the community and the services of t\n"
          ]
        },
        {
          "output_type": "stream",
          "name": "stderr",
          "text": [
            " 18%|█▊        | 9245/50000 [01:26<05:38, 120.49it/s]"
          ]
        },
        {
          "output_type": "stream",
          "name": "stdout",
          "text": [
            "Loss: 1.3521302437782288\n"
          ]
        },
        {
          "output_type": "stream",
          "name": "stderr",
          "text": [
            "\n",
            "  0%|          | 0/200 [00:00<?, ?it/s]\u001b[A\n",
            "100%|██████████| 200/200 [00:00<00:00, 1555.93it/s]\n",
            " 19%|█▊        | 9259/50000 [01:26<07:03, 96.25it/s] "
          ]
        },
        {
          "output_type": "stream",
          "name": "stdout",
          "text": [
            " the most the source of the state and the result of the most state of the United States and the term and the state of the country in the provided to be the set of the process and the engineering of the\n"
          ]
        },
        {
          "output_type": "stream",
          "name": "stderr",
          "text": [
            " 19%|█▊        | 9291/50000 [01:26<05:39, 119.73it/s]"
          ]
        },
        {
          "output_type": "stream",
          "name": "stdout",
          "text": [
            "Loss: 1.3595982718467712\n"
          ]
        },
        {
          "output_type": "stream",
          "name": "stderr",
          "text": [
            "\n",
            "  0%|          | 0/200 [00:00<?, ?it/s]\u001b[A\n",
            "100%|██████████| 200/200 [00:00<00:00, 1555.68it/s]\n",
            " 19%|█▊        | 9305/50000 [01:26<07:10, 94.62it/s] "
          ]
        },
        {
          "output_type": "stream",
          "name": "stdout",
          "text": [
            " and the common the state and the state and the state of the process of the first the computer divided in 1988 the South American Commons and the State and the train and a second the problem and some s\n"
          ]
        },
        {
          "output_type": "stream",
          "name": "stderr",
          "text": [
            " 19%|█▊        | 9348/50000 [01:27<05:41, 119.08it/s]"
          ]
        },
        {
          "output_type": "stream",
          "name": "stdout",
          "text": [
            "Loss: 1.3740684795379638\n"
          ]
        },
        {
          "output_type": "stream",
          "name": "stderr",
          "text": [
            "\n",
            "  0%|          | 0/200 [00:00<?, ?it/s]\u001b[A\n",
            "100%|██████████| 200/200 [00:00<00:00, 1133.20it/s]"
          ]
        },
        {
          "output_type": "stream",
          "name": "stdout",
          "text": [
            " is a second the state and completed that the state of the United States of the Latin of the State of Cape Verde is a present and the low the country of the article of the result of the same and the ma\n"
          ]
        },
        {
          "output_type": "stream",
          "name": "stderr",
          "text": [
            "\n",
            " 19%|█▉        | 9391/50000 [01:27<06:24, 105.70it/s]"
          ]
        },
        {
          "output_type": "stream",
          "name": "stdout",
          "text": [
            "Loss: 1.3645380973815917\n"
          ]
        },
        {
          "output_type": "stream",
          "name": "stderr",
          "text": [
            "\n",
            "  0%|          | 0/200 [00:00<?, ?it/s]\u001b[A\n",
            "100%|██████████| 200/200 [00:00<00:00, 1309.41it/s]\n",
            " 19%|█▉        | 9404/50000 [01:27<08:10, 82.82it/s] "
          ]
        },
        {
          "output_type": "stream",
          "name": "stdout",
          "text": [
            " international production of the land to the most specific and an interest and production of a process that allow and the person that the companies and the standards that the company and set to the pro\n"
          ]
        },
        {
          "output_type": "stream",
          "name": "stderr",
          "text": [
            " 19%|█▉        | 9449/50000 [01:28<05:43, 117.92it/s]"
          ]
        },
        {
          "output_type": "stream",
          "name": "stdout",
          "text": [
            "Loss: 1.364265606403351\n"
          ]
        },
        {
          "output_type": "stream",
          "name": "stderr",
          "text": [
            "\n",
            "  0%|          | 0/200 [00:00<?, ?it/s]\u001b[A\n",
            "100%|██████████| 200/200 [00:00<00:00, 1140.01it/s]\n"
          ]
        },
        {
          "output_type": "stream",
          "name": "stdout",
          "text": [
            " the control of a defined by the position of the computer state and the largest response that it was the service of the second such as a state and consistents of the archipelago and the term areas of t\n"
          ]
        },
        {
          "output_type": "stream",
          "name": "stderr",
          "text": [
            " 19%|█▉        | 9493/50000 [01:28<06:20, 106.57it/s]"
          ]
        },
        {
          "output_type": "stream",
          "name": "stdout",
          "text": [
            "Loss: 1.358299844264984\n"
          ]
        },
        {
          "output_type": "stream",
          "name": "stderr",
          "text": [
            "\n",
            "  0%|          | 0/200 [00:00<?, ?it/s]\u001b[A\n",
            "100%|██████████| 200/200 [00:00<00:00, 1092.31it/s]"
          ]
        },
        {
          "output_type": "stream",
          "name": "stdout",
          "text": [
            " and the state of the early 1990s and the completed to a standard and the result of the ancestry and the new international significant the products that the state of the same many recognition of the co"
          ]
        },
        {
          "output_type": "stream",
          "name": "stderr",
          "text": [
            "\n",
            " 19%|█▉        | 9521/50000 [01:29<07:36, 88.71it/s]"
          ]
        },
        {
          "output_type": "stream",
          "name": "stdout",
          "text": [
            "\n"
          ]
        },
        {
          "output_type": "stream",
          "name": "stderr",
          "text": [
            "\r 19%|█▉        | 9536/50000 [01:29<06:39, 101.33it/s]"
          ]
        },
        {
          "output_type": "stream",
          "name": "stdout",
          "text": [
            "Loss: 1.3646321988105774\n"
          ]
        },
        {
          "output_type": "stream",
          "name": "stderr",
          "text": [
            "\n",
            "  0%|          | 0/200 [00:00<?, ?it/s]\u001b[A\n",
            "100%|██████████| 200/200 [00:00<00:00, 1557.50it/s]\n",
            " 19%|█▉        | 9550/50000 [01:29<07:51, 85.87it/s] "
          ]
        },
        {
          "output_type": "stream",
          "name": "stdout",
          "text": [
            " and other position of the second a social networking services to the language of the state was the computer state of the present that the state of the United States of the sources and his control of t\n"
          ]
        },
        {
          "output_type": "stream",
          "name": "stderr",
          "text": [
            " 19%|█▉        | 9599/50000 [01:29<05:22, 125.40it/s]"
          ]
        },
        {
          "output_type": "stream",
          "name": "stdout",
          "text": [
            "Loss: 1.367778058052063\n"
          ]
        },
        {
          "output_type": "stream",
          "name": "stderr",
          "text": [
            "\n",
            "  0%|          | 0/200 [00:00<?, ?it/s]\u001b[A\n",
            "100%|██████████| 200/200 [00:00<00:00, 1552.67it/s]\n"
          ]
        },
        {
          "output_type": "stream",
          "name": "stdout",
          "text": [
            " and event the south and an expressed to the computer problems of the state of the first response that the state and settlement of the control of a common theory in the area of the contraction of the f\n"
          ]
        },
        {
          "output_type": "stream",
          "name": "stderr",
          "text": [
            " 19%|█▉        | 9645/50000 [01:30<05:36, 119.88it/s]"
          ]
        },
        {
          "output_type": "stream",
          "name": "stdout",
          "text": [
            "Loss: 1.3676245093345643\n"
          ]
        },
        {
          "output_type": "stream",
          "name": "stderr",
          "text": [
            "\n",
            "  0%|          | 0/200 [00:00<?, ?it/s]\u001b[A\n",
            "100%|██████████| 200/200 [00:00<00:00, 1557.00it/s]\n",
            " 19%|█▉        | 9659/50000 [01:30<07:01, 95.63it/s] "
          ]
        },
        {
          "output_type": "stream",
          "name": "stdout",
          "text": [
            " and the process of the state of the same of the 2000 and it is also a community explored to the proposed as a services of the country of the products and the production of the constitution of the trad\n"
          ]
        },
        {
          "output_type": "stream",
          "name": "stderr",
          "text": [
            " 19%|█▉        | 9691/50000 [01:30<05:35, 120.03it/s]"
          ]
        },
        {
          "output_type": "stream",
          "name": "stdout",
          "text": [
            "Loss: 1.3635463213920593\n"
          ]
        },
        {
          "output_type": "stream",
          "name": "stderr",
          "text": [
            "\n",
            "  0%|          | 0/200 [00:00<?, ?it/s]\u001b[A\n",
            "100%|██████████| 200/200 [00:00<00:00, 1539.76it/s]\n",
            " 19%|█▉        | 9705/50000 [01:30<07:04, 94.96it/s] "
          ]
        },
        {
          "output_type": "stream",
          "name": "stdout",
          "text": [
            " and the top speeds of the world are been state of the process with the area of the company and state of the constitutional researchers and the result of the second the service to the second and relati\n"
          ]
        },
        {
          "output_type": "stream",
          "name": "stderr",
          "text": [
            " 19%|█▉        | 9738/50000 [01:30<05:32, 121.05it/s]"
          ]
        },
        {
          "output_type": "stream",
          "name": "stdout",
          "text": [
            "Loss: 1.3797111058235167\n"
          ]
        },
        {
          "output_type": "stream",
          "name": "stderr",
          "text": [
            "\n",
            "  0%|          | 0/200 [00:00<?, ?it/s]\u001b[A\n",
            "100%|██████████| 200/200 [00:00<00:00, 1539.37it/s]\n",
            " 20%|█▉        | 9752/50000 [01:31<07:04, 94.78it/s] "
          ]
        },
        {
          "output_type": "stream",
          "name": "stdout",
          "text": [
            " and a state of the soul of the company recommendation of the concerning the largest production of the south of the company and the organization to the second service to the English Cape Verde is the s\n"
          ]
        },
        {
          "output_type": "stream",
          "name": "stderr",
          "text": [
            " 20%|█▉        | 9799/50000 [01:31<05:19, 125.77it/s]"
          ]
        },
        {
          "output_type": "stream",
          "name": "stdout",
          "text": [
            "Loss: 1.3704956197738647\n"
          ]
        },
        {
          "output_type": "stream",
          "name": "stderr",
          "text": [
            "\n",
            "  0%|          | 0/200 [00:00<?, ?it/s]\u001b[A\n",
            "100%|██████████| 200/200 [00:00<00:00, 1517.98it/s]\n"
          ]
        },
        {
          "output_type": "stream",
          "name": "stdout",
          "text": [
            " the computer company of the process and safety in the set of the state and former from the state of the American and the national community for the set of resident of the product and production of the\n"
          ]
        },
        {
          "output_type": "stream",
          "name": "stderr",
          "text": [
            " 20%|█▉        | 9845/50000 [01:31<05:29, 122.04it/s]"
          ]
        },
        {
          "output_type": "stream",
          "name": "stdout",
          "text": [
            "Loss: 1.3597489166259766\n"
          ]
        },
        {
          "output_type": "stream",
          "name": "stderr",
          "text": [
            "\n",
            "  0%|          | 0/200 [00:00<?, ?it/s]\u001b[A\n",
            "100%|██████████| 200/200 [00:00<00:00, 1480.23it/s]\n",
            " 20%|█▉        | 9859/50000 [01:32<07:01, 95.27it/s] "
          ]
        },
        {
          "output_type": "stream",
          "name": "stdout",
          "text": [
            " and the state of the continued the state of the Buddhist company and the produced the existing the state and provide the control of the common of the state of the state and the archipelago and state a\n"
          ]
        },
        {
          "output_type": "stream",
          "name": "stderr",
          "text": [
            " 20%|█▉        | 9893/50000 [01:32<05:28, 122.17it/s]"
          ]
        },
        {
          "output_type": "stream",
          "name": "stdout",
          "text": [
            "Loss: 1.363273799419403\n"
          ]
        },
        {
          "output_type": "stream",
          "name": "stderr",
          "text": [
            "\n",
            "  0%|          | 0/200 [00:00<?, ?it/s]\u001b[A\n",
            "100%|██████████| 200/200 [00:00<00:00, 1582.83it/s]\n",
            " 20%|█▉        | 9907/50000 [01:32<06:52, 97.15it/s] "
          ]
        },
        {
          "output_type": "stream",
          "name": "stdout",
          "text": [
            " and all of the company of the common and an independence in the United States and the New York in the United States and the state of the United States and the Chicago and Anglian Partical College to t\n"
          ]
        },
        {
          "output_type": "stream",
          "name": "stderr",
          "text": [
            " 20%|█▉        | 9939/50000 [01:32<05:28, 121.77it/s]"
          ]
        },
        {
          "output_type": "stream",
          "name": "stdout",
          "text": [
            "Loss: 1.3580985069274902\n"
          ]
        },
        {
          "output_type": "stream",
          "name": "stderr",
          "text": [
            "\n",
            "  0%|          | 0/200 [00:00<?, ?it/s]\u001b[A\n",
            "100%|██████████| 200/200 [00:00<00:00, 1537.69it/s]\n",
            " 20%|█▉        | 9953/50000 [01:33<06:56, 96.07it/s] "
          ]
        },
        {
          "output_type": "stream",
          "name": "stdout",
          "text": [
            " and the proposed in 1962, the trains that the most standards and experience of the military and activities to the company is a series of the set of the religious and process result of the computer and\n"
          ]
        },
        {
          "output_type": "stream",
          "name": "stderr",
          "text": [
            " 20%|█▉        | 9986/50000 [01:33<05:29, 121.58it/s]"
          ]
        },
        {
          "output_type": "stream",
          "name": "stdout",
          "text": [
            "Loss: 1.3594511938095093\n"
          ]
        },
        {
          "output_type": "stream",
          "name": "stderr",
          "text": [
            "\n",
            "  0%|          | 0/200 [00:00<?, ?it/s]\u001b[A\n",
            "100%|██████████| 200/200 [00:00<00:00, 1412.95it/s]\n",
            " 20%|██        | 10000/50000 [01:33<07:04, 94.24it/s]"
          ]
        },
        {
          "output_type": "stream",
          "name": "stdout",
          "text": [
            " can be a controller and became the services in the proposed to the ancestry of the first religious prospect to the original proposed that the model of the standards of the term the standard to interna\n"
          ]
        },
        {
          "output_type": "stream",
          "name": "stderr",
          "text": [
            " 20%|██        | 10049/50000 [01:33<05:08, 129.40it/s]"
          ]
        },
        {
          "output_type": "stream",
          "name": "stdout",
          "text": [
            "Loss: 1.368925838470459\n"
          ]
        },
        {
          "output_type": "stream",
          "name": "stderr",
          "text": [
            "\n",
            "  0%|          | 0/200 [00:00<?, ?it/s]\u001b[A\n",
            "100%|██████████| 200/200 [00:00<00:00, 1564.01it/s]\n"
          ]
        },
        {
          "output_type": "stream",
          "name": "stdout",
          "text": [
            " and the protect the term of the provide the archipelago and the position of the process and state of the company and specific organization of the second and products that in the production of the arti\n"
          ]
        },
        {
          "output_type": "stream",
          "name": "stderr",
          "text": [
            " 20%|██        | 10096/50000 [01:34<05:22, 123.67it/s]"
          ]
        },
        {
          "output_type": "stream",
          "name": "stdout",
          "text": [
            "Loss: 1.3713066005706787\n"
          ]
        },
        {
          "output_type": "stream",
          "name": "stderr",
          "text": [
            "\n",
            "  0%|          | 0/200 [00:00<?, ?it/s]\u001b[A\n",
            "100%|██████████| 200/200 [00:00<00:00, 1554.59it/s]\n"
          ]
        },
        {
          "output_type": "stream",
          "name": "stdout",
          "text": [
            " the most services and the production of the state and the product for the transport of the majority of the state in the state and the country of the position of the state and seat the state of the tra\n"
          ]
        },
        {
          "output_type": "stream",
          "name": "stderr",
          "text": [
            " 20%|██        | 10142/50000 [01:34<05:28, 121.21it/s]"
          ]
        },
        {
          "output_type": "stream",
          "name": "stdout",
          "text": [
            "Loss: 1.3600738668441772\n"
          ]
        },
        {
          "output_type": "stream",
          "name": "stderr",
          "text": [
            "\n",
            "  0%|          | 0/200 [00:00<?, ?it/s]\u001b[A\n",
            "100%|██████████| 200/200 [00:00<00:00, 1465.90it/s]\n",
            " 20%|██        | 10156/50000 [01:34<07:01, 94.53it/s] "
          ]
        },
        {
          "output_type": "stream",
          "name": "stdout",
          "text": [
            " and the services from the state and an example, and the archipelago and the same the state of the first completed the significant second on the article of the production of the real concept of the sec\n"
          ]
        },
        {
          "output_type": "stream",
          "name": "stderr",
          "text": [
            " 20%|██        | 10188/50000 [01:35<05:32, 119.74it/s]"
          ]
        },
        {
          "output_type": "stream",
          "name": "stdout",
          "text": [
            "Loss: 1.3599030900001525\n"
          ]
        },
        {
          "output_type": "stream",
          "name": "stderr",
          "text": [
            "\n",
            "  0%|          | 0/200 [00:00<?, ?it/s]\u001b[A\n",
            "100%|██████████| 200/200 [00:00<00:00, 1560.91it/s]\n",
            " 20%|██        | 10202/50000 [01:35<06:59, 94.79it/s] "
          ]
        },
        {
          "output_type": "stream",
          "name": "stdout",
          "text": [
            " and the state of the design of the second on the constitutional formal discovery of the computer services in the set of the provided the state that the set of the state and the concept of the United S\n"
          ]
        },
        {
          "output_type": "stream",
          "name": "stderr",
          "text": [
            " 20%|██        | 10248/50000 [01:35<05:43, 115.86it/s]"
          ]
        },
        {
          "output_type": "stream",
          "name": "stdout",
          "text": [
            "Loss: 1.3556553316116333\n"
          ]
        },
        {
          "output_type": "stream",
          "name": "stderr",
          "text": [
            "\n",
            "  0%|          | 0/200 [00:00<?, ?it/s]\u001b[A\n",
            " 28%|██▊       | 55/200 [00:00<00:00, 548.10it/s]\u001b[A\n",
            "100%|██████████| 200/200 [00:00<00:00, 834.82it/s]\n",
            " 21%|██        | 10277/50000 [01:36<07:28, 88.65it/s]"
          ]
        },
        {
          "output_type": "stream",
          "name": "stdout",
          "text": [
            " and include the services of the computer standards in the September 2012, the Cape Verdean process of the process and the content of the operations of the archipelago is a company of the archipelago i\n"
          ]
        },
        {
          "output_type": "stream",
          "name": "stderr",
          "text": [
            "\r 21%|██        | 10292/50000 [01:36<06:36, 100.18it/s]"
          ]
        },
        {
          "output_type": "stream",
          "name": "stdout",
          "text": [
            "Loss: 1.3697752380371093\n"
          ]
        },
        {
          "output_type": "stream",
          "name": "stderr",
          "text": [
            "\n",
            "  0%|          | 0/200 [00:00<?, ?it/s]\u001b[A\n",
            "100%|██████████| 200/200 [00:00<00:00, 1521.84it/s]\n"
          ]
        },
        {
          "output_type": "stream",
          "name": "stdout",
          "text": [
            " and the city of the company of the state of the processes and the state of the United States of the South American American Americans were the based on the activities of the second the first project a\n"
          ]
        },
        {
          "output_type": "stream",
          "name": "stderr",
          "text": [
            " 21%|██        | 10345/50000 [01:36<06:23, 103.46it/s]"
          ]
        },
        {
          "output_type": "stream",
          "name": "stdout",
          "text": [
            "Loss: 1.3690603828430177\n"
          ]
        },
        {
          "output_type": "stream",
          "name": "stderr",
          "text": [
            "\n",
            "  0%|          | 0/200 [00:00<?, ?it/s]\u001b[A\n",
            "100%|██████████| 200/200 [00:00<00:00, 1567.79it/s]\n",
            " 21%|██        | 10357/50000 [01:37<07:47, 84.75it/s] "
          ]
        },
        {
          "output_type": "stream",
          "name": "stdout",
          "text": [
            " and the state and winning and and results are a significant production of the first many of the ancestry was the computer standard that the profile and between the control of the computer services and\n"
          ]
        },
        {
          "output_type": "stream",
          "name": "stderr",
          "text": [
            " 21%|██        | 10388/50000 [01:37<06:00, 109.74it/s]"
          ]
        },
        {
          "output_type": "stream",
          "name": "stdout",
          "text": [
            "Loss: 1.3672666144371033\n"
          ]
        },
        {
          "output_type": "stream",
          "name": "stderr",
          "text": [
            "\n",
            "  0%|          | 0/200 [00:00<?, ?it/s]\u001b[A\n",
            "100%|██████████| 200/200 [00:00<00:00, 994.01it/s]\n",
            " 21%|██        | 10418/50000 [01:37<07:34, 87.00it/s]"
          ]
        },
        {
          "output_type": "stream",
          "name": "stdout",
          "text": [
            " control of the term in the Cape Verde and the community of the analysis and the home of the standard of the company of the southern Buddhist production of the production of the population of the Unite\n"
          ]
        },
        {
          "output_type": "stream",
          "name": "stderr",
          "text": [
            "\r 21%|██        | 10434/50000 [01:37<06:30, 101.24it/s]"
          ]
        },
        {
          "output_type": "stream",
          "name": "stdout",
          "text": [
            "Loss: 1.3631488871574402\n"
          ]
        },
        {
          "output_type": "stream",
          "name": "stderr",
          "text": [
            "\n",
            "  0%|          | 0/200 [00:00<?, ?it/s]\u001b[A\n",
            "100%|██████████| 200/200 [00:00<00:00, 1571.35it/s]\n",
            " 21%|██        | 10450/50000 [01:38<07:28, 88.10it/s] "
          ]
        },
        {
          "output_type": "stream",
          "name": "stdout",
          "text": [
            " 1 2 , 4 , 1 . An all and the process and research and the seat to the product and became the same are religious formed the set of the state of the state and contraction of the state and provide the re\n"
          ]
        },
        {
          "output_type": "stream",
          "name": "stderr",
          "text": [
            " 21%|██        | 10499/50000 [01:38<05:13, 125.84it/s]"
          ]
        },
        {
          "output_type": "stream",
          "name": "stdout",
          "text": [
            "Loss: 1.3740085220336915\n"
          ]
        },
        {
          "output_type": "stream",
          "name": "stderr",
          "text": [
            "\n",
            "  0%|          | 0/200 [00:00<?, ?it/s]\u001b[A\n",
            "100%|██████████| 200/200 [00:00<00:00, 1451.16it/s]\n"
          ]
        },
        {
          "output_type": "stream",
          "name": "stdout",
          "text": [
            " in a resolution of the protect the seat in the construction and international state of the United States and represented by the Northern Australian States Statistics of American and the state of the s\n"
          ]
        },
        {
          "output_type": "stream",
          "name": "stderr",
          "text": [
            " 21%|██        | 10547/50000 [01:38<05:23, 122.06it/s]"
          ]
        },
        {
          "output_type": "stream",
          "name": "stdout",
          "text": [
            "Loss: 1.373181290626526\n"
          ]
        },
        {
          "output_type": "stream",
          "name": "stderr",
          "text": [
            "\n",
            "  0%|          | 0/200 [00:00<?, ?it/s]\u001b[A\n",
            "100%|██████████| 200/200 [00:00<00:00, 1496.98it/s]\n"
          ]
        },
        {
          "output_type": "stream",
          "name": "stdout",
          "text": [
            " and the state and considered the position of the state of the company of the process in the particular to the provided a state of the first possible and original and subsets and organizations and the \n"
          ]
        },
        {
          "output_type": "stream",
          "name": "stderr",
          "text": [
            " 21%|██        | 10591/50000 [01:39<05:43, 114.85it/s]"
          ]
        },
        {
          "output_type": "stream",
          "name": "stdout",
          "text": [
            "Loss: 1.3661232137680053\n"
          ]
        },
        {
          "output_type": "stream",
          "name": "stderr",
          "text": [
            "\n",
            "  0%|          | 0/200 [00:00<?, ?it/s]\u001b[A\n",
            "100%|██████████| 200/200 [00:00<00:00, 1182.85it/s]"
          ]
        },
        {
          "output_type": "stream",
          "name": "stdout",
          "text": [
            " and the state of the production of the majority of the first the service and the state of the control of the constructed to the same of the part of the state and the control to the production of the t\n"
          ]
        },
        {
          "output_type": "stream",
          "name": "stderr",
          "text": [
            "\n",
            " 21%|██▏       | 10649/50000 [01:39<05:36, 116.88it/s]"
          ]
        },
        {
          "output_type": "stream",
          "name": "stdout",
          "text": [
            "Loss: 1.3708674502372742\n"
          ]
        },
        {
          "output_type": "stream",
          "name": "stderr",
          "text": [
            "\n",
            "  0%|          | 0/200 [00:00<?, ?it/s]\u001b[A\n",
            "100%|██████████| 200/200 [00:00<00:00, 1342.47it/s]\n"
          ]
        },
        {
          "output_type": "stream",
          "name": "stdout",
          "text": [
            " and the represented the state of the position of the first communication of the companies of the productions in the position and all the approach in the large of the transmission of the Cape Verde of \n"
          ]
        },
        {
          "output_type": "stream",
          "name": "stderr",
          "text": [
            " 21%|██▏       | 10692/50000 [01:40<05:59, 109.29it/s]"
          ]
        },
        {
          "output_type": "stream",
          "name": "stdout",
          "text": [
            "Loss: 1.3892157220840453\n"
          ]
        },
        {
          "output_type": "stream",
          "name": "stderr",
          "text": [
            "\n",
            "  0%|          | 0/200 [00:00<?, ?it/s]\u001b[A\n",
            "100%|██████████| 200/200 [00:00<00:00, 1188.86it/s]"
          ]
        },
        {
          "output_type": "stream",
          "name": "stdout",
          "text": [
            " and other control of the proposed to the state and is discovered a services and the computer standard for a states and the population of the contribute to the construction of the model of the company \n"
          ]
        },
        {
          "output_type": "stream",
          "name": "stderr",
          "text": [
            "\n",
            " 21%|██▏       | 10736/50000 [01:40<06:08, 106.63it/s]"
          ]
        },
        {
          "output_type": "stream",
          "name": "stdout",
          "text": [
            "Loss: 1.3654990243911742\n"
          ]
        },
        {
          "output_type": "stream",
          "name": "stderr",
          "text": [
            "\n",
            "  0%|          | 0/200 [00:00<?, ?it/s]\u001b[A\n",
            "100%|██████████| 200/200 [00:00<00:00, 1255.26it/s]\n",
            " 22%|██▏       | 10750/50000 [01:41<08:02, 81.33it/s] "
          ]
        },
        {
          "output_type": "stream",
          "name": "stdout",
          "text": [
            " control to the company and state of the standards and the development of the state and the construction of the company and control of the major and the representative and use of the protect constructi\n"
          ]
        },
        {
          "output_type": "stream",
          "name": "stderr",
          "text": [
            " 22%|██▏       | 10794/50000 [01:41<05:50, 111.92it/s]"
          ]
        },
        {
          "output_type": "stream",
          "name": "stdout",
          "text": [
            "Loss: 1.3930509734153746\n"
          ]
        },
        {
          "output_type": "stream",
          "name": "stderr",
          "text": [
            "\n",
            "  0%|          | 0/200 [00:00<?, ?it/s]\u001b[A\n",
            "100%|██████████| 200/200 [00:00<00:00, 1205.66it/s]"
          ]
        },
        {
          "output_type": "stream",
          "name": "stdout",
          "text": [
            " and the set the position of the control of the 1960s and the majority of the state of the construction of the most company of the result of the country of the international controlless that the second\n"
          ]
        },
        {
          "output_type": "stream",
          "name": "stderr",
          "text": [
            "\n",
            " 22%|██▏       | 10840/50000 [01:41<05:49, 112.17it/s]"
          ]
        },
        {
          "output_type": "stream",
          "name": "stdout",
          "text": [
            "Loss: 1.3583720564842223\n"
          ]
        },
        {
          "output_type": "stream",
          "name": "stderr",
          "text": [
            "\n",
            "  0%|          | 0/200 [00:00<?, ?it/s]\u001b[A\n",
            "100%|██████████| 200/200 [00:00<00:00, 1547.45it/s]\n",
            " 22%|██▏       | 10854/50000 [01:42<07:09, 91.24it/s] "
          ]
        },
        {
          "output_type": "stream",
          "name": "stdout",
          "text": [
            " and the state and and control of the process for the organization and the continued the projects of the south of the provide a set of a proposed that the production of the first to the process that it\n"
          ]
        },
        {
          "output_type": "stream",
          "name": "stderr",
          "text": [
            " 22%|██▏       | 10887/50000 [01:42<05:29, 118.56it/s]"
          ]
        },
        {
          "output_type": "stream",
          "name": "stdout",
          "text": [
            "Loss: 1.3792390418052674\n"
          ]
        },
        {
          "output_type": "stream",
          "name": "stderr",
          "text": [
            "\n",
            "  0%|          | 0/200 [00:00<?, ?it/s]\u001b[A\n",
            "100%|██████████| 200/200 [00:00<00:00, 1325.52it/s]\n",
            " 22%|██▏       | 10901/50000 [01:42<07:09, 91.11it/s] "
          ]
        },
        {
          "output_type": "stream",
          "name": "stdout",
          "text": [
            " in American of the second and and other produced a state in the south and a population of the country of the Consider a seat the European and the Cape Verde with the trains to the construction of the \n"
          ]
        },
        {
          "output_type": "stream",
          "name": "stderr",
          "text": [
            " 22%|██▏       | 10934/50000 [01:42<05:30, 118.28it/s]"
          ]
        },
        {
          "output_type": "stream",
          "name": "stdout",
          "text": [
            "Loss: 1.37609290599823\n"
          ]
        },
        {
          "output_type": "stream",
          "name": "stderr",
          "text": [
            "\n",
            "  0%|          | 0/200 [00:00<?, ?it/s]\u001b[A\n",
            "100%|██████████| 200/200 [00:00<00:00, 1502.67it/s]\n",
            " 22%|██▏       | 10950/50000 [01:42<06:47, 95.81it/s] "
          ]
        },
        {
          "output_type": "stream",
          "name": "stdout",
          "text": [
            " problem that is the building of the result of the state and the article of the construction of the state of the first production of a different line of the train the second control the country of the \n"
          ]
        },
        {
          "output_type": "stream",
          "name": "stderr",
          "text": [
            " 22%|██▏       | 10999/50000 [01:43<04:59, 130.25it/s]"
          ]
        },
        {
          "output_type": "stream",
          "name": "stdout",
          "text": [
            "Loss: 1.3653918766975404\n"
          ]
        },
        {
          "output_type": "stream",
          "name": "stderr",
          "text": [
            "\n",
            "  0%|          | 0/200 [00:00<?, ?it/s]\u001b[A\n",
            "100%|██████████| 200/200 [00:00<00:00, 1353.92it/s]\n"
          ]
        },
        {
          "output_type": "stream",
          "name": "stdout",
          "text": [
            " and the based on the provides the companies and the routes and allows the state and the state and the new services and particular such as the same companies and the market of the standard in the top s\n"
          ]
        },
        {
          "output_type": "stream",
          "name": "stderr",
          "text": [
            " 22%|██▏       | 11047/50000 [01:43<05:22, 120.81it/s]"
          ]
        },
        {
          "output_type": "stream",
          "name": "stdout",
          "text": [
            "Loss: 1.3720196461677552\n"
          ]
        },
        {
          "output_type": "stream",
          "name": "stderr",
          "text": [
            "\n",
            "  0%|          | 0/200 [00:00<?, ?it/s]\u001b[A\n",
            "100%|██████████| 200/200 [00:00<00:00, 1437.87it/s]\n"
          ]
        },
        {
          "output_type": "stream",
          "name": "stdout",
          "text": [
            " and the highest of the former community of the state of the standard in the 1980s for a common and the ancestry and the company to the religious relationships of the state of the same and office const\n"
          ]
        },
        {
          "output_type": "stream",
          "name": "stderr",
          "text": [
            " 22%|██▏       | 11095/50000 [01:44<05:22, 120.51it/s]"
          ]
        },
        {
          "output_type": "stream",
          "name": "stdout",
          "text": [
            "Loss: 1.3679982590675355\n"
          ]
        },
        {
          "output_type": "stream",
          "name": "stderr",
          "text": [
            "\n",
            "  0%|          | 0/200 [00:00<?, ?it/s]\u001b[A\n",
            "100%|██████████| 200/200 [00:00<00:00, 1571.51it/s]\n",
            " 22%|██▏       | 11109/50000 [01:44<06:42, 96.56it/s] "
          ]
        },
        {
          "output_type": "stream",
          "name": "stdout",
          "text": [
            " and the term maintain the only a participated in the set of the process of the present of the service of the result of the state and the control to see international standards in the second and the se\n"
          ]
        },
        {
          "output_type": "stream",
          "name": "stderr",
          "text": [
            " 22%|██▏       | 11141/50000 [01:44<05:22, 120.55it/s]"
          ]
        },
        {
          "output_type": "stream",
          "name": "stdout",
          "text": [
            "Loss: 1.3756361508369446\n"
          ]
        },
        {
          "output_type": "stream",
          "name": "stderr",
          "text": [
            "\n",
            "  0%|          | 0/200 [00:00<?, ?it/s]\u001b[A\n",
            "100%|██████████| 200/200 [00:00<00:00, 1531.65it/s]\n",
            " 22%|██▏       | 11155/50000 [01:44<06:46, 95.50it/s] "
          ]
        },
        {
          "output_type": "stream",
          "name": "stdout",
          "text": [
            " and the common the development of the state are the set of the control of the content companies in the state of the most services of the company and the manufacturers of the person in the result of th\n"
          ]
        },
        {
          "output_type": "stream",
          "name": "stderr",
          "text": [
            " 22%|██▏       | 11187/50000 [01:45<05:21, 120.64it/s]"
          ]
        },
        {
          "output_type": "stream",
          "name": "stdout",
          "text": [
            "Loss: 1.3615045976638793\n"
          ]
        },
        {
          "output_type": "stream",
          "name": "stderr",
          "text": [
            "\n",
            "  0%|          | 0/200 [00:00<?, ?it/s]\u001b[A\n",
            "100%|██████████| 200/200 [00:00<00:00, 1551.08it/s]\n",
            " 22%|██▏       | 11201/50000 [01:45<06:45, 95.74it/s] "
          ]
        },
        {
          "output_type": "stream",
          "name": "stdout",
          "text": [
            " and the former production of the process and the source of the production of the state of the state of the result of the company state of the higher and protection of the computer production of the pa\n"
          ]
        },
        {
          "output_type": "stream",
          "name": "stderr",
          "text": [
            " 22%|██▏       | 11234/50000 [01:45<05:20, 121.03it/s]"
          ]
        },
        {
          "output_type": "stream",
          "name": "stdout",
          "text": [
            "Loss: 1.3766910743713379\n"
          ]
        },
        {
          "output_type": "stream",
          "name": "stderr",
          "text": [
            "\n",
            "  0%|          | 0/200 [00:00<?, ?it/s]\u001b[A\n",
            "100%|██████████| 200/200 [00:00<00:00, 1558.25it/s]\n",
            " 22%|██▎       | 11250/50000 [01:45<06:38, 97.32it/s] "
          ]
        },
        {
          "output_type": "stream",
          "name": "stdout",
          "text": [
            " to the elements and the results with the process in the second common are also in the product of the community of the second common has a country of the seat the majority of the distinction of the pro\n"
          ]
        },
        {
          "output_type": "stream",
          "name": "stderr",
          "text": [
            " 23%|██▎       | 11298/50000 [01:45<04:55, 130.79it/s]"
          ]
        },
        {
          "output_type": "stream",
          "name": "stdout",
          "text": [
            "Loss: 1.3437596988677978\n"
          ]
        },
        {
          "output_type": "stream",
          "name": "stderr",
          "text": [
            "\n",
            "  0%|          | 0/200 [00:00<?, ?it/s]\u001b[A\n",
            "100%|██████████| 200/200 [00:00<00:00, 1528.05it/s]\n"
          ]
        },
        {
          "output_type": "stream",
          "name": "stdout",
          "text": [
            " and neurons and the common the state of the state in the United States and the population of the particular such as a significant products of the state of the result of the results of the state in the\n"
          ]
        },
        {
          "output_type": "stream",
          "name": "stderr",
          "text": [
            " 23%|██▎       | 11346/50000 [01:46<05:11, 124.15it/s]"
          ]
        },
        {
          "output_type": "stream",
          "name": "stdout",
          "text": [
            "Loss: 1.371570987701416\n"
          ]
        },
        {
          "output_type": "stream",
          "name": "stderr",
          "text": [
            "\n",
            "  0%|          | 0/200 [00:00<?, ?it/s]\u001b[A\n",
            "100%|██████████| 200/200 [00:00<00:00, 1306.00it/s]\n"
          ]
        },
        {
          "output_type": "stream",
          "name": "stdout",
          "text": [
            " to the state of the state of the controllers of the computer and can be a result of the service to the service of the state and research the product of the seats to a second the state of the southern \n"
          ]
        },
        {
          "output_type": "stream",
          "name": "stderr",
          "text": [
            " 23%|██▎       | 11393/50000 [01:46<05:22, 119.64it/s]"
          ]
        },
        {
          "output_type": "stream",
          "name": "stdout",
          "text": [
            "Loss: 1.372321515083313\n"
          ]
        },
        {
          "output_type": "stream",
          "name": "stderr",
          "text": [
            "\n",
            "  0%|          | 0/200 [00:00<?, ?it/s]\u001b[A\n",
            "100%|██████████| 200/200 [00:00<00:00, 1486.26it/s]\n",
            " 23%|██▎       | 11407/50000 [01:47<06:48, 94.48it/s] "
          ]
        },
        {
          "output_type": "stream",
          "name": "stdout",
          "text": [
            " and the second the company and the state of a significant computer standards in the second and the proposed to the experience of the state and the process were the control of the article such as a sec\n"
          ]
        },
        {
          "output_type": "stream",
          "name": "stderr",
          "text": [
            " 23%|██▎       | 11439/50000 [01:47<05:22, 119.48it/s]"
          ]
        },
        {
          "output_type": "stream",
          "name": "stdout",
          "text": [
            "Loss: 1.3582754015922547\n"
          ]
        },
        {
          "output_type": "stream",
          "name": "stderr",
          "text": [
            "\n",
            "  0%|          | 0/200 [00:00<?, ?it/s]\u001b[A\n",
            "100%|██████████| 200/200 [00:00<00:00, 1276.76it/s]\n",
            " 23%|██▎       | 11453/50000 [01:47<07:10, 89.54it/s] "
          ]
        },
        {
          "output_type": "stream",
          "name": "stdout",
          "text": [
            " to the result of the product the problems to the services are an area of the standard in the constitutional systems and the state of the state and many of the first products and international transfor\n"
          ]
        },
        {
          "output_type": "stream",
          "name": "stderr",
          "text": [
            " 23%|██▎       | 11485/50000 [01:47<05:31, 116.02it/s]"
          ]
        },
        {
          "output_type": "stream",
          "name": "stdout",
          "text": [
            "Loss: 1.3709528827667237\n"
          ]
        },
        {
          "output_type": "stream",
          "name": "stderr",
          "text": [
            "\n",
            "  0%|          | 0/200 [00:00<?, ?it/s]\u001b[A\n",
            "100%|██████████| 200/200 [00:00<00:00, 1504.31it/s]\n",
            " 23%|██▎       | 11500/50000 [01:48<06:53, 93.19it/s] "
          ]
        },
        {
          "output_type": "stream",
          "name": "stdout",
          "text": [
            " and the state of the computer school of the first computer standard of the problems of the term and computer speed of the sensory and approach in the Commons and the state the process of the view and \n"
          ]
        },
        {
          "output_type": "stream",
          "name": "stderr",
          "text": [
            " 23%|██▎       | 11534/50000 [01:48<05:19, 120.32it/s]"
          ]
        },
        {
          "output_type": "stream",
          "name": "stdout",
          "text": [
            "Loss: 1.3738950395584106\n"
          ]
        },
        {
          "output_type": "stream",
          "name": "stderr",
          "text": [
            "\n",
            "  0%|          | 0/200 [00:00<?, ?it/s]\u001b[A\n",
            "100%|██████████| 200/200 [00:00<00:00, 1419.52it/s]\n",
            " 23%|██▎       | 11550/50000 [01:48<06:41, 95.65it/s] "
          ]
        },
        {
          "output_type": "stream",
          "name": "stdout",
          "text": [
            " and set of the located in the United States of the major considered a multiplication and international companies of the protect the state and international relationships in the 1990s, and the services\n"
          ]
        },
        {
          "output_type": "stream",
          "name": "stderr",
          "text": [
            " 23%|██▎       | 11599/50000 [01:48<04:55, 129.97it/s]"
          ]
        },
        {
          "output_type": "stream",
          "name": "stdout",
          "text": [
            "Loss: 1.3564336848258973\n"
          ]
        },
        {
          "output_type": "stream",
          "name": "stderr",
          "text": [
            "\n",
            "  0%|          | 0/200 [00:00<?, ?it/s]\u001b[A\n",
            "100%|██████████| 200/200 [00:00<00:00, 1467.91it/s]\n"
          ]
        },
        {
          "output_type": "stream",
          "name": "stdout",
          "text": [
            " and the standard the archipelago and the state of the southern available to the archipelago is a number of member of the significant process for increase the government and companies in the United Sta\n"
          ]
        },
        {
          "output_type": "stream",
          "name": "stderr",
          "text": [
            " 23%|██▎       | 11648/50000 [01:49<05:08, 124.18it/s]"
          ]
        },
        {
          "output_type": "stream",
          "name": "stdout",
          "text": [
            "Loss: 1.3639230704307557\n"
          ]
        },
        {
          "output_type": "stream",
          "name": "stderr",
          "text": [
            "\n",
            "  0%|          | 0/200 [00:00<?, ?it/s]\u001b[A\n",
            "100%|██████████| 200/200 [00:00<00:00, 1445.68it/s]\n"
          ]
        },
        {
          "output_type": "stream",
          "name": "stdout",
          "text": [
            " the company and other methods were not the state and companies and services of the provided a community of the processes of the United States and the process of the position of the company and the sta\n"
          ]
        },
        {
          "output_type": "stream",
          "name": "stderr",
          "text": [
            " 23%|██▎       | 11696/50000 [01:49<05:16, 121.09it/s]"
          ]
        },
        {
          "output_type": "stream",
          "name": "stdout",
          "text": [
            "Loss: 1.3722834229469298\n"
          ]
        },
        {
          "output_type": "stream",
          "name": "stderr",
          "text": [
            "\n",
            "  0%|          | 0/200 [00:00<?, ?it/s]\u001b[A\n",
            "100%|██████████| 200/200 [00:00<00:00, 1504.75it/s]\n"
          ]
        },
        {
          "output_type": "stream",
          "name": "stdout",
          "text": [
            " and has a process of the process of the first operations of the process of the state of the English control of the result of the state of the Cape Verde has been a particularly a complex of the area t\n"
          ]
        },
        {
          "output_type": "stream",
          "name": "stderr",
          "text": [
            " 23%|██▎       | 11743/50000 [01:50<05:15, 121.14it/s]"
          ]
        },
        {
          "output_type": "stream",
          "name": "stdout",
          "text": [
            "Loss: 1.3612672185897827\n"
          ]
        },
        {
          "output_type": "stream",
          "name": "stderr",
          "text": [
            "\n",
            "  0%|          | 0/200 [00:00<?, ?it/s]\u001b[A\n",
            "100%|██████████| 200/200 [00:00<00:00, 1522.46it/s]\n",
            " 24%|██▎       | 11757/50000 [01:50<06:39, 95.76it/s] "
          ]
        },
        {
          "output_type": "stream",
          "name": "stdout",
          "text": [
            " and the production of the prosperity of the production of the second results to the provide the concept of the signal for the process and the experience of the state of the process of the second and s\n"
          ]
        },
        {
          "output_type": "stream",
          "name": "stderr",
          "text": [
            " 24%|██▎       | 11790/50000 [01:50<05:15, 121.09it/s]"
          ]
        },
        {
          "output_type": "stream",
          "name": "stdout",
          "text": [
            "Loss: 1.3661571145057678\n"
          ]
        },
        {
          "output_type": "stream",
          "name": "stderr",
          "text": [
            "\n",
            "  0%|          | 0/200 [00:00<?, ?it/s]\u001b[A\n",
            "100%|██████████| 200/200 [00:00<00:00, 1546.32it/s]\n",
            " 24%|██▎       | 11804/50000 [01:50<06:39, 95.65it/s] "
          ]
        },
        {
          "output_type": "stream",
          "name": "stdout",
          "text": [
            " in the original standards of the results and the produced the product of the southern particular solve the state of the set of the state of the development of the problems of a set that the control of\n"
          ]
        },
        {
          "output_type": "stream",
          "name": "stderr",
          "text": [
            " 24%|██▎       | 11836/50000 [01:51<05:17, 120.15it/s]"
          ]
        },
        {
          "output_type": "stream",
          "name": "stdout",
          "text": [
            "Loss: 1.365939302444458\n"
          ]
        },
        {
          "output_type": "stream",
          "name": "stderr",
          "text": [
            "\n",
            "  0%|          | 0/200 [00:00<?, ?it/s]\u001b[A\n",
            "100%|██████████| 200/200 [00:00<00:00, 1541.18it/s]\n",
            " 24%|██▎       | 11850/50000 [01:51<06:39, 95.57it/s] "
          ]
        },
        {
          "output_type": "stream",
          "name": "stdout",
          "text": [
            " and is the station of the company and an extensive records the considered the social networking that is the state and one in the computational traditional state in the state of the addition to the sta\n"
          ]
        },
        {
          "output_type": "stream",
          "name": "stderr",
          "text": [
            " 24%|██▍       | 11898/50000 [01:51<04:57, 127.96it/s]"
          ]
        },
        {
          "output_type": "stream",
          "name": "stdout",
          "text": [
            "Loss: 1.3709614849090577\n"
          ]
        },
        {
          "output_type": "stream",
          "name": "stderr",
          "text": [
            "\n",
            "  0%|          | 0/200 [00:00<?, ?it/s]\u001b[A\n",
            "100%|██████████| 200/200 [00:00<00:00, 1101.42it/s]"
          ]
        },
        {
          "output_type": "stream",
          "name": "stdout",
          "text": [
            " A de:Same Cape Verdean and the southern structure and the war to the control of the standards of the religion of a standards of the second state is a computing of the international continued to the co\n"
          ]
        },
        {
          "output_type": "stream",
          "name": "stderr",
          "text": [
            "\n",
            " 24%|██▍       | 11943/50000 [01:52<05:49, 108.91it/s]"
          ]
        },
        {
          "output_type": "stream",
          "name": "stdout",
          "text": [
            "Loss: 1.3855714225769042\n"
          ]
        },
        {
          "output_type": "stream",
          "name": "stderr",
          "text": [
            "\n",
            "  0%|          | 0/200 [00:00<?, ?it/s]\u001b[A\n",
            "100%|██████████| 200/200 [00:00<00:00, 1310.13it/s]"
          ]
        },
        {
          "output_type": "stream",
          "name": "stdout",
          "text": [
            " and other responsible to the state and the state of the area of the original control of the process and the term and the article control of the source of the state and about the standard of the first \n"
          ]
        },
        {
          "output_type": "stream",
          "name": "stderr",
          "text": [
            "\n",
            " 24%|██▍       | 11999/50000 [01:52<05:37, 112.75it/s]"
          ]
        },
        {
          "output_type": "stream",
          "name": "stdout",
          "text": [
            "Loss: 1.3614057397842407\n"
          ]
        },
        {
          "output_type": "stream",
          "name": "stderr",
          "text": [
            "\n",
            "  0%|          | 0/200 [00:00<?, ?it/s]\u001b[A\n",
            "100%|██████████| 200/200 [00:00<00:00, 1093.58it/s]\n"
          ]
        },
        {
          "output_type": "stream",
          "name": "stdout",
          "text": [
            " and the product and the state and address a service of the second in the different companies and the state of the provided as the study of the computer services and the process and many international \n"
          ]
        },
        {
          "output_type": "stream",
          "name": "stderr",
          "text": [
            " 24%|██▍       | 12041/50000 [01:53<06:09, 102.71it/s]"
          ]
        },
        {
          "output_type": "stream",
          "name": "stdout",
          "text": [
            "Loss: 1.3761443543434142\n"
          ]
        },
        {
          "output_type": "stream",
          "name": "stderr",
          "text": [
            "\n",
            "  0%|          | 0/200 [00:00<?, ?it/s]\u001b[A\n",
            "100%|██████████| 200/200 [00:00<00:00, 1185.58it/s]"
          ]
        },
        {
          "output_type": "stream",
          "name": "stdout",
          "text": [
            " the set that the development of the position of the company and promote the companies and the control is a present of the state of the state of the trains and the international company of the state of\n"
          ]
        },
        {
          "output_type": "stream",
          "name": "stderr",
          "text": [
            "\n",
            " 24%|██▍       | 12096/50000 [01:53<05:46, 109.34it/s]"
          ]
        },
        {
          "output_type": "stream",
          "name": "stdout",
          "text": [
            "Loss: 1.3656265497207642\n"
          ]
        },
        {
          "output_type": "stream",
          "name": "stderr",
          "text": [
            "\n",
            "  0%|          | 0/200 [00:00<?, ?it/s]\u001b[A\n",
            " 43%|████▎     | 86/200 [00:00<00:00, 859.36it/s]\u001b[A\n",
            "100%|██████████| 200/200 [00:00<00:00, 942.90it/s]\n",
            " 24%|██▍       | 12126/50000 [01:54<06:53, 91.55it/s]"
          ]
        },
        {
          "output_type": "stream",
          "name": "stdout",
          "text": [
            " and the first to a position to the same and the state of the contribute the constitutional relationships of the provide a transformation of the secondary and the computer services and programmer and t\n"
          ]
        },
        {
          "output_type": "stream",
          "name": "stderr",
          "text": [
            "\r 24%|██▍       | 12142/50000 [01:54<05:58, 105.68it/s]"
          ]
        },
        {
          "output_type": "stream",
          "name": "stdout",
          "text": [
            "Loss: 1.3652921891212464\n"
          ]
        },
        {
          "output_type": "stream",
          "name": "stderr",
          "text": [
            "\n",
            "  0%|          | 0/200 [00:00<?, ?it/s]\u001b[A\n",
            "100%|██████████| 200/200 [00:00<00:00, 1544.49it/s]\n",
            " 24%|██▍       | 12156/50000 [01:54<07:11, 87.61it/s] "
          ]
        },
        {
          "output_type": "stream",
          "name": "stdout",
          "text": [
            " considered the state of the machine of the other and process and one of the constitutional companies and internal instance of the state and experience of the service of a second for the control of the\n"
          ]
        },
        {
          "output_type": "stream",
          "name": "stderr",
          "text": [
            " 24%|██▍       | 12189/50000 [01:54<05:25, 115.99it/s]"
          ]
        },
        {
          "output_type": "stream",
          "name": "stdout",
          "text": [
            "Loss: 1.3618275761604308\n"
          ]
        },
        {
          "output_type": "stream",
          "name": "stderr",
          "text": [
            "\n",
            "  0%|          | 0/200 [00:00<?, ?it/s]\u001b[A\n",
            "100%|██████████| 200/200 [00:00<00:00, 1441.55it/s]\n",
            " 24%|██▍       | 12203/50000 [01:54<06:50, 92.10it/s] "
          ]
        },
        {
          "output_type": "stream",
          "name": "stdout",
          "text": [
            " to the particular services and the standards became the administration of the state and the stations in the United States and the services of the company and advanced and social networking services in\n"
          ]
        },
        {
          "output_type": "stream",
          "name": "stderr",
          "text": [
            " 24%|██▍       | 12236/50000 [01:55<05:17, 118.88it/s]"
          ]
        },
        {
          "output_type": "stream",
          "name": "stdout",
          "text": [
            "Loss: 1.3668354940414429\n"
          ]
        },
        {
          "output_type": "stream",
          "name": "stderr",
          "text": [
            "\n",
            "  0%|          | 0/200 [00:00<?, ?it/s]\u001b[A\n",
            "100%|██████████| 200/200 [00:00<00:00, 1535.49it/s]\n",
            " 24%|██▍       | 12250/50000 [01:55<06:36, 95.13it/s] "
          ]
        },
        {
          "output_type": "stream",
          "name": "stdout",
          "text": [
            " and the ancient than the second the first studies and considered the stations of the process and the designed to the most product of the services are management of the activities of the state of the s\n"
          ]
        },
        {
          "output_type": "stream",
          "name": "stderr",
          "text": [
            " 25%|██▍       | 12299/50000 [01:55<04:50, 129.83it/s]"
          ]
        },
        {
          "output_type": "stream",
          "name": "stdout",
          "text": [
            "Loss: 1.3718907403945924\n"
          ]
        },
        {
          "output_type": "stream",
          "name": "stderr",
          "text": [
            "\n",
            "  0%|          | 0/200 [00:00<?, ?it/s]\u001b[A\n",
            "100%|██████████| 200/200 [00:00<00:00, 1466.72it/s]\n"
          ]
        },
        {
          "output_type": "stream",
          "name": "stdout",
          "text": [
            " and the proposed a state and an extensive to a particular set of the house is the process of the states are the common computer to a victories of the state of the first financial control of the south \n"
          ]
        },
        {
          "output_type": "stream",
          "name": "stderr",
          "text": [
            " 25%|██▍       | 12347/50000 [01:56<05:05, 123.16it/s]"
          ]
        },
        {
          "output_type": "stream",
          "name": "stdout",
          "text": [
            "Loss: 1.3627066755294799\n"
          ]
        },
        {
          "output_type": "stream",
          "name": "stderr",
          "text": [
            "\n",
            "  0%|          | 0/200 [00:00<?, ?it/s]\u001b[A\n",
            "100%|██████████| 200/200 [00:00<00:00, 1500.50it/s]\n"
          ]
        },
        {
          "output_type": "stream",
          "name": "stdout",
          "text": [
            " and his respondents of the state and an operations are also been the state of the country of the first the American and the Garder Association of Consider the Cape Verde and the second formal construc\n"
          ]
        },
        {
          "output_type": "stream",
          "name": "stderr",
          "text": [
            " 25%|██▍       | 12394/50000 [01:56<05:11, 120.78it/s]"
          ]
        },
        {
          "output_type": "stream",
          "name": "stdout",
          "text": [
            "Loss: 1.3749356842041016\n"
          ]
        },
        {
          "output_type": "stream",
          "name": "stderr",
          "text": [
            "\n",
            "  0%|          | 0/200 [00:00<?, ?it/s]\u001b[A\n",
            "100%|██████████| 200/200 [00:00<00:00, 1574.92it/s]\n",
            " 25%|██▍       | 12408/50000 [01:56<06:30, 96.36it/s] "
          ]
        },
        {
          "output_type": "stream",
          "name": "stdout",
          "text": [
            " computer speed of the constitutional state of the transportation of the control to a company of the particular services and control of the state of the state of the produced the state to the product a\n"
          ]
        },
        {
          "output_type": "stream",
          "name": "stderr",
          "text": [
            " 25%|██▍       | 12440/50000 [01:56<05:13, 119.68it/s]"
          ]
        },
        {
          "output_type": "stream",
          "name": "stdout",
          "text": [
            "Loss: 1.367845160961151\n"
          ]
        },
        {
          "output_type": "stream",
          "name": "stderr",
          "text": [
            "\n",
            "  0%|          | 0/200 [00:00<?, ?it/s]\u001b[A\n",
            "100%|██████████| 200/200 [00:00<00:00, 1485.40it/s]\n",
            " 25%|██▍       | 12454/50000 [01:57<06:39, 94.10it/s] "
          ]
        },
        {
          "output_type": "stream",
          "name": "stdout",
          "text": [
            " the company of the computer state of the Cape Verde was a process and control of an international and the most process and the community of the United States and a standards of the second the producti\n"
          ]
        },
        {
          "output_type": "stream",
          "name": "stderr",
          "text": [
            " 25%|██▍       | 12488/50000 [01:57<05:09, 121.32it/s]"
          ]
        },
        {
          "output_type": "stream",
          "name": "stdout",
          "text": [
            "Loss: 1.3747600936889648\n"
          ]
        },
        {
          "output_type": "stream",
          "name": "stderr",
          "text": [
            "\n",
            "  0%|          | 0/200 [00:00<?, ?it/s]\u001b[A\n",
            "100%|██████████| 200/200 [00:00<00:00, 1471.98it/s]\n",
            " 25%|██▌       | 12502/50000 [01:57<06:39, 93.89it/s] "
          ]
        },
        {
          "output_type": "stream",
          "name": "stdout",
          "text": [
            " the common experience of the first response to the control of the state of the country of the term and addition of the control of the control of an organization of the controlled the state of the most\n"
          ]
        },
        {
          "output_type": "stream",
          "name": "stderr",
          "text": [
            " 25%|██▌       | 12535/50000 [01:57<05:11, 120.19it/s]"
          ]
        },
        {
          "output_type": "stream",
          "name": "stdout",
          "text": [
            "Loss: 1.3644944500923157\n"
          ]
        },
        {
          "output_type": "stream",
          "name": "stderr",
          "text": [
            "\n",
            "  0%|          | 0/200 [00:00<?, ?it/s]\u001b[A\n",
            "100%|██████████| 200/200 [00:00<00:00, 1506.32it/s]\n",
            " 25%|██▌       | 12550/50000 [01:58<06:31, 95.57it/s] "
          ]
        },
        {
          "output_type": "stream",
          "name": "stdout",
          "text": [
            " in the company and the state is a standards the language and computer services of the company of the most companies and the standards and the person of the second the company and an active to the stat\n"
          ]
        },
        {
          "output_type": "stream",
          "name": "stderr",
          "text": [
            " 25%|██▌       | 12598/50000 [01:58<04:48, 129.54it/s]"
          ]
        },
        {
          "output_type": "stream",
          "name": "stdout",
          "text": [
            "Loss: 1.3567152404785157\n"
          ]
        },
        {
          "output_type": "stream",
          "name": "stderr",
          "text": [
            "\n",
            "  0%|          | 0/200 [00:00<?, ?it/s]\u001b[A\n",
            "100%|██████████| 200/200 [00:00<00:00, 1380.39it/s]\n"
          ]
        },
        {
          "output_type": "stream",
          "name": "stdout",
          "text": [
            " in the result of the production of the content of the state in the control of the company and the second media and a form in the United States and community of the America and the March 2013. The stat\n"
          ]
        },
        {
          "output_type": "stream",
          "name": "stderr",
          "text": [
            " 25%|██▌       | 12647/50000 [01:58<05:03, 123.24it/s]"
          ]
        },
        {
          "output_type": "stream",
          "name": "stdout",
          "text": [
            "Loss: 1.3825403332710267\n"
          ]
        },
        {
          "output_type": "stream",
          "name": "stderr",
          "text": [
            "\n",
            "  0%|          | 0/200 [00:00<?, ?it/s]\u001b[A\n",
            "100%|██████████| 200/200 [00:00<00:00, 1446.74it/s]\n"
          ]
        },
        {
          "output_type": "stream",
          "name": "stdout",
          "text": [
            " and was the state in the computer and the state and the state of the many of the state for the largest services of the company in the United States of the seat of the United States of the Santiago sta\n"
          ]
        },
        {
          "output_type": "stream",
          "name": "stderr",
          "text": [
            " 25%|██▌       | 12696/50000 [01:59<05:05, 122.21it/s]"
          ]
        },
        {
          "output_type": "stream",
          "name": "stdout",
          "text": [
            "Loss: 1.3538718557357787\n"
          ]
        },
        {
          "output_type": "stream",
          "name": "stderr",
          "text": [
            "\n",
            "  0%|          | 0/200 [00:00<?, ?it/s]\u001b[A\n",
            "100%|██████████| 200/200 [00:00<00:00, 1418.89it/s]\n"
          ]
        },
        {
          "output_type": "stream",
          "name": "stdout",
          "text": [
            " and the time in the United States and the computer service and a substance of the state and a standard in the United States in the time of the section and the second the same and the position and a mo\n"
          ]
        },
        {
          "output_type": "stream",
          "name": "stderr",
          "text": [
            " 25%|██▌       | 12744/50000 [01:59<05:07, 121.09it/s]"
          ]
        },
        {
          "output_type": "stream",
          "name": "stdout",
          "text": [
            "Loss: 1.3741993665695191\n"
          ]
        },
        {
          "output_type": "stream",
          "name": "stderr",
          "text": [
            "\n",
            "  0%|          | 0/200 [00:00<?, ?it/s]\u001b[A\n",
            "100%|██████████| 200/200 [00:00<00:00, 1542.62it/s]\n",
            " 26%|██▌       | 12758/50000 [01:59<06:27, 96.06it/s] "
          ]
        },
        {
          "output_type": "stream",
          "name": "stdout",
          "text": [
            " and other developed a most population to a state of the provide the services and the state of the product of the standard and the companies and the particular services and four of the transportation o\n"
          ]
        },
        {
          "output_type": "stream",
          "name": "stderr",
          "text": [
            " 26%|██▌       | 12790/50000 [02:00<05:07, 120.84it/s]"
          ]
        },
        {
          "output_type": "stream",
          "name": "stdout",
          "text": [
            "Loss: 1.3663608574867248\n"
          ]
        },
        {
          "output_type": "stream",
          "name": "stderr",
          "text": [
            "\n",
            "  0%|          | 0/200 [00:00<?, ?it/s]\u001b[A\n",
            "100%|██████████| 200/200 [00:00<00:00, 1519.93it/s]\n",
            " 26%|██▌       | 12804/50000 [02:00<06:29, 95.55it/s] "
          ]
        },
        {
          "output_type": "stream",
          "name": "stdout",
          "text": [
            " in 1969, the contraction of the process of the country is a lines are some international misus of the state and an activities of the second represented the result of the state of the product of the pr\n"
          ]
        },
        {
          "output_type": "stream",
          "name": "stderr",
          "text": [
            " 26%|██▌       | 12837/50000 [02:00<05:08, 120.56it/s]"
          ]
        },
        {
          "output_type": "stream",
          "name": "stdout",
          "text": [
            "Loss: 1.374314353466034\n"
          ]
        },
        {
          "output_type": "stream",
          "name": "stderr",
          "text": [
            "\n",
            "  0%|          | 0/200 [00:00<?, ?it/s]\u001b[A\n",
            "100%|██████████| 200/200 [00:00<00:00, 1489.54it/s]\n",
            " 26%|██▌       | 12851/50000 [02:00<06:30, 95.07it/s] "
          ]
        },
        {
          "output_type": "stream",
          "name": "stdout",
          "text": [
            " in the original called the process of the same in the first professional construction of the information and the following the national standards and an and the first social networking and services of\n"
          ]
        },
        {
          "output_type": "stream",
          "name": "stderr",
          "text": [
            " 26%|██▌       | 12884/50000 [02:01<05:09, 119.82it/s]"
          ]
        },
        {
          "output_type": "stream",
          "name": "stdout",
          "text": [
            "Loss: 1.3685574889183045\n"
          ]
        },
        {
          "output_type": "stream",
          "name": "stderr",
          "text": [
            "\n",
            "  0%|          | 0/200 [00:00<?, ?it/s]\u001b[A\n",
            "100%|██████████| 200/200 [00:00<00:00, 1491.55it/s]\n",
            " 26%|██▌       | 12900/50000 [02:01<06:25, 96.20it/s] "
          ]
        },
        {
          "output_type": "stream",
          "name": "stdout",
          "text": [
            " and the construction of the United States in the 1970s in the first community and an international international continued to the translations of the company the products and products and the service \n"
          ]
        },
        {
          "output_type": "stream",
          "name": "stderr",
          "text": [
            " 26%|██▌       | 12949/50000 [02:01<04:48, 128.33it/s]"
          ]
        },
        {
          "output_type": "stream",
          "name": "stdout",
          "text": [
            "Loss: 1.3647912740707397\n"
          ]
        },
        {
          "output_type": "stream",
          "name": "stderr",
          "text": [
            "\n",
            "  0%|          | 0/200 [00:00<?, ?it/s]\u001b[A\n",
            "100%|██████████| 200/200 [00:00<00:00, 1281.93it/s]\n"
          ]
        },
        {
          "output_type": "stream",
          "name": "stdout",
          "text": [
            " and the response the control and the same methods are a state and one of the minimum active electrification of the control that is a considered the result of the Pythagoras was the control of a new so\n"
          ]
        },
        {
          "output_type": "stream",
          "name": "stderr",
          "text": [
            " 26%|██▌       | 12997/50000 [02:02<05:06, 120.55it/s]"
          ]
        },
        {
          "output_type": "stream",
          "name": "stdout",
          "text": [
            "Loss: 1.3664419341087342\n"
          ]
        },
        {
          "output_type": "stream",
          "name": "stderr",
          "text": [
            "\n",
            "  0%|          | 0/200 [00:00<?, ?it/s]\u001b[A\n",
            "100%|██████████| 200/200 [00:00<00:00, 1503.77it/s]\n"
          ]
        },
        {
          "output_type": "stream",
          "name": "stdout",
          "text": [
            " the International Station and Product and South American American and the Cape Verde is the seats of the southern companies of the contribution of the set of the control of the control of the position\n"
          ]
        },
        {
          "output_type": "stream",
          "name": "stderr",
          "text": [
            " 26%|██▌       | 13044/50000 [02:02<05:08, 119.85it/s]"
          ]
        },
        {
          "output_type": "stream",
          "name": "stdout",
          "text": [
            "Loss: 1.3718597197532654\n"
          ]
        },
        {
          "output_type": "stream",
          "name": "stderr",
          "text": [
            "\n",
            "  0%|          | 0/200 [00:00<?, ?it/s]\u001b[A\n",
            "100%|██████████| 200/200 [00:00<00:00, 1577.90it/s]\n",
            " 26%|██▌       | 13058/50000 [02:02<06:29, 94.90it/s] "
          ]
        },
        {
          "output_type": "stream",
          "name": "stdout",
          "text": [
            " and the largest the state of the first company is a studies of the first computer and state of the company was a set of discoveries of the southern the same network of the United States and a proposed\n"
          ]
        },
        {
          "output_type": "stream",
          "name": "stderr",
          "text": [
            " 26%|██▌       | 13090/50000 [02:02<05:07, 120.20it/s]"
          ]
        },
        {
          "output_type": "stream",
          "name": "stdout",
          "text": [
            "Loss: 1.3705081248283386\n"
          ]
        },
        {
          "output_type": "stream",
          "name": "stderr",
          "text": [
            "\n",
            "  0%|          | 0/200 [00:00<?, ?it/s]\u001b[A\n",
            "100%|██████████| 200/200 [00:00<00:00, 1415.79it/s]\n",
            " 26%|██▌       | 13104/50000 [02:03<06:35, 93.31it/s] "
          ]
        },
        {
          "output_type": "stream",
          "name": "stdout",
          "text": [
            " and the proposed to the production of the first state of the process and production of a services of the religious provide the problems of the provided and is the term in the states of the term in the\n"
          ]
        },
        {
          "output_type": "stream",
          "name": "stderr",
          "text": [
            " 26%|██▋       | 13137/50000 [02:03<05:08, 119.57it/s]"
          ]
        },
        {
          "output_type": "stream",
          "name": "stdout",
          "text": [
            "Loss: 1.3918670558929442\n"
          ]
        },
        {
          "output_type": "stream",
          "name": "stderr",
          "text": [
            "\n",
            "  0%|          | 0/200 [00:00<?, ?it/s]\u001b[A\n",
            "100%|██████████| 200/200 [00:00<00:00, 1495.23it/s]\n",
            " 26%|██▋       | 13151/50000 [02:03<06:32, 93.94it/s] "
          ]
        },
        {
          "output_type": "stream",
          "name": "stdout",
          "text": [
            " in the proposed to the company of the major service of a product of the example, the research and the standard in the United States of the United States and a set of the service that distributed to th\n"
          ]
        },
        {
          "output_type": "stream",
          "name": "stderr",
          "text": [
            " 26%|██▋       | 13185/50000 [02:03<05:02, 121.56it/s]"
          ]
        },
        {
          "output_type": "stream",
          "name": "stdout",
          "text": [
            "Loss: 1.3808118462562562\n"
          ]
        },
        {
          "output_type": "stream",
          "name": "stderr",
          "text": [
            "\n",
            "  0%|          | 0/200 [00:00<?, ?it/s]\u001b[A\n",
            "100%|██████████| 200/200 [00:00<00:00, 1106.62it/s]\n",
            " 26%|██▋       | 13200/50000 [02:04<06:55, 88.64it/s] "
          ]
        },
        {
          "output_type": "stream",
          "name": "stdout",
          "text": [
            " computer services and the state of the companies are some of the south and presidential standards in the result of the trains to the state of the United States and the provide the state and the state \n"
          ]
        },
        {
          "output_type": "stream",
          "name": "stderr",
          "text": [
            " 26%|██▋       | 13243/50000 [02:04<05:20, 114.66it/s]"
          ]
        },
        {
          "output_type": "stream",
          "name": "stdout",
          "text": [
            "Loss: 1.3577330684661866\n"
          ]
        },
        {
          "output_type": "stream",
          "name": "stderr",
          "text": [
            "\n",
            "  0%|          | 0/200 [00:00<?, ?it/s]\u001b[A\n",
            "100%|██████████| 200/200 [00:00<00:00, 1231.82it/s]"
          ]
        },
        {
          "output_type": "stream",
          "name": "stdout",
          "text": [
            " and the lines and the provide the population of the common and the computer speed of the control for the ancestry and the state of the most services that the computer services and the largest services\n"
          ]
        },
        {
          "output_type": "stream",
          "name": "stderr",
          "text": [
            "\n",
            " 27%|██▋       | 13288/50000 [02:04<05:33, 110.06it/s]"
          ]
        },
        {
          "output_type": "stream",
          "name": "stdout",
          "text": [
            "Loss: 1.3598441004753112\n"
          ]
        },
        {
          "output_type": "stream",
          "name": "stderr",
          "text": [
            "\n",
            "  0%|          | 0/200 [00:00<?, ?it/s]\u001b[A\n",
            "100%|██████████| 200/200 [00:00<00:00, 1329.27it/s]\n",
            " 27%|██▋       | 13301/50000 [02:05<07:16, 84.00it/s] "
          ]
        },
        {
          "output_type": "stream",
          "name": "stdout",
          "text": [
            " and set of the state and a set of the production of the company and the because the standard and community of the process that is an international state and other standards the state and the analysis \n"
          ]
        },
        {
          "output_type": "stream",
          "name": "stderr",
          "text": [
            " 27%|██▋       | 13346/50000 [02:05<05:14, 116.52it/s]"
          ]
        },
        {
          "output_type": "stream",
          "name": "stdout",
          "text": [
            "Loss: 1.3577486371994019\n"
          ]
        },
        {
          "output_type": "stream",
          "name": "stderr",
          "text": [
            "\n",
            "  0%|          | 0/200 [00:00<?, ?it/s]\u001b[A\n",
            "100%|██████████| 200/200 [00:00<00:00, 1117.27it/s]"
          ]
        },
        {
          "output_type": "stream",
          "name": "stdout",
          "text": [
            " in the same and protection of the bijective sites with the construction of the products of the state and the early 1990s and a process to the set to the transportation of the proposed the approaches a\n"
          ]
        },
        {
          "output_type": "stream",
          "name": "stderr",
          "text": [
            "\n",
            " 27%|██▋       | 13390/50000 [02:05<05:51, 104.03it/s]"
          ]
        },
        {
          "output_type": "stream",
          "name": "stdout",
          "text": [
            "Loss: 1.3642600059509278\n"
          ]
        },
        {
          "output_type": "stream",
          "name": "stderr",
          "text": [
            "\n",
            "  0%|          | 0/200 [00:00<?, ?it/s]\u001b[A\n",
            "100%|██████████| 200/200 [00:00<00:00, 1110.07it/s]"
          ]
        },
        {
          "output_type": "stream",
          "name": "stdout",
          "text": [
            " in the present that the the service of the development in the contraction of the result of the first process to the number of the constitutional set of the state of the States and Asia was a product o\n"
          ]
        },
        {
          "output_type": "stream",
          "name": "stderr",
          "text": [
            "\n",
            " 27%|██▋       | 13434/50000 [02:06<05:52, 103.74it/s]"
          ]
        },
        {
          "output_type": "stream",
          "name": "stdout",
          "text": [
            "Loss: 1.3735936522483825\n"
          ]
        },
        {
          "output_type": "stream",
          "name": "stderr",
          "text": [
            "\n",
            "  0%|          | 0/200 [00:00<?, ?it/s]\u001b[A\n",
            "100%|██████████| 200/200 [00:00<00:00, 1467.71it/s]\n",
            " 27%|██▋       | 13450/50000 [02:06<06:57, 87.61it/s] "
          ]
        },
        {
          "output_type": "stream",
          "name": "stdout",
          "text": [
            " and the standard the largest second state and a second and the constitutional control of the believe to the produce the most state and with the particular service between the service of some service t\n"
          ]
        },
        {
          "output_type": "stream",
          "name": "stderr",
          "text": [
            " 27%|██▋       | 13483/50000 [02:06<05:16, 115.36it/s]"
          ]
        },
        {
          "output_type": "stream",
          "name": "stdout",
          "text": [
            "Loss: 1.3664369893074035\n"
          ]
        },
        {
          "output_type": "stream",
          "name": "stderr",
          "text": [
            "\n",
            "  0%|          | 0/200 [00:00<?, ?it/s]\u001b[A\n",
            "100%|██████████| 200/200 [00:00<00:00, 1481.15it/s]\n",
            " 27%|██▋       | 13500/50000 [02:07<06:24, 94.96it/s] "
          ]
        },
        {
          "output_type": "stream",
          "name": "stdout",
          "text": [
            " with the company process of the result of the term in the area to be some continued as a city was part of the area of the population is the company of the Northeast Commission of the International Lin\n"
          ]
        },
        {
          "output_type": "stream",
          "name": "stderr",
          "text": [
            " 27%|██▋       | 13547/50000 [02:07<04:51, 125.12it/s]"
          ]
        },
        {
          "output_type": "stream",
          "name": "stdout",
          "text": [
            "Loss: 1.3667330956459045\n"
          ]
        },
        {
          "output_type": "stream",
          "name": "stderr",
          "text": [
            "\n",
            "  0%|          | 0/200 [00:00<?, ?it/s]\u001b[A\n",
            "100%|██████████| 200/200 [00:00<00:00, 1498.91it/s]\n"
          ]
        },
        {
          "output_type": "stream",
          "name": "stdout",
          "text": [
            " and held the southern the state of the majority of the communication is a significant possible to be a standard in the first the process of the company of the Parliament of South American American Ame\n"
          ]
        },
        {
          "output_type": "stream",
          "name": "stderr",
          "text": [
            " 27%|██▋       | 13595/50000 [02:07<04:56, 122.68it/s]"
          ]
        },
        {
          "output_type": "stream",
          "name": "stdout",
          "text": [
            "Loss: 1.375206332206726\n"
          ]
        },
        {
          "output_type": "stream",
          "name": "stderr",
          "text": [
            "\n",
            "  0%|          | 0/200 [00:00<?, ?it/s]\u001b[A\n",
            "100%|██████████| 200/200 [00:00<00:00, 1466.84it/s]\n",
            " 27%|██▋       | 13609/50000 [02:08<06:19, 95.89it/s] "
          ]
        },
        {
          "output_type": "stream",
          "name": "stdout",
          "text": [
            " in the proposed to the product service to the state and a continued the provide the control of the second companies and the problems of the first standard in the state and the state and entered to com\n"
          ]
        },
        {
          "output_type": "stream",
          "name": "stderr",
          "text": [
            " 27%|██▋       | 13641/50000 [02:08<05:02, 120.15it/s]"
          ]
        },
        {
          "output_type": "stream",
          "name": "stdout",
          "text": [
            "Loss: 1.3706092953681945\n"
          ]
        },
        {
          "output_type": "stream",
          "name": "stderr",
          "text": [
            "\n",
            "  0%|          | 0/200 [00:00<?, ?it/s]\u001b[A\n",
            "100%|██████████| 200/200 [00:00<00:00, 1380.43it/s]\n",
            " 27%|██▋       | 13655/50000 [02:08<06:30, 93.03it/s] "
          ]
        },
        {
          "output_type": "stream",
          "name": "stdout",
          "text": [
            " and the president and the proposal in the United States, and the control of the first process and the state and the same and many state of the common in the United States to the produce the present th\n"
          ]
        },
        {
          "output_type": "stream",
          "name": "stderr",
          "text": [
            " 27%|██▋       | 13688/50000 [02:08<05:04, 119.28it/s]"
          ]
        },
        {
          "output_type": "stream",
          "name": "stdout",
          "text": [
            "Loss: 1.3768925261497498\n"
          ]
        },
        {
          "output_type": "stream",
          "name": "stderr",
          "text": [
            "\n",
            "  0%|          | 0/200 [00:00<?, ?it/s]\u001b[A\n",
            "100%|██████████| 200/200 [00:00<00:00, 1524.35it/s]\n",
            " 27%|██▋       | 13702/50000 [02:09<06:21, 95.05it/s] "
          ]
        },
        {
          "output_type": "stream",
          "name": "stdout",
          "text": [
            " and other standard in the production of the companies of the state that the standard for the second support in the second the protection of the South American Statistics and the Many Computer Carriaco\n"
          ]
        },
        {
          "output_type": "stream",
          "name": "stderr",
          "text": [
            " 27%|██▋       | 13734/50000 [02:09<05:02, 120.08it/s]"
          ]
        },
        {
          "output_type": "stream",
          "name": "stdout",
          "text": [
            "Loss: 1.3834570169448852\n"
          ]
        },
        {
          "output_type": "stream",
          "name": "stderr",
          "text": [
            "\n",
            "  0%|          | 0/200 [00:00<?, ?it/s]\u001b[A\n",
            "100%|██████████| 200/200 [00:00<00:00, 1358.94it/s]\n",
            " 28%|██▊       | 13750/50000 [02:09<06:27, 93.53it/s] "
          ]
        },
        {
          "output_type": "stream",
          "name": "stdout",
          "text": [
            " and the state and control of the state of the result to the services and a positive and the community of the contraction of the sources and the primary transportation of the first of the states and th\n"
          ]
        },
        {
          "output_type": "stream",
          "name": "stderr",
          "text": [
            " 28%|██▊       | 13799/50000 [02:09<04:40, 129.06it/s]"
          ]
        },
        {
          "output_type": "stream",
          "name": "stdout",
          "text": [
            "Loss: 1.377318994998932\n"
          ]
        },
        {
          "output_type": "stream",
          "name": "stderr",
          "text": [
            "\n",
            "  0%|          | 0/200 [00:00<?, ?it/s]\u001b[A\n",
            "100%|██████████| 200/200 [00:00<00:00, 1438.56it/s]\n"
          ]
        },
        {
          "output_type": "stream",
          "name": "stdout",
          "text": [
            " in an experience of the ancient the state of the computing in the United States in the operations and the southern Mariana and the California and the Cape Verdean proposed on the control of a communit\n"
          ]
        },
        {
          "output_type": "stream",
          "name": "stderr",
          "text": [
            " 28%|██▊       | 13847/50000 [02:10<04:52, 123.47it/s]"
          ]
        },
        {
          "output_type": "stream",
          "name": "stdout",
          "text": [
            "Loss: 1.3686652541160584\n"
          ]
        },
        {
          "output_type": "stream",
          "name": "stderr",
          "text": [
            "\n",
            "  0%|          | 0/200 [00:00<?, ?it/s]\u001b[A\n",
            "100%|██████████| 200/200 [00:00<00:00, 1442.60it/s]\n"
          ]
        },
        {
          "output_type": "stream",
          "name": "stdout",
          "text": [
            " to the result of the second and population in the United States and the theory of the most the first the source of the continued that the company of the production of the transportation in the second \n"
          ]
        },
        {
          "output_type": "stream",
          "name": "stderr",
          "text": [
            " 28%|██▊       | 13896/50000 [02:10<04:55, 122.01it/s]"
          ]
        },
        {
          "output_type": "stream",
          "name": "stdout",
          "text": [
            "Loss: 1.371319329738617\n"
          ]
        },
        {
          "output_type": "stream",
          "name": "stderr",
          "text": [
            "\n",
            "  0%|          | 0/200 [00:00<?, ?it/s]\u001b[A\n",
            "100%|██████████| 200/200 [00:00<00:00, 1548.16it/s]\n",
            " 28%|██▊       | 13910/50000 [02:10<06:13, 96.70it/s] "
          ]
        },
        {
          "output_type": "stream",
          "name": "stdout",
          "text": [
            " and the original strategy state to the seats that is also a programmers and considered the seats of the process of the control end to the country in the United States in the United States Americans an\n"
          ]
        },
        {
          "output_type": "stream",
          "name": "stderr",
          "text": [
            " 28%|██▊       | 13942/50000 [02:11<04:58, 120.73it/s]"
          ]
        },
        {
          "output_type": "stream",
          "name": "stdout",
          "text": [
            "Loss: 1.3739889144897461\n"
          ]
        },
        {
          "output_type": "stream",
          "name": "stderr",
          "text": [
            "\n",
            "  0%|          | 0/200 [00:00<?, ?it/s]\u001b[A\n",
            "100%|██████████| 200/200 [00:00<00:00, 1519.82it/s]\n",
            " 28%|██▊       | 13956/50000 [02:11<06:17, 95.41it/s] "
          ]
        },
        {
          "output_type": "stream",
          "name": "stdout",
          "text": [
            " the state of the most process of the provide the most services and the presents and the state and international company of the process that the production of the basic state in the control of the firs\n"
          ]
        },
        {
          "output_type": "stream",
          "name": "stderr",
          "text": [
            " 28%|██▊       | 13987/50000 [02:11<05:04, 118.25it/s]"
          ]
        },
        {
          "output_type": "stream",
          "name": "stdout",
          "text": [
            "Loss: 1.3833701395988465\n"
          ]
        },
        {
          "output_type": "stream",
          "name": "stderr",
          "text": [
            "\n",
            "  0%|          | 0/200 [00:00<?, ?it/s]\u001b[A\n",
            "100%|██████████| 200/200 [00:00<00:00, 1476.89it/s]\n",
            " 28%|██▊       | 14001/50000 [02:11<06:24, 93.54it/s] "
          ]
        },
        {
          "output_type": "stream",
          "name": "stdout",
          "text": [
            " and the services and services are participated to the production of the early 1990s in the original project of the response with the head and in the 1990s, and the performance of the community is the \n"
          ]
        },
        {
          "output_type": "stream",
          "name": "stderr",
          "text": [
            " 28%|██▊       | 14035/50000 [02:11<04:57, 121.06it/s]"
          ]
        },
        {
          "output_type": "stream",
          "name": "stdout",
          "text": [
            "Loss: 1.3774820375442505\n"
          ]
        },
        {
          "output_type": "stream",
          "name": "stderr",
          "text": [
            "\n",
            "  0%|          | 0/200 [00:00<?, ?it/s]\u001b[A\n",
            "100%|██████████| 200/200 [00:00<00:00, 1545.31it/s]\n",
            " 28%|██▊       | 14050/50000 [02:12<06:09, 97.24it/s] "
          ]
        },
        {
          "output_type": "stream",
          "name": "stdout",
          "text": [
            " and individuals are the term seats in the first proposed as a process in the United States of the completed to be produce the result of the state of the continued as a computing the company and a new \n"
          ]
        },
        {
          "output_type": "stream",
          "name": "stderr",
          "text": [
            " 28%|██▊       | 14098/50000 [02:12<04:38, 129.03it/s]"
          ]
        },
        {
          "output_type": "stream",
          "name": "stdout",
          "text": [
            "Loss: 1.3791291666030885\n"
          ]
        },
        {
          "output_type": "stream",
          "name": "stderr",
          "text": [
            "\n",
            "  0%|          | 0/200 [00:00<?, ?it/s]\u001b[A\n",
            "100%|██████████| 200/200 [00:00<00:00, 1495.09it/s]\n"
          ]
        },
        {
          "output_type": "stream",
          "name": "stdout",
          "text": [
            " and the control of the early 2000 in the first control of the companies of the specific and a trains of the population of the the first control to an international and only allow the process and possi\n"
          ]
        },
        {
          "output_type": "stream",
          "name": "stderr",
          "text": [
            " 28%|██▊       | 14146/50000 [02:12<04:48, 124.08it/s]"
          ]
        },
        {
          "output_type": "stream",
          "name": "stdout",
          "text": [
            "Loss: 1.3662336730957032\n"
          ]
        },
        {
          "output_type": "stream",
          "name": "stderr",
          "text": [
            "\n",
            "  0%|          | 0/200 [00:00<?, ?it/s]\u001b[A\n",
            "100%|██████████| 200/200 [00:00<00:00, 1456.24it/s]\n"
          ]
        },
        {
          "output_type": "stream",
          "name": "stdout",
          "text": [
            " the trains and the process of the area of the provides in the term computer studies and completed that the state and religion. The content of the United States and the state and the products and activ\n"
          ]
        },
        {
          "output_type": "stream",
          "name": "stderr",
          "text": [
            " 28%|██▊       | 14193/50000 [02:13<04:55, 121.31it/s]"
          ]
        },
        {
          "output_type": "stream",
          "name": "stdout",
          "text": [
            "Loss: 1.3757316589355468\n"
          ]
        },
        {
          "output_type": "stream",
          "name": "stderr",
          "text": [
            "\n",
            "  0%|          | 0/200 [00:00<?, ?it/s]\u001b[A\n",
            "100%|██████████| 200/200 [00:00<00:00, 1535.31it/s]\n",
            " 28%|██▊       | 14207/50000 [02:13<06:17, 94.77it/s] "
          ]
        },
        {
          "output_type": "stream",
          "name": "stdout",
          "text": [
            " and an international construction of the response that the trains of the positive and an association of the southern control of the computer than the result of the process and the construction of the \n"
          ]
        },
        {
          "output_type": "stream",
          "name": "stderr",
          "text": [
            " 28%|██▊       | 14241/50000 [02:13<04:54, 121.38it/s]"
          ]
        },
        {
          "output_type": "stream",
          "name": "stdout",
          "text": [
            "Loss: 1.368537209033966\n"
          ]
        },
        {
          "output_type": "stream",
          "name": "stderr",
          "text": [
            "\n",
            "  0%|          | 0/200 [00:00<?, ?it/s]\u001b[A\n",
            "100%|██████████| 200/200 [00:00<00:00, 1491.18it/s]\n",
            " 29%|██▊       | 14255/50000 [02:14<06:13, 95.70it/s] "
          ]
        },
        {
          "output_type": "stream",
          "name": "stdout",
          "text": [
            " and a particular services of the line of the United States and the Commons and the group of the communication of the proposed to the most experiences to the states are experiences of the company that \n"
          ]
        },
        {
          "output_type": "stream",
          "name": "stderr",
          "text": [
            " 29%|██▊       | 14288/50000 [02:14<04:53, 121.50it/s]"
          ]
        },
        {
          "output_type": "stream",
          "name": "stdout",
          "text": [
            "Loss: 1.377194139957428\n"
          ]
        },
        {
          "output_type": "stream",
          "name": "stderr",
          "text": [
            "\n",
            "  0%|          | 0/200 [00:00<?, ?it/s]\u001b[A\n",
            "100%|██████████| 200/200 [00:00<00:00, 1309.54it/s]\n",
            " 29%|██▊       | 14302/50000 [02:14<06:26, 92.48it/s] "
          ]
        },
        {
          "output_type": "stream",
          "name": "stdout",
          "text": [
            " and the largest process as a security of the international state of the population in the 1970s in the services of the construction of the state of the result of the computer and service and the house\n"
          ]
        },
        {
          "output_type": "stream",
          "name": "stderr",
          "text": [
            " 29%|██▊       | 14335/50000 [02:14<05:00, 118.53it/s]"
          ]
        },
        {
          "output_type": "stream",
          "name": "stdout",
          "text": [
            "Loss: 1.37634192943573\n"
          ]
        },
        {
          "output_type": "stream",
          "name": "stderr",
          "text": [
            "\n",
            "  0%|          | 0/200 [00:00<?, ?it/s]\u001b[A\n",
            "100%|██████████| 200/200 [00:00<00:00, 1513.29it/s]\n",
            " 29%|██▊       | 14350/50000 [02:14<06:14, 95.28it/s] "
          ]
        },
        {
          "output_type": "stream",
          "name": "stdout",
          "text": [
            " and the control of the state and an and the development in the United States and the term against the program to the state of the state of the state of the first the southern the second contraction of\n"
          ]
        },
        {
          "output_type": "stream",
          "name": "stderr",
          "text": [
            " 29%|██▉       | 14383/50000 [02:15<04:55, 120.70it/s]"
          ]
        },
        {
          "output_type": "stream",
          "name": "stdout",
          "text": [
            "Loss: 1.3721872973442077\n"
          ]
        },
        {
          "output_type": "stream",
          "name": "stderr",
          "text": [
            "\n",
            "  0%|          | 0/200 [00:00<?, ?it/s]\u001b[A\n",
            "100%|██████████| 200/200 [00:00<00:00, 1473.90it/s]\n",
            " 29%|██▉       | 14400/50000 [02:15<06:05, 97.28it/s] "
          ]
        },
        {
          "output_type": "stream",
          "name": "stdout",
          "text": [
            " and the second representative computer and in the top speeds of the state of the southern state of the transportation of the materials and the renamed the development that the state of the same to the\n"
          ]
        },
        {
          "output_type": "stream",
          "name": "stderr",
          "text": [
            " 29%|██▉       | 14433/50000 [02:15<04:53, 121.08it/s]"
          ]
        },
        {
          "output_type": "stream",
          "name": "stdout",
          "text": [
            "Loss: 1.372030553817749\n"
          ]
        },
        {
          "output_type": "stream",
          "name": "stderr",
          "text": [
            "\n",
            "  0%|          | 0/200 [00:00<?, ?it/s]\u001b[A\n",
            "100%|██████████| 200/200 [00:00<00:00, 1485.29it/s]\n",
            " 29%|██▉       | 14450/50000 [02:15<06:02, 98.01it/s] "
          ]
        },
        {
          "output_type": "stream",
          "name": "stdout",
          "text": [
            " in the original state of the process and the companies in the United States and the state and control to the state of the production of the term of the second the production of the United States of th\n"
          ]
        },
        {
          "output_type": "stream",
          "name": "stderr",
          "text": [
            " 29%|██▉       | 14484/50000 [02:16<04:49, 122.69it/s]"
          ]
        },
        {
          "output_type": "stream",
          "name": "stdout",
          "text": [
            "Loss: 1.3655209589004516\n"
          ]
        },
        {
          "output_type": "stream",
          "name": "stderr",
          "text": [
            "\n",
            "  0%|          | 0/200 [00:00<?, ?it/s]\u001b[A\n",
            "100%|██████████| 200/200 [00:00<00:00, 1477.05it/s]\n",
            " 29%|██▉       | 14500/50000 [02:16<06:01, 98.28it/s] "
          ]
        },
        {
          "output_type": "stream",
          "name": "stdout",
          "text": [
            " in the result of the top speed of the production of the position of the product and head of the company and the majority of the second on the provide the south and applications with the state and the \n"
          ]
        },
        {
          "output_type": "stream",
          "name": "stderr",
          "text": [
            " 29%|██▉       | 14544/50000 [02:16<04:48, 122.90it/s]"
          ]
        },
        {
          "output_type": "stream",
          "name": "stdout",
          "text": [
            "Loss: 1.36142324924469\n"
          ]
        },
        {
          "output_type": "stream",
          "name": "stderr",
          "text": [
            "\n",
            "  0%|          | 0/200 [00:00<?, ?it/s]\u001b[A\n",
            "100%|██████████| 200/200 [00:00<00:00, 1108.45it/s]"
          ]
        },
        {
          "output_type": "stream",
          "name": "stdout",
          "text": [
            " the strict for the monastery of the state and the second standard and services and the southern the first completed the processing of the proposed the state and a population in the state of the first \n"
          ]
        },
        {
          "output_type": "stream",
          "name": "stderr",
          "text": [
            "\n",
            " 29%|██▉       | 14588/50000 [02:17<05:25, 108.87it/s]"
          ]
        },
        {
          "output_type": "stream",
          "name": "stdout",
          "text": [
            "Loss: 1.3683386540412903\n"
          ]
        },
        {
          "output_type": "stream",
          "name": "stderr",
          "text": [
            "\n",
            "  0%|          | 0/200 [00:00<?, ?it/s]\u001b[A\n",
            "100%|██████████| 200/200 [00:00<00:00, 1346.78it/s]\n",
            " 29%|██▉       | 14601/50000 [02:17<07:05, 83.19it/s] "
          ]
        },
        {
          "output_type": "stream",
          "name": "stdout",
          "text": [
            " and other person from the companies and the protection of the south and international contraction in the second of the results and the production of the Cape Verdean and an interest in the service to \n"
          ]
        },
        {
          "output_type": "stream",
          "name": "stderr",
          "text": [
            " 29%|██▉       | 14647/50000 [02:17<04:59, 118.19it/s]"
          ]
        },
        {
          "output_type": "stream",
          "name": "stdout",
          "text": [
            "Loss: 1.3649086451530457\n"
          ]
        },
        {
          "output_type": "stream",
          "name": "stderr",
          "text": [
            "\n",
            "  0%|          | 0/200 [00:00<?, ?it/s]\u001b[A\n",
            "100%|██████████| 200/200 [00:00<00:00, 1222.67it/s]\n"
          ]
        },
        {
          "output_type": "stream",
          "name": "stdout",
          "text": [
            " and other development of international companies of state of the source of the completed the process of the company contraction of the state of the computer neuromorphic control of the country of a st\n"
          ]
        },
        {
          "output_type": "stream",
          "name": "stderr",
          "text": [
            " 29%|██▉       | 14691/50000 [02:18<05:19, 110.39it/s]"
          ]
        },
        {
          "output_type": "stream",
          "name": "stdout",
          "text": [
            "Loss: 1.3636832356452941\n"
          ]
        },
        {
          "output_type": "stream",
          "name": "stderr",
          "text": [
            "\n",
            "  0%|          | 0/200 [00:00<?, ?it/s]\u001b[A\n",
            "100%|██████████| 200/200 [00:00<00:00, 1159.02it/s]"
          ]
        },
        {
          "output_type": "stream",
          "name": "stdout",
          "text": [
            " in 1996 the representative and state and the process of the capital of the company and the state of the computer and order to the early 2000 and the first production of the state of the United States \n"
          ]
        },
        {
          "output_type": "stream",
          "name": "stderr",
          "text": [
            "\n",
            " 29%|██▉       | 14746/50000 [02:18<05:17, 110.94it/s]"
          ]
        },
        {
          "output_type": "stream",
          "name": "stdout",
          "text": [
            "Loss: 1.360759584903717\n"
          ]
        },
        {
          "output_type": "stream",
          "name": "stderr",
          "text": [
            "\n",
            "  0%|          | 0/200 [00:00<?, ?it/s]\u001b[A\n",
            "100%|██████████| 200/200 [00:00<00:00, 1047.61it/s]"
          ]
        },
        {
          "output_type": "stream",
          "name": "stdout",
          "text": [
            " and the service of provides the number of the production of the particular and problems of the company and in the service of the archipelago and a production of the common and a product of the origina\n"
          ]
        },
        {
          "output_type": "stream",
          "name": "stderr",
          "text": [
            "\n",
            " 30%|██▉       | 14791/50000 [02:19<05:27, 107.42it/s]"
          ]
        },
        {
          "output_type": "stream",
          "name": "stdout",
          "text": [
            "Loss: 1.3712943005561828\n"
          ]
        },
        {
          "output_type": "stream",
          "name": "stderr",
          "text": [
            "\n",
            "  0%|          | 0/200 [00:00<?, ?it/s]\u001b[A\n",
            "100%|██████████| 200/200 [00:00<00:00, 1306.25it/s]\n",
            " 30%|██▉       | 14805/50000 [02:19<06:54, 84.95it/s] "
          ]
        },
        {
          "output_type": "stream",
          "name": "stdout",
          "text": [
            " and a service of the properties that includes the state of the protection of the set of the projects of the computer and research and the company of the state and in the services of the organizations \n"
          ]
        },
        {
          "output_type": "stream",
          "name": "stderr",
          "text": [
            " 30%|██▉       | 14837/50000 [02:19<05:12, 112.56it/s]"
          ]
        },
        {
          "output_type": "stream",
          "name": "stdout",
          "text": [
            "Loss: 1.3647469091415405\n"
          ]
        },
        {
          "output_type": "stream",
          "name": "stderr",
          "text": [
            "\n",
            "  0%|          | 0/200 [00:00<?, ?it/s]\u001b[A\n",
            "100%|██████████| 200/200 [00:00<00:00, 1482.84it/s]\n",
            " 30%|██▉       | 14851/50000 [02:19<06:29, 90.31it/s] "
          ]
        },
        {
          "output_type": "stream",
          "name": "stdout",
          "text": [
            " and a second and the trains with the state of the construction of the computer speeds of the source of the standard and the most inverse of the control of the trains and the archipelago is a major to \n"
          ]
        },
        {
          "output_type": "stream",
          "name": "stderr",
          "text": [
            " 30%|██▉       | 14883/50000 [02:20<05:00, 116.71it/s]"
          ]
        },
        {
          "output_type": "stream",
          "name": "stdout",
          "text": [
            "Loss: 1.3689209604263306\n"
          ]
        },
        {
          "output_type": "stream",
          "name": "stderr",
          "text": [
            "\n",
            "  0%|          | 0/200 [00:00<?, ?it/s]\u001b[A\n",
            "100%|██████████| 200/200 [00:00<00:00, 1483.68it/s]\n",
            " 30%|██▉       | 14900/50000 [02:20<06:07, 95.41it/s] "
          ]
        },
        {
          "output_type": "stream",
          "name": "stdout",
          "text": [
            " in control of the computer private seat the decision of a simple to the project in the 1960s of the train and a companies and the common state and the country of the term community is a services and t\n"
          ]
        },
        {
          "output_type": "stream",
          "name": "stderr",
          "text": [
            " 30%|██▉       | 14949/50000 [02:20<04:31, 128.93it/s]"
          ]
        },
        {
          "output_type": "stream",
          "name": "stdout",
          "text": [
            "Loss: 1.3742598795890808\n"
          ]
        },
        {
          "output_type": "stream",
          "name": "stderr",
          "text": [
            "\n",
            "  0%|          | 0/200 [00:00<?, ?it/s]\u001b[A\n",
            "100%|██████████| 200/200 [00:00<00:00, 1532.64it/s]\n"
          ]
        },
        {
          "output_type": "stream",
          "name": "stdout",
          "text": [
            " entines and a proposed to the first operations of the country of the probability of the archipelago are more control to services and the most the most the largest process and the area of the result of\n"
          ]
        },
        {
          "output_type": "stream",
          "name": "stderr",
          "text": [
            " 30%|██▉       | 14996/50000 [02:21<04:43, 123.33it/s]"
          ]
        },
        {
          "output_type": "stream",
          "name": "stdout",
          "text": [
            "Loss: 1.3821238732337953\n"
          ]
        },
        {
          "output_type": "stream",
          "name": "stderr",
          "text": [
            "\n",
            "  0%|          | 0/200 [00:00<?, ?it/s]\u001b[A\n",
            "100%|██████████| 200/200 [00:00<00:00, 1530.04it/s]\n"
          ]
        },
        {
          "output_type": "stream",
          "name": "stdout",
          "text": [
            " and other approach to construction of the state learning state of the computer standard of the Games and the company and the state in the United States and the concepts and the school of the communica\n"
          ]
        },
        {
          "output_type": "stream",
          "name": "stderr",
          "text": [
            " 30%|███       | 15042/50000 [02:21<04:50, 120.45it/s]"
          ]
        },
        {
          "output_type": "stream",
          "name": "stdout",
          "text": [
            "Loss: 1.358148226737976\n"
          ]
        },
        {
          "output_type": "stream",
          "name": "stderr",
          "text": [
            "\n",
            "  0%|          | 0/200 [00:00<?, ?it/s]\u001b[A\n",
            "100%|██████████| 200/200 [00:00<00:00, 1360.87it/s]\n",
            " 30%|███       | 15056/50000 [02:21<06:16, 92.80it/s] "
          ]
        },
        {
          "output_type": "stream",
          "name": "stdout",
          "text": [
            " and a products and service of a physical services of the new particular control of the community of the company in the United States in the United States and a media and a state and engineering and th\n"
          ]
        },
        {
          "output_type": "stream",
          "name": "stderr",
          "text": [
            " 30%|███       | 15088/50000 [02:22<04:54, 118.64it/s]"
          ]
        },
        {
          "output_type": "stream",
          "name": "stdout",
          "text": [
            "Loss: 1.356352024078369\n"
          ]
        },
        {
          "output_type": "stream",
          "name": "stderr",
          "text": [
            "\n",
            "  0%|          | 0/200 [00:00<?, ?it/s]\u001b[A\n",
            "100%|██████████| 200/200 [00:00<00:00, 1534.91it/s]\n",
            " 30%|███       | 15102/50000 [02:22<06:09, 94.48it/s] "
          ]
        },
        {
          "output_type": "stream",
          "name": "stdout",
          "text": [
            " and other design to a special formal computer services and the most state of the provide the present of the state and control of the provided by a physical state in the 1990s of a formal areas of the \n"
          ]
        },
        {
          "output_type": "stream",
          "name": "stderr",
          "text": [
            " 30%|███       | 15135/50000 [02:22<04:48, 120.96it/s]"
          ]
        },
        {
          "output_type": "stream",
          "name": "stdout",
          "text": [
            "Loss: 1.3655534315109252\n"
          ]
        },
        {
          "output_type": "stream",
          "name": "stderr",
          "text": [
            "\n",
            "  0%|          | 0/200 [00:00<?, ?it/s]\u001b[A\n",
            "100%|██████████| 200/200 [00:00<00:00, 1580.77it/s]\n",
            " 30%|███       | 15150/50000 [02:22<05:58, 97.20it/s] "
          ]
        },
        {
          "output_type": "stream",
          "name": "stdout",
          "text": [
            " the protection of the production of the common and and and social networking and capability of the former process to the source to the state and standards and the city of the United States and a media\n"
          ]
        },
        {
          "output_type": "stream",
          "name": "stderr",
          "text": [
            " 30%|███       | 15199/50000 [02:23<04:25, 131.24it/s]"
          ]
        },
        {
          "output_type": "stream",
          "name": "stdout",
          "text": [
            "Loss: 1.373077824115753\n"
          ]
        },
        {
          "output_type": "stream",
          "name": "stderr",
          "text": [
            "\n",
            "  0%|          | 0/200 [00:00<?, ?it/s]\u001b[A\n",
            "100%|██████████| 200/200 [00:00<00:00, 1494.98it/s]\n"
          ]
        },
        {
          "output_type": "stream",
          "name": "stdout",
          "text": [
            " and the result of the state of the United States and the second considered the construction and the ancient that the process were an activities are also a speed to the standard the provide the operati\n"
          ]
        },
        {
          "output_type": "stream",
          "name": "stderr",
          "text": [
            " 30%|███       | 15247/50000 [02:23<04:41, 123.24it/s]"
          ]
        },
        {
          "output_type": "stream",
          "name": "stdout",
          "text": [
            "Loss: 1.3690127897262574\n"
          ]
        },
        {
          "output_type": "stream",
          "name": "stderr",
          "text": [
            "\n",
            "  0%|          | 0/200 [00:00<?, ?it/s]\u001b[A\n",
            "100%|██████████| 200/200 [00:00<00:00, 1446.24it/s]\n"
          ]
        },
        {
          "output_type": "stream",
          "name": "stdout",
          "text": [
            " and the standards of the state and the computer services and the computer services of the transportation of the first main state and the result of the original results and the results of a products an\n"
          ]
        },
        {
          "output_type": "stream",
          "name": "stderr",
          "text": [
            " 31%|███       | 15293/50000 [02:23<04:49, 119.88it/s]"
          ]
        },
        {
          "output_type": "stream",
          "name": "stdout",
          "text": [
            "Loss: 1.3928239417076111\n"
          ]
        },
        {
          "output_type": "stream",
          "name": "stderr",
          "text": [
            "\n",
            "  0%|          | 0/200 [00:00<?, ?it/s]\u001b[A\n",
            "100%|██████████| 200/200 [00:00<00:00, 1427.71it/s]\n",
            " 31%|███       | 15307/50000 [02:24<06:11, 93.27it/s] "
          ]
        },
        {
          "output_type": "stream",
          "name": "stdout",
          "text": [
            " international means the state of the highest became the state of the United States and the proposed in the 1990s the town is the operations and the ancestry of the second on the company and the servic\n"
          ]
        },
        {
          "output_type": "stream",
          "name": "stderr",
          "text": [
            " 31%|███       | 15340/50000 [02:24<04:48, 120.13it/s]"
          ]
        },
        {
          "output_type": "stream",
          "name": "stdout",
          "text": [
            "Loss: 1.3719022035598756\n"
          ]
        },
        {
          "output_type": "stream",
          "name": "stderr",
          "text": [
            "\n",
            "  0%|          | 0/200 [00:00<?, ?it/s]\u001b[A\n",
            "100%|██████████| 200/200 [00:00<00:00, 1368.01it/s]\n",
            " 31%|███       | 15354/50000 [02:24<06:13, 92.84it/s] "
          ]
        },
        {
          "output_type": "stream",
          "name": "stdout",
          "text": [
            " and a services and proposed to the company and his provide the states and the set of the product and relationships and provide the computer services that the construction of the second or position of \n"
          ]
        },
        {
          "output_type": "stream",
          "name": "stderr",
          "text": [
            " 31%|███       | 15386/50000 [02:24<04:53, 117.85it/s]"
          ]
        },
        {
          "output_type": "stream",
          "name": "stdout",
          "text": [
            "Loss: 1.362812340259552\n"
          ]
        },
        {
          "output_type": "stream",
          "name": "stderr",
          "text": [
            "\n",
            "  0%|          | 0/200 [00:00<?, ?it/s]\u001b[A\n",
            "100%|██████████| 200/200 [00:00<00:00, 1445.12it/s]\n",
            " 31%|███       | 15400/50000 [02:25<06:14, 92.43it/s] "
          ]
        },
        {
          "output_type": "stream",
          "name": "stdout",
          "text": [
            " and the set of the largest the recognized and and countries in the world, the second the problems of the companies and international system and the state of the proposed in 1998, the Cape Verde of the\n"
          ]
        },
        {
          "output_type": "stream",
          "name": "stderr",
          "text": [
            " 31%|███       | 15433/50000 [02:25<04:49, 119.24it/s]"
          ]
        },
        {
          "output_type": "stream",
          "name": "stdout",
          "text": [
            "Loss: 1.3757618975639343\n"
          ]
        },
        {
          "output_type": "stream",
          "name": "stderr",
          "text": [
            "\n",
            "  0%|          | 0/200 [00:00<?, ?it/s]\u001b[A\n",
            "100%|██████████| 200/200 [00:00<00:00, 1395.54it/s]\n",
            " 31%|███       | 15450/50000 [02:25<06:01, 95.48it/s] "
          ]
        },
        {
          "output_type": "stream",
          "name": "stdout",
          "text": [
            " and the second control of the trains of the largest production of the most services and the second construction is a set the result of the processing services are state and the process that the contro\n"
          ]
        },
        {
          "output_type": "stream",
          "name": "stderr",
          "text": [
            " 31%|███       | 15498/50000 [02:25<04:27, 129.15it/s]"
          ]
        },
        {
          "output_type": "stream",
          "name": "stdout",
          "text": [
            "Loss: 1.3752415776252747\n"
          ]
        },
        {
          "output_type": "stream",
          "name": "stderr",
          "text": [
            "\n",
            "  0%|          | 0/200 [00:00<?, ?it/s]\u001b[A\n",
            "100%|██████████| 200/200 [00:00<00:00, 1396.51it/s]\n"
          ]
        },
        {
          "output_type": "stream",
          "name": "stdout",
          "text": [
            " A and the decision of the proposal in the United States of the state in the 1990s and the state and the state of the United States of the Cape Verde was the expensive and many constitutional social ne\n"
          ]
        },
        {
          "output_type": "stream",
          "name": "stderr",
          "text": [
            " 31%|███       | 15545/50000 [02:26<04:43, 121.32it/s]"
          ]
        },
        {
          "output_type": "stream",
          "name": "stdout",
          "text": [
            "Loss: 1.3592776536941529\n"
          ]
        },
        {
          "output_type": "stream",
          "name": "stderr",
          "text": [
            "\n",
            "  0%|          | 0/200 [00:00<?, ?it/s]\u001b[A\n",
            "100%|██████████| 200/200 [00:00<00:00, 1468.18it/s]\n"
          ]
        },
        {
          "output_type": "stream",
          "name": "stdout",
          "text": [
            " and the connection of the result of the released to the article of the first control and referred to the state and state of the first to the company in the services of the organizations of the state a\n"
          ]
        },
        {
          "output_type": "stream",
          "name": "stderr",
          "text": [
            " 31%|███       | 15592/50000 [02:26<04:45, 120.55it/s]"
          ]
        },
        {
          "output_type": "stream",
          "name": "stdout",
          "text": [
            "Loss: 1.3683731341362\n"
          ]
        },
        {
          "output_type": "stream",
          "name": "stderr",
          "text": [
            "\n",
            "  0%|          | 0/200 [00:00<?, ?it/s]\u001b[A\n",
            "100%|██████████| 200/200 [00:00<00:00, 1387.31it/s]\n",
            " 31%|███       | 15606/50000 [02:26<06:10, 92.79it/s] "
          ]
        },
        {
          "output_type": "stream",
          "name": "stdout",
          "text": [
            " and a social networking state of the process of the completed to the same and the processes that a single the same end of the seat the development of the international continued the state and an accou\n"
          ]
        },
        {
          "output_type": "stream",
          "name": "stderr",
          "text": [
            " 31%|███▏      | 15639/50000 [02:27<04:49, 118.80it/s]"
          ]
        },
        {
          "output_type": "stream",
          "name": "stdout",
          "text": [
            "Loss: 1.3751711273193359\n"
          ]
        },
        {
          "output_type": "stream",
          "name": "stderr",
          "text": [
            "\n",
            "  0%|          | 0/200 [00:00<?, ?it/s]\u001b[A\n",
            "100%|██████████| 200/200 [00:00<00:00, 1457.31it/s]\n",
            " 31%|███▏      | 15653/50000 [02:27<06:06, 93.63it/s] "
          ]
        },
        {
          "output_type": "stream",
          "name": "stdout",
          "text": [
            " and the ancestry and the land the state and advanced to the state and the state and the state of the product of the trains are the process of the time and the second control of the state and the major\n"
          ]
        },
        {
          "output_type": "stream",
          "name": "stderr",
          "text": [
            " 31%|███▏      | 15685/50000 [02:27<04:50, 118.02it/s]"
          ]
        },
        {
          "output_type": "stream",
          "name": "stdout",
          "text": [
            "Loss: 1.372491750717163\n"
          ]
        },
        {
          "output_type": "stream",
          "name": "stderr",
          "text": [
            "\n",
            "  0%|          | 0/200 [00:00<?, ?it/s]\u001b[A\n",
            "100%|██████████| 200/200 [00:00<00:00, 1544.83it/s]\n",
            " 31%|███▏      | 15700/50000 [02:27<06:00, 95.15it/s] "
          ]
        },
        {
          "output_type": "stream",
          "name": "stdout",
          "text": [
            " and in the United States that the considered from the original company and state of the trains and the state of the southern the product of the product of the provided by the proposed as a set of ente\n"
          ]
        },
        {
          "output_type": "stream",
          "name": "stderr",
          "text": [
            " 31%|███▏      | 15747/50000 [02:28<04:29, 127.06it/s]"
          ]
        },
        {
          "output_type": "stream",
          "name": "stdout",
          "text": [
            "Loss: 1.3707730841636658\n"
          ]
        },
        {
          "output_type": "stream",
          "name": "stderr",
          "text": [
            "\n",
            "  0%|          | 0/200 [00:00<?, ?it/s]\u001b[A\n",
            "100%|██████████| 200/200 [00:00<00:00, 1452.38it/s]\n"
          ]
        },
        {
          "output_type": "stream",
          "name": "stdout",
          "text": [
            " and the end in the control of the control of the first to the state and the more than 200 kmh 100 mph 150 mph 100 mph 100 mph 120 mph. The common source in the United States State of South American ma\n"
          ]
        },
        {
          "output_type": "stream",
          "name": "stderr",
          "text": [
            " 32%|███▏      | 15794/50000 [02:28<04:41, 121.35it/s]"
          ]
        },
        {
          "output_type": "stream",
          "name": "stdout",
          "text": [
            "Loss: 1.3791326880455017\n"
          ]
        },
        {
          "output_type": "stream",
          "name": "stderr",
          "text": [
            "\n",
            "  0%|          | 0/200 [00:00<?, ?it/s]\u001b[A\n",
            "100%|██████████| 200/200 [00:00<00:00, 1495.46it/s]\n",
            " 32%|███▏      | 15808/50000 [02:28<06:00, 94.80it/s] "
          ]
        },
        {
          "output_type": "stream",
          "name": "stdout",
          "text": [
            " control of the original local standards in the set of the development in the state and the highest social networking and the seats of the end of the company of the set of the southern control in the p\n"
          ]
        },
        {
          "output_type": "stream",
          "name": "stderr",
          "text": [
            " 32%|███▏      | 15841/50000 [02:28<04:45, 119.77it/s]"
          ]
        },
        {
          "output_type": "stream",
          "name": "stdout",
          "text": [
            "Loss: 1.374748728275299\n"
          ]
        },
        {
          "output_type": "stream",
          "name": "stderr",
          "text": [
            "\n",
            "  0%|          | 0/200 [00:00<?, ?it/s]\u001b[A\n",
            "100%|██████████| 200/200 [00:00<00:00, 1150.22it/s]"
          ]
        },
        {
          "output_type": "stream",
          "name": "stdout",
          "text": [
            " and other standard and the state of the construction of the significant position and the state of the area to the original computer state of the proposed and being the development of the process the r\n"
          ]
        },
        {
          "output_type": "stream",
          "name": "stderr",
          "text": [
            "\n",
            " 32%|███▏      | 15885/50000 [02:29<05:12, 109.07it/s]"
          ]
        },
        {
          "output_type": "stream",
          "name": "stdout",
          "text": [
            "Loss: 1.3603726863861083\n"
          ]
        },
        {
          "output_type": "stream",
          "name": "stderr",
          "text": [
            "\n",
            "  0%|          | 0/200 [00:00<?, ?it/s]\u001b[A\n",
            "100%|██████████| 200/200 [00:00<00:00, 1154.75it/s]\n",
            " 32%|███▏      | 15900/50000 [02:29<06:48, 83.55it/s] "
          ]
        },
        {
          "output_type": "stream",
          "name": "stdout",
          "text": [
            " intersection of the media is the number of the control to the control is a many of the set of the source of the provide the relationships of the provided a state in the American Americans of the Cape \n"
          ]
        },
        {
          "output_type": "stream",
          "name": "stderr",
          "text": [
            " 32%|███▏      | 15945/50000 [02:30<04:57, 114.44it/s]"
          ]
        },
        {
          "output_type": "stream",
          "name": "stdout",
          "text": [
            "Loss: 1.3754482865333557\n"
          ]
        },
        {
          "output_type": "stream",
          "name": "stderr",
          "text": [
            "\n",
            "  0%|          | 0/200 [00:00<?, ?it/s]\u001b[A\n",
            "100%|██████████| 200/200 [00:00<00:00, 1115.30it/s]"
          ]
        },
        {
          "output_type": "stream",
          "name": "stdout",
          "text": [
            " and other process of the state and services and the content of the line of the state of the results of the computer and a techniques to the set of the analysis with the provides a significant state an\n"
          ]
        },
        {
          "output_type": "stream",
          "name": "stderr",
          "text": [
            "\n",
            " 32%|███▏      | 15989/50000 [02:30<05:19, 106.52it/s]"
          ]
        },
        {
          "output_type": "stream",
          "name": "stdout",
          "text": [
            "Loss: 1.3536631441116334\n"
          ]
        },
        {
          "output_type": "stream",
          "name": "stderr",
          "text": [
            "\n",
            "  0%|          | 0/200 [00:00<?, ?it/s]\u001b[A\n",
            "100%|██████████| 200/200 [00:00<00:00, 1011.79it/s]\n",
            " 32%|███▏      | 16017/50000 [02:30<06:22, 88.88it/s]"
          ]
        },
        {
          "output_type": "stream",
          "name": "stdout",
          "text": [
            " and the product design and the standard and the track of the state and state of the song the southern production of the content of the present of the common in the United States and the first large st\n"
          ]
        },
        {
          "output_type": "stream",
          "name": "stderr",
          "text": [
            " 32%|███▏      | 16045/50000 [02:31<05:13, 108.28it/s]"
          ]
        },
        {
          "output_type": "stream",
          "name": "stdout",
          "text": [
            "Loss: 1.374869682788849\n"
          ]
        },
        {
          "output_type": "stream",
          "name": "stderr",
          "text": [
            "\n",
            "  0%|          | 0/200 [00:00<?, ?it/s]\u001b[A\n",
            "100%|██████████| 200/200 [00:00<00:00, 1113.07it/s]"
          ]
        },
        {
          "output_type": "stream",
          "name": "stdout",
          "text": [
            " and companies are the services and computer services are not also processes of the state to be the completed to the problems of the community control of the traditional standard to computer of the ser\n"
          ]
        },
        {
          "output_type": "stream",
          "name": "stderr",
          "text": [
            "\n",
            " 32%|███▏      | 16089/50000 [02:31<05:27, 103.47it/s]"
          ]
        },
        {
          "output_type": "stream",
          "name": "stdout",
          "text": [
            "Loss: 1.3656133317947388\n"
          ]
        },
        {
          "output_type": "stream",
          "name": "stderr",
          "text": [
            "\n",
            "  0%|          | 0/200 [00:00<?, ?it/s]\u001b[A\n",
            "100%|██████████| 200/200 [00:00<00:00, 1526.96it/s]\n",
            " 32%|███▏      | 16102/50000 [02:31<06:45, 83.61it/s] "
          ]
        },
        {
          "output_type": "stream",
          "name": "stdout",
          "text": [
            " the same in the product the provide design for a second the company of the communication is a proposed that the research and a services and the students of the entered to the train the services and th\n"
          ]
        },
        {
          "output_type": "stream",
          "name": "stderr",
          "text": [
            " 32%|███▏      | 16135/50000 [02:32<05:02, 112.00it/s]"
          ]
        },
        {
          "output_type": "stream",
          "name": "stdout",
          "text": [
            "Loss: 1.3809734988212585\n"
          ]
        },
        {
          "output_type": "stream",
          "name": "stderr",
          "text": [
            "\n",
            "  0%|          | 0/200 [00:00<?, ?it/s]\u001b[A\n",
            "100%|██████████| 200/200 [00:00<00:00, 1432.36it/s]\n",
            " 32%|███▏      | 16150/50000 [02:32<06:14, 90.38it/s] "
          ]
        },
        {
          "output_type": "stream",
          "name": "stdout",
          "text": [
            " and the service of the most express the control of the control of the region and the state is a formal school and also and second the study and content of the first research such as the companies and \n"
          ]
        },
        {
          "output_type": "stream",
          "name": "stderr",
          "text": [
            " 32%|███▏      | 16199/50000 [02:32<04:26, 126.71it/s]"
          ]
        },
        {
          "output_type": "stream",
          "name": "stdout",
          "text": [
            "Loss: 1.3726396822929383\n"
          ]
        },
        {
          "output_type": "stream",
          "name": "stderr",
          "text": [
            "\n",
            "  0%|          | 0/200 [00:00<?, ?it/s]\u001b[A\n",
            "100%|██████████| 200/200 [00:00<00:00, 1450.31it/s]\n"
          ]
        },
        {
          "output_type": "stream",
          "name": "stdout",
          "text": [
            " and a state of the second and state are the companies of the group of the term the first the companies and the computer or computational standards and the state of the archipelago of the seat the area\n"
          ]
        },
        {
          "output_type": "stream",
          "name": "stderr",
          "text": [
            " 32%|███▏      | 16247/50000 [02:33<04:38, 121.07it/s]"
          ]
        },
        {
          "output_type": "stream",
          "name": "stdout",
          "text": [
            "Loss: 1.358525276184082\n"
          ]
        },
        {
          "output_type": "stream",
          "name": "stderr",
          "text": [
            "\n",
            "  0%|          | 0/200 [00:00<?, ?it/s]\u001b[A\n",
            "100%|██████████| 200/200 [00:00<00:00, 1472.97it/s]\n"
          ]
        },
        {
          "output_type": "stream",
          "name": "stdout",
          "text": [
            " and the international services of the response the early 1990s, such as a studies in the stations of the control of the constitutional services and the trains of the production to a second the problem\n"
          ]
        },
        {
          "output_type": "stream",
          "name": "stderr",
          "text": [
            " 33%|███▎      | 16293/50000 [02:33<04:41, 119.74it/s]"
          ]
        },
        {
          "output_type": "stream",
          "name": "stdout",
          "text": [
            "Loss: 1.3784469532966614\n"
          ]
        },
        {
          "output_type": "stream",
          "name": "stderr",
          "text": [
            "\n",
            "  0%|          | 0/200 [00:00<?, ?it/s]\u001b[A\n",
            "100%|██████████| 200/200 [00:00<00:00, 1502.79it/s]\n",
            " 33%|███▎      | 16307/50000 [02:33<05:58, 93.89it/s] "
          ]
        },
        {
          "output_type": "stream",
          "name": "stdout",
          "text": [
            " in 2015, and the active and individual control of former learning to account of the companies and community of the state and the archipelago is a second computer standard of the construction of the mo\n"
          ]
        },
        {
          "output_type": "stream",
          "name": "stderr",
          "text": [
            " 33%|███▎      | 16339/50000 [02:34<04:41, 119.61it/s]"
          ]
        },
        {
          "output_type": "stream",
          "name": "stdout",
          "text": [
            "Loss: 1.3701468443870544\n"
          ]
        },
        {
          "output_type": "stream",
          "name": "stderr",
          "text": [
            "\n",
            "  0%|          | 0/200 [00:00<?, ?it/s]\u001b[A\n",
            "100%|██████████| 200/200 [00:00<00:00, 1297.49it/s]\n",
            " 33%|███▎      | 16353/50000 [02:34<06:11, 90.56it/s] "
          ]
        },
        {
          "output_type": "stream",
          "name": "stdout",
          "text": [
            " control of a second state to the international passenger trains and the archipelago and methods of the country of the proposed and standard systems and the largest process of the trains to the company\n"
          ]
        },
        {
          "output_type": "stream",
          "name": "stderr",
          "text": [
            " 33%|███▎      | 16386/50000 [02:34<04:48, 116.60it/s]"
          ]
        },
        {
          "output_type": "stream",
          "name": "stdout",
          "text": [
            "Loss: 1.3803114986419678\n"
          ]
        },
        {
          "output_type": "stream",
          "name": "stderr",
          "text": [
            "\n",
            "  0%|          | 0/200 [00:00<?, ?it/s]\u001b[A\n",
            "100%|██████████| 200/200 [00:00<00:00, 1461.54it/s]\n",
            " 33%|███▎      | 16400/50000 [02:34<06:02, 92.73it/s] "
          ]
        },
        {
          "output_type": "stream",
          "name": "stdout",
          "text": [
            " and in the companies and the computer standard and the late 1900s and the continued to the provided the article of the position of the personal state of the considered the decision of the country of t\n"
          ]
        },
        {
          "output_type": "stream",
          "name": "stderr",
          "text": [
            " 33%|███▎      | 16448/50000 [02:35<04:25, 126.41it/s]"
          ]
        },
        {
          "output_type": "stream",
          "name": "stdout",
          "text": [
            "Loss: 1.3669022059440612\n"
          ]
        },
        {
          "output_type": "stream",
          "name": "stderr",
          "text": [
            "\n",
            "  0%|          | 0/200 [00:00<?, ?it/s]\u001b[A\n",
            "100%|██████████| 200/200 [00:00<00:00, 1385.99it/s]\n"
          ]
        },
        {
          "output_type": "stream",
          "name": "stdout",
          "text": [
            " in the United States and the state of the need to the responsible and the provide the program to the seat of the second international state of the state of the service of the subset the company of the\n"
          ]
        },
        {
          "output_type": "stream",
          "name": "stderr",
          "text": [
            " 33%|███▎      | 16495/50000 [02:35<04:41, 119.15it/s]"
          ]
        },
        {
          "output_type": "stream",
          "name": "stdout",
          "text": [
            "Loss: 1.362596435546875\n"
          ]
        },
        {
          "output_type": "stream",
          "name": "stderr",
          "text": [
            "\n",
            "  0%|          | 0/200 [00:00<?, ?it/s]\u001b[A\n",
            "100%|██████████| 200/200 [00:00<00:00, 1474.13it/s]\n",
            " 33%|███▎      | 16509/50000 [02:35<05:56, 93.89it/s] "
          ]
        },
        {
          "output_type": "stream",
          "name": "stdout",
          "text": [
            " and the archipelago in the second are the second standard of the professional and and services and the border state of the analysis to the country of the most services of the result of the first to th\n"
          ]
        },
        {
          "output_type": "stream",
          "name": "stderr",
          "text": [
            " 33%|███▎      | 16541/50000 [02:35<04:40, 119.48it/s]"
          ]
        },
        {
          "output_type": "stream",
          "name": "stdout",
          "text": [
            "Loss: 1.3488650608062744\n"
          ]
        },
        {
          "output_type": "stream",
          "name": "stderr",
          "text": [
            "\n",
            "  0%|          | 0/200 [00:00<?, ?it/s]\u001b[A\n",
            "100%|██████████| 200/200 [00:00<00:00, 1421.08it/s]\n",
            " 33%|███▎      | 16555/50000 [02:36<05:58, 93.18it/s] "
          ]
        },
        {
          "output_type": "stream",
          "name": "stdout",
          "text": [
            " the control of the state of the state in the 1990s, and the state of the United States of the organization of the production of the production of the United States and the world on the production of t\n"
          ]
        },
        {
          "output_type": "stream",
          "name": "stderr",
          "text": [
            " 33%|███▎      | 16587/50000 [02:36<04:42, 118.23it/s]"
          ]
        },
        {
          "output_type": "stream",
          "name": "stdout",
          "text": [
            "Loss: 1.3647326827049255\n"
          ]
        },
        {
          "output_type": "stream",
          "name": "stderr",
          "text": [
            "\n",
            "  0%|          | 0/200 [00:00<?, ?it/s]\u001b[A\n",
            "100%|██████████| 200/200 [00:00<00:00, 1397.86it/s]\n",
            " 33%|███▎      | 16601/50000 [02:36<06:06, 91.14it/s] "
          ]
        },
        {
          "output_type": "stream",
          "name": "stdout",
          "text": [
            " the company of the area of the companies and states and the production of the construction of the second lines and the original more standards and expansion of the company of the first to the product \n"
          ]
        },
        {
          "output_type": "stream",
          "name": "stderr",
          "text": [
            " 33%|███▎      | 16633/50000 [02:36<04:43, 117.61it/s]"
          ]
        },
        {
          "output_type": "stream",
          "name": "stdout",
          "text": [
            "Loss: 1.349042329788208\n"
          ]
        },
        {
          "output_type": "stream",
          "name": "stderr",
          "text": [
            "\n",
            "  0%|          | 0/200 [00:00<?, ?it/s]\u001b[A\n",
            "100%|██████████| 200/200 [00:00<00:00, 1463.95it/s]\n",
            " 33%|███▎      | 16650/50000 [02:37<05:49, 95.29it/s] "
          ]
        },
        {
          "output_type": "stream",
          "name": "stdout",
          "text": [
            " and the company of the trains and the explanation of the person and a particular since the second the product of the southern the most considered the archipelago in the product of the state of the Dan\n"
          ]
        },
        {
          "output_type": "stream",
          "name": "stderr",
          "text": [
            " 33%|███▎      | 16699/50000 [02:37<04:16, 130.00it/s]"
          ]
        },
        {
          "output_type": "stream",
          "name": "stdout",
          "text": [
            "Loss: 1.3761352968215943\n"
          ]
        },
        {
          "output_type": "stream",
          "name": "stderr",
          "text": [
            "\n",
            "  0%|          | 0/200 [00:00<?, ?it/s]\u001b[A\n",
            "100%|██████████| 200/200 [00:00<00:00, 1399.40it/s]\n"
          ]
        },
        {
          "output_type": "stream",
          "name": "stdout",
          "text": [
            " and the state of the former services and a process of the products of the same and many state and the process and the southern player and the concept of the main considered the control and design of t\n"
          ]
        },
        {
          "output_type": "stream",
          "name": "stderr",
          "text": [
            " 33%|███▎      | 16747/50000 [02:37<04:30, 122.77it/s]"
          ]
        },
        {
          "output_type": "stream",
          "name": "stdout",
          "text": [
            "Loss: 1.367720799446106\n"
          ]
        },
        {
          "output_type": "stream",
          "name": "stderr",
          "text": [
            "\n",
            "  0%|          | 0/200 [00:00<?, ?it/s]\u001b[A\n",
            "100%|██████████| 200/200 [00:00<00:00, 1557.05it/s]\n"
          ]
        },
        {
          "output_type": "stream",
          "name": "stdout",
          "text": [
            " and high set of population of the company of the response that the state and which the particular school of the German Commission of American Committee of Cape Verde is the substantial computer servic\n"
          ]
        },
        {
          "output_type": "stream",
          "name": "stderr",
          "text": [
            " 34%|███▎      | 16793/50000 [02:38<04:34, 120.96it/s]"
          ]
        },
        {
          "output_type": "stream",
          "name": "stdout",
          "text": [
            "Loss: 1.378464720249176\n"
          ]
        },
        {
          "output_type": "stream",
          "name": "stderr",
          "text": [
            "\n",
            "  0%|          | 0/200 [00:00<?, ?it/s]\u001b[A\n",
            "100%|██████████| 200/200 [00:00<00:00, 1492.80it/s]\n",
            " 34%|███▎      | 16807/50000 [02:38<05:54, 93.76it/s] "
          ]
        },
        {
          "output_type": "stream",
          "name": "stdout",
          "text": [
            " cells are a position of the computing in the United States and the states and political important the product of the set of the company of the international standard of the process process in the cont\n"
          ]
        },
        {
          "output_type": "stream",
          "name": "stderr",
          "text": [
            " 34%|███▎      | 16839/50000 [02:38<04:38, 119.00it/s]"
          ]
        },
        {
          "output_type": "stream",
          "name": "stdout",
          "text": [
            "Loss: 1.3778450798988342\n"
          ]
        },
        {
          "output_type": "stream",
          "name": "stderr",
          "text": [
            "\n",
            "  0%|          | 0/200 [00:00<?, ?it/s]\u001b[A\n",
            "100%|██████████| 200/200 [00:00<00:00, 1450.18it/s]\n",
            " 34%|███▎      | 16853/50000 [02:38<05:55, 93.37it/s] "
          ]
        },
        {
          "output_type": "stream",
          "name": "stdout",
          "text": [
            " early one of the state and provide a controlled to the produce the group of the particular response to the second or one of the proposed to the position is a state of the state of the company and an i\n"
          ]
        },
        {
          "output_type": "stream",
          "name": "stderr",
          "text": [
            " 34%|███▍      | 16885/50000 [02:39<04:37, 119.16it/s]"
          ]
        },
        {
          "output_type": "stream",
          "name": "stdout",
          "text": [
            "Loss: 1.3715948700904845\n"
          ]
        },
        {
          "output_type": "stream",
          "name": "stderr",
          "text": [
            "\n",
            "  0%|          | 0/200 [00:00<?, ?it/s]\u001b[A\n",
            "100%|██████████| 200/200 [00:00<00:00, 1412.98it/s]\n",
            " 34%|███▍      | 16900/50000 [02:39<05:55, 93.20it/s] "
          ]
        },
        {
          "output_type": "stream",
          "name": "stdout",
          "text": [
            " in a considered the state and computer and software recognized the problems in the United States and the mages of the early 2000 in the 1990s, the state of the profile and social networking and the st\n"
          ]
        },
        {
          "output_type": "stream",
          "name": "stderr",
          "text": [
            " 34%|███▍      | 16949/50000 [02:39<04:16, 128.64it/s]"
          ]
        },
        {
          "output_type": "stream",
          "name": "stdout",
          "text": [
            "Loss: 1.3697626996040344\n"
          ]
        },
        {
          "output_type": "stream",
          "name": "stderr",
          "text": [
            "\n",
            "  0%|          | 0/200 [00:00<?, ?it/s]\u001b[A\n",
            "100%|██████████| 200/200 [00:00<00:00, 1415.30it/s]\n"
          ]
        },
        {
          "output_type": "stream",
          "name": "stdout",
          "text": [
            " and the standard of the construction of the set of common are the computer significant control to problems of the state and construction in the United States and the time of the state was the line is \n"
          ]
        },
        {
          "output_type": "stream",
          "name": "stderr",
          "text": [
            " 34%|███▍      | 16996/50000 [02:40<04:32, 121.00it/s]"
          ]
        },
        {
          "output_type": "stream",
          "name": "stdout",
          "text": [
            "Loss: 1.360345618724823\n"
          ]
        },
        {
          "output_type": "stream",
          "name": "stderr",
          "text": [
            "\n",
            "  0%|          | 0/200 [00:00<?, ?it/s]\u001b[A\n",
            "100%|██████████| 200/200 [00:00<00:00, 1431.07it/s]\n"
          ]
        },
        {
          "output_type": "stream",
          "name": "stdout",
          "text": [
            " and the experience of the process of the development and an experience in the common in the United States and the company of the standards of the studies that it is a control to a set of the company i\n"
          ]
        },
        {
          "output_type": "stream",
          "name": "stderr",
          "text": [
            " 34%|███▍      | 17042/50000 [02:40<04:38, 118.51it/s]"
          ]
        },
        {
          "output_type": "stream",
          "name": "stdout",
          "text": [
            "Loss: 1.378119764328003\n"
          ]
        },
        {
          "output_type": "stream",
          "name": "stderr",
          "text": [
            "\n",
            "  0%|          | 0/200 [00:00<?, ?it/s]\u001b[A\n",
            "100%|██████████| 200/200 [00:00<00:00, 1474.70it/s]\n",
            " 34%|███▍      | 17056/50000 [02:40<05:53, 93.28it/s] "
          ]
        },
        {
          "output_type": "stream",
          "name": "stdout",
          "text": [
            " and the transport of the company state of the computer than the seats of the same concept of services of the second representation to the groups of the South American Americans of the specific and adv\n"
          ]
        },
        {
          "output_type": "stream",
          "name": "stderr",
          "text": [
            " 34%|███▍      | 17088/50000 [02:40<04:37, 118.78it/s]"
          ]
        },
        {
          "output_type": "stream",
          "name": "stdout",
          "text": [
            "Loss: 1.380276508331299\n"
          ]
        },
        {
          "output_type": "stream",
          "name": "stderr",
          "text": [
            "\n",
            "  0%|          | 0/200 [00:00<?, ?it/s]\u001b[A\n",
            "100%|██████████| 200/200 [00:00<00:00, 1476.39it/s]\n",
            " 34%|███▍      | 17102/50000 [02:41<05:50, 93.73it/s] "
          ]
        },
        {
          "output_type": "stream",
          "name": "stdout",
          "text": [
            " and the control to the computer standards and the process of the standard in the United States of the Community of the United States of the state in the American Americans of the Heart The European Am\n"
          ]
        },
        {
          "output_type": "stream",
          "name": "stderr",
          "text": [
            " 34%|███▍      | 17134/50000 [02:41<04:38, 117.99it/s]"
          ]
        },
        {
          "output_type": "stream",
          "name": "stdout",
          "text": [
            "Loss: 1.3711955952644348\n"
          ]
        },
        {
          "output_type": "stream",
          "name": "stderr",
          "text": [
            "\n",
            "  0%|          | 0/200 [00:00<?, ?it/s]\u001b[A\n",
            "100%|██████████| 200/200 [00:00<00:00, 1285.59it/s]\n",
            " 34%|███▍      | 17150/50000 [02:41<06:02, 90.64it/s] "
          ]
        },
        {
          "output_type": "stream",
          "name": "stdout",
          "text": [
            " international and the most performance of the common and the state of the original relationships of the state of the content of the provide the state and the content of the United States and an and th\n"
          ]
        },
        {
          "output_type": "stream",
          "name": "stderr",
          "text": [
            " 34%|███▍      | 17196/50000 [02:42<04:29, 121.58it/s]"
          ]
        },
        {
          "output_type": "stream",
          "name": "stdout",
          "text": [
            "Loss: 1.3576499509811402\n"
          ]
        },
        {
          "output_type": "stream",
          "name": "stderr",
          "text": [
            "\n",
            "  0%|          | 0/200 [00:00<?, ?it/s]\u001b[A\n",
            "100%|██████████| 200/200 [00:00<00:00, 1142.71it/s]"
          ]
        },
        {
          "output_type": "stream",
          "name": "stdout",
          "text": [
            " and the company in the United States and the significant research and does not activities and the first train that the community is a problems of the state of the state of the standards and only in th\n"
          ]
        },
        {
          "output_type": "stream",
          "name": "stderr",
          "text": [
            "\n",
            " 34%|███▍      | 17240/50000 [02:42<05:04, 107.56it/s]"
          ]
        },
        {
          "output_type": "stream",
          "name": "stdout",
          "text": [
            "Loss: 1.3759210181236268\n"
          ]
        },
        {
          "output_type": "stream",
          "name": "stderr",
          "text": [
            "\n",
            "  0%|          | 0/200 [00:00<?, ?it/s]\u001b[A\n",
            "100%|██████████| 200/200 [00:00<00:00, 1244.33it/s]\n",
            " 35%|███▍      | 17253/50000 [02:42<06:41, 81.60it/s] "
          ]
        },
        {
          "output_type": "stream",
          "name": "stdout",
          "text": [
            " and the organizations of the second services of the state and the system of the more than 1940s in the state in the United States and the control in the United States and the states and only the compa\n"
          ]
        },
        {
          "output_type": "stream",
          "name": "stderr",
          "text": [
            " 35%|███▍      | 17285/50000 [02:42<05:00, 108.86it/s]"
          ]
        },
        {
          "output_type": "stream",
          "name": "stdout",
          "text": [
            "Loss: 1.3628709959983825\n"
          ]
        },
        {
          "output_type": "stream",
          "name": "stderr",
          "text": [
            "\n",
            "  0%|          | 0/200 [00:00<?, ?it/s]\u001b[A\n",
            "100%|██████████| 200/200 [00:00<00:00, 1429.59it/s]\n",
            " 35%|███▍      | 17300/50000 [02:43<06:10, 88.15it/s] "
          ]
        },
        {
          "output_type": "stream",
          "name": "stdout",
          "text": [
            " the first the proposed in the second set of the process control of the second state of the original trains that a second are also in the basis of the services of the produce the state and a standard f\n"
          ]
        },
        {
          "output_type": "stream",
          "name": "stderr",
          "text": [
            " 35%|███▍      | 17343/50000 [02:43<04:49, 112.89it/s]"
          ]
        },
        {
          "output_type": "stream",
          "name": "stdout",
          "text": [
            "Loss: 1.3699594712257386\n"
          ]
        },
        {
          "output_type": "stream",
          "name": "stderr",
          "text": [
            "\n",
            "  0%|          | 0/200 [00:00<?, ?it/s]\u001b[A\n",
            "100%|██████████| 200/200 [00:00<00:00, 1244.84it/s]"
          ]
        },
        {
          "output_type": "stream",
          "name": "stdout",
          "text": [
            " The Republic of the 1990s, and the result to the southern cars of the area of the first many of the application and the state and state the substance in the control of the top speed of the state and t\n"
          ]
        },
        {
          "output_type": "stream",
          "name": "stderr",
          "text": [
            "\n",
            " 35%|███▍      | 17399/50000 [02:44<04:50, 112.07it/s]"
          ]
        },
        {
          "output_type": "stream",
          "name": "stdout",
          "text": [
            "Loss: 1.3888829636573792\n"
          ]
        },
        {
          "output_type": "stream",
          "name": "stderr",
          "text": [
            "\n",
            "  0%|          | 0/200 [00:00<?, ?it/s]\u001b[A\n",
            "100%|██████████| 200/200 [00:00<00:00, 1082.19it/s]\n"
          ]
        },
        {
          "output_type": "stream",
          "name": "stdout",
          "text": [
            " market that are also a standards and the process in the computer services and international service of the company in the state and the popular computer and control of a computer state and the line to\n"
          ]
        },
        {
          "output_type": "stream",
          "name": "stderr",
          "text": [
            " 35%|███▍      | 17443/50000 [02:44<05:05, 106.50it/s]"
          ]
        },
        {
          "output_type": "stream",
          "name": "stdout",
          "text": [
            "Loss: 1.3715063333511353\n"
          ]
        },
        {
          "output_type": "stream",
          "name": "stderr",
          "text": [
            "\n",
            "  0%|          | 0/200 [00:00<?, ?it/s]\u001b[A\n",
            "100%|██████████| 200/200 [00:00<00:00, 1486.43it/s]\n",
            " 35%|███▍      | 17456/50000 [02:44<06:17, 86.24it/s] "
          ]
        },
        {
          "output_type": "stream",
          "name": "stdout",
          "text": [
            " and a production of the completed the participating to the Cape Verde of the United States of the second structure of the largest services of the largest the process the southern standard and in the c\n"
          ]
        },
        {
          "output_type": "stream",
          "name": "stderr",
          "text": [
            " 35%|███▍      | 17489/50000 [02:45<04:41, 115.40it/s]"
          ]
        },
        {
          "output_type": "stream",
          "name": "stdout",
          "text": [
            "Loss: 1.3806294584274292\n"
          ]
        },
        {
          "output_type": "stream",
          "name": "stderr",
          "text": [
            "\n",
            "  0%|          | 0/200 [00:00<?, ?it/s]\u001b[A\n",
            "100%|██████████| 200/200 [00:00<00:00, 1499.81it/s]\n",
            " 35%|███▌      | 17503/50000 [02:45<05:51, 92.53it/s] "
          ]
        },
        {
          "output_type": "stream",
          "name": "stdout",
          "text": [
            " and the result of the services on the company of the provide the production of the products in the state and the state of the Cape Verde was carried a service of the set of the state of the company in\n"
          ]
        },
        {
          "output_type": "stream",
          "name": "stderr",
          "text": [
            " 35%|███▌      | 17535/50000 [02:45<04:35, 117.93it/s]"
          ]
        },
        {
          "output_type": "stream",
          "name": "stdout",
          "text": [
            "Loss: 1.3673881006240844\n"
          ]
        },
        {
          "output_type": "stream",
          "name": "stderr",
          "text": [
            "\n",
            "  0%|          | 0/200 [00:00<?, ?it/s]\u001b[A\n",
            "100%|██████████| 200/200 [00:00<00:00, 1468.72it/s]\n",
            " 35%|███▌      | 17550/50000 [02:45<05:47, 93.50it/s] "
          ]
        },
        {
          "output_type": "stream",
          "name": "stdout",
          "text": [
            " manuells. The first particular with the result of the state and the new state and services, and the control of the state of the Cape Verde is the state of the control of a particular process of the st\n"
          ]
        },
        {
          "output_type": "stream",
          "name": "stderr",
          "text": [
            " 35%|███▌      | 17599/50000 [02:46<04:10, 129.20it/s]"
          ]
        },
        {
          "output_type": "stream",
          "name": "stdout",
          "text": [
            "Loss: 1.3579102492332458\n"
          ]
        },
        {
          "output_type": "stream",
          "name": "stderr",
          "text": [
            "\n",
            "  0%|          | 0/200 [00:00<?, ?it/s]\u001b[A\n",
            "100%|██████████| 200/200 [00:00<00:00, 1495.70it/s]\n"
          ]
        },
        {
          "output_type": "stream",
          "name": "stdout",
          "text": [
            " and the company the result of the control to the transport of the New York of the Lords of Commons of the Cape Verdean and the Lankan in the other possible to the set of the company and a common and t\n"
          ]
        },
        {
          "output_type": "stream",
          "name": "stderr",
          "text": [
            " 35%|███▌      | 17647/50000 [02:46<04:21, 123.64it/s]"
          ]
        },
        {
          "output_type": "stream",
          "name": "stdout",
          "text": [
            "Loss: 1.3638041973114015\n"
          ]
        },
        {
          "output_type": "stream",
          "name": "stderr",
          "text": [
            "\n",
            "  0%|          | 0/200 [00:00<?, ?it/s]\u001b[A\n",
            "100%|██████████| 200/200 [00:00<00:00, 1422.63it/s]\n"
          ]
        },
        {
          "output_type": "stream",
          "name": "stdout",
          "text": [
            " control of the state of the second the standards and the proposed the same in the problems and a security of the seat in 1997 and the control of the first the concept of the state of the state in the \n"
          ]
        },
        {
          "output_type": "stream",
          "name": "stderr",
          "text": [
            " 35%|███▌      | 17694/50000 [02:46<04:27, 120.76it/s]"
          ]
        },
        {
          "output_type": "stream",
          "name": "stdout",
          "text": [
            "Loss: 1.3587313199043274\n"
          ]
        },
        {
          "output_type": "stream",
          "name": "stderr",
          "text": [
            "\n",
            "  0%|          | 0/200 [00:00<?, ?it/s]\u001b[A\n",
            "100%|██████████| 200/200 [00:00<00:00, 1487.92it/s]\n",
            " 35%|███▌      | 17708/50000 [02:47<05:39, 95.26it/s] "
          ]
        },
        {
          "output_type": "stream",
          "name": "stdout",
          "text": [
            " and the study and the communities of the product can be a state in the basic service is the southern state of the product and control to be a state of the services and the state of the company and the\n"
          ]
        },
        {
          "output_type": "stream",
          "name": "stderr",
          "text": [
            " 35%|███▌      | 17740/50000 [02:47<04:28, 120.16it/s]"
          ]
        },
        {
          "output_type": "stream",
          "name": "stdout",
          "text": [
            "Loss: 1.3635126447677612\n"
          ]
        },
        {
          "output_type": "stream",
          "name": "stderr",
          "text": [
            "\n",
            "  0%|          | 0/200 [00:00<?, ?it/s]\u001b[A\n",
            "100%|██████████| 200/200 [00:00<00:00, 1391.56it/s]\n",
            " 36%|███▌      | 17754/50000 [02:47<05:48, 92.51it/s] "
          ]
        },
        {
          "output_type": "stream",
          "name": "stdout",
          "text": [
            " in the street service of the service of the Cape Verde was a company computer specific mathematics and considered the computer and records to the company services are international speeds of states an\n"
          ]
        },
        {
          "output_type": "stream",
          "name": "stderr",
          "text": [
            " 36%|███▌      | 17786/50000 [02:47<04:32, 118.23it/s]"
          ]
        },
        {
          "output_type": "stream",
          "name": "stdout",
          "text": [
            "Loss: 1.3743901395797729\n"
          ]
        },
        {
          "output_type": "stream",
          "name": "stderr",
          "text": [
            "\n",
            "  0%|          | 0/200 [00:00<?, ?it/s]\u001b[A\n",
            "100%|██████████| 200/200 [00:00<00:00, 1484.89it/s]\n",
            " 36%|███▌      | 17800/50000 [02:48<05:44, 93.57it/s] "
          ]
        },
        {
          "output_type": "stream",
          "name": "stdout",
          "text": [
            " and the term in the majority of the process the control of the first possible that the line to the service of the company and both the process as a state of the top speed of the result of the state of\n"
          ]
        },
        {
          "output_type": "stream",
          "name": "stderr",
          "text": [
            " 36%|███▌      | 17849/50000 [02:48<04:07, 129.68it/s]"
          ]
        },
        {
          "output_type": "stream",
          "name": "stdout",
          "text": [
            "Loss: 1.377066879272461\n"
          ]
        },
        {
          "output_type": "stream",
          "name": "stderr",
          "text": [
            "\n",
            "  0%|          | 0/200 [00:00<?, ?it/s]\u001b[A\n",
            "100%|██████████| 200/200 [00:00<00:00, 1371.69it/s]\n"
          ]
        },
        {
          "output_type": "stream",
          "name": "stdout",
          "text": [
            " and international trains of the archipelago are also be individual and methods and the proposed to the second the long the state of the first the city of the concept of the state and an activities and\n"
          ]
        },
        {
          "output_type": "stream",
          "name": "stderr",
          "text": [
            " 36%|███▌      | 17896/50000 [02:48<04:25, 120.95it/s]"
          ]
        },
        {
          "output_type": "stream",
          "name": "stdout",
          "text": [
            "Loss: 1.3747984194755554\n"
          ]
        },
        {
          "output_type": "stream",
          "name": "stderr",
          "text": [
            "\n",
            "  0%|          | 0/200 [00:00<?, ?it/s]\u001b[A\n",
            "100%|██████████| 200/200 [00:00<00:00, 1495.07it/s]\n"
          ]
        },
        {
          "output_type": "stream",
          "name": "stdout",
          "text": [
            " and standard and the company and computer trains and the promoted the international and the seats of the country of the United States of the train of the transportation of the first control of service\n"
          ]
        },
        {
          "output_type": "stream",
          "name": "stderr",
          "text": [
            " 36%|███▌      | 17943/50000 [02:49<04:25, 120.61it/s]"
          ]
        },
        {
          "output_type": "stream",
          "name": "stdout",
          "text": [
            "Loss: 1.3730370211601257\n"
          ]
        },
        {
          "output_type": "stream",
          "name": "stderr",
          "text": [
            "\n",
            "  0%|          | 0/200 [00:00<?, ?it/s]\u001b[A\n",
            "100%|██████████| 200/200 [00:00<00:00, 1540.74it/s]\n",
            " 36%|███▌      | 17957/50000 [02:49<05:38, 94.60it/s] "
          ]
        },
        {
          "output_type": "stream",
          "name": "stdout",
          "text": [
            " which also interaction of the community of the completed the standard in the Cape Verdean and results of the state of the production to international standards became the country of the state of the s\n"
          ]
        },
        {
          "output_type": "stream",
          "name": "stderr",
          "text": [
            " 36%|███▌      | 17989/50000 [02:49<04:29, 118.90it/s]"
          ]
        },
        {
          "output_type": "stream",
          "name": "stdout",
          "text": [
            "Loss: 1.3582195830345154\n"
          ]
        },
        {
          "output_type": "stream",
          "name": "stderr",
          "text": [
            "\n",
            "  0%|          | 0/200 [00:00<?, ?it/s]\u001b[A\n",
            "100%|██████████| 200/200 [00:00<00:00, 1492.27it/s]\n",
            " 36%|███▌      | 18003/50000 [02:49<05:39, 94.34it/s] "
          ]
        },
        {
          "output_type": "stream",
          "name": "stdout",
          "text": [
            " and the first state and the seats of the absolute and product in the term and proposed to the significant country of the company and the state of the transportation of the process of the age of the Un\n"
          ]
        },
        {
          "output_type": "stream",
          "name": "stderr",
          "text": [
            " 36%|███▌      | 18035/50000 [02:50<04:26, 119.76it/s]"
          ]
        },
        {
          "output_type": "stream",
          "name": "stdout",
          "text": [
            "Loss: 1.36582204580307\n"
          ]
        },
        {
          "output_type": "stream",
          "name": "stderr",
          "text": [
            "\n",
            "  0%|          | 0/200 [00:00<?, ?it/s]\u001b[A\n",
            "100%|██████████| 200/200 [00:00<00:00, 1529.31it/s]\n",
            " 36%|███▌      | 18050/50000 [02:50<05:33, 95.95it/s] "
          ]
        },
        {
          "output_type": "stream",
          "name": "stdout",
          "text": [
            " international standards from the set of the control of the state is a state of the same many and the control to the state of the southern company of the similar to the control of an international line\n"
          ]
        },
        {
          "output_type": "stream",
          "name": "stderr",
          "text": [
            " 36%|███▌      | 18099/50000 [02:50<04:04, 130.32it/s]"
          ]
        },
        {
          "output_type": "stream",
          "name": "stdout",
          "text": [
            "Loss: 1.3656683492660522\n"
          ]
        },
        {
          "output_type": "stream",
          "name": "stderr",
          "text": [
            "\n",
            "  0%|          | 0/200 [00:00<?, ?it/s]\u001b[A\n",
            "100%|██████████| 200/200 [00:00<00:00, 1395.78it/s]\n"
          ]
        },
        {
          "output_type": "stream",
          "name": "stdout",
          "text": [
            " and the seats of the computer studies of the state of the state of the Cape Verde and the production of the most services of the colony and the companies and considered the state of the state of the s\n"
          ]
        },
        {
          "output_type": "stream",
          "name": "stderr",
          "text": [
            " 36%|███▋      | 18146/50000 [02:51<04:20, 122.21it/s]"
          ]
        },
        {
          "output_type": "stream",
          "name": "stdout",
          "text": [
            "Loss: 1.369732336997986\n"
          ]
        },
        {
          "output_type": "stream",
          "name": "stderr",
          "text": [
            "\n",
            "  0%|          | 0/200 [00:00<?, ?it/s]\u001b[A\n",
            "100%|██████████| 200/200 [00:00<00:00, 1361.11it/s]\n"
          ]
        },
        {
          "output_type": "stream",
          "name": "stdout",
          "text": [
            " and a second and the problem and a states the product of the computer state and a community in the United States and the computer standards and the largest formal control of the state of the standard \n"
          ]
        },
        {
          "output_type": "stream",
          "name": "stderr",
          "text": [
            " 36%|███▋      | 18192/50000 [02:51<04:29, 117.82it/s]"
          ]
        },
        {
          "output_type": "stream",
          "name": "stdout",
          "text": [
            "Loss: 1.371012487411499\n"
          ]
        },
        {
          "output_type": "stream",
          "name": "stderr",
          "text": [
            "\n",
            "  0%|          | 0/200 [00:00<?, ?it/s]\u001b[A\n",
            "100%|██████████| 200/200 [00:00<00:00, 1388.89it/s]\n",
            " 36%|███▋      | 18206/50000 [02:51<05:48, 91.16it/s] "
          ]
        },
        {
          "output_type": "stream",
          "name": "stdout",
          "text": [
            " and the care to the community of the state of the Buddhist service to the real number of the state and the company and the archipelago and social networking services and in the company and the states \n"
          ]
        },
        {
          "output_type": "stream",
          "name": "stderr",
          "text": [
            " 36%|███▋      | 18239/50000 [02:51<04:29, 118.04it/s]"
          ]
        },
        {
          "output_type": "stream",
          "name": "stdout",
          "text": [
            "Loss: 1.3635138726234437\n"
          ]
        },
        {
          "output_type": "stream",
          "name": "stderr",
          "text": [
            "\n",
            "  0%|          | 0/200 [00:00<?, ?it/s]\u001b[A\n",
            "100%|██████████| 200/200 [00:00<00:00, 1523.42it/s]\n",
            " 37%|███▋      | 18253/50000 [02:52<05:36, 94.37it/s] "
          ]
        },
        {
          "output_type": "stream",
          "name": "stdout",
          "text": [
            " the state and the set the control and protection to the services that the state of the production of the company of the state of the United States and the end of the community of the first the propose\n"
          ]
        },
        {
          "output_type": "stream",
          "name": "stderr",
          "text": [
            " 37%|███▋      | 18287/50000 [02:52<04:21, 121.14it/s]"
          ]
        },
        {
          "output_type": "stream",
          "name": "stdout",
          "text": [
            "Loss: 1.3598076677322388\n"
          ]
        },
        {
          "output_type": "stream",
          "name": "stderr",
          "text": [
            "\n",
            "  0%|          | 0/200 [00:00<?, ?it/s]\u001b[A\n",
            "100%|██████████| 200/200 [00:00<00:00, 1564.61it/s]\n",
            " 37%|███▋      | 18301/50000 [02:52<05:29, 96.14it/s] "
          ]
        },
        {
          "output_type": "stream",
          "name": "stdout",
          "text": [
            " and proposed to the Greek state that was a state of the services are not the process and many of the state of the person and the company of the one of the company of the the standards and the company \n"
          ]
        },
        {
          "output_type": "stream",
          "name": "stderr",
          "text": [
            " 37%|███▋      | 18334/50000 [02:52<04:21, 121.15it/s]"
          ]
        },
        {
          "output_type": "stream",
          "name": "stdout",
          "text": [
            "Loss: 1.3601984000205993\n"
          ]
        },
        {
          "output_type": "stream",
          "name": "stderr",
          "text": [
            "\n",
            "  0%|          | 0/200 [00:00<?, ?it/s]\u001b[A\n",
            "100%|██████████| 200/200 [00:00<00:00, 1445.81it/s]\n",
            " 37%|███▋      | 18350/50000 [02:53<05:29, 96.15it/s] "
          ]
        },
        {
          "output_type": "stream",
          "name": "stdout",
          "text": [
            " in the largest and computer trains of the top speed of the company of the design and being the designed that the archipelago and the result of the set of the design of the United States and the Santa \n"
          ]
        },
        {
          "output_type": "stream",
          "name": "stderr",
          "text": [
            " 37%|███▋      | 18384/50000 [02:53<04:19, 121.82it/s]"
          ]
        },
        {
          "output_type": "stream",
          "name": "stdout",
          "text": [
            "Loss: 1.3764233899116516\n"
          ]
        },
        {
          "output_type": "stream",
          "name": "stderr",
          "text": [
            "\n",
            "  0%|          | 0/200 [00:00<?, ?it/s]\u001b[A\n",
            "100%|██████████| 200/200 [00:00<00:00, 1384.66it/s]\n",
            " 37%|███▋      | 18400/50000 [02:53<05:29, 95.94it/s] "
          ]
        },
        {
          "output_type": "stream",
          "name": "stdout",
          "text": [
            " the most services and the first the professional in the United States and the control of the state to research and the resources and a major state of the state of the state and state and state of the \n"
          ]
        },
        {
          "output_type": "stream",
          "name": "stderr",
          "text": [
            " 37%|███▋      | 18434/50000 [02:53<04:20, 121.23it/s]"
          ]
        },
        {
          "output_type": "stream",
          "name": "stdout",
          "text": [
            "Loss: 1.3666680884361266\n"
          ]
        },
        {
          "output_type": "stream",
          "name": "stderr",
          "text": [
            "\n",
            "  0%|          | 0/200 [00:00<?, ?it/s]\u001b[A\n",
            "100%|██████████| 200/200 [00:00<00:00, 1533.65it/s]\n",
            " 37%|███▋      | 18450/50000 [02:54<05:23, 97.66it/s] "
          ]
        },
        {
          "output_type": "stream",
          "name": "stdout",
          "text": [
            " and the provide a designed to the state and sacription of the term represented by the state of the original result to the results that the largest state of the seat in the provided that the first the \n"
          ]
        },
        {
          "output_type": "stream",
          "name": "stderr",
          "text": [
            " 37%|███▋      | 18498/50000 [02:54<04:01, 130.28it/s]"
          ]
        },
        {
          "output_type": "stream",
          "name": "stdout",
          "text": [
            "Loss: 1.3648148155212403\n"
          ]
        },
        {
          "output_type": "stream",
          "name": "stderr",
          "text": [
            "\n",
            "  0%|          | 0/200 [00:00<?, ?it/s]\u001b[A\n",
            "100%|██████████| 200/200 [00:00<00:00, 1067.63it/s]"
          ]
        },
        {
          "output_type": "stream",
          "name": "stdout",
          "text": [
            " control of the standard to the largest set of the state and the state of the company and the state of the state of the state to the country of the most and and service of the technical system and the \n"
          ]
        },
        {
          "output_type": "stream",
          "name": "stderr",
          "text": [
            "\n",
            " 37%|███▋      | 18542/50000 [02:54<04:50, 108.30it/s]"
          ]
        },
        {
          "output_type": "stream",
          "name": "stdout",
          "text": [
            "Loss: 1.373079788684845\n"
          ]
        },
        {
          "output_type": "stream",
          "name": "stderr",
          "text": [
            "\n",
            "  0%|          | 0/200 [00:00<?, ?it/s]\u001b[A\n",
            "100%|██████████| 200/200 [00:00<00:00, 1173.57it/s]"
          ]
        },
        {
          "output_type": "stream",
          "name": "stdout",
          "text": [
            " and the state of the common the control of the defined to the process of the state is a protection of the many of the world services of the construction of the set of an end of the provide and a contr\n"
          ]
        },
        {
          "output_type": "stream",
          "name": "stderr",
          "text": [
            "\n",
            " 37%|███▋      | 18587/50000 [02:55<04:54, 106.83it/s]"
          ]
        },
        {
          "output_type": "stream",
          "name": "stdout",
          "text": [
            "Loss: 1.3675181651115418\n"
          ]
        },
        {
          "output_type": "stream",
          "name": "stderr",
          "text": [
            "\n",
            "  0%|          | 0/200 [00:00<?, ?it/s]\u001b[A\n",
            "100%|██████████| 200/200 [00:00<00:00, 1112.43it/s]\n",
            " 37%|███▋      | 18600/50000 [02:55<06:38, 78.85it/s] "
          ]
        },
        {
          "output_type": "stream",
          "name": "stdout",
          "text": [
            " and other control of the state of the born of the communities of the states that is a most areas of the manager and the same and the state of the state in the services of the international state of th\n"
          ]
        },
        {
          "output_type": "stream",
          "name": "stderr",
          "text": [
            " 37%|███▋      | 18645/50000 [02:55<04:38, 112.47it/s]"
          ]
        },
        {
          "output_type": "stream",
          "name": "stdout",
          "text": [
            "Loss: 1.3767642664909363\n"
          ]
        },
        {
          "output_type": "stream",
          "name": "stderr",
          "text": [
            "\n",
            "  0%|          | 0/200 [00:00<?, ?it/s]\u001b[A\n",
            " 42%|████▎     | 85/200 [00:00<00:00, 830.27it/s]\u001b[A\n",
            "100%|██████████| 200/200 [00:00<00:00, 929.89it/s]\n",
            " 37%|███▋      | 18673/50000 [02:56<05:53, 88.52it/s]"
          ]
        },
        {
          "output_type": "stream",
          "name": "stdout",
          "text": [
            " Cape Verde is the same the computer service of the South Americans and the company and was also content of the state of the largest second the state and the traditional state of the provides the compu\n"
          ]
        },
        {
          "output_type": "stream",
          "name": "stderr",
          "text": [
            "\r 37%|███▋      | 18686/50000 [02:56<05:24, 96.63it/s]"
          ]
        },
        {
          "output_type": "stream",
          "name": "stdout",
          "text": [
            "Loss: 1.359454004764557\n"
          ]
        },
        {
          "output_type": "stream",
          "name": "stderr",
          "text": [
            "\n",
            "  0%|          | 0/200 [00:00<?, ?it/s]\u001b[A\n",
            "100%|██████████| 200/200 [00:00<00:00, 1090.55it/s]\n",
            " 37%|███▋      | 18700/50000 [02:56<07:05, 73.59it/s]"
          ]
        },
        {
          "output_type": "stream",
          "name": "stdout",
          "text": [
            " was the constitutional companies are the control of the companies and state to the southern community and the design and the completed the biological problems and the transportation of the programmer \n"
          ]
        },
        {
          "output_type": "stream",
          "name": "stderr",
          "text": [
            " 37%|███▋      | 18745/50000 [02:57<04:45, 109.29it/s]"
          ]
        },
        {
          "output_type": "stream",
          "name": "stdout",
          "text": [
            "Loss: 1.3785009050369263\n"
          ]
        },
        {
          "output_type": "stream",
          "name": "stderr",
          "text": [
            "\n",
            "  0%|          | 0/200 [00:00<?, ?it/s]\u001b[A\n",
            "100%|██████████| 200/200 [00:00<00:00, 1493.49it/s]\n",
            " 38%|███▊      | 18758/50000 [02:57<05:56, 87.65it/s] "
          ]
        },
        {
          "output_type": "stream",
          "name": "stdout",
          "text": [
            " in 1999, which is considered to the process of the country of the American and the European and Santa Forustance and the Santa Station and Technical Commission and the California and American American\n"
          ]
        },
        {
          "output_type": "stream",
          "name": "stderr",
          "text": [
            " 38%|███▊      | 18790/50000 [02:57<04:33, 114.28it/s]"
          ]
        },
        {
          "output_type": "stream",
          "name": "stdout",
          "text": [
            "Loss: 1.360902452468872\n"
          ]
        },
        {
          "output_type": "stream",
          "name": "stderr",
          "text": [
            "\n",
            "  0%|          | 0/200 [00:00<?, ?it/s]\u001b[A\n",
            "100%|██████████| 200/200 [00:00<00:00, 1536.86it/s]\n",
            " 38%|███▊      | 18804/50000 [02:57<05:40, 91.75it/s] "
          ]
        },
        {
          "output_type": "stream",
          "name": "stdout",
          "text": [
            " and a control of a second and and the company the community of the United States and the standards and in the original group of the temple of the state of the provides a group of the companies and the\n"
          ]
        },
        {
          "output_type": "stream",
          "name": "stderr",
          "text": [
            " 38%|███▊      | 18836/50000 [02:57<04:24, 117.67it/s]"
          ]
        },
        {
          "output_type": "stream",
          "name": "stdout",
          "text": [
            "Loss: 1.3729670023918152\n"
          ]
        },
        {
          "output_type": "stream",
          "name": "stderr",
          "text": [
            "\n",
            "  0%|          | 0/200 [00:00<?, ?it/s]\u001b[A\n",
            "100%|██████████| 200/200 [00:00<00:00, 1391.05it/s]\n",
            " 38%|███▊      | 18850/50000 [02:58<05:43, 90.73it/s] "
          ]
        },
        {
          "output_type": "stream",
          "name": "stdout",
          "text": [
            " and the major trains are also be a particular service of the production of the state of the United States of the traditional most and and international performance in the United States and the actions\n"
          ]
        },
        {
          "output_type": "stream",
          "name": "stderr",
          "text": [
            " 38%|███▊      | 18898/50000 [02:58<04:07, 125.68it/s]"
          ]
        },
        {
          "output_type": "stream",
          "name": "stdout",
          "text": [
            "Loss: 1.3709282612800597\n"
          ]
        },
        {
          "output_type": "stream",
          "name": "stderr",
          "text": [
            "\n",
            "  0%|          | 0/200 [00:00<?, ?it/s]\u001b[A\n",
            "100%|██████████| 200/200 [00:00<00:00, 1488.14it/s]\n"
          ]
        },
        {
          "output_type": "stream",
          "name": "stdout",
          "text": [
            " and the communication of the communication of the result to the world and a significant companies are had been the standard and social networking produced in the particular and computer standard descr\n"
          ]
        },
        {
          "output_type": "stream",
          "name": "stderr",
          "text": [
            " 38%|███▊      | 18946/50000 [02:58<04:12, 123.20it/s]"
          ]
        },
        {
          "output_type": "stream",
          "name": "stdout",
          "text": [
            "Loss: 1.366114661693573\n"
          ]
        },
        {
          "output_type": "stream",
          "name": "stderr",
          "text": [
            "\n",
            "  0%|          | 0/200 [00:00<?, ?it/s]\u001b[A\n",
            "100%|██████████| 200/200 [00:00<00:00, 1314.86it/s]\n"
          ]
        },
        {
          "output_type": "stream",
          "name": "stdout",
          "text": [
            " the company and the services of the process of the process between the common and line of the first formal the production of the control of a security of the trains. The common protection of the first\n"
          ]
        },
        {
          "output_type": "stream",
          "name": "stderr",
          "text": [
            " 38%|███▊      | 18993/50000 [02:59<04:20, 119.00it/s]"
          ]
        },
        {
          "output_type": "stream",
          "name": "stdout",
          "text": [
            "Loss: 1.3673283243179322\n"
          ]
        },
        {
          "output_type": "stream",
          "name": "stderr",
          "text": [
            "\n",
            "  0%|          | 0/200 [00:00<?, ?it/s]\u001b[A\n",
            "100%|██████████| 200/200 [00:00<00:00, 1193.09it/s]"
          ]
        },
        {
          "output_type": "stream",
          "name": "stdout",
          "text": [
            " and the company and an angles and computer standard of the second and service of the service to the archipelago of the major forms of the control to the service of the particular standard production o\n"
          ]
        },
        {
          "output_type": "stream",
          "name": "stderr",
          "text": [
            "\n",
            " 38%|███▊      | 19039/50000 [02:59<04:30, 114.51it/s]"
          ]
        },
        {
          "output_type": "stream",
          "name": "stdout",
          "text": [
            "Loss: 1.3650186157226563\n"
          ]
        },
        {
          "output_type": "stream",
          "name": "stderr",
          "text": [
            "\n",
            "  0%|          | 0/200 [00:00<?, ?it/s]\u001b[A\n",
            "100%|██████████| 200/200 [00:00<00:00, 1470.30it/s]\n",
            " 38%|███▊      | 19053/50000 [03:00<05:37, 91.82it/s] "
          ]
        },
        {
          "output_type": "stream",
          "name": "stdout",
          "text": [
            " the product to the products and the particularly to a state and the process and experience and the state of the standards and express the same and social networking state of the present that is a comp\n"
          ]
        },
        {
          "output_type": "stream",
          "name": "stderr",
          "text": [
            " 38%|███▊      | 19085/50000 [03:00<04:24, 116.88it/s]"
          ]
        },
        {
          "output_type": "stream",
          "name": "stdout",
          "text": [
            "Loss: 1.360801546573639\n"
          ]
        },
        {
          "output_type": "stream",
          "name": "stderr",
          "text": [
            "\n",
            "  0%|          | 0/200 [00:00<?, ?it/s]\u001b[A\n",
            "100%|██████████| 200/200 [00:00<00:00, 1293.84it/s]\n",
            " 38%|███▊      | 19100/50000 [03:00<05:42, 90.26it/s] "
          ]
        },
        {
          "output_type": "stream",
          "name": "stdout",
          "text": [
            " and control of the company and activities and process of the state of the term in the proposed that is a companies and a form in the standards with the control of the first members of the model to a p\n"
          ]
        },
        {
          "output_type": "stream",
          "name": "stderr",
          "text": [
            " 38%|███▊      | 19148/50000 [03:00<04:03, 126.69it/s]"
          ]
        },
        {
          "output_type": "stream",
          "name": "stdout",
          "text": [
            "Loss: 1.3804576301574707\n"
          ]
        },
        {
          "output_type": "stream",
          "name": "stderr",
          "text": [
            "\n",
            "  0%|          | 0/200 [00:00<?, ?it/s]\u001b[A\n",
            "100%|██████████| 200/200 [00:00<00:00, 1443.35it/s]\n"
          ]
        },
        {
          "output_type": "stream",
          "name": "stdout",
          "text": [
            " in the company to the state in the national international complex and research to a basic areas of the common to the precision and second and based on the ancestry in the majority of the properties of\n"
          ]
        },
        {
          "output_type": "stream",
          "name": "stderr",
          "text": [
            " 38%|███▊      | 19196/50000 [03:01<04:13, 121.44it/s]"
          ]
        },
        {
          "output_type": "stream",
          "name": "stdout",
          "text": [
            "Loss: 1.3637290215492248\n"
          ]
        },
        {
          "output_type": "stream",
          "name": "stderr",
          "text": [
            "\n",
            "  0%|          | 0/200 [00:00<?, ?it/s]\u001b[A\n",
            "100%|██████████| 200/200 [00:00<00:00, 1354.88it/s]\n"
          ]
        },
        {
          "output_type": "stream",
          "name": "stdout",
          "text": [
            " and the state and the general time in the services of the state of the control of the connection to a many of the promoted the international set of the former state of the set of the state of the firs\n"
          ]
        },
        {
          "output_type": "stream",
          "name": "stderr",
          "text": [
            " 38%|███▊      | 19242/50000 [03:01<04:22, 117.35it/s]"
          ]
        },
        {
          "output_type": "stream",
          "name": "stdout",
          "text": [
            "Loss: 1.3736706376075745\n"
          ]
        },
        {
          "output_type": "stream",
          "name": "stderr",
          "text": [
            "\n",
            "  0%|          | 0/200 [00:00<?, ?it/s]\u001b[A\n",
            "100%|██████████| 200/200 [00:00<00:00, 1381.63it/s]\n",
            " 39%|███▊      | 19256/50000 [03:01<05:39, 90.69it/s] "
          ]
        },
        {
          "output_type": "stream",
          "name": "stdout",
          "text": [
            " in of the state and an interactions of the possible to the state of the American American protection of the set of the southern the links in the proposed by the professional of the state and the commo\n"
          ]
        },
        {
          "output_type": "stream",
          "name": "stderr",
          "text": [
            " 39%|███▊      | 19287/50000 [03:02<04:26, 115.17it/s]"
          ]
        },
        {
          "output_type": "stream",
          "name": "stdout",
          "text": [
            "Loss: 1.3643816113471985\n"
          ]
        },
        {
          "output_type": "stream",
          "name": "stderr",
          "text": [
            "\n",
            "  0%|          | 0/200 [00:00<?, ?it/s]\u001b[A\n",
            "100%|██████████| 200/200 [00:00<00:00, 1363.54it/s]\n",
            " 39%|███▊      | 19301/50000 [03:02<05:45, 88.90it/s] "
          ]
        },
        {
          "output_type": "stream",
          "name": "stdout",
          "text": [
            " in 1970s of the process of the arithmetic and methods of the state and the are the completed to the provide a service that the and services and processing the former provided the country and increased\n"
          ]
        },
        {
          "output_type": "stream",
          "name": "stderr",
          "text": [
            " 39%|███▊      | 19334/50000 [03:02<04:23, 116.36it/s]"
          ]
        },
        {
          "output_type": "stream",
          "name": "stdout",
          "text": [
            "Loss: 1.3681733298301697\n"
          ]
        },
        {
          "output_type": "stream",
          "name": "stderr",
          "text": [
            "\n",
            "  0%|          | 0/200 [00:00<?, ?it/s]\u001b[A\n",
            "100%|██████████| 200/200 [00:00<00:00, 1434.96it/s]\n",
            " 39%|███▊      | 19350/50000 [03:02<05:28, 93.38it/s] "
          ]
        },
        {
          "output_type": "stream",
          "name": "stdout",
          "text": [
            " and international media are contraction is community of the result to the product of the production of the students and restriction of the the state and demonstrated to the express as a services and t\n"
          ]
        },
        {
          "output_type": "stream",
          "name": "stderr",
          "text": [
            " 39%|███▉      | 19399/50000 [03:03<03:57, 128.90it/s]"
          ]
        },
        {
          "output_type": "stream",
          "name": "stdout",
          "text": [
            "Loss: 1.355878653526306\n"
          ]
        },
        {
          "output_type": "stream",
          "name": "stderr",
          "text": [
            "\n",
            "  0%|          | 0/200 [00:00<?, ?it/s]\u001b[A\n",
            "100%|██████████| 200/200 [00:00<00:00, 1434.80it/s]\n"
          ]
        },
        {
          "output_type": "stream",
          "name": "stdout",
          "text": [
            " in a security of the area of the position of the provided in the United States believe to the self-in the country of the majority of the most control of a single research and response and the construc\n"
          ]
        },
        {
          "output_type": "stream",
          "name": "stderr",
          "text": [
            " 39%|███▉      | 19447/50000 [03:03<04:09, 122.49it/s]"
          ]
        },
        {
          "output_type": "stream",
          "name": "stdout",
          "text": [
            "Loss: 1.3816004133224487\n"
          ]
        },
        {
          "output_type": "stream",
          "name": "stderr",
          "text": [
            "\n",
            "  0%|          | 0/200 [00:00<?, ?it/s]\u001b[A\n",
            "100%|██████████| 200/200 [00:00<00:00, 1493.06it/s]\n"
          ]
        },
        {
          "output_type": "stream",
          "name": "stdout",
          "text": [
            " in a second of the particularly was the process of the city of the archipelago is a state of the state and allow the state of the seats of the state and an interest to the company of the majority of t\n"
          ]
        },
        {
          "output_type": "stream",
          "name": "stderr",
          "text": [
            " 39%|███▉      | 19495/50000 [03:04<04:10, 121.67it/s]"
          ]
        },
        {
          "output_type": "stream",
          "name": "stdout",
          "text": [
            "Loss: 1.3597161746025086\n"
          ]
        },
        {
          "output_type": "stream",
          "name": "stderr",
          "text": [
            "\n",
            "  0%|          | 0/200 [00:00<?, ?it/s]\u001b[A\n",
            "100%|██████████| 200/200 [00:00<00:00, 1376.12it/s]\n"
          ]
        },
        {
          "output_type": "stream",
          "name": "stdout",
          "text": [
            " and a standards and the seats that the station of the contrast the world of the state of the American and the standard company and the signal and mind by the production of the search and state of the \n"
          ]
        },
        {
          "output_type": "stream",
          "name": "stderr",
          "text": [
            " 39%|███▉      | 19541/50000 [03:04<04:18, 117.93it/s]"
          ]
        },
        {
          "output_type": "stream",
          "name": "stdout",
          "text": [
            "Loss: 1.3650919961929322\n"
          ]
        },
        {
          "output_type": "stream",
          "name": "stderr",
          "text": [
            "\n",
            "  0%|          | 0/200 [00:00<?, ?it/s]\u001b[A\n",
            "100%|██████████| 200/200 [00:00<00:00, 1461.68it/s]\n",
            " 39%|███▉      | 19555/50000 [03:04<05:28, 92.70it/s] "
          ]
        },
        {
          "output_type": "stream",
          "name": "stdout",
          "text": [
            " and a standards of the control of a state and the state in the protection of the state and control of the location of the term in the results are not the control of the entry of the proposed the artic\n"
          ]
        },
        {
          "output_type": "stream",
          "name": "stderr",
          "text": [
            " 39%|███▉      | 19588/50000 [03:04<04:15, 119.01it/s]"
          ]
        },
        {
          "output_type": "stream",
          "name": "stdout",
          "text": [
            "Loss: 1.3817386722564697\n"
          ]
        },
        {
          "output_type": "stream",
          "name": "stderr",
          "text": [
            "\n",
            "  0%|          | 0/200 [00:00<?, ?it/s]\u001b[A\n",
            "100%|██████████| 200/200 [00:00<00:00, 1415.69it/s]\n",
            " 39%|███▉      | 19602/50000 [03:05<05:28, 92.67it/s] "
          ]
        },
        {
          "output_type": "stream",
          "name": "stdout",
          "text": [
            " and the state of the international most of the production of the the southern control of a common workers of the protection to the company state of a provides the consistent of the standard in the Uni\n"
          ]
        },
        {
          "output_type": "stream",
          "name": "stderr",
          "text": [
            " 39%|███▉      | 19635/50000 [03:05<04:17, 118.15it/s]"
          ]
        },
        {
          "output_type": "stream",
          "name": "stdout",
          "text": [
            "Loss: 1.3642697191238404\n"
          ]
        },
        {
          "output_type": "stream",
          "name": "stderr",
          "text": [
            "\n",
            "  0%|          | 0/200 [00:00<?, ?it/s]\u001b[A\n",
            "100%|██████████| 200/200 [00:00<00:00, 1515.10it/s]\n",
            " 39%|███▉      | 19650/50000 [03:05<05:20, 94.82it/s] "
          ]
        },
        {
          "output_type": "stream",
          "name": "stdout",
          "text": [
            " and services of the standards and a significant services and state of the computer of the continued to the production of state and some of the communication of the company and the state and the contro\n"
          ]
        },
        {
          "output_type": "stream",
          "name": "stderr",
          "text": [
            " 39%|███▉      | 19699/50000 [03:05<03:52, 130.24it/s]"
          ]
        },
        {
          "output_type": "stream",
          "name": "stdout",
          "text": [
            "Loss: 1.3700851225852966\n"
          ]
        },
        {
          "output_type": "stream",
          "name": "stderr",
          "text": [
            "\n",
            "  0%|          | 0/200 [00:00<?, ?it/s]\u001b[A\n",
            "100%|██████████| 200/200 [00:00<00:00, 1451.17it/s]\n"
          ]
        },
        {
          "output_type": "stream",
          "name": "stdout",
          "text": [
            " and the same of the computer concept of the particularly to the result to the country of the control to be international company and process and the constitution of the source in the Cape Verde is the\n"
          ]
        },
        {
          "output_type": "stream",
          "name": "stderr",
          "text": [
            " 39%|███▉      | 19746/50000 [03:06<04:08, 121.74it/s]"
          ]
        },
        {
          "output_type": "stream",
          "name": "stdout",
          "text": [
            "Loss: 1.3744298315048218\n"
          ]
        },
        {
          "output_type": "stream",
          "name": "stderr",
          "text": [
            "\n",
            "  0%|          | 0/200 [00:00<?, ?it/s]\u001b[A\n",
            "100%|██████████| 200/200 [00:00<00:00, 1427.25it/s]\n"
          ]
        },
        {
          "output_type": "stream",
          "name": "stdout",
          "text": [
            " and the result that the first to the result of the international standards and state of the provide the state of the computer service of a companies of the proposed to have the services of a presented\n"
          ]
        },
        {
          "output_type": "stream",
          "name": "stderr",
          "text": [
            " 40%|███▉      | 19792/50000 [03:06<04:14, 118.56it/s]"
          ]
        },
        {
          "output_type": "stream",
          "name": "stdout",
          "text": [
            "Loss: 1.3740146994590758\n"
          ]
        },
        {
          "output_type": "stream",
          "name": "stderr",
          "text": [
            "\n",
            "  0%|          | 0/200 [00:00<?, ?it/s]\u001b[A\n",
            "100%|██████████| 200/200 [00:00<00:00, 1124.83it/s]"
          ]
        },
        {
          "output_type": "stream",
          "name": "stdout",
          "text": [
            " to the rail state and international company such as the state and part of the second state of the same computer services of the state and more company and order to the control of the company in the Un\n"
          ]
        },
        {
          "output_type": "stream",
          "name": "stderr",
          "text": [
            "\n",
            " 40%|███▉      | 19835/50000 [03:07<04:40, 107.69it/s]"
          ]
        },
        {
          "output_type": "stream",
          "name": "stdout",
          "text": [
            "Loss: 1.3786100602149964\n"
          ]
        },
        {
          "output_type": "stream",
          "name": "stderr",
          "text": [
            "\n",
            "  0%|          | 0/200 [00:00<?, ?it/s]\u001b[A\n",
            "100%|██████████| 200/200 [00:00<00:00, 1216.19it/s]\n",
            " 40%|███▉      | 19850/50000 [03:07<06:01, 83.37it/s] "
          ]
        },
        {
          "output_type": "stream",
          "name": "stdout",
          "text": [
            " the production of the United States of the United States and the result of the article and an explored to the state of the process and the motion of the control of the state of the provide the service\n"
          ]
        },
        {
          "output_type": "stream",
          "name": "stderr",
          "text": [
            " 40%|███▉      | 19897/50000 [03:07<04:14, 118.49it/s]"
          ]
        },
        {
          "output_type": "stream",
          "name": "stdout",
          "text": [
            "Loss: 1.357228479385376\n"
          ]
        },
        {
          "output_type": "stream",
          "name": "stderr",
          "text": [
            "\n",
            "  0%|          | 0/200 [00:00<?, ?it/s]\u001b[A\n",
            "100%|██████████| 200/200 [00:00<00:00, 1363.11it/s]\n"
          ]
        },
        {
          "output_type": "stream",
          "name": "stdout",
          "text": [
            " contributed to the productions and the state and an analysis of the control of a companies and the control management in the computer and the Buddhist Company of the United States of Cape Verde of the\n"
          ]
        },
        {
          "output_type": "stream",
          "name": "stderr",
          "text": [
            " 40%|███▉      | 19940/50000 [03:08<04:31, 110.62it/s]"
          ]
        },
        {
          "output_type": "stream",
          "name": "stdout",
          "text": [
            "Loss: 1.366371319293976\n"
          ]
        },
        {
          "output_type": "stream",
          "name": "stderr",
          "text": [
            "\n",
            "  0%|          | 0/200 [00:00<?, ?it/s]\u001b[A\n",
            " 42%|████▎     | 85/200 [00:00<00:00, 846.08it/s]\u001b[A\n",
            "100%|██████████| 200/200 [00:00<00:00, 936.47it/s]\n",
            " 40%|███▉      | 19968/50000 [03:08<05:42, 87.58it/s]"
          ]
        },
        {
          "output_type": "stream",
          "name": "stdout",
          "text": [
            " continued to the state of the protocols and company of the area to the state in the United States of the United States and the traditional and many area for the Chicago the United States of the Constr\n"
          ]
        },
        {
          "output_type": "stream",
          "name": "stderr",
          "text": [
            " 40%|███▉      | 19999/50000 [03:09<04:27, 112.18it/s]"
          ]
        },
        {
          "output_type": "stream",
          "name": "stdout",
          "text": [
            "Loss: 1.3619916725158692\n"
          ]
        },
        {
          "output_type": "stream",
          "name": "stderr",
          "text": [
            "\n",
            "  0%|          | 0/200 [00:00<?, ?it/s]\u001b[A\n",
            "100%|██████████| 200/200 [00:00<00:00, 1077.89it/s]"
          ]
        },
        {
          "output_type": "stream",
          "name": "stdout",
          "text": [
            " and other car the many of the problem to be a states and the protect the company of the transformation of the computing and the school such as the United States and the train of the state of the forme\n"
          ]
        },
        {
          "output_type": "stream",
          "name": "stderr",
          "text": [
            "\n",
            " 40%|████      | 20042/50000 [03:09<04:52, 102.44it/s]"
          ]
        },
        {
          "output_type": "stream",
          "name": "stdout",
          "text": [
            "Loss: 1.3585705876350402\n"
          ]
        },
        {
          "output_type": "stream",
          "name": "stderr",
          "text": [
            "\n",
            "  0%|          | 0/200 [00:00<?, ?it/s]\u001b[A\n",
            "100%|██████████| 200/200 [00:00<00:00, 1347.57it/s]\n",
            " 40%|████      | 20055/50000 [03:09<06:06, 81.75it/s] "
          ]
        },
        {
          "output_type": "stream",
          "name": "stdout",
          "text": [
            " and the state of the construction and the companies and the company in the second all of the most interest of the advanced to the companies and an active and the products of the trains in the southern\n"
          ]
        },
        {
          "output_type": "stream",
          "name": "stderr",
          "text": [
            " 40%|████      | 20087/50000 [03:10<04:31, 110.38it/s]"
          ]
        },
        {
          "output_type": "stream",
          "name": "stdout",
          "text": [
            "Loss: 1.3681725215911866\n"
          ]
        },
        {
          "output_type": "stream",
          "name": "stderr",
          "text": [
            "\n",
            "  0%|          | 0/200 [00:00<?, ?it/s]\u001b[A\n",
            "100%|██████████| 200/200 [00:00<00:00, 1381.33it/s]\n",
            " 40%|████      | 20101/50000 [03:10<05:40, 87.87it/s] "
          ]
        },
        {
          "output_type": "stream",
          "name": "stdout",
          "text": [
            " and other from the same the state to the company and the computer standards of the term of the first services that is a significant responsible for the production of experimental and state of the Cape\n"
          ]
        },
        {
          "output_type": "stream",
          "name": "stderr",
          "text": [
            " 40%|████      | 20149/50000 [03:10<04:00, 124.19it/s]"
          ]
        },
        {
          "output_type": "stream",
          "name": "stdout",
          "text": [
            "Loss: 1.369452850818634\n"
          ]
        },
        {
          "output_type": "stream",
          "name": "stderr",
          "text": [
            "\n",
            "  0%|          | 0/200 [00:00<?, ?it/s]\u001b[A\n",
            "100%|██████████| 200/200 [00:00<00:00, 1390.45it/s]\n"
          ]
        },
        {
          "output_type": "stream",
          "name": "stdout",
          "text": [
            " and other state of the state of the companies are not as a second line of the computer the computer services of the proposed the company of the Cape Verde and the process that the top speeds of the si\n"
          ]
        },
        {
          "output_type": "stream",
          "name": "stderr",
          "text": [
            " 40%|████      | 20197/50000 [03:11<04:05, 121.22it/s]"
          ]
        },
        {
          "output_type": "stream",
          "name": "stdout",
          "text": [
            "Loss: 1.35575190782547\n"
          ]
        },
        {
          "output_type": "stream",
          "name": "stderr",
          "text": [
            "\n",
            "  0%|          | 0/200 [00:00<?, ?it/s]\u001b[A\n",
            "100%|██████████| 200/200 [00:00<00:00, 1442.69it/s]\n"
          ]
        },
        {
          "output_type": "stream",
          "name": "stdout",
          "text": [
            " and the state of the standards and the constitutional services of the company and in the product of the international community of the state of the majority of the state computer and and services are \n"
          ]
        },
        {
          "output_type": "stream",
          "name": "stderr",
          "text": [
            " 40%|████      | 20242/50000 [03:11<04:15, 116.65it/s]"
          ]
        },
        {
          "output_type": "stream",
          "name": "stdout",
          "text": [
            "Loss: 1.3664471864700318\n"
          ]
        },
        {
          "output_type": "stream",
          "name": "stderr",
          "text": [
            "\n",
            "  0%|          | 0/200 [00:00<?, ?it/s]\u001b[A\n",
            "100%|██████████| 200/200 [00:00<00:00, 1420.42it/s]\n",
            " 41%|████      | 20256/50000 [03:11<05:27, 90.95it/s] "
          ]
        },
        {
          "output_type": "stream",
          "name": "stdout",
          "text": [
            " and the state and the result of the international state of the individual companies and process of the design and the result of the first company social networking and the south and activities of the \n"
          ]
        },
        {
          "output_type": "stream",
          "name": "stderr",
          "text": [
            " 41%|████      | 20288/50000 [03:11<04:12, 117.48it/s]"
          ]
        },
        {
          "output_type": "stream",
          "name": "stdout",
          "text": [
            "Loss: 1.3717420387268067\n"
          ]
        },
        {
          "output_type": "stream",
          "name": "stderr",
          "text": [
            "\n",
            "  0%|          | 0/200 [00:00<?, ?it/s]\u001b[A\n",
            "100%|██████████| 200/200 [00:00<00:00, 1436.67it/s]\n",
            " 41%|████      | 20302/50000 [03:12<05:21, 92.32it/s] "
          ]
        },
        {
          "output_type": "stream",
          "name": "stdout",
          "text": [
            " international communication of the second international compared the original model to the state and a states were also be a construction in the United States that the transportation and the process a\n"
          ]
        },
        {
          "output_type": "stream",
          "name": "stderr",
          "text": [
            " 41%|████      | 20349/50000 [03:12<03:56, 125.12it/s]"
          ]
        },
        {
          "output_type": "stream",
          "name": "stdout",
          "text": [
            "Loss: 1.3719556522369385\n"
          ]
        },
        {
          "output_type": "stream",
          "name": "stderr",
          "text": [
            "\n",
            "  0%|          | 0/200 [00:00<?, ?it/s]\u001b[A\n",
            "100%|██████████| 200/200 [00:00<00:00, 1435.51it/s]\n"
          ]
        },
        {
          "output_type": "stream",
          "name": "stdout",
          "text": [
            " to car and the state of the state and an interest in a person in the 1990s to the most and and programs are are the continued and actions are a presented the result to the product which is a community\n"
          ]
        },
        {
          "output_type": "stream",
          "name": "stderr",
          "text": [
            " 41%|████      | 20396/50000 [03:12<04:04, 121.18it/s]"
          ]
        },
        {
          "output_type": "stream",
          "name": "stdout",
          "text": [
            "Loss: 1.3576531028747558\n"
          ]
        },
        {
          "output_type": "stream",
          "name": "stderr",
          "text": [
            "\n",
            "  0%|          | 0/200 [00:00<?, ?it/s]\u001b[A\n",
            "100%|██████████| 200/200 [00:00<00:00, 1487.39it/s]\n"
          ]
        },
        {
          "output_type": "stream",
          "name": "stdout",
          "text": [
            " the archipelago is a standard on the control of the problems and the structure of the state is a settlement of the state and the second in the process of the United States are the religious and only a\n"
          ]
        },
        {
          "output_type": "stream",
          "name": "stderr",
          "text": [
            " 41%|████      | 20442/50000 [03:13<04:06, 119.85it/s]"
          ]
        },
        {
          "output_type": "stream",
          "name": "stdout",
          "text": [
            "Loss: 1.369587390422821\n"
          ]
        },
        {
          "output_type": "stream",
          "name": "stderr",
          "text": [
            "\n",
            "  0%|          | 0/200 [00:00<?, ?it/s]\u001b[A\n",
            "100%|██████████| 200/200 [00:00<00:00, 1238.02it/s]"
          ]
        },
        {
          "output_type": "stream",
          "name": "stdout",
          "text": [
            " to the majority of the Discovery and the Cape Verde is international simple to all the process of the southern formal state of the provide the state of the the population of the United States in the U\n"
          ]
        },
        {
          "output_type": "stream",
          "name": "stderr",
          "text": [
            "\n",
            " 41%|████      | 20489/50000 [03:13<04:14, 116.18it/s]"
          ]
        },
        {
          "output_type": "stream",
          "name": "stdout",
          "text": [
            "Loss: 1.362152488231659\n"
          ]
        },
        {
          "output_type": "stream",
          "name": "stderr",
          "text": [
            "\n",
            "  0%|          | 0/200 [00:00<?, ?it/s]\u001b[A\n",
            "100%|██████████| 200/200 [00:00<00:00, 1471.12it/s]\n",
            " 41%|████      | 20503/50000 [03:14<05:19, 92.20it/s] "
          ]
        },
        {
          "output_type": "stream",
          "name": "stdout",
          "text": [
            " and the standard of the common and an area of the majority of the state of the first set of the continued to the United States and the organization in the computer security of the term the most servic\n"
          ]
        },
        {
          "output_type": "stream",
          "name": "stderr",
          "text": [
            " 41%|████      | 20536/50000 [03:14<04:07, 118.84it/s]"
          ]
        },
        {
          "output_type": "stream",
          "name": "stdout",
          "text": [
            "Loss: 1.3793137383460998\n"
          ]
        },
        {
          "output_type": "stream",
          "name": "stderr",
          "text": [
            "\n",
            "  0%|          | 0/200 [00:00<?, ?it/s]\u001b[A\n",
            "100%|██████████| 200/200 [00:00<00:00, 1250.88it/s]\n",
            " 41%|████      | 20550/50000 [03:14<05:28, 89.78it/s] "
          ]
        },
        {
          "output_type": "stream",
          "name": "stdout",
          "text": [
            " state and the production of the state and companies and a protect the company of the community of the country of the computer study of the largest state to the state and the state and the standard in \n"
          ]
        },
        {
          "output_type": "stream",
          "name": "stderr",
          "text": [
            " 41%|████      | 20598/50000 [03:14<03:53, 125.86it/s]"
          ]
        },
        {
          "output_type": "stream",
          "name": "stdout",
          "text": [
            "Loss: 1.3683871221542359\n"
          ]
        },
        {
          "output_type": "stream",
          "name": "stderr",
          "text": [
            "\n",
            "  0%|          | 0/200 [00:00<?, ?it/s]\u001b[A\n",
            "100%|██████████| 200/200 [00:00<00:00, 1497.68it/s]\n"
          ]
        },
        {
          "output_type": "stream",
          "name": "stdout",
          "text": [
            " and the first the service of the ancestry and the services and experiences and the state and the experience of the construction was a state and services of the term problems in the 1960s the company a\n"
          ]
        },
        {
          "output_type": "stream",
          "name": "stderr",
          "text": [
            " 41%|████▏     | 20645/50000 [03:15<04:02, 120.81it/s]"
          ]
        },
        {
          "output_type": "stream",
          "name": "stdout",
          "text": [
            "Loss: 1.372523376941681\n"
          ]
        },
        {
          "output_type": "stream",
          "name": "stderr",
          "text": [
            "\n",
            "  0%|          | 0/200 [00:00<?, ?it/s]\u001b[A\n",
            "100%|██████████| 200/200 [00:00<00:00, 1391.21it/s]\n"
          ]
        },
        {
          "output_type": "stream",
          "name": "stdout",
          "text": [
            " of the state of the first international construction of the state of the result of the country of the Northern Partician American and the first company and particular in the same of the first formal s\n"
          ]
        },
        {
          "output_type": "stream",
          "name": "stderr",
          "text": [
            " 41%|████▏     | 20691/50000 [03:15<04:08, 118.06it/s]"
          ]
        },
        {
          "output_type": "stream",
          "name": "stdout",
          "text": [
            "Loss: 1.3696327590942383\n"
          ]
        },
        {
          "output_type": "stream",
          "name": "stderr",
          "text": [
            "\n",
            "  0%|          | 0/200 [00:00<?, ?it/s]\u001b[A\n",
            "100%|██████████| 200/200 [00:00<00:00, 1447.07it/s]\n",
            " 41%|████▏     | 20705/50000 [03:15<05:15, 92.93it/s] "
          ]
        },
        {
          "output_type": "stream",
          "name": "stdout",
          "text": [
            " and the article and state of the constitutional station in the 19th century on the computer control of the process of the live and the company of the company of the state and a describe an operations \n"
          ]
        },
        {
          "output_type": "stream",
          "name": "stderr",
          "text": [
            " 41%|████▏     | 20737/50000 [03:16<04:07, 118.08it/s]"
          ]
        },
        {
          "output_type": "stream",
          "name": "stdout",
          "text": [
            "Loss: 1.381506199836731\n"
          ]
        },
        {
          "output_type": "stream",
          "name": "stderr",
          "text": [
            "\n",
            "  0%|          | 0/200 [00:00<?, ?it/s]\u001b[A\n",
            "100%|██████████| 200/200 [00:00<00:00, 1474.62it/s]\n",
            " 42%|████▏     | 20751/50000 [03:16<05:12, 93.52it/s] "
          ]
        },
        {
          "output_type": "stream",
          "name": "stdout",
          "text": [
            " cells to be the solution of the continued to the protection of the United States and the state of the country of the term companies are also a service of the state of the company and all of the area t\n"
          ]
        },
        {
          "output_type": "stream",
          "name": "stderr",
          "text": [
            " 42%|████▏     | 20799/50000 [03:16<03:47, 128.48it/s]"
          ]
        },
        {
          "output_type": "stream",
          "name": "stdout",
          "text": [
            "Loss: 1.3625331401824952\n"
          ]
        },
        {
          "output_type": "stream",
          "name": "stderr",
          "text": [
            "\n",
            "  0%|          | 0/200 [00:00<?, ?it/s]\u001b[A\n",
            "100%|██████████| 200/200 [00:00<00:00, 1444.30it/s]\n"
          ]
        },
        {
          "output_type": "stream",
          "name": "stdout",
          "text": [
            " and the company of the United States to the company of the services and the state and the contrast of the world of the process of the production of the control control of the term in the United States\n"
          ]
        },
        {
          "output_type": "stream",
          "name": "stderr",
          "text": [
            " 42%|████▏     | 20847/50000 [03:17<03:58, 122.19it/s]"
          ]
        },
        {
          "output_type": "stream",
          "name": "stdout",
          "text": [
            "Loss: 1.3832875394821167\n"
          ]
        },
        {
          "output_type": "stream",
          "name": "stderr",
          "text": [
            "\n",
            "  0%|          | 0/200 [00:00<?, ?it/s]\u001b[A\n",
            "100%|██████████| 200/200 [00:00<00:00, 1430.36it/s]\n"
          ]
        },
        {
          "output_type": "stream",
          "name": "stdout",
          "text": [
            " and the particularly in the set of a result of the produce the south of the state of the first the project of the state and its control and provide the southern services of the based on the results of\n"
          ]
        },
        {
          "output_type": "stream",
          "name": "stderr",
          "text": [
            " 42%|████▏     | 20893/50000 [03:17<04:04, 118.86it/s]"
          ]
        },
        {
          "output_type": "stream",
          "name": "stdout",
          "text": [
            "Loss: 1.3717227697372436\n"
          ]
        },
        {
          "output_type": "stream",
          "name": "stderr",
          "text": [
            "\n",
            "  0%|          | 0/200 [00:00<?, ?it/s]\u001b[A\n",
            "100%|██████████| 200/200 [00:00<00:00, 1388.38it/s]\n",
            " 42%|████▏     | 20907/50000 [03:17<05:19, 90.94it/s] "
          ]
        },
        {
          "output_type": "stream",
          "name": "stdout",
          "text": [
            " and proposed to the archipelago is a companies and the services and many other company and a companies and the provided as a series and the companies and companies and the state and the state of the s\n"
          ]
        },
        {
          "output_type": "stream",
          "name": "stderr",
          "text": [
            " 42%|████▏     | 20939/50000 [03:18<04:08, 117.16it/s]"
          ]
        },
        {
          "output_type": "stream",
          "name": "stdout",
          "text": [
            "Loss: 1.3690642404556275\n"
          ]
        },
        {
          "output_type": "stream",
          "name": "stderr",
          "text": [
            "\n",
            "  0%|          | 0/200 [00:00<?, ?it/s]\u001b[A\n",
            "100%|██████████| 200/200 [00:00<00:00, 1464.09it/s]\n",
            " 42%|████▏     | 20953/50000 [03:18<05:13, 92.65it/s] "
          ]
        },
        {
          "output_type": "stream",
          "name": "stdout",
          "text": [
            " and other are a production of the process of the first control of the first the service and control of the construction of the monastery of the state of the time of the company of the population of th\n"
          ]
        },
        {
          "output_type": "stream",
          "name": "stderr",
          "text": [
            " 42%|████▏     | 20985/50000 [03:18<04:06, 117.55it/s]"
          ]
        },
        {
          "output_type": "stream",
          "name": "stdout",
          "text": [
            "Loss: 1.3631609225273131\n"
          ]
        },
        {
          "output_type": "stream",
          "name": "stderr",
          "text": [
            "\n",
            "  0%|          | 0/200 [00:00<?, ?it/s]\u001b[A\n",
            "100%|██████████| 200/200 [00:00<00:00, 1339.70it/s]\n",
            " 42%|████▏     | 21000/50000 [03:18<05:16, 91.60it/s] "
          ]
        },
        {
          "output_type": "stream",
          "name": "stdout",
          "text": [
            " the community of the control of a the major former and released to the common application and an individual of the transportation of the many reported to the state of the article of the first final pr\n"
          ]
        },
        {
          "output_type": "stream",
          "name": "stderr",
          "text": [
            " 42%|████▏     | 21048/50000 [03:19<03:47, 127.25it/s]"
          ]
        },
        {
          "output_type": "stream",
          "name": "stdout",
          "text": [
            "Loss: 1.3598736333847046\n"
          ]
        },
        {
          "output_type": "stream",
          "name": "stderr",
          "text": [
            "\n",
            "  0%|          | 0/200 [00:00<?, ?it/s]\u001b[A\n",
            "100%|██████████| 200/200 [00:00<00:00, 1330.57it/s]\n"
          ]
        },
        {
          "output_type": "stream",
          "name": "stdout",
          "text": [
            " and the services in the computer computing to the first programmer and formal state of the the company and active or the state that the process and the construction of the standard and the state of th\n"
          ]
        },
        {
          "output_type": "stream",
          "name": "stderr",
          "text": [
            " 42%|████▏     | 21095/50000 [03:19<04:03, 118.91it/s]"
          ]
        },
        {
          "output_type": "stream",
          "name": "stdout",
          "text": [
            "Loss: 1.36483553647995\n"
          ]
        },
        {
          "output_type": "stream",
          "name": "stderr",
          "text": [
            "\n",
            "  0%|          | 0/200 [00:00<?, ?it/s]\u001b[A\n",
            "100%|██████████| 200/200 [00:00<00:00, 1424.11it/s]\n"
          ]
        },
        {
          "output_type": "stream",
          "name": "stdout",
          "text": [
            " and the relationship of the architecture and experience of the second and the control of the importance of the country of the product of the seats and an also and individual describe a companies are s\n"
          ]
        },
        {
          "output_type": "stream",
          "name": "stderr",
          "text": [
            " 42%|████▏     | 21138/50000 [03:19<04:20, 110.68it/s]"
          ]
        },
        {
          "output_type": "stream",
          "name": "stdout",
          "text": [
            "Loss: 1.3648915004730224\n"
          ]
        },
        {
          "output_type": "stream",
          "name": "stderr",
          "text": [
            "\n",
            "  0%|          | 0/200 [00:00<?, ?it/s]\u001b[A\n",
            "100%|██████████| 200/200 [00:00<00:00, 1050.35it/s]\n",
            " 42%|████▏     | 21167/50000 [03:20<05:09, 93.04it/s]"
          ]
        },
        {
          "output_type": "stream",
          "name": "stdout",
          "text": [
            " in 2015 and the entire the Greek Minister of Cape Verde is a similar to the the provide a services and a supply on the services and the state of the state and the production of the significant social \n"
          ]
        },
        {
          "output_type": "stream",
          "name": "stderr",
          "text": [
            " 42%|████▏     | 21195/50000 [03:20<04:22, 109.68it/s]"
          ]
        },
        {
          "output_type": "stream",
          "name": "stdout",
          "text": [
            "Loss: 1.372983024120331\n"
          ]
        },
        {
          "output_type": "stream",
          "name": "stderr",
          "text": [
            "\n",
            "  0%|          | 0/200 [00:00<?, ?it/s]\u001b[A\n",
            "100%|██████████| 200/200 [00:00<00:00, 1223.31it/s]"
          ]
        },
        {
          "output_type": "stream",
          "name": "stdout",
          "text": [
            " and the active entry and the majority of the United States and the second and international standards of the term and for the result of the term was section of the and of the rail state of the state a\n"
          ]
        },
        {
          "output_type": "stream",
          "name": "stderr",
          "text": [
            "\n",
            " 42%|████▏     | 21236/50000 [03:21<04:39, 102.73it/s]"
          ]
        },
        {
          "output_type": "stream",
          "name": "stdout",
          "text": [
            "Loss: 1.3680343437194824\n"
          ]
        },
        {
          "output_type": "stream",
          "name": "stderr",
          "text": [
            "\n",
            "  0%|          | 0/200 [00:00<?, ?it/s]\u001b[A\n",
            "100%|██████████| 200/200 [00:00<00:00, 1260.89it/s]\n",
            " 42%|████▎     | 21250/50000 [03:21<05:55, 80.76it/s] "
          ]
        },
        {
          "output_type": "stream",
          "name": "stdout",
          "text": [
            " the computer product of the product and railway and the students and the process of the state of the ability to an international and standard responsible to a social networking and the service of the \n"
          ]
        },
        {
          "output_type": "stream",
          "name": "stderr",
          "text": [
            " 43%|████▎     | 21292/50000 [03:21<04:20, 110.25it/s]"
          ]
        },
        {
          "output_type": "stream",
          "name": "stdout",
          "text": [
            "Loss: 1.3633006238937377\n"
          ]
        },
        {
          "output_type": "stream",
          "name": "stderr",
          "text": [
            "\n",
            "  0%|          | 0/200 [00:00<?, ?it/s]\u001b[A\n",
            "100%|██████████| 200/200 [00:00<00:00, 1073.53it/s]"
          ]
        },
        {
          "output_type": "stream",
          "name": "stdout",
          "text": [
            " and the company of the Cape Verde has a services of the house in the computer services and the state of the produced the are the considered that the second health American and one of the groups of the\n"
          ]
        },
        {
          "output_type": "stream",
          "name": "stderr",
          "text": [
            "\n",
            " 43%|████▎     | 21349/50000 [03:22<04:19, 110.45it/s]"
          ]
        },
        {
          "output_type": "stream",
          "name": "stdout",
          "text": [
            "Loss: 1.376223566532135\n"
          ]
        },
        {
          "output_type": "stream",
          "name": "stderr",
          "text": [
            "\n",
            "  0%|          | 0/200 [00:00<?, ?it/s]\u001b[A\n",
            "100%|██████████| 200/200 [00:00<00:00, 1070.88it/s]"
          ]
        },
        {
          "output_type": "stream",
          "name": "stdout",
          "text": [
            " and the products to the products of the United States and the set of the state of the control of such as a second the common in the United States and the extensive content of the states that the stand\n"
          ]
        },
        {
          "output_type": "stream",
          "name": "stderr",
          "text": [
            "\n",
            " 43%|████▎     | 21394/50000 [03:22<04:26, 107.23it/s]"
          ]
        },
        {
          "output_type": "stream",
          "name": "stdout",
          "text": [
            "Loss: 1.3598224472999574\n"
          ]
        },
        {
          "output_type": "stream",
          "name": "stderr",
          "text": [
            "\n",
            "  0%|          | 0/200 [00:00<?, ?it/s]\u001b[A\n",
            "100%|██████████| 200/200 [00:00<00:00, 1383.59it/s]\n"
          ]
        },
        {
          "output_type": "stream",
          "name": "stdout",
          "text": [
            " and the ancient or eastern and process in the country and computer standard of the archipelago of the standard decision and the only a services and the company was a security of the same the only an i\n"
          ]
        },
        {
          "output_type": "stream",
          "name": "stderr",
          "text": [
            " 43%|████▎     | 21440/50000 [03:23<04:12, 113.27it/s]"
          ]
        },
        {
          "output_type": "stream",
          "name": "stdout",
          "text": [
            "Loss: 1.3714871144294738\n"
          ]
        },
        {
          "output_type": "stream",
          "name": "stderr",
          "text": [
            "\n",
            "  0%|          | 0/200 [00:00<?, ?it/s]\u001b[A\n",
            "100%|██████████| 200/200 [00:00<00:00, 1431.08it/s]\n",
            " 43%|████▎     | 21454/50000 [03:23<05:18, 89.54it/s] "
          ]
        },
        {
          "output_type": "stream",
          "name": "stdout",
          "text": [
            " the produced the standard and the state of the same for the state of the constitutional produced by the world of the control to the article of the present is a services to be seen to for the term math\n"
          ]
        },
        {
          "output_type": "stream",
          "name": "stderr",
          "text": [
            " 43%|████▎     | 21487/50000 [03:23<04:04, 116.55it/s]"
          ]
        },
        {
          "output_type": "stream",
          "name": "stdout",
          "text": [
            "Loss: 1.390152060985565\n"
          ]
        },
        {
          "output_type": "stream",
          "name": "stderr",
          "text": [
            "\n",
            "  0%|          | 0/200 [00:00<?, ?it/s]\u001b[A\n",
            "100%|██████████| 200/200 [00:00<00:00, 1428.17it/s]\n",
            " 43%|████▎     | 21501/50000 [03:23<05:10, 91.86it/s] "
          ]
        },
        {
          "output_type": "stream",
          "name": "stdout",
          "text": [
            " energy to the highest state of the United States of the Committee of the train and the production of the train problem to see the considered the product of the state and the control to the total consi\n"
          ]
        },
        {
          "output_type": "stream",
          "name": "stderr",
          "text": [
            " 43%|████▎     | 21549/50000 [03:24<03:43, 127.12it/s]"
          ]
        },
        {
          "output_type": "stream",
          "name": "stdout",
          "text": [
            "Loss: 1.3709662103652953\n"
          ]
        },
        {
          "output_type": "stream",
          "name": "stderr",
          "text": [
            "\n",
            "  0%|          | 0/200 [00:00<?, ?it/s]\u001b[A\n",
            "100%|██████████| 200/200 [00:00<00:00, 1396.41it/s]\n"
          ]
        },
        {
          "output_type": "stream",
          "name": "stdout",
          "text": [
            " and the same the relationships of the provided in 1975, the products of the largest and and with the state and the studies and social networking service of the action of the services and the second or\n"
          ]
        },
        {
          "output_type": "stream",
          "name": "stderr",
          "text": [
            " 43%|████▎     | 21597/50000 [03:24<03:54, 121.33it/s]"
          ]
        },
        {
          "output_type": "stream",
          "name": "stdout",
          "text": [
            "Loss: 1.3865302872657777\n"
          ]
        },
        {
          "output_type": "stream",
          "name": "stderr",
          "text": [
            "\n",
            "  0%|          | 0/200 [00:00<?, ?it/s]\u001b[A\n",
            "100%|██████████| 200/200 [00:00<00:00, 1449.86it/s]\n"
          ]
        },
        {
          "output_type": "stream",
          "name": "stdout",
          "text": [
            " and the first product of the majority of the area of the service of the company of the production of the state and the Northern New York and the Railway Australia and Commons and Pythagoras is a profe\n"
          ]
        },
        {
          "output_type": "stream",
          "name": "stderr",
          "text": [
            " 43%|████▎     | 21644/50000 [03:25<03:57, 119.57it/s]"
          ]
        },
        {
          "output_type": "stream",
          "name": "stdout",
          "text": [
            "Loss: 1.3727086997032165\n"
          ]
        },
        {
          "output_type": "stream",
          "name": "stderr",
          "text": [
            "\n",
            "  0%|          | 0/200 [00:00<?, ?it/s]\u001b[A\n",
            "100%|██████████| 200/200 [00:00<00:00, 1510.59it/s]\n",
            " 43%|████▎     | 21658/50000 [03:25<05:00, 94.47it/s] "
          ]
        },
        {
          "output_type": "stream",
          "name": "stdout",
          "text": [
            " in the products of a services of the state of the United States and the majority of the problem and the participate the trains to the population of the concept of the base in 1994, the Cape Verde to t\n"
          ]
        },
        {
          "output_type": "stream",
          "name": "stderr",
          "text": [
            " 43%|████▎     | 21690/50000 [03:25<03:58, 118.72it/s]"
          ]
        },
        {
          "output_type": "stream",
          "name": "stdout",
          "text": [
            "Loss: 1.3580452942848205\n"
          ]
        },
        {
          "output_type": "stream",
          "name": "stderr",
          "text": [
            "\n",
            "  0%|          | 0/200 [00:00<?, ?it/s]\u001b[A\n",
            "100%|██████████| 200/200 [00:00<00:00, 1471.61it/s]\n",
            " 43%|████▎     | 21704/50000 [03:25<05:02, 93.66it/s] "
          ]
        },
        {
          "output_type": "stream",
          "name": "stdout",
          "text": [
            " and the first produce the state was also content of the first the problems in the standard of the state of the second computing considered that a control of the national state of the standards and the\n"
          ]
        },
        {
          "output_type": "stream",
          "name": "stderr",
          "text": [
            " 43%|████▎     | 21736/50000 [03:25<03:56, 119.35it/s]"
          ]
        },
        {
          "output_type": "stream",
          "name": "stdout",
          "text": [
            "Loss: 1.371537642478943\n"
          ]
        },
        {
          "output_type": "stream",
          "name": "stderr",
          "text": [
            "\n",
            "  0%|          | 0/200 [00:00<?, ?it/s]\u001b[A\n",
            "100%|██████████| 200/200 [00:00<00:00, 1388.19it/s]\n",
            " 44%|████▎     | 21750/50000 [03:26<05:08, 91.71it/s] "
          ]
        },
        {
          "output_type": "stream",
          "name": "stdout",
          "text": [
            " and the type of the state of the states and the production of the state and services in the United States and the location with a security and the second the state of the first encouraged the services\n"
          ]
        },
        {
          "output_type": "stream",
          "name": "stderr",
          "text": [
            " 44%|████▎     | 21798/50000 [03:26<03:43, 126.44it/s]"
          ]
        },
        {
          "output_type": "stream",
          "name": "stdout",
          "text": [
            "Loss: 1.3668426871299744\n"
          ]
        },
        {
          "output_type": "stream",
          "name": "stderr",
          "text": [
            "\n",
            "  0%|          | 0/200 [00:00<?, ?it/s]\u001b[A\n",
            "100%|██████████| 200/200 [00:00<00:00, 1433.57it/s]\n"
          ]
        },
        {
          "output_type": "stream",
          "name": "stdout",
          "text": [
            " and the top speeds of the production of the product of the United States of the source of the control of the The and the Parliament of Cape Verde and the production of the state of the process of the \n"
          ]
        },
        {
          "output_type": "stream",
          "name": "stderr",
          "text": [
            " 44%|████▎     | 21845/50000 [03:26<03:52, 120.88it/s]"
          ]
        },
        {
          "output_type": "stream",
          "name": "stdout",
          "text": [
            "Loss: 1.3838315033912658\n"
          ]
        },
        {
          "output_type": "stream",
          "name": "stderr",
          "text": [
            "\n",
            "  0%|          | 0/200 [00:00<?, ?it/s]\u001b[A\n",
            "100%|██████████| 200/200 [00:00<00:00, 1232.30it/s]"
          ]
        },
        {
          "output_type": "stream",
          "name": "stdout",
          "text": [
            " and his control of an activities and the services and a result of the company and the source and associated to the products and the state of the control to social networking state the state of the pro\n"
          ]
        },
        {
          "output_type": "stream",
          "name": "stderr",
          "text": [
            "\n",
            " 44%|████▍     | 21893/50000 [03:27<04:00, 117.02it/s]"
          ]
        },
        {
          "output_type": "stream",
          "name": "stdout",
          "text": [
            "Loss: 1.3752247262001038\n"
          ]
        },
        {
          "output_type": "stream",
          "name": "stderr",
          "text": [
            "\n",
            "  0%|          | 0/200 [00:00<?, ?it/s]\u001b[A\n",
            "100%|██████████| 200/200 [00:00<00:00, 1385.06it/s]\n",
            " 44%|████▍     | 21907/50000 [03:27<05:08, 91.06it/s] "
          ]
        },
        {
          "output_type": "stream",
          "name": "stdout",
          "text": [
            " of the problems of the provide a standard and process and mathematical and the state of the problems and data for the process and the product and the result of the traditional second of the United Sta\n"
          ]
        },
        {
          "output_type": "stream",
          "name": "stderr",
          "text": [
            " 44%|████▍     | 21939/50000 [03:27<04:01, 116.29it/s]"
          ]
        },
        {
          "output_type": "stream",
          "name": "stdout",
          "text": [
            "Loss: 1.3750816369056702\n"
          ]
        },
        {
          "output_type": "stream",
          "name": "stderr",
          "text": [
            "\n",
            "  0%|          | 0/200 [00:00<?, ?it/s]\u001b[A\n",
            "100%|██████████| 200/200 [00:00<00:00, 1387.48it/s]\n",
            " 44%|████▍     | 21953/50000 [03:28<05:09, 90.58it/s] "
          ]
        },
        {
          "output_type": "stream",
          "name": "stdout",
          "text": [
            " market of the computer than the state of the state of the first India and the Base to the Commons and the Commons and the term and and services were the present to the state and the state of the tradi\n"
          ]
        },
        {
          "output_type": "stream",
          "name": "stderr",
          "text": [
            " 44%|████▍     | 21987/50000 [03:28<03:55, 119.01it/s]"
          ]
        },
        {
          "output_type": "stream",
          "name": "stdout",
          "text": [
            "Loss: 1.3669926571846007\n"
          ]
        },
        {
          "output_type": "stream",
          "name": "stderr",
          "text": [
            "\n",
            "  0%|          | 0/200 [00:00<?, ?it/s]\u001b[A\n",
            "100%|██████████| 200/200 [00:00<00:00, 1341.09it/s]\n",
            " 44%|████▍     | 22001/50000 [03:28<05:05, 91.66it/s] "
          ]
        },
        {
          "output_type": "stream",
          "name": "stdout",
          "text": [
            " and the first are the process of the production of the state of the process and a state of the state of the Chicago and Australia and Buddhist tradition of the Cape Verde and the first American contai\n"
          ]
        },
        {
          "output_type": "stream",
          "name": "stderr",
          "text": [
            " 44%|████▍     | 22034/50000 [03:28<03:56, 118.18it/s]"
          ]
        },
        {
          "output_type": "stream",
          "name": "stdout",
          "text": [
            "Loss: 1.3753698778152466\n"
          ]
        },
        {
          "output_type": "stream",
          "name": "stderr",
          "text": [
            "\n",
            "  0%|          | 0/200 [00:00<?, ?it/s]\u001b[A\n",
            "100%|██████████| 200/200 [00:00<00:00, 1412.39it/s]\n",
            " 44%|████▍     | 22050/50000 [03:28<04:57, 94.06it/s] "
          ]
        },
        {
          "output_type": "stream",
          "name": "stdout",
          "text": [
            " the total state of the standard and an operations and the production of the state of the sense of the control of the operation of the components and in the second the groups of the state of the origin\n"
          ]
        },
        {
          "output_type": "stream",
          "name": "stderr",
          "text": [
            " 44%|████▍     | 22097/50000 [03:29<03:39, 127.35it/s]"
          ]
        },
        {
          "output_type": "stream",
          "name": "stdout",
          "text": [
            "Loss: 1.3673557353019714\n"
          ]
        },
        {
          "output_type": "stream",
          "name": "stderr",
          "text": [
            "\n",
            "  0%|          | 0/200 [00:00<?, ?it/s]\u001b[A\n",
            "100%|██████████| 200/200 [00:00<00:00, 1340.64it/s]\n"
          ]
        },
        {
          "output_type": "stream",
          "name": "stdout",
          "text": [
            " to the company to the second and response that a set to the state and the archipelago and set of the companies are the archipelago in the state and control the state of the state in the first products\n"
          ]
        },
        {
          "output_type": "stream",
          "name": "stderr",
          "text": [
            " 44%|████▍     | 22143/50000 [03:29<03:55, 118.42it/s]"
          ]
        },
        {
          "output_type": "stream",
          "name": "stdout",
          "text": [
            "Loss: 1.359128975868225\n"
          ]
        },
        {
          "output_type": "stream",
          "name": "stderr",
          "text": [
            "\n",
            "  0%|          | 0/200 [00:00<?, ?it/s]\u001b[A\n",
            "100%|██████████| 200/200 [00:00<00:00, 1351.39it/s]\n",
            " 44%|████▍     | 22157/50000 [03:29<05:05, 91.07it/s] "
          ]
        },
        {
          "output_type": "stream",
          "name": "stdout",
          "text": [
            " and the state and development of the seat the state and and provide an international models and a production of a term contraction of the state and professional lines of the state of the state of the \n"
          ]
        },
        {
          "output_type": "stream",
          "name": "stderr",
          "text": [
            " 44%|████▍     | 22188/50000 [03:30<04:03, 114.22it/s]"
          ]
        },
        {
          "output_type": "stream",
          "name": "stdout",
          "text": [
            "Loss: 1.3714781832695007\n"
          ]
        },
        {
          "output_type": "stream",
          "name": "stderr",
          "text": [
            "\n",
            "  0%|          | 0/200 [00:00<?, ?it/s]\u001b[A\n",
            "100%|██████████| 200/200 [00:00<00:00, 1404.86it/s]\n",
            " 44%|████▍     | 22202/50000 [03:30<05:12, 88.87it/s] "
          ]
        },
        {
          "output_type": "stream",
          "name": "stdout",
          "text": [
            " and the computer and operate the control of the location of the international international state of the states that the new show that the development of the control of the state and the same and line\n"
          ]
        },
        {
          "output_type": "stream",
          "name": "stderr",
          "text": [
            " 44%|████▍     | 22249/50000 [03:30<03:41, 125.01it/s]"
          ]
        },
        {
          "output_type": "stream",
          "name": "stdout",
          "text": [
            "Loss: 1.3560052466392518\n"
          ]
        },
        {
          "output_type": "stream",
          "name": "stderr",
          "text": [
            "\n",
            "  0%|          | 0/200 [00:00<?, ?it/s]\u001b[A\n",
            "100%|██████████| 200/200 [00:00<00:00, 1278.21it/s]\n"
          ]
        },
        {
          "output_type": "stream",
          "name": "stdout",
          "text": [
            " and the standard of the traditional number of an and use of the traditional considered the additional services in the set of the computer state of the state are the properties with the process that th\n"
          ]
        },
        {
          "output_type": "stream",
          "name": "stderr",
          "text": [
            " 45%|████▍     | 22296/50000 [03:31<03:55, 117.62it/s]"
          ]
        },
        {
          "output_type": "stream",
          "name": "stdout",
          "text": [
            "Loss: 1.3734650111198425\n"
          ]
        },
        {
          "output_type": "stream",
          "name": "stderr",
          "text": [
            "\n",
            "  0%|          | 0/200 [00:00<?, ?it/s]\u001b[A\n",
            "100%|██████████| 200/200 [00:00<00:00, 1370.44it/s]\n"
          ]
        },
        {
          "output_type": "stream",
          "name": "stdout",
          "text": [
            " and the company and the production of the product of the brain and social networking such as a products and an intercity state of the article of the United States in the 19th century the control of th\n"
          ]
        },
        {
          "output_type": "stream",
          "name": "stderr",
          "text": [
            " 45%|████▍     | 22342/50000 [03:31<04:00, 114.84it/s]"
          ]
        },
        {
          "output_type": "stream",
          "name": "stdout",
          "text": [
            "Loss: 1.3820888090133667\n"
          ]
        },
        {
          "output_type": "stream",
          "name": "stderr",
          "text": [
            "\n",
            "  0%|          | 0/200 [00:00<?, ?it/s]\u001b[A\n",
            "100%|██████████| 200/200 [00:00<00:00, 1397.38it/s]\n",
            " 45%|████▍     | 22356/50000 [03:31<05:06, 90.30it/s] "
          ]
        },
        {
          "output_type": "stream",
          "name": "stdout",
          "text": [
            " and a more than the production of the standard and a sets of the south and in the United States and the standard to the result of the control to the archipelago of a services and service of the proces\n"
          ]
        },
        {
          "output_type": "stream",
          "name": "stderr",
          "text": [
            " 45%|████▍     | 22386/50000 [03:32<04:08, 110.98it/s]"
          ]
        },
        {
          "output_type": "stream",
          "name": "stdout",
          "text": [
            "Loss: 1.366129560470581\n"
          ]
        },
        {
          "output_type": "stream",
          "name": "stderr",
          "text": [
            "\n",
            "  0%|          | 0/200 [00:00<?, ?it/s]\u001b[A\n",
            "100%|██████████| 200/200 [00:00<00:00, 1404.81it/s]\n",
            " 45%|████▍     | 22400/50000 [03:32<05:11, 88.64it/s] "
          ]
        },
        {
          "output_type": "stream",
          "name": "stdout",
          "text": [
            " and a supply in the islands and also computer school of the standard is like protection of the services of the state of the state of the second for the later and the completed to a set of the services\n"
          ]
        },
        {
          "output_type": "stream",
          "name": "stderr",
          "text": [
            " 45%|████▍     | 22446/50000 [03:32<03:48, 120.37it/s]"
          ]
        },
        {
          "output_type": "stream",
          "name": "stdout",
          "text": [
            "Loss: 1.373724935054779\n"
          ]
        },
        {
          "output_type": "stream",
          "name": "stderr",
          "text": [
            "\n",
            "  0%|          | 0/200 [00:00<?, ?it/s]\u001b[A\n",
            "100%|██████████| 200/200 [00:00<00:00, 1155.04it/s]"
          ]
        },
        {
          "output_type": "stream",
          "name": "stdout",
          "text": [
            " and the majority of the first production of the Cape Verde and the case of the American Commons and the product and work of the provide the active and company in the second and the control of a major \n"
          ]
        },
        {
          "output_type": "stream",
          "name": "stderr",
          "text": [
            "\n",
            " 45%|████▍     | 22488/50000 [03:33<04:27, 102.89it/s]"
          ]
        },
        {
          "output_type": "stream",
          "name": "stdout",
          "text": [
            "Loss: 1.3585619235038757\n"
          ]
        },
        {
          "output_type": "stream",
          "name": "stderr",
          "text": [
            "\n",
            "  0%|          | 0/200 [00:00<?, ?it/s]\u001b[A\n",
            " 44%|████▍     | 89/200 [00:00<00:00, 887.69it/s]\u001b[A\n",
            "100%|██████████| 200/200 [00:00<00:00, 986.27it/s] \n",
            " 45%|████▌     | 22516/50000 [03:33<05:15, 87.03it/s]"
          ]
        },
        {
          "output_type": "stream",
          "name": "stdout",
          "text": [
            " and the numbers are often results and the problems of the constitute the United States of the southern organizations and possible to a services and services and the southern subsequently in the state \n"
          ]
        },
        {
          "output_type": "stream",
          "name": "stderr",
          "text": [
            " 45%|████▌     | 22546/50000 [03:33<04:08, 110.62it/s]"
          ]
        },
        {
          "output_type": "stream",
          "name": "stdout",
          "text": [
            "Loss: 1.3588234281539917\n"
          ]
        },
        {
          "output_type": "stream",
          "name": "stderr",
          "text": [
            "\n",
            "  0%|          | 0/200 [00:00<?, ?it/s]\u001b[A\n",
            "100%|██████████| 200/200 [00:00<00:00, 1233.47it/s]\n"
          ]
        },
        {
          "output_type": "stream",
          "name": "stdout",
          "text": [
            " and the state and the first transportation and the result of the international state and the state of the company that the significant and the control of a security to the company as a second of the c\n"
          ]
        },
        {
          "output_type": "stream",
          "name": "stderr",
          "text": [
            " 45%|████▌     | 22590/50000 [03:34<04:11, 108.78it/s]"
          ]
        },
        {
          "output_type": "stream",
          "name": "stdout",
          "text": [
            "Loss: 1.3755460023880004\n"
          ]
        },
        {
          "output_type": "stream",
          "name": "stderr",
          "text": [
            "\n",
            "  0%|          | 0/200 [00:00<?, ?it/s]\u001b[A\n",
            " 44%|████▍     | 89/200 [00:00<00:00, 886.60it/s]\u001b[A\n",
            "100%|██████████| 200/200 [00:00<00:00, 955.49it/s]\n",
            " 45%|████▌     | 22618/50000 [03:34<05:09, 88.51it/s]"
          ]
        },
        {
          "output_type": "stream",
          "name": "stdout",
          "text": [
            " and the company and state of the second international and expressed to the state and activation of state and services and the set of the majority of the protect of the term may be a person the second \n"
          ]
        },
        {
          "output_type": "stream",
          "name": "stderr",
          "text": [
            " 45%|████▌     | 22647/50000 [03:34<04:09, 109.81it/s]"
          ]
        },
        {
          "output_type": "stream",
          "name": "stdout",
          "text": [
            "Loss: 1.363525276184082\n"
          ]
        },
        {
          "output_type": "stream",
          "name": "stderr",
          "text": [
            "\n",
            "  0%|          | 0/200 [00:00<?, ?it/s]\u001b[A\n",
            "100%|██████████| 200/200 [00:00<00:00, 1021.33it/s]\n",
            " 45%|████▌     | 22675/50000 [03:35<05:02, 90.38it/s]"
          ]
        },
        {
          "output_type": "stream",
          "name": "stdout",
          "text": [
            " is an areas that the state of the mid-19th century in the company and the country of the construction of the service to the state of the United States of the Commission of the Northeast Asian Cape Ver\n"
          ]
        },
        {
          "output_type": "stream",
          "name": "stderr",
          "text": [
            "\r 45%|████▌     | 22690/50000 [03:35<04:25, 102.83it/s]"
          ]
        },
        {
          "output_type": "stream",
          "name": "stdout",
          "text": [
            "Loss: 1.3610234141349793\n"
          ]
        },
        {
          "output_type": "stream",
          "name": "stderr",
          "text": [
            "\n",
            "  0%|          | 0/200 [00:00<?, ?it/s]\u001b[A\n",
            "100%|██████████| 200/200 [00:00<00:00, 1451.80it/s]\n",
            " 45%|████▌     | 22703/50000 [03:35<05:27, 83.30it/s] "
          ]
        },
        {
          "output_type": "stream",
          "name": "stdout",
          "text": [
            " and the distribution of a set is a single control of the result to an except to the development to the control of the control of the southern services and the many continued to product and one of the \n"
          ]
        },
        {
          "output_type": "stream",
          "name": "stderr",
          "text": [
            " 45%|████▌     | 22736/50000 [03:35<04:01, 112.95it/s]"
          ]
        },
        {
          "output_type": "stream",
          "name": "stdout",
          "text": [
            "Loss: 1.3713380575180054\n"
          ]
        },
        {
          "output_type": "stream",
          "name": "stderr",
          "text": [
            "\n",
            "  0%|          | 0/200 [00:00<?, ?it/s]\u001b[A\n",
            "100%|██████████| 200/200 [00:00<00:00, 1419.10it/s]\n",
            " 46%|████▌     | 22750/50000 [03:36<05:02, 90.04it/s] "
          ]
        },
        {
          "output_type": "stream",
          "name": "stdout",
          "text": [
            " and only the set of the same and and international services of a computer state the design are designed to the state and financial service of the second produced the computer substance of the state an\n"
          ]
        },
        {
          "output_type": "stream",
          "name": "stderr",
          "text": [
            " 46%|████▌     | 22797/50000 [03:36<03:38, 124.33it/s]"
          ]
        },
        {
          "output_type": "stream",
          "name": "stdout",
          "text": [
            "Loss: 1.3710730600357055\n"
          ]
        },
        {
          "output_type": "stream",
          "name": "stderr",
          "text": [
            "\n",
            "  0%|          | 0/200 [00:00<?, ?it/s]\u001b[A\n",
            "100%|██████████| 200/200 [00:00<00:00, 1310.21it/s]\n"
          ]
        },
        {
          "output_type": "stream",
          "name": "stdout",
          "text": [
            " the first services in the local and the services and the participating the result of the company of the protect in the United States and the state of the served the process and the first station in th\n"
          ]
        },
        {
          "output_type": "stream",
          "name": "stderr",
          "text": [
            " 46%|████▌     | 22843/50000 [03:36<03:49, 118.39it/s]"
          ]
        },
        {
          "output_type": "stream",
          "name": "stdout",
          "text": [
            "Loss: 1.3663998436927796\n"
          ]
        },
        {
          "output_type": "stream",
          "name": "stderr",
          "text": [
            "\n",
            "  0%|          | 0/200 [00:00<?, ?it/s]\u001b[A\n",
            "100%|██████████| 200/200 [00:00<00:00, 1439.21it/s]\n",
            " 46%|████▌     | 22857/50000 [03:37<04:53, 92.45it/s] "
          ]
        },
        {
          "output_type": "stream",
          "name": "stdout",
          "text": [
            " electricity of existing and became the problems of the state and the process of a service of a services in a set to the residence of the state the country and the state starting the process of the sta\n"
          ]
        },
        {
          "output_type": "stream",
          "name": "stderr",
          "text": [
            " 46%|████▌     | 22890/50000 [03:37<03:46, 119.53it/s]"
          ]
        },
        {
          "output_type": "stream",
          "name": "stdout",
          "text": [
            "Loss: 1.3694302368164062\n"
          ]
        },
        {
          "output_type": "stream",
          "name": "stderr",
          "text": [
            "\n",
            "  0%|          | 0/200 [00:00<?, ?it/s]\u001b[A\n",
            "100%|██████████| 200/200 [00:00<00:00, 1317.36it/s]\n",
            " 46%|████▌     | 22904/50000 [03:37<04:57, 91.03it/s] "
          ]
        },
        {
          "output_type": "stream",
          "name": "stdout",
          "text": [
            " in 2013, the location of the main relationship of the sources are the decision is the production of the article of the provides a standards of the present and company in the discoveries and the source\n"
          ]
        },
        {
          "output_type": "stream",
          "name": "stderr",
          "text": [
            " 46%|████▌     | 22936/50000 [03:37<03:51, 117.04it/s]"
          ]
        },
        {
          "output_type": "stream",
          "name": "stdout",
          "text": [
            "Loss: 1.362720215320587\n"
          ]
        },
        {
          "output_type": "stream",
          "name": "stderr",
          "text": [
            "\n",
            "  0%|          | 0/200 [00:00<?, ?it/s]\u001b[A\n",
            "100%|██████████| 200/200 [00:00<00:00, 1474.65it/s]\n",
            " 46%|████▌     | 22950/50000 [03:37<04:50, 93.00it/s] "
          ]
        },
        {
          "output_type": "stream",
          "name": "stdout",
          "text": [
            " and the population of the state of the area in the company services are translation of the area of the significant designed to the process in the process of the production of the states of the company\n"
          ]
        },
        {
          "output_type": "stream",
          "name": "stderr",
          "text": [
            " 46%|████▌     | 22999/50000 [03:38<03:29, 128.99it/s]"
          ]
        },
        {
          "output_type": "stream",
          "name": "stdout",
          "text": [
            "Loss: 1.3720833158493042\n"
          ]
        },
        {
          "output_type": "stream",
          "name": "stderr",
          "text": [
            "\n",
            "  0%|          | 0/200 [00:00<?, ?it/s]\u001b[A\n",
            "100%|██████████| 200/200 [00:00<00:00, 1369.43it/s]\n"
          ]
        },
        {
          "output_type": "stream",
          "name": "stdout",
          "text": [
            " and the standard to experience in the United States of Southern American was the computer services in the Cape Verde of the United States and the state and the company in the 1990s and 1960s of the st\n"
          ]
        },
        {
          "output_type": "stream",
          "name": "stderr",
          "text": [
            " 46%|████▌     | 23046/50000 [03:38<03:43, 120.72it/s]"
          ]
        },
        {
          "output_type": "stream",
          "name": "stdout",
          "text": [
            "Loss: 1.3662330412864685\n"
          ]
        },
        {
          "output_type": "stream",
          "name": "stderr",
          "text": [
            "\n",
            "  0%|          | 0/200 [00:00<?, ?it/s]\u001b[A\n",
            "100%|██████████| 200/200 [00:00<00:00, 1371.14it/s]\n"
          ]
        },
        {
          "output_type": "stream",
          "name": "stdout",
          "text": [
            " in the United States of the state and the communities of the late 1990s in the United States and the Southern Australia American company many construction of the state of the products and the process \n"
          ]
        },
        {
          "output_type": "stream",
          "name": "stderr",
          "text": [
            " 46%|████▌     | 23094/50000 [03:39<03:44, 119.75it/s]"
          ]
        },
        {
          "output_type": "stream",
          "name": "stdout",
          "text": [
            "Loss: 1.376351647377014\n"
          ]
        },
        {
          "output_type": "stream",
          "name": "stderr",
          "text": [
            "\n",
            "  0%|          | 0/200 [00:00<?, ?it/s]\u001b[A\n",
            "100%|██████████| 200/200 [00:00<00:00, 1409.39it/s]\n"
          ]
        },
        {
          "output_type": "stream",
          "name": "stdout",
          "text": [
            " the second and a company of the first services and a production of the protocols of the standards of the transformation in the standard second of the term and construction of the national internationa\n"
          ]
        },
        {
          "output_type": "stream",
          "name": "stderr",
          "text": [
            " 46%|████▋     | 23141/50000 [03:39<03:47, 118.20it/s]"
          ]
        },
        {
          "output_type": "stream",
          "name": "stdout",
          "text": [
            "Loss: 1.3737431716918946\n"
          ]
        },
        {
          "output_type": "stream",
          "name": "stderr",
          "text": [
            "\n",
            "  0%|          | 0/200 [00:00<?, ?it/s]\u001b[A\n",
            "100%|██████████| 200/200 [00:00<00:00, 1463.75it/s]\n",
            " 46%|████▋     | 23155/50000 [03:39<04:48, 93.18it/s] "
          ]
        },
        {
          "output_type": "stream",
          "name": "stdout",
          "text": [
            " and the construction of the seats of the result of the most end of the country and some of the activities of the product of the states to the stations of the control of the computer service of the com\n"
          ]
        },
        {
          "output_type": "stream",
          "name": "stderr",
          "text": [
            " 46%|████▋     | 23187/50000 [03:40<03:45, 118.83it/s]"
          ]
        },
        {
          "output_type": "stream",
          "name": "stdout",
          "text": [
            "Loss: 1.3562841677665711\n"
          ]
        },
        {
          "output_type": "stream",
          "name": "stderr",
          "text": [
            "\n",
            "  0%|          | 0/200 [00:00<?, ?it/s]\u001b[A\n",
            "100%|██████████| 200/200 [00:00<00:00, 1448.33it/s]\n",
            " 46%|████▋     | 23201/50000 [03:40<04:46, 93.56it/s] "
          ]
        },
        {
          "output_type": "stream",
          "name": "stdout",
          "text": [
            " and the process and the first control that the development of a state of the problems are service of the largest international services are the former and states and the collective and international c\n"
          ]
        },
        {
          "output_type": "stream",
          "name": "stderr",
          "text": [
            " 46%|████▋     | 23249/50000 [03:40<03:29, 127.92it/s]"
          ]
        },
        {
          "output_type": "stream",
          "name": "stdout",
          "text": [
            "Loss: 1.3641853427886963\n"
          ]
        },
        {
          "output_type": "stream",
          "name": "stderr",
          "text": [
            "\n",
            "  0%|          | 0/200 [00:00<?, ?it/s]\u001b[A\n",
            "100%|██████████| 200/200 [00:00<00:00, 1411.78it/s]\n"
          ]
        },
        {
          "output_type": "stream",
          "name": "stdout",
          "text": [
            " and the life and \"the first the state and the state of the second the control of the state of the set of the term developed to a companies and the state of the companies and the state of the problem o\n"
          ]
        },
        {
          "output_type": "stream",
          "name": "stderr",
          "text": [
            " 47%|████▋     | 23297/50000 [03:41<03:38, 122.44it/s]"
          ]
        },
        {
          "output_type": "stream",
          "name": "stdout",
          "text": [
            "Loss: 1.3607797718048096\n"
          ]
        },
        {
          "output_type": "stream",
          "name": "stderr",
          "text": [
            "\n",
            "  0%|          | 0/200 [00:00<?, ?it/s]\u001b[A\n",
            "100%|██████████| 200/200 [00:00<00:00, 1420.64it/s]\n"
          ]
        },
        {
          "output_type": "stream",
          "name": "stdout",
          "text": [
            " of the advanced to the state of the first the produce the content of the control of a computer than the processes of the standards of the students that the set of the end and distance of the construct\n"
          ]
        },
        {
          "output_type": "stream",
          "name": "stderr",
          "text": [
            " 47%|████▋     | 23343/50000 [03:41<03:46, 117.83it/s]"
          ]
        },
        {
          "output_type": "stream",
          "name": "stdout",
          "text": [
            "Loss: 1.3673022341728212\n"
          ]
        },
        {
          "output_type": "stream",
          "name": "stderr",
          "text": [
            "\n",
            "  0%|          | 0/200 [00:00<?, ?it/s]\u001b[A\n",
            "100%|██████████| 200/200 [00:00<00:00, 1407.23it/s]\n",
            " 47%|████▋     | 23357/50000 [03:41<04:51, 91.50it/s] "
          ]
        },
        {
          "output_type": "stream",
          "name": "stdout",
          "text": [
            " international services and the result of the United States and the most increased in 1998 and in the 1990s, and the control of the brist was a state in the services of the standard of the state and th\n"
          ]
        },
        {
          "output_type": "stream",
          "name": "stderr",
          "text": [
            " 47%|████▋     | 23390/50000 [03:41<03:44, 118.30it/s]"
          ]
        },
        {
          "output_type": "stream",
          "name": "stdout",
          "text": [
            "Loss: 1.3735032153129578\n"
          ]
        },
        {
          "output_type": "stream",
          "name": "stderr",
          "text": [
            "\n",
            "  0%|          | 0/200 [00:00<?, ?it/s]\u001b[A\n",
            "100%|██████████| 200/200 [00:00<00:00, 1352.18it/s]\n",
            " 47%|████▋     | 23404/50000 [03:42<04:51, 91.15it/s] "
          ]
        },
        {
          "output_type": "stream",
          "name": "stdout",
          "text": [
            " and the international state of the Cape Verde is the state of the standard and the most problems and the sensor in the particular services of the state and the train of the services on the South Willi\n"
          ]
        },
        {
          "output_type": "stream",
          "name": "stderr",
          "text": [
            " 47%|████▋     | 23437/50000 [03:42<03:45, 117.94it/s]"
          ]
        },
        {
          "output_type": "stream",
          "name": "stdout",
          "text": [
            "Loss: 1.375732820034027\n"
          ]
        },
        {
          "output_type": "stream",
          "name": "stderr",
          "text": [
            "\n",
            "  0%|          | 0/200 [00:00<?, ?it/s]\u001b[A\n",
            "100%|██████████| 200/200 [00:00<00:00, 1484.16it/s]\n",
            " 47%|████▋     | 23451/50000 [03:42<04:46, 92.81it/s] "
          ]
        },
        {
          "output_type": "stream",
          "name": "stdout",
          "text": [
            " and the second continued that the products and process that and affect the problems of the state of the company and the traditional mathematical line of the state of the highest the company of the con\n"
          ]
        },
        {
          "output_type": "stream",
          "name": "stderr",
          "text": [
            " 47%|████▋     | 23483/50000 [03:42<03:44, 118.17it/s]"
          ]
        },
        {
          "output_type": "stream",
          "name": "stdout",
          "text": [
            "Loss: 1.3769428992271424\n"
          ]
        },
        {
          "output_type": "stream",
          "name": "stderr",
          "text": [
            "\n",
            "  0%|          | 0/200 [00:00<?, ?it/s]\u001b[A\n",
            "100%|██████████| 200/200 [00:00<00:00, 1440.03it/s]\n",
            " 47%|████▋     | 23500/50000 [03:43<04:37, 95.51it/s] "
          ]
        },
        {
          "output_type": "stream",
          "name": "stdout",
          "text": [
            " and a control of the country and the community and and subject of the state of the standards and the problems and the largest production of the southern production of the state of the Service to the t\n"
          ]
        },
        {
          "output_type": "stream",
          "name": "stderr",
          "text": [
            " 47%|████▋     | 23549/50000 [03:43<03:24, 129.63it/s]"
          ]
        },
        {
          "output_type": "stream",
          "name": "stdout",
          "text": [
            "Loss: 1.3765875673294068\n"
          ]
        },
        {
          "output_type": "stream",
          "name": "stderr",
          "text": [
            "\n",
            "  0%|          | 0/200 [00:00<?, ?it/s]\u001b[A\n",
            "100%|██████████| 200/200 [00:00<00:00, 1222.43it/s]\n"
          ]
        },
        {
          "output_type": "stream",
          "name": "stdout",
          "text": [
            " in the southern research and social networking state and a companies and processing with the standard standard line and arithmetic and computer significant than the states that the construction of the\n"
          ]
        },
        {
          "output_type": "stream",
          "name": "stderr",
          "text": [
            " 47%|████▋     | 23596/50000 [03:43<03:43, 117.89it/s]"
          ]
        },
        {
          "output_type": "stream",
          "name": "stdout",
          "text": [
            "Loss: 1.363871419429779\n"
          ]
        },
        {
          "output_type": "stream",
          "name": "stderr",
          "text": [
            "\n",
            "  0%|          | 0/200 [00:00<?, ?it/s]\u001b[A\n",
            "100%|██████████| 200/200 [00:00<00:00, 1417.99it/s]\n"
          ]
        },
        {
          "output_type": "stream",
          "name": "stdout",
          "text": [
            " the first train and the second some process of the operations of a formal design is a professional and international services and the provide the technical system and experience of the common the stat\n"
          ]
        },
        {
          "output_type": "stream",
          "name": "stderr",
          "text": [
            " 47%|████▋     | 23642/50000 [03:44<03:44, 117.61it/s]"
          ]
        },
        {
          "output_type": "stream",
          "name": "stdout",
          "text": [
            "Loss: 1.3651580834388732\n"
          ]
        },
        {
          "output_type": "stream",
          "name": "stderr",
          "text": [
            "\n",
            "  0%|          | 0/200 [00:00<?, ?it/s]\u001b[A\n",
            "100%|██████████| 200/200 [00:00<00:00, 1248.18it/s]"
          ]
        },
        {
          "output_type": "stream",
          "name": "stdout",
          "text": [
            " and the production of the result and the part of the Cape Verde for the southern control of an attempt in the company of the main terminal international numbers of the professor of the company of the \n"
          ]
        },
        {
          "output_type": "stream",
          "name": "stderr",
          "text": [
            "\n",
            " 47%|████▋     | 23689/50000 [03:44<03:47, 115.85it/s]"
          ]
        },
        {
          "output_type": "stream",
          "name": "stdout",
          "text": [
            "Loss: 1.3548181867599487\n"
          ]
        },
        {
          "output_type": "stream",
          "name": "stderr",
          "text": [
            "\n",
            "  0%|          | 0/200 [00:00<?, ?it/s]\u001b[A\n",
            "100%|██████████| 200/200 [00:00<00:00, 1482.38it/s]\n",
            " 47%|████▋     | 23703/50000 [03:45<04:43, 92.71it/s] "
          ]
        },
        {
          "output_type": "stream",
          "name": "stdout",
          "text": [
            " and his services of the United States and the state and the seat of the process of the production of the American produced the many the game and the term and the standard and the largest constitutiona\n"
          ]
        },
        {
          "output_type": "stream",
          "name": "stderr",
          "text": [
            " 47%|████▋     | 23736/50000 [03:45<03:39, 119.47it/s]"
          ]
        },
        {
          "output_type": "stream",
          "name": "stdout",
          "text": [
            "Loss: 1.3790342473983765\n"
          ]
        },
        {
          "output_type": "stream",
          "name": "stderr",
          "text": [
            "\n",
            "  0%|          | 0/200 [00:00<?, ?it/s]\u001b[A\n",
            "100%|██████████| 200/200 [00:00<00:00, 1040.30it/s]\n",
            " 48%|████▊     | 23750/50000 [03:45<05:08, 85.08it/s] "
          ]
        },
        {
          "output_type": "stream",
          "name": "stdout",
          "text": [
            " and a second in the company and and individual of the state of the original process of the company and relationship to have been control of the service of the state of the control of the state of the \n"
          ]
        },
        {
          "output_type": "stream",
          "name": "stderr",
          "text": [
            " 48%|████▊     | 23796/50000 [03:45<03:42, 117.61it/s]"
          ]
        },
        {
          "output_type": "stream",
          "name": "stdout",
          "text": [
            "Loss: 1.3746204924583436\n"
          ]
        },
        {
          "output_type": "stream",
          "name": "stderr",
          "text": [
            "\n",
            "  0%|          | 0/200 [00:00<?, ?it/s]\u001b[A\n",
            "100%|██████████| 200/200 [00:00<00:00, 1224.85it/s]\n"
          ]
        },
        {
          "output_type": "stream",
          "name": "stdout",
          "text": [
            " and the state of the computer set of the southern the state and the standard of the construction of the community and the service of the state and constitutional state of the construction of the state\n"
          ]
        },
        {
          "output_type": "stream",
          "name": "stderr",
          "text": [
            " 48%|████▊     | 23839/50000 [03:46<04:07, 105.81it/s]"
          ]
        },
        {
          "output_type": "stream",
          "name": "stdout",
          "text": [
            "Loss: 1.373508870601654\n"
          ]
        },
        {
          "output_type": "stream",
          "name": "stderr",
          "text": [
            "\n",
            "  0%|          | 0/200 [00:00<?, ?it/s]\u001b[A\n",
            "100%|██████████| 200/200 [00:00<00:00, 1149.89it/s]\n",
            " 48%|████▊     | 23852/50000 [03:46<05:27, 79.86it/s] "
          ]
        },
        {
          "output_type": "stream",
          "name": "stdout",
          "text": [
            " and interest to the product of the state and the result of the advantage of the state of the term for the southern the new state and the development of the control of the set of the company of the ter\n"
          ]
        },
        {
          "output_type": "stream",
          "name": "stderr",
          "text": [
            " 48%|████▊     | 23897/50000 [03:46<03:46, 115.45it/s]"
          ]
        },
        {
          "output_type": "stream",
          "name": "stdout",
          "text": [
            "Loss: 1.380697410106659\n"
          ]
        },
        {
          "output_type": "stream",
          "name": "stderr",
          "text": [
            "\n",
            "  0%|          | 0/200 [00:00<?, ?it/s]\u001b[A\n",
            "100%|██████████| 200/200 [00:00<00:00, 1334.73it/s]\n"
          ]
        },
        {
          "output_type": "stream",
          "name": "stdout",
          "text": [
            " and services are the former state and the state and the company and the development of the first technical services production of the same are services of the standards that the archipelago and a comp\n"
          ]
        },
        {
          "output_type": "stream",
          "name": "stderr",
          "text": [
            " 48%|████▊     | 23942/50000 [03:47<03:53, 111.59it/s]"
          ]
        },
        {
          "output_type": "stream",
          "name": "stdout",
          "text": [
            "Loss: 1.3843495750427246\n"
          ]
        },
        {
          "output_type": "stream",
          "name": "stderr",
          "text": [
            "\n",
            "  0%|          | 0/200 [00:00<?, ?it/s]\u001b[A\n",
            "100%|██████████| 200/200 [00:00<00:00, 1179.28it/s]"
          ]
        },
        {
          "output_type": "stream",
          "name": "stdout",
          "text": [
            " the process and the state of the standards and the religious services and production of the transportation and the company that the states that the sensor of the control of a companies are also be a s\n"
          ]
        },
        {
          "output_type": "stream",
          "name": "stderr",
          "text": [
            "\n",
            " 48%|████▊     | 23996/50000 [03:47<03:57, 109.55it/s]"
          ]
        },
        {
          "output_type": "stream",
          "name": "stdout",
          "text": [
            "Loss: 1.3677702045440674\n"
          ]
        },
        {
          "output_type": "stream",
          "name": "stderr",
          "text": [
            "\n",
            "  0%|          | 0/200 [00:00<?, ?it/s]\u001b[A\n",
            " 47%|████▋     | 94/200 [00:00<00:00, 935.68it/s]\u001b[A\n",
            "100%|██████████| 200/200 [00:00<00:00, 975.09it/s]\n",
            " 48%|████▊     | 24026/50000 [03:48<04:42, 91.83it/s]"
          ]
        },
        {
          "output_type": "stream",
          "name": "stdout",
          "text": [
            " and have the programmer to a new study of the first state of the first communication of the traditional control of the service of the state of the computer and the state and production of the archipel\n"
          ]
        },
        {
          "output_type": "stream",
          "name": "stderr",
          "text": [
            "\r 48%|████▊     | 24042/50000 [03:48<04:06, 105.38it/s]"
          ]
        },
        {
          "output_type": "stream",
          "name": "stdout",
          "text": [
            "Loss: 1.3652188873291016\n"
          ]
        },
        {
          "output_type": "stream",
          "name": "stderr",
          "text": [
            "\n",
            "  0%|          | 0/200 [00:00<?, ?it/s]\u001b[A\n",
            "100%|██████████| 200/200 [00:00<00:00, 1505.84it/s]\n",
            " 48%|████▊     | 24055/50000 [03:48<04:59, 86.53it/s] "
          ]
        },
        {
          "output_type": "stream",
          "name": "stdout",
          "text": [
            " A M and the product of the seats that the process between the result of social networking state and a factors and the construction of the most track of the control of the second or of the trains of th\n"
          ]
        },
        {
          "output_type": "stream",
          "name": "stderr",
          "text": [
            " 48%|████▊     | 24087/50000 [03:48<03:47, 113.88it/s]"
          ]
        },
        {
          "output_type": "stream",
          "name": "stdout",
          "text": [
            "Loss: 1.3652318930625915\n"
          ]
        },
        {
          "output_type": "stream",
          "name": "stderr",
          "text": [
            "\n",
            "  0%|          | 0/200 [00:00<?, ?it/s]\u001b[A\n",
            "100%|██████████| 200/200 [00:00<00:00, 1438.98it/s]\n",
            " 48%|████▊     | 24101/50000 [03:49<04:45, 90.65it/s] "
          ]
        },
        {
          "output_type": "stream",
          "name": "stdout",
          "text": [
            " and the simulation and the south of the profile may be represent the result of the construction of the country of the entered the same for the train problems from the experience of the transformation \n"
          ]
        },
        {
          "output_type": "stream",
          "name": "stderr",
          "text": [
            " 48%|████▊     | 24149/50000 [03:49<03:23, 126.90it/s]"
          ]
        },
        {
          "output_type": "stream",
          "name": "stdout",
          "text": [
            "Loss: 1.3603312945365906\n"
          ]
        },
        {
          "output_type": "stream",
          "name": "stderr",
          "text": [
            "\n",
            "  0%|          | 0/200 [00:00<?, ?it/s]\u001b[A\n",
            "100%|██████████| 200/200 [00:00<00:00, 1415.95it/s]\n"
          ]
        },
        {
          "output_type": "stream",
          "name": "stdout",
          "text": [
            " and the protection and experiment to describe the state as a state of the train the company in the set of the primary provided in the United States and the students and the provide the south of the re\n"
          ]
        },
        {
          "output_type": "stream",
          "name": "stderr",
          "text": [
            " 48%|████▊     | 24196/50000 [03:49<03:34, 120.24it/s]"
          ]
        },
        {
          "output_type": "stream",
          "name": "stdout",
          "text": [
            "Loss: 1.3676507115364074\n"
          ]
        },
        {
          "output_type": "stream",
          "name": "stderr",
          "text": [
            "\n",
            "  0%|          | 0/200 [00:00<?, ?it/s]\u001b[A\n",
            "100%|██████████| 200/200 [00:00<00:00, 1414.04it/s]\n"
          ]
        },
        {
          "output_type": "stream",
          "name": "stdout",
          "text": [
            " and the concerning the contract the network and the state of the United States and the trains that are not sense of the result of the control of the state and a process of the standard and a company a\n"
          ]
        },
        {
          "output_type": "stream",
          "name": "stderr",
          "text": [
            " 48%|████▊     | 24243/50000 [03:50<03:36, 119.00it/s]"
          ]
        },
        {
          "output_type": "stream",
          "name": "stdout",
          "text": [
            "Loss: 1.3676471662521363\n"
          ]
        },
        {
          "output_type": "stream",
          "name": "stderr",
          "text": [
            "\n",
            "  0%|          | 0/200 [00:00<?, ?it/s]\u001b[A\n",
            "100%|██████████| 200/200 [00:00<00:00, 1289.01it/s]"
          ]
        },
        {
          "output_type": "stream",
          "name": "stdout",
          "text": [
            " and the common to the production of the common the state and provide the properties and services and a series are protection of the products the common the same government of the provide a proposed to\n"
          ]
        },
        {
          "output_type": "stream",
          "name": "stderr",
          "text": [
            "\n",
            " 49%|████▊     | 24289/50000 [03:50<03:41, 115.99it/s]"
          ]
        },
        {
          "output_type": "stream",
          "name": "stdout",
          "text": [
            "Loss: 1.3724367332458496\n"
          ]
        },
        {
          "output_type": "stream",
          "name": "stderr",
          "text": [
            "\n",
            "  0%|          | 0/200 [00:00<?, ?it/s]\u001b[A\n",
            "100%|██████████| 200/200 [00:00<00:00, 1356.43it/s]\n",
            " 49%|████▊     | 24303/50000 [03:51<04:46, 89.69it/s] "
          ]
        },
        {
          "output_type": "stream",
          "name": "stdout",
          "text": [
            " the provides the state of the company of the United States and the article in the 1990s. In the result of the company of the present to the common social networking and relationships and experimental \n"
          ]
        },
        {
          "output_type": "stream",
          "name": "stderr",
          "text": [
            " 49%|████▊     | 24335/50000 [03:51<03:40, 116.19it/s]"
          ]
        },
        {
          "output_type": "stream",
          "name": "stdout",
          "text": [
            "Loss: 1.3583392667770386\n"
          ]
        },
        {
          "output_type": "stream",
          "name": "stderr",
          "text": [
            "\n",
            "  0%|          | 0/200 [00:00<?, ?it/s]\u001b[A\n",
            "100%|██████████| 200/200 [00:00<00:00, 1289.65it/s]\n",
            " 49%|████▊     | 24350/50000 [03:51<04:44, 90.04it/s] "
          ]
        },
        {
          "output_type": "stream",
          "name": "stdout",
          "text": [
            " in 1971 to 1967. In 1974, and the archipelago and the highest population of the transportation of the media and the largest capacity of the article and properties of the common and the believe to the \n"
          ]
        },
        {
          "output_type": "stream",
          "name": "stderr",
          "text": [
            " 49%|████▉     | 24399/50000 [03:51<03:22, 126.28it/s]"
          ]
        },
        {
          "output_type": "stream",
          "name": "stdout",
          "text": [
            "Loss: 1.35514892578125\n"
          ]
        },
        {
          "output_type": "stream",
          "name": "stderr",
          "text": [
            "\n",
            "  0%|          | 0/200 [00:00<?, ?it/s]\u001b[A\n",
            "100%|██████████| 200/200 [00:00<00:00, 1424.97it/s]\n"
          ]
        },
        {
          "output_type": "stream",
          "name": "stdout",
          "text": [
            " in the 2000 control of the common and state and all the state in the United States in the United States of the produce the transportation of the community and the second result of the term and the rel\n"
          ]
        },
        {
          "output_type": "stream",
          "name": "stderr",
          "text": [
            " 49%|████▉     | 24446/50000 [03:52<03:33, 119.94it/s]"
          ]
        },
        {
          "output_type": "stream",
          "name": "stdout",
          "text": [
            "Loss: 1.3531072449684143\n"
          ]
        },
        {
          "output_type": "stream",
          "name": "stderr",
          "text": [
            "\n",
            "  0%|          | 0/200 [00:00<?, ?it/s]\u001b[A\n",
            "100%|██████████| 200/200 [00:00<00:00, 1430.27it/s]\n"
          ]
        },
        {
          "output_type": "stream",
          "name": "stdout",
          "text": [
            " and the company and the state and an interaction of the service of the services and the control to a term in the process of the state of the process of the the first to the area of the early 1990s and\n"
          ]
        },
        {
          "output_type": "stream",
          "name": "stderr",
          "text": [
            " 49%|████▉     | 24493/50000 [03:52<03:35, 118.39it/s]"
          ]
        },
        {
          "output_type": "stream",
          "name": "stdout",
          "text": [
            "Loss: 1.3706270027160645\n"
          ]
        },
        {
          "output_type": "stream",
          "name": "stderr",
          "text": [
            "\n",
            "  0%|          | 0/200 [00:00<?, ?it/s]\u001b[A\n",
            "100%|██████████| 200/200 [00:00<00:00, 1342.56it/s]\n"
          ]
        },
        {
          "output_type": "stream",
          "name": "stdout",
          "text": [
            " and the problems with the present complete of the result of the common and the state of the control to the population of the state of the second be the controlled to a mathematics and the present and \n"
          ]
        },
        {
          "output_type": "stream",
          "name": "stderr",
          "text": [
            " 49%|████▉     | 24539/50000 [03:53<03:37, 116.94it/s]"
          ]
        },
        {
          "output_type": "stream",
          "name": "stdout",
          "text": [
            "Loss: 1.3725041961669922\n"
          ]
        },
        {
          "output_type": "stream",
          "name": "stderr",
          "text": [
            "\n",
            "  0%|          | 0/200 [00:00<?, ?it/s]\u001b[A\n",
            "100%|██████████| 200/200 [00:00<00:00, 1448.98it/s]\n",
            " 49%|████▉     | 24553/50000 [03:53<04:35, 92.35it/s] "
          ]
        },
        {
          "output_type": "stream",
          "name": "stdout",
          "text": [
            " and the students in the United States of the Machine American Statistics and the state of the group of the control of the international state and the production of the state and in the United States a\n"
          ]
        },
        {
          "output_type": "stream",
          "name": "stderr",
          "text": [
            " 49%|████▉     | 24585/50000 [03:53<03:36, 117.49it/s]"
          ]
        },
        {
          "output_type": "stream",
          "name": "stdout",
          "text": [
            "Loss: 1.3711907196044921\n"
          ]
        },
        {
          "output_type": "stream",
          "name": "stderr",
          "text": [
            "\n",
            "  0%|          | 0/200 [00:00<?, ?it/s]\u001b[A\n",
            "100%|██████████| 200/200 [00:00<00:00, 1472.40it/s]\n",
            " 49%|████▉     | 24600/50000 [03:53<04:30, 93.73it/s] "
          ]
        },
        {
          "output_type": "stream",
          "name": "stdout",
          "text": [
            " control of control the relationships of the general systems are the commercial result of the second similar to the state and former computer and social networking and experience and the company of the\n"
          ]
        },
        {
          "output_type": "stream",
          "name": "stderr",
          "text": [
            " 49%|████▉     | 24647/50000 [03:54<03:20, 126.23it/s]"
          ]
        },
        {
          "output_type": "stream",
          "name": "stdout",
          "text": [
            "Loss: 1.3653658628463745\n"
          ]
        },
        {
          "output_type": "stream",
          "name": "stderr",
          "text": [
            "\n",
            "  0%|          | 0/200 [00:00<?, ?it/s]\u001b[A\n",
            "100%|██████████| 200/200 [00:00<00:00, 1409.80it/s]\n"
          ]
        },
        {
          "output_type": "stream",
          "name": "stdout",
          "text": [
            " and the trains and the standards of the state of the military of the source of the term and in the companies and the standards that the female a computer relationships of the services and the person a\n"
          ]
        },
        {
          "output_type": "stream",
          "name": "stderr",
          "text": [
            " 49%|████▉     | 24693/50000 [03:54<03:31, 119.77it/s]"
          ]
        },
        {
          "output_type": "stream",
          "name": "stdout",
          "text": [
            "Loss: 1.3626946520805359\n"
          ]
        },
        {
          "output_type": "stream",
          "name": "stderr",
          "text": [
            "\n",
            "  0%|          | 0/200 [00:00<?, ?it/s]\u001b[A\n",
            "100%|██████████| 200/200 [00:00<00:00, 1362.83it/s]\n",
            " 49%|████▉     | 24707/50000 [03:54<04:34, 92.03it/s] "
          ]
        },
        {
          "output_type": "stream",
          "name": "stdout",
          "text": [
            " in 2016, and the total state of the state and population of a group of the provide the most called a security of the self-identified to computer led to the Cape Verde real number of the computer stati\n"
          ]
        },
        {
          "output_type": "stream",
          "name": "stderr",
          "text": [
            " 49%|████▉     | 24738/50000 [03:55<03:36, 116.44it/s]"
          ]
        },
        {
          "output_type": "stream",
          "name": "stdout",
          "text": [
            "Loss: 1.3783812046051025\n"
          ]
        },
        {
          "output_type": "stream",
          "name": "stderr",
          "text": [
            "\n",
            "  0%|          | 0/200 [00:00<?, ?it/s]\u001b[A\n",
            "100%|██████████| 200/200 [00:00<00:00, 1395.61it/s]\n",
            " 50%|████▉     | 24752/50000 [03:55<04:37, 90.83it/s] "
          ]
        },
        {
          "output_type": "stream",
          "name": "stdout",
          "text": [
            " and other produced the sources of the services of a state in the The Cape Verde is the construction of the content and the second on the state of the rail state of the state of the development of the \n"
          ]
        },
        {
          "output_type": "stream",
          "name": "stderr",
          "text": [
            " 50%|████▉     | 24784/50000 [03:55<03:35, 116.81it/s]"
          ]
        },
        {
          "output_type": "stream",
          "name": "stdout",
          "text": [
            "Loss: 1.3818476939201354\n"
          ]
        },
        {
          "output_type": "stream",
          "name": "stderr",
          "text": [
            "\n",
            "  0%|          | 0/200 [00:00<?, ?it/s]\u001b[A\n",
            "100%|██████████| 200/200 [00:00<00:00, 1464.81it/s]\n",
            " 50%|████▉     | 24800/50000 [03:55<04:27, 94.22it/s] "
          ]
        },
        {
          "output_type": "stream",
          "name": "stdout",
          "text": [
            " in an example of the result of the service of the first construction of the professional in the ancestry of the set of the seat of the company and the company of the study of the result of the United \n"
          ]
        },
        {
          "output_type": "stream",
          "name": "stderr",
          "text": [
            " 50%|████▉     | 24849/50000 [03:56<03:14, 129.33it/s]"
          ]
        },
        {
          "output_type": "stream",
          "name": "stdout",
          "text": [
            "Loss: 1.3773283624649049\n"
          ]
        },
        {
          "output_type": "stream",
          "name": "stderr",
          "text": [
            "\n",
            "  0%|          | 0/200 [00:00<?, ?it/s]\u001b[A\n",
            "100%|██████████| 200/200 [00:00<00:00, 1360.98it/s]\n"
          ]
        },
        {
          "output_type": "stream",
          "name": "stdout",
          "text": [
            " in the process of the first many of the international and end and the same and based on the control of the same of the present of the United States Commons and the traditional state and the significan\n"
          ]
        },
        {
          "output_type": "stream",
          "name": "stderr",
          "text": [
            " 50%|████▉     | 24897/50000 [03:56<03:27, 120.85it/s]"
          ]
        },
        {
          "output_type": "stream",
          "name": "stdout",
          "text": [
            "Loss: 1.3760130834579467\n"
          ]
        },
        {
          "output_type": "stream",
          "name": "stderr",
          "text": [
            "\n",
            "  0%|          | 0/200 [00:00<?, ?it/s]\u001b[A\n",
            "100%|██████████| 200/200 [00:00<00:00, 1440.50it/s]\n"
          ]
        },
        {
          "output_type": "stream",
          "name": "stdout",
          "text": [
            " and the company and the group of the control of the United States of the Line 1999, the company provide the former for the experience of the control of the total interest with the state of the service\n"
          ]
        },
        {
          "output_type": "stream",
          "name": "stderr",
          "text": [
            " 50%|████▉     | 24943/50000 [03:56<03:31, 118.35it/s]"
          ]
        },
        {
          "output_type": "stream",
          "name": "stdout",
          "text": [
            "Loss: 1.3590488839149475\n"
          ]
        },
        {
          "output_type": "stream",
          "name": "stderr",
          "text": [
            "\n",
            "  0%|          | 0/200 [00:00<?, ?it/s]\u001b[A\n",
            "100%|██████████| 200/200 [00:00<00:00, 1383.01it/s]\n",
            " 50%|████▉     | 24957/50000 [03:57<04:35, 91.02it/s] "
          ]
        },
        {
          "output_type": "stream",
          "name": "stdout",
          "text": [
            " in the services of the control of the services and the state and the prosperity of the subject of the second relationships are an experiences and an electric to a found the result of the country in th\n"
          ]
        },
        {
          "output_type": "stream",
          "name": "stderr",
          "text": [
            " 50%|████▉     | 24989/50000 [03:57<03:33, 117.04it/s]"
          ]
        },
        {
          "output_type": "stream",
          "name": "stdout",
          "text": [
            "Loss: 1.361686053276062\n"
          ]
        },
        {
          "output_type": "stream",
          "name": "stderr",
          "text": [
            "\n",
            "  0%|          | 0/200 [00:00<?, ?it/s]\u001b[A\n",
            "100%|██████████| 200/200 [00:00<00:00, 1433.10it/s]\n",
            " 50%|█████     | 25003/50000 [03:57<04:32, 91.69it/s] "
          ]
        },
        {
          "output_type": "stream",
          "name": "stdout",
          "text": [
            " and the result of the very recorded to the company and and the construction of the state and the same and production in the first service to the second on the International Record American American pr\n"
          ]
        },
        {
          "output_type": "stream",
          "name": "stderr",
          "text": [
            " 50%|█████     | 25035/50000 [03:57<03:34, 116.50it/s]"
          ]
        },
        {
          "output_type": "stream",
          "name": "stdout",
          "text": [
            "Loss: 1.3589982414245605\n"
          ]
        },
        {
          "output_type": "stream",
          "name": "stderr",
          "text": [
            "\n",
            "  0%|          | 0/200 [00:00<?, ?it/s]\u001b[A\n",
            "100%|██████████| 200/200 [00:00<00:00, 1364.98it/s]\n",
            " 50%|█████     | 25050/50000 [03:58<04:31, 91.78it/s] "
          ]
        },
        {
          "output_type": "stream",
          "name": "stdout",
          "text": [
            " and the similar services, and the state and a standard and a distributed to the state of the services and considered the state and protection of the control of the continued a line of the Cape Verde w\n"
          ]
        },
        {
          "output_type": "stream",
          "name": "stderr",
          "text": [
            " 50%|█████     | 25096/50000 [03:58<03:23, 122.63it/s]"
          ]
        },
        {
          "output_type": "stream",
          "name": "stdout",
          "text": [
            "Loss: 1.36423002243042\n"
          ]
        },
        {
          "output_type": "stream",
          "name": "stderr",
          "text": [
            "\n",
            "  0%|          | 0/200 [00:00<?, ?it/s]\u001b[A\n",
            "100%|██████████| 200/200 [00:00<00:00, 1088.96it/s]"
          ]
        },
        {
          "output_type": "stream",
          "name": "stdout",
          "text": [
            " and a provide the seat of the state of the constitutional state of the relationships of a state of the standard of the state in the United States and the total continued and the state of the analysis \n"
          ]
        },
        {
          "output_type": "stream",
          "name": "stderr",
          "text": [
            "\n",
            " 50%|█████     | 25141/50000 [03:58<03:47, 109.39it/s]"
          ]
        },
        {
          "output_type": "stream",
          "name": "stdout",
          "text": [
            "Loss: 1.3644543027877807\n"
          ]
        },
        {
          "output_type": "stream",
          "name": "stderr",
          "text": [
            "\n",
            "  0%|          | 0/200 [00:00<?, ?it/s]\u001b[A\n",
            "100%|██████████| 200/200 [00:00<00:00, 1065.76it/s]"
          ]
        },
        {
          "output_type": "stream",
          "name": "stdout",
          "text": [
            " the constructed a state and the second operations of the action of the state and process and the seats of the companies with the proposed the state of the company and the concerns and the computing an\n"
          ]
        },
        {
          "output_type": "stream",
          "name": "stderr",
          "text": [
            "\n",
            " 50%|█████     | 25199/50000 [03:59<03:38, 113.38it/s]"
          ]
        },
        {
          "output_type": "stream",
          "name": "stdout",
          "text": [
            "Loss: 1.3692413306236266\n"
          ]
        },
        {
          "output_type": "stream",
          "name": "stderr",
          "text": [
            "\n",
            "  0%|          | 0/200 [00:00<?, ?it/s]\u001b[A\n",
            "100%|██████████| 200/200 [00:00<00:00, 1107.31it/s]\n"
          ]
        },
        {
          "output_type": "stream",
          "name": "stdout",
          "text": [
            " and the largest process that the archipelago and the state of the archipelago to the provide for the same and speeds of the proposal and the state of the population of the standard and the program wit\n"
          ]
        },
        {
          "output_type": "stream",
          "name": "stderr",
          "text": [
            " 50%|█████     | 25243/50000 [03:59<03:55, 105.29it/s]"
          ]
        },
        {
          "output_type": "stream",
          "name": "stdout",
          "text": [
            "Loss: 1.3641341090202332\n"
          ]
        },
        {
          "output_type": "stream",
          "name": "stderr",
          "text": [
            "\n",
            "  0%|          | 0/200 [00:00<?, ?it/s]\u001b[A\n",
            "100%|██████████| 200/200 [00:00<00:00, 1065.21it/s]"
          ]
        },
        {
          "output_type": "stream",
          "name": "stdout",
          "text": [
            " and the computer services and provide the development of the state of the cases are a professional in the production and the product and provides the state of the action of the brands and the state of\n"
          ]
        },
        {
          "output_type": "stream",
          "name": "stderr",
          "text": [
            "\n",
            " 51%|█████     | 25285/50000 [04:00<04:06, 100.09it/s]"
          ]
        },
        {
          "output_type": "stream",
          "name": "stdout",
          "text": [
            "Loss: 1.3586806225776673\n"
          ]
        },
        {
          "output_type": "stream",
          "name": "stderr",
          "text": [
            "\n",
            "  0%|          | 0/200 [00:00<?, ?it/s]\u001b[A\n",
            "100%|██████████| 200/200 [00:00<00:00, 1129.73it/s]\n",
            " 51%|█████     | 25300/50000 [04:00<05:23, 76.36it/s] "
          ]
        },
        {
          "output_type": "stream",
          "name": "stdout",
          "text": [
            " in 2011, and the significant company in the particular services of the Cape Verde and the state of the companies and the proposed to the states and the first the state of the position for a concept of\n"
          ]
        },
        {
          "output_type": "stream",
          "name": "stderr",
          "text": [
            " 51%|█████     | 25343/50000 [04:01<03:47, 108.59it/s]"
          ]
        },
        {
          "output_type": "stream",
          "name": "stdout",
          "text": [
            "Loss: 1.3649921536445617\n"
          ]
        },
        {
          "output_type": "stream",
          "name": "stderr",
          "text": [
            "\n",
            "  0%|          | 0/200 [00:00<?, ?it/s]\u001b[A\n",
            "100%|██████████| 200/200 [00:00<00:00, 1420.10it/s]\n",
            " 51%|█████     | 25356/50000 [04:01<04:49, 85.20it/s] "
          ]
        },
        {
          "output_type": "stream",
          "name": "stdout",
          "text": [
            " and the state of the state of the most of the historic product and provide the state and the country of the product and result of the state of the total and the produced the term control in the Machin\n"
          ]
        },
        {
          "output_type": "stream",
          "name": "stderr",
          "text": [
            " 51%|█████     | 25388/50000 [04:01<03:38, 112.76it/s]"
          ]
        },
        {
          "output_type": "stream",
          "name": "stdout",
          "text": [
            "Loss: 1.3792713165283204\n"
          ]
        },
        {
          "output_type": "stream",
          "name": "stderr",
          "text": [
            "\n",
            "  0%|          | 0/200 [00:00<?, ?it/s]\u001b[A\n",
            "100%|██████████| 200/200 [00:00<00:00, 1396.54it/s]\n",
            " 51%|█████     | 25402/50000 [04:01<04:36, 89.02it/s] "
          ]
        },
        {
          "output_type": "stream",
          "name": "stdout",
          "text": [
            " the results of the production of the control of services and research and new services of operations and a process of the original state of the area, and the state of the proposed as a special state o\n"
          ]
        },
        {
          "output_type": "stream",
          "name": "stderr",
          "text": [
            " 51%|█████     | 25435/50000 [04:01<03:30, 116.78it/s]"
          ]
        },
        {
          "output_type": "stream",
          "name": "stdout",
          "text": [
            "Loss: 1.3537586402893067\n"
          ]
        },
        {
          "output_type": "stream",
          "name": "stderr",
          "text": [
            "\n",
            "  0%|          | 0/200 [00:00<?, ?it/s]\u001b[A\n",
            "100%|██████████| 200/200 [00:00<00:00, 1255.36it/s]\n",
            " 51%|█████     | 25450/50000 [04:02<04:33, 89.74it/s] "
          ]
        },
        {
          "output_type": "stream",
          "name": "stdout",
          "text": [
            " and the higher in the station of the Northeast Commons were also a provides a secrete the standard in the United States and the process of the second of the transportation of the state is a protect th\n"
          ]
        },
        {
          "output_type": "stream",
          "name": "stderr",
          "text": [
            " 51%|█████     | 25496/50000 [04:02<03:19, 123.09it/s]"
          ]
        },
        {
          "output_type": "stream",
          "name": "stdout",
          "text": [
            "Loss: 1.3638708114624023\n"
          ]
        },
        {
          "output_type": "stream",
          "name": "stderr",
          "text": [
            "\n",
            "  0%|          | 0/200 [00:00<?, ?it/s]\u001b[A\n",
            "100%|██████████| 200/200 [00:00<00:00, 1396.26it/s]\n"
          ]
        },
        {
          "output_type": "stream",
          "name": "stdout",
          "text": [
            " and the island of the second in the computer state of the company and other has a secondary improve the problem is a formal state and and provide the state and one of the control of the result of the \n"
          ]
        },
        {
          "output_type": "stream",
          "name": "stderr",
          "text": [
            " 51%|█████     | 25542/50000 [04:03<03:25, 119.04it/s]"
          ]
        },
        {
          "output_type": "stream",
          "name": "stdout",
          "text": [
            "Loss: 1.366221568584442\n"
          ]
        },
        {
          "output_type": "stream",
          "name": "stderr",
          "text": [
            "\n",
            "  0%|          | 0/200 [00:00<?, ?it/s]\u001b[A\n",
            "100%|██████████| 200/200 [00:00<00:00, 1328.60it/s]\n",
            " 51%|█████     | 25556/50000 [04:03<04:29, 90.76it/s] "
          ]
        },
        {
          "output_type": "stream",
          "name": "stdout",
          "text": [
            " and the state of the US century of the first product of the describe the archipelago are the discoveries of the construction of the problems to the content of the Internet and the Standard Company Cap\n"
          ]
        },
        {
          "output_type": "stream",
          "name": "stderr",
          "text": [
            " 51%|█████     | 25588/50000 [04:03<03:30, 116.03it/s]"
          ]
        },
        {
          "output_type": "stream",
          "name": "stdout",
          "text": [
            "Loss: 1.3560189366340638\n"
          ]
        },
        {
          "output_type": "stream",
          "name": "stderr",
          "text": [
            "\n",
            "  0%|          | 0/200 [00:00<?, ?it/s]\u001b[A\n",
            "100%|██████████| 200/200 [00:00<00:00, 1289.94it/s]\n",
            " 51%|█████     | 25602/50000 [04:03<04:34, 88.80it/s] "
          ]
        },
        {
          "output_type": "stream",
          "name": "stdout",
          "text": [
            " the state and the local network and a states that a similar to the trains and the trains of the result of the total control of social networking services in the country of the state and the state and \n"
          ]
        },
        {
          "output_type": "stream",
          "name": "stderr",
          "text": [
            " 51%|█████▏    | 25634/50000 [04:03<03:32, 114.83it/s]"
          ]
        },
        {
          "output_type": "stream",
          "name": "stdout",
          "text": [
            "Loss: 1.3674380469322205\n"
          ]
        },
        {
          "output_type": "stream",
          "name": "stderr",
          "text": [
            "\n",
            "  0%|          | 0/200 [00:00<?, ?it/s]\u001b[A\n",
            "100%|██████████| 200/200 [00:00<00:00, 1391.28it/s]\n",
            " 51%|█████▏    | 25650/50000 [04:04<04:25, 91.79it/s] "
          ]
        },
        {
          "output_type": "stream",
          "name": "stdout",
          "text": [
            " and the community and the most train of the common and interaction of a company of the United States of the train of the Chinese Sarnath and the services and the company of the that the term and the s\n"
          ]
        },
        {
          "output_type": "stream",
          "name": "stderr",
          "text": [
            " 51%|█████▏    | 25697/50000 [04:04<03:14, 125.25it/s]"
          ]
        },
        {
          "output_type": "stream",
          "name": "stdout",
          "text": [
            "Loss: 1.3684959936141967\n"
          ]
        },
        {
          "output_type": "stream",
          "name": "stderr",
          "text": [
            "\n",
            "  0%|          | 0/200 [00:00<?, ?it/s]\u001b[A\n",
            "100%|██████████| 200/200 [00:00<00:00, 1468.38it/s]\n"
          ]
        },
        {
          "output_type": "stream",
          "name": "stdout",
          "text": [
            " and the state and the article in the national state of the second all has been a product of the programmes that the common and provides a production of the first significant and and areas of the contr\n"
          ]
        },
        {
          "output_type": "stream",
          "name": "stderr",
          "text": [
            " 51%|█████▏    | 25746/50000 [04:04<03:17, 122.72it/s]"
          ]
        },
        {
          "output_type": "stream",
          "name": "stdout",
          "text": [
            "Loss: 1.3620975089073182\n"
          ]
        },
        {
          "output_type": "stream",
          "name": "stderr",
          "text": [
            "\n",
            "  0%|          | 0/200 [00:00<?, ?it/s]\u001b[A\n",
            "100%|██████████| 200/200 [00:00<00:00, 1381.58it/s]\n"
          ]
        },
        {
          "output_type": "stream",
          "name": "stdout",
          "text": [
            " and the traditional process of the end of the computers and the company and an international state and interest in the United States in the United States to the Seoul and Indian Americans for the comm\n"
          ]
        },
        {
          "output_type": "stream",
          "name": "stderr",
          "text": [
            " 52%|█████▏    | 25792/50000 [04:05<03:23, 118.85it/s]"
          ]
        },
        {
          "output_type": "stream",
          "name": "stdout",
          "text": [
            "Loss: 1.3619620156288148\n"
          ]
        },
        {
          "output_type": "stream",
          "name": "stderr",
          "text": [
            "\n",
            "  0%|          | 0/200 [00:00<?, ?it/s]\u001b[A\n",
            "100%|██████████| 200/200 [00:00<00:00, 1391.86it/s]\n",
            " 52%|█████▏    | 25806/50000 [04:05<04:23, 91.66it/s] "
          ]
        },
        {
          "output_type": "stream",
          "name": "stdout",
          "text": [
            " and the designed the article of the southern continued that the production of the set of find the last of the transportation of the time in the second standards and the commenced to the United States \n"
          ]
        },
        {
          "output_type": "stream",
          "name": "stderr",
          "text": [
            " 52%|█████▏    | 25839/50000 [04:05<03:24, 118.33it/s]"
          ]
        },
        {
          "output_type": "stream",
          "name": "stdout",
          "text": [
            "Loss: 1.3566769742965699\n"
          ]
        },
        {
          "output_type": "stream",
          "name": "stderr",
          "text": [
            "\n",
            "  0%|          | 0/200 [00:00<?, ?it/s]\u001b[A\n",
            "100%|██████████| 200/200 [00:00<00:00, 1394.53it/s]\n",
            " 52%|█████▏    | 25853/50000 [04:06<04:21, 92.24it/s] "
          ]
        },
        {
          "output_type": "stream",
          "name": "stdout",
          "text": [
            " and all a software in the process of the result of a control in the control of the second all of the process control of the process and the control and many can be result of the production of the orig\n"
          ]
        },
        {
          "output_type": "stream",
          "name": "stderr",
          "text": [
            " 52%|█████▏    | 25885/50000 [04:06<03:24, 118.06it/s]"
          ]
        },
        {
          "output_type": "stream",
          "name": "stdout",
          "text": [
            "Loss: 1.3720022892951966\n"
          ]
        },
        {
          "output_type": "stream",
          "name": "stderr",
          "text": [
            "\n",
            "  0%|          | 0/200 [00:00<?, ?it/s]\u001b[A\n",
            "100%|██████████| 200/200 [00:00<00:00, 1199.64it/s]\n",
            " 52%|█████▏    | 25900/50000 [04:06<04:33, 87.98it/s] "
          ]
        },
        {
          "output_type": "stream",
          "name": "stdout",
          "text": [
            " transportation and the result and a final and the state to the standards of the promote the population of the based in the company and the second station to the city of the product and and and one of \n"
          ]
        },
        {
          "output_type": "stream",
          "name": "stderr",
          "text": [
            " 52%|█████▏    | 25948/50000 [04:06<03:13, 123.99it/s]"
          ]
        },
        {
          "output_type": "stream",
          "name": "stdout",
          "text": [
            "Loss: 1.3720451426506042\n"
          ]
        },
        {
          "output_type": "stream",
          "name": "stderr",
          "text": [
            "\n",
            "  0%|          | 0/200 [00:00<?, ?it/s]\u001b[A\n",
            "100%|██████████| 200/200 [00:00<00:00, 1378.64it/s]\n"
          ]
        },
        {
          "output_type": "stream",
          "name": "stdout",
          "text": [
            " and the standard and even the company and computer state of the state of the term and response that the term and social networking and the company of the first or community of the production of a serv\n"
          ]
        },
        {
          "output_type": "stream",
          "name": "stderr",
          "text": [
            " 52%|█████▏    | 25996/50000 [04:07<03:21, 119.37it/s]"
          ]
        },
        {
          "output_type": "stream",
          "name": "stdout",
          "text": [
            "Loss: 1.3659340667724609\n"
          ]
        },
        {
          "output_type": "stream",
          "name": "stderr",
          "text": [
            "\n",
            "  0%|          | 0/200 [00:00<?, ?it/s]\u001b[A\n",
            "100%|██████████| 200/200 [00:00<00:00, 1295.90it/s]\n"
          ]
        },
        {
          "output_type": "stream",
          "name": "stdout",
          "text": [
            " and the content and satisfy the state of the second construction in the professional and the population and the services of the first mathematicians of the southern and response to control of the stan\n"
          ]
        },
        {
          "output_type": "stream",
          "name": "stderr",
          "text": [
            " 52%|█████▏    | 26042/50000 [04:07<03:24, 116.87it/s]"
          ]
        },
        {
          "output_type": "stream",
          "name": "stdout",
          "text": [
            "Loss: 1.3729305338859559\n"
          ]
        },
        {
          "output_type": "stream",
          "name": "stderr",
          "text": [
            "\n",
            "  0%|          | 0/200 [00:00<?, ?it/s]\u001b[A\n",
            "100%|██████████| 200/200 [00:00<00:00, 1431.88it/s]\n",
            " 52%|█████▏    | 26056/50000 [04:08<04:20, 91.80it/s] "
          ]
        },
        {
          "output_type": "stream",
          "name": "stdout",
          "text": [
            " in American and an and the containers in the United States of the Cape Verde and the state of the Cape Verde and the activities and include the population of the commercial computer services and the f\n"
          ]
        },
        {
          "output_type": "stream",
          "name": "stderr",
          "text": [
            " 52%|█████▏    | 26089/50000 [04:08<03:21, 118.51it/s]"
          ]
        },
        {
          "output_type": "stream",
          "name": "stdout",
          "text": [
            "Loss: 1.3740862655639647\n"
          ]
        },
        {
          "output_type": "stream",
          "name": "stderr",
          "text": [
            "\n",
            "  0%|          | 0/200 [00:00<?, ?it/s]\u001b[A\n",
            "100%|██████████| 200/200 [00:00<00:00, 1196.00it/s]\n",
            " 52%|█████▏    | 26103/50000 [04:08<04:30, 88.25it/s] "
          ]
        },
        {
          "output_type": "stream",
          "name": "stdout",
          "text": [
            " and the recommended in 2008 and is a professionals and second and in the state of the group of the standard and community and the designation of the state of the services of the term and the problems \n"
          ]
        },
        {
          "output_type": "stream",
          "name": "stderr",
          "text": [
            " 52%|█████▏    | 26136/50000 [04:08<03:25, 115.97it/s]"
          ]
        },
        {
          "output_type": "stream",
          "name": "stdout",
          "text": [
            "Loss: 1.3749521708488464\n"
          ]
        },
        {
          "output_type": "stream",
          "name": "stderr",
          "text": [
            "\n",
            "  0%|          | 0/200 [00:00<?, ?it/s]\u001b[A\n",
            "100%|██████████| 200/200 [00:00<00:00, 1469.90it/s]\n",
            " 52%|█████▏    | 26150/50000 [04:08<04:17, 92.58it/s] "
          ]
        },
        {
          "output_type": "stream",
          "name": "stdout",
          "text": [
            " and social networking provide computer standards such as the state and social networking state of the state of the process of the United States in the United States in the United States are also been \n"
          ]
        },
        {
          "output_type": "stream",
          "name": "stderr",
          "text": [
            " 52%|█████▏    | 26198/50000 [04:09<03:05, 128.01it/s]"
          ]
        },
        {
          "output_type": "stream",
          "name": "stdout",
          "text": [
            "Loss: 1.3637077951431273\n"
          ]
        },
        {
          "output_type": "stream",
          "name": "stderr",
          "text": [
            "\n",
            "  0%|          | 0/200 [00:00<?, ?it/s]\u001b[A\n",
            "100%|██████████| 200/200 [00:00<00:00, 1355.29it/s]\n"
          ]
        },
        {
          "output_type": "stream",
          "name": "stdout",
          "text": [
            " in 1975, the International College of the Railway Mathematics and the Muser of an and the set of the active and represented by the state of the term in the state and the areas of the proposed and the \n"
          ]
        },
        {
          "output_type": "stream",
          "name": "stderr",
          "text": [
            " 52%|█████▏    | 26246/50000 [04:09<03:17, 120.22it/s]"
          ]
        },
        {
          "output_type": "stream",
          "name": "stdout",
          "text": [
            "Loss: 1.379553198814392\n"
          ]
        },
        {
          "output_type": "stream",
          "name": "stderr",
          "text": [
            "\n",
            "  0%|          | 0/200 [00:00<?, ?it/s]\u001b[A\n",
            "100%|██████████| 200/200 [00:00<00:00, 1387.10it/s]\n"
          ]
        },
        {
          "output_type": "stream",
          "name": "stdout",
          "text": [
            " the promoted the state and the majority of the company and control of the relationships of the computer services and an international state of the research and access to a state of the Portuguese for \n"
          ]
        },
        {
          "output_type": "stream",
          "name": "stderr",
          "text": [
            " 53%|█████▎    | 26292/50000 [04:10<03:21, 117.87it/s]"
          ]
        },
        {
          "output_type": "stream",
          "name": "stdout",
          "text": [
            "Loss: 1.3684788870811462\n"
          ]
        },
        {
          "output_type": "stream",
          "name": "stderr",
          "text": [
            "\n",
            "  0%|          | 0/200 [00:00<?, ?it/s]\u001b[A\n",
            "100%|██████████| 200/200 [00:00<00:00, 1404.88it/s]\n",
            " 53%|█████▎    | 26306/50000 [04:10<04:18, 91.82it/s] "
          ]
        },
        {
          "output_type": "stream",
          "name": "stdout",
          "text": [
            " and international control of from the production of the state of the first produced the experiences and proposed a companies with the control of the end to the result of the production of the design w\n"
          ]
        },
        {
          "output_type": "stream",
          "name": "stderr",
          "text": [
            " 53%|█████▎    | 26338/50000 [04:10<03:22, 116.65it/s]"
          ]
        },
        {
          "output_type": "stream",
          "name": "stdout",
          "text": [
            "Loss: 1.3704998230934142\n"
          ]
        },
        {
          "output_type": "stream",
          "name": "stderr",
          "text": [
            "\n",
            "  0%|          | 0/200 [00:00<?, ?it/s]\u001b[A\n",
            "100%|██████████| 200/200 [00:00<00:00, 1388.24it/s]\n",
            " 53%|█████▎    | 26352/50000 [04:10<04:19, 91.10it/s] "
          ]
        },
        {
          "output_type": "stream",
          "name": "stdout",
          "text": [
            " and the control of the standard and international sources of the architecture and the new computer services in the original studies and a number of the state and the argued the result to the construct\n"
          ]
        },
        {
          "output_type": "stream",
          "name": "stderr",
          "text": [
            " 53%|█████▎    | 26384/50000 [04:11<03:21, 117.20it/s]"
          ]
        },
        {
          "output_type": "stream",
          "name": "stdout",
          "text": [
            "Loss: 1.365747561454773\n"
          ]
        },
        {
          "output_type": "stream",
          "name": "stderr",
          "text": [
            "\n",
            "  0%|          | 0/200 [00:00<?, ?it/s]\u001b[A\n",
            "100%|██████████| 200/200 [00:00<00:00, 1277.44it/s]\n",
            " 53%|█████▎    | 26400/50000 [04:11<04:23, 89.63it/s] "
          ]
        },
        {
          "output_type": "stream",
          "name": "stdout",
          "text": [
            " and the state and and the service to the Sarnath of the first participating the state in the United States and the considered the transformation of the Victorian American American and Santiago and the\n"
          ]
        },
        {
          "output_type": "stream",
          "name": "stderr",
          "text": [
            " 53%|█████▎    | 26444/50000 [04:11<03:21, 116.79it/s]"
          ]
        },
        {
          "output_type": "stream",
          "name": "stdout",
          "text": [
            "Loss: 1.386631555557251\n"
          ]
        },
        {
          "output_type": "stream",
          "name": "stderr",
          "text": [
            "\n",
            "  0%|          | 0/200 [00:00<?, ?it/s]\u001b[A\n",
            "100%|██████████| 200/200 [00:00<00:00, 1270.86it/s]"
          ]
        },
        {
          "output_type": "stream",
          "name": "stdout",
          "text": [
            " the production of the state of the standards the computer state of the article of the control of the former state and the standard and and complete the computer standard of the control of the guidelin\n"
          ]
        },
        {
          "output_type": "stream",
          "name": "stderr",
          "text": [
            "\n",
            " 53%|█████▎    | 26489/50000 [04:12<03:31, 111.35it/s]"
          ]
        },
        {
          "output_type": "stream",
          "name": "stdout",
          "text": [
            "Loss: 1.3675141763687133\n"
          ]
        },
        {
          "output_type": "stream",
          "name": "stderr",
          "text": [
            "\n",
            "  0%|          | 0/200 [00:00<?, ?it/s]\u001b[A\n",
            "100%|██████████| 200/200 [00:00<00:00, 1314.44it/s]\n",
            " 53%|█████▎    | 26502/50000 [04:12<04:33, 85.97it/s] "
          ]
        },
        {
          "output_type": "stream",
          "name": "stdout",
          "text": [
            " to the state to the Northern Railway Railway Railway Station of the Chancelling and England Station of the 1990s and the state and the companies of the same and many of the set of the most more than 1\n"
          ]
        },
        {
          "output_type": "stream",
          "name": "stderr",
          "text": [
            " 53%|█████▎    | 26545/50000 [04:12<03:24, 114.68it/s]"
          ]
        },
        {
          "output_type": "stream",
          "name": "stdout",
          "text": [
            "Loss: 1.3832471227645875\n"
          ]
        },
        {
          "output_type": "stream",
          "name": "stderr",
          "text": [
            "\n",
            "  0%|          | 0/200 [00:00<?, ?it/s]\u001b[A\n",
            "100%|██████████| 200/200 [00:00<00:00, 1413.54it/s]\n",
            " 53%|█████▎    | 26558/50000 [04:12<04:25, 88.32it/s] "
          ]
        },
        {
          "output_type": "stream",
          "name": "stdout",
          "text": [
            " in the computer standard and the proposed to the company of the company of the control of an existing and only a number of state and an experts to make the community and the first and part of the seco\n"
          ]
        },
        {
          "output_type": "stream",
          "name": "stderr",
          "text": [
            " 53%|█████▎    | 26589/50000 [04:13<03:26, 113.21it/s]"
          ]
        },
        {
          "output_type": "stream",
          "name": "stdout",
          "text": [
            "Loss: 1.3816790723800658\n"
          ]
        },
        {
          "output_type": "stream",
          "name": "stderr",
          "text": [
            "\n",
            "  0%|          | 0/200 [00:00<?, ?it/s]\u001b[A\n",
            "100%|██████████| 200/200 [00:00<00:00, 1094.03it/s]"
          ]
        },
        {
          "output_type": "stream",
          "name": "stdout",
          "text": [
            " and the responsible to a possible to the state and many of the comparison and a services, and discovered that the second products and the first services of the product of the second computer site and \n"
          ]
        },
        {
          "output_type": "stream",
          "name": "stderr",
          "text": [
            "\n",
            " 53%|█████▎    | 26645/50000 [04:13<03:29, 111.53it/s]"
          ]
        },
        {
          "output_type": "stream",
          "name": "stdout",
          "text": [
            "Loss: 1.360128948688507\n"
          ]
        },
        {
          "output_type": "stream",
          "name": "stderr",
          "text": [
            "\n",
            "  0%|          | 0/200 [00:00<?, ?it/s]\u001b[A\n",
            "100%|██████████| 200/200 [00:00<00:00, 1055.87it/s]"
          ]
        },
        {
          "output_type": "stream",
          "name": "stdout",
          "text": [
            " in the project and individual and the stations of the constitutional and products in the common services. A subsequently and became a computer company of the subset the service of the common and inter\n"
          ]
        },
        {
          "output_type": "stream",
          "name": "stderr",
          "text": [
            "\n",
            " 53%|█████▎    | 26687/50000 [04:14<03:51, 100.55it/s]"
          ]
        },
        {
          "output_type": "stream",
          "name": "stdout",
          "text": [
            "Loss: 1.354424991607666\n"
          ]
        },
        {
          "output_type": "stream",
          "name": "stderr",
          "text": [
            "\n",
            "  0%|          | 0/200 [00:00<?, ?it/s]\u001b[A\n",
            "100%|██████████| 200/200 [00:00<00:00, 1209.28it/s]\n",
            " 53%|█████▎    | 26700/50000 [04:14<05:03, 76.66it/s] "
          ]
        },
        {
          "output_type": "stream",
          "name": "stdout",
          "text": [
            " the companies of the Cape Verde of the process and products and the state of the control of the control of the company represented that the state and the second the production of the archipelago and t\n"
          ]
        },
        {
          "output_type": "stream",
          "name": "stderr",
          "text": [
            " 53%|█████▎    | 26748/50000 [04:14<03:17, 118.03it/s]"
          ]
        },
        {
          "output_type": "stream",
          "name": "stdout",
          "text": [
            "Loss: 1.3774828147888183\n"
          ]
        },
        {
          "output_type": "stream",
          "name": "stderr",
          "text": [
            "\n",
            "  0%|          | 0/200 [00:00<?, ?it/s]\u001b[A\n",
            "100%|██████████| 200/200 [00:00<00:00, 1432.95it/s]\n"
          ]
        },
        {
          "output_type": "stream",
          "name": "stdout",
          "text": [
            " and a common are computer standard of the most of the expression of the control of the second the companies and the first production of the process of the country of the problems and the production of\n"
          ]
        },
        {
          "output_type": "stream",
          "name": "stderr",
          "text": [
            " 54%|█████▎    | 26795/50000 [04:15<03:15, 118.46it/s]"
          ]
        },
        {
          "output_type": "stream",
          "name": "stdout",
          "text": [
            "Loss: 1.3698900485038756\n"
          ]
        },
        {
          "output_type": "stream",
          "name": "stderr",
          "text": [
            "\n",
            "  0%|          | 0/200 [00:00<?, ?it/s]\u001b[A\n",
            "100%|██████████| 200/200 [00:00<00:00, 1417.57it/s]\n"
          ]
        },
        {
          "output_type": "stream",
          "name": "stdout",
          "text": [
            " in a final standards and state of the control of the archipelago and interest to the majority of the vote of a construction of the original source of the United States from the standard of the compute\n"
          ]
        },
        {
          "output_type": "stream",
          "name": "stderr",
          "text": [
            " 54%|█████▎    | 26841/50000 [04:15<03:18, 116.64it/s]"
          ]
        },
        {
          "output_type": "stream",
          "name": "stdout",
          "text": [
            "Loss: 1.3650488543510437\n"
          ]
        },
        {
          "output_type": "stream",
          "name": "stderr",
          "text": [
            "\n",
            "  0%|          | 0/200 [00:00<?, ?it/s]\u001b[A\n",
            "100%|██████████| 200/200 [00:00<00:00, 1422.62it/s]\n",
            " 54%|█████▎    | 26855/50000 [04:15<04:15, 90.44it/s] "
          ]
        },
        {
          "output_type": "stream",
          "name": "stdout",
          "text": [
            " and additional proposed to the form to organizations and the complex and and the company of the advanced the states and the consists of a second set of the company and the substance of the companies a\n"
          ]
        },
        {
          "output_type": "stream",
          "name": "stderr",
          "text": [
            " 54%|█████▍    | 26887/50000 [04:16<03:18, 116.64it/s]"
          ]
        },
        {
          "output_type": "stream",
          "name": "stdout",
          "text": [
            "Loss: 1.3686857962608336\n"
          ]
        },
        {
          "output_type": "stream",
          "name": "stderr",
          "text": [
            "\n",
            "  0%|          | 0/200 [00:00<?, ?it/s]\u001b[A\n",
            "100%|██████████| 200/200 [00:00<00:00, 1362.96it/s]\n",
            " 54%|█████▍    | 26901/50000 [04:16<04:14, 90.68it/s] "
          ]
        },
        {
          "output_type": "stream",
          "name": "stdout",
          "text": [
            " in 2010, the Cape Verde was a standard in the result of the state in the company and the provided a company and the number of the state of the archipelago and the most considered the southern companie\n"
          ]
        },
        {
          "output_type": "stream",
          "name": "stderr",
          "text": [
            " 54%|█████▍    | 26948/50000 [04:16<03:02, 125.98it/s]"
          ]
        },
        {
          "output_type": "stream",
          "name": "stdout",
          "text": [
            "Loss: 1.3641858506202698\n"
          ]
        },
        {
          "output_type": "stream",
          "name": "stderr",
          "text": [
            "\n",
            "  0%|          | 0/200 [00:00<?, ?it/s]\u001b[A\n",
            "100%|██████████| 200/200 [00:00<00:00, 1281.12it/s]\n"
          ]
        },
        {
          "output_type": "stream",
          "name": "stdout",
          "text": [
            " the company and particular called the international state of the term services in the 19th century the archipelago and the branches and the proposed to the area of the distribution of the activities a\n"
          ]
        },
        {
          "output_type": "stream",
          "name": "stderr",
          "text": [
            " 54%|█████▍    | 26996/50000 [04:17<03:14, 118.37it/s]"
          ]
        },
        {
          "output_type": "stream",
          "name": "stdout",
          "text": [
            "Loss: 1.366001501083374\n"
          ]
        },
        {
          "output_type": "stream",
          "name": "stderr",
          "text": [
            "\n",
            "  0%|          | 0/200 [00:00<?, ?it/s]\u001b[A\n",
            "100%|██████████| 200/200 [00:00<00:00, 1434.99it/s]\n"
          ]
        },
        {
          "output_type": "stream",
          "name": "stdout",
          "text": [
            " is an extensive to the computer state in the 1970s, which is a production of the house the first production and the problem to the constitutional services of the same and an experience of the country \n"
          ]
        },
        {
          "output_type": "stream",
          "name": "stderr",
          "text": [
            " 54%|█████▍    | 27042/50000 [04:17<03:15, 117.39it/s]"
          ]
        },
        {
          "output_type": "stream",
          "name": "stdout",
          "text": [
            "Loss: 1.367660162448883\n"
          ]
        },
        {
          "output_type": "stream",
          "name": "stderr",
          "text": [
            "\n",
            "  0%|          | 0/200 [00:00<?, ?it/s]\u001b[A\n",
            "100%|██████████| 200/200 [00:00<00:00, 1321.66it/s]\n",
            " 54%|█████▍    | 27056/50000 [04:17<04:13, 90.42it/s] "
          ]
        },
        {
          "output_type": "stream",
          "name": "stdout",
          "text": [
            " and the most service of an instruction of the subset the state of the term development of the state of the promoted the transit designed to be a state and many set of presented the services in the Uni\n"
          ]
        },
        {
          "output_type": "stream",
          "name": "stderr",
          "text": [
            " 54%|█████▍    | 27088/50000 [04:18<03:16, 116.69it/s]"
          ]
        },
        {
          "output_type": "stream",
          "name": "stdout",
          "text": [
            "Loss: 1.3819019150733949\n"
          ]
        },
        {
          "output_type": "stream",
          "name": "stderr",
          "text": [
            "\n",
            "  0%|          | 0/200 [00:00<?, ?it/s]\u001b[A\n",
            "100%|██████████| 200/200 [00:00<00:00, 1408.88it/s]\n",
            " 54%|█████▍    | 27102/50000 [04:18<04:10, 91.42it/s] "
          ]
        },
        {
          "output_type": "stream",
          "name": "stdout",
          "text": [
            " and in the result the southern the local provide a services and the communities and control is a person of the standard and the production of the state of the common and international and of the state\n"
          ]
        },
        {
          "output_type": "stream",
          "name": "stderr",
          "text": [
            " 54%|█████▍    | 27134/50000 [04:18<03:15, 117.18it/s]"
          ]
        },
        {
          "output_type": "stream",
          "name": "stdout",
          "text": [
            "Loss: 1.358470847606659\n"
          ]
        },
        {
          "output_type": "stream",
          "name": "stderr",
          "text": [
            "\n",
            "  0%|          | 0/200 [00:00<?, ?it/s]\u001b[A\n",
            "100%|██████████| 200/200 [00:00<00:00, 1422.20it/s]\n",
            " 54%|█████▍    | 27150/50000 [04:18<04:03, 93.76it/s] "
          ]
        },
        {
          "output_type": "stream",
          "name": "stdout",
          "text": [
            " and a production of the compared to the organization of the country and the communication of the state and a sense of the consists of the most international present to the other international and acti\n"
          ]
        },
        {
          "output_type": "stream",
          "name": "stderr",
          "text": [
            " 54%|█████▍    | 27198/50000 [04:19<02:58, 127.90it/s]"
          ]
        },
        {
          "output_type": "stream",
          "name": "stdout",
          "text": [
            "Loss: 1.3815327262878419\n"
          ]
        },
        {
          "output_type": "stream",
          "name": "stderr",
          "text": [
            "\n",
            "  0%|          | 0/200 [00:00<?, ?it/s]\u001b[A\n",
            "100%|██████████| 200/200 [00:00<00:00, 1433.31it/s]\n"
          ]
        },
        {
          "output_type": "stream",
          "name": "stdout",
          "text": [
            " in and the commercial contained the group of the sense of the computer services and the protection of the state of the particularly as a proposed to the state in the United States of the Cape Verde wa\n"
          ]
        },
        {
          "output_type": "stream",
          "name": "stderr",
          "text": [
            " 54%|█████▍    | 27245/50000 [04:19<03:09, 120.32it/s]"
          ]
        },
        {
          "output_type": "stream",
          "name": "stdout",
          "text": [
            "Loss: 1.3774230980873108\n"
          ]
        },
        {
          "output_type": "stream",
          "name": "stderr",
          "text": [
            "\n",
            "  0%|          | 0/200 [00:00<?, ?it/s]\u001b[A\n",
            "100%|██████████| 200/200 [00:00<00:00, 1335.91it/s]\n"
          ]
        },
        {
          "output_type": "stream",
          "name": "stdout",
          "text": [
            " and the protection of the proposed and was a primarily in the definition and account of the product of the accounts to the term of the computers and the provide standard is the number of the state of \n"
          ]
        },
        {
          "output_type": "stream",
          "name": "stderr",
          "text": [
            " 55%|█████▍    | 27291/50000 [04:19<03:13, 117.24it/s]"
          ]
        },
        {
          "output_type": "stream",
          "name": "stdout",
          "text": [
            "Loss: 1.3640544080734254\n"
          ]
        },
        {
          "output_type": "stream",
          "name": "stderr",
          "text": [
            "\n",
            "  0%|          | 0/200 [00:00<?, ?it/s]\u001b[A\n",
            "100%|██████████| 200/200 [00:00<00:00, 1474.97it/s]\n",
            " 55%|█████▍    | 27305/50000 [04:20<04:05, 92.30it/s] "
          ]
        },
        {
          "output_type": "stream",
          "name": "stdout",
          "text": [
            " to 200 kmh 100 mph 100 mph 150 mph 100 mph 130 mph 120 mph 100 mph 120 mph 150 mph 100 mph 125 mph 120 mph 160 mph 170 mph 100 mph 100 mph 100 mph 140 mph 100 mph 13 million of the country of the cons\n"
          ]
        },
        {
          "output_type": "stream",
          "name": "stderr",
          "text": [
            " 55%|█████▍    | 27337/50000 [04:20<03:12, 117.65it/s]"
          ]
        },
        {
          "output_type": "stream",
          "name": "stdout",
          "text": [
            "Loss: 1.379927179813385\n"
          ]
        },
        {
          "output_type": "stream",
          "name": "stderr",
          "text": [
            "\n",
            "  0%|          | 0/200 [00:00<?, ?it/s]\u001b[A\n",
            "100%|██████████| 200/200 [00:00<00:00, 1387.99it/s]\n",
            " 55%|█████▍    | 27351/50000 [04:20<04:09, 90.92it/s] "
          ]
        },
        {
          "output_type": "stream",
          "name": "stdout",
          "text": [
            " in social networking experience and the program that the seats of the particularly the programs with the company and state of the real compared to the many of the March 2014. The construction of the S\n"
          ]
        },
        {
          "output_type": "stream",
          "name": "stderr",
          "text": [
            " 55%|█████▍    | 27399/50000 [04:20<02:59, 126.06it/s]"
          ]
        },
        {
          "output_type": "stream",
          "name": "stdout",
          "text": [
            "Loss: 1.3747212290763855\n"
          ]
        },
        {
          "output_type": "stream",
          "name": "stderr",
          "text": [
            "\n",
            "  0%|          | 0/200 [00:00<?, ?it/s]\u001b[A\n",
            "100%|██████████| 200/200 [00:00<00:00, 1405.05it/s]\n"
          ]
        },
        {
          "output_type": "stream",
          "name": "stdout",
          "text": [
            " and a standards and social networking significant and activities in the United States in the United States of the Cape Verde and the state of the communication of the set to the community of the top s\n"
          ]
        },
        {
          "output_type": "stream",
          "name": "stderr",
          "text": [
            " 55%|█████▍    | 27448/50000 [04:21<03:05, 121.85it/s]"
          ]
        },
        {
          "output_type": "stream",
          "name": "stdout",
          "text": [
            "Loss: 1.3697458267211915\n"
          ]
        },
        {
          "output_type": "stream",
          "name": "stderr",
          "text": [
            "\n",
            "  0%|          | 0/200 [00:00<?, ?it/s]\u001b[A\n",
            "100%|██████████| 200/200 [00:00<00:00, 1265.31it/s]\n"
          ]
        },
        {
          "output_type": "stream",
          "name": "stdout",
          "text": [
            " and the translation of the content of the control of the trains and international services with the process of the professional services of the United States that is the former state and an internatio\n"
          ]
        },
        {
          "output_type": "stream",
          "name": "stderr",
          "text": [
            " 55%|█████▍    | 27494/50000 [04:21<03:12, 116.66it/s]"
          ]
        },
        {
          "output_type": "stream",
          "name": "stdout",
          "text": [
            "Loss: 1.361967487335205\n"
          ]
        },
        {
          "output_type": "stream",
          "name": "stderr",
          "text": [
            "\n",
            "  0%|          | 0/200 [00:00<?, ?it/s]\u001b[A\n",
            "100%|██████████| 200/200 [00:00<00:00, 1350.29it/s]\n"
          ]
        },
        {
          "output_type": "stream",
          "name": "stdout",
          "text": [
            " and the standard the seats of the recent to the activities in the response that the state of the state and the first because the state and seats and one of the same on the last the community and an in\n"
          ]
        },
        {
          "output_type": "stream",
          "name": "stderr",
          "text": [
            " 55%|█████▌    | 27540/50000 [04:22<03:13, 115.88it/s]"
          ]
        },
        {
          "output_type": "stream",
          "name": "stdout",
          "text": [
            "Loss: 1.3612216567993165\n"
          ]
        },
        {
          "output_type": "stream",
          "name": "stderr",
          "text": [
            "\n",
            "  0%|          | 0/200 [00:00<?, ?it/s]\u001b[A\n",
            "100%|██████████| 200/200 [00:00<00:00, 1306.00it/s]\n",
            " 55%|█████▌    | 27554/50000 [04:22<04:12, 89.03it/s] "
          ]
        },
        {
          "output_type": "stream",
          "name": "stdout",
          "text": [
            " and international service of the standard describe an employed as the services, in the state of the communication of the state and the design in the United States of the United States in the United St\n"
          ]
        },
        {
          "output_type": "stream",
          "name": "stderr",
          "text": [
            " 55%|█████▌    | 27586/50000 [04:22<03:14, 115.04it/s]"
          ]
        },
        {
          "output_type": "stream",
          "name": "stdout",
          "text": [
            "Loss: 1.36387770652771\n"
          ]
        },
        {
          "output_type": "stream",
          "name": "stderr",
          "text": [
            "\n",
            "  0%|          | 0/200 [00:00<?, ?it/s]\u001b[A\n",
            "100%|██████████| 200/200 [00:00<00:00, 1297.87it/s]\n",
            " 55%|█████▌    | 27600/50000 [04:23<04:11, 88.98it/s] "
          ]
        },
        {
          "output_type": "stream",
          "name": "stdout",
          "text": [
            " and the seats of the company standard of the state of the most one of the transmission of the most process in the contemporary considered the international systems that the state and the result of the\n"
          ]
        },
        {
          "output_type": "stream",
          "name": "stderr",
          "text": [
            " 55%|█████▌    | 27648/50000 [04:23<02:57, 125.79it/s]"
          ]
        },
        {
          "output_type": "stream",
          "name": "stdout",
          "text": [
            "Loss: 1.3604327392578126\n"
          ]
        },
        {
          "output_type": "stream",
          "name": "stderr",
          "text": [
            "\n",
            "  0%|          | 0/200 [00:00<?, ?it/s]\u001b[A\n",
            "100%|██████████| 200/200 [00:00<00:00, 1248.22it/s]\n"
          ]
        },
        {
          "output_type": "stream",
          "name": "stdout",
          "text": [
            " and a support and social networking and other responsible from the state of the ancestry of the company of the first state of the first programs and the major to described the result to a services in \n"
          ]
        },
        {
          "output_type": "stream",
          "name": "stderr",
          "text": [
            " 55%|█████▌    | 27695/50000 [04:23<03:09, 117.72it/s]"
          ]
        },
        {
          "output_type": "stream",
          "name": "stdout",
          "text": [
            "Loss: 1.372925591468811\n"
          ]
        },
        {
          "output_type": "stream",
          "name": "stderr",
          "text": [
            "\n",
            "  0%|          | 0/200 [00:00<?, ?it/s]\u001b[A\n",
            "100%|██████████| 200/200 [00:00<00:00, 1344.78it/s]\n"
          ]
        },
        {
          "output_type": "stream",
          "name": "stdout",
          "text": [
            " and the states that the problem and companies and the state of the early 2009 and 2000 was increased in the United States and the state of the United States of the track to a standards that the transp\n"
          ]
        },
        {
          "output_type": "stream",
          "name": "stderr",
          "text": [
            " 55%|█████▌    | 27741/50000 [04:24<03:10, 116.58it/s]"
          ]
        },
        {
          "output_type": "stream",
          "name": "stdout",
          "text": [
            "Loss: 1.3752251601219176\n"
          ]
        },
        {
          "output_type": "stream",
          "name": "stderr",
          "text": [
            "\n",
            "  0%|          | 0/200 [00:00<?, ?it/s]\u001b[A\n",
            "100%|██████████| 200/200 [00:00<00:00, 1028.28it/s]\n",
            " 56%|█████▌    | 27769/50000 [04:24<04:00, 92.56it/s]"
          ]
        },
        {
          "output_type": "stream",
          "name": "stdout",
          "text": [
            " and provides the first train and a new structure of the lines and the religious service to the United States and the sought to be a constitutional service of the control of the contraction in the Unit\n"
          ]
        },
        {
          "output_type": "stream",
          "name": "stderr",
          "text": [
            " 56%|█████▌    | 27799/50000 [04:24<03:16, 113.15it/s]"
          ]
        },
        {
          "output_type": "stream",
          "name": "stdout",
          "text": [
            "Loss: 1.3679350709915161\n"
          ]
        },
        {
          "output_type": "stream",
          "name": "stderr",
          "text": [
            "\n",
            "  0%|          | 0/200 [00:00<?, ?it/s]\u001b[A\n",
            "100%|██████████| 200/200 [00:00<00:00, 1179.10it/s]\n"
          ]
        },
        {
          "output_type": "stream",
          "name": "stdout",
          "text": [
            " a former state and control of the term of the same in the contraction of the communications and the state of the standards and a major company that control of a companies of the term in the first or t\n"
          ]
        },
        {
          "output_type": "stream",
          "name": "stderr",
          "text": [
            " 56%|█████▌    | 27845/50000 [04:25<03:19, 110.98it/s]"
          ]
        },
        {
          "output_type": "stream",
          "name": "stdout",
          "text": [
            "Loss: 1.3645726776123046\n"
          ]
        },
        {
          "output_type": "stream",
          "name": "stderr",
          "text": [
            "\n",
            "  0%|          | 0/200 [00:00<?, ?it/s]\u001b[A\n",
            "100%|██████████| 200/200 [00:00<00:00, 566.93it/s] \n",
            " 56%|█████▌    | 27875/50000 [04:25<04:41, 78.47it/s]"
          ]
        },
        {
          "output_type": "stream",
          "name": "stdout",
          "text": [
            " to the first on the same state of the state of the set of the Commons and the Caribbean State Land and Cape Verde of the state of the state and the second of the archipelago is a support the protect t\n"
          ]
        },
        {
          "output_type": "stream",
          "name": "stderr",
          "text": [
            "\r 56%|█████▌    | 27890/50000 [04:25<04:03, 90.70it/s]"
          ]
        },
        {
          "output_type": "stream",
          "name": "stdout",
          "text": [
            "Loss: 1.3666485691070556\n"
          ]
        },
        {
          "output_type": "stream",
          "name": "stderr",
          "text": [
            "\n",
            "  0%|          | 0/200 [00:00<?, ?it/s]\u001b[A\n",
            "100%|██████████| 200/200 [00:00<00:00, 1087.74it/s]"
          ]
        },
        {
          "output_type": "stream",
          "name": "stdout",
          "text": [
            " and his original problems of a service to the country. The common in the 19th century and the design and state and control and the country of the state of the process of the present in the United Stat\n"
          ]
        },
        {
          "output_type": "stream",
          "name": "stderr",
          "text": [
            "\n",
            " 56%|█████▌    | 27947/50000 [04:26<03:28, 105.88it/s]"
          ]
        },
        {
          "output_type": "stream",
          "name": "stdout",
          "text": [
            "Loss: 1.3701164841651916\n"
          ]
        },
        {
          "output_type": "stream",
          "name": "stderr",
          "text": [
            "\n",
            "  0%|          | 0/200 [00:00<?, ?it/s]\u001b[A\n",
            "100%|██████████| 200/200 [00:00<00:00, 1203.75it/s]\n"
          ]
        },
        {
          "output_type": "stream",
          "name": "stdout",
          "text": [
            " to the standards of the state and production of the computer state and the first the common in the 1960s and the computer state of the state of the area of the state of the first participate the produ\n"
          ]
        },
        {
          "output_type": "stream",
          "name": "stderr",
          "text": [
            " 56%|█████▌    | 27988/50000 [04:27<03:38, 100.72it/s]"
          ]
        },
        {
          "output_type": "stream",
          "name": "stdout",
          "text": [
            "Loss: 1.3559342551231384\n"
          ]
        },
        {
          "output_type": "stream",
          "name": "stderr",
          "text": [
            "\n",
            "  0%|          | 0/200 [00:00<?, ?it/s]\u001b[A\n",
            "100%|██████████| 200/200 [00:00<00:00, 1086.81it/s]"
          ]
        },
        {
          "output_type": "stream",
          "name": "stdout",
          "text": [
            " entrange of the computer than the person for the ability to the argued that the standards and the trains of the second state of the control to the southern control to the largest state of the largest \n"
          ]
        },
        {
          "output_type": "stream",
          "name": "stderr",
          "text": [
            "\n",
            " 56%|█████▌    | 28048/50000 [04:27<03:11, 114.54it/s]"
          ]
        },
        {
          "output_type": "stream",
          "name": "stdout",
          "text": [
            "Loss: 1.3592345094680787\n"
          ]
        },
        {
          "output_type": "stream",
          "name": "stderr",
          "text": [
            "\n",
            "  0%|          | 0/200 [00:00<?, ?it/s]\u001b[A\n",
            "100%|██████████| 200/200 [00:00<00:00, 1398.76it/s]\n"
          ]
        },
        {
          "output_type": "stream",
          "name": "stdout",
          "text": [
            " in 1989, the set of the common activities in the United States and the professional of the traditional construction of the seats and one of the result of the time and the constitutional and the contro\n"
          ]
        },
        {
          "output_type": "stream",
          "name": "stderr",
          "text": [
            " 56%|█████▌    | 28094/50000 [04:28<03:08, 115.96it/s]"
          ]
        },
        {
          "output_type": "stream",
          "name": "stdout",
          "text": [
            "Loss: 1.358496870994568\n"
          ]
        },
        {
          "output_type": "stream",
          "name": "stderr",
          "text": [
            "\n",
            "  0%|          | 0/200 [00:00<?, ?it/s]\u001b[A\n",
            "100%|██████████| 200/200 [00:00<00:00, 1484.69it/s]\n",
            " 56%|█████▌    | 28108/50000 [04:28<03:59, 91.24it/s] "
          ]
        },
        {
          "output_type": "stream",
          "name": "stdout",
          "text": [
            " in the only population of the computer than the development of the three international and services of the methods and the set of the sources and the state of the most research and form to a new state\n"
          ]
        },
        {
          "output_type": "stream",
          "name": "stderr",
          "text": [
            " 56%|█████▋    | 28141/50000 [04:28<03:05, 117.75it/s]"
          ]
        },
        {
          "output_type": "stream",
          "name": "stdout",
          "text": [
            "Loss: 1.3679589867591857\n"
          ]
        },
        {
          "output_type": "stream",
          "name": "stderr",
          "text": [
            "\n",
            "  0%|          | 0/200 [00:00<?, ?it/s]\u001b[A\n",
            "100%|██████████| 200/200 [00:00<00:00, 1389.41it/s]\n",
            " 56%|█████▋    | 28155/50000 [04:28<03:59, 91.12it/s] "
          ]
        },
        {
          "output_type": "stream",
          "name": "stdout",
          "text": [
            " and the state of the control of a final and the several and the same to the proposed and a services and the based on the control of the Cape Verde with the production of the most construction of the p\n"
          ]
        },
        {
          "output_type": "stream",
          "name": "stderr",
          "text": [
            " 56%|█████▋    | 28187/50000 [04:29<03:07, 116.07it/s]"
          ]
        },
        {
          "output_type": "stream",
          "name": "stdout",
          "text": [
            "Loss: 1.3700040769577027\n"
          ]
        },
        {
          "output_type": "stream",
          "name": "stderr",
          "text": [
            "\n",
            "  0%|          | 0/200 [00:00<?, ?it/s]\u001b[A\n",
            "100%|██████████| 200/200 [00:00<00:00, 1328.22it/s]\n",
            " 56%|█████▋    | 28201/50000 [04:29<04:02, 89.84it/s] "
          ]
        },
        {
          "output_type": "stream",
          "name": "stdout",
          "text": [
            " and the second in the United States and the Cape Verde and the new and and the significant services and the first companies and the standard discovered to the problems of the world are also be interna\n"
          ]
        },
        {
          "output_type": "stream",
          "name": "stderr",
          "text": [
            " 56%|█████▋    | 28249/50000 [04:29<02:52, 125.89it/s]"
          ]
        },
        {
          "output_type": "stream",
          "name": "stdout",
          "text": [
            "Loss: 1.3694474029541015\n"
          ]
        },
        {
          "output_type": "stream",
          "name": "stderr",
          "text": [
            "\n",
            "  0%|          | 0/200 [00:00<?, ?it/s]\u001b[A\n",
            "100%|██████████| 200/200 [00:00<00:00, 1303.76it/s]\n"
          ]
        },
        {
          "output_type": "stream",
          "name": "stdout",
          "text": [
            " to 200 kmh 100 mph 125 mph 175 kmh 100 mph 120 mph 200 kmh 100 mph 175 kmh 150 mph 120 mph 145 mph 120 mph 100 mph 125 mph 175 kmh 100 mph 120 mph in the United States and the population of the certai\n"
          ]
        },
        {
          "output_type": "stream",
          "name": "stderr",
          "text": [
            " 57%|█████▋    | 28296/50000 [04:30<03:02, 118.80it/s]"
          ]
        },
        {
          "output_type": "stream",
          "name": "stdout",
          "text": [
            "Loss: 1.3587420535087587\n"
          ]
        },
        {
          "output_type": "stream",
          "name": "stderr",
          "text": [
            "\n",
            "  0%|          | 0/200 [00:00<?, ?it/s]\u001b[A\n",
            "100%|██████████| 200/200 [00:00<00:00, 1327.37it/s]\n"
          ]
        },
        {
          "output_type": "stream",
          "name": "stdout",
          "text": [
            " and international companies and the construction of the set of the profile and the international provide the provides an experience and the result to the standard social networking schools of computer\n"
          ]
        },
        {
          "output_type": "stream",
          "name": "stderr",
          "text": [
            " 57%|█████▋    | 28342/50000 [04:30<03:09, 114.35it/s]"
          ]
        },
        {
          "output_type": "stream",
          "name": "stdout",
          "text": [
            "Loss: 1.3636209487915039\n"
          ]
        },
        {
          "output_type": "stream",
          "name": "stderr",
          "text": [
            "\n",
            "  0%|          | 0/200 [00:00<?, ?it/s]\u001b[A\n",
            "100%|██████████| 200/200 [00:00<00:00, 1334.04it/s]\n",
            " 57%|█████▋    | 28356/50000 [04:30<04:02, 89.29it/s] "
          ]
        },
        {
          "output_type": "stream",
          "name": "stdout",
          "text": [
            " and the state of the set of the most care and study of the companies and the source of the experience in the computer services of the term in the result of the state and computer services of the produ\n"
          ]
        },
        {
          "output_type": "stream",
          "name": "stderr",
          "text": [
            " 57%|█████▋    | 28388/50000 [04:30<03:07, 115.21it/s]"
          ]
        },
        {
          "output_type": "stream",
          "name": "stdout",
          "text": [
            "Loss: 1.3542160272598267\n"
          ]
        },
        {
          "output_type": "stream",
          "name": "stderr",
          "text": [
            "\n",
            "  0%|          | 0/200 [00:00<?, ?it/s]\u001b[A\n",
            "100%|██████████| 200/200 [00:00<00:00, 1395.53it/s]\n",
            " 57%|█████▋    | 28402/50000 [04:31<03:58, 90.61it/s] "
          ]
        },
        {
          "output_type": "stream",
          "name": "stdout",
          "text": [
            " considered the control in the services and considered a set of the population of the presented the first state of the states and an example of the state and the state of the construction of the Cape V\n"
          ]
        },
        {
          "output_type": "stream",
          "name": "stderr",
          "text": [
            " 57%|█████▋    | 28434/50000 [04:31<03:07, 114.95it/s]"
          ]
        },
        {
          "output_type": "stream",
          "name": "stdout",
          "text": [
            "Loss: 1.3701028871536254\n"
          ]
        },
        {
          "output_type": "stream",
          "name": "stderr",
          "text": [
            "\n",
            "  0%|          | 0/200 [00:00<?, ?it/s]\u001b[A\n",
            "100%|██████████| 200/200 [00:00<00:00, 1363.96it/s]\n",
            " 57%|█████▋    | 28450/50000 [04:31<03:56, 91.01it/s] "
          ]
        },
        {
          "output_type": "stream",
          "name": "stdout",
          "text": [
            " and a company in the state line of the area of the state of the second the state of the company of the second contract and analysis and control of the southern the product of the state and the constru\n"
          ]
        },
        {
          "output_type": "stream",
          "name": "stderr",
          "text": [
            " 57%|█████▋    | 28498/50000 [04:31<02:50, 125.82it/s]"
          ]
        },
        {
          "output_type": "stream",
          "name": "stdout",
          "text": [
            "Loss: 1.3638226938247682\n"
          ]
        },
        {
          "output_type": "stream",
          "name": "stderr",
          "text": [
            "\n",
            "  0%|          | 0/200 [00:00<?, ?it/s]\u001b[A\n",
            "100%|██████████| 200/200 [00:00<00:00, 1310.05it/s]\n"
          ]
        },
        {
          "output_type": "stream",
          "name": "stdout",
          "text": [
            " in the state of the company and the produce the record of the group of international computer and contraction of the state of the Cape Verdean American and other services in the person is the proposal\n"
          ]
        },
        {
          "output_type": "stream",
          "name": "stderr",
          "text": [
            " 57%|█████▋    | 28544/50000 [04:32<03:06, 115.14it/s]"
          ]
        },
        {
          "output_type": "stream",
          "name": "stdout",
          "text": [
            "Loss: 1.379095778465271\n"
          ]
        },
        {
          "output_type": "stream",
          "name": "stderr",
          "text": [
            "\n",
            "  0%|          | 0/200 [00:00<?, ?it/s]\u001b[A\n",
            "100%|██████████| 200/200 [00:00<00:00, 1315.24it/s]"
          ]
        },
        {
          "output_type": "stream",
          "name": "stdout",
          "text": [
            " and the state in the area of the state and one of the first or recognition of the head of state of the services and models of the southern the state and the southern company process of the states in t\n"
          ]
        },
        {
          "output_type": "stream",
          "name": "stderr",
          "text": [
            "\n",
            " 57%|█████▋    | 28590/50000 [04:32<03:08, 113.28it/s]"
          ]
        },
        {
          "output_type": "stream",
          "name": "stdout",
          "text": [
            "Loss: 1.3807972049713135\n"
          ]
        },
        {
          "output_type": "stream",
          "name": "stderr",
          "text": [
            "\n",
            "  0%|          | 0/200 [00:00<?, ?it/s]\u001b[A\n",
            "100%|██████████| 200/200 [00:00<00:00, 1417.60it/s]\n",
            " 57%|█████▋    | 28604/50000 [04:33<03:59, 89.36it/s] "
          ]
        },
        {
          "output_type": "stream",
          "name": "stdout",
          "text": [
            " and the operation of the company of the process of the first state in the more process of the state of the organizations to a person and the result of a personal standards and a social networking and \n"
          ]
        },
        {
          "output_type": "stream",
          "name": "stderr",
          "text": [
            " 57%|█████▋    | 28636/50000 [04:33<03:06, 114.77it/s]"
          ]
        },
        {
          "output_type": "stream",
          "name": "stdout",
          "text": [
            "Loss: 1.3768844437599181\n"
          ]
        },
        {
          "output_type": "stream",
          "name": "stderr",
          "text": [
            "\n",
            "  0%|          | 0/200 [00:00<?, ?it/s]\u001b[A\n",
            "100%|██████████| 200/200 [00:00<00:00, 1361.86it/s]\n",
            " 57%|█████▋    | 28650/50000 [04:33<03:58, 89.57it/s] "
          ]
        },
        {
          "output_type": "stream",
          "name": "stdout",
          "text": [
            " international construction of the first the former significant formal computer single the control can be a services in the area of station of the company and an article and content in the standard and\n"
          ]
        },
        {
          "output_type": "stream",
          "name": "stderr",
          "text": [
            " 57%|█████▋    | 28698/50000 [04:33<02:48, 126.49it/s]"
          ]
        },
        {
          "output_type": "stream",
          "name": "stdout",
          "text": [
            "Loss: 1.3765986275672912\n"
          ]
        },
        {
          "output_type": "stream",
          "name": "stderr",
          "text": [
            "\n",
            "  0%|          | 0/200 [00:00<?, ?it/s]\u001b[A\n",
            "100%|██████████| 200/200 [00:00<00:00, 1357.99it/s]\n"
          ]
        },
        {
          "output_type": "stream",
          "name": "stdout",
          "text": [
            " and the country of the construction of the first many engineering to a computer and considered a community of the protection of the American Commons and the transportation and the computer distinction\n"
          ]
        },
        {
          "output_type": "stream",
          "name": "stderr",
          "text": [
            " 57%|█████▋    | 28745/50000 [04:34<02:58, 119.12it/s]"
          ]
        },
        {
          "output_type": "stream",
          "name": "stdout",
          "text": [
            "Loss: 1.362026662826538\n"
          ]
        },
        {
          "output_type": "stream",
          "name": "stderr",
          "text": [
            "\n",
            "  0%|          | 0/200 [00:00<?, ?it/s]\u001b[A\n",
            "100%|██████████| 200/200 [00:00<00:00, 1238.85it/s]"
          ]
        },
        {
          "output_type": "stream",
          "name": "stdout",
          "text": [
            " and the American and the train and other state and services and the streamed the computer and the state and state of the source of the state and a state and subsequently designed to form with the cons\n"
          ]
        },
        {
          "output_type": "stream",
          "name": "stderr",
          "text": [
            "\n",
            " 58%|█████▊    | 28791/50000 [04:34<03:04, 114.65it/s]"
          ]
        },
        {
          "output_type": "stream",
          "name": "stdout",
          "text": [
            "Loss: 1.366714928150177\n"
          ]
        },
        {
          "output_type": "stream",
          "name": "stderr",
          "text": [
            "\n",
            "  0%|          | 0/200 [00:00<?, ?it/s]\u001b[A\n",
            "100%|██████████| 200/200 [00:00<00:00, 1374.48it/s]\n",
            " 58%|█████▊    | 28805/50000 [04:35<03:56, 89.46it/s] "
          ]
        },
        {
          "output_type": "stream",
          "name": "stdout",
          "text": [
            " and the population of the population of the state and product of the particular in the state of the development of the company of the state and in the present and the state in the United States and th\n"
          ]
        },
        {
          "output_type": "stream",
          "name": "stderr",
          "text": [
            " 58%|█████▊    | 28837/50000 [04:35<03:02, 115.83it/s]"
          ]
        },
        {
          "output_type": "stream",
          "name": "stdout",
          "text": [
            "Loss: 1.3738305473327637\n"
          ]
        },
        {
          "output_type": "stream",
          "name": "stderr",
          "text": [
            "\n",
            "  0%|          | 0/200 [00:00<?, ?it/s]\u001b[A\n",
            "100%|██████████| 200/200 [00:00<00:00, 1243.82it/s]\n",
            " 58%|█████▊    | 28851/50000 [04:35<04:03, 87.02it/s] "
          ]
        },
        {
          "output_type": "stream",
          "name": "stdout",
          "text": [
            " entread of the state of the 19th century and the company of the most the standard of the simplified to the presented by the process of a formal and international political system was a process and the\n"
          ]
        },
        {
          "output_type": "stream",
          "name": "stderr",
          "text": [
            " 58%|█████▊    | 28899/50000 [04:35<02:50, 123.67it/s]"
          ]
        },
        {
          "output_type": "stream",
          "name": "stdout",
          "text": [
            "Loss: 1.3622649264335633\n"
          ]
        },
        {
          "output_type": "stream",
          "name": "stderr",
          "text": [
            "\n",
            "  0%|          | 0/200 [00:00<?, ?it/s]\u001b[A\n",
            "100%|██████████| 200/200 [00:00<00:00, 1397.52it/s]\n"
          ]
        },
        {
          "output_type": "stream",
          "name": "stdout",
          "text": [
            " A in 1974 and 2020, the trains and the company was seat the company relations of the committee of the state and with the majority in a set of the problem and the experience of international sources an\n"
          ]
        },
        {
          "output_type": "stream",
          "name": "stderr",
          "text": [
            " 58%|█████▊    | 28945/50000 [04:36<02:59, 117.20it/s]"
          ]
        },
        {
          "output_type": "stream",
          "name": "stdout",
          "text": [
            "Loss: 1.364609775543213\n"
          ]
        },
        {
          "output_type": "stream",
          "name": "stderr",
          "text": [
            "\n",
            "  0%|          | 0/200 [00:00<?, ?it/s]\u001b[A\n",
            "100%|██████████| 200/200 [00:00<00:00, 1186.43it/s]"
          ]
        },
        {
          "output_type": "stream",
          "name": "stdout",
          "text": [
            " and have a second the communication and a companies are some of the production of the state and relationship and used to the international sources of the professional and services to all a formal popu\n"
          ]
        },
        {
          "output_type": "stream",
          "name": "stderr",
          "text": [
            "\n",
            " 58%|█████▊    | 28991/50000 [04:36<03:04, 113.83it/s]"
          ]
        },
        {
          "output_type": "stream",
          "name": "stdout",
          "text": [
            "Loss: 1.367525758743286\n"
          ]
        },
        {
          "output_type": "stream",
          "name": "stderr",
          "text": [
            "\n",
            "  0%|          | 0/200 [00:00<?, ?it/s]\u001b[A\n",
            "100%|██████████| 200/200 [00:00<00:00, 1311.34it/s]\n",
            " 58%|█████▊    | 29005/50000 [04:37<03:58, 88.04it/s] "
          ]
        },
        {
          "output_type": "stream",
          "name": "stdout",
          "text": [
            " the country of the state and a features that the state of the seats and the result of the company and the services are the contraction of the process of the provides the second the state and was the s\n"
          ]
        },
        {
          "output_type": "stream",
          "name": "stderr",
          "text": [
            " 58%|█████▊    | 29037/50000 [04:37<03:02, 114.63it/s]"
          ]
        },
        {
          "output_type": "stream",
          "name": "stdout",
          "text": [
            "Loss: 1.3646949696540833\n"
          ]
        },
        {
          "output_type": "stream",
          "name": "stderr",
          "text": [
            "\n",
            "  0%|          | 0/200 [00:00<?, ?it/s]\u001b[A\n",
            "100%|██████████| 200/200 [00:00<00:00, 1144.01it/s]\n",
            " 58%|█████▊    | 29051/50000 [04:37<04:06, 84.87it/s] "
          ]
        },
        {
          "output_type": "stream",
          "name": "stdout",
          "text": [
            " and a service for the process of the relatively are consists to the set of the original students and the state of the company of the major take the process the second both the second products that is \n"
          ]
        },
        {
          "output_type": "stream",
          "name": "stderr",
          "text": [
            " 58%|█████▊    | 29096/50000 [04:37<02:59, 116.62it/s]"
          ]
        },
        {
          "output_type": "stream",
          "name": "stdout",
          "text": [
            "Loss: 1.3592047333717345\n"
          ]
        },
        {
          "output_type": "stream",
          "name": "stderr",
          "text": [
            "\n",
            "  0%|          | 0/200 [00:00<?, ?it/s]\u001b[A\n",
            "100%|██████████| 200/200 [00:00<00:00, 1082.01it/s]"
          ]
        },
        {
          "output_type": "stream",
          "name": "stdout",
          "text": [
            " and a process to the term and the higher in the seat the state in the United States of the United States and South American American American American California and a seats of the article and the sou\n"
          ]
        },
        {
          "output_type": "stream",
          "name": "stderr",
          "text": [
            "\n",
            " 58%|█████▊    | 29139/50000 [04:38<03:22, 102.90it/s]"
          ]
        },
        {
          "output_type": "stream",
          "name": "stdout",
          "text": [
            "Loss: 1.3661952018737793\n"
          ]
        },
        {
          "output_type": "stream",
          "name": "stderr",
          "text": [
            "\n",
            "  0%|          | 0/200 [00:00<?, ?it/s]\u001b[A\n",
            "100%|██████████| 200/200 [00:00<00:00, 1097.61it/s]"
          ]
        },
        {
          "output_type": "stream",
          "name": "stdout",
          "text": [
            " is an existing services in the first services and the term of the participate the development of the proposal and the services from the area of the construction of the Cape Verde and the archipelago a\n"
          ]
        },
        {
          "output_type": "stream",
          "name": "stderr",
          "text": [
            "\n",
            " 58%|█████▊    | 29198/50000 [04:38<03:02, 113.76it/s]"
          ]
        },
        {
          "output_type": "stream",
          "name": "stdout",
          "text": [
            "Loss: 1.3693299794197082\n"
          ]
        },
        {
          "output_type": "stream",
          "name": "stderr",
          "text": [
            "\n",
            "  0%|          | 0/200 [00:00<?, ?it/s]\u001b[A\n",
            "100%|██████████| 200/200 [00:00<00:00, 1256.77it/s]\n"
          ]
        },
        {
          "output_type": "stream",
          "name": "stdout",
          "text": [
            " and the area of the International Commons and the standard for the common and original social networking and the computing services of the company and with the new state of the second subsequently des\n"
          ]
        },
        {
          "output_type": "stream",
          "name": "stderr",
          "text": [
            " 58%|█████▊    | 29242/50000 [04:39<03:09, 109.81it/s]"
          ]
        },
        {
          "output_type": "stream",
          "name": "stdout",
          "text": [
            "Loss: 1.3516326642036438\n"
          ]
        },
        {
          "output_type": "stream",
          "name": "stderr",
          "text": [
            "\n",
            "  0%|          | 0/200 [00:00<?, ?it/s]\u001b[A\n",
            "100%|██████████| 200/200 [00:00<00:00, 1032.00it/s]\n",
            " 59%|█████▊    | 29270/50000 [04:39<03:51, 89.49it/s]"
          ]
        },
        {
          "output_type": "stream",
          "name": "stdout",
          "text": [
            " to the state and the standards and the second more than 100 million of the proposed to the example of a services and the set is a magick of the area of the first to the second real number of state and\n"
          ]
        },
        {
          "output_type": "stream",
          "name": "stderr",
          "text": [
            "\r 59%|█████▊    | 29285/50000 [04:39<03:24, 101.32it/s]"
          ]
        },
        {
          "output_type": "stream",
          "name": "stdout",
          "text": [
            "Loss: 1.369372251033783\n"
          ]
        },
        {
          "output_type": "stream",
          "name": "stderr",
          "text": [
            "\n",
            "  0%|          | 0/200 [00:00<?, ?it/s]\u001b[A\n",
            "100%|██████████| 200/200 [00:00<00:00, 1014.52it/s]\n",
            " 59%|█████▊    | 29314/50000 [04:40<03:57, 87.15it/s]"
          ]
        },
        {
          "output_type": "stream",
          "name": "stdout",
          "text": [
            " in the 1970s. The experience and the state in the same and the process of many of the addition to the series of a software to the source of the services and social networking state of the provide the \n"
          ]
        },
        {
          "output_type": "stream",
          "name": "stderr",
          "text": [
            " 59%|█████▊    | 29340/50000 [04:40<03:20, 102.84it/s]"
          ]
        },
        {
          "output_type": "stream",
          "name": "stdout",
          "text": [
            "Loss: 1.369705195426941\n"
          ]
        },
        {
          "output_type": "stream",
          "name": "stderr",
          "text": [
            "\n",
            "  0%|          | 0/200 [00:00<?, ?it/s]\u001b[A\n",
            "100%|██████████| 200/200 [00:00<00:00, 1388.77it/s]\n",
            " 59%|█████▊    | 29353/50000 [04:40<04:12, 81.88it/s] "
          ]
        },
        {
          "output_type": "stream",
          "name": "stdout",
          "text": [
            " to the common on a similar speeds of the original computers are international process of the process in the second the research and a problems of the the construction of the area in the local networki\n"
          ]
        },
        {
          "output_type": "stream",
          "name": "stderr",
          "text": [
            " 59%|█████▉    | 29385/50000 [04:40<03:04, 111.67it/s]"
          ]
        },
        {
          "output_type": "stream",
          "name": "stdout",
          "text": [
            "Loss: 1.378389756679535\n"
          ]
        },
        {
          "output_type": "stream",
          "name": "stderr",
          "text": [
            "\n",
            "  0%|          | 0/200 [00:00<?, ?it/s]\u001b[A\n",
            "100%|██████████| 200/200 [00:00<00:00, 1398.82it/s]\n",
            " 59%|█████▉    | 29400/50000 [04:41<03:50, 89.29it/s] "
          ]
        },
        {
          "output_type": "stream",
          "name": "stdout",
          "text": [
            " and a resources of the state and the production of the most received the transportation of the Pythagoras was a control of the state in the second and all and a standard of the control of the million \n"
          ]
        },
        {
          "output_type": "stream",
          "name": "stderr",
          "text": [
            " 59%|█████▉    | 29448/50000 [04:41<02:44, 125.28it/s]"
          ]
        },
        {
          "output_type": "stream",
          "name": "stdout",
          "text": [
            "Loss: 1.377264175415039\n"
          ]
        },
        {
          "output_type": "stream",
          "name": "stderr",
          "text": [
            "\n",
            "  0%|          | 0/200 [00:00<?, ?it/s]\u001b[A\n",
            "100%|██████████| 200/200 [00:00<00:00, 1306.03it/s]\n"
          ]
        },
        {
          "output_type": "stream",
          "name": "stdout",
          "text": [
            " and the early 1970s, and the first more than often for the most formal control of the provide the production of the companies and international system and the state of the set of the state and an orga\n"
          ]
        },
        {
          "output_type": "stream",
          "name": "stderr",
          "text": [
            " 59%|█████▉    | 29494/50000 [04:41<02:53, 118.27it/s]"
          ]
        },
        {
          "output_type": "stream",
          "name": "stdout",
          "text": [
            "Loss: 1.354616539478302\n"
          ]
        },
        {
          "output_type": "stream",
          "name": "stderr",
          "text": [
            "\n",
            "  0%|          | 0/200 [00:00<?, ?it/s]\u001b[A\n",
            "100%|██████████| 200/200 [00:00<00:00, 1422.54it/s]\n",
            " 59%|█████▉    | 29508/50000 [04:42<03:42, 92.08it/s] "
          ]
        },
        {
          "output_type": "stream",
          "name": "stdout",
          "text": [
            " to the company and the community of the company and the major computer services and the content of an explored to the company of the same the trains and the lived that the companies are increasingly s\n"
          ]
        },
        {
          "output_type": "stream",
          "name": "stderr",
          "text": [
            " 59%|█████▉    | 29540/50000 [04:42<02:54, 117.39it/s]"
          ]
        },
        {
          "output_type": "stream",
          "name": "stdout",
          "text": [
            "Loss: 1.3756789398193359\n"
          ]
        },
        {
          "output_type": "stream",
          "name": "stderr",
          "text": [
            "\n",
            "  0%|          | 0/200 [00:00<?, ?it/s]\u001b[A\n",
            "100%|██████████| 200/200 [00:00<00:00, 1380.33it/s]\n",
            " 59%|█████▉    | 29554/50000 [04:42<03:47, 89.86it/s] "
          ]
        },
        {
          "output_type": "stream",
          "name": "stdout",
          "text": [
            " in 1999 to 1800 limited the first products and the proposed the development of the construction of the company and the control of a similar state of the United States of the South American American or\n"
          ]
        },
        {
          "output_type": "stream",
          "name": "stderr",
          "text": [
            " 59%|█████▉    | 29586/50000 [04:42<02:56, 115.55it/s]"
          ]
        },
        {
          "output_type": "stream",
          "name": "stdout",
          "text": [
            "Loss: 1.3747613000869752\n"
          ]
        },
        {
          "output_type": "stream",
          "name": "stderr",
          "text": [
            "\n",
            "  0%|          | 0/200 [00:00<?, ?it/s]\u001b[A\n",
            "100%|██████████| 200/200 [00:00<00:00, 1393.68it/s]\n",
            " 59%|█████▉    | 29600/50000 [04:43<03:44, 90.97it/s] "
          ]
        },
        {
          "output_type": "stream",
          "name": "stdout",
          "text": [
            " the south and the international and service to a major proposal and an activity of the companies for the development of the analysis of the control of a transition and control of the source of the maj\n"
          ]
        },
        {
          "output_type": "stream",
          "name": "stderr",
          "text": [
            " 59%|█████▉    | 29648/50000 [04:43<02:40, 126.49it/s]"
          ]
        },
        {
          "output_type": "stream",
          "name": "stdout",
          "text": [
            "Loss: 1.3640358901023866\n"
          ]
        },
        {
          "output_type": "stream",
          "name": "stderr",
          "text": [
            "\n",
            "  0%|          | 0/200 [00:00<?, ?it/s]\u001b[A\n",
            "100%|██████████| 200/200 [00:00<00:00, 1333.25it/s]\n"
          ]
        },
        {
          "output_type": "stream",
          "name": "stdout",
          "text": [
            " and the result of the state was a four country of the trains to the state of the between the communication for the services that the computer state of the completed and the organization in the United \n"
          ]
        },
        {
          "output_type": "stream",
          "name": "stderr",
          "text": [
            " 59%|█████▉    | 29695/50000 [04:43<02:51, 118.11it/s]"
          ]
        },
        {
          "output_type": "stream",
          "name": "stdout",
          "text": [
            "Loss: 1.368998703956604\n"
          ]
        },
        {
          "output_type": "stream",
          "name": "stderr",
          "text": [
            "\n",
            "  0%|          | 0/200 [00:00<?, ?it/s]\u001b[A\n",
            "100%|██████████| 200/200 [00:00<00:00, 1320.61it/s]\n"
          ]
        },
        {
          "output_type": "stream",
          "name": "stdout",
          "text": [
            " and the control of the article and the state of the computer state and the state of the learning and the common and the produced on the state and representatives are former tradition of the state of t\n"
          ]
        },
        {
          "output_type": "stream",
          "name": "stderr",
          "text": [
            " 59%|█████▉    | 29742/50000 [04:44<02:52, 117.47it/s]"
          ]
        },
        {
          "output_type": "stream",
          "name": "stdout",
          "text": [
            "Loss: 1.3736000514030458\n"
          ]
        },
        {
          "output_type": "stream",
          "name": "stderr",
          "text": [
            "\n",
            "  0%|          | 0/200 [00:00<?, ?it/s]\u001b[A\n",
            "100%|██████████| 200/200 [00:00<00:00, 1341.19it/s]\n",
            " 60%|█████▉    | 29756/50000 [04:44<03:43, 90.71it/s] "
          ]
        },
        {
          "output_type": "stream",
          "name": "stdout",
          "text": [
            " and the substance of the term of the process of the first common records and the result of the the second and the services and other control to the professional of the land in the United States and th\n"
          ]
        },
        {
          "output_type": "stream",
          "name": "stderr",
          "text": [
            " 60%|█████▉    | 29788/50000 [04:44<02:53, 116.43it/s]"
          ]
        },
        {
          "output_type": "stream",
          "name": "stdout",
          "text": [
            "Loss: 1.3657174134254455\n"
          ]
        },
        {
          "output_type": "stream",
          "name": "stderr",
          "text": [
            "\n",
            "  0%|          | 0/200 [00:00<?, ?it/s]\u001b[A\n",
            "100%|██████████| 200/200 [00:00<00:00, 1393.50it/s]\n",
            " 60%|█████▉    | 29802/50000 [04:45<03:41, 91.17it/s] "
          ]
        },
        {
          "output_type": "stream",
          "name": "stdout",
          "text": [
            " the population and a former international services and a main computer standards and the services and the second and services and the southern production of the provides the processes of the second on\n"
          ]
        },
        {
          "output_type": "stream",
          "name": "stderr",
          "text": [
            " 60%|█████▉    | 29834/50000 [04:45<02:51, 117.34it/s]"
          ]
        },
        {
          "output_type": "stream",
          "name": "stdout",
          "text": [
            "Loss: 1.3667847895622254\n"
          ]
        },
        {
          "output_type": "stream",
          "name": "stderr",
          "text": [
            "\n",
            "  0%|          | 0/200 [00:00<?, ?it/s]\u001b[A\n",
            "100%|██████████| 200/200 [00:00<00:00, 1285.92it/s]\n",
            " 60%|█████▉    | 29850/50000 [04:45<03:41, 91.12it/s] "
          ]
        },
        {
          "output_type": "stream",
          "name": "stdout",
          "text": [
            " and the median state and the result of the transportation of the second and produce the seats of the city and a state and subject of the commercial systems and the company and all state of the standar\n"
          ]
        },
        {
          "output_type": "stream",
          "name": "stderr",
          "text": [
            " 60%|█████▉    | 29898/50000 [04:45<02:39, 125.69it/s]"
          ]
        },
        {
          "output_type": "stream",
          "name": "stdout",
          "text": [
            "Loss: 1.3538519144058228\n"
          ]
        },
        {
          "output_type": "stream",
          "name": "stderr",
          "text": [
            "\n",
            "  0%|          | 0/200 [00:00<?, ?it/s]\u001b[A\n",
            "100%|██████████| 200/200 [00:00<00:00, 1350.31it/s]\n"
          ]
        },
        {
          "output_type": "stream",
          "name": "stdout",
          "text": [
            " and the problems for the term of the continued to the state of the process of the state and an all of the state of the common from the companies of the United States of the set of the set of the air a\n"
          ]
        },
        {
          "output_type": "stream",
          "name": "stderr",
          "text": [
            " 60%|█████▉    | 29945/50000 [04:46<02:47, 119.71it/s]"
          ]
        },
        {
          "output_type": "stream",
          "name": "stdout",
          "text": [
            "Loss: 1.3647812342643737\n"
          ]
        },
        {
          "output_type": "stream",
          "name": "stderr",
          "text": [
            "\n",
            "  0%|          | 0/200 [00:00<?, ?it/s]\u001b[A\n",
            "100%|██████████| 200/200 [00:00<00:00, 1308.58it/s]\n"
          ]
        },
        {
          "output_type": "stream",
          "name": "stdout",
          "text": [
            " and other construction of the production and the common and state of the trains and the second or control content of social networking continually the programmer in the protocols of the state of the m\n"
          ]
        },
        {
          "output_type": "stream",
          "name": "stderr",
          "text": [
            " 60%|█████▉    | 29991/50000 [04:46<02:53, 115.36it/s]"
          ]
        },
        {
          "output_type": "stream",
          "name": "stdout",
          "text": [
            "Loss: 1.3819686436653138\n"
          ]
        },
        {
          "output_type": "stream",
          "name": "stderr",
          "text": [
            "\n",
            "  0%|          | 0/200 [00:00<?, ?it/s]\u001b[A\n",
            "100%|██████████| 200/200 [00:00<00:00, 1366.33it/s]\n",
            " 60%|██████    | 30005/50000 [04:46<03:42, 89.79it/s] "
          ]
        },
        {
          "output_type": "stream",
          "name": "stdout",
          "text": [
            " is a state of the process of the state of the study of work the services and the state for a state of the present that the subsequently and the second arithmetic and experiences of the computer standa\n"
          ]
        },
        {
          "output_type": "stream",
          "name": "stderr",
          "text": [
            " 60%|██████    | 30037/50000 [04:47<02:52, 116.03it/s]"
          ]
        },
        {
          "output_type": "stream",
          "name": "stdout",
          "text": [
            "Loss: 1.3757455515861512\n"
          ]
        },
        {
          "output_type": "stream",
          "name": "stderr",
          "text": [
            "\n",
            "  0%|          | 0/200 [00:00<?, ?it/s]\u001b[A\n",
            "100%|██████████| 200/200 [00:00<00:00, 1358.03it/s]\n",
            " 60%|██████    | 30051/50000 [04:47<03:42, 89.72it/s] "
          ]
        },
        {
          "output_type": "stream",
          "name": "stdout",
          "text": [
            " and the talk and all the state of the state and provides the exponentiation of the early 1970s, and the state of the construction of the companies of the area of the states are the services of the int\n"
          ]
        },
        {
          "output_type": "stream",
          "name": "stderr",
          "text": [
            " 60%|██████    | 30099/50000 [04:47<02:38, 125.25it/s]"
          ]
        },
        {
          "output_type": "stream",
          "name": "stdout",
          "text": [
            "Loss: 1.377950782775879\n"
          ]
        },
        {
          "output_type": "stream",
          "name": "stderr",
          "text": [
            "\n",
            "  0%|          | 0/200 [00:00<?, ?it/s]\u001b[A\n",
            "100%|██████████| 200/200 [00:00<00:00, 1282.02it/s]\n"
          ]
        },
        {
          "output_type": "stream",
          "name": "stdout",
          "text": [
            " in the United States in the United States and the local numbers and services are not a second on the approach in the Buddhist and all are an activities and the technical systems are the served as of t\n"
          ]
        },
        {
          "output_type": "stream",
          "name": "stderr",
          "text": [
            " 60%|██████    | 30146/50000 [04:48<02:47, 118.70it/s]"
          ]
        },
        {
          "output_type": "stream",
          "name": "stdout",
          "text": [
            "Loss: 1.3704210424423218\n"
          ]
        },
        {
          "output_type": "stream",
          "name": "stderr",
          "text": [
            "\n",
            "  0%|          | 0/200 [00:00<?, ?it/s]\u001b[A\n",
            "100%|██████████| 200/200 [00:00<00:00, 1454.89it/s]\n"
          ]
        },
        {
          "output_type": "stream",
          "name": "stdout",
          "text": [
            " and the state of the first state of the original called the state of the control system and problems of the control processes of the second the largest services and engineering of the company are of t\n"
          ]
        },
        {
          "output_type": "stream",
          "name": "stderr",
          "text": [
            " 60%|██████    | 30192/50000 [04:48<02:49, 117.15it/s]"
          ]
        },
        {
          "output_type": "stream",
          "name": "stdout",
          "text": [
            "Loss: 1.3693660473823548\n"
          ]
        },
        {
          "output_type": "stream",
          "name": "stderr",
          "text": [
            "\n",
            "  0%|          | 0/200 [00:00<?, ?it/s]\u001b[A\n",
            "100%|██████████| 200/200 [00:00<00:00, 1362.34it/s]\n",
            " 60%|██████    | 30206/50000 [04:48<03:40, 89.74it/s] "
          ]
        },
        {
          "output_type": "stream",
          "name": "stdout",
          "text": [
            " and the original professional of the standard of the professional company and section of the standards and the state to considered the community in the United States of the United States and the Cape \n"
          ]
        },
        {
          "output_type": "stream",
          "name": "stderr",
          "text": [
            " 60%|██████    | 30239/50000 [04:49<02:49, 116.40it/s]"
          ]
        },
        {
          "output_type": "stream",
          "name": "stdout",
          "text": [
            "Loss: 1.35105703830719\n"
          ]
        },
        {
          "output_type": "stream",
          "name": "stderr",
          "text": [
            "\n",
            "  0%|          | 0/200 [00:00<?, ?it/s]\u001b[A\n",
            "100%|██████████| 200/200 [00:00<00:00, 1432.46it/s]\n",
            " 61%|██████    | 30253/50000 [04:49<03:34, 91.91it/s] "
          ]
        },
        {
          "output_type": "stream",
          "name": "stdout",
          "text": [
            " and the control of the total and the completed the result to the first the standard of the result of the experience of the term in the United States and the result of the same number of the set of the\n"
          ]
        },
        {
          "output_type": "stream",
          "name": "stderr",
          "text": [
            " 61%|██████    | 30286/50000 [04:49<02:46, 118.60it/s]"
          ]
        },
        {
          "output_type": "stream",
          "name": "stdout",
          "text": [
            "Loss: 1.3681072831153869\n"
          ]
        },
        {
          "output_type": "stream",
          "name": "stderr",
          "text": [
            "\n",
            "  0%|          | 0/200 [00:00<?, ?it/s]\u001b[A\n",
            "100%|██████████| 200/200 [00:00<00:00, 1381.32it/s]\n",
            " 61%|██████    | 30300/50000 [04:49<03:33, 92.19it/s] "
          ]
        },
        {
          "output_type": "stream",
          "name": "stdout",
          "text": [
            " to a provides the service of contraction of the company in the trains to the active number of the original product to the standard in the process in the provide the result of the source for the progra\n"
          ]
        },
        {
          "output_type": "stream",
          "name": "stderr",
          "text": [
            " 61%|██████    | 30348/50000 [04:50<02:35, 126.37it/s]"
          ]
        },
        {
          "output_type": "stream",
          "name": "stdout",
          "text": [
            "Loss: 1.360284571647644\n"
          ]
        },
        {
          "output_type": "stream",
          "name": "stderr",
          "text": [
            "\n",
            "  0%|          | 0/200 [00:00<?, ?it/s]\u001b[A\n",
            "100%|██████████| 200/200 [00:00<00:00, 1438.98it/s]\n"
          ]
        },
        {
          "output_type": "stream",
          "name": "stdout",
          "text": [
            " and other the services of the common and the state of the American American American and Cape Verde is the population of the production of the million of the term significant the problems and prime th\n"
          ]
        },
        {
          "output_type": "stream",
          "name": "stderr",
          "text": [
            " 61%|██████    | 30394/50000 [04:50<02:48, 116.59it/s]"
          ]
        },
        {
          "output_type": "stream",
          "name": "stdout",
          "text": [
            "Loss: 1.3654155540466308\n"
          ]
        },
        {
          "output_type": "stream",
          "name": "stderr",
          "text": [
            "\n",
            "  0%|          | 0/200 [00:00<?, ?it/s]\u001b[A\n",
            "100%|██████████| 200/200 [00:00<00:00, 1181.86it/s]"
          ]
        },
        {
          "output_type": "stream",
          "name": "stdout",
          "text": [
            " to the majority of the state of the second new standard and many state of the products and the company of the majority of the part of the train was a community and which the state of the process of th\n"
          ]
        },
        {
          "output_type": "stream",
          "name": "stderr",
          "text": [
            "\n",
            " 61%|██████    | 30437/50000 [04:51<03:02, 107.34it/s]"
          ]
        },
        {
          "output_type": "stream",
          "name": "stdout",
          "text": [
            "Loss: 1.373033607006073\n"
          ]
        },
        {
          "output_type": "stream",
          "name": "stderr",
          "text": [
            "\n",
            "  0%|          | 0/200 [00:00<?, ?it/s]\u001b[A\n",
            "100%|██████████| 200/200 [00:00<00:00, 1199.61it/s]\n",
            " 61%|██████    | 30450/50000 [04:51<04:00, 81.40it/s] "
          ]
        },
        {
          "output_type": "stream",
          "name": "stdout",
          "text": [
            " and the companies are not also a computer standards and a transportation of the states and the computer and allowed to the state in the standards and the production of the first or collection of a pro\n"
          ]
        },
        {
          "output_type": "stream",
          "name": "stderr",
          "text": [
            " 61%|██████    | 30497/50000 [04:51<02:45, 117.56it/s]"
          ]
        },
        {
          "output_type": "stream",
          "name": "stdout",
          "text": [
            "Loss: 1.3675572657585144\n"
          ]
        },
        {
          "output_type": "stream",
          "name": "stderr",
          "text": [
            "\n",
            "  0%|          | 0/200 [00:00<?, ?it/s]\u001b[A\n",
            "100%|██████████| 200/200 [00:00<00:00, 1360.75it/s]\n"
          ]
        },
        {
          "output_type": "stream",
          "name": "stdout",
          "text": [
            " considered a programmes on the American American Cape Verde is a process of the committees and the proposed to the support and subsequently and regions that the construction of the common management i\n"
          ]
        },
        {
          "output_type": "stream",
          "name": "stderr",
          "text": [
            " 61%|██████    | 30540/50000 [04:52<02:58, 109.08it/s]"
          ]
        },
        {
          "output_type": "stream",
          "name": "stdout",
          "text": [
            "Loss: 1.3704081463813782\n"
          ]
        },
        {
          "output_type": "stream",
          "name": "stderr",
          "text": [
            "\n",
            "  0%|          | 0/200 [00:00<?, ?it/s]\u001b[A\n",
            "100%|██████████| 200/200 [00:00<00:00, 1374.15it/s]\n",
            " 61%|██████    | 30553/50000 [04:52<03:47, 85.57it/s] "
          ]
        },
        {
          "output_type": "stream",
          "name": "stdout",
          "text": [
            " in 2015, the Seoul of the Cape Verde and the basic state and research seen and distributed to the companies and the first operations and the state of the state of the trains was an authority of the co\n"
          ]
        },
        {
          "output_type": "stream",
          "name": "stderr",
          "text": [
            " 61%|██████    | 30599/50000 [04:52<02:42, 119.70it/s]"
          ]
        },
        {
          "output_type": "stream",
          "name": "stdout",
          "text": [
            "Loss: 1.3537314581871032\n"
          ]
        },
        {
          "output_type": "stream",
          "name": "stderr",
          "text": [
            "\n",
            "  0%|          | 0/200 [00:00<?, ?it/s]\u001b[A\n",
            "100%|██████████| 200/200 [00:00<00:00, 1081.43it/s]"
          ]
        },
        {
          "output_type": "stream",
          "name": "stdout",
          "text": [
            " and the state of the properties to the companies and the professional in the United States and the same services in the company and the country of the control to the production of the process of the s\n"
          ]
        },
        {
          "output_type": "stream",
          "name": "stderr",
          "text": [
            "\n",
            " 61%|██████▏   | 30642/50000 [04:53<03:05, 104.36it/s]"
          ]
        },
        {
          "output_type": "stream",
          "name": "stdout",
          "text": [
            "Loss: 1.3676895928382873\n"
          ]
        },
        {
          "output_type": "stream",
          "name": "stderr",
          "text": [
            "\n",
            "  0%|          | 0/200 [00:00<?, ?it/s]\u001b[A\n",
            "100%|██████████| 200/200 [00:00<00:00, 1011.72it/s]\n",
            " 61%|██████▏   | 30670/50000 [04:53<03:41, 87.27it/s]"
          ]
        },
        {
          "output_type": "stream",
          "name": "stdout",
          "text": [
            " and the state of the computer religious or the proposed to a products in the United States and interest in the most state and an and the process of the original and the contraction of the responsible \n"
          ]
        },
        {
          "output_type": "stream",
          "name": "stderr",
          "text": [
            " 61%|██████▏   | 30697/50000 [04:53<03:01, 106.52it/s]"
          ]
        },
        {
          "output_type": "stream",
          "name": "stdout",
          "text": [
            "Loss: 1.3758164548873901\n"
          ]
        },
        {
          "output_type": "stream",
          "name": "stderr",
          "text": [
            "\n",
            "  0%|          | 0/200 [00:00<?, ?it/s]\u001b[A\n",
            "100%|██████████| 200/200 [00:00<00:00, 1434.14it/s]\n"
          ]
        },
        {
          "output_type": "stream",
          "name": "stdout",
          "text": [
            " and the production of the international population of the state of the state of the result of the state and the construction of the considered the network and the computer services are also be a serie\n"
          ]
        },
        {
          "output_type": "stream",
          "name": "stderr",
          "text": [
            " 61%|██████▏   | 30742/50000 [04:54<02:50, 113.13it/s]"
          ]
        },
        {
          "output_type": "stream",
          "name": "stdout",
          "text": [
            "Loss: 1.376315290927887\n"
          ]
        },
        {
          "output_type": "stream",
          "name": "stderr",
          "text": [
            "\n",
            "  0%|          | 0/200 [00:00<?, ?it/s]\u001b[A\n",
            "100%|██████████| 200/200 [00:00<00:00, 1431.72it/s]\n",
            " 62%|██████▏   | 30756/50000 [04:54<03:36, 89.05it/s] "
          ]
        },
        {
          "output_type": "stream",
          "name": "stdout",
          "text": [
            " to the sources of the second medical state in the state and considered the country in the production of the United States that is an according to the control of any of the original services in the sec\n"
          ]
        },
        {
          "output_type": "stream",
          "name": "stderr",
          "text": [
            " 62%|██████▏   | 30788/50000 [04:54<02:46, 115.59it/s]"
          ]
        },
        {
          "output_type": "stream",
          "name": "stdout",
          "text": [
            "Loss: 1.3747137689590454\n"
          ]
        },
        {
          "output_type": "stream",
          "name": "stderr",
          "text": [
            "\n",
            "  0%|          | 0/200 [00:00<?, ?it/s]\u001b[A\n",
            "100%|██████████| 200/200 [00:00<00:00, 1424.28it/s]\n",
            " 62%|██████▏   | 30802/50000 [04:54<03:31, 90.77it/s] "
          ]
        },
        {
          "output_type": "stream",
          "name": "stdout",
          "text": [
            " the standards and communication of the state and the result in the products and companies and the second is a formal areas of the control of the commercial development of the company of the process an\n"
          ]
        },
        {
          "output_type": "stream",
          "name": "stderr",
          "text": [
            " 62%|██████▏   | 30849/50000 [04:55<02:33, 124.75it/s]"
          ]
        },
        {
          "output_type": "stream",
          "name": "stdout",
          "text": [
            "Loss: 1.3613336563110352\n"
          ]
        },
        {
          "output_type": "stream",
          "name": "stderr",
          "text": [
            "\n",
            "  0%|          | 0/200 [00:00<?, ?it/s]\u001b[A\n",
            "100%|██████████| 200/200 [00:00<00:00, 1419.49it/s]\n"
          ]
        },
        {
          "output_type": "stream",
          "name": "stdout",
          "text": [
            " and substantial state and the state of the Pythagoras of the most company at the company and the state of the production of the international services of the state of the content of the Cape Verde and\n"
          ]
        },
        {
          "output_type": "stream",
          "name": "stderr",
          "text": [
            " 62%|██████▏   | 30895/50000 [04:55<02:40, 119.31it/s]"
          ]
        },
        {
          "output_type": "stream",
          "name": "stdout",
          "text": [
            "Loss: 1.3644749450683593\n"
          ]
        },
        {
          "output_type": "stream",
          "name": "stderr",
          "text": [
            "\n",
            "  0%|          | 0/200 [00:00<?, ?it/s]\u001b[A\n",
            "100%|██████████| 200/200 [00:00<00:00, 1337.73it/s]\n"
          ]
        },
        {
          "output_type": "stream",
          "name": "stdout",
          "text": [
            " to the population of the participate and a number of state and in personal care and the second have a standard and a support to the state and an explored to a sectors of the state of the southern the \n"
          ]
        },
        {
          "output_type": "stream",
          "name": "stderr",
          "text": [
            " 62%|██████▏   | 30941/50000 [04:56<02:44, 115.99it/s]"
          ]
        },
        {
          "output_type": "stream",
          "name": "stdout",
          "text": [
            "Loss: 1.3609323406219482\n"
          ]
        },
        {
          "output_type": "stream",
          "name": "stderr",
          "text": [
            "\n",
            "  0%|          | 0/200 [00:00<?, ?it/s]\u001b[A\n",
            "100%|██████████| 200/200 [00:00<00:00, 1262.31it/s]\n",
            " 62%|██████▏   | 30955/50000 [04:56<03:35, 88.31it/s] "
          ]
        },
        {
          "output_type": "stream",
          "name": "stdout",
          "text": [
            " and a secretary of the international computer standards and an international problem is a provide a more computer trains and the state of the American the same and services to develop the second the s\n"
          ]
        },
        {
          "output_type": "stream",
          "name": "stderr",
          "text": [
            " 62%|██████▏   | 30987/50000 [04:56<02:46, 114.06it/s]"
          ]
        },
        {
          "output_type": "stream",
          "name": "stdout",
          "text": [
            "Loss: 1.3708007383346557\n"
          ]
        },
        {
          "output_type": "stream",
          "name": "stderr",
          "text": [
            "\n",
            "  0%|          | 0/200 [00:00<?, ?it/s]\u001b[A\n",
            "100%|██████████| 200/200 [00:00<00:00, 1389.27it/s]\n",
            " 62%|██████▏   | 31001/50000 [04:56<03:31, 89.81it/s] "
          ]
        },
        {
          "output_type": "stream",
          "name": "stdout",
          "text": [
            " and the state and the activities are the state in the United States state of the higher body product of the provide a secure the state and an international state of the community for international and\n"
          ]
        },
        {
          "output_type": "stream",
          "name": "stderr",
          "text": [
            " 62%|██████▏   | 31049/50000 [04:57<02:29, 126.35it/s]"
          ]
        },
        {
          "output_type": "stream",
          "name": "stdout",
          "text": [
            "Loss: 1.3792049431800841\n"
          ]
        },
        {
          "output_type": "stream",
          "name": "stderr",
          "text": [
            "\n",
            "  0%|          | 0/200 [00:00<?, ?it/s]\u001b[A\n",
            "100%|██████████| 200/200 [00:00<00:00, 1326.35it/s]\n"
          ]
        },
        {
          "output_type": "stream",
          "name": "stdout",
          "text": [
            " and other notation of the significant company and an individual for the standard in the company and the protection of the southern formal company of the company in the United States and the subject of\n"
          ]
        },
        {
          "output_type": "stream",
          "name": "stderr",
          "text": [
            " 62%|██████▏   | 31096/50000 [04:57<02:39, 118.42it/s]"
          ]
        },
        {
          "output_type": "stream",
          "name": "stdout",
          "text": [
            "Loss: 1.3721618962287903\n"
          ]
        },
        {
          "output_type": "stream",
          "name": "stderr",
          "text": [
            "\n",
            "  0%|          | 0/200 [00:00<?, ?it/s]\u001b[A\n",
            "100%|██████████| 200/200 [00:00<00:00, 1423.88it/s]\n"
          ]
        },
        {
          "output_type": "stream",
          "name": "stdout",
          "text": [
            " and the position of the states are a set the structure in the state and the series of a services and the problems of a secondary and the control of the contraction of the Cape Verde was a produce the \n"
          ]
        },
        {
          "output_type": "stream",
          "name": "stderr",
          "text": [
            " 62%|██████▏   | 31143/50000 [04:57<02:39, 117.93it/s]"
          ]
        },
        {
          "output_type": "stream",
          "name": "stdout",
          "text": [
            "Loss: 1.376278419494629\n"
          ]
        },
        {
          "output_type": "stream",
          "name": "stderr",
          "text": [
            "\n",
            "  0%|          | 0/200 [00:00<?, ?it/s]\u001b[A\n",
            "100%|██████████| 200/200 [00:00<00:00, 1376.34it/s]\n",
            " 62%|██████▏   | 31157/50000 [04:58<03:25, 91.62it/s] "
          ]
        },
        {
          "output_type": "stream",
          "name": "stdout",
          "text": [
            " in in the United States and the most and service and the service of the problems in the United States in the United States to the first companies and computer service of the concept of the Cape Verdea\n"
          ]
        },
        {
          "output_type": "stream",
          "name": "stderr",
          "text": [
            " 62%|██████▏   | 31188/50000 [04:58<02:43, 114.93it/s]"
          ]
        },
        {
          "output_type": "stream",
          "name": "stdout",
          "text": [
            "Loss: 1.358381643295288\n"
          ]
        },
        {
          "output_type": "stream",
          "name": "stderr",
          "text": [
            "\n",
            "  0%|          | 0/200 [00:00<?, ?it/s]\u001b[A\n",
            "100%|██████████| 200/200 [00:00<00:00, 1396.33it/s]\n",
            " 62%|██████▏   | 31202/50000 [04:58<03:29, 89.91it/s] "
          ]
        },
        {
          "output_type": "stream",
          "name": "stdout",
          "text": [
            " in 1990, the first community of the second and one of the services and production of the are the seats of the transportation of the United States that the trains and the state of the group of the expe\n"
          ]
        },
        {
          "output_type": "stream",
          "name": "stderr",
          "text": [
            " 62%|██████▏   | 31234/50000 [04:58<02:41, 116.13it/s]"
          ]
        },
        {
          "output_type": "stream",
          "name": "stdout",
          "text": [
            "Loss: 1.3734082460403443\n"
          ]
        },
        {
          "output_type": "stream",
          "name": "stderr",
          "text": [
            "\n",
            "  0%|          | 0/200 [00:00<?, ?it/s]\u001b[A\n",
            "100%|██████████| 200/200 [00:00<00:00, 1275.09it/s]\n",
            " 62%|██████▎   | 31250/50000 [04:59<03:27, 90.45it/s] "
          ]
        },
        {
          "output_type": "stream",
          "name": "stdout",
          "text": [
            " and the state in the company and the properties and the simplified to proposed from the provide the term of the American and protect the produced the standard school of the Cape Verdean and an experie\n"
          ]
        },
        {
          "output_type": "stream",
          "name": "stderr",
          "text": [
            " 63%|██████▎   | 31297/50000 [04:59<02:32, 122.99it/s]"
          ]
        },
        {
          "output_type": "stream",
          "name": "stdout",
          "text": [
            "Loss: 1.375354709625244\n"
          ]
        },
        {
          "output_type": "stream",
          "name": "stderr",
          "text": [
            "\n",
            "  0%|          | 0/200 [00:00<?, ?it/s]\u001b[A\n",
            "100%|██████████| 200/200 [00:00<00:00, 1389.45it/s]\n"
          ]
        },
        {
          "output_type": "stream",
          "name": "stdout",
          "text": [
            " and the state and company in the application of the second and article of the state and control and the southern companies and the most process and the state and the service of the companies that is a\n"
          ]
        },
        {
          "output_type": "stream",
          "name": "stderr",
          "text": [
            " 63%|██████▎   | 31345/50000 [04:59<02:35, 120.16it/s]"
          ]
        },
        {
          "output_type": "stream",
          "name": "stdout",
          "text": [
            "Loss: 1.3744177508354187\n"
          ]
        },
        {
          "output_type": "stream",
          "name": "stderr",
          "text": [
            "\n",
            "  0%|          | 0/200 [00:00<?, ?it/s]\u001b[A\n",
            "100%|██████████| 200/200 [00:00<00:00, 1304.10it/s]\n"
          ]
        },
        {
          "output_type": "stream",
          "name": "stdout",
          "text": [
            " to the production and a most of the company and an and provides a second in the archipelago is a significant production of the state of the prototype of the Cape Verde is a services of the common stat\n"
          ]
        },
        {
          "output_type": "stream",
          "name": "stderr",
          "text": [
            " 63%|██████▎   | 31391/50000 [05:00<02:40, 115.88it/s]"
          ]
        },
        {
          "output_type": "stream",
          "name": "stdout",
          "text": [
            "Loss: 1.3685406398773194\n"
          ]
        },
        {
          "output_type": "stream",
          "name": "stderr",
          "text": [
            "\n",
            "  0%|          | 0/200 [00:00<?, ?it/s]\u001b[A\n",
            "100%|██████████| 200/200 [00:00<00:00, 1367.17it/s]\n",
            " 63%|██████▎   | 31405/50000 [05:00<03:28, 89.16it/s] "
          ]
        },
        {
          "output_type": "stream",
          "name": "stdout",
          "text": [
            " the archipelago is a result of the company and state of the control of the decision and the proposed to the set of a provides the control in the production of the experiences of the set of the souther\n"
          ]
        },
        {
          "output_type": "stream",
          "name": "stderr",
          "text": [
            " 63%|██████▎   | 31438/50000 [05:00<02:39, 116.42it/s]"
          ]
        },
        {
          "output_type": "stream",
          "name": "stdout",
          "text": [
            "Loss: 1.3680836129188538\n"
          ]
        },
        {
          "output_type": "stream",
          "name": "stderr",
          "text": [
            "\n",
            "  0%|          | 0/200 [00:00<?, ?it/s]\u001b[A\n",
            "100%|██████████| 200/200 [00:00<00:00, 1418.47it/s]\n",
            " 63%|██████▎   | 31452/50000 [05:01<03:22, 91.53it/s] "
          ]
        },
        {
          "output_type": "stream",
          "name": "stdout",
          "text": [
            " in the United States and the state and products and the second the control is a proposed to the computer standards of the particular state and the case of the result of the standard of the state of th\n"
          ]
        },
        {
          "output_type": "stream",
          "name": "stderr",
          "text": [
            " 63%|██████▎   | 31485/50000 [05:01<02:37, 117.66it/s]"
          ]
        },
        {
          "output_type": "stream",
          "name": "stdout",
          "text": [
            "Loss: 1.366461284160614\n"
          ]
        },
        {
          "output_type": "stream",
          "name": "stderr",
          "text": [
            "\n",
            "  0%|          | 0/200 [00:00<?, ?it/s]\u001b[A\n",
            "100%|██████████| 200/200 [00:00<00:00, 1119.94it/s]\n",
            " 63%|██████▎   | 31500/50000 [05:01<03:31, 87.54it/s] "
          ]
        },
        {
          "output_type": "stream",
          "name": "stdout",
          "text": [
            " and the state of the provided to the majority of the companies and the sources and the states in the second and services of the process and an international state is also a similar to the one of the p\n"
          ]
        },
        {
          "output_type": "stream",
          "name": "stderr",
          "text": [
            " 63%|██████▎   | 31548/50000 [05:01<02:28, 123.85it/s]"
          ]
        },
        {
          "output_type": "stream",
          "name": "stdout",
          "text": [
            "Loss: 1.3637377619743347\n"
          ]
        },
        {
          "output_type": "stream",
          "name": "stderr",
          "text": [
            "\n",
            "  0%|          | 0/200 [00:00<?, ?it/s]\u001b[A\n",
            "100%|██████████| 200/200 [00:00<00:00, 1387.98it/s]\n"
          ]
        },
        {
          "output_type": "stream",
          "name": "stdout",
          "text": [
            " and the products of the same production of the area and artificial network design to the state and the development of the standards that the computer for the laws of the state and a set of the communi\n"
          ]
        },
        {
          "output_type": "stream",
          "name": "stderr",
          "text": [
            " 63%|██████▎   | 31597/50000 [05:02<02:32, 121.02it/s]"
          ]
        },
        {
          "output_type": "stream",
          "name": "stdout",
          "text": [
            "Loss: 1.3810924291610718\n"
          ]
        },
        {
          "output_type": "stream",
          "name": "stderr",
          "text": [
            "\n",
            "  0%|          | 0/200 [00:00<?, ?it/s]\u001b[A\n",
            "100%|██████████| 200/200 [00:00<00:00, 1312.60it/s]\n"
          ]
        },
        {
          "output_type": "stream",
          "name": "stdout",
          "text": [
            " and the archipelago are also include the southern the control of the Cape Verde and the companies of the state of the company and the construction of the computer and the result to the state of the ma\n"
          ]
        },
        {
          "output_type": "stream",
          "name": "stderr",
          "text": [
            " 63%|██████▎   | 31642/50000 [05:02<02:41, 113.83it/s]"
          ]
        },
        {
          "output_type": "stream",
          "name": "stdout",
          "text": [
            "Loss: 1.3669750952720643\n"
          ]
        },
        {
          "output_type": "stream",
          "name": "stderr",
          "text": [
            "\n",
            "  0%|          | 0/200 [00:00<?, ?it/s]\u001b[A\n",
            "100%|██████████| 200/200 [00:00<00:00, 1345.83it/s]\n",
            " 63%|██████▎   | 31656/50000 [05:03<03:26, 88.85it/s] "
          ]
        },
        {
          "output_type": "stream",
          "name": "stdout",
          "text": [
            " and the country of the results of the American Cape Verde has a biological provide designed to the area of the state of the source of the proposal to the state of the state and the train process of th\n"
          ]
        },
        {
          "output_type": "stream",
          "name": "stderr",
          "text": [
            " 63%|██████▎   | 31688/50000 [05:03<02:38, 115.41it/s]"
          ]
        },
        {
          "output_type": "stream",
          "name": "stdout",
          "text": [
            "Loss: 1.3618794393539428\n"
          ]
        },
        {
          "output_type": "stream",
          "name": "stderr",
          "text": [
            "\n",
            "  0%|          | 0/200 [00:00<?, ?it/s]\u001b[A\n",
            "100%|██████████| 200/200 [00:00<00:00, 1282.90it/s]\n",
            " 63%|██████▎   | 31702/50000 [05:03<03:26, 88.58it/s] "
          ]
        },
        {
          "output_type": "stream",
          "name": "stdout",
          "text": [
            " and other standard and the experimental proposed to a special state in the control of the track of the largest program that the construction of the communication of the Cape Verde is a significant sou\n"
          ]
        },
        {
          "output_type": "stream",
          "name": "stderr",
          "text": [
            " 63%|██████▎   | 31748/50000 [05:03<02:34, 117.90it/s]"
          ]
        },
        {
          "output_type": "stream",
          "name": "stdout",
          "text": [
            "Loss: 1.3697517251968383\n"
          ]
        },
        {
          "output_type": "stream",
          "name": "stderr",
          "text": [
            "\n",
            "  0%|          | 0/200 [00:00<?, ?it/s]\u001b[A\n",
            "100%|██████████| 200/200 [00:00<00:00, 1185.24it/s]\n"
          ]
        },
        {
          "output_type": "stream",
          "name": "stdout",
          "text": [
            " to the southern state of the experience and an and a design are also be a large research and substantial system to the area of the standard for the largest provided and the same and construction of th\n"
          ]
        },
        {
          "output_type": "stream",
          "name": "stderr",
          "text": [
            " 64%|██████▎   | 31793/50000 [05:04<02:46, 109.50it/s]"
          ]
        },
        {
          "output_type": "stream",
          "name": "stdout",
          "text": [
            "Loss: 1.3631830215454102\n"
          ]
        },
        {
          "output_type": "stream",
          "name": "stderr",
          "text": [
            "\n",
            "  0%|          | 0/200 [00:00<?, ?it/s]\u001b[A\n",
            "100%|██████████| 200/200 [00:00<00:00, 1083.97it/s]"
          ]
        },
        {
          "output_type": "stream",
          "name": "stdout",
          "text": [
            " the company and computing state and the contraction of some of the state of the company of the state of the southern location of the problem was control of a service on the state of the content of the\n"
          ]
        },
        {
          "output_type": "stream",
          "name": "stderr",
          "text": [
            "\n",
            " 64%|██████▎   | 31836/50000 [05:04<02:53, 104.51it/s]"
          ]
        },
        {
          "output_type": "stream",
          "name": "stdout",
          "text": [
            "Loss: 1.3690515112876893\n"
          ]
        },
        {
          "output_type": "stream",
          "name": "stderr",
          "text": [
            "\n",
            "  0%|          | 0/200 [00:00<?, ?it/s]\u001b[A\n",
            "100%|██████████| 200/200 [00:00<00:00, 1290.29it/s]\n",
            " 64%|██████▎   | 31850/50000 [05:05<03:40, 82.45it/s] "
          ]
        },
        {
          "output_type": "stream",
          "name": "stdout",
          "text": [
            " the state of the first the professional standards and the common and state of the international computer standards and called the result in the United States and the archipelago of the participating t\n"
          ]
        },
        {
          "output_type": "stream",
          "name": "stderr",
          "text": [
            " 64%|██████▍   | 31895/50000 [05:05<02:34, 117.09it/s]"
          ]
        },
        {
          "output_type": "stream",
          "name": "stdout",
          "text": [
            "Loss: 1.369589445590973\n"
          ]
        },
        {
          "output_type": "stream",
          "name": "stderr",
          "text": [
            "\n",
            "  0%|          | 0/200 [00:00<?, ?it/s]\u001b[A\n",
            "100%|██████████| 200/200 [00:00<00:00, 1156.92it/s]"
          ]
        },
        {
          "output_type": "stream",
          "name": "stdout",
          "text": [
            " and other set of the problems in the United States in the United States and the problems in the second in the company and an experience of the original state and the completed a set of sets the southe\n"
          ]
        },
        {
          "output_type": "stream",
          "name": "stderr",
          "text": [
            "\n",
            " 64%|██████▍   | 31940/50000 [05:05<02:44, 109.54it/s]"
          ]
        },
        {
          "output_type": "stream",
          "name": "stdout",
          "text": [
            "Loss: 1.3700013589859008\n"
          ]
        },
        {
          "output_type": "stream",
          "name": "stderr",
          "text": [
            "\n",
            "  0%|          | 0/200 [00:00<?, ?it/s]\u001b[A\n",
            "100%|██████████| 200/200 [00:00<00:00, 1120.62it/s]"
          ]
        },
        {
          "output_type": "stream",
          "name": "stdout",
          "text": [
            " control contained in the 1970s and the substance of the first relations and considered a services in the control of the cases in the proposed to the state and interaction in the United States and the \n"
          ]
        },
        {
          "output_type": "stream",
          "name": "stderr",
          "text": [
            "\n",
            " 64%|██████▍   | 31996/50000 [05:06<02:44, 109.66it/s]"
          ]
        },
        {
          "output_type": "stream",
          "name": "stdout",
          "text": [
            "Loss: 1.3602921915054322\n"
          ]
        },
        {
          "output_type": "stream",
          "name": "stderr",
          "text": [
            "\n",
            "  0%|          | 0/200 [00:00<?, ?it/s]\u001b[A\n",
            " 50%|████▉     | 99/200 [00:00<00:00, 983.48it/s]\u001b[A\n",
            "100%|██████████| 200/200 [00:00<00:00, 899.19it/s]\n",
            " 64%|██████▍   | 32022/50000 [05:06<03:38, 82.34it/s]"
          ]
        },
        {
          "output_type": "stream",
          "name": "stdout",
          "text": [
            " and the state of the second and and and international revenue of the United States and the late 1990s may be some of the approach to the provide account of the production of the considered the profess\n"
          ]
        },
        {
          "output_type": "stream",
          "name": "stderr",
          "text": [
            "\r 64%|██████▍   | 32035/50000 [05:06<03:16, 91.43it/s]"
          ]
        },
        {
          "output_type": "stream",
          "name": "stdout",
          "text": [
            "Loss: 1.3500601935386658\n"
          ]
        },
        {
          "output_type": "stream",
          "name": "stderr",
          "text": [
            "\n",
            "  0%|          | 0/200 [00:00<?, ?it/s]\u001b[A\n",
            "100%|██████████| 200/200 [00:00<00:00, 1281.08it/s]\n",
            " 64%|██████▍   | 32050/50000 [05:07<03:56, 75.99it/s]"
          ]
        },
        {
          "output_type": "stream",
          "name": "stdout",
          "text": [
            " and organized and a company and former for the present that the largest programmed to the services and the state of the particular sites and the process of the response that it is a services and the s\n"
          ]
        },
        {
          "output_type": "stream",
          "name": "stderr",
          "text": [
            " 64%|██████▍   | 32098/50000 [05:07<02:32, 117.71it/s]"
          ]
        },
        {
          "output_type": "stream",
          "name": "stdout",
          "text": [
            "Loss: 1.3630969953536987\n"
          ]
        },
        {
          "output_type": "stream",
          "name": "stderr",
          "text": [
            "\n",
            "  0%|          | 0/200 [00:00<?, ?it/s]\u001b[A\n",
            "100%|██████████| 200/200 [00:00<00:00, 1381.33it/s]\n"
          ]
        },
        {
          "output_type": "stream",
          "name": "stdout",
          "text": [
            " is an independent and a state in the United States of the United States and the state at the proposed a seats to the first American and control of the entry of the station of the state and the neuromo\n"
          ]
        },
        {
          "output_type": "stream",
          "name": "stderr",
          "text": [
            " 64%|██████▍   | 32145/50000 [05:08<02:32, 116.70it/s]"
          ]
        },
        {
          "output_type": "stream",
          "name": "stdout",
          "text": [
            "Loss: 1.3679480934143067\n"
          ]
        },
        {
          "output_type": "stream",
          "name": "stderr",
          "text": [
            "\n",
            "  0%|          | 0/200 [00:00<?, ?it/s]\u001b[A\n",
            "100%|██████████| 200/200 [00:00<00:00, 1441.81it/s]\n"
          ]
        },
        {
          "output_type": "stream",
          "name": "stdout",
          "text": [
            " and a members and computer state of the second state of the processes in the 1990s in the United States of South American and the set of the first American and developed by the state in the United Sta\n"
          ]
        },
        {
          "output_type": "stream",
          "name": "stderr",
          "text": [
            " 64%|██████▍   | 32191/50000 [05:08<02:33, 116.19it/s]"
          ]
        },
        {
          "output_type": "stream",
          "name": "stdout",
          "text": [
            "Loss: 1.3624851942062377\n"
          ]
        },
        {
          "output_type": "stream",
          "name": "stderr",
          "text": [
            "\n",
            "  0%|          | 0/200 [00:00<?, ?it/s]\u001b[A\n",
            "100%|██████████| 200/200 [00:00<00:00, 1429.75it/s]\n",
            " 64%|██████▍   | 32205/50000 [05:08<03:14, 91.47it/s] "
          ]
        },
        {
          "output_type": "stream",
          "name": "stdout",
          "text": [
            " and the second are represent the state and production of the state of the control of the entire state the systems and the process and the state in the process of the state of the services are sense of\n"
          ]
        },
        {
          "output_type": "stream",
          "name": "stderr",
          "text": [
            " 64%|██████▍   | 32237/50000 [05:08<02:31, 117.48it/s]"
          ]
        },
        {
          "output_type": "stream",
          "name": "stdout",
          "text": [
            "Loss: 1.3629240846633912\n"
          ]
        },
        {
          "output_type": "stream",
          "name": "stderr",
          "text": [
            "\n",
            "  0%|          | 0/200 [00:00<?, ?it/s]\u001b[A\n",
            "100%|██████████| 200/200 [00:00<00:00, 1333.11it/s]\n",
            " 65%|██████▍   | 32251/50000 [05:09<03:15, 90.59it/s] "
          ]
        },
        {
          "output_type": "stream",
          "name": "stdout",
          "text": [
            " considered the completed the substantial protect completed to a state of the common more than 10,000 per the state of the are construction in the company in the population of the state and many of the\n"
          ]
        },
        {
          "output_type": "stream",
          "name": "stderr",
          "text": [
            " 65%|██████▍   | 32299/50000 [05:09<02:20, 126.11it/s]"
          ]
        },
        {
          "output_type": "stream",
          "name": "stdout",
          "text": [
            "Loss: 1.3718073987960815\n"
          ]
        },
        {
          "output_type": "stream",
          "name": "stderr",
          "text": [
            "\n",
            "  0%|          | 0/200 [00:00<?, ?it/s]\u001b[A\n",
            "100%|██████████| 200/200 [00:00<00:00, 1385.31it/s]\n"
          ]
        },
        {
          "output_type": "stream",
          "name": "stdout",
          "text": [
            " and the proposed the country and the control of the state and a many of the particular members of the term and state and the time the result to the first and share of the services and the provide the \n"
          ]
        },
        {
          "output_type": "stream",
          "name": "stderr",
          "text": [
            " 65%|██████▍   | 32346/50000 [05:09<02:27, 119.36it/s]"
          ]
        },
        {
          "output_type": "stream",
          "name": "stdout",
          "text": [
            "Loss: 1.3732160472869872\n"
          ]
        },
        {
          "output_type": "stream",
          "name": "stderr",
          "text": [
            "\n",
            "  0%|          | 0/200 [00:00<?, ?it/s]\u001b[A\n",
            "100%|██████████| 200/200 [00:00<00:00, 1296.14it/s]\n"
          ]
        },
        {
          "output_type": "stream",
          "name": "stdout",
          "text": [
            " in a production of the process and activities are increase the constitutional state of the state was the state of the state of the state and the process of the end of the service of the state in the c\n"
          ]
        },
        {
          "output_type": "stream",
          "name": "stderr",
          "text": [
            " 65%|██████▍   | 32393/50000 [05:10<02:30, 117.04it/s]"
          ]
        },
        {
          "output_type": "stream",
          "name": "stdout",
          "text": [
            "Loss: 1.3715348076820373\n"
          ]
        },
        {
          "output_type": "stream",
          "name": "stderr",
          "text": [
            "\n",
            "  0%|          | 0/200 [00:00<?, ?it/s]\u001b[A\n",
            "100%|██████████| 200/200 [00:00<00:00, 1374.77it/s]\n",
            " 65%|██████▍   | 32407/50000 [05:10<03:14, 90.38it/s] "
          ]
        },
        {
          "output_type": "stream",
          "name": "stdout",
          "text": [
            " and the design of the result of the responsible for the products in the company in the United States and the design of the product of the consists to be an international systems and the common compani\n"
          ]
        },
        {
          "output_type": "stream",
          "name": "stderr",
          "text": [
            " 65%|██████▍   | 32439/50000 [05:10<02:30, 116.45it/s]"
          ]
        },
        {
          "output_type": "stream",
          "name": "stdout",
          "text": [
            "Loss: 1.3602573013305663\n"
          ]
        },
        {
          "output_type": "stream",
          "name": "stderr",
          "text": [
            "\n",
            "  0%|          | 0/200 [00:00<?, ?it/s]\u001b[A\n",
            "100%|██████████| 200/200 [00:00<00:00, 1376.44it/s]\n",
            " 65%|██████▍   | 32453/50000 [05:11<03:14, 90.16it/s] "
          ]
        },
        {
          "output_type": "stream",
          "name": "stdout",
          "text": [
            " A and the state of the United States and the control of the traditional control of the second and about 1970s of the company and the international same the process and the committee of the state of th\n"
          ]
        },
        {
          "output_type": "stream",
          "name": "stderr",
          "text": [
            " 65%|██████▍   | 32486/50000 [05:11<02:29, 117.42it/s]"
          ]
        },
        {
          "output_type": "stream",
          "name": "stdout",
          "text": [
            "Loss: 1.3616733312606812\n"
          ]
        },
        {
          "output_type": "stream",
          "name": "stderr",
          "text": [
            "\n",
            "  0%|          | 0/200 [00:00<?, ?it/s]\u001b[A\n",
            "100%|██████████| 200/200 [00:00<00:00, 1226.22it/s]\n",
            " 65%|██████▌   | 32500/50000 [05:11<03:17, 88.70it/s] "
          ]
        },
        {
          "output_type": "stream",
          "name": "stdout",
          "text": [
            " and the companies and the head of the second the communication of the standard of the Northern Station and South Communication of the American American and the state and the set of the international s\n"
          ]
        },
        {
          "output_type": "stream",
          "name": "stderr",
          "text": [
            " 65%|██████▌   | 32548/50000 [05:11<02:19, 125.19it/s]"
          ]
        },
        {
          "output_type": "stream",
          "name": "stdout",
          "text": [
            "Loss: 1.3553694653511048\n"
          ]
        },
        {
          "output_type": "stream",
          "name": "stderr",
          "text": [
            "\n",
            "  0%|          | 0/200 [00:00<?, ?it/s]\u001b[A\n",
            "100%|██████████| 200/200 [00:00<00:00, 1292.71it/s]\n"
          ]
        },
        {
          "output_type": "stream",
          "name": "stdout",
          "text": [
            " in the provided in the company and the state and an extensive companies and the production of the state of the process and an example of the state of the standards of computer services and the process\n"
          ]
        },
        {
          "output_type": "stream",
          "name": "stderr",
          "text": [
            " 65%|██████▌   | 32595/50000 [05:12<02:26, 118.56it/s]"
          ]
        },
        {
          "output_type": "stream",
          "name": "stdout",
          "text": [
            "Loss: 1.3614543890953064\n"
          ]
        },
        {
          "output_type": "stream",
          "name": "stderr",
          "text": [
            "\n",
            "  0%|          | 0/200 [00:00<?, ?it/s]\u001b[A\n",
            "100%|██████████| 200/200 [00:00<00:00, 1331.55it/s]\n"
          ]
        },
        {
          "output_type": "stream",
          "name": "stdout",
          "text": [
            " the the state of the common control of the state and the sense of the process the born in the commercial result to management of the present the subsequently to a seating of the state of the company a\n"
          ]
        },
        {
          "output_type": "stream",
          "name": "stderr",
          "text": [
            " 65%|██████▌   | 32643/50000 [05:12<02:26, 118.56it/s]"
          ]
        },
        {
          "output_type": "stream",
          "name": "stdout",
          "text": [
            "Loss: 1.3656473278999328\n"
          ]
        },
        {
          "output_type": "stream",
          "name": "stderr",
          "text": [
            "\n",
            "  0%|          | 0/200 [00:00<?, ?it/s]\u001b[A\n",
            "100%|██████████| 200/200 [00:00<00:00, 1398.38it/s]\n"
          ]
        },
        {
          "output_type": "stream",
          "name": "stdout",
          "text": [
            " and the considered the archipelago in the United States of the term and standard of the source of the majority of the March 2019. The construction in the United States in the United States and the pro\n"
          ]
        },
        {
          "output_type": "stream",
          "name": "stderr",
          "text": [
            " 65%|██████▌   | 32689/50000 [05:13<02:28, 116.56it/s]"
          ]
        },
        {
          "output_type": "stream",
          "name": "stdout",
          "text": [
            "Loss: 1.372896864414215\n"
          ]
        },
        {
          "output_type": "stream",
          "name": "stderr",
          "text": [
            "\n",
            "  0%|          | 0/200 [00:00<?, ?it/s]\u001b[A\n",
            "100%|██████████| 200/200 [00:00<00:00, 1274.81it/s]\n",
            " 65%|██████▌   | 32703/50000 [05:13<03:15, 88.67it/s] "
          ]
        },
        {
          "output_type": "stream",
          "name": "stdout",
          "text": [
            " and the states of the contraction of the state of the continued a many of the term and one of the international and social networking and the company state of the United States of the William and the \n"
          ]
        },
        {
          "output_type": "stream",
          "name": "stderr",
          "text": [
            " 65%|██████▌   | 32735/50000 [05:13<02:29, 115.21it/s]"
          ]
        },
        {
          "output_type": "stream",
          "name": "stdout",
          "text": [
            "Loss: 1.3706098365783692\n"
          ]
        },
        {
          "output_type": "stream",
          "name": "stderr",
          "text": [
            "\n",
            "  0%|          | 0/200 [00:00<?, ?it/s]\u001b[A\n",
            "100%|██████████| 200/200 [00:00<00:00, 1383.89it/s]\n",
            " 66%|██████▌   | 32750/50000 [05:13<03:08, 91.40it/s] "
          ]
        },
        {
          "output_type": "stream",
          "name": "stdout",
          "text": [
            " and a mathematical systems are an activities are see and advised to the product of the control to the state and construction of the production of the company of the first to the state in the result of\n"
          ]
        },
        {
          "output_type": "stream",
          "name": "stderr",
          "text": [
            " 66%|██████▌   | 32798/50000 [05:14<02:16, 126.10it/s]"
          ]
        },
        {
          "output_type": "stream",
          "name": "stdout",
          "text": [
            "Loss: 1.3709427475929261\n"
          ]
        },
        {
          "output_type": "stream",
          "name": "stderr",
          "text": [
            "\n",
            "  0%|          | 0/200 [00:00<?, ?it/s]\u001b[A\n",
            "100%|██████████| 200/200 [00:00<00:00, 1216.13it/s]\n"
          ]
        },
        {
          "output_type": "stream",
          "name": "stdout",
          "text": [
            " and the state of the archipelago and the standards and state and an example, the experience of a special state with the second in the United States and the process and entry of the particular particul\n"
          ]
        },
        {
          "output_type": "stream",
          "name": "stderr",
          "text": [
            " 66%|██████▌   | 32845/50000 [05:14<02:26, 117.03it/s]"
          ]
        },
        {
          "output_type": "stream",
          "name": "stdout",
          "text": [
            "Loss: 1.367485885620117\n"
          ]
        },
        {
          "output_type": "stream",
          "name": "stderr",
          "text": [
            "\n",
            "  0%|          | 0/200 [00:00<?, ?it/s]\u001b[A\n",
            "100%|██████████| 200/200 [00:00<00:00, 1379.28it/s]\n"
          ]
        },
        {
          "output_type": "stream",
          "name": "stdout",
          "text": [
            " the state of the state of the transportation of the house is a control of active areas of the result to the world and the state of the control of a many service in the born in the programmer in the st\n"
          ]
        },
        {
          "output_type": "stream",
          "name": "stderr",
          "text": [
            " 66%|██████▌   | 32892/50000 [05:15<02:25, 117.26it/s]"
          ]
        },
        {
          "output_type": "stream",
          "name": "stdout",
          "text": [
            "Loss: 1.3700987219810485\n"
          ]
        },
        {
          "output_type": "stream",
          "name": "stderr",
          "text": [
            "\n",
            "  0%|          | 0/200 [00:00<?, ?it/s]\u001b[A\n",
            "100%|██████████| 200/200 [00:00<00:00, 1393.91it/s]\n",
            " 66%|██████▌   | 32906/50000 [05:15<03:07, 91.10it/s] "
          ]
        },
        {
          "output_type": "stream",
          "name": "stdout",
          "text": [
            " and a state of the first other than the world that the traditional state and the process of the state and person and the product of the Cape Verde of the problems and the properties in the companies a\n"
          ]
        },
        {
          "output_type": "stream",
          "name": "stderr",
          "text": [
            " 66%|██████▌   | 32938/50000 [05:15<02:26, 116.17it/s]"
          ]
        },
        {
          "output_type": "stream",
          "name": "stdout",
          "text": [
            "Loss: 1.3515640234947204\n"
          ]
        },
        {
          "output_type": "stream",
          "name": "stderr",
          "text": [
            "\n",
            "  0%|          | 0/200 [00:00<?, ?it/s]\u001b[A\n",
            "100%|██████████| 200/200 [00:00<00:00, 1411.62it/s]\n",
            " 66%|██████▌   | 32952/50000 [05:15<03:07, 91.14it/s] "
          ]
        },
        {
          "output_type": "stream",
          "name": "stdout",
          "text": [
            " in a process in the United States and a transformation of the particular state and the standard to an express the community in the population and a computer proposed to the archipelago are the area is\n"
          ]
        },
        {
          "output_type": "stream",
          "name": "stderr",
          "text": [
            " 66%|██████▌   | 32984/50000 [05:16<02:25, 116.89it/s]"
          ]
        },
        {
          "output_type": "stream",
          "name": "stdout",
          "text": [
            "Loss: 1.367739849090576\n"
          ]
        },
        {
          "output_type": "stream",
          "name": "stderr",
          "text": [
            "\n",
            "  0%|          | 0/200 [00:00<?, ?it/s]\u001b[A\n",
            "100%|██████████| 200/200 [00:00<00:00, 1382.50it/s]\n",
            " 66%|██████▌   | 33000/50000 [05:16<03:03, 92.59it/s] "
          ]
        },
        {
          "output_type": "stream",
          "name": "stdout",
          "text": [
            " and the active in the second researchers are the state of the company and provide the basis and only the problems in the United States in the United States and the term service for an access to the ne\n"
          ]
        },
        {
          "output_type": "stream",
          "name": "stderr",
          "text": [
            " 66%|██████▌   | 33048/50000 [05:16<02:13, 126.69it/s]"
          ]
        },
        {
          "output_type": "stream",
          "name": "stdout",
          "text": [
            "Loss: 1.3661159992218017\n"
          ]
        },
        {
          "output_type": "stream",
          "name": "stderr",
          "text": [
            "\n",
            "  0%|          | 0/200 [00:00<?, ?it/s]\u001b[A\n",
            "100%|██████████| 200/200 [00:00<00:00, 1376.37it/s]\n"
          ]
        },
        {
          "output_type": "stream",
          "name": "stdout",
          "text": [
            " and the first activities are a profile between the term of the number of the transportation of the state and the result of the primary relationships and the state of the islands of the continued to de\n"
          ]
        },
        {
          "output_type": "stream",
          "name": "stderr",
          "text": [
            " 66%|██████▌   | 33095/50000 [05:17<02:22, 118.48it/s]"
          ]
        },
        {
          "output_type": "stream",
          "name": "stdout",
          "text": [
            "Loss: 1.3567739892005921\n"
          ]
        },
        {
          "output_type": "stream",
          "name": "stderr",
          "text": [
            "\n",
            "  0%|          | 0/200 [00:00<?, ?it/s]\u001b[A\n",
            "100%|██████████| 200/200 [00:00<00:00, 1232.11it/s]"
          ]
        },
        {
          "output_type": "stream",
          "name": "stdout",
          "text": [
            " the community is a set of the state of the term the first and information of the company of the standards in the United States and the companies and the second are in the companies and second or been \n"
          ]
        },
        {
          "output_type": "stream",
          "name": "stderr",
          "text": [
            "\n",
            " 66%|██████▋   | 33138/50000 [05:17<02:37, 107.29it/s]"
          ]
        },
        {
          "output_type": "stream",
          "name": "stdout",
          "text": [
            "Loss: 1.3619591212272644\n"
          ]
        },
        {
          "output_type": "stream",
          "name": "stderr",
          "text": [
            "\n",
            "  0%|          | 0/200 [00:00<?, ?it/s]\u001b[A\n",
            "100%|██████████| 200/200 [00:00<00:00, 1052.86it/s]"
          ]
        },
        {
          "output_type": "stream",
          "name": "stdout",
          "text": [
            " and the southern production of the second and the intersection and the state and the control such as a section of the Northern Station of Carriage and the South American games of the experiences of th\n"
          ]
        },
        {
          "output_type": "stream",
          "name": "stderr",
          "text": [
            "\n",
            " 66%|██████▋   | 33197/50000 [05:18<02:28, 113.26it/s]"
          ]
        },
        {
          "output_type": "stream",
          "name": "stdout",
          "text": [
            "Loss: 1.372376742362976\n"
          ]
        },
        {
          "output_type": "stream",
          "name": "stderr",
          "text": [
            "\n",
            "  0%|          | 0/200 [00:00<?, ?it/s]\u001b[A\n",
            "100%|██████████| 200/200 [00:00<00:00, 1360.25it/s]\n"
          ]
        },
        {
          "output_type": "stream",
          "name": "stdout",
          "text": [
            " in a standards and the process and increased the problems from the same and the companies and service to the former participation and archipelago is a same of the protect computer continued to a singl\n"
          ]
        },
        {
          "output_type": "stream",
          "name": "stderr",
          "text": [
            " 66%|██████▋   | 33241/50000 [05:18<02:31, 110.30it/s]"
          ]
        },
        {
          "output_type": "stream",
          "name": "stdout",
          "text": [
            "Loss: 1.3781365036964417\n"
          ]
        },
        {
          "output_type": "stream",
          "name": "stderr",
          "text": [
            "\n",
            "  0%|          | 0/200 [00:00<?, ?it/s]\u001b[A\n",
            "100%|██████████| 200/200 [00:00<00:00, 1386.93it/s]\n",
            " 67%|██████▋   | 33254/50000 [05:18<03:13, 86.43it/s] "
          ]
        },
        {
          "output_type": "stream",
          "name": "stdout",
          "text": [
            " and personal and the result of the position and a set to the company in 2013. Another common services of the process and computer services and the arithmetic operations of the southern the control of \n"
          ]
        },
        {
          "output_type": "stream",
          "name": "stderr",
          "text": [
            " 67%|██████▋   | 33285/50000 [05:19<02:30, 111.08it/s]"
          ]
        },
        {
          "output_type": "stream",
          "name": "stdout",
          "text": [
            "Loss: 1.380288953781128\n"
          ]
        },
        {
          "output_type": "stream",
          "name": "stderr",
          "text": [
            "\n",
            "  0%|          | 0/200 [00:00<?, ?it/s]\u001b[A\n",
            "100%|██████████| 200/200 [00:00<00:00, 1196.82it/s]\n",
            " 67%|██████▋   | 33300/50000 [05:19<03:17, 84.64it/s] "
          ]
        },
        {
          "output_type": "stream",
          "name": "stdout",
          "text": [
            " and other responsibility of a second of the first transportation of the Parliament of the Cape Verde was an and present the standard of the state of the state of the professional of the first response\n"
          ]
        },
        {
          "output_type": "stream",
          "name": "stderr",
          "text": [
            " 67%|██████▋   | 33341/50000 [05:19<02:29, 111.18it/s]"
          ]
        },
        {
          "output_type": "stream",
          "name": "stdout",
          "text": [
            "Loss: 1.3806019854545593\n"
          ]
        },
        {
          "output_type": "stream",
          "name": "stderr",
          "text": [
            "\n",
            "  0%|          | 0/200 [00:00<?, ?it/s]\u001b[A\n",
            "100%|██████████| 200/200 [00:00<00:00, 1232.76it/s]\n",
            " 67%|██████▋   | 33354/50000 [05:19<03:23, 81.78it/s] "
          ]
        },
        {
          "output_type": "stream",
          "name": "stdout",
          "text": [
            " in the main services and the organization and services and the response to the state in the United States of the analysis from the North American and Commission of the Cape Verde and the control of th\n"
          ]
        },
        {
          "output_type": "stream",
          "name": "stderr",
          "text": [
            " 67%|██████▋   | 33398/50000 [05:20<02:26, 113.56it/s]"
          ]
        },
        {
          "output_type": "stream",
          "name": "stdout",
          "text": [
            "Loss: 1.3623299717903137\n"
          ]
        },
        {
          "output_type": "stream",
          "name": "stderr",
          "text": [
            "\n",
            "  0%|          | 0/200 [00:00<?, ?it/s]\u001b[A\n",
            " 50%|█████     | 100/200 [00:00<00:00, 997.66it/s]\u001b[A\n",
            "100%|██████████| 200/200 [00:00<00:00, 926.04it/s]\n",
            " 67%|██████▋   | 33425/50000 [05:20<03:09, 87.43it/s]"
          ]
        },
        {
          "output_type": "stream",
          "name": "stdout",
          "text": [
            " and a more than he for the concept of the country of the second state of the the house to the state and the first trade in the process of the production of the symbol of the most for the state and the\n"
          ]
        },
        {
          "output_type": "stream",
          "name": "stderr",
          "text": [
            "\r 67%|██████▋   | 33441/50000 [05:20<02:42, 102.05it/s]"
          ]
        },
        {
          "output_type": "stream",
          "name": "stdout",
          "text": [
            "Loss: 1.3607656955718994\n"
          ]
        },
        {
          "output_type": "stream",
          "name": "stderr",
          "text": [
            "\n",
            "  0%|          | 0/200 [00:00<?, ?it/s]\u001b[A\n",
            "100%|██████████| 200/200 [00:00<00:00, 1447.15it/s]\n",
            " 67%|██████▋   | 33454/50000 [05:21<03:18, 83.44it/s] "
          ]
        },
        {
          "output_type": "stream",
          "name": "stdout",
          "text": [
            " and the operations of the state of the experience of the only the second services and the protection in the provide the state of the company of the first community and the major company and many of th\n"
          ]
        },
        {
          "output_type": "stream",
          "name": "stderr",
          "text": [
            " 67%|██████▋   | 33486/50000 [05:21<02:28, 111.38it/s]"
          ]
        },
        {
          "output_type": "stream",
          "name": "stdout",
          "text": [
            "Loss: 1.363485622406006\n"
          ]
        },
        {
          "output_type": "stream",
          "name": "stderr",
          "text": [
            "\n",
            "  0%|          | 0/200 [00:00<?, ?it/s]\u001b[A\n",
            "100%|██████████| 200/200 [00:00<00:00, 1133.56it/s]\n",
            " 67%|██████▋   | 33500/50000 [05:21<03:17, 83.52it/s] "
          ]
        },
        {
          "output_type": "stream",
          "name": "stdout",
          "text": [
            " the company of the proposed on the relationships in the United States of the Cape Verde is the archipelago and the second the original the simple for the same the same the area of the proposed and all\n"
          ]
        },
        {
          "output_type": "stream",
          "name": "stderr",
          "text": [
            " 67%|██████▋   | 33548/50000 [05:21<02:14, 122.25it/s]"
          ]
        },
        {
          "output_type": "stream",
          "name": "stdout",
          "text": [
            "Loss: 1.366561222076416\n"
          ]
        },
        {
          "output_type": "stream",
          "name": "stderr",
          "text": [
            "\n",
            "  0%|          | 0/200 [00:00<?, ?it/s]\u001b[A\n",
            "100%|██████████| 200/200 [00:00<00:00, 1285.46it/s]\n"
          ]
        },
        {
          "output_type": "stream",
          "name": "stdout",
          "text": [
            " and the new arithmetic is the products and an and continued by the International Standard March 2013 the construction of the area of the exponentiation of the first the line and the services are conti\n"
          ]
        },
        {
          "output_type": "stream",
          "name": "stderr",
          "text": [
            " 67%|██████▋   | 33596/50000 [05:22<02:18, 118.08it/s]"
          ]
        },
        {
          "output_type": "stream",
          "name": "stdout",
          "text": [
            "Loss: 1.3655142378807068\n"
          ]
        },
        {
          "output_type": "stream",
          "name": "stderr",
          "text": [
            "\n",
            "  0%|          | 0/200 [00:00<?, ?it/s]\u001b[A\n",
            "100%|██████████| 200/200 [00:00<00:00, 1226.27it/s]\n"
          ]
        },
        {
          "output_type": "stream",
          "name": "stdout",
          "text": [
            " and the construction of the second set to a social networking and the program to the term research between the southern common companies and the state and responsible to the collection of the first ma\n"
          ]
        },
        {
          "output_type": "stream",
          "name": "stderr",
          "text": [
            " 67%|██████▋   | 33644/50000 [05:22<02:20, 116.22it/s]"
          ]
        },
        {
          "output_type": "stream",
          "name": "stdout",
          "text": [
            "Loss: 1.3720779418945312\n"
          ]
        },
        {
          "output_type": "stream",
          "name": "stderr",
          "text": [
            "\n",
            "  0%|          | 0/200 [00:00<?, ?it/s]\u001b[A\n",
            "100%|██████████| 200/200 [00:00<00:00, 1434.99it/s]\n",
            " 67%|██████▋   | 33658/50000 [05:22<02:58, 91.60it/s] "
          ]
        },
        {
          "output_type": "stream",
          "name": "stdout",
          "text": [
            " and a set of state of the highest the control of the archipelago and an activities and control of a most of the relationships and the response to a professional and services in the United States and t\n"
          ]
        },
        {
          "output_type": "stream",
          "name": "stderr",
          "text": [
            " 67%|██████▋   | 33690/50000 [05:23<02:19, 116.51it/s]"
          ]
        },
        {
          "output_type": "stream",
          "name": "stdout",
          "text": [
            "Loss: 1.3644084548950195\n"
          ]
        },
        {
          "output_type": "stream",
          "name": "stderr",
          "text": [
            "\n",
            "  0%|          | 0/200 [00:00<?, ?it/s]\u001b[A\n",
            "100%|██████████| 200/200 [00:00<00:00, 1335.10it/s]\n",
            " 67%|██████▋   | 33704/50000 [05:23<03:03, 88.63it/s] "
          ]
        },
        {
          "output_type": "stream",
          "name": "stdout",
          "text": [
            " and the company in the company and a model of the production of the result of the first state of the first company and the set of the protection of the only the computer than the end of the population\n"
          ]
        },
        {
          "output_type": "stream",
          "name": "stderr",
          "text": [
            " 67%|██████▋   | 33736/50000 [05:23<02:22, 114.44it/s]"
          ]
        },
        {
          "output_type": "stream",
          "name": "stdout",
          "text": [
            "Loss: 1.3593710041046143\n"
          ]
        },
        {
          "output_type": "stream",
          "name": "stderr",
          "text": [
            "\n",
            "  0%|          | 0/200 [00:00<?, ?it/s]\u001b[A\n",
            "100%|██████████| 200/200 [00:00<00:00, 1384.64it/s]\n",
            " 68%|██████▊   | 33750/50000 [05:23<02:59, 90.35it/s] "
          ]
        },
        {
          "output_type": "stream",
          "name": "stdout",
          "text": [
            " and in the state and areas of the process and the standard of the construction of the original many has a second of the control of the proposal construction of the service from the second state and th\n"
          ]
        },
        {
          "output_type": "stream",
          "name": "stderr",
          "text": [
            " 68%|██████▊   | 33798/50000 [05:24<02:08, 126.35it/s]"
          ]
        },
        {
          "output_type": "stream",
          "name": "stdout",
          "text": [
            "Loss: 1.3732720446586608\n"
          ]
        },
        {
          "output_type": "stream",
          "name": "stderr",
          "text": [
            "\n",
            "  0%|          | 0/200 [00:00<?, ?it/s]\u001b[A\n",
            "100%|██████████| 200/200 [00:00<00:00, 1367.52it/s]\n"
          ]
        },
        {
          "output_type": "stream",
          "name": "stdout",
          "text": [
            " and the state of the majority and the first transformation of the first formal state of the professional resident in the majority of the Grenada and the Ordable American Commission and the American an\n"
          ]
        },
        {
          "output_type": "stream",
          "name": "stderr",
          "text": [
            " 68%|██████▊   | 33846/50000 [05:24<02:14, 120.30it/s]"
          ]
        },
        {
          "output_type": "stream",
          "name": "stdout",
          "text": [
            "Loss: 1.3714008665084838\n"
          ]
        },
        {
          "output_type": "stream",
          "name": "stderr",
          "text": [
            "\n",
            "  0%|          | 0/200 [00:00<?, ?it/s]\u001b[A\n",
            "100%|██████████| 200/200 [00:00<00:00, 1364.00it/s]\n"
          ]
        },
        {
          "output_type": "stream",
          "name": "stdout",
          "text": [
            " the second and the proposed a constitutional system is a result of the simplified by a services of the based on the common problems of the former state in the first and was a technical source and the \n"
          ]
        },
        {
          "output_type": "stream",
          "name": "stderr",
          "text": [
            " 68%|██████▊   | 33893/50000 [05:25<02:16, 118.26it/s]"
          ]
        },
        {
          "output_type": "stream",
          "name": "stdout",
          "text": [
            "Loss: 1.381517198085785\n"
          ]
        },
        {
          "output_type": "stream",
          "name": "stderr",
          "text": [
            "\n",
            "  0%|          | 0/200 [00:00<?, ?it/s]\u001b[A\n",
            "100%|██████████| 200/200 [00:00<00:00, 1387.01it/s]\n",
            " 68%|██████▊   | 33907/50000 [05:25<02:55, 91.72it/s] "
          ]
        },
        {
          "output_type": "stream",
          "name": "stdout",
          "text": [
            " and the term in the second the advanced to the concerning and to and experiences of the company the particular service of the company the standards and the relationships of the result of the set of th\n"
          ]
        },
        {
          "output_type": "stream",
          "name": "stderr",
          "text": [
            " 68%|██████▊   | 33939/50000 [05:25<02:18, 115.56it/s]"
          ]
        },
        {
          "output_type": "stream",
          "name": "stdout",
          "text": [
            "Loss: 1.3634985089302063\n"
          ]
        },
        {
          "output_type": "stream",
          "name": "stderr",
          "text": [
            "\n",
            "  0%|          | 0/200 [00:00<?, ?it/s]\u001b[A\n",
            "100%|██████████| 200/200 [00:00<00:00, 1412.30it/s]\n",
            " 68%|██████▊   | 33953/50000 [05:25<02:55, 91.19it/s] "
          ]
        },
        {
          "output_type": "stream",
          "name": "stdout",
          "text": [
            " and other and a formal state of the particular in the state and the process of the state of the national state and carried security particular to a significant responsible to the result to the develop\n"
          ]
        },
        {
          "output_type": "stream",
          "name": "stderr",
          "text": [
            " 68%|██████▊   | 33985/50000 [05:26<02:16, 117.28it/s]"
          ]
        },
        {
          "output_type": "stream",
          "name": "stdout",
          "text": [
            "Loss: 1.3700204205513\n"
          ]
        },
        {
          "output_type": "stream",
          "name": "stderr",
          "text": [
            "\n",
            "  0%|          | 0/200 [00:00<?, ?it/s]\u001b[A\n",
            "100%|██████████| 200/200 [00:00<00:00, 1338.33it/s]\n",
            " 68%|██████▊   | 34000/50000 [05:26<02:55, 91.22it/s] "
          ]
        },
        {
          "output_type": "stream",
          "name": "stdout",
          "text": [
            " and in the programmer for the South American Americans and other control of the process of the products that the archipelago is a specific and in the state and the second in the largest continued by t\n"
          ]
        },
        {
          "output_type": "stream",
          "name": "stderr",
          "text": [
            " 68%|██████▊   | 34048/50000 [05:26<02:07, 124.86it/s]"
          ]
        },
        {
          "output_type": "stream",
          "name": "stdout",
          "text": [
            "Loss: 1.3663438320159913\n"
          ]
        },
        {
          "output_type": "stream",
          "name": "stderr",
          "text": [
            "\n",
            "  0%|          | 0/200 [00:00<?, ?it/s]\u001b[A\n",
            "100%|██████████| 200/200 [00:00<00:00, 1375.11it/s]\n"
          ]
        },
        {
          "output_type": "stream",
          "name": "stdout",
          "text": [
            " and the companies and the common expression of the level of the state of the control of the support the southern protect the country and development of the products between the particularly was the st\n"
          ]
        },
        {
          "output_type": "stream",
          "name": "stderr",
          "text": [
            " 68%|██████▊   | 34094/50000 [05:27<02:14, 118.24it/s]"
          ]
        },
        {
          "output_type": "stream",
          "name": "stdout",
          "text": [
            "Loss: 1.3658029103279115\n"
          ]
        },
        {
          "output_type": "stream",
          "name": "stderr",
          "text": [
            "\n",
            "  0%|          | 0/200 [00:00<?, ?it/s]\u001b[A\n",
            "100%|██████████| 200/200 [00:00<00:00, 1409.45it/s]\n",
            " 68%|██████▊   | 34108/50000 [05:27<02:53, 91.56it/s] "
          ]
        },
        {
          "output_type": "stream",
          "name": "stdout",
          "text": [
            " control of the first and and production of the services and the state of the community of the first the services of the Standards the state are the computer and only one of the end of the technology, \n"
          ]
        },
        {
          "output_type": "stream",
          "name": "stderr",
          "text": [
            " 68%|██████▊   | 34140/50000 [05:27<02:15, 116.83it/s]"
          ]
        },
        {
          "output_type": "stream",
          "name": "stdout",
          "text": [
            "Loss: 1.3808946442604064\n"
          ]
        },
        {
          "output_type": "stream",
          "name": "stderr",
          "text": [
            "\n",
            "  0%|          | 0/200 [00:00<?, ?it/s]\u001b[A\n",
            "100%|██████████| 200/200 [00:00<00:00, 1249.95it/s]\n",
            " 68%|██████▊   | 34154/50000 [05:27<02:58, 88.55it/s] "
          ]
        },
        {
          "output_type": "stream",
          "name": "stdout",
          "text": [
            " manies of the company of the trains and the present to the term in the United States in the common was founded the state and the state of the content of the present the experience of the conventional \n"
          ]
        },
        {
          "output_type": "stream",
          "name": "stderr",
          "text": [
            " 68%|██████▊   | 34186/50000 [05:27<02:17, 115.15it/s]"
          ]
        },
        {
          "output_type": "stream",
          "name": "stdout",
          "text": [
            "Loss: 1.377153832912445\n"
          ]
        },
        {
          "output_type": "stream",
          "name": "stderr",
          "text": [
            "\n",
            "  0%|          | 0/200 [00:00<?, ?it/s]\u001b[A\n",
            "100%|██████████| 200/200 [00:00<00:00, 1418.10it/s]\n",
            " 68%|██████▊   | 34200/50000 [05:28<02:53, 91.32it/s] "
          ]
        },
        {
          "output_type": "stream",
          "name": "stdout",
          "text": [
            " the company of the standard of the entry and the relationships and the higher research and an international social networking and services in the communities to the end of the company was a second sta\n"
          ]
        },
        {
          "output_type": "stream",
          "name": "stderr",
          "text": [
            " 68%|██████▊   | 34248/50000 [05:28<02:04, 126.64it/s]"
          ]
        },
        {
          "output_type": "stream",
          "name": "stdout",
          "text": [
            "Loss: 1.3633939290046693\n"
          ]
        },
        {
          "output_type": "stream",
          "name": "stderr",
          "text": [
            "\n",
            "  0%|          | 0/200 [00:00<?, ?it/s]\u001b[A\n",
            "100%|██████████| 200/200 [00:00<00:00, 1233.75it/s]\n"
          ]
        },
        {
          "output_type": "stream",
          "name": "stdout",
          "text": [
            " to the United States and the present of the mathematical computer and former and process and the state of the result of the program to the the state in the most of the area to a state and the service \n"
          ]
        },
        {
          "output_type": "stream",
          "name": "stderr",
          "text": [
            " 69%|██████▊   | 34295/50000 [05:28<02:12, 118.30it/s]"
          ]
        },
        {
          "output_type": "stream",
          "name": "stdout",
          "text": [
            "Loss: 1.3749011778831481\n"
          ]
        },
        {
          "output_type": "stream",
          "name": "stderr",
          "text": [
            "\n",
            "  0%|          | 0/200 [00:00<?, ?it/s]\u001b[A\n",
            "100%|██████████| 200/200 [00:00<00:00, 1368.82it/s]\n"
          ]
        },
        {
          "output_type": "stream",
          "name": "stdout",
          "text": [
            " and activities of the state and international computer service of the designed the experience of the construction of the standard in the United States and products and continued to completed the consi\n"
          ]
        },
        {
          "output_type": "stream",
          "name": "stderr",
          "text": [
            " 69%|██████▊   | 34341/50000 [05:29<02:14, 116.70it/s]"
          ]
        },
        {
          "output_type": "stream",
          "name": "stdout",
          "text": [
            "Loss: 1.3586668276786804\n"
          ]
        },
        {
          "output_type": "stream",
          "name": "stderr",
          "text": [
            "\n",
            "  0%|          | 0/200 [00:00<?, ?it/s]\u001b[A\n",
            "100%|██████████| 200/200 [00:00<00:00, 1396.63it/s]\n",
            " 69%|██████▊   | 34355/50000 [05:29<02:53, 90.28it/s] "
          ]
        },
        {
          "output_type": "stream",
          "name": "stdout",
          "text": [
            " and a large international services are also an active completed in the United States and in the control to the Cape Verde of the continued to a set of the second former particular system to not of the\n"
          ]
        },
        {
          "output_type": "stream",
          "name": "stderr",
          "text": [
            " 69%|██████▉   | 34386/50000 [05:29<02:17, 113.93it/s]"
          ]
        },
        {
          "output_type": "stream",
          "name": "stdout",
          "text": [
            "Loss: 1.367791028022766\n"
          ]
        },
        {
          "output_type": "stream",
          "name": "stderr",
          "text": [
            "\n",
            "  0%|          | 0/200 [00:00<?, ?it/s]\u001b[A\n",
            "100%|██████████| 200/200 [00:00<00:00, 1357.32it/s]\n",
            " 69%|██████▉   | 34400/50000 [05:30<02:55, 89.09it/s] "
          ]
        },
        {
          "output_type": "stream",
          "name": "stdout",
          "text": [
            " the construction of the commercial only in the company and the process and a find the product and between the standard of the article of the United States and the first the first design and a set of s\n"
          ]
        },
        {
          "output_type": "stream",
          "name": "stderr",
          "text": [
            " 69%|██████▉   | 34448/50000 [05:30<02:04, 125.34it/s]"
          ]
        },
        {
          "output_type": "stream",
          "name": "stdout",
          "text": [
            "Loss: 1.368503952026367\n"
          ]
        },
        {
          "output_type": "stream",
          "name": "stderr",
          "text": [
            "\n",
            "  0%|          | 0/200 [00:00<?, ?it/s]\u001b[A\n",
            "100%|██████████| 200/200 [00:00<00:00, 1264.49it/s]\n"
          ]
        },
        {
          "output_type": "stream",
          "name": "stdout",
          "text": [
            " the state of the most see design and area of the present and the provides include an agest to the production of the state and the project of the trains that was the provides the line of the Pythagorea\n"
          ]
        },
        {
          "output_type": "stream",
          "name": "stderr",
          "text": [
            " 69%|██████▉   | 34491/50000 [05:30<02:21, 109.86it/s]"
          ]
        },
        {
          "output_type": "stream",
          "name": "stdout",
          "text": [
            "Loss: 1.3499706721305846\n"
          ]
        },
        {
          "output_type": "stream",
          "name": "stderr",
          "text": [
            "\n",
            "  0%|          | 0/200 [00:00<?, ?it/s]\u001b[A\n",
            "100%|██████████| 200/200 [00:00<00:00, 1058.79it/s]"
          ]
        },
        {
          "output_type": "stream",
          "name": "stdout",
          "text": [
            " and other control of a formal problems of the first results of the simple and social networking social networking and the state with a companies and set of the services in the process of the first sta\n"
          ]
        },
        {
          "output_type": "stream",
          "name": "stderr",
          "text": [
            "\n",
            " 69%|██████▉   | 34547/50000 [05:31<02:22, 108.65it/s]"
          ]
        },
        {
          "output_type": "stream",
          "name": "stdout",
          "text": [
            "Loss: 1.3790405678749085\n"
          ]
        },
        {
          "output_type": "stream",
          "name": "stderr",
          "text": [
            "\n",
            "  0%|          | 0/200 [00:00<?, ?it/s]\u001b[A\n",
            "100%|██████████| 200/200 [00:00<00:00, 1282.11it/s]\n"
          ]
        },
        {
          "output_type": "stream",
          "name": "stdout",
          "text": [
            " and other developed to the states in the same and community and standards and the services and the state of the companies are also been the production of the control to the first the new individual in\n"
          ]
        },
        {
          "output_type": "stream",
          "name": "stderr",
          "text": [
            " 69%|██████▉   | 34590/50000 [05:31<02:24, 106.39it/s]"
          ]
        },
        {
          "output_type": "stream",
          "name": "stdout",
          "text": [
            "Loss: 1.3628262233734132\n"
          ]
        },
        {
          "output_type": "stream",
          "name": "stderr",
          "text": [
            "\n",
            "  0%|          | 0/200 [00:00<?, ?it/s]\u001b[A\n",
            "100%|██████████| 200/200 [00:00<00:00, 1200.29it/s]\n",
            " 69%|██████▉   | 34603/50000 [05:32<03:12, 80.11it/s] "
          ]
        },
        {
          "output_type": "stream",
          "name": "stdout",
          "text": [
            " and the train designed to the decision of the process of the home of the first the company of the person in 1980, the control of an and the case of the southern state of a state of the first the state\n"
          ]
        },
        {
          "output_type": "stream",
          "name": "stderr",
          "text": [
            " 69%|██████▉   | 34649/50000 [05:32<02:12, 115.43it/s]"
          ]
        },
        {
          "output_type": "stream",
          "name": "stdout",
          "text": [
            "Loss: 1.3676292419433593\n"
          ]
        },
        {
          "output_type": "stream",
          "name": "stderr",
          "text": [
            "\n",
            "  0%|          | 0/200 [00:00<?, ?it/s]\u001b[A\n",
            "100%|██████████| 200/200 [00:00<00:00, 1299.90it/s]\n"
          ]
        },
        {
          "output_type": "stream",
          "name": "stdout",
          "text": [
            " the article of the Cape Verde in the United States and the state of the control of the state of the United States and the first complex a new passenger state and the construction of the because it was\n"
          ]
        },
        {
          "output_type": "stream",
          "name": "stderr",
          "text": [
            " 69%|██████▉   | 34691/50000 [05:32<02:24, 106.31it/s]"
          ]
        },
        {
          "output_type": "stream",
          "name": "stdout",
          "text": [
            "Loss: 1.3664969062805177\n"
          ]
        },
        {
          "output_type": "stream",
          "name": "stderr",
          "text": [
            "\n",
            "  0%|          | 0/200 [00:00<?, ?it/s]\u001b[A\n",
            "100%|██████████| 200/200 [00:00<00:00, 1149.81it/s]"
          ]
        },
        {
          "output_type": "stream",
          "name": "stdout",
          "text": [
            " and the international inspired to the complex of the companies and the seats, the companies as a most of the common significant teachings of the more first companies of the southern the state of the c\n"
          ]
        },
        {
          "output_type": "stream",
          "name": "stderr",
          "text": [
            "\n",
            " 69%|██████▉   | 34748/50000 [05:33<02:15, 112.79it/s]"
          ]
        },
        {
          "output_type": "stream",
          "name": "stdout",
          "text": [
            "Loss: 1.3681522154808043\n"
          ]
        },
        {
          "output_type": "stream",
          "name": "stderr",
          "text": [
            "\n",
            "  0%|          | 0/200 [00:00<?, ?it/s]\u001b[A\n",
            "100%|██████████| 200/200 [00:00<00:00, 1087.78it/s]"
          ]
        },
        {
          "output_type": "stream",
          "name": "stdout",
          "text": [
            " plane to the state of the standard of the trains that the standards in the United States and international state of the Commons and the result of a formal and international standards and an entered as\n"
          ]
        },
        {
          "output_type": "stream",
          "name": "stderr",
          "text": [
            "\n",
            " 70%|██████▉   | 34789/50000 [05:34<02:30, 101.06it/s]"
          ]
        },
        {
          "output_type": "stream",
          "name": "stdout",
          "text": [
            "Loss: 1.3583897161483764\n"
          ]
        },
        {
          "output_type": "stream",
          "name": "stderr",
          "text": [
            "\n",
            "  0%|          | 0/200 [00:00<?, ?it/s]\u001b[A\n",
            "100%|██████████| 200/200 [00:00<00:00, 1155.76it/s]\n",
            " 70%|██████▉   | 34801/50000 [05:34<03:20, 75.84it/s] "
          ]
        },
        {
          "output_type": "stream",
          "name": "stdout",
          "text": [
            " and the program and the majority in the state of the control of the total construction in the United States and the students of the article and the state and the most community of the state and the co\n"
          ]
        },
        {
          "output_type": "stream",
          "name": "stderr",
          "text": [
            " 70%|██████▉   | 34833/50000 [05:34<02:23, 105.97it/s]"
          ]
        },
        {
          "output_type": "stream",
          "name": "stdout",
          "text": [
            "Loss: 1.3678045558929444\n"
          ]
        },
        {
          "output_type": "stream",
          "name": "stderr",
          "text": [
            "\n",
            "  0%|          | 0/200 [00:00<?, ?it/s]\u001b[A\n",
            "100%|██████████| 200/200 [00:00<00:00, 1313.59it/s]\n",
            " 70%|██████▉   | 34850/50000 [05:34<02:54, 87.01it/s] "
          ]
        },
        {
          "output_type": "stream",
          "name": "stdout",
          "text": [
            " and the production of the production of the state of the term the computer and state and the archipelago and one of the production of the company and provide the participates that the company of the U\n"
          ]
        },
        {
          "output_type": "stream",
          "name": "stderr",
          "text": [
            " 70%|██████▉   | 34898/50000 [05:35<02:02, 123.43it/s]"
          ]
        },
        {
          "output_type": "stream",
          "name": "stdout",
          "text": [
            "Loss: 1.3646827793121339\n"
          ]
        },
        {
          "output_type": "stream",
          "name": "stderr",
          "text": [
            "\n",
            "  0%|          | 0/200 [00:00<?, ?it/s]\u001b[A\n",
            "100%|██████████| 200/200 [00:00<00:00, 1385.28it/s]\n"
          ]
        },
        {
          "output_type": "stream",
          "name": "stdout",
          "text": [
            " and the most production of the common and respectively to the computer and control of the largest control to the state and represent the product and process of the world in the company and the souther\n"
          ]
        },
        {
          "output_type": "stream",
          "name": "stderr",
          "text": [
            " 70%|██████▉   | 34944/50000 [05:35<02:07, 118.43it/s]"
          ]
        },
        {
          "output_type": "stream",
          "name": "stdout",
          "text": [
            "Loss: 1.3627788710594178\n"
          ]
        },
        {
          "output_type": "stream",
          "name": "stderr",
          "text": [
            "\n",
            "  0%|          | 0/200 [00:00<?, ?it/s]\u001b[A\n",
            "100%|██████████| 200/200 [00:00<00:00, 1362.00it/s]\n"
          ]
        },
        {
          "output_type": "stream",
          "name": "stdout",
          "text": [
            " and other contraction of specific and process and international person contraction of the part of the provided the sense of the state of the students and the constitutional states and the process in t\n"
          ]
        },
        {
          "output_type": "stream",
          "name": "stderr",
          "text": [
            " 70%|██████▉   | 34990/50000 [05:36<02:09, 115.88it/s]"
          ]
        },
        {
          "output_type": "stream",
          "name": "stdout",
          "text": [
            "Loss: 1.3825329089164733\n"
          ]
        },
        {
          "output_type": "stream",
          "name": "stderr",
          "text": [
            "\n",
            "  0%|          | 0/200 [00:00<?, ?it/s]\u001b[A\n",
            "100%|██████████| 200/200 [00:00<00:00, 1371.92it/s]\n",
            " 70%|███████   | 35004/50000 [05:36<02:46, 90.32it/s] "
          ]
        },
        {
          "output_type": "stream",
          "name": "stdout",
          "text": [
            " in the second on the experience of the transformation of the majority of the standards and the practices and response that the control of a control of a the product of the United States and the late 1\n"
          ]
        },
        {
          "output_type": "stream",
          "name": "stderr",
          "text": [
            " 70%|███████   | 35036/50000 [05:36<02:10, 115.06it/s]"
          ]
        },
        {
          "output_type": "stream",
          "name": "stdout",
          "text": [
            "Loss: 1.3665724802017212\n"
          ]
        },
        {
          "output_type": "stream",
          "name": "stderr",
          "text": [
            "\n",
            "  0%|          | 0/200 [00:00<?, ?it/s]\u001b[A\n",
            "100%|██████████| 200/200 [00:00<00:00, 1310.97it/s]\n",
            " 70%|███████   | 35050/50000 [05:36<02:48, 88.89it/s] "
          ]
        },
        {
          "output_type": "stream",
          "name": "stdout",
          "text": [
            " and continued to be a set of state and considered the state of the provide the south and produced a records the same of the specific and the state to the services and a support the transportation of t\n"
          ]
        },
        {
          "output_type": "stream",
          "name": "stderr",
          "text": [
            " 70%|███████   | 35098/50000 [05:37<01:59, 124.48it/s]"
          ]
        },
        {
          "output_type": "stream",
          "name": "stdout",
          "text": [
            "Loss: 1.3612816095352174\n"
          ]
        },
        {
          "output_type": "stream",
          "name": "stderr",
          "text": [
            "\n",
            "  0%|          | 0/200 [00:00<?, ?it/s]\u001b[A\n",
            "100%|██████████| 200/200 [00:00<00:00, 1369.11it/s]\n"
          ]
        },
        {
          "output_type": "stream",
          "name": "stdout",
          "text": [
            " and had been products the ancestry and the company and the house of the term resident of the states and population of the considered an operations and set of the companies of the state and the term an\n"
          ]
        },
        {
          "output_type": "stream",
          "name": "stderr",
          "text": [
            " 70%|███████   | 35144/50000 [05:37<02:06, 117.81it/s]"
          ]
        },
        {
          "output_type": "stream",
          "name": "stdout",
          "text": [
            "Loss: 1.385602605342865\n"
          ]
        },
        {
          "output_type": "stream",
          "name": "stderr",
          "text": [
            "\n",
            "  0%|          | 0/200 [00:00<?, ?it/s]\u001b[A\n",
            "100%|██████████| 200/200 [00:00<00:00, 1393.97it/s]\n"
          ]
        },
        {
          "output_type": "stream",
          "name": "stdout",
          "text": [
            " and the proposed to the program in the proposed the article became the particular to the arguing in the control of a produced a reports with the states of the standards and the most and subject to the\n"
          ]
        },
        {
          "output_type": "stream",
          "name": "stderr",
          "text": [
            " 70%|███████   | 35190/50000 [05:37<02:06, 117.01it/s]"
          ]
        },
        {
          "output_type": "stream",
          "name": "stdout",
          "text": [
            "Loss: 1.370141716003418\n"
          ]
        },
        {
          "output_type": "stream",
          "name": "stderr",
          "text": [
            "\n",
            "  0%|          | 0/200 [00:00<?, ?it/s]\u001b[A\n",
            "100%|██████████| 200/200 [00:00<00:00, 1307.95it/s]\n",
            " 70%|███████   | 35204/50000 [05:38<02:45, 89.33it/s] "
          ]
        },
        {
          "output_type": "stream",
          "name": "stdout",
          "text": [
            " and the produce computer based on the promote the company and a community and increase the southern many of the international considered the experience of the company of the particularly in the United\n"
          ]
        },
        {
          "output_type": "stream",
          "name": "stderr",
          "text": [
            " 70%|███████   | 35236/50000 [05:38<02:07, 115.37it/s]"
          ]
        },
        {
          "output_type": "stream",
          "name": "stdout",
          "text": [
            "Loss: 1.3674995660781861\n"
          ]
        },
        {
          "output_type": "stream",
          "name": "stderr",
          "text": [
            "\n",
            "  0%|          | 0/200 [00:00<?, ?it/s]\u001b[A\n",
            "100%|██████████| 200/200 [00:00<00:00, 1396.07it/s]\n",
            " 70%|███████   | 35250/50000 [05:38<02:43, 90.10it/s] "
          ]
        },
        {
          "output_type": "stream",
          "name": "stdout",
          "text": [
            " electric because the states of the second control of a person to the particularly to the members in the term and the set of the islands of the provide the proposed the production of the state of the c\n"
          ]
        },
        {
          "output_type": "stream",
          "name": "stderr",
          "text": [
            " 71%|███████   | 35299/50000 [05:38<01:55, 126.92it/s]"
          ]
        },
        {
          "output_type": "stream",
          "name": "stdout",
          "text": [
            "Loss: 1.3705086827278137\n"
          ]
        },
        {
          "output_type": "stream",
          "name": "stderr",
          "text": [
            "\n",
            "  0%|          | 0/200 [00:00<?, ?it/s]\u001b[A\n",
            "100%|██████████| 200/200 [00:00<00:00, 1276.41it/s]\n"
          ]
        },
        {
          "output_type": "stream",
          "name": "stdout",
          "text": [
            " and the state of the production of the second significant and significant capital and state of the state in the United States and the survey of the transportation and international control to a securi\n"
          ]
        },
        {
          "output_type": "stream",
          "name": "stderr",
          "text": [
            " 71%|███████   | 35346/50000 [05:39<02:04, 117.96it/s]"
          ]
        },
        {
          "output_type": "stream",
          "name": "stdout",
          "text": [
            "Loss: 1.363822717666626\n"
          ]
        },
        {
          "output_type": "stream",
          "name": "stderr",
          "text": [
            "\n",
            "  0%|          | 0/200 [00:00<?, ?it/s]\u001b[A\n",
            "100%|██████████| 200/200 [00:00<00:00, 1399.76it/s]\n"
          ]
        },
        {
          "output_type": "stream",
          "name": "stdout",
          "text": [
            " and a computer and discovery of the state of the states and support of the states of the design and original trains and the Hispanic of Commons and the company and the end of the proposed the state in\n"
          ]
        },
        {
          "output_type": "stream",
          "name": "stderr",
          "text": [
            " 71%|███████   | 35392/50000 [05:39<02:06, 115.83it/s]"
          ]
        },
        {
          "output_type": "stream",
          "name": "stdout",
          "text": [
            "Loss: 1.3694982266426086\n"
          ]
        },
        {
          "output_type": "stream",
          "name": "stderr",
          "text": [
            "\n",
            "  0%|          | 0/200 [00:00<?, ?it/s]\u001b[A\n",
            "100%|██████████| 200/200 [00:00<00:00, 1382.24it/s]\n",
            " 71%|███████   | 35406/50000 [05:40<02:42, 89.83it/s] "
          ]
        },
        {
          "output_type": "stream",
          "name": "stdout",
          "text": [
            " in 1994, and the state and sacritce control of the area of the product and the state and service of the district of the highest standards and a standard in the United States and complex the many and s\n"
          ]
        },
        {
          "output_type": "stream",
          "name": "stderr",
          "text": [
            " 71%|███████   | 35437/50000 [05:40<02:07, 114.64it/s]"
          ]
        },
        {
          "output_type": "stream",
          "name": "stdout",
          "text": [
            "Loss: 1.373007709980011\n"
          ]
        },
        {
          "output_type": "stream",
          "name": "stderr",
          "text": [
            "\n",
            "  0%|          | 0/200 [00:00<?, ?it/s]\u001b[A\n",
            "100%|██████████| 200/200 [00:00<00:00, 1250.54it/s]\n",
            " 71%|███████   | 35451/50000 [05:40<02:46, 87.33it/s] "
          ]
        },
        {
          "output_type": "stream",
          "name": "stdout",
          "text": [
            " in 2017, the seats of the southern standard contraction of the product and a formal and a similar and services and produced the state of the state state the production of the company, and the top spee\n"
          ]
        },
        {
          "output_type": "stream",
          "name": "stderr",
          "text": [
            " 71%|███████   | 35499/50000 [05:40<01:56, 124.01it/s]"
          ]
        },
        {
          "output_type": "stream",
          "name": "stdout",
          "text": [
            "Loss: 1.3744370341300964\n"
          ]
        },
        {
          "output_type": "stream",
          "name": "stderr",
          "text": [
            "\n",
            "  0%|          | 0/200 [00:00<?, ?it/s]\u001b[A\n",
            "100%|██████████| 200/200 [00:00<00:00, 1367.30it/s]\n"
          ]
        },
        {
          "output_type": "stream",
          "name": "stdout",
          "text": [
            " and the state and complete in the computer standards and production and the committees of the result of the standard continued a security of the experience of the country of the majority of the second\n"
          ]
        },
        {
          "output_type": "stream",
          "name": "stderr",
          "text": [
            " 71%|███████   | 35545/50000 [05:41<02:02, 117.93it/s]"
          ]
        },
        {
          "output_type": "stream",
          "name": "stdout",
          "text": [
            "Loss: 1.3674286198616028\n"
          ]
        },
        {
          "output_type": "stream",
          "name": "stderr",
          "text": [
            "\n",
            "  0%|          | 0/200 [00:00<?, ?it/s]\u001b[A\n",
            "100%|██████████| 200/200 [00:00<00:00, 1127.34it/s]"
          ]
        },
        {
          "output_type": "stream",
          "name": "stdout",
          "text": [
            " in an international consenting and the company and the particular services and the control is a based on the particular system for the United States and the state and an international significant form\n"
          ]
        },
        {
          "output_type": "stream",
          "name": "stderr",
          "text": [
            "\n",
            " 71%|███████   | 35592/50000 [05:41<02:06, 113.68it/s]"
          ]
        },
        {
          "output_type": "stream",
          "name": "stdout",
          "text": [
            "Loss: 1.3770754408836365\n"
          ]
        },
        {
          "output_type": "stream",
          "name": "stderr",
          "text": [
            "\n",
            "  0%|          | 0/200 [00:00<?, ?it/s]\u001b[A\n",
            "100%|██████████| 200/200 [00:00<00:00, 1391.38it/s]\n",
            " 71%|███████   | 35606/50000 [05:42<02:40, 89.69it/s] "
          ]
        },
        {
          "output_type": "stream",
          "name": "stdout",
          "text": [
            " and his control to the second relationships and the minimum for the company state and the area in the company of the problems of the result of the give the most the same in the United States and desig\n"
          ]
        },
        {
          "output_type": "stream",
          "name": "stderr",
          "text": [
            " 71%|███████▏  | 35637/50000 [05:42<02:06, 113.38it/s]"
          ]
        },
        {
          "output_type": "stream",
          "name": "stdout",
          "text": [
            "Loss: 1.3681765437126159\n"
          ]
        },
        {
          "output_type": "stream",
          "name": "stderr",
          "text": [
            "\n",
            "  0%|          | 0/200 [00:00<?, ?it/s]\u001b[A\n",
            "100%|██████████| 200/200 [00:00<00:00, 1280.94it/s]\n",
            " 71%|███████▏  | 35651/50000 [05:42<02:44, 87.43it/s] "
          ]
        },
        {
          "output_type": "stream",
          "name": "stdout",
          "text": [
            " in the state and the designed to the person in the United States in the United States of the 1980s and the sources of the term in the United States of the Buddhist many areas and an active services in\n"
          ]
        },
        {
          "output_type": "stream",
          "name": "stderr",
          "text": [
            " 71%|███████▏  | 35699/50000 [05:42<01:54, 124.53it/s]"
          ]
        },
        {
          "output_type": "stream",
          "name": "stdout",
          "text": [
            "Loss: 1.3861799025535584\n"
          ]
        },
        {
          "output_type": "stream",
          "name": "stderr",
          "text": [
            "\n",
            "  0%|          | 0/200 [00:00<?, ?it/s]\u001b[A\n",
            "100%|██████████| 200/200 [00:00<00:00, 1341.49it/s]\n"
          ]
        },
        {
          "output_type": "stream",
          "name": "stdout",
          "text": [
            " international particularly and on the process of the control of the state and the major most of the confidence of the products and a considered the state and an explored that originally and the larges\n"
          ]
        },
        {
          "output_type": "stream",
          "name": "stderr",
          "text": [
            " 71%|███████▏  | 35746/50000 [05:43<02:00, 118.11it/s]"
          ]
        },
        {
          "output_type": "stream",
          "name": "stdout",
          "text": [
            "Loss: 1.3507631468772887\n"
          ]
        },
        {
          "output_type": "stream",
          "name": "stderr",
          "text": [
            "\n",
            "  0%|          | 0/200 [00:00<?, ?it/s]\u001b[A\n",
            "100%|██████████| 200/200 [00:00<00:00, 1215.66it/s]\n"
          ]
        },
        {
          "output_type": "stream",
          "name": "stdout",
          "text": [
            " and the southern standard and the traditional state and more continues and the company and work of the control of significant production of international state of the southern second the company of th\n"
          ]
        },
        {
          "output_type": "stream",
          "name": "stderr",
          "text": [
            " 72%|███████▏  | 35791/50000 [05:43<02:06, 112.03it/s]"
          ]
        },
        {
          "output_type": "stream",
          "name": "stdout",
          "text": [
            "Loss: 1.3563949990272521\n"
          ]
        },
        {
          "output_type": "stream",
          "name": "stderr",
          "text": [
            "\n",
            "  0%|          | 0/200 [00:00<?, ?it/s]\u001b[A\n",
            "100%|██████████| 200/200 [00:00<00:00, 1325.04it/s]\n",
            " 72%|███████▏  | 35805/50000 [05:44<02:42, 87.37it/s] "
          ]
        },
        {
          "output_type": "stream",
          "name": "stdout",
          "text": [
            " and order that the southern the largest products and the companies and services are also be a particular states and state in the participated the products of the proposed to the result of the communit\n"
          ]
        },
        {
          "output_type": "stream",
          "name": "stderr",
          "text": [
            " 72%|███████▏  | 35837/50000 [05:44<02:04, 113.78it/s]"
          ]
        },
        {
          "output_type": "stream",
          "name": "stdout",
          "text": [
            "Loss: 1.3744052362442016\n"
          ]
        },
        {
          "output_type": "stream",
          "name": "stderr",
          "text": [
            "\n",
            "  0%|          | 0/200 [00:00<?, ?it/s]\u001b[A\n",
            "100%|██████████| 200/200 [00:00<00:00, 1100.19it/s]\n",
            " 72%|███████▏  | 35851/50000 [05:44<02:52, 82.15it/s] "
          ]
        },
        {
          "output_type": "stream",
          "name": "stdout",
          "text": [
            " and is a control of the provides by the proposed to the provide the process and an experience of the products, and the common for the standard to the most areas of the southern companies of the servic\n"
          ]
        },
        {
          "output_type": "stream",
          "name": "stderr",
          "text": [
            " 72%|███████▏  | 35896/50000 [05:44<02:03, 113.78it/s]"
          ]
        },
        {
          "output_type": "stream",
          "name": "stdout",
          "text": [
            "Loss: 1.3772865557670593\n"
          ]
        },
        {
          "output_type": "stream",
          "name": "stderr",
          "text": [
            "\n",
            "  0%|          | 0/200 [00:00<?, ?it/s]\u001b[A\n",
            "100%|██████████| 200/200 [00:00<00:00, 1310.15it/s]\n"
          ]
        },
        {
          "output_type": "stream",
          "name": "stdout",
          "text": [
            " and the product and and and activities are an areas of the content and results to programmers that they are also services and services and the state and the station of the the second a company the cou\n"
          ]
        },
        {
          "output_type": "stream",
          "name": "stderr",
          "text": [
            " 72%|███████▏  | 35940/50000 [05:45<02:10, 107.52it/s]"
          ]
        },
        {
          "output_type": "stream",
          "name": "stdout",
          "text": [
            "Loss: 1.3830228543281555\n"
          ]
        },
        {
          "output_type": "stream",
          "name": "stderr",
          "text": [
            "\n",
            "  0%|          | 0/200 [00:00<?, ?it/s]\u001b[A\n",
            "100%|██████████| 200/200 [00:00<00:00, 1196.70it/s]\n",
            " 72%|███████▏  | 35953/50000 [05:45<02:54, 80.71it/s] "
          ]
        },
        {
          "output_type": "stream",
          "name": "stdout",
          "text": [
            " and the second and international state of the company the problems of the international and the set of social networking and activity of the state of the protection of the control of the product of th\n"
          ]
        },
        {
          "output_type": "stream",
          "name": "stderr",
          "text": [
            " 72%|███████▏  | 35998/50000 [05:45<02:01, 115.63it/s]"
          ]
        },
        {
          "output_type": "stream",
          "name": "stdout",
          "text": [
            "Loss: 1.3759208726882934\n"
          ]
        },
        {
          "output_type": "stream",
          "name": "stderr",
          "text": [
            "\n",
            "  0%|          | 0/200 [00:00<?, ?it/s]\u001b[A\n",
            "100%|██████████| 200/200 [00:00<00:00, 1293.40it/s]\n"
          ]
        },
        {
          "output_type": "stream",
          "name": "stdout",
          "text": [
            " and proposed to a set the standards for the state and the local state of the companies in the particularly or the second many services of the United States of the Standard services that the process to\n"
          ]
        },
        {
          "output_type": "stream",
          "name": "stderr",
          "text": [
            " 72%|███████▏  | 36042/50000 [05:46<02:07, 109.72it/s]"
          ]
        },
        {
          "output_type": "stream",
          "name": "stdout",
          "text": [
            "Loss: 1.3623276376724243\n"
          ]
        },
        {
          "output_type": "stream",
          "name": "stderr",
          "text": [
            "\n",
            "  0%|          | 0/200 [00:00<?, ?it/s]\u001b[A\n",
            " 41%|████      | 82/200 [00:00<00:00, 814.06it/s]\u001b[A\n",
            "100%|██████████| 200/200 [00:00<00:00, 922.05it/s]\n",
            " 72%|███████▏  | 36068/50000 [05:46<02:45, 84.07it/s]"
          ]
        },
        {
          "output_type": "stream",
          "name": "stdout",
          "text": [
            " in a more than 1,000 of the state in the country of the first the second services and the company and the standard in the 2015 and 1970s. The based on the first the result of the term and one of the t\n"
          ]
        },
        {
          "output_type": "stream",
          "name": "stderr",
          "text": [
            " 72%|███████▏  | 36097/50000 [05:46<02:11, 105.36it/s]"
          ]
        },
        {
          "output_type": "stream",
          "name": "stdout",
          "text": [
            "Loss: 1.3669046545028687\n"
          ]
        },
        {
          "output_type": "stream",
          "name": "stderr",
          "text": [
            "\n",
            "  0%|          | 0/200 [00:00<?, ?it/s]\u001b[A\n",
            "100%|██████████| 200/200 [00:00<00:00, 1005.14it/s]\n",
            " 72%|███████▏  | 36125/50000 [05:47<02:37, 87.97it/s]"
          ]
        },
        {
          "output_type": "stream",
          "name": "stdout",
          "text": [
            " and the control of the similar to the country and the majority of the argued to the services and proposed a many of the standard in a population of the top speed of the state in the problems of the po\n"
          ]
        },
        {
          "output_type": "stream",
          "name": "stderr",
          "text": [
            "\r 72%|███████▏  | 36137/50000 [05:47<02:29, 92.52it/s]"
          ]
        },
        {
          "output_type": "stream",
          "name": "stdout",
          "text": [
            "Loss: 1.3836902976036072\n"
          ]
        },
        {
          "output_type": "stream",
          "name": "stderr",
          "text": [
            "\n",
            "  0%|          | 0/200 [00:00<?, ?it/s]\u001b[A\n",
            "100%|██████████| 200/200 [00:00<00:00, 1051.79it/s]\n",
            " 72%|███████▏  | 36150/50000 [05:47<03:17, 70.25it/s]"
          ]
        },
        {
          "output_type": "stream",
          "name": "stdout",
          "text": [
            " control of the company of the provide an international information of the state and consists to the process of the most computer services in the United States and the train and the standards to be the\n"
          ]
        },
        {
          "output_type": "stream",
          "name": "stderr",
          "text": [
            " 72%|███████▏  | 36198/50000 [05:48<02:00, 114.26it/s]"
          ]
        },
        {
          "output_type": "stream",
          "name": "stdout",
          "text": [
            "Loss: 1.3806713604927063\n"
          ]
        },
        {
          "output_type": "stream",
          "name": "stderr",
          "text": [
            "\n",
            "  0%|          | 0/200 [00:00<?, ?it/s]\u001b[A\n",
            "100%|██████████| 200/200 [00:00<00:00, 1352.82it/s]\n"
          ]
        },
        {
          "output_type": "stream",
          "name": "stdout",
          "text": [
            " to 1990s and the state of the state of the computer control to a state of the first community of the transportation of the United States and the service to the station of the state and the computer st\n"
          ]
        },
        {
          "output_type": "stream",
          "name": "stderr",
          "text": [
            " 72%|███████▏  | 36244/50000 [05:48<02:00, 113.86it/s]"
          ]
        },
        {
          "output_type": "stream",
          "name": "stdout",
          "text": [
            "Loss: 1.3680381274223328\n"
          ]
        },
        {
          "output_type": "stream",
          "name": "stderr",
          "text": [
            "\n",
            "  0%|          | 0/200 [00:00<?, ?it/s]\u001b[A\n",
            "100%|██████████| 200/200 [00:00<00:00, 1337.53it/s]\n"
          ]
        },
        {
          "output_type": "stream",
          "name": "stdout",
          "text": [
            " and the state of the southern state of the first process and company was a secrete standard to a computer services of a students and the same in the United States of the control of the company and the\n"
          ]
        },
        {
          "output_type": "stream",
          "name": "stderr",
          "text": [
            " 73%|███████▎  | 36290/50000 [05:49<02:00, 113.94it/s]"
          ]
        },
        {
          "output_type": "stream",
          "name": "stdout",
          "text": [
            "Loss: 1.3578294372558595\n"
          ]
        },
        {
          "output_type": "stream",
          "name": "stderr",
          "text": [
            "\n",
            "  0%|          | 0/200 [00:00<?, ?it/s]\u001b[A\n",
            "100%|██████████| 200/200 [00:00<00:00, 1342.91it/s]\n",
            " 73%|███████▎  | 36304/50000 [05:49<02:35, 88.17it/s] "
          ]
        },
        {
          "output_type": "stream",
          "name": "stdout",
          "text": [
            " and the term in the new population of the subsequently on the standard services are also service and international and addition of the state of the action of the Cape Verde has a result of the constit\n"
          ]
        },
        {
          "output_type": "stream",
          "name": "stderr",
          "text": [
            " 73%|███████▎  | 36336/50000 [05:49<01:59, 114.14it/s]"
          ]
        },
        {
          "output_type": "stream",
          "name": "stdout",
          "text": [
            "Loss: 1.3554207873344422\n"
          ]
        },
        {
          "output_type": "stream",
          "name": "stderr",
          "text": [
            "\n",
            "  0%|          | 0/200 [00:00<?, ?it/s]\u001b[A\n",
            "100%|██████████| 200/200 [00:00<00:00, 1370.37it/s]\n",
            " 73%|███████▎  | 36350/50000 [05:49<02:32, 89.50it/s] "
          ]
        },
        {
          "output_type": "stream",
          "name": "stdout",
          "text": [
            " the state and the company in the United States and the transportation in the Northern Route and Commons and the Cape Verde is a production of the state of the computer and available and religion of th\n"
          ]
        },
        {
          "output_type": "stream",
          "name": "stderr",
          "text": [
            " 73%|███████▎  | 36398/50000 [05:50<01:48, 125.86it/s]"
          ]
        },
        {
          "output_type": "stream",
          "name": "stdout",
          "text": [
            "Loss: 1.3690107822418214\n"
          ]
        },
        {
          "output_type": "stream",
          "name": "stderr",
          "text": [
            "\n",
            "  0%|          | 0/200 [00:00<?, ?it/s]\u001b[A\n",
            "100%|██████████| 200/200 [00:00<00:00, 1362.20it/s]\n"
          ]
        },
        {
          "output_type": "stream",
          "name": "stdout",
          "text": [
            " in 2015, the state of the transportation of the higher than the services and the particular are allow the problems in the United States and the term state of the state and possible in the construction\n"
          ]
        },
        {
          "output_type": "stream",
          "name": "stderr",
          "text": [
            " 73%|███████▎  | 36445/50000 [05:50<01:54, 118.53it/s]"
          ]
        },
        {
          "output_type": "stream",
          "name": "stdout",
          "text": [
            "Loss: 1.3616991209983826\n"
          ]
        },
        {
          "output_type": "stream",
          "name": "stderr",
          "text": [
            "\n",
            "  0%|          | 0/200 [00:00<?, ?it/s]\u001b[A\n",
            "100%|██████████| 200/200 [00:00<00:00, 1327.26it/s]\n"
          ]
        },
        {
          "output_type": "stream",
          "name": "stdout",
          "text": [
            " of the total and companies and instance of the process of the population for the state the state and other state of the state and the state the first and product and account of the argued to the city \n"
          ]
        },
        {
          "output_type": "stream",
          "name": "stderr",
          "text": [
            " 73%|███████▎  | 36492/50000 [05:50<01:55, 116.54it/s]"
          ]
        },
        {
          "output_type": "stream",
          "name": "stdout",
          "text": [
            "Loss: 1.3800720930099488\n"
          ]
        },
        {
          "output_type": "stream",
          "name": "stderr",
          "text": [
            "\n",
            "  0%|          | 0/200 [00:00<?, ?it/s]\u001b[A\n",
            "100%|██████████| 200/200 [00:00<00:00, 1358.43it/s]\n",
            " 73%|███████▎  | 36506/50000 [05:51<02:29, 90.46it/s] "
          ]
        },
        {
          "output_type": "stream",
          "name": "stdout",
          "text": [
            " to the control of the engineering of the proportion and many of the process and the station of the development of the company and position of the states that the services and design to be a series of \n"
          ]
        },
        {
          "output_type": "stream",
          "name": "stderr",
          "text": [
            " 73%|███████▎  | 36538/50000 [05:51<01:55, 116.22it/s]"
          ]
        },
        {
          "output_type": "stream",
          "name": "stdout",
          "text": [
            "Loss: 1.3626262497901918\n"
          ]
        },
        {
          "output_type": "stream",
          "name": "stderr",
          "text": [
            "\n",
            "  0%|          | 0/200 [00:00<?, ?it/s]\u001b[A\n",
            "100%|██████████| 200/200 [00:00<00:00, 1235.16it/s]\n",
            " 73%|███████▎  | 36552/50000 [05:51<02:35, 86.46it/s] "
          ]
        },
        {
          "output_type": "stream",
          "name": "stdout",
          "text": [
            " the largest particular and product of the process of the state of the common to a production of the computer and services and the speeds of the project of the particular in the company of the computer\n"
          ]
        },
        {
          "output_type": "stream",
          "name": "stderr",
          "text": [
            " 73%|███████▎  | 36584/50000 [05:51<01:58, 113.39it/s]"
          ]
        },
        {
          "output_type": "stream",
          "name": "stdout",
          "text": [
            "Loss: 1.3680571746826171\n"
          ]
        },
        {
          "output_type": "stream",
          "name": "stderr",
          "text": [
            "\n",
            "  0%|          | 0/200 [00:00<?, ?it/s]\u001b[A\n",
            "100%|██████████| 200/200 [00:00<00:00, 1336.81it/s]\n",
            " 73%|███████▎  | 36600/50000 [05:52<02:28, 90.07it/s] "
          ]
        },
        {
          "output_type": "stream",
          "name": "stdout",
          "text": [
            " and in the set of the station of the control of the Netherlands and the continued the states are a state is the standards and the problems in the United States of the one of the transportation of the \n"
          ]
        },
        {
          "output_type": "stream",
          "name": "stderr",
          "text": [
            " 73%|███████▎  | 36648/50000 [05:52<01:46, 125.27it/s]"
          ]
        },
        {
          "output_type": "stream",
          "name": "stdout",
          "text": [
            "Loss: 1.3638868117332459\n"
          ]
        },
        {
          "output_type": "stream",
          "name": "stderr",
          "text": [
            "\n",
            "  0%|          | 0/200 [00:00<?, ?it/s]\u001b[A\n",
            "100%|██████████| 200/200 [00:00<00:00, 1308.02it/s]\n"
          ]
        },
        {
          "output_type": "stream",
          "name": "stdout",
          "text": [
            " and other west of the state of the state and sets that is a seats of the state the continued that the result of the main and the state and the companies and the site and the results that the developme\n"
          ]
        },
        {
          "output_type": "stream",
          "name": "stderr",
          "text": [
            " 73%|███████▎  | 36695/50000 [05:52<01:52, 118.69it/s]"
          ]
        },
        {
          "output_type": "stream",
          "name": "stdout",
          "text": [
            "Loss: 1.3762422752380372\n"
          ]
        },
        {
          "output_type": "stream",
          "name": "stderr",
          "text": [
            "\n",
            "  0%|          | 0/200 [00:00<?, ?it/s]\u001b[A\n",
            "100%|██████████| 200/200 [00:00<00:00, 1362.69it/s]\n"
          ]
        },
        {
          "output_type": "stream",
          "name": "stdout",
          "text": [
            " the problems of the company and the sources of the engineering is a protocol in the United States of the United States and process and the late 1990s and the early 1900s and the provides a process and\n"
          ]
        },
        {
          "output_type": "stream",
          "name": "stderr",
          "text": [
            " 73%|███████▎  | 36741/50000 [05:53<01:53, 116.72it/s]"
          ]
        },
        {
          "output_type": "stream",
          "name": "stdout",
          "text": [
            "Loss: 1.3738852334022522\n"
          ]
        },
        {
          "output_type": "stream",
          "name": "stderr",
          "text": [
            "\n",
            "  0%|          | 0/200 [00:00<?, ?it/s]\u001b[A\n",
            "100%|██████████| 200/200 [00:00<00:00, 1281.47it/s]\n",
            " 74%|███████▎  | 36755/50000 [05:53<02:29, 88.73it/s] "
          ]
        },
        {
          "output_type": "stream",
          "name": "stdout",
          "text": [
            " and the most seat companies and the source of the most public and and subsequently and a secrete experience of and other state of the many of the state in the set of the positional and so that the pro\n"
          ]
        },
        {
          "output_type": "stream",
          "name": "stderr",
          "text": [
            " 74%|███████▎  | 36787/50000 [05:53<01:55, 114.62it/s]"
          ]
        },
        {
          "output_type": "stream",
          "name": "stdout",
          "text": [
            "Loss: 1.378740291595459\n"
          ]
        },
        {
          "output_type": "stream",
          "name": "stderr",
          "text": [
            "\n",
            "  0%|          | 0/200 [00:00<?, ?it/s]\u001b[A\n",
            "100%|██████████| 200/200 [00:00<00:00, 1390.58it/s]\n",
            " 74%|███████▎  | 36801/50000 [05:54<02:26, 90.26it/s] "
          ]
        },
        {
          "output_type": "stream",
          "name": "stdout",
          "text": [
            " in 1980s of the Cape Verde is the benefit of the standard was the electronic standards of the process and the standard and services and result of the article of the south and with the largest response\n"
          ]
        },
        {
          "output_type": "stream",
          "name": "stderr",
          "text": [
            " 74%|███████▎  | 36849/50000 [05:54<01:43, 126.77it/s]"
          ]
        },
        {
          "output_type": "stream",
          "name": "stdout",
          "text": [
            "Loss: 1.376803960800171\n"
          ]
        },
        {
          "output_type": "stream",
          "name": "stderr",
          "text": [
            "\n",
            "  0%|          | 0/200 [00:00<?, ?it/s]\u001b[A\n",
            "100%|██████████| 200/200 [00:00<00:00, 1223.99it/s]\n"
          ]
        },
        {
          "output_type": "stream",
          "name": "stdout",
          "text": [
            " in the rail services and the set of the country and the state of the southern contraction of the company and services of the source of the computer way to the international states are the state of the\n"
          ]
        },
        {
          "output_type": "stream",
          "name": "stderr",
          "text": [
            " 74%|███████▍  | 36896/50000 [05:54<01:51, 117.68it/s]"
          ]
        },
        {
          "output_type": "stream",
          "name": "stdout",
          "text": [
            "Loss: 1.3674194288253785\n"
          ]
        },
        {
          "output_type": "stream",
          "name": "stderr",
          "text": [
            "\n",
            "  0%|          | 0/200 [00:00<?, ?it/s]\u001b[A\n",
            "100%|██████████| 200/200 [00:00<00:00, 1313.49it/s]\n"
          ]
        },
        {
          "output_type": "stream",
          "name": "stdout",
          "text": [
            " and the computer standard in the United States and international state of the American Committee of the South American and the source of the standard are the control of the ancient process and and pro\n"
          ]
        },
        {
          "output_type": "stream",
          "name": "stderr",
          "text": [
            " 74%|███████▍  | 36942/50000 [05:55<01:52, 115.92it/s]"
          ]
        },
        {
          "output_type": "stream",
          "name": "stdout",
          "text": [
            "Loss: 1.385134108066559\n"
          ]
        },
        {
          "output_type": "stream",
          "name": "stderr",
          "text": [
            "\n",
            "  0%|          | 0/200 [00:00<?, ?it/s]\u001b[A\n",
            "100%|██████████| 200/200 [00:00<00:00, 1289.51it/s]"
          ]
        },
        {
          "output_type": "stream",
          "name": "stdout",
          "text": [
            " and the service of a control of the major former company and the production of the company of the protect the process and the production of the production of the state and in the production of the con\n"
          ]
        },
        {
          "output_type": "stream",
          "name": "stderr",
          "text": [
            "\n",
            " 74%|███████▍  | 36988/50000 [05:55<01:53, 114.41it/s]"
          ]
        },
        {
          "output_type": "stream",
          "name": "stdout",
          "text": [
            "Loss: 1.3524177551269532\n"
          ]
        },
        {
          "output_type": "stream",
          "name": "stderr",
          "text": [
            "\n",
            "  0%|          | 0/200 [00:00<?, ?it/s]\u001b[A\n",
            "100%|██████████| 200/200 [00:00<00:00, 1399.25it/s]\n",
            " 74%|███████▍  | 37002/50000 [05:55<02:24, 89.77it/s] "
          ]
        },
        {
          "output_type": "stream",
          "name": "stdout",
          "text": [
            " and the born in the first country of the state and the computer standard and the specific and the home of the control to the control of the product of the transportation of the United States and the C\n"
          ]
        },
        {
          "output_type": "stream",
          "name": "stderr",
          "text": [
            " 74%|███████▍  | 37034/50000 [05:56<01:53, 114.61it/s]"
          ]
        },
        {
          "output_type": "stream",
          "name": "stdout",
          "text": [
            "Loss: 1.3685091257095336\n"
          ]
        },
        {
          "output_type": "stream",
          "name": "stderr",
          "text": [
            "\n",
            "  0%|          | 0/200 [00:00<?, ?it/s]\u001b[A\n",
            "100%|██████████| 200/200 [00:00<00:00, 1216.82it/s]\n",
            " 74%|███████▍  | 37050/50000 [05:56<02:26, 88.37it/s] "
          ]
        },
        {
          "output_type": "stream",
          "name": "stdout",
          "text": [
            " and the state of the companies and programmers to the company the highest and secondary and the proposed to the state of the state and a services of the state of the continued the standard and formal \n"
          ]
        },
        {
          "output_type": "stream",
          "name": "stderr",
          "text": [
            " 74%|███████▍  | 37098/50000 [05:56<01:45, 122.84it/s]"
          ]
        },
        {
          "output_type": "stream",
          "name": "stdout",
          "text": [
            "Loss: 1.3749988174438477\n"
          ]
        },
        {
          "output_type": "stream",
          "name": "stderr",
          "text": [
            "\n",
            "  0%|          | 0/200 [00:00<?, ?it/s]\u001b[A\n",
            "100%|██████████| 200/200 [00:00<00:00, 1426.92it/s]\n"
          ]
        },
        {
          "output_type": "stream",
          "name": "stdout",
          "text": [
            " process to the United States and the two control of the community of the first common the company of the same state of the country and a person and the content of the state and distributed to the trai\n"
          ]
        },
        {
          "output_type": "stream",
          "name": "stderr",
          "text": [
            " 74%|███████▍  | 37144/50000 [05:57<01:48, 118.67it/s]"
          ]
        },
        {
          "output_type": "stream",
          "name": "stdout",
          "text": [
            "Loss: 1.3565115690231324\n"
          ]
        },
        {
          "output_type": "stream",
          "name": "stderr",
          "text": [
            "\n",
            "  0%|          | 0/200 [00:00<?, ?it/s]\u001b[A\n",
            "100%|██████████| 200/200 [00:00<00:00, 1320.58it/s]\n"
          ]
        },
        {
          "output_type": "stream",
          "name": "stdout",
          "text": [
            " and the set of the state in the standard of the transportation of the set of the total for the specific standard in the contraction of the Personal control in the 1990s. The company and in the set and\n"
          ]
        },
        {
          "output_type": "stream",
          "name": "stderr",
          "text": [
            " 74%|███████▍  | 37190/50000 [05:57<01:51, 115.30it/s]"
          ]
        },
        {
          "output_type": "stream",
          "name": "stdout",
          "text": [
            "Loss: 1.3733310937881469\n"
          ]
        },
        {
          "output_type": "stream",
          "name": "stderr",
          "text": [
            "\n",
            "  0%|          | 0/200 [00:00<?, ?it/s]\u001b[A\n",
            "100%|██████████| 200/200 [00:00<00:00, 1092.23it/s]"
          ]
        },
        {
          "output_type": "stream",
          "name": "stdout",
          "text": [
            " and the professional control and control of the state and social networking state and the company of the traditional more project and countries and the state to be a support of the standards and the s\n"
          ]
        },
        {
          "output_type": "stream",
          "name": "stderr",
          "text": [
            "\n",
            " 74%|███████▍  | 37247/50000 [05:58<01:53, 112.72it/s]"
          ]
        },
        {
          "output_type": "stream",
          "name": "stdout",
          "text": [
            "Loss: 1.3617420291900635\n"
          ]
        },
        {
          "output_type": "stream",
          "name": "stderr",
          "text": [
            "\n",
            "  0%|          | 0/200 [00:00<?, ?it/s]\u001b[A\n",
            "100%|██████████| 200/200 [00:00<00:00, 1040.25it/s]\n",
            " 75%|███████▍  | 37274/50000 [05:58<02:23, 88.48it/s]"
          ]
        },
        {
          "output_type": "stream",
          "name": "stdout",
          "text": [
            " in the produced the distance and the first state and the states that the production of a local and the profiles and financial areas of the constitutional interaction of the top state of the states and\n"
          ]
        },
        {
          "output_type": "stream",
          "name": "stderr",
          "text": [
            "\r 75%|███████▍  | 37289/50000 [05:58<02:06, 100.28it/s]"
          ]
        },
        {
          "output_type": "stream",
          "name": "stdout",
          "text": [
            "Loss: 1.383409752845764\n"
          ]
        },
        {
          "output_type": "stream",
          "name": "stderr",
          "text": [
            "\n",
            "  0%|          | 0/200 [00:00<?, ?it/s]\u001b[A\n",
            "100%|██████████| 200/200 [00:00<00:00, 1345.02it/s]\n",
            " 75%|███████▍  | 37302/50000 [05:59<02:40, 79.04it/s] "
          ]
        },
        {
          "output_type": "stream",
          "name": "stdout",
          "text": [
            " the company and the company suffering and the state in the produced the new second lines of the southern companies of the standard state and service on the state and developed to the world for the art\n"
          ]
        },
        {
          "output_type": "stream",
          "name": "stderr",
          "text": [
            " 75%|███████▍  | 37348/50000 [05:59<01:48, 116.12it/s]"
          ]
        },
        {
          "output_type": "stream",
          "name": "stdout",
          "text": [
            "Loss: 1.3574682426452638\n"
          ]
        },
        {
          "output_type": "stream",
          "name": "stderr",
          "text": [
            "\n",
            "  0%|          | 0/200 [00:00<?, ?it/s]\u001b[A\n",
            "100%|██████████| 200/200 [00:00<00:00, 1196.54it/s]\n"
          ]
        },
        {
          "output_type": "stream",
          "name": "stdout",
          "text": [
            " and the the state of the production concept of a proposed to the constitutional result of the service of the active with the all storage of the common methods in the services in the position to the co\n"
          ]
        },
        {
          "output_type": "stream",
          "name": "stderr",
          "text": [
            " 75%|███████▍  | 37393/50000 [05:59<01:55, 108.87it/s]"
          ]
        },
        {
          "output_type": "stream",
          "name": "stdout",
          "text": [
            "Loss: 1.3795268654823303\n"
          ]
        },
        {
          "output_type": "stream",
          "name": "stderr",
          "text": [
            "\n",
            "  0%|          | 0/200 [00:00<?, ?it/s]\u001b[A\n",
            "100%|██████████| 200/200 [00:00<00:00, 1023.41it/s]\n",
            " 75%|███████▍  | 37420/50000 [06:00<02:21, 88.64it/s]"
          ]
        },
        {
          "output_type": "stream",
          "name": "stdout",
          "text": [
            " and the term areas of the state and the archipelago and considered the seat the state of the standard of the Cape Verdean was a state of the city of the standard and the first the state in the United \n"
          ]
        },
        {
          "output_type": "stream",
          "name": "stderr",
          "text": [
            " 75%|███████▍  | 37448/50000 [06:00<01:58, 106.20it/s]"
          ]
        },
        {
          "output_type": "stream",
          "name": "stdout",
          "text": [
            "Loss: 1.35593003988266\n"
          ]
        },
        {
          "output_type": "stream",
          "name": "stderr",
          "text": [
            "\n",
            "  0%|          | 0/200 [00:00<?, ?it/s]\u001b[A\n",
            "100%|██████████| 200/200 [00:00<00:00, 1024.38it/s]\n",
            " 75%|███████▍  | 37475/50000 [06:00<02:26, 85.34it/s]"
          ]
        },
        {
          "output_type": "stream",
          "name": "stdout",
          "text": [
            " and the provide the company and the highest services that the standard of the United States and the first the products that the archipelago is contraction of the construction of the archipelago is a p\n"
          ]
        },
        {
          "output_type": "stream",
          "name": "stderr",
          "text": [
            "\r 75%|███████▍  | 37488/50000 [06:00<02:13, 93.75it/s]"
          ]
        },
        {
          "output_type": "stream",
          "name": "stdout",
          "text": [
            "Loss: 1.3633716487884522\n"
          ]
        },
        {
          "output_type": "stream",
          "name": "stderr",
          "text": [
            "\n",
            "  0%|          | 0/200 [00:00<?, ?it/s]\u001b[A\n",
            " 47%|████▋     | 94/200 [00:00<00:00, 920.19it/s]\u001b[A\n",
            "100%|██████████| 200/200 [00:00<00:00, 933.42it/s]\n",
            " 75%|███████▌  | 37515/50000 [06:01<02:30, 82.95it/s]"
          ]
        },
        {
          "output_type": "stream",
          "name": "stdout",
          "text": [
            " and the original product of the states from the highest service for a sections and the state of the early 1990s, the company and the most and called the archipelago that in the personal and computer c\n"
          ]
        },
        {
          "output_type": "stream",
          "name": "stderr",
          "text": [
            " 75%|███████▌  | 37547/50000 [06:01<01:52, 110.77it/s]"
          ]
        },
        {
          "output_type": "stream",
          "name": "stdout",
          "text": [
            "Loss: 1.3766530704498292\n"
          ]
        },
        {
          "output_type": "stream",
          "name": "stderr",
          "text": [
            "\n",
            "  0%|          | 0/200 [00:00<?, ?it/s]\u001b[A\n",
            "100%|██████████| 200/200 [00:00<00:00, 1309.59it/s]\n"
          ]
        },
        {
          "output_type": "stream",
          "name": "stdout",
          "text": [
            " and other state and the result of the protection of the first the article in constitutional state and expansion of the companies and the process of the result of the state and the media and his comple\n"
          ]
        },
        {
          "output_type": "stream",
          "name": "stderr",
          "text": [
            " 75%|███████▌  | 37593/50000 [06:02<01:49, 112.92it/s]"
          ]
        },
        {
          "output_type": "stream",
          "name": "stdout",
          "text": [
            "Loss: 1.361449568271637\n"
          ]
        },
        {
          "output_type": "stream",
          "name": "stderr",
          "text": [
            "\n",
            "  0%|          | 0/200 [00:00<?, ?it/s]\u001b[A\n",
            "100%|██████████| 200/200 [00:00<00:00, 1283.64it/s]"
          ]
        },
        {
          "output_type": "stream",
          "name": "stdout",
          "text": [
            " in the United States and the control of the constitutional state of the products and in the United States in the United States and the resident of the particular services and the result and second and\n"
          ]
        },
        {
          "output_type": "stream",
          "name": "stderr",
          "text": [
            "\n",
            " 75%|███████▌  | 37638/50000 [06:02<01:50, 111.72it/s]"
          ]
        },
        {
          "output_type": "stream",
          "name": "stdout",
          "text": [
            "Loss: 1.3721075654029846\n"
          ]
        },
        {
          "output_type": "stream",
          "name": "stderr",
          "text": [
            "\n",
            "  0%|          | 0/200 [00:00<?, ?it/s]\u001b[A\n",
            "100%|██████████| 200/200 [00:00<00:00, 1353.81it/s]\n",
            " 75%|███████▌  | 37652/50000 [06:02<02:20, 87.67it/s] "
          ]
        },
        {
          "output_type": "stream",
          "name": "stdout",
          "text": [
            " must and share process of the provide the state of the standards in the proposal is a security products to be a person for the brain in the protection. The second and financial standard to the provide\n"
          ]
        },
        {
          "output_type": "stream",
          "name": "stderr",
          "text": [
            " 75%|███████▌  | 37684/50000 [06:02<01:48, 114.03it/s]"
          ]
        },
        {
          "output_type": "stream",
          "name": "stdout",
          "text": [
            "Loss: 1.3592083215713502\n"
          ]
        },
        {
          "output_type": "stream",
          "name": "stderr",
          "text": [
            "\n",
            "  0%|          | 0/200 [00:00<?, ?it/s]\u001b[A\n",
            "100%|██████████| 200/200 [00:00<00:00, 1226.77it/s]\n",
            " 75%|███████▌  | 37700/50000 [06:03<02:21, 86.91it/s] "
          ]
        },
        {
          "output_type": "stream",
          "name": "stdout",
          "text": [
            " international processes and the common considered the state of the most responsible for the state of the significant construct of the line of the population of the area of the state and a services are\n"
          ]
        },
        {
          "output_type": "stream",
          "name": "stderr",
          "text": [
            " 75%|███████▌  | 37747/50000 [06:03<01:40, 121.90it/s]"
          ]
        },
        {
          "output_type": "stream",
          "name": "stdout",
          "text": [
            "Loss: 1.3747239232063293\n"
          ]
        },
        {
          "output_type": "stream",
          "name": "stderr",
          "text": [
            "\n",
            "  0%|          | 0/200 [00:00<?, ?it/s]\u001b[A\n",
            "100%|██████████| 200/200 [00:00<00:00, 1328.30it/s]\n"
          ]
        },
        {
          "output_type": "stream",
          "name": "stdout",
          "text": [
            " and the continued to the 1970s, in the first based on the process and only the standard significant services and controlled to the production of a state of the problem to the state of the control of t\n"
          ]
        },
        {
          "output_type": "stream",
          "name": "stderr",
          "text": [
            " 76%|███████▌  | 37794/50000 [06:04<01:43, 118.09it/s]"
          ]
        },
        {
          "output_type": "stream",
          "name": "stdout",
          "text": [
            "Loss: 1.3605902338027953\n"
          ]
        },
        {
          "output_type": "stream",
          "name": "stderr",
          "text": [
            "\n",
            "  0%|          | 0/200 [00:00<?, ?it/s]\u001b[A\n",
            "100%|██████████| 200/200 [00:00<00:00, 1322.31it/s]"
          ]
        },
        {
          "output_type": "stream",
          "name": "stdout",
          "text": [
            " of the state of the second with the state of the company and the state of the United States and the most stations and production of the more than the most and fire state of the activities of the most \n"
          ]
        },
        {
          "output_type": "stream",
          "name": "stderr",
          "text": [
            "\n",
            " 76%|███████▌  | 37839/50000 [06:04<01:47, 112.71it/s]"
          ]
        },
        {
          "output_type": "stream",
          "name": "stdout",
          "text": [
            "Loss: 1.3777556443214416\n"
          ]
        },
        {
          "output_type": "stream",
          "name": "stderr",
          "text": [
            "\n",
            "  0%|          | 0/200 [00:00<?, ?it/s]\u001b[A\n",
            "100%|██████████| 200/200 [00:00<00:00, 1380.08it/s]\n",
            " 76%|███████▌  | 37853/50000 [06:04<02:17, 88.59it/s] "
          ]
        },
        {
          "output_type": "stream",
          "name": "stdout",
          "text": [
            " and all the United States and the second international and the state of the areas of the control of the term in the social networking and a railway is the state of the traditional means of the correct\n"
          ]
        },
        {
          "output_type": "stream",
          "name": "stderr",
          "text": [
            " 76%|███████▌  | 37885/50000 [06:04<01:45, 114.66it/s]"
          ]
        },
        {
          "output_type": "stream",
          "name": "stdout",
          "text": [
            "Loss: 1.3703713083267213\n"
          ]
        },
        {
          "output_type": "stream",
          "name": "stderr",
          "text": [
            "\n",
            "  0%|          | 0/200 [00:00<?, ?it/s]\u001b[A\n",
            "100%|██████████| 200/200 [00:00<00:00, 1175.45it/s]\n",
            " 76%|███████▌  | 37900/50000 [06:05<02:19, 86.97it/s] "
          ]
        },
        {
          "output_type": "stream",
          "name": "stdout",
          "text": [
            " and the control of the search and form of the only a second the southern provides a single provide the services that the services of the second and an international standards and instance of the proce\n"
          ]
        },
        {
          "output_type": "stream",
          "name": "stderr",
          "text": [
            " 76%|███████▌  | 37947/50000 [06:05<01:39, 121.51it/s]"
          ]
        },
        {
          "output_type": "stream",
          "name": "stdout",
          "text": [
            "Loss: 1.3784265112876892\n"
          ]
        },
        {
          "output_type": "stream",
          "name": "stderr",
          "text": [
            "\n",
            "  0%|          | 0/200 [00:00<?, ?it/s]\u001b[A\n",
            "100%|██████████| 200/200 [00:00<00:00, 1397.69it/s]\n"
          ]
        },
        {
          "output_type": "stream",
          "name": "stdout",
          "text": [
            " the control of the control of the result of the term of the companies and the first the result to the company construction of the transport of the transportation of the United States and the provide t\n"
          ]
        },
        {
          "output_type": "stream",
          "name": "stderr",
          "text": [
            " 76%|███████▌  | 37993/50000 [06:05<01:41, 118.58it/s]"
          ]
        },
        {
          "output_type": "stream",
          "name": "stdout",
          "text": [
            "Loss: 1.370548086166382\n"
          ]
        },
        {
          "output_type": "stream",
          "name": "stderr",
          "text": [
            "\n",
            "  0%|          | 0/200 [00:00<?, ?it/s]\u001b[A\n",
            "100%|██████████| 200/200 [00:00<00:00, 1302.17it/s]"
          ]
        },
        {
          "output_type": "stream",
          "name": "stdout",
          "text": [
            " to the Cape Verde of the experiences and state and an activity in the second production of the problem to the participating and company in the most translated the state and the first form in the compu\n"
          ]
        },
        {
          "output_type": "stream",
          "name": "stderr",
          "text": [
            "\n",
            " 76%|███████▌  | 38039/50000 [06:06<01:44, 114.26it/s]"
          ]
        },
        {
          "output_type": "stream",
          "name": "stdout",
          "text": [
            "Loss: 1.3627326703071594\n"
          ]
        },
        {
          "output_type": "stream",
          "name": "stderr",
          "text": [
            "\n",
            "  0%|          | 0/200 [00:00<?, ?it/s]\u001b[A\n",
            "100%|██████████| 200/200 [00:00<00:00, 1392.85it/s]\n",
            " 76%|███████▌  | 38053/50000 [06:06<02:13, 89.60it/s] "
          ]
        },
        {
          "output_type": "stream",
          "name": "stdout",
          "text": [
            " and the experience of the designed to the example, the continued to the state of the term extended to a state of the first released to the state and the products and the production of the state and th\n"
          ]
        },
        {
          "output_type": "stream",
          "name": "stderr",
          "text": [
            " 76%|███████▌  | 38085/50000 [06:06<01:42, 115.88it/s]"
          ]
        },
        {
          "output_type": "stream",
          "name": "stdout",
          "text": [
            "Loss: 1.3709079337120056\n"
          ]
        },
        {
          "output_type": "stream",
          "name": "stderr",
          "text": [
            "\n",
            "  0%|          | 0/200 [00:00<?, ?it/s]\u001b[A\n",
            "100%|██████████| 200/200 [00:00<00:00, 1321.38it/s]\n",
            " 76%|███████▌  | 38100/50000 [06:07<02:11, 90.59it/s] "
          ]
        },
        {
          "output_type": "stream",
          "name": "stdout",
          "text": [
            " and the second in the services and the production of the positive and production of the seat the production of the first case of the development of the article of the content of the trains and a signi\n"
          ]
        },
        {
          "output_type": "stream",
          "name": "stderr",
          "text": [
            " 76%|███████▋  | 38147/50000 [06:07<01:36, 123.44it/s]"
          ]
        },
        {
          "output_type": "stream",
          "name": "stdout",
          "text": [
            "Loss: 1.3786221837997437\n"
          ]
        },
        {
          "output_type": "stream",
          "name": "stderr",
          "text": [
            "\n",
            "  0%|          | 0/200 [00:00<?, ?it/s]\u001b[A\n",
            "100%|██████████| 200/200 [00:00<00:00, 1346.15it/s]\n"
          ]
        },
        {
          "output_type": "stream",
          "name": "stdout",
          "text": [
            " and the state of the computer speed of the services and the continued to the problems and the distinction of the product in the 20th century the states of the produced the area is a relationships and \n"
          ]
        },
        {
          "output_type": "stream",
          "name": "stderr",
          "text": [
            " 76%|███████▋  | 38193/50000 [06:07<01:40, 117.83it/s]"
          ]
        },
        {
          "output_type": "stream",
          "name": "stdout",
          "text": [
            "Loss: 1.378036549091339\n"
          ]
        },
        {
          "output_type": "stream",
          "name": "stderr",
          "text": [
            "\n",
            "  0%|          | 0/200 [00:00<?, ?it/s]\u001b[A\n",
            "100%|██████████| 200/200 [00:00<00:00, 1371.18it/s]\n"
          ]
        },
        {
          "output_type": "stream",
          "name": "stdout",
          "text": [
            " and the new provided the trains are the same of the state of the provided to the first or analysis and the problems of the language of the state and the company and former state of the population and \n"
          ]
        },
        {
          "output_type": "stream",
          "name": "stderr",
          "text": [
            " 76%|███████▋  | 38239/50000 [06:08<01:41, 116.00it/s]"
          ]
        },
        {
          "output_type": "stream",
          "name": "stdout",
          "text": [
            "Loss: 1.3669167828559876\n"
          ]
        },
        {
          "output_type": "stream",
          "name": "stderr",
          "text": [
            "\n",
            "  0%|          | 0/200 [00:00<?, ?it/s]\u001b[A\n",
            "100%|██████████| 200/200 [00:00<00:00, 1306.93it/s]\n",
            " 77%|███████▋  | 38253/50000 [06:08<02:12, 88.39it/s] "
          ]
        },
        {
          "output_type": "stream",
          "name": "stdout",
          "text": [
            " the collection of the provide an organization and a movement of the first research and other many control of international source of the service in the result of the most services of the state of the \n"
          ]
        },
        {
          "output_type": "stream",
          "name": "stderr",
          "text": [
            " 77%|███████▋  | 38285/50000 [06:08<01:41, 114.90it/s]"
          ]
        },
        {
          "output_type": "stream",
          "name": "stdout",
          "text": [
            "Loss: 1.3645807266235352\n"
          ]
        },
        {
          "output_type": "stream",
          "name": "stderr",
          "text": [
            "\n",
            "  0%|          | 0/200 [00:00<?, ?it/s]\u001b[A\n",
            "100%|██████████| 200/200 [00:00<00:00, 1338.18it/s]\n",
            " 77%|███████▋  | 38300/50000 [06:09<02:09, 90.56it/s] "
          ]
        },
        {
          "output_type": "stream",
          "name": "stdout",
          "text": [
            " also a construction of the company and response that conservation of a service to a more computer and services are not one of the original theorem to the computer services of the result to the state i\n"
          ]
        },
        {
          "output_type": "stream",
          "name": "stderr",
          "text": [
            " 77%|███████▋  | 38348/50000 [06:09<01:32, 125.89it/s]"
          ]
        },
        {
          "output_type": "stream",
          "name": "stdout",
          "text": [
            "Loss: 1.3514869713783264\n"
          ]
        },
        {
          "output_type": "stream",
          "name": "stderr",
          "text": [
            "\n",
            "  0%|          | 0/200 [00:00<?, ?it/s]\u001b[A\n",
            "100%|██████████| 200/200 [00:00<00:00, 1259.81it/s]\n"
          ]
        },
        {
          "output_type": "stream",
          "name": "stdout",
          "text": [
            " and companies and the company trains on the southern particular than the state of the company of the concept of state and the population in the United States and the design of the Cape Verde is a seco\n"
          ]
        },
        {
          "output_type": "stream",
          "name": "stderr",
          "text": [
            " 77%|███████▋  | 38395/50000 [06:09<01:38, 117.91it/s]"
          ]
        },
        {
          "output_type": "stream",
          "name": "stdout",
          "text": [
            "Loss: 1.3628515577316285\n"
          ]
        },
        {
          "output_type": "stream",
          "name": "stderr",
          "text": [
            "\n",
            "  0%|          | 0/200 [00:00<?, ?it/s]\u001b[A\n",
            "100%|██████████| 200/200 [00:00<00:00, 1381.73it/s]\n"
          ]
        },
        {
          "output_type": "stream",
          "name": "stdout",
          "text": [
            " election and community of the only services and other most computing of a formal exponentiation of many companies and the production of the services of the result of the many large first or the state \n"
          ]
        },
        {
          "output_type": "stream",
          "name": "stderr",
          "text": [
            " 77%|███████▋  | 38441/50000 [06:10<01:39, 116.23it/s]"
          ]
        },
        {
          "output_type": "stream",
          "name": "stdout",
          "text": [
            "Loss: 1.3629351162910461\n"
          ]
        },
        {
          "output_type": "stream",
          "name": "stderr",
          "text": [
            "\n",
            "  0%|          | 0/200 [00:00<?, ?it/s]\u001b[A\n",
            "100%|██████████| 200/200 [00:00<00:00, 1283.77it/s]\n",
            " 77%|███████▋  | 38455/50000 [06:10<02:10, 88.64it/s] "
          ]
        },
        {
          "output_type": "stream",
          "name": "stdout",
          "text": [
            " and not in the area of the state and the largest computer state of the company service of the production of the product of the company in the second state and the first production of the state and the\n"
          ]
        },
        {
          "output_type": "stream",
          "name": "stderr",
          "text": [
            " 77%|███████▋  | 38487/50000 [06:10<01:39, 115.17it/s]"
          ]
        },
        {
          "output_type": "stream",
          "name": "stdout",
          "text": [
            "Loss: 1.3687586450576783\n"
          ]
        },
        {
          "output_type": "stream",
          "name": "stderr",
          "text": [
            "\n",
            "  0%|          | 0/200 [00:00<?, ?it/s]\u001b[A\n",
            "100%|██████████| 200/200 [00:00<00:00, 1330.89it/s]\n",
            " 77%|███████▋  | 38501/50000 [06:11<02:08, 89.47it/s] "
          ]
        },
        {
          "output_type": "stream",
          "name": "stdout",
          "text": [
            " the country of the active state in the area of the state and with the state and access to the transportation and the problems and the state is the transformation of the experience of the standard and \n"
          ]
        },
        {
          "output_type": "stream",
          "name": "stderr",
          "text": [
            " 77%|███████▋  | 38548/50000 [06:11<01:33, 122.93it/s]"
          ]
        },
        {
          "output_type": "stream",
          "name": "stdout",
          "text": [
            "Loss: 1.3553808259963989\n"
          ]
        },
        {
          "output_type": "stream",
          "name": "stderr",
          "text": [
            "\n",
            "  0%|          | 0/200 [00:00<?, ?it/s]\u001b[A\n",
            "100%|██████████| 200/200 [00:00<00:00, 1071.65it/s]"
          ]
        },
        {
          "output_type": "stream",
          "name": "stdout",
          "text": [
            " the product and a state of the present of the state and the programmer and the state of the result to the company and the information of the standards have a train and products and an active and addit\n"
          ]
        },
        {
          "output_type": "stream",
          "name": "stderr",
          "text": [
            "\n",
            " 77%|███████▋  | 38592/50000 [06:11<01:46, 107.33it/s]"
          ]
        },
        {
          "output_type": "stream",
          "name": "stdout",
          "text": [
            "Loss: 1.37111896276474\n"
          ]
        },
        {
          "output_type": "stream",
          "name": "stderr",
          "text": [
            "\n",
            "  0%|          | 0/200 [00:00<?, ?it/s]\u001b[A\n",
            "100%|██████████| 200/200 [00:00<00:00, 1285.52it/s]\n",
            " 77%|███████▋  | 38605/50000 [06:12<02:16, 83.23it/s] "
          ]
        },
        {
          "output_type": "stream",
          "name": "stdout",
          "text": [
            " person of the production of the state and the state of the state, and the air and services of the project and experience of the traditional relationships and the southern capital and a significant ser\n"
          ]
        },
        {
          "output_type": "stream",
          "name": "stderr",
          "text": [
            " 77%|███████▋  | 38635/50000 [06:12<01:45, 107.49it/s]"
          ]
        },
        {
          "output_type": "stream",
          "name": "stdout",
          "text": [
            "Loss: 1.3664109134674072\n"
          ]
        },
        {
          "output_type": "stream",
          "name": "stderr",
          "text": [
            "\n",
            "  0%|          | 0/200 [00:00<?, ?it/s]\u001b[A\n",
            "100%|██████████| 200/200 [00:00<00:00, 1039.45it/s]\n",
            " 77%|███████▋  | 38650/50000 [06:12<02:24, 78.54it/s] "
          ]
        },
        {
          "output_type": "stream",
          "name": "stdout",
          "text": [
            " and the result of a standards and state of the state of the present of the process of the state of the southern Buddhist American American and the Cape Verde is the proposed in the services and the mo\n"
          ]
        },
        {
          "output_type": "stream",
          "name": "stderr",
          "text": [
            " 77%|███████▋  | 38696/50000 [06:12<01:38, 115.13it/s]"
          ]
        },
        {
          "output_type": "stream",
          "name": "stdout",
          "text": [
            "Loss: 1.368228430747986\n"
          ]
        },
        {
          "output_type": "stream",
          "name": "stderr",
          "text": [
            "\n",
            "  0%|          | 0/200 [00:00<?, ?it/s]\u001b[A\n",
            "100%|██████████| 200/200 [00:00<00:00, 1068.81it/s]"
          ]
        },
        {
          "output_type": "stream",
          "name": "stdout",
          "text": [
            " and the company and the programming of the term of the original services and a set of the construction of the archipelago and the result of the construction of the United States and the process of the\n"
          ]
        },
        {
          "output_type": "stream",
          "name": "stderr",
          "text": [
            "\n",
            " 77%|███████▋  | 38740/50000 [06:13<01:45, 106.95it/s]"
          ]
        },
        {
          "output_type": "stream",
          "name": "stdout",
          "text": [
            "Loss: 1.362966923713684\n"
          ]
        },
        {
          "output_type": "stream",
          "name": "stderr",
          "text": [
            "\n",
            "  0%|          | 0/200 [00:00<?, ?it/s]\u001b[A\n",
            "100%|██████████| 200/200 [00:00<00:00, 1141.94it/s]"
          ]
        },
        {
          "output_type": "stream",
          "name": "stdout",
          "text": [
            " and a program in the compared to the standards and the community of the company of the committees and the services of the protect the companies and the control of the state and common and provide a se\n"
          ]
        },
        {
          "output_type": "stream",
          "name": "stderr",
          "text": [
            "\n",
            " 78%|███████▊  | 38798/50000 [06:13<01:40, 111.47it/s]"
          ]
        },
        {
          "output_type": "stream",
          "name": "stdout",
          "text": [
            "Loss: 1.3801799631118774\n"
          ]
        },
        {
          "output_type": "stream",
          "name": "stderr",
          "text": [
            "\n",
            "  0%|          | 0/200 [00:00<?, ?it/s]\u001b[A\n",
            "100%|██████████| 200/200 [00:00<00:00, 1133.63it/s]\n"
          ]
        },
        {
          "output_type": "stream",
          "name": "stdout",
          "text": [
            " in the United States and the Buddhist station and a control of the term are state and the proposed and as the state to a state and the restriction of the traditional state of the the second and the st\n"
          ]
        },
        {
          "output_type": "stream",
          "name": "stderr",
          "text": [
            " 78%|███████▊  | 38838/50000 [06:14<01:53, 98.16it/s]"
          ]
        },
        {
          "output_type": "stream",
          "name": "stdout",
          "text": [
            "Loss: 1.3700316858291626\n"
          ]
        },
        {
          "output_type": "stream",
          "name": "stderr",
          "text": [
            "\n",
            "  0%|          | 0/200 [00:00<?, ?it/s]\u001b[A\n",
            "100%|██████████| 200/200 [00:00<00:00, 1016.87it/s]\n",
            " 78%|███████▊  | 38865/50000 [06:14<02:10, 85.28it/s]"
          ]
        },
        {
          "output_type": "stream",
          "name": "stdout",
          "text": [
            " immigrants and some of the state of the first majority of the international standard is a frequent and and records the state of the state of the computer states of social networking state of the probl\n"
          ]
        },
        {
          "output_type": "stream",
          "name": "stderr",
          "text": [
            " 78%|███████▊  | 38895/50000 [06:15<01:42, 108.21it/s]"
          ]
        },
        {
          "output_type": "stream",
          "name": "stdout",
          "text": [
            "Loss: 1.3578944993019104\n"
          ]
        },
        {
          "output_type": "stream",
          "name": "stderr",
          "text": [
            "\n",
            "  0%|          | 0/200 [00:00<?, ?it/s]\u001b[A\n",
            "100%|██████████| 200/200 [00:00<00:00, 1225.98it/s]"
          ]
        },
        {
          "output_type": "stream",
          "name": "stdout",
          "text": [
            " and the standards and the services to the computer the common and the production of the process of the state in the state of the company and second and services that is a significant provided the comm\n"
          ]
        },
        {
          "output_type": "stream",
          "name": "stderr",
          "text": [
            "\n",
            " 78%|███████▊  | 38939/50000 [06:15<01:42, 108.24it/s]"
          ]
        },
        {
          "output_type": "stream",
          "name": "stdout",
          "text": [
            "Loss: 1.3756072545051574\n"
          ]
        },
        {
          "output_type": "stream",
          "name": "stderr",
          "text": [
            "\n",
            "  0%|          | 0/200 [00:00<?, ?it/s]\u001b[A\n",
            "100%|██████████| 200/200 [00:00<00:00, 1384.79it/s]\n",
            " 78%|███████▊  | 38952/50000 [06:15<02:09, 85.47it/s] "
          ]
        },
        {
          "output_type": "stream",
          "name": "stdout",
          "text": [
            " contract the first the state and the control of the based on the state and the proposed by the computer services and the experience of the control of the train control of the services and the ancient \n"
          ]
        },
        {
          "output_type": "stream",
          "name": "stderr",
          "text": [
            " 78%|███████▊  | 38984/50000 [06:15<01:37, 113.19it/s]"
          ]
        },
        {
          "output_type": "stream",
          "name": "stdout",
          "text": [
            "Loss: 1.3791191458702088\n"
          ]
        },
        {
          "output_type": "stream",
          "name": "stderr",
          "text": [
            "\n",
            "  0%|          | 0/200 [00:00<?, ?it/s]\u001b[A\n",
            "100%|██████████| 200/200 [00:00<00:00, 1296.65it/s]\n",
            " 78%|███████▊  | 39000/50000 [06:16<02:03, 88.97it/s] "
          ]
        },
        {
          "output_type": "stream",
          "name": "stdout",
          "text": [
            " and a similar to the article in the state of the southern the services, and the significant construction of the companies and was a support in the substance of the term of the construction in the Unit\n"
          ]
        },
        {
          "output_type": "stream",
          "name": "stderr",
          "text": [
            " 78%|███████▊  | 39048/50000 [06:16<01:28, 123.89it/s]"
          ]
        },
        {
          "output_type": "stream",
          "name": "stdout",
          "text": [
            "Loss: 1.3815601754188538\n"
          ]
        },
        {
          "output_type": "stream",
          "name": "stderr",
          "text": [
            "\n",
            "  0%|          | 0/200 [00:00<?, ?it/s]\u001b[A\n",
            "100%|██████████| 200/200 [00:00<00:00, 1157.28it/s]\n"
          ]
        },
        {
          "output_type": "stream",
          "name": "stdout",
          "text": [
            " in the proposed the result to the area of the article of the rail services and the decision and company of the companies and the country of the process of the considered the state is a company to the \n"
          ]
        },
        {
          "output_type": "stream",
          "name": "stderr",
          "text": [
            " 78%|███████▊  | 39094/50000 [06:17<01:34, 115.53it/s]"
          ]
        },
        {
          "output_type": "stream",
          "name": "stdout",
          "text": [
            "Loss: 1.3743926477432251\n"
          ]
        },
        {
          "output_type": "stream",
          "name": "stderr",
          "text": [
            "\n",
            "  0%|          | 0/200 [00:00<?, ?it/s]\u001b[A\n",
            "100%|██████████| 200/200 [00:00<00:00, 1367.46it/s]\n"
          ]
        },
        {
          "output_type": "stream",
          "name": "stdout",
          "text": [
            " to a security and engineering of the result of the standard of the proposed as the same numbers are the production of a participated on the control is the person of the social networking systems to ad\n"
          ]
        },
        {
          "output_type": "stream",
          "name": "stderr",
          "text": [
            " 78%|███████▊  | 39140/50000 [06:17<01:34, 115.02it/s]"
          ]
        },
        {
          "output_type": "stream",
          "name": "stdout",
          "text": [
            "Loss: 1.3553481531143188\n"
          ]
        },
        {
          "output_type": "stream",
          "name": "stderr",
          "text": [
            "\n",
            "  0%|          | 0/200 [00:00<?, ?it/s]\u001b[A\n",
            "100%|██████████| 200/200 [00:00<00:00, 1261.41it/s]\n",
            " 78%|███████▊  | 39154/50000 [06:17<02:03, 87.49it/s] "
          ]
        },
        {
          "output_type": "stream",
          "name": "stdout",
          "text": [
            " process of the country and the state of the transportation of the state and the services and the late 1990s and 10 million of the process of the most and state of the state of the standard of the stat\n"
          ]
        },
        {
          "output_type": "stream",
          "name": "stderr",
          "text": [
            " 78%|███████▊  | 39187/50000 [06:17<01:33, 115.09it/s]"
          ]
        },
        {
          "output_type": "stream",
          "name": "stdout",
          "text": [
            "Loss: 1.3709476232528686\n"
          ]
        },
        {
          "output_type": "stream",
          "name": "stderr",
          "text": [
            "\n",
            "  0%|          | 0/200 [00:00<?, ?it/s]\u001b[A\n",
            "100%|██████████| 200/200 [00:00<00:00, 1436.91it/s]\n",
            " 78%|███████▊  | 39201/50000 [06:18<01:58, 90.93it/s] "
          ]
        },
        {
          "output_type": "stream",
          "name": "stdout",
          "text": [
            " in a state of the second the companies in the United States of the Cape Verde is the state and the area of the particular services are some of the train of the concept of the International Railway Sta\n"
          ]
        },
        {
          "output_type": "stream",
          "name": "stderr",
          "text": [
            " 78%|███████▊  | 39249/50000 [06:18<01:25, 125.52it/s]"
          ]
        },
        {
          "output_type": "stream",
          "name": "stdout",
          "text": [
            "Loss: 1.3739497423171998\n"
          ]
        },
        {
          "output_type": "stream",
          "name": "stderr",
          "text": [
            "\n",
            "  0%|          | 0/200 [00:00<?, ?it/s]\u001b[A\n",
            "100%|██████████| 200/200 [00:00<00:00, 1278.27it/s]\n"
          ]
        },
        {
          "output_type": "stream",
          "name": "stdout",
          "text": [
            " and the state of the services and the product contraction of the product of the community of the 1960s and an organizations to the standard produced the technical set of company in the problem of the \n"
          ]
        },
        {
          "output_type": "stream",
          "name": "stderr",
          "text": [
            " 79%|███████▊  | 39296/50000 [06:18<01:31, 116.48it/s]"
          ]
        },
        {
          "output_type": "stream",
          "name": "stdout",
          "text": [
            "Loss: 1.363844599723816\n"
          ]
        },
        {
          "output_type": "stream",
          "name": "stderr",
          "text": [
            "\n",
            "  0%|          | 0/200 [00:00<?, ?it/s]\u001b[A\n",
            "100%|██████████| 200/200 [00:00<00:00, 1308.01it/s]\n"
          ]
        },
        {
          "output_type": "stream",
          "name": "stdout",
          "text": [
            " and the second the provided to the service to the process of the services of a second substantial problems of the term in the service of the service of the seats in the result of the company and an ex\n"
          ]
        },
        {
          "output_type": "stream",
          "name": "stderr",
          "text": [
            " 79%|███████▊  | 39342/50000 [06:19<01:33, 114.24it/s]"
          ]
        },
        {
          "output_type": "stream",
          "name": "stdout",
          "text": [
            "Loss: 1.37311208486557\n"
          ]
        },
        {
          "output_type": "stream",
          "name": "stderr",
          "text": [
            "\n",
            "  0%|          | 0/200 [00:00<?, ?it/s]\u001b[A\n",
            "100%|██████████| 200/200 [00:00<00:00, 1283.46it/s]"
          ]
        },
        {
          "output_type": "stream",
          "name": "stdout",
          "text": [
            " the content of the programming and an experience in the United States of the state in the first state of the state and the control to the recommended in a protect the second the seat management of the\n"
          ]
        },
        {
          "output_type": "stream",
          "name": "stderr",
          "text": [
            "\n",
            " 79%|███████▉  | 39388/50000 [06:19<01:33, 113.74it/s]"
          ]
        },
        {
          "output_type": "stream",
          "name": "stdout",
          "text": [
            "Loss: 1.3669540452957154\n"
          ]
        },
        {
          "output_type": "stream",
          "name": "stderr",
          "text": [
            "\n",
            "  0%|          | 0/200 [00:00<?, ?it/s]\u001b[A\n",
            "100%|██████████| 200/200 [00:00<00:00, 1389.54it/s]\n",
            " 79%|███████▉  | 39402/50000 [06:20<01:58, 89.23it/s] "
          ]
        },
        {
          "output_type": "stream",
          "name": "stdout",
          "text": [
            " and the company and the construction of the end the control is not considered the production of the particular security and for the states and the country, the same controlled to the southern state of\n"
          ]
        },
        {
          "output_type": "stream",
          "name": "stderr",
          "text": [
            " 79%|███████▉  | 39434/50000 [06:20<01:31, 115.06it/s]"
          ]
        },
        {
          "output_type": "stream",
          "name": "stdout",
          "text": [
            "Loss: 1.375149564743042\n"
          ]
        },
        {
          "output_type": "stream",
          "name": "stderr",
          "text": [
            "\n",
            "  0%|          | 0/200 [00:00<?, ?it/s]\u001b[A\n",
            "100%|██████████| 200/200 [00:00<00:00, 1322.66it/s]\n",
            " 79%|███████▉  | 39450/50000 [06:20<01:57, 89.45it/s] "
          ]
        },
        {
          "output_type": "stream",
          "name": "stdout",
          "text": [
            " and the state of the states and the same the states of the provide the base and the state and construction of the state of the state and the completed the standard and the train of the operation of th\n"
          ]
        },
        {
          "output_type": "stream",
          "name": "stderr",
          "text": [
            " 79%|███████▉  | 39499/50000 [06:20<01:23, 125.79it/s]"
          ]
        },
        {
          "output_type": "stream",
          "name": "stdout",
          "text": [
            "Loss: 1.3740757632255554\n"
          ]
        },
        {
          "output_type": "stream",
          "name": "stderr",
          "text": [
            "\n",
            "  0%|          | 0/200 [00:00<?, ?it/s]\u001b[A\n",
            "100%|██████████| 200/200 [00:00<00:00, 1359.51it/s]\n"
          ]
        },
        {
          "output_type": "stream",
          "name": "stdout",
          "text": [
            " and the action of the group of the southern company of the first control of the second international lines and standards in the secret in the United States of the United States and the trains to the c\n"
          ]
        },
        {
          "output_type": "stream",
          "name": "stderr",
          "text": [
            " 79%|███████▉  | 39547/50000 [06:21<01:27, 119.88it/s]"
          ]
        },
        {
          "output_type": "stream",
          "name": "stdout",
          "text": [
            "Loss: 1.3547227263450623\n"
          ]
        },
        {
          "output_type": "stream",
          "name": "stderr",
          "text": [
            "\n",
            "  0%|          | 0/200 [00:00<?, ?it/s]\u001b[A\n",
            "100%|██████████| 200/200 [00:00<00:00, 1293.51it/s]\n"
          ]
        },
        {
          "output_type": "stream",
          "name": "stdout",
          "text": [
            " and a significant and management of the state of the state in the American and the company of the American and seats of the services and the long the state and control of content to a based on the com\n"
          ]
        },
        {
          "output_type": "stream",
          "name": "stderr",
          "text": [
            " 79%|███████▉  | 39593/50000 [06:21<01:30, 115.53it/s]"
          ]
        },
        {
          "output_type": "stream",
          "name": "stdout",
          "text": [
            "Loss: 1.364577739238739\n"
          ]
        },
        {
          "output_type": "stream",
          "name": "stderr",
          "text": [
            "\n",
            "  0%|          | 0/200 [00:00<?, ?it/s]\u001b[A\n",
            "100%|██████████| 200/200 [00:00<00:00, 1319.78it/s]"
          ]
        },
        {
          "output_type": "stream",
          "name": "stdout",
          "text": [
            " and interest and the state of the United States in the United States and the Norwich and the Cape Verde is the article of the company and international state of the first and particular services and t\n"
          ]
        },
        {
          "output_type": "stream",
          "name": "stderr",
          "text": [
            "\n",
            " 79%|███████▉  | 39639/50000 [06:22<01:30, 114.11it/s]"
          ]
        },
        {
          "output_type": "stream",
          "name": "stdout",
          "text": [
            "Loss: 1.3532284355163575\n"
          ]
        },
        {
          "output_type": "stream",
          "name": "stderr",
          "text": [
            "\n",
            "  0%|          | 0/200 [00:00<?, ?it/s]\u001b[A\n",
            "100%|██████████| 200/200 [00:00<00:00, 1275.60it/s]\n",
            " 79%|███████▉  | 39653/50000 [06:22<01:57, 87.78it/s] "
          ]
        },
        {
          "output_type": "stream",
          "name": "stdout",
          "text": [
            " to the time of the and research and the second state and the community in the United States and the state of the trains are the home of the population of the companies and the standard and an example \n"
          ]
        },
        {
          "output_type": "stream",
          "name": "stderr",
          "text": [
            " 79%|███████▉  | 39686/50000 [06:22<01:29, 115.21it/s]"
          ]
        },
        {
          "output_type": "stream",
          "name": "stdout",
          "text": [
            "Loss: 1.379802839756012\n"
          ]
        },
        {
          "output_type": "stream",
          "name": "stderr",
          "text": [
            "\n",
            "  0%|          | 0/200 [00:00<?, ?it/s]\u001b[A\n",
            "100%|██████████| 200/200 [00:00<00:00, 1294.28it/s]\n",
            " 79%|███████▉  | 39700/50000 [06:23<01:56, 88.42it/s] "
          ]
        },
        {
          "output_type": "stream",
          "name": "stdout",
          "text": [
            " and a state to have early one of the state of the company of the second construction of the traditional significant construction of the product state and the state, and the development of the product \n"
          ]
        },
        {
          "output_type": "stream",
          "name": "stderr",
          "text": [
            " 79%|███████▉  | 39748/50000 [06:23<01:22, 124.86it/s]"
          ]
        },
        {
          "output_type": "stream",
          "name": "stdout",
          "text": [
            "Loss: 1.3688931035995484\n"
          ]
        },
        {
          "output_type": "stream",
          "name": "stderr",
          "text": [
            "\n",
            "  0%|          | 0/200 [00:00<?, ?it/s]\u001b[A\n",
            "100%|██████████| 200/200 [00:00<00:00, 1161.51it/s]\n"
          ]
        },
        {
          "output_type": "stream",
          "name": "stdout",
          "text": [
            " in some of the archipelago and areas of the process to a state and a large production in the population and the products of the born of the first the production of the comprise the production of the f\n"
          ]
        },
        {
          "output_type": "stream",
          "name": "stderr",
          "text": [
            " 80%|███████▉  | 39795/50000 [06:23<01:27, 116.27it/s]"
          ]
        },
        {
          "output_type": "stream",
          "name": "stdout",
          "text": [
            "Loss: 1.3748843574523926\n"
          ]
        },
        {
          "output_type": "stream",
          "name": "stderr",
          "text": [
            "\n",
            "  0%|          | 0/200 [00:00<?, ?it/s]\u001b[A\n",
            "100%|██████████| 200/200 [00:00<00:00, 1313.39it/s]\n"
          ]
        },
        {
          "output_type": "stream",
          "name": "stdout",
          "text": [
            " and the term the state and continued to be the state of the completed the designed to a state of the state of the produce the decision of the population of the state and the proposed the seat and abou\n"
          ]
        },
        {
          "output_type": "stream",
          "name": "stderr",
          "text": [
            " 80%|███████▉  | 39841/50000 [06:24<01:28, 114.44it/s]"
          ]
        },
        {
          "output_type": "stream",
          "name": "stdout",
          "text": [
            "Loss: 1.3745687460899354\n"
          ]
        },
        {
          "output_type": "stream",
          "name": "stderr",
          "text": [
            "\n",
            "  0%|          | 0/200 [00:00<?, ?it/s]\u001b[A\n",
            "100%|██████████| 200/200 [00:00<00:00, 1205.39it/s]"
          ]
        },
        {
          "output_type": "stream",
          "name": "stdout",
          "text": [
            " and the standard to the states that the problems and the new state of the state of the United States was an and the area of the state of the process and the state and research and control in the propo\n"
          ]
        },
        {
          "output_type": "stream",
          "name": "stderr",
          "text": [
            "\n",
            " 80%|███████▉  | 39887/50000 [06:24<01:29, 112.92it/s]"
          ]
        },
        {
          "output_type": "stream",
          "name": "stdout",
          "text": [
            "Loss: 1.3727374386787414\n"
          ]
        },
        {
          "output_type": "stream",
          "name": "stderr",
          "text": [
            "\n",
            "  0%|          | 0/200 [00:00<?, ?it/s]\u001b[A\n",
            "100%|██████████| 200/200 [00:00<00:00, 1154.29it/s]\n",
            " 80%|███████▉  | 39901/50000 [06:25<01:59, 84.65it/s] "
          ]
        },
        {
          "output_type": "stream",
          "name": "stdout",
          "text": [
            " must another to the highest services in the company of the Martin 1995 and 1960s of the European and the time in the 1990s, and the product the control company in the services in the second the same a\n"
          ]
        },
        {
          "output_type": "stream",
          "name": "stderr",
          "text": [
            " 80%|███████▉  | 39945/50000 [06:25<01:27, 114.87it/s]"
          ]
        },
        {
          "output_type": "stream",
          "name": "stdout",
          "text": [
            "Loss: 1.37973375082016\n"
          ]
        },
        {
          "output_type": "stream",
          "name": "stderr",
          "text": [
            "\n",
            "  0%|          | 0/200 [00:00<?, ?it/s]\u001b[A\n",
            "100%|██████████| 200/200 [00:00<00:00, 1000.94it/s]\n",
            " 80%|███████▉  | 39974/50000 [06:25<01:47, 93.59it/s]"
          ]
        },
        {
          "output_type": "stream",
          "name": "stdout",
          "text": [
            " and the result of the Seoul of the Cape Verdean company the state of the mathematical production of the company and a standards in the population in the population of the state is a specifically on th\n"
          ]
        },
        {
          "output_type": "stream",
          "name": "stderr",
          "text": [
            "\r 80%|███████▉  | 39989/50000 [06:25<01:34, 105.43it/s]"
          ]
        },
        {
          "output_type": "stream",
          "name": "stdout",
          "text": [
            "Loss: 1.3722282290458678\n"
          ]
        },
        {
          "output_type": "stream",
          "name": "stderr",
          "text": [
            "\n",
            "  0%|          | 0/200 [00:00<?, ?it/s]\u001b[A\n",
            "100%|██████████| 200/200 [00:00<00:00, 1211.89it/s]\n",
            " 80%|████████  | 40002/50000 [06:26<02:03, 80.86it/s] "
          ]
        },
        {
          "output_type": "stream",
          "name": "stdout",
          "text": [
            " and the state and computer state and the state of the same and activities and the proposal and computer services and the largest formal product of a standard provide an example, the company of the fir\n"
          ]
        },
        {
          "output_type": "stream",
          "name": "stderr",
          "text": [
            " 80%|████████  | 40047/50000 [06:26<01:25, 115.91it/s]"
          ]
        },
        {
          "output_type": "stream",
          "name": "stdout",
          "text": [
            "Loss: 1.3623666071891785\n"
          ]
        },
        {
          "output_type": "stream",
          "name": "stderr",
          "text": [
            "\n",
            "  0%|          | 0/200 [00:00<?, ?it/s]\u001b[A\n",
            "100%|██████████| 200/200 [00:00<00:00, 1126.23it/s]"
          ]
        },
        {
          "output_type": "stream",
          "name": "stdout",
          "text": [
            " the proposed to the activities as a significant services that the companies and the majority of the state of the ancestry and the right and the standard in the experience of the first of the participa\n"
          ]
        },
        {
          "output_type": "stream",
          "name": "stderr",
          "text": [
            "\n",
            " 80%|████████  | 40092/50000 [06:26<01:30, 109.88it/s]"
          ]
        },
        {
          "output_type": "stream",
          "name": "stdout",
          "text": [
            "Loss: 1.3646386027336121\n"
          ]
        },
        {
          "output_type": "stream",
          "name": "stderr",
          "text": [
            "\n",
            "  0%|          | 0/200 [00:00<?, ?it/s]\u001b[A\n",
            "100%|██████████| 200/200 [00:00<00:00, 1203.59it/s]"
          ]
        },
        {
          "output_type": "stream",
          "name": "stdout",
          "text": [
            " and a state to the process of the state and the first control of the original production of a series of the company product of the recommendation state of the early 2015 and 1974 and 1985 and 2009 the\n"
          ]
        },
        {
          "output_type": "stream",
          "name": "stderr",
          "text": [
            "\n",
            " 80%|████████  | 40137/50000 [06:27<01:32, 106.83it/s]"
          ]
        },
        {
          "output_type": "stream",
          "name": "stdout",
          "text": [
            "Loss: 1.3617743468284607\n"
          ]
        },
        {
          "output_type": "stream",
          "name": "stderr",
          "text": [
            "\n",
            "  0%|          | 0/200 [00:00<?, ?it/s]\u001b[A\n",
            "100%|██████████| 200/200 [00:00<00:00, 1038.07it/s]\n",
            " 80%|████████  | 40164/50000 [06:27<01:53, 86.70it/s]"
          ]
        },
        {
          "output_type": "stream",
          "name": "stdout",
          "text": [
            " and other network and the service of the state and produce the areas that designed by the state of the state and a find all the state is the first products are the state and the provide new a set of t\n"
          ]
        },
        {
          "output_type": "stream",
          "name": "stderr",
          "text": [
            " 80%|████████  | 40194/50000 [06:28<01:29, 110.08it/s]"
          ]
        },
        {
          "output_type": "stream",
          "name": "stdout",
          "text": [
            "Loss: 1.3804168939590453\n"
          ]
        },
        {
          "output_type": "stream",
          "name": "stderr",
          "text": [
            "\n",
            "  0%|          | 0/200 [00:00<?, ?it/s]\u001b[A\n",
            "100%|██████████| 200/200 [00:00<00:00, 989.69it/s] \n",
            " 80%|████████  | 40220/50000 [06:28<01:52, 86.58it/s]"
          ]
        },
        {
          "output_type": "stream",
          "name": "stdout",
          "text": [
            " of the transportation of the set the process of the process of the United States of the South American American and the term in the professional and designed to be a main contraction of the set of an \n"
          ]
        },
        {
          "output_type": "stream",
          "name": "stderr",
          "text": [
            " 80%|████████  | 40247/50000 [06:28<01:32, 105.18it/s]"
          ]
        },
        {
          "output_type": "stream",
          "name": "stdout",
          "text": [
            "Loss: 1.3584325838088989\n"
          ]
        },
        {
          "output_type": "stream",
          "name": "stderr",
          "text": [
            "\n",
            "  0%|          | 0/200 [00:00<?, ?it/s]\u001b[A\n",
            "100%|██████████| 200/200 [00:00<00:00, 1077.37it/s]"
          ]
        },
        {
          "output_type": "stream",
          "name": "stdout",
          "text": [
            " and the state of the Cape Verde was interest service from the second in the company of the the state of the continues and the problem to a common from the company of the company is a south and applica\n"
          ]
        },
        {
          "output_type": "stream",
          "name": "stderr",
          "text": [
            "\n",
            " 81%|████████  | 40292/50000 [06:29<01:31, 106.29it/s]"
          ]
        },
        {
          "output_type": "stream",
          "name": "stdout",
          "text": [
            "Loss: 1.3785072803497314\n"
          ]
        },
        {
          "output_type": "stream",
          "name": "stderr",
          "text": [
            "\n",
            "  0%|          | 0/200 [00:00<?, ?it/s]\u001b[A\n",
            "100%|██████████| 200/200 [00:00<00:00, 1252.06it/s]"
          ]
        },
        {
          "output_type": "stream",
          "name": "stdout",
          "text": [
            " and the archipelago and the state and construction of the state of the community of the second the state of the company of the United States of the Greek state and the process of the properties in the\n"
          ]
        },
        {
          "output_type": "stream",
          "name": "stderr",
          "text": [
            "\n",
            " 81%|████████  | 40337/50000 [06:29<01:27, 110.37it/s]"
          ]
        },
        {
          "output_type": "stream",
          "name": "stdout",
          "text": [
            "Loss: 1.3733892273902892\n"
          ]
        },
        {
          "output_type": "stream",
          "name": "stderr",
          "text": [
            "\n",
            "  0%|          | 0/200 [00:00<?, ?it/s]\u001b[A\n",
            "100%|██████████| 200/200 [00:00<00:00, 1332.63it/s]\n",
            " 81%|████████  | 40351/50000 [06:29<01:51, 86.71it/s] "
          ]
        },
        {
          "output_type": "stream",
          "name": "stdout",
          "text": [
            " in a community of the first to the archipelago of the standard in 2014, the control and the state the argues the southern companies of the most religious services of the services in the Records and a \n"
          ]
        },
        {
          "output_type": "stream",
          "name": "stderr",
          "text": [
            " 81%|████████  | 40399/50000 [06:30<01:17, 124.26it/s]"
          ]
        },
        {
          "output_type": "stream",
          "name": "stdout",
          "text": [
            "Loss: 1.3755346202850343\n"
          ]
        },
        {
          "output_type": "stream",
          "name": "stderr",
          "text": [
            "\n",
            "  0%|          | 0/200 [00:00<?, ?it/s]\u001b[A\n",
            "100%|██████████| 200/200 [00:00<00:00, 1274.42it/s]\n"
          ]
        },
        {
          "output_type": "stream",
          "name": "stdout",
          "text": [
            " and the state of the United States and the company of the provide provide the area of the seat the first from the transportation of the transportation of the state of the archipelago and an experience\n"
          ]
        },
        {
          "output_type": "stream",
          "name": "stderr",
          "text": [
            " 81%|████████  | 40446/50000 [06:30<01:22, 116.19it/s]"
          ]
        },
        {
          "output_type": "stream",
          "name": "stdout",
          "text": [
            "Loss: 1.3679613304138183\n"
          ]
        },
        {
          "output_type": "stream",
          "name": "stderr",
          "text": [
            "\n",
            "  0%|          | 0/200 [00:00<?, ?it/s]\u001b[A\n",
            "100%|██████████| 200/200 [00:00<00:00, 1329.21it/s]\n"
          ]
        },
        {
          "output_type": "stream",
          "name": "stdout",
          "text": [
            " construction of international social networking problems and the state of the transportation of the source and the concept of the product and his leaders of the world as a media of the provided the se\n"
          ]
        },
        {
          "output_type": "stream",
          "name": "stderr",
          "text": [
            " 81%|████████  | 40492/50000 [06:31<01:22, 115.32it/s]"
          ]
        },
        {
          "output_type": "stream",
          "name": "stdout",
          "text": [
            "Loss: 1.3787501645088196\n"
          ]
        },
        {
          "output_type": "stream",
          "name": "stderr",
          "text": [
            "\n",
            "  0%|          | 0/200 [00:00<?, ?it/s]\u001b[A\n",
            "100%|██████████| 200/200 [00:00<00:00, 1381.13it/s]\n",
            " 81%|████████  | 40506/50000 [06:31<01:45, 89.75it/s] "
          ]
        },
        {
          "output_type": "stream",
          "name": "stdout",
          "text": [
            " and its substance of the state of the country and the state of the service of the population of the United States in the services and a state and the company for the total process of a considered the \n"
          ]
        },
        {
          "output_type": "stream",
          "name": "stderr",
          "text": [
            " 81%|████████  | 40536/50000 [06:31<01:24, 112.52it/s]"
          ]
        },
        {
          "output_type": "stream",
          "name": "stdout",
          "text": [
            "Loss: 1.3678325891494751\n"
          ]
        },
        {
          "output_type": "stream",
          "name": "stderr",
          "text": [
            "\n",
            "  0%|          | 0/200 [00:00<?, ?it/s]\u001b[A\n",
            "100%|██████████| 200/200 [00:00<00:00, 1345.45it/s]\n",
            " 81%|████████  | 40550/50000 [06:31<01:47, 87.74it/s] "
          ]
        },
        {
          "output_type": "stream",
          "name": "stdout",
          "text": [
            " in 2006, and the computer trains in the design and computer control to the state of the standard state of the standard of the related to the group of the state of the company in the original constitut\n"
          ]
        },
        {
          "output_type": "stream",
          "name": "stderr",
          "text": [
            " 81%|████████  | 40598/50000 [06:32<01:15, 125.02it/s]"
          ]
        },
        {
          "output_type": "stream",
          "name": "stdout",
          "text": [
            "Loss: 1.371650676727295\n"
          ]
        },
        {
          "output_type": "stream",
          "name": "stderr",
          "text": [
            "\n",
            "  0%|          | 0/200 [00:00<?, ?it/s]\u001b[A\n",
            "100%|██████████| 200/200 [00:00<00:00, 1381.84it/s]\n"
          ]
        },
        {
          "output_type": "stream",
          "name": "stdout",
          "text": [
            " and the end of the protocols of the first population of the Cape Verde is a significant and the project of the state of the seanches of a more provide the state of the particular and between the state\n"
          ]
        },
        {
          "output_type": "stream",
          "name": "stderr",
          "text": [
            " 81%|████████▏ | 40644/50000 [06:32<01:20, 116.05it/s]"
          ]
        },
        {
          "output_type": "stream",
          "name": "stdout",
          "text": [
            "Loss: 1.3536428785324097\n"
          ]
        },
        {
          "output_type": "stream",
          "name": "stderr",
          "text": [
            "\n",
            "  0%|          | 0/200 [00:00<?, ?it/s]\u001b[A\n",
            "100%|██████████| 200/200 [00:00<00:00, 1370.04it/s]\n"
          ]
        },
        {
          "output_type": "stream",
          "name": "stdout",
          "text": [
            " and the result of the provide the constitutional international and and and real network of the sources of the simply control of the country of the same the company the control with the services and th\n"
          ]
        },
        {
          "output_type": "stream",
          "name": "stderr",
          "text": [
            " 81%|████████▏ | 40690/50000 [06:32<01:20, 115.90it/s]"
          ]
        },
        {
          "output_type": "stream",
          "name": "stdout",
          "text": [
            "Loss: 1.3753559231758117\n"
          ]
        },
        {
          "output_type": "stream",
          "name": "stderr",
          "text": [
            "\n",
            "  0%|          | 0/200 [00:00<?, ?it/s]\u001b[A\n",
            "100%|██████████| 200/200 [00:00<00:00, 1346.72it/s]\n",
            " 81%|████████▏ | 40704/50000 [06:33<01:43, 89.47it/s] "
          ]
        },
        {
          "output_type": "stream",
          "name": "stdout",
          "text": [
            " and the particularly are considered the trains and the population of the product and the name and the state of the process that the state and an experiences and a standards the state of the station of\n"
          ]
        },
        {
          "output_type": "stream",
          "name": "stderr",
          "text": [
            " 81%|████████▏ | 40734/50000 [06:33<01:23, 111.24it/s]"
          ]
        },
        {
          "output_type": "stream",
          "name": "stdout",
          "text": [
            "Loss: 1.3675125360488891\n"
          ]
        },
        {
          "output_type": "stream",
          "name": "stderr",
          "text": [
            "\n",
            "  0%|          | 0/200 [00:00<?, ?it/s]\u001b[A\n",
            "100%|██████████| 200/200 [00:00<00:00, 1417.80it/s]\n",
            " 82%|████████▏ | 40750/50000 [06:33<01:42, 90.38it/s] "
          ]
        },
        {
          "output_type": "stream",
          "name": "stdout",
          "text": [
            " in the person is a control of the computer state of the company in the United States of the Cape Verde constitutional significant services and the seats of the state and the translated the transmissio\n"
          ]
        },
        {
          "output_type": "stream",
          "name": "stderr",
          "text": [
            " 82%|████████▏ | 40799/50000 [06:34<01:12, 126.75it/s]"
          ]
        },
        {
          "output_type": "stream",
          "name": "stdout",
          "text": [
            "Loss: 1.3676258730888367\n"
          ]
        },
        {
          "output_type": "stream",
          "name": "stderr",
          "text": [
            "\n",
            "  0%|          | 0/200 [00:00<?, ?it/s]\u001b[A\n",
            "100%|██████████| 200/200 [00:00<00:00, 1328.02it/s]\n"
          ]
        },
        {
          "output_type": "stream",
          "name": "stdout",
          "text": [
            " per for the process of the United States and the same the production of the seats of the standards and international state and the production of the community control to security to the country and th\n"
          ]
        },
        {
          "output_type": "stream",
          "name": "stderr",
          "text": [
            " 82%|████████▏ | 40845/50000 [06:34<01:17, 117.37it/s]"
          ]
        },
        {
          "output_type": "stream",
          "name": "stdout",
          "text": [
            "Loss: 1.3628559398651123\n"
          ]
        },
        {
          "output_type": "stream",
          "name": "stderr",
          "text": [
            "\n",
            "  0%|          | 0/200 [00:00<?, ?it/s]\u001b[A\n",
            "100%|██████████| 200/200 [00:00<00:00, 1365.11it/s]\n"
          ]
        },
        {
          "output_type": "stream",
          "name": "stdout",
          "text": [
            " the proposed to the products and population of the provide such as a support the production of the second the state of the American state of the state and a considered the many of the computer speeds \n"
          ]
        },
        {
          "output_type": "stream",
          "name": "stderr",
          "text": [
            " 82%|████████▏ | 40891/50000 [06:34<01:18, 115.34it/s]"
          ]
        },
        {
          "output_type": "stream",
          "name": "stdout",
          "text": [
            "Loss: 1.3722074127197266\n"
          ]
        },
        {
          "output_type": "stream",
          "name": "stderr",
          "text": [
            "\n",
            "  0%|          | 0/200 [00:00<?, ?it/s]\u001b[A\n",
            "100%|██████████| 200/200 [00:00<00:00, 1379.57it/s]\n",
            " 82%|████████▏ | 40905/50000 [06:35<01:41, 89.28it/s] "
          ]
        },
        {
          "output_type": "stream",
          "name": "stdout",
          "text": [
            " and the state and the service and an international state and companies are also be the construction of the traditional continued to the term and the country of the first set of the services and the su\n"
          ]
        },
        {
          "output_type": "stream",
          "name": "stderr",
          "text": [
            " 82%|████████▏ | 40937/50000 [06:35<01:18, 115.54it/s]"
          ]
        },
        {
          "output_type": "stream",
          "name": "stdout",
          "text": [
            "Loss: 1.3666812252998353\n"
          ]
        },
        {
          "output_type": "stream",
          "name": "stderr",
          "text": [
            "\n",
            "  0%|          | 0/200 [00:00<?, ?it/s]\u001b[A\n",
            "100%|██████████| 200/200 [00:00<00:00, 1376.70it/s]\n",
            " 82%|████████▏ | 40951/50000 [06:35<01:41, 88.75it/s] "
          ]
        },
        {
          "output_type": "stream",
          "name": "stdout",
          "text": [
            " and a state of the process in the early 2000 and 200 kmh 120 mph. The community is a service and the new country of the southern services of the term to a discovery of the process recognized a state o\n"
          ]
        },
        {
          "output_type": "stream",
          "name": "stderr",
          "text": [
            " 82%|████████▏ | 40999/50000 [06:35<01:11, 125.48it/s]"
          ]
        },
        {
          "output_type": "stream",
          "name": "stdout",
          "text": [
            "Loss: 1.366746599674225\n"
          ]
        },
        {
          "output_type": "stream",
          "name": "stderr",
          "text": [
            "\n",
            "  0%|          | 0/200 [00:00<?, ?it/s]\u001b[A\n",
            "100%|██████████| 200/200 [00:00<00:00, 1315.50it/s]\n"
          ]
        },
        {
          "output_type": "stream",
          "name": "stdout",
          "text": [
            " and the south and mathematics of the United States of the African American Caribbean Companies and the State Railways and Delhi Philosophy of Commission and an and the Cape Verde and the community con\n"
          ]
        },
        {
          "output_type": "stream",
          "name": "stderr",
          "text": [
            " 82%|████████▏ | 41046/50000 [06:36<01:15, 119.02it/s]"
          ]
        },
        {
          "output_type": "stream",
          "name": "stdout",
          "text": [
            "Loss: 1.3662370014190675\n"
          ]
        },
        {
          "output_type": "stream",
          "name": "stderr",
          "text": [
            "\n",
            "  0%|          | 0/200 [00:00<?, ?it/s]\u001b[A\n",
            "100%|██████████| 200/200 [00:00<00:00, 1116.54it/s]"
          ]
        },
        {
          "output_type": "stream",
          "name": "stdout",
          "text": [
            " and the area of the second the state of the state and the design of the construction of the professional and attempting research of the computing area of the same has a second of the state in the Unit\n"
          ]
        },
        {
          "output_type": "stream",
          "name": "stderr",
          "text": [
            "\n",
            " 82%|████████▏ | 41092/50000 [06:36<01:18, 113.03it/s]"
          ]
        },
        {
          "output_type": "stream",
          "name": "stdout",
          "text": [
            "Loss: 1.3695643949508667\n"
          ]
        },
        {
          "output_type": "stream",
          "name": "stderr",
          "text": [
            "\n",
            "  0%|          | 0/200 [00:00<?, ?it/s]\u001b[A\n",
            "100%|██████████| 200/200 [00:00<00:00, 1356.32it/s]\n",
            " 82%|████████▏ | 41106/50000 [06:37<01:40, 88.63it/s] "
          ]
        },
        {
          "output_type": "stream",
          "name": "stdout",
          "text": [
            " and the result of the state of the particularly and in the state of the standard in the 1990s in the United States of the second entered in the 1970s of the services and considered the standard in the\n"
          ]
        },
        {
          "output_type": "stream",
          "name": "stderr",
          "text": [
            " 82%|████████▏ | 41138/50000 [06:37<01:17, 115.03it/s]"
          ]
        },
        {
          "output_type": "stream",
          "name": "stdout",
          "text": [
            "Loss: 1.3785218739509582\n"
          ]
        },
        {
          "output_type": "stream",
          "name": "stderr",
          "text": [
            "\n",
            "  0%|          | 0/200 [00:00<?, ?it/s]\u001b[A\n",
            "100%|██████████| 200/200 [00:00<00:00, 1273.50it/s]\n",
            " 82%|████████▏ | 41152/50000 [06:37<01:40, 87.64it/s] "
          ]
        },
        {
          "output_type": "stream",
          "name": "stdout",
          "text": [
            " cells and a features of the first with the trains to the United States of Commons and the set of the control of an existing or process of the proposed to the process of the products and the control of\n"
          ]
        },
        {
          "output_type": "stream",
          "name": "stderr",
          "text": [
            " 82%|████████▏ | 41184/50000 [06:37<01:17, 113.59it/s]"
          ]
        },
        {
          "output_type": "stream",
          "name": "stdout",
          "text": [
            "Loss: 1.3608950614929198\n"
          ]
        },
        {
          "output_type": "stream",
          "name": "stderr",
          "text": [
            "\n",
            "  0%|          | 0/200 [00:00<?, ?it/s]\u001b[A\n",
            "100%|██████████| 200/200 [00:00<00:00, 1332.03it/s]\n",
            " 82%|████████▏ | 41200/50000 [06:38<01:37, 90.43it/s] "
          ]
        },
        {
          "output_type": "stream",
          "name": "stdout",
          "text": [
            " and original called the construction of the trains and the state and many of the result of the company of the control to a state of the company and a promoted the ancient state and sites are considere\n"
          ]
        },
        {
          "output_type": "stream",
          "name": "stderr",
          "text": [
            " 82%|████████▏ | 41248/50000 [06:38<01:09, 125.54it/s]"
          ]
        },
        {
          "output_type": "stream",
          "name": "stdout",
          "text": [
            "Loss: 1.3684287881851196\n"
          ]
        },
        {
          "output_type": "stream",
          "name": "stderr",
          "text": [
            "\n",
            "  0%|          | 0/200 [00:00<?, ?it/s]\u001b[A\n",
            "100%|██████████| 200/200 [00:00<00:00, 1278.57it/s]\n"
          ]
        },
        {
          "output_type": "stream",
          "name": "stdout",
          "text": [
            " and all action of the most concept of the computer production in the standard was a similar to the content of the argued the same of the Parliament of the Lords of Cape Verdean and the common in the U\n"
          ]
        },
        {
          "output_type": "stream",
          "name": "stderr",
          "text": [
            " 83%|████████▎ | 41295/50000 [06:38<01:14, 116.87it/s]"
          ]
        },
        {
          "output_type": "stream",
          "name": "stdout",
          "text": [
            "Loss: 1.3654500198364259\n"
          ]
        },
        {
          "output_type": "stream",
          "name": "stderr",
          "text": [
            "\n",
            "  0%|          | 0/200 [00:00<?, ?it/s]\u001b[A\n",
            "100%|██████████| 200/200 [00:00<00:00, 1053.67it/s]"
          ]
        },
        {
          "output_type": "stream",
          "name": "stdout",
          "text": [
            " and the company and the first results and in the state of the second areas and construction of the profiles and the process of the state of the students and the computer service to the archipelago and\n"
          ]
        },
        {
          "output_type": "stream",
          "name": "stderr",
          "text": [
            "\n",
            " 83%|████████▎ | 41336/50000 [06:39<01:24, 102.09it/s]"
          ]
        },
        {
          "output_type": "stream",
          "name": "stdout",
          "text": [
            "Loss: 1.3579579615592956\n"
          ]
        },
        {
          "output_type": "stream",
          "name": "stderr",
          "text": [
            "\n",
            "  0%|          | 0/200 [00:00<?, ?it/s]\u001b[A\n",
            "100%|██████████| 200/200 [00:00<00:00, 1083.29it/s]\n",
            " 83%|████████▎ | 41350/50000 [06:39<01:52, 76.94it/s] "
          ]
        },
        {
          "output_type": "stream",
          "name": "stdout",
          "text": [
            " and the state of the completed the state and control of the community and social networking and production of the state of the common and leaders and experience of production of the most additional re\n"
          ]
        },
        {
          "output_type": "stream",
          "name": "stderr",
          "text": [
            " 83%|████████▎ | 41394/50000 [06:39<01:17, 111.37it/s]"
          ]
        },
        {
          "output_type": "stream",
          "name": "stdout",
          "text": [
            "Loss: 1.3587792706489563\n"
          ]
        },
        {
          "output_type": "stream",
          "name": "stderr",
          "text": [
            "\n",
            "  0%|          | 0/200 [00:00<?, ?it/s]\u001b[A\n",
            "100%|██████████| 200/200 [00:00<00:00, 1144.92it/s]"
          ]
        },
        {
          "output_type": "stream",
          "name": "stdout",
          "text": [
            " and in the continued to the control of the result to the constitutional company and the state and the standard of the state and religion and only a section of the company and in the state of the resul\n"
          ]
        },
        {
          "output_type": "stream",
          "name": "stderr",
          "text": [
            "\n",
            " 83%|████████▎ | 41449/50000 [06:40<01:19, 107.68it/s]"
          ]
        },
        {
          "output_type": "stream",
          "name": "stdout",
          "text": [
            "Loss: 1.3771210098266602\n"
          ]
        },
        {
          "output_type": "stream",
          "name": "stderr",
          "text": [
            "\n",
            "  0%|          | 0/200 [00:00<?, ?it/s]\u001b[A\n",
            "100%|██████████| 200/200 [00:00<00:00, 1226.72it/s]\n"
          ]
        },
        {
          "output_type": "stream",
          "name": "stdout",
          "text": [
            " the state of the first members in the United States that the state of the International Service state and in the state and set of the transportation in the United States that the state and the many of\n"
          ]
        },
        {
          "output_type": "stream",
          "name": "stderr",
          "text": [
            " 83%|████████▎ | 41491/50000 [06:40<01:22, 102.68it/s]"
          ]
        },
        {
          "output_type": "stream",
          "name": "stdout",
          "text": [
            "Loss: 1.3716738533973694\n"
          ]
        },
        {
          "output_type": "stream",
          "name": "stderr",
          "text": [
            "\n",
            "  0%|          | 0/200 [00:00<?, ?it/s]\u001b[A\n",
            "100%|██████████| 200/200 [00:00<00:00, 1073.97it/s]"
          ]
        },
        {
          "output_type": "stream",
          "name": "stdout",
          "text": [
            " to the community of the state and a provided a proposed to the majority of the standard and was the decision and the provide the seats of the result of the carried a new and the services are a propose\n"
          ]
        },
        {
          "output_type": "stream",
          "name": "stderr",
          "text": [
            "\n",
            " 83%|████████▎ | 41546/50000 [06:41<01:20, 105.36it/s]"
          ]
        },
        {
          "output_type": "stream",
          "name": "stdout",
          "text": [
            "Loss: 1.3779344820976258\n"
          ]
        },
        {
          "output_type": "stream",
          "name": "stderr",
          "text": [
            "\n",
            "  0%|          | 0/200 [00:00<?, ?it/s]\u001b[A\n",
            "100%|██████████| 200/200 [00:00<00:00, 1021.87it/s]\n",
            " 83%|████████▎ | 41574/50000 [06:42<01:35, 88.50it/s]"
          ]
        },
        {
          "output_type": "stream",
          "name": "stdout",
          "text": [
            " and by the state of the state for the commercial records and the case of the company and in the southern the state and the computer systems of the transportation and the active design at the process o\n"
          ]
        },
        {
          "output_type": "stream",
          "name": "stderr",
          "text": [
            "\r 83%|████████▎ | 41588/50000 [06:42<01:24, 99.36it/s]"
          ]
        },
        {
          "output_type": "stream",
          "name": "stdout",
          "text": [
            "Loss: 1.3611613750457763\n"
          ]
        },
        {
          "output_type": "stream",
          "name": "stderr",
          "text": [
            "\n",
            "  0%|          | 0/200 [00:00<?, ?it/s]\u001b[A\n",
            "100%|██████████| 200/200 [00:00<00:00, 1079.74it/s]\n",
            " 83%|████████▎ | 41600/50000 [06:42<01:54, 73.46it/s]"
          ]
        },
        {
          "output_type": "stream",
          "name": "stdout",
          "text": [
            " in a state of the product in the United States that the result to the Commons of the national and the construction of the produced the computer trains of the archipelago and services were research and\n"
          ]
        },
        {
          "output_type": "stream",
          "name": "stderr",
          "text": [
            " 83%|████████▎ | 41643/50000 [06:42<01:17, 108.10it/s]"
          ]
        },
        {
          "output_type": "stream",
          "name": "stdout",
          "text": [
            "Loss: 1.374110927581787\n"
          ]
        },
        {
          "output_type": "stream",
          "name": "stderr",
          "text": [
            "\n",
            "  0%|          | 0/200 [00:00<?, ?it/s]\u001b[A\n",
            "100%|██████████| 200/200 [00:00<00:00, 1267.13it/s]"
          ]
        },
        {
          "output_type": "stream",
          "name": "stdout",
          "text": [
            " allow of the article and the production of the German and South American American and the Cape Verde and the result of the result of the Commission and the China International National Association and\n"
          ]
        },
        {
          "output_type": "stream",
          "name": "stderr",
          "text": [
            "\n",
            " 83%|████████▎ | 41688/50000 [06:43<01:14, 111.02it/s]"
          ]
        },
        {
          "output_type": "stream",
          "name": "stdout",
          "text": [
            "Loss: 1.3543392610549927\n"
          ]
        },
        {
          "output_type": "stream",
          "name": "stderr",
          "text": [
            "\n",
            "  0%|          | 0/200 [00:00<?, ?it/s]\u001b[A\n",
            "100%|██████████| 200/200 [00:00<00:00, 1251.94it/s]\n",
            " 83%|████████▎ | 41701/50000 [06:43<01:38, 84.32it/s] "
          ]
        },
        {
          "output_type": "stream",
          "name": "stdout",
          "text": [
            " in the United States of the Cape Verde that the development of the number of distinction of the company of the House of Asian American and the Cape Verde is the second and only the control of the Secu\n"
          ]
        },
        {
          "output_type": "stream",
          "name": "stderr",
          "text": [
            " 83%|████████▎ | 41749/50000 [06:43<01:07, 122.80it/s]"
          ]
        },
        {
          "output_type": "stream",
          "name": "stdout",
          "text": [
            "Loss: 1.365438494682312\n"
          ]
        },
        {
          "output_type": "stream",
          "name": "stderr",
          "text": [
            "\n",
            "  0%|          | 0/200 [00:00<?, ?it/s]\u001b[A\n",
            "100%|██████████| 200/200 [00:00<00:00, 1210.58it/s]\n"
          ]
        },
        {
          "output_type": "stream",
          "name": "stdout",
          "text": [
            " and a model such as the term in the argued the state of the state and secondary and the state of the computer than the intersection of the country of the participating the home of the states of the co\n"
          ]
        },
        {
          "output_type": "stream",
          "name": "stderr",
          "text": [
            " 84%|████████▎ | 41795/50000 [06:44<01:11, 115.02it/s]"
          ]
        },
        {
          "output_type": "stream",
          "name": "stdout",
          "text": [
            "Loss: 1.3603987884521485\n"
          ]
        },
        {
          "output_type": "stream",
          "name": "stderr",
          "text": [
            "\n",
            "  0%|          | 0/200 [00:00<?, ?it/s]\u001b[A\n",
            "100%|██████████| 200/200 [00:00<00:00, 1347.01it/s]\n"
          ]
        },
        {
          "output_type": "stream",
          "name": "stdout",
          "text": [
            " and the advanced the southern plane to the result of experience of control of a standards that is a social networking since the southern the result to the service of the relationships of the relations\n"
          ]
        },
        {
          "output_type": "stream",
          "name": "stderr",
          "text": [
            " 84%|████████▎ | 41841/50000 [06:44<01:10, 114.99it/s]"
          ]
        },
        {
          "output_type": "stream",
          "name": "stdout",
          "text": [
            "Loss: 1.377608256340027\n"
          ]
        },
        {
          "output_type": "stream",
          "name": "stderr",
          "text": [
            "\n",
            "  0%|          | 0/200 [00:00<?, ?it/s]\u001b[A\n",
            "100%|██████████| 200/200 [00:00<00:00, 1348.80it/s]\n",
            " 84%|████████▎ | 41855/50000 [06:44<01:31, 88.96it/s] "
          ]
        },
        {
          "output_type": "stream",
          "name": "stdout",
          "text": [
            " in the state of the services and computer feature of the international state and service set of process and conducted by a political companies and the controlled to the original model to the result of\n"
          ]
        },
        {
          "output_type": "stream",
          "name": "stderr",
          "text": [
            " 84%|████████▍ | 41887/50000 [06:45<01:10, 114.74it/s]"
          ]
        },
        {
          "output_type": "stream",
          "name": "stdout",
          "text": [
            "Loss: 1.366605896949768\n"
          ]
        },
        {
          "output_type": "stream",
          "name": "stderr",
          "text": [
            "\n",
            "  0%|          | 0/200 [00:00<?, ?it/s]\u001b[A\n",
            "100%|██████████| 200/200 [00:00<00:00, 1301.75it/s]\n",
            " 84%|████████▍ | 41901/50000 [06:45<01:31, 88.43it/s] "
          ]
        },
        {
          "output_type": "stream",
          "name": "stdout",
          "text": [
            " and international form in the United States and the proposed to settlement of the ancestry of the protection of the state of the control of the standard of the same cases and proposed to the construct\n"
          ]
        },
        {
          "output_type": "stream",
          "name": "stderr",
          "text": [
            " 84%|████████▍ | 41933/50000 [06:45<01:10, 114.34it/s]"
          ]
        },
        {
          "output_type": "stream",
          "name": "stdout",
          "text": [
            "Loss: 1.3608481407165527\n"
          ]
        },
        {
          "output_type": "stream",
          "name": "stderr",
          "text": [
            "\n",
            "  0%|          | 0/200 [00:00<?, ?it/s]\u001b[A\n",
            "100%|██████████| 200/200 [00:00<00:00, 1334.89it/s]\n",
            " 84%|████████▍ | 41950/50000 [06:45<01:27, 91.78it/s] "
          ]
        },
        {
          "output_type": "stream",
          "name": "stdout",
          "text": [
            " control of the first of the new other and state of the term and other company and population of the control and the second form of the state and definition of the organizations of the process of the s\n"
          ]
        },
        {
          "output_type": "stream",
          "name": "stderr",
          "text": [
            " 84%|████████▍ | 41998/50000 [06:46<01:03, 125.08it/s]"
          ]
        },
        {
          "output_type": "stream",
          "name": "stdout",
          "text": [
            "Loss: 1.3698489189147949\n"
          ]
        },
        {
          "output_type": "stream",
          "name": "stderr",
          "text": [
            "\n",
            "  0%|          | 0/200 [00:00<?, ?it/s]\u001b[A\n",
            "100%|██████████| 200/200 [00:00<00:00, 1257.17it/s]\n"
          ]
        },
        {
          "output_type": "stream",
          "name": "stdout",
          "text": [
            " and services in the set of the American and the religious to a services and the provided to the end of the state of the state of the production of the second of the management to the Northern Corporat\n"
          ]
        },
        {
          "output_type": "stream",
          "name": "stderr",
          "text": [
            " 84%|████████▍ | 42044/50000 [06:46<01:08, 115.56it/s]"
          ]
        },
        {
          "output_type": "stream",
          "name": "stdout",
          "text": [
            "Loss: 1.3681262469291686\n"
          ]
        },
        {
          "output_type": "stream",
          "name": "stderr",
          "text": [
            "\n",
            "  0%|          | 0/200 [00:00<?, ?it/s]\u001b[A\n",
            "100%|██████████| 200/200 [00:00<00:00, 1253.30it/s]"
          ]
        },
        {
          "output_type": "stream",
          "name": "stdout",
          "text": [
            " and the contract to the first of the area of the archipelago and the state of the Cape Verde to the analysis of the state of the standard to the result to research and construction of the committee of\n"
          ]
        },
        {
          "output_type": "stream",
          "name": "stderr",
          "text": [
            "\n",
            " 84%|████████▍ | 42090/50000 [06:47<01:10, 112.78it/s]"
          ]
        },
        {
          "output_type": "stream",
          "name": "stdout",
          "text": [
            "Loss: 1.3678125095367433\n"
          ]
        },
        {
          "output_type": "stream",
          "name": "stderr",
          "text": [
            "\n",
            "  0%|          | 0/200 [00:00<?, ?it/s]\u001b[A\n",
            "100%|██████████| 200/200 [00:00<00:00, 1360.03it/s]\n",
            " 84%|████████▍ | 42104/50000 [06:47<01:29, 88.72it/s] "
          ]
        },
        {
          "output_type": "stream",
          "name": "stdout",
          "text": [
            " to the United States and the music of the standard of the state of the first the second station of the late 1990s the problems to the state of the standard of the company of the United States of the U\n"
          ]
        },
        {
          "output_type": "stream",
          "name": "stderr",
          "text": [
            " 84%|████████▍ | 42136/50000 [06:47<01:09, 113.64it/s]"
          ]
        },
        {
          "output_type": "stream",
          "name": "stdout",
          "text": [
            "Loss: 1.3667710781097413\n"
          ]
        },
        {
          "output_type": "stream",
          "name": "stderr",
          "text": [
            "\n",
            "  0%|          | 0/200 [00:00<?, ?it/s]\u001b[A\n",
            "100%|██████████| 200/200 [00:00<00:00, 1343.85it/s]\n",
            " 84%|████████▍ | 42150/50000 [06:47<01:28, 89.00it/s] "
          ]
        },
        {
          "output_type": "stream",
          "name": "stdout",
          "text": [
            " and production of the standard in the community of the company and the signal of the company of the train in the United States and the processes of the sites of the state of the state of the produce t\n"
          ]
        },
        {
          "output_type": "stream",
          "name": "stderr",
          "text": [
            " 84%|████████▍ | 42198/50000 [06:48<01:02, 124.52it/s]"
          ]
        },
        {
          "output_type": "stream",
          "name": "stdout",
          "text": [
            "Loss: 1.3731574988365174\n"
          ]
        },
        {
          "output_type": "stream",
          "name": "stderr",
          "text": [
            "\n",
            "  0%|          | 0/200 [00:00<?, ?it/s]\u001b[A\n",
            "100%|██████████| 200/200 [00:00<00:00, 1357.10it/s]\n"
          ]
        },
        {
          "output_type": "stream",
          "name": "stdout",
          "text": [
            " and the southern product of the company of the common and research to production of the studies and a services on the population of the company and the most services are the construction of the studie\n"
          ]
        },
        {
          "output_type": "stream",
          "name": "stderr",
          "text": [
            " 84%|████████▍ | 42244/50000 [06:48<01:05, 118.06it/s]"
          ]
        },
        {
          "output_type": "stream",
          "name": "stdout",
          "text": [
            "Loss: 1.3816739511489868\n"
          ]
        },
        {
          "output_type": "stream",
          "name": "stderr",
          "text": [
            "\n",
            "  0%|          | 0/200 [00:00<?, ?it/s]\u001b[A\n",
            "100%|██████████| 200/200 [00:00<00:00, 1339.07it/s]\n"
          ]
        },
        {
          "output_type": "stream",
          "name": "stdout",
          "text": [
            " the project of the language and the program and factors of the United States and the provided to the new state of the process of the total particularly and subsequent and said the first many of the ar\n"
          ]
        },
        {
          "output_type": "stream",
          "name": "stderr",
          "text": [
            " 85%|████████▍ | 42290/50000 [06:48<01:06, 116.22it/s]"
          ]
        },
        {
          "output_type": "stream",
          "name": "stdout",
          "text": [
            "Loss: 1.3728331542015075\n"
          ]
        },
        {
          "output_type": "stream",
          "name": "stderr",
          "text": [
            "\n",
            "  0%|          | 0/200 [00:00<?, ?it/s]\u001b[A\n",
            "100%|██████████| 200/200 [00:00<00:00, 1274.90it/s]\n",
            " 85%|████████▍ | 42304/50000 [06:49<01:27, 88.13it/s] "
          ]
        },
        {
          "output_type": "stream",
          "name": "stdout",
          "text": [
            " and the products and intersection of the trains in the seat the proposed in the amount of the train production of set that the constitutional numbers are also a relations and head of the standard and \n"
          ]
        },
        {
          "output_type": "stream",
          "name": "stderr",
          "text": [
            " 85%|████████▍ | 42336/50000 [06:49<01:07, 113.88it/s]"
          ]
        },
        {
          "output_type": "stream",
          "name": "stdout",
          "text": [
            "Loss: 1.3760006141662597\n"
          ]
        },
        {
          "output_type": "stream",
          "name": "stderr",
          "text": [
            "\n",
            "  0%|          | 0/200 [00:00<?, ?it/s]\u001b[A\n",
            "100%|██████████| 200/200 [00:00<00:00, 1372.73it/s]\n",
            " 85%|████████▍ | 42350/50000 [06:49<01:25, 89.44it/s] "
          ]
        },
        {
          "output_type": "stream",
          "name": "stdout",
          "text": [
            " the company to the company state and section of the production of the transportation for the company of the area to the results and international media to the state and the first models of the area to\n"
          ]
        },
        {
          "output_type": "stream",
          "name": "stderr",
          "text": [
            " 85%|████████▍ | 42399/50000 [06:50<00:59, 126.79it/s]"
          ]
        },
        {
          "output_type": "stream",
          "name": "stdout",
          "text": [
            "Loss: 1.3671663618087768\n"
          ]
        },
        {
          "output_type": "stream",
          "name": "stderr",
          "text": [
            "\n",
            "  0%|          | 0/200 [00:00<?, ?it/s]\u001b[A\n",
            "100%|██████████| 200/200 [00:00<00:00, 1157.99it/s]\n"
          ]
        },
        {
          "output_type": "stream",
          "name": "stdout",
          "text": [
            " and the trains and the control of the state of the China Railway State of Commons of the American and the company in the United States, and the country and a series and a set of the article and state \n"
          ]
        },
        {
          "output_type": "stream",
          "name": "stderr",
          "text": [
            " 85%|████████▍ | 42446/50000 [06:50<01:05, 115.44it/s]"
          ]
        },
        {
          "output_type": "stream",
          "name": "stdout",
          "text": [
            "Loss: 1.3496311140060424\n"
          ]
        },
        {
          "output_type": "stream",
          "name": "stderr",
          "text": [
            "\n",
            "  0%|          | 0/200 [00:00<?, ?it/s]\u001b[A\n",
            "100%|██████████| 200/200 [00:00<00:00, 1381.15it/s]\n"
          ]
        },
        {
          "output_type": "stream",
          "name": "stdout",
          "text": [
            " and controlled in the positive of the state and include the state of the process of the same are the country in the United States of the Cape Verde of the Facebook and the first control of a based on \n"
          ]
        },
        {
          "output_type": "stream",
          "name": "stderr",
          "text": [
            " 85%|████████▍ | 42492/50000 [06:50<01:04, 115.84it/s]"
          ]
        },
        {
          "output_type": "stream",
          "name": "stdout",
          "text": [
            "Loss: 1.372141602039337\n"
          ]
        },
        {
          "output_type": "stream",
          "name": "stderr",
          "text": [
            "\n",
            "  0%|          | 0/200 [00:00<?, ?it/s]\u001b[A\n",
            "100%|██████████| 200/200 [00:00<00:00, 1259.65it/s]"
          ]
        },
        {
          "output_type": "stream",
          "name": "stdout",
          "text": [
            " and in the distribution of the term in the southern form of the teachings of the proposed to the passenger services and computer communications and process research and the home of the state of the fi\n"
          ]
        },
        {
          "output_type": "stream",
          "name": "stderr",
          "text": [
            "\n",
            " 85%|████████▌ | 42538/50000 [06:51<01:05, 113.20it/s]"
          ]
        },
        {
          "output_type": "stream",
          "name": "stdout",
          "text": [
            "Loss: 1.3727011561393738\n"
          ]
        },
        {
          "output_type": "stream",
          "name": "stderr",
          "text": [
            "\n",
            "  0%|          | 0/200 [00:00<?, ?it/s]\u001b[A\n",
            "100%|██████████| 200/200 [00:00<00:00, 1331.62it/s]\n",
            " 85%|████████▌ | 42552/50000 [06:51<01:25, 87.46it/s] "
          ]
        },
        {
          "output_type": "stream",
          "name": "stdout",
          "text": [
            " in a communities and the station of the state and services of possible the state of the control to the exponent and the first the state and controlled the seat in the Victorian population of the compa\n"
          ]
        },
        {
          "output_type": "stream",
          "name": "stderr",
          "text": [
            " 85%|████████▌ | 42599/50000 [06:51<01:00, 123.21it/s]"
          ]
        },
        {
          "output_type": "stream",
          "name": "stdout",
          "text": [
            "Loss: 1.3680024313926697\n"
          ]
        },
        {
          "output_type": "stream",
          "name": "stderr",
          "text": [
            "\n",
            "  0%|          | 0/200 [00:00<?, ?it/s]\u001b[A\n",
            "100%|██████████| 200/200 [00:00<00:00, 1271.69it/s]\n"
          ]
        },
        {
          "output_type": "stream",
          "name": "stdout",
          "text": [
            " and the community of the United States, and the process of the computer state of the commercial control of the standards in the computer and the source of the services in the southern the set of the p\n"
          ]
        },
        {
          "output_type": "stream",
          "name": "stderr",
          "text": [
            " 85%|████████▌ | 42644/50000 [06:52<01:05, 113.11it/s]"
          ]
        },
        {
          "output_type": "stream",
          "name": "stdout",
          "text": [
            "Loss: 1.3576789450645448\n"
          ]
        },
        {
          "output_type": "stream",
          "name": "stderr",
          "text": [
            "\n",
            "  0%|          | 0/200 [00:00<?, ?it/s]\u001b[A\n",
            "100%|██████████| 200/200 [00:00<00:00, 1025.16it/s]\n",
            " 85%|████████▌ | 42673/50000 [06:52<01:18, 93.17it/s]"
          ]
        },
        {
          "output_type": "stream",
          "name": "stdout",
          "text": [
            " and the development of the controllers of the provided to the area of the community was a state that the relationships to experience in the United States and the company and the result of the first th\n"
          ]
        },
        {
          "output_type": "stream",
          "name": "stderr",
          "text": [
            "\r 85%|████████▌ | 42688/50000 [06:52<01:09, 105.03it/s]"
          ]
        },
        {
          "output_type": "stream",
          "name": "stdout",
          "text": [
            "Loss: 1.3733090376853943\n"
          ]
        },
        {
          "output_type": "stream",
          "name": "stderr",
          "text": [
            "\n",
            "  0%|          | 0/200 [00:00<?, ?it/s]\u001b[A\n",
            "100%|██████████| 200/200 [00:00<00:00, 1372.34it/s]\n",
            " 85%|████████▌ | 42701/50000 [06:53<01:27, 83.44it/s] "
          ]
        },
        {
          "output_type": "stream",
          "name": "stdout",
          "text": [
            " the American control of the control of the community of the same of the population and services of the company to the state in the continued with the computer later for the result of the first constru\n"
          ]
        },
        {
          "output_type": "stream",
          "name": "stderr",
          "text": [
            " 85%|████████▌ | 42744/50000 [06:53<01:07, 107.42it/s]"
          ]
        },
        {
          "output_type": "stream",
          "name": "stdout",
          "text": [
            "Loss: 1.3688333964347839\n"
          ]
        },
        {
          "output_type": "stream",
          "name": "stderr",
          "text": [
            "\n",
            "  0%|          | 0/200 [00:00<?, ?it/s]\u001b[A\n",
            "100%|██████████| 200/200 [00:00<00:00, 1105.83it/s]"
          ]
        },
        {
          "output_type": "stream",
          "name": "stdout",
          "text": [
            " and the product of the state of the first operations are an international common form considered the second subsequently the proposed that the second companies and the state and the computer and the s\n"
          ]
        },
        {
          "output_type": "stream",
          "name": "stderr",
          "text": [
            "\n",
            " 86%|████████▌ | 42798/50000 [06:54<01:08, 104.65it/s]"
          ]
        },
        {
          "output_type": "stream",
          "name": "stdout",
          "text": [
            "Loss: 1.3670895743370055\n"
          ]
        },
        {
          "output_type": "stream",
          "name": "stderr",
          "text": [
            "\n",
            "  0%|          | 0/200 [00:00<?, ?it/s]\u001b[A\n",
            " 44%|████▎     | 87/200 [00:00<00:00, 867.24it/s]\u001b[A\n",
            "100%|██████████| 200/200 [00:00<00:00, 883.62it/s]\n",
            " 86%|████████▌ | 42822/50000 [06:54<01:32, 77.56it/s]"
          ]
        },
        {
          "output_type": "stream",
          "name": "stdout",
          "text": [
            " in the the state of the the provided in the United States of the population of the Cape Verde is the state of the company and the proposed and state of the Regional Association of South Handon and Com\n"
          ]
        },
        {
          "output_type": "stream",
          "name": "stderr",
          "text": [
            "\r 86%|████████▌ | 42836/50000 [06:54<01:19, 89.62it/s]"
          ]
        },
        {
          "output_type": "stream",
          "name": "stdout",
          "text": [
            "Loss: 1.364522202014923\n"
          ]
        },
        {
          "output_type": "stream",
          "name": "stderr",
          "text": [
            "\n",
            "  0%|          | 0/200 [00:00<?, ?it/s]\u001b[A\n",
            "100%|██████████| 200/200 [00:00<00:00, 1055.52it/s]\n",
            " 86%|████████▌ | 42850/50000 [06:54<01:42, 69.48it/s]"
          ]
        },
        {
          "output_type": "stream",
          "name": "stdout",
          "text": [
            " and the state of the significant specific state of the United States. An an established the state and the company and content that in the process of the professional in the 19th century was a problems\n"
          ]
        },
        {
          "output_type": "stream",
          "name": "stderr",
          "text": [
            " 86%|████████▌ | 42893/50000 [06:55<01:08, 103.48it/s]"
          ]
        },
        {
          "output_type": "stream",
          "name": "stdout",
          "text": [
            "Loss: 1.3745455145835876\n"
          ]
        },
        {
          "output_type": "stream",
          "name": "stderr",
          "text": [
            "\n",
            "  0%|          | 0/200 [00:00<?, ?it/s]\u001b[A\n",
            "100%|██████████| 200/200 [00:00<00:00, 1009.45it/s]\n",
            " 86%|████████▌ | 42920/50000 [06:55<01:23, 85.27it/s]"
          ]
        },
        {
          "output_type": "stream",
          "name": "stdout",
          "text": [
            " and the computer companies and social networking services of the process of the process and the development of the standard and the second the argued to the state of the professional was the services \n"
          ]
        },
        {
          "output_type": "stream",
          "name": "stderr",
          "text": [
            " 86%|████████▌ | 42948/50000 [06:55<01:06, 105.63it/s]"
          ]
        },
        {
          "output_type": "stream",
          "name": "stdout",
          "text": [
            "Loss: 1.3709511876106262\n"
          ]
        },
        {
          "output_type": "stream",
          "name": "stderr",
          "text": [
            "\n",
            "  0%|          | 0/200 [00:00<?, ?it/s]\u001b[A\n",
            "100%|██████████| 200/200 [00:00<00:00, 1251.26it/s]\n"
          ]
        },
        {
          "output_type": "stream",
          "name": "stdout",
          "text": [
            " international school to the decision of the services and the process of the term of the product and interaction of the first results and the original religious produced the processing services in the \n"
          ]
        },
        {
          "output_type": "stream",
          "name": "stderr",
          "text": [
            " 86%|████████▌ | 42993/50000 [06:56<01:04, 108.82it/s]"
          ]
        },
        {
          "output_type": "stream",
          "name": "stdout",
          "text": [
            "Loss: 1.367720868587494\n"
          ]
        },
        {
          "output_type": "stream",
          "name": "stderr",
          "text": [
            "\n",
            "  0%|          | 0/200 [00:00<?, ?it/s]\u001b[A\n",
            "100%|██████████| 200/200 [00:00<00:00, 1326.17it/s]\n",
            " 86%|████████▌ | 43006/50000 [06:56<01:23, 83.71it/s] "
          ]
        },
        {
          "output_type": "stream",
          "name": "stdout",
          "text": [
            " the design of the substance and service of the specific state and the result of the only the state to the state of the process and responsible on the proposed the the communities and the significant t\n"
          ]
        },
        {
          "output_type": "stream",
          "name": "stderr",
          "text": [
            " 86%|████████▌ | 43038/50000 [06:56<01:02, 111.52it/s]"
          ]
        },
        {
          "output_type": "stream",
          "name": "stdout",
          "text": [
            "Loss: 1.3786567783355712\n"
          ]
        },
        {
          "output_type": "stream",
          "name": "stderr",
          "text": [
            "\n",
            "  0%|          | 0/200 [00:00<?, ?it/s]\u001b[A\n",
            "100%|██████████| 200/200 [00:00<00:00, 1311.24it/s]\n",
            " 86%|████████▌ | 43052/50000 [06:57<01:20, 86.45it/s] "
          ]
        },
        {
          "output_type": "stream",
          "name": "stdout",
          "text": [
            " the significant mathematical process of the state of completed to the provides the state of the first the standards the state the companies and social networking services to service of a computer stat\n"
          ]
        },
        {
          "output_type": "stream",
          "name": "stderr",
          "text": [
            " 86%|████████▌ | 43084/50000 [06:57<01:01, 113.08it/s]"
          ]
        },
        {
          "output_type": "stream",
          "name": "stdout",
          "text": [
            "Loss: 1.3705348753929139\n"
          ]
        },
        {
          "output_type": "stream",
          "name": "stderr",
          "text": [
            "\n",
            "  0%|          | 0/200 [00:00<?, ?it/s]\u001b[A\n",
            "100%|██████████| 200/200 [00:00<00:00, 1171.29it/s]\n",
            " 86%|████████▌ | 43100/50000 [06:57<01:19, 86.70it/s] "
          ]
        },
        {
          "output_type": "stream",
          "name": "stdout",
          "text": [
            " in the common the state of the process of the town of the first service of the state of the the control of the community of the article of the state in the Cape Verdean state of the first the problems\n"
          ]
        },
        {
          "output_type": "stream",
          "name": "stderr",
          "text": [
            " 86%|████████▋ | 43148/50000 [06:57<00:55, 122.64it/s]"
          ]
        },
        {
          "output_type": "stream",
          "name": "stdout",
          "text": [
            "Loss: 1.3745099568367005\n"
          ]
        },
        {
          "output_type": "stream",
          "name": "stderr",
          "text": [
            "\n",
            "  0%|          | 0/200 [00:00<?, ?it/s]\u001b[A\n",
            "100%|██████████| 200/200 [00:00<00:00, 1332.17it/s]\n"
          ]
        },
        {
          "output_type": "stream",
          "name": "stdout",
          "text": [
            " and the line of the real number of the train control of the number of a state of the control of the same and addition to the produced the standard and substantial state of the control of the continued\n"
          ]
        },
        {
          "output_type": "stream",
          "name": "stderr",
          "text": [
            " 86%|████████▋ | 43194/50000 [06:58<00:57, 117.60it/s]"
          ]
        },
        {
          "output_type": "stream",
          "name": "stdout",
          "text": [
            "Loss: 1.3684994626045226\n"
          ]
        },
        {
          "output_type": "stream",
          "name": "stderr",
          "text": [
            "\n",
            "  0%|          | 0/200 [00:00<?, ?it/s]\u001b[A\n",
            "100%|██████████| 200/200 [00:00<00:00, 1166.95it/s]"
          ]
        },
        {
          "output_type": "stream",
          "name": "stdout",
          "text": [
            " and the control of the services and the international state and the construction of the probably services and experience in the majority of the state and the first community is the state of the southe\n"
          ]
        },
        {
          "output_type": "stream",
          "name": "stderr",
          "text": [
            "\n",
            " 86%|████████▋ | 43240/50000 [06:58<01:00, 112.34it/s]"
          ]
        },
        {
          "output_type": "stream",
          "name": "stdout",
          "text": [
            "Loss: 1.3685086369514465\n"
          ]
        },
        {
          "output_type": "stream",
          "name": "stderr",
          "text": [
            "\n",
            "  0%|          | 0/200 [00:00<?, ?it/s]\u001b[A\n",
            "100%|██████████| 200/200 [00:00<00:00, 1324.09it/s]\n",
            " 87%|████████▋ | 43254/50000 [06:59<01:16, 88.07it/s] "
          ]
        },
        {
          "output_type": "stream",
          "name": "stdout",
          "text": [
            " intersection of the process and the decision of continued on the content of the majority of the companies and the entire all the company of the second or a concept of the international result of the t\n"
          ]
        },
        {
          "output_type": "stream",
          "name": "stderr",
          "text": [
            " 87%|████████▋ | 43286/50000 [06:59<00:58, 114.64it/s]"
          ]
        },
        {
          "output_type": "stream",
          "name": "stdout",
          "text": [
            "Loss: 1.367115547657013\n"
          ]
        },
        {
          "output_type": "stream",
          "name": "stderr",
          "text": [
            "\n",
            "  0%|          | 0/200 [00:00<?, ?it/s]\u001b[A\n",
            "100%|██████████| 200/200 [00:00<00:00, 1130.75it/s]\n",
            " 87%|████████▋ | 43300/50000 [06:59<01:18, 85.34it/s] "
          ]
        },
        {
          "output_type": "stream",
          "name": "stdout",
          "text": [
            " and the standard of the largest service of the computer state and the language of the control in the first process and the professional and the standard was a present the construction of the company a\n"
          ]
        },
        {
          "output_type": "stream",
          "name": "stderr",
          "text": [
            " 87%|████████▋ | 43347/50000 [06:59<00:54, 121.83it/s]"
          ]
        },
        {
          "output_type": "stream",
          "name": "stdout",
          "text": [
            "Loss: 1.3629296469688414\n"
          ]
        },
        {
          "output_type": "stream",
          "name": "stderr",
          "text": [
            "\n",
            "  0%|          | 0/200 [00:00<?, ?it/s]\u001b[A\n",
            "100%|██████████| 200/200 [00:00<00:00, 1349.52it/s]\n"
          ]
        },
        {
          "output_type": "stream",
          "name": "stdout",
          "text": [
            " in the United States and the services to a sense of the archipelago is a many of the southern European and Grenada and Cape Verde control of the self is a proposed a seats and security for the exponen\n"
          ]
        },
        {
          "output_type": "stream",
          "name": "stderr",
          "text": [
            " 87%|████████▋ | 43393/50000 [07:00<00:56, 117.57it/s]"
          ]
        },
        {
          "output_type": "stream",
          "name": "stdout",
          "text": [
            "Loss: 1.360093536376953\n"
          ]
        },
        {
          "output_type": "stream",
          "name": "stderr",
          "text": [
            "\n",
            "  0%|          | 0/200 [00:00<?, ?it/s]\u001b[A\n",
            "100%|██████████| 200/200 [00:00<00:00, 1254.82it/s]"
          ]
        },
        {
          "output_type": "stream",
          "name": "stdout",
          "text": [
            " and the state of the service of the same are the provide the state of the concept of the computer state of the train of the produce a participated the second the entire the area of the result to the s\n"
          ]
        },
        {
          "output_type": "stream",
          "name": "stderr",
          "text": [
            "\n",
            " 87%|████████▋ | 43438/50000 [07:00<00:58, 112.54it/s]"
          ]
        },
        {
          "output_type": "stream",
          "name": "stdout",
          "text": [
            "Loss: 1.3608565640449524\n"
          ]
        },
        {
          "output_type": "stream",
          "name": "stderr",
          "text": [
            "\n",
            "  0%|          | 0/200 [00:00<?, ?it/s]\u001b[A\n",
            "100%|██████████| 200/200 [00:00<00:00, 1381.09it/s]\n",
            " 87%|████████▋ | 43452/50000 [07:01<01:14, 88.39it/s] "
          ]
        },
        {
          "output_type": "stream",
          "name": "stdout",
          "text": [
            " and include the control of information of the produced the state of the transportation of the state and an arithmetic is a number of many have been strategic way of the set of a services and the end o\n"
          ]
        },
        {
          "output_type": "stream",
          "name": "stderr",
          "text": [
            " 87%|████████▋ | 43484/50000 [07:01<00:56, 114.34it/s]"
          ]
        },
        {
          "output_type": "stream",
          "name": "stdout",
          "text": [
            "Loss: 1.367847056388855\n"
          ]
        },
        {
          "output_type": "stream",
          "name": "stderr",
          "text": [
            "\n",
            "  0%|          | 0/200 [00:00<?, ?it/s]\u001b[A\n",
            "100%|██████████| 200/200 [00:00<00:00, 1211.64it/s]\n",
            " 87%|████████▋ | 43500/50000 [07:01<01:13, 88.26it/s] "
          ]
        },
        {
          "output_type": "stream",
          "name": "stdout",
          "text": [
            " cells and a protect the contraction of the problems of the production of the service of the same way to the control and considered the state of the state of the state of the problems in 2010, the term\n"
          ]
        },
        {
          "output_type": "stream",
          "name": "stderr",
          "text": [
            " 87%|████████▋ | 43547/50000 [07:01<00:52, 122.68it/s]"
          ]
        },
        {
          "output_type": "stream",
          "name": "stdout",
          "text": [
            "Loss: 1.381341049671173\n"
          ]
        },
        {
          "output_type": "stream",
          "name": "stderr",
          "text": [
            "\n",
            "  0%|          | 0/200 [00:00<?, ?it/s]\u001b[A\n",
            "100%|██████████| 200/200 [00:00<00:00, 1354.93it/s]\n"
          ]
        },
        {
          "output_type": "stream",
          "name": "stdout",
          "text": [
            " and other control of the management of the control of the international and the construction in the United States and services that the operations and the successful of the transport of the Cape Verde\n"
          ]
        },
        {
          "output_type": "stream",
          "name": "stderr",
          "text": [
            " 87%|████████▋ | 43593/50000 [07:02<00:54, 118.13it/s]"
          ]
        },
        {
          "output_type": "stream",
          "name": "stdout",
          "text": [
            "Loss: 1.3856257605552673\n"
          ]
        },
        {
          "output_type": "stream",
          "name": "stderr",
          "text": [
            "\n",
            "  0%|          | 0/200 [00:00<?, ?it/s]\u001b[A\n",
            "100%|██████████| 200/200 [00:00<00:00, 1177.91it/s]"
          ]
        },
        {
          "output_type": "stream",
          "name": "stdout",
          "text": [
            " entread of the states and the provide some of the content in the provided and seat has a control of the state and many has a result of the state and in the majority in the proposed to the proposed the\n"
          ]
        },
        {
          "output_type": "stream",
          "name": "stderr",
          "text": [
            "\n",
            " 87%|████████▋ | 43638/50000 [07:02<00:57, 110.61it/s]"
          ]
        },
        {
          "output_type": "stream",
          "name": "stdout",
          "text": [
            "Loss: 1.3730425810813904\n"
          ]
        },
        {
          "output_type": "stream",
          "name": "stderr",
          "text": [
            "\n",
            "  0%|          | 0/200 [00:00<?, ?it/s]\u001b[A\n",
            "100%|██████████| 200/200 [00:00<00:00, 1330.19it/s]\n",
            " 87%|████████▋ | 43652/50000 [07:02<01:13, 86.71it/s] "
          ]
        },
        {
          "output_type": "stream",
          "name": "stdout",
          "text": [
            " and protection of the second on the ancestry and the result to the constrained the state of the state in the United States of South American American Section and Cape Verde was second study of the new\n"
          ]
        },
        {
          "output_type": "stream",
          "name": "stderr",
          "text": [
            " 87%|████████▋ | 43684/50000 [07:03<00:55, 113.78it/s]"
          ]
        },
        {
          "output_type": "stream",
          "name": "stdout",
          "text": [
            "Loss: 1.3775959038734436\n"
          ]
        },
        {
          "output_type": "stream",
          "name": "stderr",
          "text": [
            "\n",
            "  0%|          | 0/200 [00:00<?, ?it/s]\u001b[A\n",
            "100%|██████████| 200/200 [00:00<00:00, 1125.35it/s]\n",
            " 87%|████████▋ | 43700/50000 [07:03<01:13, 86.04it/s] "
          ]
        },
        {
          "output_type": "stream",
          "name": "stdout",
          "text": [
            " and control for a new sites and second state of the second and the state and the control of the result of the state of the significant provides the company in the contribution and the country and the \n"
          ]
        },
        {
          "output_type": "stream",
          "name": "stderr",
          "text": [
            " 87%|████████▋ | 43746/50000 [07:03<00:52, 119.35it/s]"
          ]
        },
        {
          "output_type": "stream",
          "name": "stdout",
          "text": [
            "Loss: 1.373723578453064\n"
          ]
        },
        {
          "output_type": "stream",
          "name": "stderr",
          "text": [
            "\n",
            "  0%|          | 0/200 [00:00<?, ?it/s]\u001b[A\n",
            "100%|██████████| 200/200 [00:00<00:00, 1350.84it/s]\n"
          ]
        },
        {
          "output_type": "stream",
          "name": "stdout",
          "text": [
            " population of the colonial and an international network the provide an international transport of the base the head of the set of the first Commons and international and state of the companies are a p\n"
          ]
        },
        {
          "output_type": "stream",
          "name": "stderr",
          "text": [
            " 88%|████████▊ | 43792/50000 [07:04<00:53, 116.78it/s]"
          ]
        },
        {
          "output_type": "stream",
          "name": "stdout",
          "text": [
            "Loss: 1.367716257572174\n"
          ]
        },
        {
          "output_type": "stream",
          "name": "stderr",
          "text": [
            "\n",
            "  0%|          | 0/200 [00:00<?, ?it/s]\u001b[A\n",
            "100%|██████████| 200/200 [00:00<00:00, 1288.52it/s]"
          ]
        },
        {
          "output_type": "stream",
          "name": "stdout",
          "text": [
            " and international members of the computer complex members to many of the international controls with the production of the state and the Cape Verde control of a substantial majority of the production \n"
          ]
        },
        {
          "output_type": "stream",
          "name": "stderr",
          "text": [
            "\n",
            " 88%|████████▊ | 43838/50000 [07:04<00:54, 112.61it/s]"
          ]
        },
        {
          "output_type": "stream",
          "name": "stdout",
          "text": [
            "Loss: 1.365691406726837\n"
          ]
        },
        {
          "output_type": "stream",
          "name": "stderr",
          "text": [
            "\n",
            "  0%|          | 0/200 [00:00<?, ?it/s]\u001b[A\n",
            "100%|██████████| 200/200 [00:00<00:00, 1338.27it/s]\n",
            " 88%|████████▊ | 43852/50000 [07:04<01:09, 88.54it/s] "
          ]
        },
        {
          "output_type": "stream",
          "name": "stdout",
          "text": [
            " and the United States of the Country and the South American American American and South American Commons and the Cape Verde of the United States control of the transition of the state and the state of\n"
          ]
        },
        {
          "output_type": "stream",
          "name": "stderr",
          "text": [
            " 88%|████████▊ | 43884/50000 [07:05<00:53, 114.58it/s]"
          ]
        },
        {
          "output_type": "stream",
          "name": "stdout",
          "text": [
            "Loss: 1.3700603556632995\n"
          ]
        },
        {
          "output_type": "stream",
          "name": "stderr",
          "text": [
            "\n",
            "  0%|          | 0/200 [00:00<?, ?it/s]\u001b[A\n",
            "100%|██████████| 200/200 [00:00<00:00, 1210.02it/s]\n",
            " 88%|████████▊ | 43900/50000 [07:05<01:09, 88.29it/s] "
          ]
        },
        {
          "output_type": "stream",
          "name": "stdout",
          "text": [
            " and the state and the experience of the top in the passenger social networking state and information of the first the continued to the first to the entire many of the continued that the other subseque\n"
          ]
        },
        {
          "output_type": "stream",
          "name": "stderr",
          "text": [
            " 88%|████████▊ | 43947/50000 [07:05<00:49, 123.10it/s]"
          ]
        },
        {
          "output_type": "stream",
          "name": "stdout",
          "text": [
            "Loss: 1.3486073756217956\n"
          ]
        },
        {
          "output_type": "stream",
          "name": "stderr",
          "text": [
            "\n",
            "  0%|          | 0/200 [00:00<?, ?it/s]\u001b[A\n",
            "100%|██████████| 200/200 [00:00<00:00, 1382.62it/s]\n"
          ]
        },
        {
          "output_type": "stream",
          "name": "stdout",
          "text": [
            " and the experiences and considered the production and consists of the study of the responsible on the company with the process that the person are the section of the first of the international standar\n"
          ]
        },
        {
          "output_type": "stream",
          "name": "stderr",
          "text": [
            " 88%|████████▊ | 43991/50000 [07:06<00:53, 113.27it/s]"
          ]
        },
        {
          "output_type": "stream",
          "name": "stdout",
          "text": [
            "Loss: 1.3710554122924805\n"
          ]
        },
        {
          "output_type": "stream",
          "name": "stderr",
          "text": [
            "\n",
            "  0%|          | 0/200 [00:00<?, ?it/s]\u001b[A\n",
            " 46%|████▌     | 92/200 [00:00<00:00, 892.14it/s]\u001b[A\n",
            "100%|██████████| 200/200 [00:00<00:00, 953.44it/s]\n",
            " 88%|████████▊ | 44019/50000 [07:06<01:07, 89.09it/s]"
          ]
        },
        {
          "output_type": "stream",
          "name": "stdout",
          "text": [
            " and the study of the second services and remains the result of the transport in the positive of the same and secondary and particularly development of the standard of the provide the response to a sec\n"
          ]
        },
        {
          "output_type": "stream",
          "name": "stderr",
          "text": [
            " 88%|████████▊ | 44049/50000 [07:06<00:53, 111.28it/s]"
          ]
        },
        {
          "output_type": "stream",
          "name": "stdout",
          "text": [
            "Loss: 1.3622068023681642\n"
          ]
        },
        {
          "output_type": "stream",
          "name": "stderr",
          "text": [
            "\n",
            "  0%|          | 0/200 [00:00<?, ?it/s]\u001b[A\n",
            "100%|██████████| 200/200 [00:00<00:00, 1160.49it/s]\n"
          ]
        },
        {
          "output_type": "stream",
          "name": "stdout",
          "text": [
            " and the state and the second control of the decision and the government of the control of the majority of the train the services and large operations to the first computer state of the term in the rec\n"
          ]
        },
        {
          "output_type": "stream",
          "name": "stderr",
          "text": [
            " 88%|████████▊ | 44092/50000 [07:07<00:56, 104.90it/s]"
          ]
        },
        {
          "output_type": "stream",
          "name": "stdout",
          "text": [
            "Loss: 1.3693821454048156\n"
          ]
        },
        {
          "output_type": "stream",
          "name": "stderr",
          "text": [
            "\n",
            "  0%|          | 0/200 [00:00<?, ?it/s]\u001b[A\n",
            "100%|██████████| 200/200 [00:00<00:00, 1041.62it/s]"
          ]
        },
        {
          "output_type": "stream",
          "name": "stdout",
          "text": [
            " and the American control of the services of the first the services and the first the population of the higher and the common set and the active the first international revenue and a simply effective c\n"
          ]
        },
        {
          "output_type": "stream",
          "name": "stderr",
          "text": [
            "\n",
            " 88%|████████▊ | 44135/50000 [07:07<00:57, 101.84it/s]"
          ]
        },
        {
          "output_type": "stream",
          "name": "stdout",
          "text": [
            "Loss: 1.3640715169906616\n"
          ]
        },
        {
          "output_type": "stream",
          "name": "stderr",
          "text": [
            "\n",
            "  0%|          | 0/200 [00:00<?, ?it/s]\u001b[A\n",
            "100%|██████████| 200/200 [00:00<00:00, 1351.34it/s]\n",
            " 88%|████████▊ | 44150/50000 [07:08<01:10, 82.70it/s] "
          ]
        },
        {
          "output_type": "stream",
          "name": "stdout",
          "text": [
            " and a set of service and possible to the company has a provide an extensive to the services with the article of the trains of the control in the right and the country of the company of the first state\n"
          ]
        },
        {
          "output_type": "stream",
          "name": "stderr",
          "text": [
            " 88%|████████▊ | 44194/50000 [07:08<00:51, 113.51it/s]"
          ]
        },
        {
          "output_type": "stream",
          "name": "stdout",
          "text": [
            "Loss: 1.3634880375862122\n"
          ]
        },
        {
          "output_type": "stream",
          "name": "stderr",
          "text": [
            "\n",
            "  0%|          | 0/200 [00:00<?, ?it/s]\u001b[A\n",
            " 46%|████▌     | 91/200 [00:00<00:00, 906.67it/s]\u001b[A\n",
            "100%|██████████| 200/200 [00:00<00:00, 918.58it/s]\n",
            " 88%|████████▊ | 44221/50000 [07:08<01:06, 87.43it/s]"
          ]
        },
        {
          "output_type": "stream",
          "name": "stdout",
          "text": [
            " and other international services of the standards in the southern processing and the computer or or to the common are the provides the protect the continued to the teachings were the country of the te\n"
          ]
        },
        {
          "output_type": "stream",
          "name": "stderr",
          "text": [
            " 88%|████████▊ | 44248/50000 [07:09<00:55, 104.51it/s]"
          ]
        },
        {
          "output_type": "stream",
          "name": "stdout",
          "text": [
            "Loss: 1.371994776725769\n"
          ]
        },
        {
          "output_type": "stream",
          "name": "stderr",
          "text": [
            "\n",
            "  0%|          | 0/200 [00:00<?, ?it/s]\u001b[A\n",
            "100%|██████████| 200/200 [00:00<00:00, 1090.57it/s]"
          ]
        },
        {
          "output_type": "stream",
          "name": "stdout",
          "text": [
            " and the first the first notation for the end of the hammer in the same the study of the total of the control of the article and the provide the activity of the commercial construction of the state of \n"
          ]
        },
        {
          "output_type": "stream",
          "name": "stderr",
          "text": [
            "\n",
            " 89%|████████▊ | 44291/50000 [07:09<00:56, 100.20it/s]"
          ]
        },
        {
          "output_type": "stream",
          "name": "stdout",
          "text": [
            "Loss: 1.3584368968009948\n"
          ]
        },
        {
          "output_type": "stream",
          "name": "stderr",
          "text": [
            "\n",
            "  0%|          | 0/200 [00:00<?, ?it/s]\u001b[A\n",
            "100%|██████████| 200/200 [00:00<00:00, 1237.37it/s]\n",
            " 89%|████████▊ | 44303/50000 [07:09<01:14, 76.44it/s] "
          ]
        },
        {
          "output_type": "stream",
          "name": "stdout",
          "text": [
            " in a community of the state in the particularly as a result of the provides the first production of the country of the process of the present construction of the state of the completed to the proposed\n"
          ]
        },
        {
          "output_type": "stream",
          "name": "stderr",
          "text": [
            " 89%|████████▊ | 44349/50000 [07:10<00:50, 112.87it/s]"
          ]
        },
        {
          "output_type": "stream",
          "name": "stdout",
          "text": [
            "Loss: 1.3737950658798217\n"
          ]
        },
        {
          "output_type": "stream",
          "name": "stderr",
          "text": [
            "\n",
            "  0%|          | 0/200 [00:00<?, ?it/s]\u001b[A\n",
            "100%|██████████| 200/200 [00:00<00:00, 1337.68it/s]\n"
          ]
        },
        {
          "output_type": "stream",
          "name": "stdout",
          "text": [
            " the properties of the state and the state and president of the process and the first process in the services of the population of the real construction of the company and allow of the international pr\n"
          ]
        },
        {
          "output_type": "stream",
          "name": "stderr",
          "text": [
            " 89%|████████▉ | 44393/50000 [07:10<00:50, 111.65it/s]"
          ]
        },
        {
          "output_type": "stream",
          "name": "stdout",
          "text": [
            "Loss: 1.3660877108573914\n"
          ]
        },
        {
          "output_type": "stream",
          "name": "stderr",
          "text": [
            "\n",
            "  0%|          | 0/200 [00:00<?, ?it/s]\u001b[A\n",
            "100%|██████████| 200/200 [00:00<00:00, 1373.34it/s]\n",
            " 89%|████████▉ | 44406/50000 [07:10<01:04, 86.56it/s] "
          ]
        },
        {
          "output_type": "stream",
          "name": "stdout",
          "text": [
            " considered the proposed the production of the most and the provides the contraction of the first mathematics in the United States and the archipelago and the term of the source of the United States an\n"
          ]
        },
        {
          "output_type": "stream",
          "name": "stderr",
          "text": [
            " 89%|████████▉ | 44438/50000 [07:10<00:48, 113.75it/s]"
          ]
        },
        {
          "output_type": "stream",
          "name": "stdout",
          "text": [
            "Loss: 1.383768458366394\n"
          ]
        },
        {
          "output_type": "stream",
          "name": "stderr",
          "text": [
            "\n",
            "  0%|          | 0/200 [00:00<?, ?it/s]\u001b[A\n",
            "100%|██████████| 200/200 [00:00<00:00, 1293.95it/s]\n",
            " 89%|████████▉ | 44452/50000 [07:11<01:03, 86.87it/s] "
          ]
        },
        {
          "output_type": "stream",
          "name": "stdout",
          "text": [
            " and the countries in the control of the computer concept of the main state of the result of the computer than the state of the state of the set of the southern the state of the services and state of t\n"
          ]
        },
        {
          "output_type": "stream",
          "name": "stderr",
          "text": [
            " 89%|████████▉ | 44484/50000 [07:11<00:49, 112.55it/s]"
          ]
        },
        {
          "output_type": "stream",
          "name": "stdout",
          "text": [
            "Loss: 1.3717969965934753\n"
          ]
        },
        {
          "output_type": "stream",
          "name": "stderr",
          "text": [
            "\n",
            "  0%|          | 0/200 [00:00<?, ?it/s]\u001b[A\n",
            "100%|██████████| 200/200 [00:00<00:00, 1265.57it/s]\n",
            " 89%|████████▉ | 44500/50000 [07:11<01:02, 88.27it/s] "
          ]
        },
        {
          "output_type": "stream",
          "name": "stdout",
          "text": [
            " in the provide the state and record the country of the first processes of the communication and the second the former processes of the process of the company and the production of the standards of the\n"
          ]
        },
        {
          "output_type": "stream",
          "name": "stderr",
          "text": [
            " 89%|████████▉ | 44547/50000 [07:12<00:44, 123.23it/s]"
          ]
        },
        {
          "output_type": "stream",
          "name": "stdout",
          "text": [
            "Loss: 1.3553293943405151\n"
          ]
        },
        {
          "output_type": "stream",
          "name": "stderr",
          "text": [
            "\n",
            "  0%|          | 0/200 [00:00<?, ?it/s]\u001b[A\n",
            "100%|██████████| 200/200 [00:00<00:00, 1316.07it/s]\n"
          ]
        },
        {
          "output_type": "stream",
          "name": "stdout",
          "text": [
            " and the train the public state of the state and the particular more than 1980s and the first and the state and the state in the country of the state and an experience of believe in the United States a\n"
          ]
        },
        {
          "output_type": "stream",
          "name": "stderr",
          "text": [
            " 89%|████████▉ | 44593/50000 [07:12<00:46, 115.36it/s]"
          ]
        },
        {
          "output_type": "stream",
          "name": "stdout",
          "text": [
            "Loss: 1.364782350063324\n"
          ]
        },
        {
          "output_type": "stream",
          "name": "stderr",
          "text": [
            "\n",
            "  0%|          | 0/200 [00:00<?, ?it/s]\u001b[A\n",
            "100%|██████████| 200/200 [00:00<00:00, 1326.66it/s]"
          ]
        },
        {
          "output_type": "stream",
          "name": "stdout",
          "text": [
            " and the state and a series of the company of the first developed a person and students that the trains and population of the Cape Verde was a services and the learning of the process of the internatio\n"
          ]
        },
        {
          "output_type": "stream",
          "name": "stderr",
          "text": [
            "\n",
            " 89%|████████▉ | 44639/50000 [07:12<00:46, 114.86it/s]"
          ]
        },
        {
          "output_type": "stream",
          "name": "stdout",
          "text": [
            "Loss: 1.3693881106376649\n"
          ]
        },
        {
          "output_type": "stream",
          "name": "stderr",
          "text": [
            "\n",
            "  0%|          | 0/200 [00:00<?, ?it/s]\u001b[A\n",
            "100%|██████████| 200/200 [00:00<00:00, 1240.51it/s]\n",
            " 89%|████████▉ | 44653/50000 [07:13<01:01, 87.37it/s] "
          ]
        },
        {
          "output_type": "stream",
          "name": "stdout",
          "text": [
            " and a control that the process and an international the research and the majority of the first control of the design and the state state and a state the services and complex and relationships of the s\n"
          ]
        },
        {
          "output_type": "stream",
          "name": "stderr",
          "text": [
            " 89%|████████▉ | 44685/50000 [07:13<00:46, 113.11it/s]"
          ]
        },
        {
          "output_type": "stream",
          "name": "stdout",
          "text": [
            "Loss: 1.3610203194618224\n"
          ]
        },
        {
          "output_type": "stream",
          "name": "stderr",
          "text": [
            "\n",
            "  0%|          | 0/200 [00:00<?, ?it/s]\u001b[A\n",
            "100%|██████████| 200/200 [00:00<00:00, 1326.48it/s]\n",
            " 89%|████████▉ | 44700/50000 [07:13<00:59, 88.49it/s] "
          ]
        },
        {
          "output_type": "stream",
          "name": "stdout",
          "text": [
            " the control of the state and substance of the archipelago and the problem of the state and the present and the set of the trains and the state and the services of the company of the train to the media\n"
          ]
        },
        {
          "output_type": "stream",
          "name": "stderr",
          "text": [
            " 89%|████████▉ | 44748/50000 [07:13<00:42, 124.54it/s]"
          ]
        },
        {
          "output_type": "stream",
          "name": "stdout",
          "text": [
            "Loss: 1.3728542065620422\n"
          ]
        },
        {
          "output_type": "stream",
          "name": "stderr",
          "text": [
            "\n",
            "  0%|          | 0/200 [00:00<?, ?it/s]\u001b[A\n",
            "100%|██████████| 200/200 [00:00<00:00, 1293.90it/s]\n"
          ]
        },
        {
          "output_type": "stream",
          "name": "stdout",
          "text": [
            " and in the process of the service of the process of the control of the end of the state of the Grenada and the South American China and Standard March 2000 and the state and the individuals and social\n"
          ]
        },
        {
          "output_type": "stream",
          "name": "stderr",
          "text": [
            " 90%|████████▉ | 44795/50000 [07:14<00:44, 116.54it/s]"
          ]
        },
        {
          "output_type": "stream",
          "name": "stdout",
          "text": [
            "Loss: 1.3691715240478515\n"
          ]
        },
        {
          "output_type": "stream",
          "name": "stderr",
          "text": [
            "\n",
            "  0%|          | 0/200 [00:00<?, ?it/s]\u001b[A\n",
            "100%|██████████| 200/200 [00:00<00:00, 1337.99it/s]\n"
          ]
        },
        {
          "output_type": "stream",
          "name": "stdout",
          "text": [
            " the ancestry and the state and computer significant company was not a second subject the state and the process in the production of the state and the Buddhist research and computer state of the area t\n"
          ]
        },
        {
          "output_type": "stream",
          "name": "stderr",
          "text": [
            " 90%|████████▉ | 44840/50000 [07:14<00:45, 114.26it/s]"
          ]
        },
        {
          "output_type": "stream",
          "name": "stdout",
          "text": [
            "Loss: 1.3752853322029113\n"
          ]
        },
        {
          "output_type": "stream",
          "name": "stderr",
          "text": [
            "\n",
            "  0%|          | 0/200 [00:00<?, ?it/s]\u001b[A\n",
            "100%|██████████| 200/200 [00:00<00:00, 1326.90it/s]\n",
            " 90%|████████▉ | 44854/50000 [07:15<00:58, 88.53it/s] "
          ]
        },
        {
          "output_type": "stream",
          "name": "stdout",
          "text": [
            " and the state of the development of the largest and the end in the construction of the Cape Verde was companies in the United States and an and an ancestry and the service of the source and the state \n"
          ]
        },
        {
          "output_type": "stream",
          "name": "stderr",
          "text": [
            " 90%|████████▉ | 44885/50000 [07:15<00:45, 113.25it/s]"
          ]
        },
        {
          "output_type": "stream",
          "name": "stdout",
          "text": [
            "Loss: 1.361846535205841\n"
          ]
        },
        {
          "output_type": "stream",
          "name": "stderr",
          "text": [
            "\n",
            "  0%|          | 0/200 [00:00<?, ?it/s]\u001b[A\n",
            "100%|██████████| 200/200 [00:00<00:00, 1340.57it/s]\n",
            " 90%|████████▉ | 44900/50000 [07:15<00:57, 88.42it/s] "
          ]
        },
        {
          "output_type": "stream",
          "name": "stdout",
          "text": [
            " and the southern community of the country of the term in the United States and the state and process and company and a particularly as the island of the international many of the construction of the p\n"
          ]
        },
        {
          "output_type": "stream",
          "name": "stderr",
          "text": [
            " 90%|████████▉ | 44947/50000 [07:15<00:40, 123.72it/s]"
          ]
        },
        {
          "output_type": "stream",
          "name": "stdout",
          "text": [
            "Loss: 1.3610468316078186\n"
          ]
        },
        {
          "output_type": "stream",
          "name": "stderr",
          "text": [
            "\n",
            "  0%|          | 0/200 [00:00<?, ?it/s]\u001b[A\n",
            "100%|██████████| 200/200 [00:00<00:00, 1279.94it/s]\n"
          ]
        },
        {
          "output_type": "stream",
          "name": "stdout",
          "text": [
            " the company of the process in the United States that the second operations of the concept of a produce the result to be used to international control of a state of the company language in the second s\n"
          ]
        },
        {
          "output_type": "stream",
          "name": "stderr",
          "text": [
            " 90%|████████▉ | 44993/50000 [07:16<00:43, 116.13it/s]"
          ]
        },
        {
          "output_type": "stream",
          "name": "stdout",
          "text": [
            "Loss: 1.376880509853363\n"
          ]
        },
        {
          "output_type": "stream",
          "name": "stderr",
          "text": [
            "\n",
            "  0%|          | 0/200 [00:00<?, ?it/s]\u001b[A\n",
            "100%|██████████| 200/200 [00:00<00:00, 1336.94it/s]"
          ]
        },
        {
          "output_type": "stream",
          "name": "stdout",
          "text": [
            " and the comprise the process and state in the set of the production of the process of the entire the state in the state of the use of the construction of the state of the state of the United States, a\n"
          ]
        },
        {
          "output_type": "stream",
          "name": "stderr",
          "text": [
            "\n",
            " 90%|█████████ | 45039/50000 [07:16<00:43, 114.22it/s]"
          ]
        },
        {
          "output_type": "stream",
          "name": "stdout",
          "text": [
            "Loss: 1.3579676294326781\n"
          ]
        },
        {
          "output_type": "stream",
          "name": "stderr",
          "text": [
            "\n",
            "  0%|          | 0/200 [00:00<?, ?it/s]\u001b[A\n",
            "100%|██████████| 200/200 [00:00<00:00, 1326.41it/s]\n",
            " 90%|█████████ | 45053/50000 [07:17<00:55, 88.74it/s] "
          ]
        },
        {
          "output_type": "stream",
          "name": "stdout",
          "text": [
            " is an incorporated the second all the second production of the country of the state and state of the late 1990s in the services and control of a supply community and the processes of the United States\n"
          ]
        },
        {
          "output_type": "stream",
          "name": "stderr",
          "text": [
            " 90%|█████████ | 45085/50000 [07:17<00:43, 113.90it/s]"
          ]
        },
        {
          "output_type": "stream",
          "name": "stdout",
          "text": [
            "Loss: 1.3629066634178162\n"
          ]
        },
        {
          "output_type": "stream",
          "name": "stderr",
          "text": [
            "\n",
            "  0%|          | 0/200 [00:00<?, ?it/s]\u001b[A\n",
            "100%|██████████| 200/200 [00:00<00:00, 1235.80it/s]\n",
            " 90%|█████████ | 45100/50000 [07:17<00:56, 87.39it/s] "
          ]
        },
        {
          "output_type": "stream",
          "name": "stdout",
          "text": [
            " and the constitutional organization of the term in the second and services in the proposed the state and consistent on the state and the professional may be a security and systems and the set of a soc\n"
          ]
        },
        {
          "output_type": "stream",
          "name": "stderr",
          "text": [
            " 90%|█████████ | 45148/50000 [07:17<00:39, 124.24it/s]"
          ]
        },
        {
          "output_type": "stream",
          "name": "stdout",
          "text": [
            "Loss: 1.3812409782409667\n"
          ]
        },
        {
          "output_type": "stream",
          "name": "stderr",
          "text": [
            "\n",
            "  0%|          | 0/200 [00:00<?, ?it/s]\u001b[A\n",
            "100%|██████████| 200/200 [00:00<00:00, 1294.55it/s]\n"
          ]
        },
        {
          "output_type": "stream",
          "name": "stdout",
          "text": [
            " and the term in the same in the result of the same the computer state of the state and a state of the companies and the second relationships state of the common carried and official and the result of \n"
          ]
        },
        {
          "output_type": "stream",
          "name": "stderr",
          "text": [
            " 90%|█████████ | 45194/50000 [07:18<00:41, 115.61it/s]"
          ]
        },
        {
          "output_type": "stream",
          "name": "stdout",
          "text": [
            "Loss: 1.3780116939544678\n"
          ]
        },
        {
          "output_type": "stream",
          "name": "stderr",
          "text": [
            "\n",
            "  0%|          | 0/200 [00:00<?, ?it/s]\u001b[A\n",
            "100%|██████████| 200/200 [00:00<00:00, 1213.09it/s]"
          ]
        },
        {
          "output_type": "stream",
          "name": "stdout",
          "text": [
            " and the content of the term and with the area of the Chicago and the Secretary and Standard Station of Cape Verde is the sources of the use of the Death was not also being a state of the production of\n"
          ]
        },
        {
          "output_type": "stream",
          "name": "stderr",
          "text": [
            "\n",
            " 90%|█████████ | 45240/50000 [07:18<00:42, 112.40it/s]"
          ]
        },
        {
          "output_type": "stream",
          "name": "stdout",
          "text": [
            "Loss: 1.365140130519867\n"
          ]
        },
        {
          "output_type": "stream",
          "name": "stderr",
          "text": [
            "\n",
            "  0%|          | 0/200 [00:00<?, ?it/s]\u001b[A\n",
            "100%|██████████| 200/200 [00:00<00:00, 1347.00it/s]\n",
            " 91%|█████████ | 45254/50000 [07:19<00:53, 88.06it/s] "
          ]
        },
        {
          "output_type": "stream",
          "name": "stdout",
          "text": [
            " and in the service of the service of the standards and the United States and the source for the international government in the United States are the state of the majority of the computer and activiti\n"
          ]
        },
        {
          "output_type": "stream",
          "name": "stderr",
          "text": [
            " 91%|█████████ | 45285/50000 [07:19<00:41, 112.39it/s]"
          ]
        },
        {
          "output_type": "stream",
          "name": "stdout",
          "text": [
            "Loss: 1.3644047260284424\n"
          ]
        },
        {
          "output_type": "stream",
          "name": "stderr",
          "text": [
            "\n",
            "  0%|          | 0/200 [00:00<?, ?it/s]\u001b[A\n",
            "100%|██████████| 200/200 [00:00<00:00, 1136.02it/s]\n",
            " 91%|█████████ | 45300/50000 [07:19<00:56, 83.65it/s] "
          ]
        },
        {
          "output_type": "stream",
          "name": "stdout",
          "text": [
            " and the proposed to a structure in the contraction of the term work of the Commons of the United States in the United States of the South American and the Cape Verde and in the United States and the U\n"
          ]
        },
        {
          "output_type": "stream",
          "name": "stderr",
          "text": [
            " 91%|█████████ | 45345/50000 [07:19<00:40, 114.67it/s]"
          ]
        },
        {
          "output_type": "stream",
          "name": "stdout",
          "text": [
            "Loss: 1.366288332939148\n"
          ]
        },
        {
          "output_type": "stream",
          "name": "stderr",
          "text": [
            "\n",
            "  0%|          | 0/200 [00:00<?, ?it/s]\u001b[A\n",
            "100%|██████████| 200/200 [00:00<00:00, 1076.27it/s]"
          ]
        },
        {
          "output_type": "stream",
          "name": "stdout",
          "text": [
            " and a problems of the computer all state of the first in the started to the production of the archipelago is a standards of the population of the contraction of the second on the company of the term a\n"
          ]
        },
        {
          "output_type": "stream",
          "name": "stderr",
          "text": [
            "\n",
            " 91%|█████████ | 45388/50000 [07:20<00:44, 103.49it/s]"
          ]
        },
        {
          "output_type": "stream",
          "name": "stdout",
          "text": [
            "Loss: 1.3725345849990844\n"
          ]
        },
        {
          "output_type": "stream",
          "name": "stderr",
          "text": [
            "\n",
            "  0%|          | 0/200 [00:00<?, ?it/s]\u001b[A\n",
            "100%|██████████| 200/200 [00:00<00:00, 1246.99it/s]\n",
            " 91%|█████████ | 45401/50000 [07:20<00:57, 79.57it/s] "
          ]
        },
        {
          "output_type": "stream",
          "name": "stdout",
          "text": [
            " electric trains and services in the standard students and productions and the proposed to a result of the international model and the most and all of the state and the state of the company of the nati\n"
          ]
        },
        {
          "output_type": "stream",
          "name": "stderr",
          "text": [
            " 91%|█████████ | 45445/50000 [07:20<00:39, 114.19it/s]"
          ]
        },
        {
          "output_type": "stream",
          "name": "stdout",
          "text": [
            "Loss: 1.3622090601921082\n"
          ]
        },
        {
          "output_type": "stream",
          "name": "stderr",
          "text": [
            "\n",
            "  0%|          | 0/200 [00:00<?, ?it/s]\u001b[A\n",
            "100%|██████████| 200/200 [00:00<00:00, 1112.90it/s]"
          ]
        },
        {
          "output_type": "stream",
          "name": "stdout",
          "text": [
            " to one of the United States and the service of the state of the product and services, and the state and the state and the company and the sources and a standards of the state and some of the most serv\n"
          ]
        },
        {
          "output_type": "stream",
          "name": "stderr",
          "text": [
            "\n",
            " 91%|█████████ | 45487/50000 [07:21<00:44, 102.16it/s]"
          ]
        },
        {
          "output_type": "stream",
          "name": "stdout",
          "text": [
            "Loss: 1.3726067638397217\n"
          ]
        },
        {
          "output_type": "stream",
          "name": "stderr",
          "text": [
            "\n",
            "  0%|          | 0/200 [00:00<?, ?it/s]\u001b[A\n",
            "100%|██████████| 200/200 [00:00<00:00, 1229.41it/s]\n",
            " 91%|█████████ | 45500/50000 [07:21<00:58, 77.18it/s] "
          ]
        },
        {
          "output_type": "stream",
          "name": "stdout",
          "text": [
            " and control of the state and a strategic state of the control to be the state of the continued to the station of the standard of a services and the result of the problems of the states of the program \n"
          ]
        },
        {
          "output_type": "stream",
          "name": "stderr",
          "text": [
            " 91%|█████████ | 45545/50000 [07:22<00:39, 113.77it/s]"
          ]
        },
        {
          "output_type": "stream",
          "name": "stdout",
          "text": [
            "Loss: 1.365397379398346\n"
          ]
        },
        {
          "output_type": "stream",
          "name": "stderr",
          "text": [
            "\n",
            "  0%|          | 0/200 [00:00<?, ?it/s]\u001b[A\n",
            "100%|██████████| 200/200 [00:00<00:00, 1071.10it/s]"
          ]
        },
        {
          "output_type": "stream",
          "name": "stdout",
          "text": [
            " the construction of the seats and the program that the southern relationships and the common and an intersection of the provides companies and the state of the second process that is a formal state of\n"
          ]
        },
        {
          "output_type": "stream",
          "name": "stderr",
          "text": [
            "\n",
            " 91%|█████████ | 45586/50000 [07:22<00:45, 98.01it/s]"
          ]
        },
        {
          "output_type": "stream",
          "name": "stdout",
          "text": [
            "Loss: 1.3713967490196228\n"
          ]
        },
        {
          "output_type": "stream",
          "name": "stderr",
          "text": [
            "\n",
            "  0%|          | 0/200 [00:00<?, ?it/s]\u001b[A\n",
            "100%|██████████| 200/200 [00:00<00:00, 1012.65it/s]\n",
            " 91%|█████████ | 45613/50000 [07:22<00:53, 82.46it/s]"
          ]
        },
        {
          "output_type": "stream",
          "name": "stdout",
          "text": [
            " and the majority of the top speed of the provided the product of the first the majority of the state in the West House of Cape Verdean and the state in the United States of the state of the 1980s of t\n"
          ]
        },
        {
          "output_type": "stream",
          "name": "stderr",
          "text": [
            " 91%|█████████▏| 45642/50000 [07:23<00:41, 104.21it/s]"
          ]
        },
        {
          "output_type": "stream",
          "name": "stdout",
          "text": [
            "Loss: 1.372487666606903\n"
          ]
        },
        {
          "output_type": "stream",
          "name": "stderr",
          "text": [
            "\n",
            "  0%|          | 0/200 [00:00<?, ?it/s]\u001b[A\n",
            " 46%|████▌     | 92/200 [00:00<00:00, 919.05it/s]\u001b[A\n",
            "100%|██████████| 200/200 [00:00<00:00, 969.81it/s] \n",
            " 91%|█████████▏| 45671/50000 [07:23<00:49, 87.22it/s]"
          ]
        },
        {
          "output_type": "stream",
          "name": "stdout",
          "text": [
            " and the companies and a secondary the common government and the the subject of state and an example of the company of the state and social networking standards of the production of the state of the po\n"
          ]
        },
        {
          "output_type": "stream",
          "name": "stderr",
          "text": [
            "\r 91%|█████████▏| 45686/50000 [07:23<00:43, 99.44it/s]"
          ]
        },
        {
          "output_type": "stream",
          "name": "stdout",
          "text": [
            "Loss: 1.3694293928146362\n"
          ]
        },
        {
          "output_type": "stream",
          "name": "stderr",
          "text": [
            "\n",
            "  0%|          | 0/200 [00:00<?, ?it/s]\u001b[A\n",
            "100%|██████████| 200/200 [00:00<00:00, 1389.40it/s]\n",
            " 91%|█████████▏| 45700/50000 [07:23<00:52, 82.03it/s]"
          ]
        },
        {
          "output_type": "stream",
          "name": "stdout",
          "text": [
            " to the state of the state and in the proposal of the provide an international and an express the state of the arrival for the computer since the first time of the area of the property of the state com\n"
          ]
        },
        {
          "output_type": "stream",
          "name": "stderr",
          "text": [
            " 91%|█████████▏| 45748/50000 [07:24<00:34, 121.88it/s]"
          ]
        },
        {
          "output_type": "stream",
          "name": "stdout",
          "text": [
            "Loss: 1.3763330245018006\n"
          ]
        },
        {
          "output_type": "stream",
          "name": "stderr",
          "text": [
            "\n",
            "  0%|          | 0/200 [00:00<?, ?it/s]\u001b[A\n",
            "100%|██████████| 200/200 [00:00<00:00, 1384.16it/s]\n"
          ]
        },
        {
          "output_type": "stream",
          "name": "stdout",
          "text": [
            " and the state of the company of the state and a particular social networks and a state of the self-are several system and the city of the southern the second on the service of the programmers, service\n"
          ]
        },
        {
          "output_type": "stream",
          "name": "stderr",
          "text": [
            " 92%|█████████▏| 45794/50000 [07:24<00:35, 116.84it/s]"
          ]
        },
        {
          "output_type": "stream",
          "name": "stdout",
          "text": [
            "Loss: 1.3752487468719483\n"
          ]
        },
        {
          "output_type": "stream",
          "name": "stderr",
          "text": [
            "\n",
            "  0%|          | 0/200 [00:00<?, ?it/s]\u001b[A\n",
            "100%|██████████| 200/200 [00:00<00:00, 1321.19it/s]\n"
          ]
        },
        {
          "output_type": "stream",
          "name": "stdout",
          "text": [
            " and the experiences are the state of the states are not also a particular religious real computer state of the program that the common the standard and research and an active the state of the state an\n"
          ]
        },
        {
          "output_type": "stream",
          "name": "stderr",
          "text": [
            " 92%|█████████▏| 45840/50000 [07:25<00:36, 115.39it/s]"
          ]
        },
        {
          "output_type": "stream",
          "name": "stdout",
          "text": [
            "Loss: 1.3766313433647155\n"
          ]
        },
        {
          "output_type": "stream",
          "name": "stderr",
          "text": [
            "\n",
            "  0%|          | 0/200 [00:00<?, ?it/s]\u001b[A\n",
            "100%|██████████| 200/200 [00:00<00:00, 1348.06it/s]\n",
            " 92%|█████████▏| 45854/50000 [07:25<00:46, 89.02it/s] "
          ]
        },
        {
          "output_type": "stream",
          "name": "stdout",
          "text": [
            " the National President of Commons International Anglia and American and the ancestry in the United States of the company that the company and the proposal of the majority of the second in the Commons \n"
          ]
        },
        {
          "output_type": "stream",
          "name": "stderr",
          "text": [
            " 92%|█████████▏| 45884/50000 [07:25<00:36, 112.54it/s]"
          ]
        },
        {
          "output_type": "stream",
          "name": "stdout",
          "text": [
            "Loss: 1.374491183757782\n"
          ]
        },
        {
          "output_type": "stream",
          "name": "stderr",
          "text": [
            "\n",
            "  0%|          | 0/200 [00:00<?, ?it/s]\u001b[A\n",
            "100%|██████████| 200/200 [00:00<00:00, 1366.05it/s]\n",
            " 92%|█████████▏| 45900/50000 [07:25<00:46, 89.10it/s] "
          ]
        },
        {
          "output_type": "stream",
          "name": "stdout",
          "text": [
            " electric that is an and the produced in 1970 on the standards in the southern Delhi State State Buddhist American Cape Verde is a state and the higher sites of the product of the computer trains to th\n"
          ]
        },
        {
          "output_type": "stream",
          "name": "stderr",
          "text": [
            " 92%|█████████▏| 45948/50000 [07:26<00:32, 124.38it/s]"
          ]
        },
        {
          "output_type": "stream",
          "name": "stdout",
          "text": [
            "Loss: 1.373136990070343\n"
          ]
        },
        {
          "output_type": "stream",
          "name": "stderr",
          "text": [
            "\n",
            "  0%|          | 0/200 [00:00<?, ?it/s]\u001b[A\n",
            "100%|██████████| 200/200 [00:00<00:00, 1362.08it/s]\n"
          ]
        },
        {
          "output_type": "stream",
          "name": "stdout",
          "text": [
            " and other state of the border in the process that the control of the results of the authorities. The state of the area of the provide some of the particular to computer services in the state and inter\n"
          ]
        },
        {
          "output_type": "stream",
          "name": "stderr",
          "text": [
            " 92%|█████████▏| 45993/50000 [07:26<00:34, 116.71it/s]"
          ]
        },
        {
          "output_type": "stream",
          "name": "stdout",
          "text": [
            "Loss: 1.3621331119537354\n"
          ]
        },
        {
          "output_type": "stream",
          "name": "stderr",
          "text": [
            "\n",
            "  0%|          | 0/200 [00:00<?, ?it/s]\u001b[A\n",
            "100%|██████████| 200/200 [00:00<00:00, 1262.95it/s]"
          ]
        },
        {
          "output_type": "stream",
          "name": "stdout",
          "text": [
            " the International Commission of Commons and the Cape Verde in the United States and the subsequent services in the United States and the train and other proposed to the state and the term protect are \n"
          ]
        },
        {
          "output_type": "stream",
          "name": "stderr",
          "text": [
            "\n",
            " 92%|█████████▏| 46038/50000 [07:27<00:35, 111.95it/s]"
          ]
        },
        {
          "output_type": "stream",
          "name": "stdout",
          "text": [
            "Loss: 1.369749240875244\n"
          ]
        },
        {
          "output_type": "stream",
          "name": "stderr",
          "text": [
            "\n",
            "  0%|          | 0/200 [00:00<?, ?it/s]\u001b[A\n",
            "100%|██████████| 200/200 [00:00<00:00, 1371.19it/s]\n",
            " 92%|█████████▏| 46052/50000 [07:27<00:44, 88.49it/s] "
          ]
        },
        {
          "output_type": "stream",
          "name": "stdout",
          "text": [
            " and many research and the most and market of the southern and other state of the state of the original engineering of the control of the company programs of the transportation of the state of the most\n"
          ]
        },
        {
          "output_type": "stream",
          "name": "stderr",
          "text": [
            " 92%|█████████▏| 46099/50000 [07:27<00:31, 124.21it/s]"
          ]
        },
        {
          "output_type": "stream",
          "name": "stdout",
          "text": [
            "Loss: 1.369545440673828\n"
          ]
        },
        {
          "output_type": "stream",
          "name": "stderr",
          "text": [
            "\n",
            "  0%|          | 0/200 [00:00<?, ?it/s]\u001b[A\n",
            "100%|██████████| 200/200 [00:00<00:00, 1221.42it/s]\n"
          ]
        },
        {
          "output_type": "stream",
          "name": "stdout",
          "text": [
            " and the recognized a similar to the United States and the international mathematical and the standard of the top speeds and the largest product of the particular state in the second all the southern s\n"
          ]
        },
        {
          "output_type": "stream",
          "name": "stderr",
          "text": [
            " 92%|█████████▏| 46145/50000 [07:28<00:33, 115.81it/s]"
          ]
        },
        {
          "output_type": "stream",
          "name": "stdout",
          "text": [
            "Loss: 1.3755756092071534\n"
          ]
        },
        {
          "output_type": "stream",
          "name": "stderr",
          "text": [
            "\n",
            "  0%|          | 0/200 [00:00<?, ?it/s]\u001b[A\n",
            "100%|██████████| 200/200 [00:00<00:00, 1350.41it/s]\n"
          ]
        },
        {
          "output_type": "stream",
          "name": "stdout",
          "text": [
            " and the state of the Northern Cape Verde of the Security Railway Railways American American American and the computer and international state and the active and problems of the process of the same and\n"
          ]
        },
        {
          "output_type": "stream",
          "name": "stderr",
          "text": [
            " 92%|█████████▏| 46191/50000 [07:28<00:33, 114.55it/s]"
          ]
        },
        {
          "output_type": "stream",
          "name": "stdout",
          "text": [
            "Loss: 1.365945236682892\n"
          ]
        },
        {
          "output_type": "stream",
          "name": "stderr",
          "text": [
            "\n",
            "  0%|          | 0/200 [00:00<?, ?it/s]\u001b[A\n",
            "100%|██████████| 200/200 [00:00<00:00, 1257.81it/s]"
          ]
        },
        {
          "output_type": "stream",
          "name": "stdout",
          "text": [
            " and the state and station and the end of the most process of the control of the common state and the state of the state and the research of the rail state of the second the first the main represents t\n"
          ]
        },
        {
          "output_type": "stream",
          "name": "stderr",
          "text": [
            "\n",
            " 92%|█████████▏| 46237/50000 [07:29<00:33, 112.61it/s]"
          ]
        },
        {
          "output_type": "stream",
          "name": "stdout",
          "text": [
            "Loss: 1.369938735961914\n"
          ]
        },
        {
          "output_type": "stream",
          "name": "stderr",
          "text": [
            "\n",
            "  0%|          | 0/200 [00:00<?, ?it/s]\u001b[A\n",
            "100%|██████████| 200/200 [00:00<00:00, 1370.23it/s]\n",
            " 93%|█████████▎| 46251/50000 [07:29<00:42, 88.68it/s] "
          ]
        },
        {
          "output_type": "stream",
          "name": "stdout",
          "text": [
            " to the most suffering of the first recognition of the records and the company and a first state and the most person and a main standard and the series of the traditional company and provide the person\n"
          ]
        },
        {
          "output_type": "stream",
          "name": "stderr",
          "text": [
            " 93%|█████████▎| 46283/50000 [07:29<00:32, 113.68it/s]"
          ]
        },
        {
          "output_type": "stream",
          "name": "stdout",
          "text": [
            "Loss: 1.3630096793174744\n"
          ]
        },
        {
          "output_type": "stream",
          "name": "stderr",
          "text": [
            "\n",
            "  0%|          | 0/200 [00:00<?, ?it/s]\u001b[A\n",
            "100%|██████████| 200/200 [00:00<00:00, 1388.30it/s]\n",
            " 93%|█████████▎| 46300/50000 [07:29<00:40, 92.45it/s] "
          ]
        },
        {
          "output_type": "stream",
          "name": "stdout",
          "text": [
            " the provide the largest the control of the controlled the country and the standards and control to make the become a more services are the construction of the company and and a similar to the company \n"
          ]
        },
        {
          "output_type": "stream",
          "name": "stderr",
          "text": [
            " 93%|█████████▎| 46347/50000 [07:30<00:29, 125.48it/s]"
          ]
        },
        {
          "output_type": "stream",
          "name": "stdout",
          "text": [
            "Loss: 1.3721888589859008\n"
          ]
        },
        {
          "output_type": "stream",
          "name": "stderr",
          "text": [
            "\n",
            "  0%|          | 0/200 [00:00<?, ?it/s]\u001b[A\n",
            "100%|██████████| 200/200 [00:00<00:00, 1324.98it/s]\n"
          ]
        },
        {
          "output_type": "stream",
          "name": "stdout",
          "text": [
            " and the construction of the companies and state and the company in the United States, and the international standard and the state of the company of the development of the problems of the and the stat\n"
          ]
        },
        {
          "output_type": "stream",
          "name": "stderr",
          "text": [
            " 93%|█████████▎| 46393/50000 [07:30<00:31, 115.62it/s]"
          ]
        },
        {
          "output_type": "stream",
          "name": "stdout",
          "text": [
            "Loss: 1.3787378478050232\n"
          ]
        },
        {
          "output_type": "stream",
          "name": "stderr",
          "text": [
            "\n",
            "  0%|          | 0/200 [00:00<?, ?it/s]\u001b[A\n",
            "100%|██████████| 200/200 [00:00<00:00, 1307.82it/s]"
          ]
        },
        {
          "output_type": "stream",
          "name": "stdout",
          "text": [
            " of the continued that the state of the state and international services and the company in the United States of the United States of the service of the problems and the control of the train in the are\n"
          ]
        },
        {
          "output_type": "stream",
          "name": "stderr",
          "text": [
            "\n",
            " 93%|█████████▎| 46437/50000 [07:30<00:31, 112.16it/s]"
          ]
        },
        {
          "output_type": "stream",
          "name": "stdout",
          "text": [
            "Loss: 1.3679096722602844\n"
          ]
        },
        {
          "output_type": "stream",
          "name": "stderr",
          "text": [
            "\n",
            "  0%|          | 0/200 [00:00<?, ?it/s]\u001b[A\n",
            "100%|██████████| 200/200 [00:00<00:00, 1315.43it/s]\n",
            " 93%|█████████▎| 46451/50000 [07:31<00:40, 87.03it/s] "
          ]
        },
        {
          "output_type": "stream",
          "name": "stdout",
          "text": [
            " and the second states and a second set the article of the problem to the produce the set of the company of the State of the Commons and the Hispanic and Standardization in 2013. The Santiago and Parti\n"
          ]
        },
        {
          "output_type": "stream",
          "name": "stderr",
          "text": [
            " 93%|█████████▎| 46498/50000 [07:31<00:28, 122.80it/s]"
          ]
        },
        {
          "output_type": "stream",
          "name": "stdout",
          "text": [
            "Loss: 1.3633154273033141\n"
          ]
        },
        {
          "output_type": "stream",
          "name": "stderr",
          "text": [
            "\n",
            "  0%|          | 0/200 [00:00<?, ?it/s]\u001b[A\n",
            "100%|██████████| 200/200 [00:00<00:00, 1332.34it/s]\n"
          ]
        },
        {
          "output_type": "stream",
          "name": "stdout",
          "text": [
            " and the country and the service and the state and subject of the state is a construction of the country of the continued to the organization of the player of the state of the annual number of set to e\n"
          ]
        },
        {
          "output_type": "stream",
          "name": "stderr",
          "text": [
            " 93%|█████████▎| 46543/50000 [07:32<00:29, 116.22it/s]"
          ]
        },
        {
          "output_type": "stream",
          "name": "stdout",
          "text": [
            "Loss: 1.3630126333236694\n"
          ]
        },
        {
          "output_type": "stream",
          "name": "stderr",
          "text": [
            "\n",
            "  0%|          | 0/200 [00:00<?, ?it/s]\u001b[A\n",
            "100%|██████████| 200/200 [00:00<00:00, 1304.75it/s]"
          ]
        },
        {
          "output_type": "stream",
          "name": "stdout",
          "text": [
            " and the company state that it was to be the control of the state and the state in the control is a state and the completed to the house to process in the United States and the reality of the tracks of\n"
          ]
        },
        {
          "output_type": "stream",
          "name": "stderr",
          "text": [
            "\n",
            " 93%|█████████▎| 46588/50000 [07:32<00:30, 112.56it/s]"
          ]
        },
        {
          "output_type": "stream",
          "name": "stdout",
          "text": [
            "Loss: 1.377546525001526\n"
          ]
        },
        {
          "output_type": "stream",
          "name": "stderr",
          "text": [
            "\n",
            "  0%|          | 0/200 [00:00<?, ?it/s]\u001b[A\n",
            "100%|██████████| 200/200 [00:00<00:00, 1379.97it/s]\n",
            " 93%|█████████▎| 46602/50000 [07:32<00:38, 88.64it/s] "
          ]
        },
        {
          "output_type": "stream",
          "name": "stdout",
          "text": [
            " and control in the seats to provide the state of the southern control to the the constructed to a specifically design was a services that the largest computer state of the process are electronic state\n"
          ]
        },
        {
          "output_type": "stream",
          "name": "stderr",
          "text": [
            " 93%|█████████▎| 46649/50000 [07:33<00:27, 122.77it/s]"
          ]
        },
        {
          "output_type": "stream",
          "name": "stdout",
          "text": [
            "Loss: 1.3465391707420349\n"
          ]
        },
        {
          "output_type": "stream",
          "name": "stderr",
          "text": [
            "\n",
            "  0%|          | 0/200 [00:00<?, ?it/s]\u001b[A\n",
            "100%|██████████| 200/200 [00:00<00:00, 1323.67it/s]\n"
          ]
        },
        {
          "output_type": "stream",
          "name": "stdout",
          "text": [
            " and the state of the commonly such as a second state of the term state is a series of a second and state the both the performance in the 1950s and 1990s and 1990s and the trains are the control of a p\n"
          ]
        },
        {
          "output_type": "stream",
          "name": "stderr",
          "text": [
            " 93%|█████████▎| 46694/50000 [07:33<00:29, 113.78it/s]"
          ]
        },
        {
          "output_type": "stream",
          "name": "stdout",
          "text": [
            "Loss: 1.353766951560974\n"
          ]
        },
        {
          "output_type": "stream",
          "name": "stderr",
          "text": [
            "\n",
            "  0%|          | 0/200 [00:00<?, ?it/s]\u001b[A\n",
            "100%|██████████| 200/200 [00:00<00:00, 1142.74it/s]"
          ]
        },
        {
          "output_type": "stream",
          "name": "stdout",
          "text": [
            " and the construction of the United States in the United States of the state of the Cape Verdean and order and the southern international and out of the majority of the computer services of the state o\n"
          ]
        },
        {
          "output_type": "stream",
          "name": "stderr",
          "text": [
            "\n",
            " 93%|█████████▎| 46749/50000 [07:34<00:29, 109.15it/s]"
          ]
        },
        {
          "output_type": "stream",
          "name": "stdout",
          "text": [
            "Loss: 1.3667109322547912\n"
          ]
        },
        {
          "output_type": "stream",
          "name": "stderr",
          "text": [
            "\n",
            "  0%|          | 0/200 [00:00<?, ?it/s]\u001b[A\n",
            "100%|██████████| 200/200 [00:00<00:00, 1183.85it/s]\n"
          ]
        },
        {
          "output_type": "stream",
          "name": "stdout",
          "text": [
            " and in the UK and considered the produced for the prosperity of the set of the service of the stations and the article in the site for the state and the production of the company and response the stat\n"
          ]
        },
        {
          "output_type": "stream",
          "name": "stderr",
          "text": [
            " 94%|█████████▎| 46792/50000 [07:34<00:30, 105.94it/s]"
          ]
        },
        {
          "output_type": "stream",
          "name": "stdout",
          "text": [
            "Loss: 1.3703612327575683\n"
          ]
        },
        {
          "output_type": "stream",
          "name": "stderr",
          "text": [
            "\n",
            "  0%|          | 0/200 [00:00<?, ?it/s]\u001b[A\n",
            "100%|██████████| 200/200 [00:00<00:00, 1410.44it/s]\n",
            " 94%|█████████▎| 46805/50000 [07:34<00:37, 84.28it/s] "
          ]
        },
        {
          "output_type": "stream",
          "name": "stdout",
          "text": [
            " in are historical services in the constitutions and construction of the provides the area is computer control and mathematical construction of the community problems and the largest processes in 2004,\n"
          ]
        },
        {
          "output_type": "stream",
          "name": "stderr",
          "text": [
            " 94%|█████████▎| 46836/50000 [07:35<00:28, 109.78it/s]"
          ]
        },
        {
          "output_type": "stream",
          "name": "stdout",
          "text": [
            "Loss: 1.3853761196136474\n"
          ]
        },
        {
          "output_type": "stream",
          "name": "stderr",
          "text": [
            "\n",
            "  0%|          | 0/200 [00:00<?, ?it/s]\u001b[A\n",
            "100%|██████████| 200/200 [00:00<00:00, 1283.95it/s]\n",
            " 94%|█████████▎| 46850/50000 [07:35<00:37, 83.38it/s] "
          ]
        },
        {
          "output_type": "stream",
          "name": "stdout",
          "text": [
            " and the media to explore the company in the Cape Verde and the Great the Indian and the Cape Verde has a specifically the control of the late 1970s and his confidence of the standard in the archipelag\n"
          ]
        },
        {
          "output_type": "stream",
          "name": "stderr",
          "text": [
            " 94%|█████████▍| 46891/50000 [07:35<00:28, 108.86it/s]"
          ]
        },
        {
          "output_type": "stream",
          "name": "stdout",
          "text": [
            "Loss: 1.3848462891578674\n"
          ]
        },
        {
          "output_type": "stream",
          "name": "stderr",
          "text": [
            "\n",
            "  0%|          | 0/200 [00:00<?, ?it/s]\u001b[A\n",
            "100%|██████████| 200/200 [00:00<00:00, 1391.14it/s]\n",
            " 94%|█████████▍| 46904/50000 [07:35<00:37, 83.61it/s] "
          ]
        },
        {
          "output_type": "stream",
          "name": "stdout",
          "text": [
            " and the designed to international and in the first companies of the process and the organizations with the second the company state and recombination of the most of the comments and an international c\n"
          ]
        },
        {
          "output_type": "stream",
          "name": "stderr",
          "text": [
            " 94%|█████████▍| 46946/50000 [07:36<00:27, 111.23it/s]"
          ]
        },
        {
          "output_type": "stream",
          "name": "stdout",
          "text": [
            "Loss: 1.3577967286109924\n"
          ]
        },
        {
          "output_type": "stream",
          "name": "stderr",
          "text": [
            "\n",
            "  0%|          | 0/200 [00:00<?, ?it/s]\u001b[A\n",
            "100%|██████████| 200/200 [00:00<00:00, 1156.67it/s]"
          ]
        },
        {
          "output_type": "stream",
          "name": "stdout",
          "text": [
            " and other response and continued to the trains and the article of the company of the proposed to the population and the computer from the state in the United States and the state and an active service\n"
          ]
        },
        {
          "output_type": "stream",
          "name": "stderr",
          "text": [
            "\n",
            " 94%|█████████▍| 46987/50000 [07:36<00:29, 101.16it/s]"
          ]
        },
        {
          "output_type": "stream",
          "name": "stdout",
          "text": [
            "Loss: 1.3606044507026673\n"
          ]
        },
        {
          "output_type": "stream",
          "name": "stderr",
          "text": [
            "\n",
            "  0%|          | 0/200 [00:00<?, ?it/s]\u001b[A\n",
            "100%|██████████| 200/200 [00:00<00:00, 1033.69it/s]"
          ]
        },
        {
          "output_type": "stream",
          "name": "stdout",
          "text": [
            " and and a management of the market of the state and and the country in the United States and the services and political standards and the construction of the set of the products and the products of th"
          ]
        },
        {
          "output_type": "stream",
          "name": "stderr",
          "text": [
            "\n",
            " 94%|█████████▍| 47013/50000 [07:37<00:35, 84.57it/s]"
          ]
        },
        {
          "output_type": "stream",
          "name": "stdout",
          "text": [
            "\n"
          ]
        },
        {
          "output_type": "stream",
          "name": "stderr",
          "text": [
            " 94%|█████████▍| 47041/50000 [07:37<00:27, 106.05it/s]"
          ]
        },
        {
          "output_type": "stream",
          "name": "stdout",
          "text": [
            "Loss: 1.3674881076812744\n"
          ]
        },
        {
          "output_type": "stream",
          "name": "stderr",
          "text": [
            "\n",
            "  0%|          | 0/200 [00:00<?, ?it/s]\u001b[A\n",
            "100%|██████████| 200/200 [00:00<00:00, 1250.06it/s]"
          ]
        },
        {
          "output_type": "stream",
          "name": "stdout",
          "text": [
            " and a second the second service control of a product and the state of the United States in the process and control of the construction of the result in the common of the produced by the the problem an\n"
          ]
        },
        {
          "output_type": "stream",
          "name": "stderr",
          "text": [
            "\n",
            " 94%|█████████▍| 47099/50000 [07:37<00:25, 114.83it/s]"
          ]
        },
        {
          "output_type": "stream",
          "name": "stdout",
          "text": [
            "Loss: 1.3694696593284608\n"
          ]
        },
        {
          "output_type": "stream",
          "name": "stderr",
          "text": [
            "\n",
            "  0%|          | 0/200 [00:00<?, ?it/s]\u001b[A\n",
            "100%|██████████| 200/200 [00:00<00:00, 1301.27it/s]\n"
          ]
        },
        {
          "output_type": "stream",
          "name": "stdout",
          "text": [
            " and in the most a most state and a find the southern service of the product process of the result to a set of computer service to the state of the processes of the process of the state of the internat\n"
          ]
        },
        {
          "output_type": "stream",
          "name": "stderr",
          "text": [
            " 94%|█████████▍| 47144/50000 [07:38<00:25, 110.48it/s]"
          ]
        },
        {
          "output_type": "stream",
          "name": "stdout",
          "text": [
            "Loss: 1.353804705142975\n"
          ]
        },
        {
          "output_type": "stream",
          "name": "stderr",
          "text": [
            "\n",
            "  0%|          | 0/200 [00:00<?, ?it/s]\u001b[A\n",
            "100%|██████████| 200/200 [00:00<00:00, 1166.65it/s]"
          ]
        },
        {
          "output_type": "stream",
          "name": "stdout",
          "text": [
            " and a population of the trains of the completed as a standards to a specific properties to a protection of the state of the position of the provides an experience of the trains and the companies and t\n"
          ]
        },
        {
          "output_type": "stream",
          "name": "stderr",
          "text": [
            "\n",
            " 94%|█████████▍| 47189/50000 [07:38<00:25, 108.95it/s]"
          ]
        },
        {
          "output_type": "stream",
          "name": "stdout",
          "text": [
            "Loss: 1.3734459447860718\n"
          ]
        },
        {
          "output_type": "stream",
          "name": "stderr",
          "text": [
            "\n",
            "  0%|          | 0/200 [00:00<?, ?it/s]\u001b[A\n",
            "100%|██████████| 200/200 [00:00<00:00, 1318.11it/s]\n",
            " 94%|█████████▍| 47202/50000 [07:38<00:32, 85.27it/s] "
          ]
        },
        {
          "output_type": "stream",
          "name": "stdout",
          "text": [
            " and have been a significant services are the services and the state in the first mathematical transportation of the most proposed systems and the end of the most some of the term more considered the c\n"
          ]
        },
        {
          "output_type": "stream",
          "name": "stderr",
          "text": [
            " 94%|█████████▍| 47234/50000 [07:39<00:24, 112.29it/s]"
          ]
        },
        {
          "output_type": "stream",
          "name": "stdout",
          "text": [
            "Loss: 1.3656532382965088\n"
          ]
        },
        {
          "output_type": "stream",
          "name": "stderr",
          "text": [
            "\n",
            "  0%|          | 0/200 [00:00<?, ?it/s]\u001b[A\n",
            "100%|██████████| 200/200 [00:00<00:00, 1211.17it/s]\n",
            " 94%|█████████▍| 47250/50000 [07:39<00:31, 86.63it/s] "
          ]
        },
        {
          "output_type": "stream",
          "name": "stdout",
          "text": [
            " and the southern services to be a series of the position of the state of the company of the based on the control of the state and production of the process and the provides a computer train to constru\n"
          ]
        },
        {
          "output_type": "stream",
          "name": "stderr",
          "text": [
            " 95%|█████████▍| 47297/50000 [07:39<00:22, 122.52it/s]"
          ]
        },
        {
          "output_type": "stream",
          "name": "stdout",
          "text": [
            "Loss: 1.3809831166267394\n"
          ]
        },
        {
          "output_type": "stream",
          "name": "stderr",
          "text": [
            "\n",
            "  0%|          | 0/200 [00:00<?, ?it/s]\u001b[A\n",
            "100%|██████████| 200/200 [00:00<00:00, 1336.05it/s]\n"
          ]
        },
        {
          "output_type": "stream",
          "name": "stdout",
          "text": [
            " intelligence of the products and the relationships and the produced the first the second of the standards and the state of the state of the state of the article of the television in the state of the s\n"
          ]
        },
        {
          "output_type": "stream",
          "name": "stderr",
          "text": [
            " 95%|█████████▍| 47342/50000 [07:40<00:22, 115.95it/s]"
          ]
        },
        {
          "output_type": "stream",
          "name": "stdout",
          "text": [
            "Loss: 1.365305643081665\n"
          ]
        },
        {
          "output_type": "stream",
          "name": "stderr",
          "text": [
            "\n",
            "  0%|          | 0/200 [00:00<?, ?it/s]\u001b[A\n",
            "100%|██████████| 200/200 [00:00<00:00, 1136.63it/s]"
          ]
        },
        {
          "output_type": "stream",
          "name": "stdout",
          "text": [
            " in 2013. In 2015, the Northern Station Constitution in the United States and Protection and the 2018 to 2010, the second and organizations are also an expression of the control of the second and only \n"
          ]
        },
        {
          "output_type": "stream",
          "name": "stderr",
          "text": [
            "\n",
            " 95%|█████████▍| 47387/50000 [07:40<00:23, 110.59it/s]"
          ]
        },
        {
          "output_type": "stream",
          "name": "stdout",
          "text": [
            "Loss: 1.3645331144332886\n"
          ]
        },
        {
          "output_type": "stream",
          "name": "stderr",
          "text": [
            "\n",
            "  0%|          | 0/200 [00:00<?, ?it/s]\u001b[A\n",
            "100%|██████████| 200/200 [00:00<00:00, 1277.64it/s]\n",
            " 95%|█████████▍| 47401/50000 [07:40<00:30, 86.25it/s] "
          ]
        },
        {
          "output_type": "stream",
          "name": "stdout",
          "text": [
            " and the article of the set of the state are often process and the companies and include the committees and second control of the Commons and the representation of the trains and the processes of the N\n"
          ]
        },
        {
          "output_type": "stream",
          "name": "stderr",
          "text": [
            " 95%|█████████▍| 47448/50000 [07:41<00:20, 123.03it/s]"
          ]
        },
        {
          "output_type": "stream",
          "name": "stdout",
          "text": [
            "Loss: 1.359901659488678\n"
          ]
        },
        {
          "output_type": "stream",
          "name": "stderr",
          "text": [
            "\n",
            "  0%|          | 0/200 [00:00<?, ?it/s]\u001b[A\n",
            "100%|██████████| 200/200 [00:00<00:00, 1210.41it/s]\n"
          ]
        },
        {
          "output_type": "stream",
          "name": "stdout",
          "text": [
            " in some community of the service of the train and services in the provides the state of the active or process of the services and experience of the Cape Verde of the Omni and the train and the standar\n"
          ]
        },
        {
          "output_type": "stream",
          "name": "stderr",
          "text": [
            " 95%|█████████▍| 47493/50000 [07:41<00:22, 113.08it/s]"
          ]
        },
        {
          "output_type": "stream",
          "name": "stdout",
          "text": [
            "Loss: 1.3749582862854004\n"
          ]
        },
        {
          "output_type": "stream",
          "name": "stderr",
          "text": [
            "\n",
            "  0%|          | 0/200 [00:00<?, ?it/s]\u001b[A\n",
            "100%|██████████| 200/200 [00:00<00:00, 1305.90it/s]"
          ]
        },
        {
          "output_type": "stream",
          "name": "stdout",
          "text": [
            " and a particular state of the Security Railway Court Santiago was a construction and a major production of the first Commons and a discoveries and workers and the state and explored in 1972. As of the\n"
          ]
        },
        {
          "output_type": "stream",
          "name": "stderr",
          "text": [
            "\n",
            " 95%|█████████▌| 47539/50000 [07:42<00:21, 112.79it/s]"
          ]
        },
        {
          "output_type": "stream",
          "name": "stdout",
          "text": [
            "Loss: 1.3484817814826966\n"
          ]
        },
        {
          "output_type": "stream",
          "name": "stderr",
          "text": [
            "\n",
            "  0%|          | 0/200 [00:00<?, ?it/s]\u001b[A\n",
            "100%|██████████| 200/200 [00:00<00:00, 1156.44it/s]"
          ]
        },
        {
          "output_type": "stream",
          "name": "stdout",
          "text": [
            " contraction of the companies and substance of the problems and services and other and control in the largest control of a state of the controller of the original international standards with the set o\n"
          ]
        },
        {
          "output_type": "stream",
          "name": "stderr",
          "text": [
            "\n",
            " 95%|█████████▌| 47584/50000 [07:42<00:22, 109.54it/s]"
          ]
        },
        {
          "output_type": "stream",
          "name": "stdout",
          "text": [
            "Loss: 1.3586723613739013\n"
          ]
        },
        {
          "output_type": "stream",
          "name": "stderr",
          "text": [
            "\n",
            "  0%|          | 0/200 [00:00<?, ?it/s]\u001b[A\n",
            "100%|██████████| 200/200 [00:00<00:00, 1352.04it/s]\n",
            " 95%|█████████▌| 47600/50000 [07:42<00:27, 88.57it/s] "
          ]
        },
        {
          "output_type": "stream",
          "name": "stdout",
          "text": [
            " and one of the first to be a contemporary end of the more provide an internet and represented the proposed to the seats of the first became the company of the served to be some common to a successful \n"
          ]
        },
        {
          "output_type": "stream",
          "name": "stderr",
          "text": [
            " 95%|█████████▌| 47647/50000 [07:43<00:19, 123.77it/s]"
          ]
        },
        {
          "output_type": "stream",
          "name": "stdout",
          "text": [
            "Loss: 1.3708132696151734\n"
          ]
        },
        {
          "output_type": "stream",
          "name": "stderr",
          "text": [
            "\n",
            "  0%|          | 0/200 [00:00<?, ?it/s]\u001b[A\n",
            "100%|██████████| 200/200 [00:00<00:00, 1251.70it/s]\n"
          ]
        },
        {
          "output_type": "stream",
          "name": "stdout",
          "text": [
            " and a similar to the company in the state and the highest production of the state of the state of the problems and the properties and the government and computing that the products to the particular s\n"
          ]
        },
        {
          "output_type": "stream",
          "name": "stderr",
          "text": [
            " 95%|█████████▌| 47694/50000 [07:43<00:20, 114.94it/s]"
          ]
        },
        {
          "output_type": "stream",
          "name": "stdout",
          "text": [
            "Loss: 1.3746624612808227\n"
          ]
        },
        {
          "output_type": "stream",
          "name": "stderr",
          "text": [
            "\n",
            "  0%|          | 0/200 [00:00<?, ?it/s]\u001b[A\n",
            "100%|██████████| 200/200 [00:00<00:00, 1197.38it/s]"
          ]
        },
        {
          "output_type": "stream",
          "name": "stdout",
          "text": [
            " A Level Grenada as the total of the state and a set of the control of a services on the security of the company and the standard and the standard in the first product and many of the state of the sout\n"
          ]
        },
        {
          "output_type": "stream",
          "name": "stderr",
          "text": [
            "\n",
            " 95%|█████████▌| 47740/50000 [07:44<00:20, 112.11it/s]"
          ]
        },
        {
          "output_type": "stream",
          "name": "stdout",
          "text": [
            "Loss: 1.3637146019935609\n"
          ]
        },
        {
          "output_type": "stream",
          "name": "stderr",
          "text": [
            "\n",
            "  0%|          | 0/200 [00:00<?, ?it/s]\u001b[A\n",
            "100%|██████████| 200/200 [00:00<00:00, 1231.15it/s]\n",
            " 96%|█████████▌| 47754/50000 [07:44<00:26, 85.60it/s] "
          ]
        },
        {
          "output_type": "stream",
          "name": "stdout",
          "text": [
            " and the state and the state of the production of the first state and many of the state of the standard and the services and the southern state and discoveries of the products that the control of the a\n"
          ]
        },
        {
          "output_type": "stream",
          "name": "stderr",
          "text": [
            " 96%|█████████▌| 47785/50000 [07:44<00:19, 111.23it/s]"
          ]
        },
        {
          "output_type": "stream",
          "name": "stdout",
          "text": [
            "Loss: 1.3635237312316895\n"
          ]
        },
        {
          "output_type": "stream",
          "name": "stderr",
          "text": [
            "\n",
            "  0%|          | 0/200 [00:00<?, ?it/s]\u001b[A\n",
            "100%|██████████| 200/200 [00:00<00:00, 1341.84it/s]\n",
            " 96%|█████████▌| 47800/50000 [07:44<00:24, 88.66it/s] "
          ]
        },
        {
          "output_type": "stream",
          "name": "stdout",
          "text": [
            " in the first to the bijection of the Cape Verdean control of the company of the article of the state and the controlled and and the station of the company and the promote the relationships of the end \n"
          ]
        },
        {
          "output_type": "stream",
          "name": "stderr",
          "text": [
            " 96%|█████████▌| 47847/50000 [07:45<00:17, 123.88it/s]"
          ]
        },
        {
          "output_type": "stream",
          "name": "stdout",
          "text": [
            "Loss: 1.3673843121528626\n"
          ]
        },
        {
          "output_type": "stream",
          "name": "stderr",
          "text": [
            "\n",
            "  0%|          | 0/200 [00:00<?, ?it/s]\u001b[A\n",
            "100%|██████████| 200/200 [00:00<00:00, 1304.44it/s]\n"
          ]
        },
        {
          "output_type": "stream",
          "name": "stdout",
          "text": [
            " and help in the United States and the service of the process with the state of the main completed to a suppliers of the recommended as a significant mathematical numbers of the proposed the standard o\n"
          ]
        },
        {
          "output_type": "stream",
          "name": "stderr",
          "text": [
            " 96%|█████████▌| 47893/50000 [07:45<00:18, 116.14it/s]"
          ]
        },
        {
          "output_type": "stream",
          "name": "stdout",
          "text": [
            "Loss: 1.3601093077659607\n"
          ]
        },
        {
          "output_type": "stream",
          "name": "stderr",
          "text": [
            "\n",
            "  0%|          | 0/200 [00:00<?, ?it/s]\u001b[A\n",
            "100%|██████████| 200/200 [00:00<00:00, 1339.59it/s]"
          ]
        },
        {
          "output_type": "stream",
          "name": "stdout",
          "text": [
            " to the common the process of the land and interest to the train of the common state and in the first countries and the largest many and mathematics in the state of the set of service and the state and\n"
          ]
        },
        {
          "output_type": "stream",
          "name": "stderr",
          "text": [
            "\n",
            " 96%|█████████▌| 47939/50000 [07:46<00:17, 115.08it/s]"
          ]
        },
        {
          "output_type": "stream",
          "name": "stdout",
          "text": [
            "Loss: 1.3716806364059448\n"
          ]
        },
        {
          "output_type": "stream",
          "name": "stderr",
          "text": [
            "\n",
            "  0%|          | 0/200 [00:00<?, ?it/s]\u001b[A\n",
            "100%|██████████| 200/200 [00:00<00:00, 1286.18it/s]\n",
            " 96%|█████████▌| 47953/50000 [07:46<00:23, 88.23it/s] "
          ]
        },
        {
          "output_type": "stream",
          "name": "stdout",
          "text": [
            " and social networking the state and a services and control the state in the company services and an example of the most population of the international state that the state of the United States and th\n"
          ]
        },
        {
          "output_type": "stream",
          "name": "stderr",
          "text": [
            " 96%|█████████▌| 47983/50000 [07:46<00:18, 110.55it/s]"
          ]
        },
        {
          "output_type": "stream",
          "name": "stdout",
          "text": [
            "Loss: 1.3597173285484314\n"
          ]
        },
        {
          "output_type": "stream",
          "name": "stderr",
          "text": [
            "\n",
            "  0%|          | 0/200 [00:00<?, ?it/s]\u001b[A\n",
            "100%|██████████| 200/200 [00:00<00:00, 1321.82it/s]\n",
            " 96%|█████████▌| 48000/50000 [07:46<00:22, 89.53it/s] "
          ]
        },
        {
          "output_type": "stream",
          "name": "stdout",
          "text": [
            " and the source of the line of the International Records of the United States in the United States and the result of the trains of the company support the most service for the computer services were su\n"
          ]
        },
        {
          "output_type": "stream",
          "name": "stderr",
          "text": [
            " 96%|█████████▌| 48048/50000 [07:47<00:15, 124.20it/s]"
          ]
        },
        {
          "output_type": "stream",
          "name": "stdout",
          "text": [
            "Loss: 1.3762615466117858\n"
          ]
        },
        {
          "output_type": "stream",
          "name": "stderr",
          "text": [
            "\n",
            "  0%|          | 0/200 [00:00<?, ?it/s]\u001b[A\n",
            "100%|██████████| 200/200 [00:00<00:00, 1097.96it/s]"
          ]
        },
        {
          "output_type": "stream",
          "name": "stdout",
          "text": [
            " and the products and the products of the most the protect in the production of the American and the Mariana and the Standard in the United States Cape Verde of the traditional state and international \n"
          ]
        },
        {
          "output_type": "stream",
          "name": "stderr",
          "text": [
            "\n",
            " 96%|█████████▌| 48088/50000 [07:47<00:18, 101.03it/s]"
          ]
        },
        {
          "output_type": "stream",
          "name": "stdout",
          "text": [
            "Loss: 1.3687323999404908\n"
          ]
        },
        {
          "output_type": "stream",
          "name": "stderr",
          "text": [
            "\n",
            "  0%|          | 0/200 [00:00<?, ?it/s]\u001b[A\n",
            "100%|██████████| 200/200 [00:00<00:00, 1011.00it/s]\n",
            " 96%|█████████▌| 48114/50000 [07:48<00:22, 83.17it/s]"
          ]
        },
        {
          "output_type": "stream",
          "name": "stdout",
          "text": [
            " and the product of the ability and computer speeds of the religious services and the state in the are the same of the provides the services to the religion in the United States to the Cape Verde is al\n"
          ]
        },
        {
          "output_type": "stream",
          "name": "stderr",
          "text": [
            " 96%|█████████▋| 48143/50000 [07:48<00:17, 106.22it/s]"
          ]
        },
        {
          "output_type": "stream",
          "name": "stdout",
          "text": [
            "Loss: 1.3803806853294374\n"
          ]
        },
        {
          "output_type": "stream",
          "name": "stderr",
          "text": [
            "\n",
            "  0%|          | 0/200 [00:00<?, ?it/s]\u001b[A\n",
            "100%|██████████| 200/200 [00:00<00:00, 1139.70it/s]"
          ]
        },
        {
          "output_type": "stream",
          "name": "stdout",
          "text": [
            " and the Cape Verde construction and the transformation of the state of the specific provide some of the second completed as a second state and protection of the state of the provide the seat and forme\n"
          ]
        },
        {
          "output_type": "stream",
          "name": "stderr",
          "text": [
            "\n",
            " 96%|█████████▋| 48187/50000 [07:48<00:17, 105.31it/s]"
          ]
        },
        {
          "output_type": "stream",
          "name": "stdout",
          "text": [
            "Loss: 1.3621464204788207\n"
          ]
        },
        {
          "output_type": "stream",
          "name": "stderr",
          "text": [
            "\n",
            "  0%|          | 0/200 [00:00<?, ?it/s]\u001b[A\n",
            "100%|██████████| 200/200 [00:00<00:00, 1140.71it/s]\n",
            " 96%|█████████▋| 48200/50000 [07:49<00:23, 76.91it/s] "
          ]
        },
        {
          "output_type": "stream",
          "name": "stdout",
          "text": [
            " and a computer specific the former from the primary many production of the state of the first and and the result of the control of the standards and the production of the most are also services and se\n"
          ]
        },
        {
          "output_type": "stream",
          "name": "stderr",
          "text": [
            " 96%|█████████▋| 48242/50000 [07:49<00:16, 105.62it/s]"
          ]
        },
        {
          "output_type": "stream",
          "name": "stdout",
          "text": [
            "Loss: 1.373705039024353\n"
          ]
        },
        {
          "output_type": "stream",
          "name": "stderr",
          "text": [
            "\n",
            "  0%|          | 0/200 [00:00<?, ?it/s]\u001b[A\n",
            "100%|██████████| 200/200 [00:00<00:00, 1089.05it/s]"
          ]
        },
        {
          "output_type": "stream",
          "name": "stdout",
          "text": [
            " and one of the production of the state that the person of the top speed of the first the first compare the set of the state the train in the company and contraction of the first state of the United St\n"
          ]
        },
        {
          "output_type": "stream",
          "name": "stderr",
          "text": [
            "\n",
            " 97%|█████████▋| 48285/50000 [07:49<00:16, 101.13it/s]"
          ]
        },
        {
          "output_type": "stream",
          "name": "stdout",
          "text": [
            "Loss: 1.3853212118148803\n"
          ]
        },
        {
          "output_type": "stream",
          "name": "stderr",
          "text": [
            "\n",
            "  0%|          | 0/200 [00:00<?, ?it/s]\u001b[A\n",
            "100%|██████████| 200/200 [00:00<00:00, 1022.31it/s]\n",
            " 97%|█████████▋| 48315/50000 [07:50<00:19, 88.03it/s]"
          ]
        },
        {
          "output_type": "stream",
          "name": "stdout",
          "text": [
            " and the company of the second contract of the result of the company results of the provides a second as a provides the company and the source of the company standards of the largest consistent and how\n"
          ]
        },
        {
          "output_type": "stream",
          "name": "stderr",
          "text": [
            " 97%|█████████▋| 48345/50000 [07:50<00:15, 110.19it/s]"
          ]
        },
        {
          "output_type": "stream",
          "name": "stdout",
          "text": [
            "Loss: 1.3679183006286622\n"
          ]
        },
        {
          "output_type": "stream",
          "name": "stderr",
          "text": [
            "\n",
            "  0%|          | 0/200 [00:00<?, ?it/s]\u001b[A\n",
            " 47%|████▋     | 94/200 [00:00<00:00, 933.08it/s]\u001b[A\n",
            "100%|██████████| 200/200 [00:00<00:00, 940.98it/s]\n",
            " 97%|█████████▋| 48373/50000 [07:50<00:18, 88.53it/s]"
          ]
        },
        {
          "output_type": "stream",
          "name": "stdout",
          "text": [
            " the company state and services and the control of a survey is a completed the state of the first companies are response to the standards by more than 10 of the complex and control of the base the firs\n"
          ]
        },
        {
          "output_type": "stream",
          "name": "stderr",
          "text": [
            "\r 97%|█████████▋| 48388/50000 [07:51<00:15, 101.02it/s]"
          ]
        },
        {
          "output_type": "stream",
          "name": "stdout",
          "text": [
            "Loss: 1.366204674243927\n"
          ]
        },
        {
          "output_type": "stream",
          "name": "stderr",
          "text": [
            "\n",
            "  0%|          | 0/200 [00:00<?, ?it/s]\u001b[A\n",
            "100%|██████████| 200/200 [00:00<00:00, 1278.62it/s]\n",
            " 97%|█████████▋| 48401/50000 [07:51<00:20, 79.70it/s] "
          ]
        },
        {
          "output_type": "stream",
          "name": "stdout",
          "text": [
            " and the state and the provide the recognized by the transportation of the country of the same and real number of social networking and the services and the state of the protection of the state of the \n"
          ]
        },
        {
          "output_type": "stream",
          "name": "stderr",
          "text": [
            " 97%|█████████▋| 48445/50000 [07:51<00:13, 113.57it/s]"
          ]
        },
        {
          "output_type": "stream",
          "name": "stdout",
          "text": [
            "Loss: 1.372618305683136\n"
          ]
        },
        {
          "output_type": "stream",
          "name": "stderr",
          "text": [
            "\n",
            "  0%|          | 0/200 [00:00<?, ?it/s]\u001b[A\n",
            "100%|██████████| 200/200 [00:00<00:00, 1281.08it/s]\n"
          ]
        },
        {
          "output_type": "stream",
          "name": "stdout",
          "text": [
            " in the authority of the companies in the United States and the state of the first and only the processing of the top speeds of the common and the proposed to a position of the control of the populatio\n"
          ]
        },
        {
          "output_type": "stream",
          "name": "stderr",
          "text": [
            " 97%|█████████▋| 48489/50000 [07:52<00:13, 109.27it/s]"
          ]
        },
        {
          "output_type": "stream",
          "name": "stdout",
          "text": [
            "Loss: 1.3788328552246094\n"
          ]
        },
        {
          "output_type": "stream",
          "name": "stderr",
          "text": [
            "\n",
            "  0%|          | 0/200 [00:00<?, ?it/s]\u001b[A\n",
            "100%|██████████| 200/200 [00:00<00:00, 1268.42it/s]\n",
            " 97%|█████████▋| 48502/50000 [07:52<00:17, 83.78it/s] "
          ]
        },
        {
          "output_type": "stream",
          "name": "stdout",
          "text": [
            " and the many of the most process of the transport of the first common state of the produce the state of the train in the result of the largest of the second of the services and the international many \n"
          ]
        },
        {
          "output_type": "stream",
          "name": "stderr",
          "text": [
            " 97%|█████████▋| 48548/50000 [07:52<00:12, 119.39it/s]"
          ]
        },
        {
          "output_type": "stream",
          "name": "stdout",
          "text": [
            "Loss: 1.3681572794914245\n"
          ]
        },
        {
          "output_type": "stream",
          "name": "stderr",
          "text": [
            "\n",
            "  0%|          | 0/200 [00:00<?, ?it/s]\u001b[A\n",
            "100%|██████████| 200/200 [00:00<00:00, 1357.05it/s]\n"
          ]
        },
        {
          "output_type": "stream",
          "name": "stdout",
          "text": [
            " and production of the centre and the community of the control to the United States of the Cape Verde is the service of both the substance of the state of the state of the state of the state of the sta\n"
          ]
        },
        {
          "output_type": "stream",
          "name": "stderr",
          "text": [
            " 97%|█████████▋| 48594/50000 [07:53<00:12, 116.46it/s]"
          ]
        },
        {
          "output_type": "stream",
          "name": "stdout",
          "text": [
            "Loss: 1.376539957523346\n"
          ]
        },
        {
          "output_type": "stream",
          "name": "stderr",
          "text": [
            "\n",
            "  0%|          | 0/200 [00:00<?, ?it/s]\u001b[A\n",
            "100%|██████████| 200/200 [00:00<00:00, 1254.14it/s]"
          ]
        },
        {
          "output_type": "stream",
          "name": "stdout",
          "text": [
            " is the are not a contemporary network in the recent on the United States with the same as the ancestry and a more than the transport of the product from the Cape Verde is a single state sites of the s\n"
          ]
        },
        {
          "output_type": "stream",
          "name": "stderr",
          "text": [
            "\n",
            " 97%|█████████▋| 48637/50000 [07:53<00:12, 109.10it/s]"
          ]
        },
        {
          "output_type": "stream",
          "name": "stdout",
          "text": [
            "Loss: 1.3631309509277343\n"
          ]
        },
        {
          "output_type": "stream",
          "name": "stderr",
          "text": [
            "\n",
            "  0%|          | 0/200 [00:00<?, ?it/s]\u001b[A\n",
            "100%|██████████| 200/200 [00:00<00:00, 1312.31it/s]\n",
            " 97%|█████████▋| 48650/50000 [07:53<00:16, 84.21it/s] "
          ]
        },
        {
          "output_type": "stream",
          "name": "stdout",
          "text": [
            " and the programs of the Victoria and the World American American organization of the Base of the Cape Verde has been a single trains and the state of the compared to a standard was a profile of the st\n"
          ]
        },
        {
          "output_type": "stream",
          "name": "stderr",
          "text": [
            " 97%|█████████▋| 48698/50000 [07:54<00:10, 121.93it/s]"
          ]
        },
        {
          "output_type": "stream",
          "name": "stdout",
          "text": [
            "Loss: 1.3680406379699708\n"
          ]
        },
        {
          "output_type": "stream",
          "name": "stderr",
          "text": [
            "\n",
            "  0%|          | 0/200 [00:00<?, ?it/s]\u001b[A\n",
            "100%|██████████| 200/200 [00:00<00:00, 1437.23it/s]\n"
          ]
        },
        {
          "output_type": "stream",
          "name": "stdout",
          "text": [
            " in the Cape Verdean control of the control of the set of the company and addition of the company of the source of the state and international particular services are also been a production of the book\n"
          ]
        },
        {
          "output_type": "stream",
          "name": "stderr",
          "text": [
            " 97%|█████████▋| 48743/50000 [07:54<00:10, 116.94it/s]"
          ]
        },
        {
          "output_type": "stream",
          "name": "stdout",
          "text": [
            "Loss: 1.35340966463089\n"
          ]
        },
        {
          "output_type": "stream",
          "name": "stderr",
          "text": [
            "\n",
            "  0%|          | 0/200 [00:00<?, ?it/s]\u001b[A\n",
            "100%|██████████| 200/200 [00:00<00:00, 1363.30it/s]\n",
            " 98%|█████████▊| 48757/50000 [07:54<00:13, 89.92it/s] "
          ]
        },
        {
          "output_type": "stream",
          "name": "stdout",
          "text": [
            " in a proposed a security and services in the many the state and the company of the country of the standard of the post of the process of the original state of the service to the prime the process is s\n"
          ]
        },
        {
          "output_type": "stream",
          "name": "stderr",
          "text": [
            " 98%|█████████▊| 48789/50000 [07:55<00:10, 114.48it/s]"
          ]
        },
        {
          "output_type": "stream",
          "name": "stdout",
          "text": [
            "Loss: 1.3704667639732362\n"
          ]
        },
        {
          "output_type": "stream",
          "name": "stderr",
          "text": [
            "\n",
            "  0%|          | 0/200 [00:00<?, ?it/s]\u001b[A\n",
            "100%|██████████| 200/200 [00:00<00:00, 1255.91it/s]\n",
            " 98%|█████████▊| 48803/50000 [07:55<00:13, 86.37it/s] "
          ]
        },
        {
          "output_type": "stream",
          "name": "stdout",
          "text": [
            " the company to the product of the process of the project of the first the computer control and seats of the original standards and the construction of the international state and social networking sta\n"
          ]
        },
        {
          "output_type": "stream",
          "name": "stderr",
          "text": [
            " 98%|█████████▊| 48835/50000 [07:55<00:10, 112.23it/s]"
          ]
        },
        {
          "output_type": "stream",
          "name": "stdout",
          "text": [
            "Loss: 1.3656769561767579\n"
          ]
        },
        {
          "output_type": "stream",
          "name": "stderr",
          "text": [
            "\n",
            "  0%|          | 0/200 [00:00<?, ?it/s]\u001b[A\n",
            "100%|██████████| 200/200 [00:00<00:00, 1374.27it/s]\n",
            " 98%|█████████▊| 48850/50000 [07:55<00:12, 89.59it/s] "
          ]
        },
        {
          "output_type": "stream",
          "name": "stdout",
          "text": [
            " and the state and the products and the second design and based on the international company of the first the computing in 2019. The control of the control to the common and population of the United St\n"
          ]
        },
        {
          "output_type": "stream",
          "name": "stderr",
          "text": [
            " 98%|█████████▊| 48898/50000 [07:56<00:08, 124.63it/s]"
          ]
        },
        {
          "output_type": "stream",
          "name": "stdout",
          "text": [
            "Loss: 1.364584515094757\n"
          ]
        },
        {
          "output_type": "stream",
          "name": "stderr",
          "text": [
            "\n",
            "  0%|          | 0/200 [00:00<?, ?it/s]\u001b[A\n",
            "100%|██████████| 200/200 [00:00<00:00, 1295.21it/s]\n"
          ]
        },
        {
          "output_type": "stream",
          "name": "stdout",
          "text": [
            " to designed to the state and control of a social networking significant the provide the archipelago and the process and the most and factors of the production of the archipelago are the seat of the pr\n"
          ]
        },
        {
          "output_type": "stream",
          "name": "stderr",
          "text": [
            " 98%|█████████▊| 48943/50000 [07:56<00:09, 115.56it/s]"
          ]
        },
        {
          "output_type": "stream",
          "name": "stdout",
          "text": [
            "Loss: 1.3644617128372192\n"
          ]
        },
        {
          "output_type": "stream",
          "name": "stderr",
          "text": [
            "\n",
            "  0%|          | 0/200 [00:00<?, ?it/s]\u001b[A\n",
            "100%|██████████| 200/200 [00:00<00:00, 1331.02it/s]"
          ]
        },
        {
          "output_type": "stream",
          "name": "stdout",
          "text": [
            " and the result to a form of the particular in the protect and the company of the American and the second or allow of the state and the archipelago and the position of the process and produced a set of\n"
          ]
        },
        {
          "output_type": "stream",
          "name": "stderr",
          "text": [
            "\n",
            " 98%|█████████▊| 48989/50000 [07:56<00:08, 114.28it/s]"
          ]
        },
        {
          "output_type": "stream",
          "name": "stdout",
          "text": [
            "Loss: 1.3679930996894836\n"
          ]
        },
        {
          "output_type": "stream",
          "name": "stderr",
          "text": [
            "\n",
            "  0%|          | 0/200 [00:00<?, ?it/s]\u001b[A\n",
            "100%|██████████| 200/200 [00:00<00:00, 1257.17it/s]\n",
            " 98%|█████████▊| 49003/50000 [07:57<00:11, 86.82it/s] "
          ]
        },
        {
          "output_type": "stream",
          "name": "stdout",
          "text": [
            " and a produced in the relationships and companies and services are born as a control of the southern the seat and the standard and a person. The trains of the company and the concept to the services i\n"
          ]
        },
        {
          "output_type": "stream",
          "name": "stderr",
          "text": [
            " 98%|█████████▊| 49035/50000 [07:57<00:08, 112.54it/s]"
          ]
        },
        {
          "output_type": "stream",
          "name": "stdout",
          "text": [
            "Loss: 1.3665549087524413\n"
          ]
        },
        {
          "output_type": "stream",
          "name": "stderr",
          "text": [
            "\n",
            "  0%|          | 0/200 [00:00<?, ?it/s]\u001b[A\n",
            "100%|██████████| 200/200 [00:00<00:00, 1330.69it/s]\n",
            " 98%|█████████▊| 49050/50000 [07:57<00:10, 89.13it/s] "
          ]
        },
        {
          "output_type": "stream",
          "name": "stdout",
          "text": [
            " and the state and the state of the company such as a state of the services in the original and extended to the religious of the archipelago and relatively are a state and the most and and state of the\n"
          ]
        },
        {
          "output_type": "stream",
          "name": "stderr",
          "text": [
            " 98%|█████████▊| 49098/50000 [07:58<00:07, 124.92it/s]"
          ]
        },
        {
          "output_type": "stream",
          "name": "stdout",
          "text": [
            "Loss: 1.3662452673912049\n"
          ]
        },
        {
          "output_type": "stream",
          "name": "stderr",
          "text": [
            "\n",
            "  0%|          | 0/200 [00:00<?, ?it/s]\u001b[A\n",
            "100%|██████████| 200/200 [00:00<00:00, 1285.99it/s]\n"
          ]
        },
        {
          "output_type": "stream",
          "name": "stdout",
          "text": [
            " and control to the United States and the American and the Northern Cape Verdean English and South American Reduction and March 2016 the new social networking systems that the result of a survey and th\n"
          ]
        },
        {
          "output_type": "stream",
          "name": "stderr",
          "text": [
            " 98%|█████████▊| 49144/50000 [07:58<00:07, 114.57it/s]"
          ]
        },
        {
          "output_type": "stream",
          "name": "stdout",
          "text": [
            "Loss: 1.364622654914856\n"
          ]
        },
        {
          "output_type": "stream",
          "name": "stderr",
          "text": [
            "\n",
            "  0%|          | 0/200 [00:00<?, ?it/s]\u001b[A\n",
            "100%|██████████| 200/200 [00:00<00:00, 1307.33it/s]\n"
          ]
        },
        {
          "output_type": "stream",
          "name": "stdout",
          "text": [
            " and the transportation of the set and not only a set of companies and the second the international services and the same religious services and the result of the country is a significant services of t\n"
          ]
        },
        {
          "output_type": "stream",
          "name": "stderr",
          "text": [
            " 98%|█████████▊| 49189/50000 [07:58<00:07, 113.03it/s]"
          ]
        },
        {
          "output_type": "stream",
          "name": "stdout",
          "text": [
            "Loss: 1.3757120156288147\n"
          ]
        },
        {
          "output_type": "stream",
          "name": "stderr",
          "text": [
            "\n",
            "  0%|          | 0/200 [00:00<?, ?it/s]\u001b[A\n",
            "100%|██████████| 200/200 [00:00<00:00, 1196.96it/s]\n",
            " 98%|█████████▊| 49203/50000 [07:59<00:09, 85.42it/s] "
          ]
        },
        {
          "output_type": "stream",
          "name": "stdout",
          "text": [
            " in the project and state and an important standard and production of a companies of the United States of the first the control of the state and a state and the standard and an and the cases of an inte\n"
          ]
        },
        {
          "output_type": "stream",
          "name": "stderr",
          "text": [
            " 98%|█████████▊| 49249/50000 [07:59<00:06, 118.85it/s]"
          ]
        },
        {
          "output_type": "stream",
          "name": "stdout",
          "text": [
            "Loss: 1.3775859832763673\n"
          ]
        },
        {
          "output_type": "stream",
          "name": "stderr",
          "text": [
            "\n",
            "  0%|          | 0/200 [00:00<?, ?it/s]\u001b[A\n",
            "100%|██████████| 200/200 [00:00<00:00, 1357.19it/s]\n"
          ]
        },
        {
          "output_type": "stream",
          "name": "stdout",
          "text": [
            " in the process that he and activities that the development of the construction of the standard of the considered the ancestry of the second methods of the traditional common and the same media and the\n"
          ]
        },
        {
          "output_type": "stream",
          "name": "stderr",
          "text": [
            " 99%|█████████▊| 49295/50000 [07:59<00:06, 115.31it/s]"
          ]
        },
        {
          "output_type": "stream",
          "name": "stdout",
          "text": [
            "Loss: 1.365335121154785\n"
          ]
        },
        {
          "output_type": "stream",
          "name": "stderr",
          "text": [
            "\n",
            "  0%|          | 0/200 [00:00<?, ?it/s]\u001b[A\n",
            "100%|██████████| 200/200 [00:00<00:00, 1207.96it/s]"
          ]
        },
        {
          "output_type": "stream",
          "name": "stdout",
          "text": [
            " and second completely that \"the problems and individuals are provide the process to the product to the state and process of the location of the communication and the proposal and approach to a company\n"
          ]
        },
        {
          "output_type": "stream",
          "name": "stderr",
          "text": [
            "\n",
            " 99%|█████████▊| 49340/50000 [08:00<00:05, 110.71it/s]"
          ]
        },
        {
          "output_type": "stream",
          "name": "stdout",
          "text": [
            "Loss: 1.3705762791633607\n"
          ]
        },
        {
          "output_type": "stream",
          "name": "stderr",
          "text": [
            "\n",
            "  0%|          | 0/200 [00:00<?, ?it/s]\u001b[A\n",
            "100%|██████████| 200/200 [00:00<00:00, 1326.83it/s]\n",
            " 99%|█████████▊| 49354/50000 [08:00<00:07, 86.97it/s] "
          ]
        },
        {
          "output_type": "stream",
          "name": "stdout",
          "text": [
            " and a company and the considered the international services and the state and the process of the first company of the set of social networking and subsequent production of the services and product of \n"
          ]
        },
        {
          "output_type": "stream",
          "name": "stderr",
          "text": [
            " 99%|█████████▉| 49398/50000 [08:01<00:05, 116.71it/s]"
          ]
        },
        {
          "output_type": "stream",
          "name": "stdout",
          "text": [
            "Loss: 1.3617495203018188\n"
          ]
        },
        {
          "output_type": "stream",
          "name": "stderr",
          "text": [
            "\n",
            "  0%|          | 0/200 [00:00<?, ?it/s]\u001b[A\n",
            "100%|██████████| 200/200 [00:00<00:00, 1134.86it/s]"
          ]
        },
        {
          "output_type": "stream",
          "name": "stdout",
          "text": [
            " and the common trains for the state and the state and the common and state of the services and services and the proposed to process that the basic distribution of the state and the community and the m\n"
          ]
        },
        {
          "output_type": "stream",
          "name": "stderr",
          "text": [
            "\n",
            " 99%|█████████▉| 49442/50000 [08:01<00:05, 106.03it/s]"
          ]
        },
        {
          "output_type": "stream",
          "name": "stdout",
          "text": [
            "Loss: 1.3733432388305664\n"
          ]
        },
        {
          "output_type": "stream",
          "name": "stderr",
          "text": [
            "\n",
            "  0%|          | 0/200 [00:00<?, ?it/s]\u001b[A\n",
            "100%|██████████| 200/200 [00:00<00:00, 1222.15it/s]"
          ]
        },
        {
          "output_type": "stream",
          "name": "stdout",
          "text": [
            " and the south and services and a production of the argues a control of a provide a discovered and the article of the product of the most control of a top speeds of the contractors and the concept in t\n"
          ]
        },
        {
          "output_type": "stream",
          "name": "stderr",
          "text": [
            "\n",
            " 99%|█████████▉| 49485/50000 [08:02<00:05, 102.78it/s]"
          ]
        },
        {
          "output_type": "stream",
          "name": "stdout",
          "text": [
            "Loss: 1.3746923828125\n"
          ]
        },
        {
          "output_type": "stream",
          "name": "stderr",
          "text": [
            "\n",
            "  0%|          | 0/200 [00:00<?, ?it/s]\u001b[A\n",
            "100%|██████████| 200/200 [00:00<00:00, 1057.67it/s]\n",
            " 99%|█████████▉| 49500/50000 [08:02<00:06, 77.33it/s] "
          ]
        },
        {
          "output_type": "stream",
          "name": "stdout",
          "text": [
            " and the control to the products of the southern products that the production in the United States to a specific and the control of a power of the services of the company and the company is the results\n"
          ]
        },
        {
          "output_type": "stream",
          "name": "stderr",
          "text": [
            " 99%|█████████▉| 49545/50000 [08:02<00:04, 111.77it/s]"
          ]
        },
        {
          "output_type": "stream",
          "name": "stdout",
          "text": [
            "Loss: 1.3699927949905395\n"
          ]
        },
        {
          "output_type": "stream",
          "name": "stderr",
          "text": [
            "\n",
            "  0%|          | 0/200 [00:00<?, ?it/s]\u001b[A\n",
            "100%|██████████| 200/200 [00:00<00:00, 1091.00it/s]"
          ]
        },
        {
          "output_type": "stream",
          "name": "stdout",
          "text": [
            " and the community of the products. The product of the state of the United States of the company and not for the community for the product of the services of the state of the United States and the trai\n"
          ]
        },
        {
          "output_type": "stream",
          "name": "stderr",
          "text": [
            "\n",
            " 99%|█████████▉| 49588/50000 [08:03<00:04, 101.57it/s]"
          ]
        },
        {
          "output_type": "stream",
          "name": "stdout",
          "text": [
            "Loss: 1.3572471618652344\n"
          ]
        },
        {
          "output_type": "stream",
          "name": "stderr",
          "text": [
            "\n",
            "  0%|          | 0/200 [00:00<?, ?it/s]\u001b[A\n",
            "100%|██████████| 200/200 [00:00<00:00, 1089.46it/s]\n",
            " 99%|█████████▉| 49616/50000 [08:03<00:04, 88.15it/s]"
          ]
        },
        {
          "output_type": "stream",
          "name": "stdout",
          "text": [
            " and other widely and a communications of the transportation of the process and construction of the process that in the population for the result of the services and a content of the European and the c\n"
          ]
        },
        {
          "output_type": "stream",
          "name": "stderr",
          "text": [
            " 99%|█████████▉| 49643/50000 [08:03<00:03, 106.15it/s]"
          ]
        },
        {
          "output_type": "stream",
          "name": "stdout",
          "text": [
            "Loss: 1.373448293209076\n"
          ]
        },
        {
          "output_type": "stream",
          "name": "stderr",
          "text": [
            "\n",
            "  0%|          | 0/200 [00:00<?, ?it/s]\u001b[A\n",
            "100%|██████████| 200/200 [00:00<00:00, 1133.45it/s]"
          ]
        },
        {
          "output_type": "stream",
          "name": "stdout",
          "text": [
            " and find the state of the companies and the most comparison of the company of the state and process of the computer services of the control of a many regional terms of the service and the communicatio\n"
          ]
        },
        {
          "output_type": "stream",
          "name": "stderr",
          "text": [
            "\n",
            " 99%|█████████▉| 49696/50000 [08:04<00:02, 101.78it/s]"
          ]
        },
        {
          "output_type": "stream",
          "name": "stdout",
          "text": [
            "Loss: 1.3576149940490723\n"
          ]
        },
        {
          "output_type": "stream",
          "name": "stderr",
          "text": [
            "\n",
            "  0%|          | 0/200 [00:00<?, ?it/s]\u001b[A\n",
            "100%|██████████| 200/200 [00:00<00:00, 1187.16it/s]"
          ]
        },
        {
          "output_type": "stream",
          "name": "stdout",
          "text": [
            " the company and services and also and international state of the protection of the state and game consistent in the local and states that the company became the first control of the world and the comp\n"
          ]
        },
        {
          "output_type": "stream",
          "name": "stderr",
          "text": [
            "\n",
            " 99%|█████████▉| 49738/50000 [08:04<00:02, 102.98it/s]"
          ]
        },
        {
          "output_type": "stream",
          "name": "stdout",
          "text": [
            "Loss: 1.3573462295532226\n"
          ]
        },
        {
          "output_type": "stream",
          "name": "stderr",
          "text": [
            "\n",
            "  0%|          | 0/200 [00:00<?, ?it/s]\u001b[A\n",
            "100%|██████████| 200/200 [00:00<00:00, 1317.39it/s]\n",
            "100%|█████████▉| 49751/50000 [08:05<00:03, 80.61it/s] "
          ]
        },
        {
          "output_type": "stream",
          "name": "stdout",
          "text": [
            " and the experience social networking and former and an activities are also response that the communities are a proposed to the development of the company and the standard to the state of the process o\n"
          ]
        },
        {
          "output_type": "stream",
          "name": "stderr",
          "text": [
            "100%|█████████▉| 49797/50000 [08:05<00:01, 116.83it/s]"
          ]
        },
        {
          "output_type": "stream",
          "name": "stdout",
          "text": [
            "Loss: 1.349217839241028\n"
          ]
        },
        {
          "output_type": "stream",
          "name": "stderr",
          "text": [
            "\n",
            "  0%|          | 0/200 [00:00<?, ?it/s]\u001b[A\n",
            "100%|██████████| 200/200 [00:00<00:00, 1288.69it/s]\n"
          ]
        },
        {
          "output_type": "stream",
          "name": "stdout",
          "text": [
            " and the computer fire to the continued in the United States and the state in the concept of the state of the United States and the term areas and the state and control of the result of the second larg\n"
          ]
        },
        {
          "output_type": "stream",
          "name": "stderr",
          "text": [
            "100%|█████████▉| 49843/50000 [08:05<00:01, 113.22it/s]"
          ]
        },
        {
          "output_type": "stream",
          "name": "stdout",
          "text": [
            "Loss: 1.3606184792518616\n"
          ]
        },
        {
          "output_type": "stream",
          "name": "stderr",
          "text": [
            "\n",
            "  0%|          | 0/200 [00:00<?, ?it/s]\u001b[A\n",
            "100%|██████████| 200/200 [00:00<00:00, 1377.33it/s]\n",
            "100%|█████████▉| 49857/50000 [08:06<00:01, 88.19it/s] "
          ]
        },
        {
          "output_type": "stream",
          "name": "stdout",
          "text": [
            " in 1978, the Counting of the China Anto and the United States and the National Definition of Cape Verde schools and an extraction of the position of the Cape Verde is the country of the service of the\n"
          ]
        },
        {
          "output_type": "stream",
          "name": "stderr",
          "text": [
            "100%|█████████▉| 49888/50000 [08:06<00:00, 112.63it/s]"
          ]
        },
        {
          "output_type": "stream",
          "name": "stdout",
          "text": [
            "Loss: 1.366964271068573\n"
          ]
        },
        {
          "output_type": "stream",
          "name": "stderr",
          "text": [
            "\n",
            "  0%|          | 0/200 [00:00<?, ?it/s]\u001b[A\n",
            "100%|██████████| 200/200 [00:00<00:00, 1144.53it/s]\n",
            "100%|█████████▉| 49902/50000 [08:06<00:01, 84.33it/s] "
          ]
        },
        {
          "output_type": "stream",
          "name": "stdout",
          "text": [
            " and the standard of the seat the provided as a construction and the first process that the state and end of the state of the company of the product of the recognized to the distributed and social netw\n"
          ]
        },
        {
          "output_type": "stream",
          "name": "stderr",
          "text": [
            "100%|█████████▉| 49934/50000 [08:06<00:00, 110.33it/s]"
          ]
        },
        {
          "output_type": "stream",
          "name": "stdout",
          "text": [
            "Loss: 1.361476571559906\n"
          ]
        },
        {
          "output_type": "stream",
          "name": "stderr",
          "text": [
            "\n",
            "  0%|          | 0/200 [00:00<?, ?it/s]\u001b[A\n",
            "100%|██████████| 200/200 [00:00<00:00, 1265.59it/s]\n",
            "100%|█████████▉| 49950/50000 [08:07<00:00, 87.51it/s] "
          ]
        },
        {
          "output_type": "stream",
          "name": "stdout",
          "text": [
            " and the services of the state and population of the United States of the international leaders and the set of the designed to the second and portons and all an international standard and the same in t\n"
          ]
        },
        {
          "output_type": "stream",
          "name": "stderr",
          "text": [
            "100%|█████████▉| 49997/50000 [08:07<00:00, 122.85it/s]"
          ]
        },
        {
          "output_type": "stream",
          "name": "stdout",
          "text": [
            "Loss: 1.3586555790901185\n"
          ]
        },
        {
          "output_type": "stream",
          "name": "stderr",
          "text": [
            "\n",
            "  0%|          | 0/200 [00:00<?, ?it/s]\u001b[A\n",
            "100%|██████████| 200/200 [00:00<00:00, 1179.93it/s]\n",
            "100%|██████████| 50000/50000 [08:07<00:00, 102.55it/s]"
          ]
        },
        {
          "output_type": "stream",
          "name": "stdout",
          "text": [
            " in a state of the content of the state and community and the constructed to the first financial state of the production of the term the companies in the state of the control of the term and the second\n"
          ]
        },
        {
          "output_type": "stream",
          "name": "stderr",
          "text": [
            "\n"
          ]
        }
      ],
      "source": [
        "device = torch.device('cuda') if torch.cuda.is_available() else torch.device('cpu')\n",
        "model = TextRNN(input_size=len(idx_to_char), hidden_size=128, embedding_size=128, n_layers=2)\n",
        "model.to(device)\n",
        "\n",
        "criterion = nn.CrossEntropyLoss()\n",
        "optimizer = torch.optim.Adam(model.parameters(), lr=1e-2, amsgrad=True)\n",
        "scheduler = torch.optim.lr_scheduler.ReduceLROnPlateau(\n",
        "    optimizer,\n",
        "    patience=5,\n",
        "    verbose=True,\n",
        "    factor=0.5\n",
        ")\n",
        "\n",
        "n_epochs = 50000\n",
        "loss_avg = []\n",
        "\n",
        "for epoch in tqdm(range(n_epochs)):\n",
        "    model.train()\n",
        "    train, target = get_batch(sequence)\n",
        "    train = train.permute(1, 0, 2).to(device)\n",
        "    target = target.permute(1, 0, 2).to(device)\n",
        "    hidden = model.init_hidden(BATCH_SIZE)\n",
        "\n",
        "    output, hidden = model(train, hidden)\n",
        "    loss = criterion(output.permute(1, 2, 0), target.squeeze(-1).permute(1, 0))\n",
        "\n",
        "    loss.backward()\n",
        "    optimizer.step()\n",
        "    optimizer.zero_grad()\n",
        "\n",
        "    loss_avg.append(loss.item())\n",
        "    if len(loss_avg) >= 50:\n",
        "        mean_loss = np.mean(loss_avg)\n",
        "        print(f'Loss: {mean_loss}')\n",
        "        scheduler.step(mean_loss)\n",
        "        loss_avg = []\n",
        "        model.eval()\n",
        "        predicted_text = evaluate(model, char_to_idx, idx_to_char)\n",
        "        print(predicted_text)"
      ]
    },
    {
      "cell_type": "code",
      "execution_count": 17,
      "metadata": {
        "colab": {
          "base_uri": "https://localhost:8080/"
        },
        "id": "GVVau7BwaKQy",
        "outputId": "1030b1c6-7b03-40f9-d66d-ff2527e660cf"
      },
      "outputs": [
        {
          "output_type": "stream",
          "name": "stderr",
          "text": [
            "100%|██████████| 100/100 [00:00<00:00, 1344.43it/s]"
          ]
        },
        {
          "output_type": "stream",
          "name": "stdout",
          "text": [
            "Math is A 2. A Still Premist in 2013. Greek Community Trains 1986. All Santo Messe Party was published in St\n"
          ]
        },
        {
          "output_type": "stream",
          "name": "stderr",
          "text": [
            "\n"
          ]
        }
      ],
      "source": [
        "model.eval()\n",
        "\n",
        "torch.save(model.state_dict(), \"text_rnn.pth\")\n",
        "\n",
        "print(evaluate(\n",
        "    model,\n",
        "    char_to_idx,\n",
        "    idx_to_char,\n",
        "    temp=0.8,\n",
        "    prediction_len=100,\n",
        "    start_text='Math is '\n",
        "    )\n",
        ")"
      ]
    }
  ],
  "metadata": {
    "kernelspec": {
      "display_name": "Python 3",
      "name": "python3"
    },
    "language_info": {
      "codemirror_mode": {
        "name": "ipython",
        "version": 3
      },
      "file_extension": ".py",
      "mimetype": "text/x-python",
      "name": "python",
      "nbconvert_exporter": "python",
      "pygments_lexer": "ipython3",
      "version": "3.7.6"
    },
    "colab": {
      "provenance": [],
      "gpuType": "T4"
    },
    "accelerator": "GPU"
  },
  "nbformat": 4,
  "nbformat_minor": 0
}